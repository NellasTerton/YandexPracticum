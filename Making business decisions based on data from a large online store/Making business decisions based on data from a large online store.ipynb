{
 "cells": [
  {
   "cell_type": "markdown",
   "metadata": {},
   "source": [
    "## Принятие решений в бизнесе на основе данных крупного интернет-магазина\n",
    "**Задача:** Приоритезация гипотез по увеличению выручки. Запуск A/B-теста и анализ результатов.<br>\n",
    "<br>\n",
    "**План работы:**\n",
    "1. Открыть файл с гипотезами.<br>\n",
    "2. Подготовить данные (изучить данные, проверить типы данных на корректность)<br>\n",
    "3. Применить фреймворки:\n",
    "- ICE для приоритизации гипотез. Отсортировать их по убыванию приоритета.\n",
    "- RICE для приоритизации гипотез. Отсортировать их по убыванию приоритета.\n",
    "- Укажите, как изменилась приоритизация гипотез при применении RICE вместо ICE. Объяснить, почему так произошло.\n",
    "<br>\n",
    "4. Открыть файлы с результатами A/B теста.\n",
    "5. Проанализируйте A/B-тест:\n",
    "- Построить график кумулятивной выручки по группам. \n",
    "- Построить график кумулятивного среднего чека по группам.\n",
    "- Построить график относительного изменения кумулятивного среднего чека группы B к группе A.\n",
    "- Построить график кумулятивного среднего количества заказов по группам.\n",
    "- Построить график относительного изменения кумулятивного среднего количества заказов группы B к группе A.\n",
    "- Построить точечный график количества заказов по пользователям.\n",
    "- Посчитать 95-й и 99-й перцентили количества заказов на пользователя. Выбрать границу для определения аномальных пользователей.\n",
    "- Построить точечный график стоимостей заказов.\n",
    "- Посчитать 95-й и 99-й перцентили стоимости заказов. Выбрать границу для определения аномальных заказов.\n",
    "- Посчитать статистическую значимость различий в среднем количестве заказов между группами по «сырым» данным.\n",
    "- Посчитать статистическую значимость различий в среднем чеке заказа между группами по «сырым» данным.\n",
    "- Посчитать статистическую значимость различий в среднем количестве заказов между группами по «очищенным» данным.\n",
    "- Посчитать статистическую значимость различий в среднем чеке заказа между группами по «очищенным» данным.\n",
    "6. Принять решение по результатам теста и объяснить его.\n",
    "\n",
    "**Описание данных:**<br>\n",
    "Для первой части (файл hypothesis.csv):\n",
    "- Hypothesis — краткое описание гипотезы\n",
    "- Reach — охват пользователей по 10-балльной шкале\n",
    "- Impact — влияние на пользователей по 10-балльной шкале\n",
    "- Confidence — уверенность в гипотезе по 10-балльной шкале\n",
    "- Efforts — затраты ресурсов на проверку гипотезы по 10-балльной шкале\n",
    "\n",
    "Для второй части (файлы orders.csv и visitors.csv):\n",
    "- transactionId — идентификатор заказа\n",
    "- visitorId — идентификатор пользователя, совершившего заказ\n",
    "- date — дата, когда был совершён заказ\n",
    "- revenue — выручка заказа\n",
    "- group — группа A/B-теста, в которую попал заказ\n",
    "- visitors — количество пользователей в указанную дату в указанной группе A/B-теста"
   ]
  },
  {
   "cell_type": "markdown",
   "metadata": {},
   "source": [
    "Для начала импортируем нужные библиотеки:"
   ]
  },
  {
   "cell_type": "code",
   "execution_count": 1,
   "metadata": {},
   "outputs": [],
   "source": [
    "# импорт библиотек\n",
    "import pandas as pd\n",
    "import datetime as dt\n",
    "import numpy as np\n",
    "import matplotlib.pyplot as plt\n",
    "from datetime import datetime, timedelta\n",
    "import scipy.stats as stats"
   ]
  },
  {
   "cell_type": "markdown",
   "metadata": {},
   "source": [
    "## Изучение данных\n",
    "\n",
    "Откроем и изучим данные о гипотезах:"
   ]
  },
  {
   "cell_type": "code",
   "execution_count": 2,
   "metadata": {},
   "outputs": [
    {
     "data": {
      "text/html": [
       "<div>\n",
       "<style scoped>\n",
       "    .dataframe tbody tr th:only-of-type {\n",
       "        vertical-align: middle;\n",
       "    }\n",
       "\n",
       "    .dataframe tbody tr th {\n",
       "        vertical-align: top;\n",
       "    }\n",
       "\n",
       "    .dataframe thead th {\n",
       "        text-align: right;\n",
       "    }\n",
       "</style>\n",
       "<table border=\"1\" class=\"dataframe\">\n",
       "  <thead>\n",
       "    <tr style=\"text-align: right;\">\n",
       "      <th></th>\n",
       "      <th>Hypothesis</th>\n",
       "      <th>Reach</th>\n",
       "      <th>Impact</th>\n",
       "      <th>Confidence</th>\n",
       "      <th>Efforts</th>\n",
       "    </tr>\n",
       "  </thead>\n",
       "  <tbody>\n",
       "    <tr>\n",
       "      <th>0</th>\n",
       "      <td>Добавить два новых канала привлечения трафика,...</td>\n",
       "      <td>3</td>\n",
       "      <td>10</td>\n",
       "      <td>8</td>\n",
       "      <td>6</td>\n",
       "    </tr>\n",
       "    <tr>\n",
       "      <th>1</th>\n",
       "      <td>Запустить собственную службу доставки, что сок...</td>\n",
       "      <td>2</td>\n",
       "      <td>5</td>\n",
       "      <td>4</td>\n",
       "      <td>10</td>\n",
       "    </tr>\n",
       "    <tr>\n",
       "      <th>2</th>\n",
       "      <td>Добавить блоки рекомендаций товаров на сайт ин...</td>\n",
       "      <td>8</td>\n",
       "      <td>3</td>\n",
       "      <td>7</td>\n",
       "      <td>3</td>\n",
       "    </tr>\n",
       "    <tr>\n",
       "      <th>3</th>\n",
       "      <td>Изменить структура категорий, что увеличит кон...</td>\n",
       "      <td>8</td>\n",
       "      <td>3</td>\n",
       "      <td>3</td>\n",
       "      <td>8</td>\n",
       "    </tr>\n",
       "    <tr>\n",
       "      <th>4</th>\n",
       "      <td>Изменить цвет фона главной страницы, чтобы уве...</td>\n",
       "      <td>3</td>\n",
       "      <td>1</td>\n",
       "      <td>1</td>\n",
       "      <td>1</td>\n",
       "    </tr>\n",
       "    <tr>\n",
       "      <th>5</th>\n",
       "      <td>Добавить страницу отзывов клиентов о магазине,...</td>\n",
       "      <td>3</td>\n",
       "      <td>2</td>\n",
       "      <td>2</td>\n",
       "      <td>3</td>\n",
       "    </tr>\n",
       "    <tr>\n",
       "      <th>6</th>\n",
       "      <td>Показать на главной странице баннеры с актуаль...</td>\n",
       "      <td>5</td>\n",
       "      <td>3</td>\n",
       "      <td>8</td>\n",
       "      <td>3</td>\n",
       "    </tr>\n",
       "    <tr>\n",
       "      <th>7</th>\n",
       "      <td>Добавить форму подписки на все основные страни...</td>\n",
       "      <td>10</td>\n",
       "      <td>7</td>\n",
       "      <td>8</td>\n",
       "      <td>5</td>\n",
       "    </tr>\n",
       "    <tr>\n",
       "      <th>8</th>\n",
       "      <td>Запустить акцию, дающую скидку на товар в день...</td>\n",
       "      <td>1</td>\n",
       "      <td>9</td>\n",
       "      <td>9</td>\n",
       "      <td>5</td>\n",
       "    </tr>\n",
       "  </tbody>\n",
       "</table>\n",
       "</div>"
      ],
      "text/plain": [
       "                                          Hypothesis  Reach  Impact  \\\n",
       "0  Добавить два новых канала привлечения трафика,...      3      10   \n",
       "1  Запустить собственную службу доставки, что сок...      2       5   \n",
       "2  Добавить блоки рекомендаций товаров на сайт ин...      8       3   \n",
       "3  Изменить структура категорий, что увеличит кон...      8       3   \n",
       "4  Изменить цвет фона главной страницы, чтобы уве...      3       1   \n",
       "5  Добавить страницу отзывов клиентов о магазине,...      3       2   \n",
       "6  Показать на главной странице баннеры с актуаль...      5       3   \n",
       "7  Добавить форму подписки на все основные страни...     10       7   \n",
       "8  Запустить акцию, дающую скидку на товар в день...      1       9   \n",
       "\n",
       "   Confidence  Efforts  \n",
       "0           8        6  \n",
       "1           4       10  \n",
       "2           7        3  \n",
       "3           3        8  \n",
       "4           1        1  \n",
       "5           2        3  \n",
       "6           8        3  \n",
       "7           8        5  \n",
       "8           9        5  "
      ]
     },
     "metadata": {},
     "output_type": "display_data"
    },
    {
     "name": "stdout",
     "output_type": "stream",
     "text": [
      "<class 'pandas.core.frame.DataFrame'>\n",
      "RangeIndex: 9 entries, 0 to 8\n",
      "Data columns (total 5 columns):\n",
      " #   Column      Non-Null Count  Dtype \n",
      "---  ------      --------------  ----- \n",
      " 0   Hypothesis  9 non-null      object\n",
      " 1   Reach       9 non-null      int64 \n",
      " 2   Impact      9 non-null      int64 \n",
      " 3   Confidence  9 non-null      int64 \n",
      " 4   Efforts     9 non-null      int64 \n",
      "dtypes: int64(4), object(1)\n",
      "memory usage: 488.0+ bytes\n"
     ]
    }
   ],
   "source": [
    "source_hypothesis_data = pd.read_csv('/datasets/hypothesis.csv')\n",
    "display(source_hypothesis_data.head(10))\n",
    "source_hypothesis_data.info()"
   ]
  },
  {
   "cell_type": "markdown",
   "metadata": {},
   "source": [
    "Откроем и изучим данные о заказах:"
   ]
  },
  {
   "cell_type": "code",
   "execution_count": 3,
   "metadata": {},
   "outputs": [
    {
     "data": {
      "text/html": [
       "<div>\n",
       "<style scoped>\n",
       "    .dataframe tbody tr th:only-of-type {\n",
       "        vertical-align: middle;\n",
       "    }\n",
       "\n",
       "    .dataframe tbody tr th {\n",
       "        vertical-align: top;\n",
       "    }\n",
       "\n",
       "    .dataframe thead th {\n",
       "        text-align: right;\n",
       "    }\n",
       "</style>\n",
       "<table border=\"1\" class=\"dataframe\">\n",
       "  <thead>\n",
       "    <tr style=\"text-align: right;\">\n",
       "      <th></th>\n",
       "      <th>transactionId</th>\n",
       "      <th>visitorId</th>\n",
       "      <th>date</th>\n",
       "      <th>revenue</th>\n",
       "      <th>group</th>\n",
       "    </tr>\n",
       "  </thead>\n",
       "  <tbody>\n",
       "    <tr>\n",
       "      <th>0</th>\n",
       "      <td>3667963787</td>\n",
       "      <td>3312258926</td>\n",
       "      <td>2019-08-15</td>\n",
       "      <td>1650</td>\n",
       "      <td>B</td>\n",
       "    </tr>\n",
       "    <tr>\n",
       "      <th>1</th>\n",
       "      <td>2804400009</td>\n",
       "      <td>3642806036</td>\n",
       "      <td>2019-08-15</td>\n",
       "      <td>730</td>\n",
       "      <td>B</td>\n",
       "    </tr>\n",
       "    <tr>\n",
       "      <th>2</th>\n",
       "      <td>2961555356</td>\n",
       "      <td>4069496402</td>\n",
       "      <td>2019-08-15</td>\n",
       "      <td>400</td>\n",
       "      <td>A</td>\n",
       "    </tr>\n",
       "    <tr>\n",
       "      <th>3</th>\n",
       "      <td>3797467345</td>\n",
       "      <td>1196621759</td>\n",
       "      <td>2019-08-15</td>\n",
       "      <td>9759</td>\n",
       "      <td>B</td>\n",
       "    </tr>\n",
       "    <tr>\n",
       "      <th>4</th>\n",
       "      <td>2282983706</td>\n",
       "      <td>2322279887</td>\n",
       "      <td>2019-08-15</td>\n",
       "      <td>2308</td>\n",
       "      <td>B</td>\n",
       "    </tr>\n",
       "    <tr>\n",
       "      <th>5</th>\n",
       "      <td>182168103</td>\n",
       "      <td>935554773</td>\n",
       "      <td>2019-08-15</td>\n",
       "      <td>2210</td>\n",
       "      <td>B</td>\n",
       "    </tr>\n",
       "    <tr>\n",
       "      <th>6</th>\n",
       "      <td>398296753</td>\n",
       "      <td>2900797465</td>\n",
       "      <td>2019-08-15</td>\n",
       "      <td>1860</td>\n",
       "      <td>B</td>\n",
       "    </tr>\n",
       "    <tr>\n",
       "      <th>7</th>\n",
       "      <td>2626614568</td>\n",
       "      <td>78758296</td>\n",
       "      <td>2019-08-15</td>\n",
       "      <td>1044</td>\n",
       "      <td>A</td>\n",
       "    </tr>\n",
       "    <tr>\n",
       "      <th>8</th>\n",
       "      <td>1576988021</td>\n",
       "      <td>295230930</td>\n",
       "      <td>2019-08-15</td>\n",
       "      <td>13710</td>\n",
       "      <td>A</td>\n",
       "    </tr>\n",
       "    <tr>\n",
       "      <th>9</th>\n",
       "      <td>1506739906</td>\n",
       "      <td>1882260405</td>\n",
       "      <td>2019-08-15</td>\n",
       "      <td>1855</td>\n",
       "      <td>B</td>\n",
       "    </tr>\n",
       "  </tbody>\n",
       "</table>\n",
       "</div>"
      ],
      "text/plain": [
       "   transactionId   visitorId        date  revenue group\n",
       "0     3667963787  3312258926  2019-08-15     1650     B\n",
       "1     2804400009  3642806036  2019-08-15      730     B\n",
       "2     2961555356  4069496402  2019-08-15      400     A\n",
       "3     3797467345  1196621759  2019-08-15     9759     B\n",
       "4     2282983706  2322279887  2019-08-15     2308     B\n",
       "5      182168103   935554773  2019-08-15     2210     B\n",
       "6      398296753  2900797465  2019-08-15     1860     B\n",
       "7     2626614568    78758296  2019-08-15     1044     A\n",
       "8     1576988021   295230930  2019-08-15    13710     A\n",
       "9     1506739906  1882260405  2019-08-15     1855     B"
      ]
     },
     "metadata": {},
     "output_type": "display_data"
    },
    {
     "name": "stdout",
     "output_type": "stream",
     "text": [
      "<class 'pandas.core.frame.DataFrame'>\n",
      "RangeIndex: 1197 entries, 0 to 1196\n",
      "Data columns (total 5 columns):\n",
      " #   Column         Non-Null Count  Dtype \n",
      "---  ------         --------------  ----- \n",
      " 0   transactionId  1197 non-null   int64 \n",
      " 1   visitorId      1197 non-null   int64 \n",
      " 2   date           1197 non-null   object\n",
      " 3   revenue        1197 non-null   int64 \n",
      " 4   group          1197 non-null   object\n",
      "dtypes: int64(3), object(2)\n",
      "memory usage: 46.9+ KB\n"
     ]
    }
   ],
   "source": [
    "source_orders_data = pd.read_csv('/datasets/orders.csv')\n",
    "display(source_orders_data.head(10))\n",
    "source_orders_data.info()"
   ]
  },
  {
   "cell_type": "markdown",
   "metadata": {},
   "source": [
    "Откроем и изучим данные о посетителях:"
   ]
  },
  {
   "cell_type": "code",
   "execution_count": 4,
   "metadata": {},
   "outputs": [
    {
     "data": {
      "text/html": [
       "<div>\n",
       "<style scoped>\n",
       "    .dataframe tbody tr th:only-of-type {\n",
       "        vertical-align: middle;\n",
       "    }\n",
       "\n",
       "    .dataframe tbody tr th {\n",
       "        vertical-align: top;\n",
       "    }\n",
       "\n",
       "    .dataframe thead th {\n",
       "        text-align: right;\n",
       "    }\n",
       "</style>\n",
       "<table border=\"1\" class=\"dataframe\">\n",
       "  <thead>\n",
       "    <tr style=\"text-align: right;\">\n",
       "      <th></th>\n",
       "      <th>date</th>\n",
       "      <th>group</th>\n",
       "      <th>visitors</th>\n",
       "    </tr>\n",
       "  </thead>\n",
       "  <tbody>\n",
       "    <tr>\n",
       "      <th>0</th>\n",
       "      <td>2019-08-01</td>\n",
       "      <td>A</td>\n",
       "      <td>719</td>\n",
       "    </tr>\n",
       "    <tr>\n",
       "      <th>1</th>\n",
       "      <td>2019-08-02</td>\n",
       "      <td>A</td>\n",
       "      <td>619</td>\n",
       "    </tr>\n",
       "    <tr>\n",
       "      <th>2</th>\n",
       "      <td>2019-08-03</td>\n",
       "      <td>A</td>\n",
       "      <td>507</td>\n",
       "    </tr>\n",
       "    <tr>\n",
       "      <th>3</th>\n",
       "      <td>2019-08-04</td>\n",
       "      <td>A</td>\n",
       "      <td>717</td>\n",
       "    </tr>\n",
       "    <tr>\n",
       "      <th>4</th>\n",
       "      <td>2019-08-05</td>\n",
       "      <td>A</td>\n",
       "      <td>756</td>\n",
       "    </tr>\n",
       "    <tr>\n",
       "      <th>5</th>\n",
       "      <td>2019-08-06</td>\n",
       "      <td>A</td>\n",
       "      <td>667</td>\n",
       "    </tr>\n",
       "    <tr>\n",
       "      <th>6</th>\n",
       "      <td>2019-08-07</td>\n",
       "      <td>A</td>\n",
       "      <td>644</td>\n",
       "    </tr>\n",
       "    <tr>\n",
       "      <th>7</th>\n",
       "      <td>2019-08-08</td>\n",
       "      <td>A</td>\n",
       "      <td>610</td>\n",
       "    </tr>\n",
       "    <tr>\n",
       "      <th>8</th>\n",
       "      <td>2019-08-09</td>\n",
       "      <td>A</td>\n",
       "      <td>617</td>\n",
       "    </tr>\n",
       "    <tr>\n",
       "      <th>9</th>\n",
       "      <td>2019-08-10</td>\n",
       "      <td>A</td>\n",
       "      <td>406</td>\n",
       "    </tr>\n",
       "  </tbody>\n",
       "</table>\n",
       "</div>"
      ],
      "text/plain": [
       "         date group  visitors\n",
       "0  2019-08-01     A       719\n",
       "1  2019-08-02     A       619\n",
       "2  2019-08-03     A       507\n",
       "3  2019-08-04     A       717\n",
       "4  2019-08-05     A       756\n",
       "5  2019-08-06     A       667\n",
       "6  2019-08-07     A       644\n",
       "7  2019-08-08     A       610\n",
       "8  2019-08-09     A       617\n",
       "9  2019-08-10     A       406"
      ]
     },
     "metadata": {},
     "output_type": "display_data"
    },
    {
     "name": "stdout",
     "output_type": "stream",
     "text": [
      "<class 'pandas.core.frame.DataFrame'>\n",
      "RangeIndex: 62 entries, 0 to 61\n",
      "Data columns (total 3 columns):\n",
      " #   Column    Non-Null Count  Dtype \n",
      "---  ------    --------------  ----- \n",
      " 0   date      62 non-null     object\n",
      " 1   group     62 non-null     object\n",
      " 2   visitors  62 non-null     int64 \n",
      "dtypes: int64(1), object(2)\n",
      "memory usage: 1.6+ KB\n"
     ]
    }
   ],
   "source": [
    "source_visitors_data = pd.read_csv('/datasets/visitors.csv')\n",
    "display(source_visitors_data.head(10))\n",
    "source_visitors_data.info()"
   ]
  },
  {
   "cell_type": "markdown",
   "metadata": {},
   "source": [
    "Все данные требуют дополнительной обработки: приведения к нижнему регистру, проверки на наличие пропусков и дубликатов, дату необходимо преобразовать в datetime.\n",
    "\n",
    "## Предобработка данных\n",
    "Приведение всех текстовых значений к нижнему регистру:"
   ]
  },
  {
   "cell_type": "code",
   "execution_count": 5,
   "metadata": {},
   "outputs": [
    {
     "data": {
      "text/html": [
       "<div>\n",
       "<style scoped>\n",
       "    .dataframe tbody tr th:only-of-type {\n",
       "        vertical-align: middle;\n",
       "    }\n",
       "\n",
       "    .dataframe tbody tr th {\n",
       "        vertical-align: top;\n",
       "    }\n",
       "\n",
       "    .dataframe thead th {\n",
       "        text-align: right;\n",
       "    }\n",
       "</style>\n",
       "<table border=\"1\" class=\"dataframe\">\n",
       "  <thead>\n",
       "    <tr style=\"text-align: right;\">\n",
       "      <th></th>\n",
       "      <th>hypothesis</th>\n",
       "      <th>reach</th>\n",
       "      <th>impact</th>\n",
       "      <th>confidence</th>\n",
       "      <th>efforts</th>\n",
       "    </tr>\n",
       "  </thead>\n",
       "  <tbody>\n",
       "    <tr>\n",
       "      <th>0</th>\n",
       "      <td>добавить два новых канала привлечения трафика,...</td>\n",
       "      <td>3</td>\n",
       "      <td>10</td>\n",
       "      <td>8</td>\n",
       "      <td>6</td>\n",
       "    </tr>\n",
       "    <tr>\n",
       "      <th>1</th>\n",
       "      <td>запустить собственную службу доставки, что сок...</td>\n",
       "      <td>2</td>\n",
       "      <td>5</td>\n",
       "      <td>4</td>\n",
       "      <td>10</td>\n",
       "    </tr>\n",
       "    <tr>\n",
       "      <th>2</th>\n",
       "      <td>добавить блоки рекомендаций товаров на сайт ин...</td>\n",
       "      <td>8</td>\n",
       "      <td>3</td>\n",
       "      <td>7</td>\n",
       "      <td>3</td>\n",
       "    </tr>\n",
       "    <tr>\n",
       "      <th>3</th>\n",
       "      <td>изменить структура категорий, что увеличит кон...</td>\n",
       "      <td>8</td>\n",
       "      <td>3</td>\n",
       "      <td>3</td>\n",
       "      <td>8</td>\n",
       "    </tr>\n",
       "    <tr>\n",
       "      <th>4</th>\n",
       "      <td>изменить цвет фона главной страницы, чтобы уве...</td>\n",
       "      <td>3</td>\n",
       "      <td>1</td>\n",
       "      <td>1</td>\n",
       "      <td>1</td>\n",
       "    </tr>\n",
       "  </tbody>\n",
       "</table>\n",
       "</div>"
      ],
      "text/plain": [
       "                                          hypothesis  reach  impact  \\\n",
       "0  добавить два новых канала привлечения трафика,...      3      10   \n",
       "1  запустить собственную службу доставки, что сок...      2       5   \n",
       "2  добавить блоки рекомендаций товаров на сайт ин...      8       3   \n",
       "3  изменить структура категорий, что увеличит кон...      8       3   \n",
       "4  изменить цвет фона главной страницы, чтобы уве...      3       1   \n",
       "\n",
       "   confidence  efforts  \n",
       "0           8        6  \n",
       "1           4       10  \n",
       "2           7        3  \n",
       "3           3        8  \n",
       "4           1        1  "
      ]
     },
     "metadata": {},
     "output_type": "display_data"
    }
   ],
   "source": [
    "source_hypothesis_data.columns = source_hypothesis_data.columns.str.lower()\n",
    "source_hypothesis_data['hypothesis'] = source_hypothesis_data['hypothesis'].str.lower()\n",
    "display(source_hypothesis_data.head())"
   ]
  },
  {
   "cell_type": "code",
   "execution_count": 6,
   "metadata": {},
   "outputs": [
    {
     "data": {
      "text/html": [
       "<div>\n",
       "<style scoped>\n",
       "    .dataframe tbody tr th:only-of-type {\n",
       "        vertical-align: middle;\n",
       "    }\n",
       "\n",
       "    .dataframe tbody tr th {\n",
       "        vertical-align: top;\n",
       "    }\n",
       "\n",
       "    .dataframe thead th {\n",
       "        text-align: right;\n",
       "    }\n",
       "</style>\n",
       "<table border=\"1\" class=\"dataframe\">\n",
       "  <thead>\n",
       "    <tr style=\"text-align: right;\">\n",
       "      <th></th>\n",
       "      <th>transactionid</th>\n",
       "      <th>visitorid</th>\n",
       "      <th>date</th>\n",
       "      <th>revenue</th>\n",
       "      <th>group</th>\n",
       "    </tr>\n",
       "  </thead>\n",
       "  <tbody>\n",
       "    <tr>\n",
       "      <th>0</th>\n",
       "      <td>3667963787</td>\n",
       "      <td>3312258926</td>\n",
       "      <td>2019-08-15</td>\n",
       "      <td>1650</td>\n",
       "      <td>b</td>\n",
       "    </tr>\n",
       "    <tr>\n",
       "      <th>1</th>\n",
       "      <td>2804400009</td>\n",
       "      <td>3642806036</td>\n",
       "      <td>2019-08-15</td>\n",
       "      <td>730</td>\n",
       "      <td>b</td>\n",
       "    </tr>\n",
       "    <tr>\n",
       "      <th>2</th>\n",
       "      <td>2961555356</td>\n",
       "      <td>4069496402</td>\n",
       "      <td>2019-08-15</td>\n",
       "      <td>400</td>\n",
       "      <td>a</td>\n",
       "    </tr>\n",
       "    <tr>\n",
       "      <th>3</th>\n",
       "      <td>3797467345</td>\n",
       "      <td>1196621759</td>\n",
       "      <td>2019-08-15</td>\n",
       "      <td>9759</td>\n",
       "      <td>b</td>\n",
       "    </tr>\n",
       "    <tr>\n",
       "      <th>4</th>\n",
       "      <td>2282983706</td>\n",
       "      <td>2322279887</td>\n",
       "      <td>2019-08-15</td>\n",
       "      <td>2308</td>\n",
       "      <td>b</td>\n",
       "    </tr>\n",
       "  </tbody>\n",
       "</table>\n",
       "</div>"
      ],
      "text/plain": [
       "   transactionid   visitorid        date  revenue group\n",
       "0     3667963787  3312258926  2019-08-15     1650     b\n",
       "1     2804400009  3642806036  2019-08-15      730     b\n",
       "2     2961555356  4069496402  2019-08-15      400     a\n",
       "3     3797467345  1196621759  2019-08-15     9759     b\n",
       "4     2282983706  2322279887  2019-08-15     2308     b"
      ]
     },
     "metadata": {},
     "output_type": "display_data"
    }
   ],
   "source": [
    "source_orders_data.columns = source_orders_data.columns.str.lower()\n",
    "source_orders_data['group'] = source_orders_data['group'].str.lower()\n",
    "display(source_orders_data.head())"
   ]
  },
  {
   "cell_type": "code",
   "execution_count": 7,
   "metadata": {},
   "outputs": [
    {
     "data": {
      "text/html": [
       "<div>\n",
       "<style scoped>\n",
       "    .dataframe tbody tr th:only-of-type {\n",
       "        vertical-align: middle;\n",
       "    }\n",
       "\n",
       "    .dataframe tbody tr th {\n",
       "        vertical-align: top;\n",
       "    }\n",
       "\n",
       "    .dataframe thead th {\n",
       "        text-align: right;\n",
       "    }\n",
       "</style>\n",
       "<table border=\"1\" class=\"dataframe\">\n",
       "  <thead>\n",
       "    <tr style=\"text-align: right;\">\n",
       "      <th></th>\n",
       "      <th>date</th>\n",
       "      <th>group</th>\n",
       "      <th>visitors</th>\n",
       "    </tr>\n",
       "  </thead>\n",
       "  <tbody>\n",
       "    <tr>\n",
       "      <th>0</th>\n",
       "      <td>2019-08-01</td>\n",
       "      <td>a</td>\n",
       "      <td>719</td>\n",
       "    </tr>\n",
       "    <tr>\n",
       "      <th>1</th>\n",
       "      <td>2019-08-02</td>\n",
       "      <td>a</td>\n",
       "      <td>619</td>\n",
       "    </tr>\n",
       "    <tr>\n",
       "      <th>2</th>\n",
       "      <td>2019-08-03</td>\n",
       "      <td>a</td>\n",
       "      <td>507</td>\n",
       "    </tr>\n",
       "    <tr>\n",
       "      <th>3</th>\n",
       "      <td>2019-08-04</td>\n",
       "      <td>a</td>\n",
       "      <td>717</td>\n",
       "    </tr>\n",
       "    <tr>\n",
       "      <th>4</th>\n",
       "      <td>2019-08-05</td>\n",
       "      <td>a</td>\n",
       "      <td>756</td>\n",
       "    </tr>\n",
       "  </tbody>\n",
       "</table>\n",
       "</div>"
      ],
      "text/plain": [
       "         date group  visitors\n",
       "0  2019-08-01     a       719\n",
       "1  2019-08-02     a       619\n",
       "2  2019-08-03     a       507\n",
       "3  2019-08-04     a       717\n",
       "4  2019-08-05     a       756"
      ]
     },
     "metadata": {},
     "output_type": "display_data"
    }
   ],
   "source": [
    "source_visitors_data['group'] = source_visitors_data['group'].str.lower()\n",
    "display(source_visitors_data.head())"
   ]
  },
  {
   "cell_type": "markdown",
   "metadata": {},
   "source": [
    "Проверка на наличие дубликатов:"
   ]
  },
  {
   "cell_type": "code",
   "execution_count": 8,
   "metadata": {},
   "outputs": [
    {
     "name": "stdout",
     "output_type": "stream",
     "text": [
      "Количество дубликатов в данных о гипотезах: 0\n"
     ]
    }
   ],
   "source": [
    "doubles_count_1 = source_hypothesis_data.duplicated().sum()\n",
    "print('Количество дубликатов в данных о гипотезах: {:.0f}'.format(doubles_count_1))"
   ]
  },
  {
   "cell_type": "code",
   "execution_count": 9,
   "metadata": {},
   "outputs": [
    {
     "name": "stdout",
     "output_type": "stream",
     "text": [
      "Количество дубликатов в данных о заказах: 0\n"
     ]
    }
   ],
   "source": [
    "doubles_count_2 = source_orders_data.duplicated().sum()\n",
    "print('Количество дубликатов в данных о заказах: {:.0f}'.format(doubles_count_2))"
   ]
  },
  {
   "cell_type": "code",
   "execution_count": 10,
   "metadata": {},
   "outputs": [
    {
     "name": "stdout",
     "output_type": "stream",
     "text": [
      "Количество дубликатов в данных о посетителях: 0\n"
     ]
    }
   ],
   "source": [
    "doubles_count_3 = source_visitors_data.duplicated().sum()\n",
    "print('Количество дубликатов в данных о посетителях: {:.0f}'.format(doubles_count_3))"
   ]
  },
  {
   "cell_type": "markdown",
   "metadata": {},
   "source": [
    "Проверка на наличие пропусков:"
   ]
  },
  {
   "cell_type": "code",
   "execution_count": 11,
   "metadata": {},
   "outputs": [
    {
     "name": "stdout",
     "output_type": "stream",
     "text": [
      "hypothesis    0\n",
      "reach         0\n",
      "impact        0\n",
      "confidence    0\n",
      "efforts       0\n",
      "dtype: int64\n"
     ]
    }
   ],
   "source": [
    "print(source_hypothesis_data.isna().sum())"
   ]
  },
  {
   "cell_type": "code",
   "execution_count": 12,
   "metadata": {},
   "outputs": [
    {
     "name": "stdout",
     "output_type": "stream",
     "text": [
      "transactionid    0\n",
      "visitorid        0\n",
      "date             0\n",
      "revenue          0\n",
      "group            0\n",
      "dtype: int64\n"
     ]
    }
   ],
   "source": [
    "print(source_orders_data.isna().sum())"
   ]
  },
  {
   "cell_type": "code",
   "execution_count": 13,
   "metadata": {},
   "outputs": [
    {
     "name": "stdout",
     "output_type": "stream",
     "text": [
      "date        0\n",
      "group       0\n",
      "visitors    0\n",
      "dtype: int64\n"
     ]
    }
   ],
   "source": [
    "print(source_visitors_data.isna().sum())"
   ]
  },
  {
   "cell_type": "markdown",
   "metadata": {},
   "source": [
    "Как мы видим, пропусков нет. Займемся преобразованием типов данных:"
   ]
  },
  {
   "cell_type": "code",
   "execution_count": 14,
   "metadata": {},
   "outputs": [
    {
     "name": "stdout",
     "output_type": "stream",
     "text": [
      "<class 'pandas.core.frame.DataFrame'>\n",
      "RangeIndex: 1197 entries, 0 to 1196\n",
      "Data columns (total 5 columns):\n",
      " #   Column         Non-Null Count  Dtype         \n",
      "---  ------         --------------  -----         \n",
      " 0   transactionid  1197 non-null   int64         \n",
      " 1   visitorid      1197 non-null   int64         \n",
      " 2   date           1197 non-null   datetime64[ns]\n",
      " 3   revenue        1197 non-null   int64         \n",
      " 4   group          1197 non-null   object        \n",
      "dtypes: datetime64[ns](1), int64(3), object(1)\n",
      "memory usage: 46.9+ KB\n"
     ]
    }
   ],
   "source": [
    "source_orders_data['date'] = source_orders_data['date'].map(lambda x: dt.datetime.strptime(x, '%Y-%m-%d'))\n",
    "source_orders_data.info()"
   ]
  },
  {
   "cell_type": "code",
   "execution_count": 15,
   "metadata": {},
   "outputs": [
    {
     "name": "stdout",
     "output_type": "stream",
     "text": [
      "<class 'pandas.core.frame.DataFrame'>\n",
      "RangeIndex: 62 entries, 0 to 61\n",
      "Data columns (total 3 columns):\n",
      " #   Column    Non-Null Count  Dtype         \n",
      "---  ------    --------------  -----         \n",
      " 0   date      62 non-null     datetime64[ns]\n",
      " 1   group     62 non-null     object        \n",
      " 2   visitors  62 non-null     int64         \n",
      "dtypes: datetime64[ns](1), int64(1), object(1)\n",
      "memory usage: 1.6+ KB\n"
     ]
    }
   ],
   "source": [
    "source_visitors_data['date'] = source_visitors_data['date'].map(lambda x: dt.datetime.strptime(x, '%Y-%m-%d'))\n",
    "source_visitors_data.info()"
   ]
  },
  {
   "cell_type": "markdown",
   "metadata": {},
   "source": [
    "Данные готовы к анализу. Приступим к первой части проекта.\n",
    "\n",
    "## Приоритизация гипотез\n",
    "Применим фреймворк ICE для приоритезации гипотез. Отсортируем гипотезы по убыванию приоритета."
   ]
  },
  {
   "cell_type": "code",
   "execution_count": 16,
   "metadata": {},
   "outputs": [
    {
     "data": {
      "text/html": [
       "<div>\n",
       "<style scoped>\n",
       "    .dataframe tbody tr th:only-of-type {\n",
       "        vertical-align: middle;\n",
       "    }\n",
       "\n",
       "    .dataframe tbody tr th {\n",
       "        vertical-align: top;\n",
       "    }\n",
       "\n",
       "    .dataframe thead th {\n",
       "        text-align: right;\n",
       "    }\n",
       "</style>\n",
       "<table border=\"1\" class=\"dataframe\">\n",
       "  <thead>\n",
       "    <tr style=\"text-align: right;\">\n",
       "      <th></th>\n",
       "      <th>hypothesis</th>\n",
       "      <th>reach</th>\n",
       "      <th>impact</th>\n",
       "      <th>confidence</th>\n",
       "      <th>efforts</th>\n",
       "      <th>ice</th>\n",
       "    </tr>\n",
       "  </thead>\n",
       "  <tbody>\n",
       "    <tr>\n",
       "      <th>8</th>\n",
       "      <td>запустить акцию, дающую скидку на товар в день...</td>\n",
       "      <td>1</td>\n",
       "      <td>9</td>\n",
       "      <td>9</td>\n",
       "      <td>5</td>\n",
       "      <td>16.200000</td>\n",
       "    </tr>\n",
       "    <tr>\n",
       "      <th>0</th>\n",
       "      <td>добавить два новых канала привлечения трафика,...</td>\n",
       "      <td>3</td>\n",
       "      <td>10</td>\n",
       "      <td>8</td>\n",
       "      <td>6</td>\n",
       "      <td>13.333333</td>\n",
       "    </tr>\n",
       "    <tr>\n",
       "      <th>7</th>\n",
       "      <td>добавить форму подписки на все основные страни...</td>\n",
       "      <td>10</td>\n",
       "      <td>7</td>\n",
       "      <td>8</td>\n",
       "      <td>5</td>\n",
       "      <td>11.200000</td>\n",
       "    </tr>\n",
       "    <tr>\n",
       "      <th>6</th>\n",
       "      <td>показать на главной странице баннеры с актуаль...</td>\n",
       "      <td>5</td>\n",
       "      <td>3</td>\n",
       "      <td>8</td>\n",
       "      <td>3</td>\n",
       "      <td>8.000000</td>\n",
       "    </tr>\n",
       "    <tr>\n",
       "      <th>2</th>\n",
       "      <td>добавить блоки рекомендаций товаров на сайт ин...</td>\n",
       "      <td>8</td>\n",
       "      <td>3</td>\n",
       "      <td>7</td>\n",
       "      <td>3</td>\n",
       "      <td>7.000000</td>\n",
       "    </tr>\n",
       "  </tbody>\n",
       "</table>\n",
       "</div>"
      ],
      "text/plain": [
       "                                          hypothesis  reach  impact  \\\n",
       "8  запустить акцию, дающую скидку на товар в день...      1       9   \n",
       "0  добавить два новых канала привлечения трафика,...      3      10   \n",
       "7  добавить форму подписки на все основные страни...     10       7   \n",
       "6  показать на главной странице баннеры с актуаль...      5       3   \n",
       "2  добавить блоки рекомендаций товаров на сайт ин...      8       3   \n",
       "\n",
       "   confidence  efforts        ice  \n",
       "8           9        5  16.200000  \n",
       "0           8        6  13.333333  \n",
       "7           8        5  11.200000  \n",
       "6           8        3   8.000000  \n",
       "2           7        3   7.000000  "
      ]
     },
     "metadata": {},
     "output_type": "display_data"
    }
   ],
   "source": [
    "source_hypothesis_data['ice'] = (source_hypothesis_data['impact'] * source_hypothesis_data['confidence']) / source_hypothesis_data['efforts']\n",
    "ice_sorted_hypothesis_data = source_hypothesis_data.sort_values(by =['ice'], ascending = False)\n",
    "display(ice_sorted_hypothesis_data.head())"
   ]
  },
  {
   "cell_type": "markdown",
   "metadata": {},
   "source": [
    "Применим фреймворк RICE для приоритезации гипотез. Отсортируем гипотезы по убыванию приоритета."
   ]
  },
  {
   "cell_type": "code",
   "execution_count": 17,
   "metadata": {},
   "outputs": [
    {
     "data": {
      "text/html": [
       "<div>\n",
       "<style scoped>\n",
       "    .dataframe tbody tr th:only-of-type {\n",
       "        vertical-align: middle;\n",
       "    }\n",
       "\n",
       "    .dataframe tbody tr th {\n",
       "        vertical-align: top;\n",
       "    }\n",
       "\n",
       "    .dataframe thead th {\n",
       "        text-align: right;\n",
       "    }\n",
       "</style>\n",
       "<table border=\"1\" class=\"dataframe\">\n",
       "  <thead>\n",
       "    <tr style=\"text-align: right;\">\n",
       "      <th></th>\n",
       "      <th>hypothesis</th>\n",
       "      <th>reach</th>\n",
       "      <th>impact</th>\n",
       "      <th>confidence</th>\n",
       "      <th>efforts</th>\n",
       "      <th>ice</th>\n",
       "      <th>rice</th>\n",
       "    </tr>\n",
       "  </thead>\n",
       "  <tbody>\n",
       "    <tr>\n",
       "      <th>7</th>\n",
       "      <td>добавить форму подписки на все основные страни...</td>\n",
       "      <td>10</td>\n",
       "      <td>7</td>\n",
       "      <td>8</td>\n",
       "      <td>5</td>\n",
       "      <td>11.200000</td>\n",
       "      <td>112.0</td>\n",
       "    </tr>\n",
       "    <tr>\n",
       "      <th>2</th>\n",
       "      <td>добавить блоки рекомендаций товаров на сайт ин...</td>\n",
       "      <td>8</td>\n",
       "      <td>3</td>\n",
       "      <td>7</td>\n",
       "      <td>3</td>\n",
       "      <td>7.000000</td>\n",
       "      <td>56.0</td>\n",
       "    </tr>\n",
       "    <tr>\n",
       "      <th>0</th>\n",
       "      <td>добавить два новых канала привлечения трафика,...</td>\n",
       "      <td>3</td>\n",
       "      <td>10</td>\n",
       "      <td>8</td>\n",
       "      <td>6</td>\n",
       "      <td>13.333333</td>\n",
       "      <td>40.0</td>\n",
       "    </tr>\n",
       "    <tr>\n",
       "      <th>6</th>\n",
       "      <td>показать на главной странице баннеры с актуаль...</td>\n",
       "      <td>5</td>\n",
       "      <td>3</td>\n",
       "      <td>8</td>\n",
       "      <td>3</td>\n",
       "      <td>8.000000</td>\n",
       "      <td>40.0</td>\n",
       "    </tr>\n",
       "    <tr>\n",
       "      <th>8</th>\n",
       "      <td>запустить акцию, дающую скидку на товар в день...</td>\n",
       "      <td>1</td>\n",
       "      <td>9</td>\n",
       "      <td>9</td>\n",
       "      <td>5</td>\n",
       "      <td>16.200000</td>\n",
       "      <td>16.2</td>\n",
       "    </tr>\n",
       "  </tbody>\n",
       "</table>\n",
       "</div>"
      ],
      "text/plain": [
       "                                          hypothesis  reach  impact  \\\n",
       "7  добавить форму подписки на все основные страни...     10       7   \n",
       "2  добавить блоки рекомендаций товаров на сайт ин...      8       3   \n",
       "0  добавить два новых канала привлечения трафика,...      3      10   \n",
       "6  показать на главной странице баннеры с актуаль...      5       3   \n",
       "8  запустить акцию, дающую скидку на товар в день...      1       9   \n",
       "\n",
       "   confidence  efforts        ice   rice  \n",
       "7           8        5  11.200000  112.0  \n",
       "2           7        3   7.000000   56.0  \n",
       "0           8        6  13.333333   40.0  \n",
       "6           8        3   8.000000   40.0  \n",
       "8           9        5  16.200000   16.2  "
      ]
     },
     "metadata": {},
     "output_type": "display_data"
    }
   ],
   "source": [
    "source_hypothesis_data['rice'] = (source_hypothesis_data['reach'] * source_hypothesis_data['impact'] * source_hypothesis_data['confidence']) / source_hypothesis_data['efforts']\n",
    "rice_sorted_hypothesis_data = source_hypothesis_data.sort_values(by =['rice'], ascending = False)\n",
    "display(rice_sorted_hypothesis_data.head())"
   ]
  },
  {
   "cell_type": "markdown",
   "metadata": {},
   "source": [
    "**Промежуточный вывод:**\n",
    "<br>Гипотезы \"7\" и \"0\" стабильно входят в тройку наилучших. Гипотезы 1, 3, 5 и 4 в обоих случаях занимают нижние строчки.\n",
    "Состав пятёрки наилучших гипотез не меняется. При применении фреймворка RICE большую роль начинает играть охват, поэтому, внутри первой пятёрки на первое место вышли гипотезы с наилучшим охватом. Так как гипотезы \"7\" и \"0\" по ICE довльно близки, то лучше всего выбрать гипотезу с наибольшим охватом - \"7\"."
   ]
  },
  {
   "cell_type": "markdown",
   "metadata": {},
   "source": [
    "## Анализ A/B-теста\n",
    "Создадим датафрейм уникальных пар значений дат и групп для дальнейшей работы:"
   ]
  },
  {
   "cell_type": "code",
   "execution_count": 18,
   "metadata": {},
   "outputs": [],
   "source": [
    "datesGroups = source_orders_data[['date','group']].drop_duplicates() "
   ]
  },
  {
   "cell_type": "markdown",
   "metadata": {},
   "source": [
    "Соберём агрегированные кумулятивные данные по дням о заказах:"
   ]
  },
  {
   "cell_type": "code",
   "execution_count": 19,
   "metadata": {},
   "outputs": [],
   "source": [
    "ordersAggregated = datesGroups.apply(lambda x: source_orders_data[np.logical_and(source_orders_data['date'] <= x['date'], source_orders_data['group'] == x['group'])]\\\n",
    "                                    .agg({'date' : 'max', 'group' : 'max', 'transactionid' : pd.Series.nunique, 'visitorid' : pd.Series.nunique, 'revenue' : 'sum'}), axis=1).sort_values(by=['date','group']) \n"
   ]
  },
  {
   "cell_type": "markdown",
   "metadata": {},
   "source": [
    "Соберём агрегированные кумулятивные данные по дням о посетителях:"
   ]
  },
  {
   "cell_type": "code",
   "execution_count": 20,
   "metadata": {},
   "outputs": [],
   "source": [
    "visitorsAggregated = datesGroups.apply(lambda x: source_visitors_data[np.logical_and(source_visitors_data['date'] <= x['date'], source_visitors_data['group'] == x['group'])].agg({'date' : 'max', 'group' : 'max', 'visitors' : 'sum'}), axis=1).sort_values(by=['date','group'])\n"
   ]
  },
  {
   "cell_type": "markdown",
   "metadata": {},
   "source": [
    "Создадим общую таблицу с кумулятивными данными:"
   ]
  },
  {
   "cell_type": "code",
   "execution_count": 21,
   "metadata": {},
   "outputs": [
    {
     "data": {
      "text/html": [
       "<div>\n",
       "<style scoped>\n",
       "    .dataframe tbody tr th:only-of-type {\n",
       "        vertical-align: middle;\n",
       "    }\n",
       "\n",
       "    .dataframe tbody tr th {\n",
       "        vertical-align: top;\n",
       "    }\n",
       "\n",
       "    .dataframe thead th {\n",
       "        text-align: right;\n",
       "    }\n",
       "</style>\n",
       "<table border=\"1\" class=\"dataframe\">\n",
       "  <thead>\n",
       "    <tr style=\"text-align: right;\">\n",
       "      <th></th>\n",
       "      <th>date</th>\n",
       "      <th>group</th>\n",
       "      <th>orders</th>\n",
       "      <th>buyers</th>\n",
       "      <th>revenue</th>\n",
       "      <th>visitors</th>\n",
       "    </tr>\n",
       "  </thead>\n",
       "  <tbody>\n",
       "    <tr>\n",
       "      <th>0</th>\n",
       "      <td>2019-08-01</td>\n",
       "      <td>a</td>\n",
       "      <td>24</td>\n",
       "      <td>20</td>\n",
       "      <td>148579</td>\n",
       "      <td>719</td>\n",
       "    </tr>\n",
       "    <tr>\n",
       "      <th>1</th>\n",
       "      <td>2019-08-01</td>\n",
       "      <td>b</td>\n",
       "      <td>21</td>\n",
       "      <td>20</td>\n",
       "      <td>101217</td>\n",
       "      <td>713</td>\n",
       "    </tr>\n",
       "    <tr>\n",
       "      <th>2</th>\n",
       "      <td>2019-08-02</td>\n",
       "      <td>a</td>\n",
       "      <td>44</td>\n",
       "      <td>38</td>\n",
       "      <td>242401</td>\n",
       "      <td>1338</td>\n",
       "    </tr>\n",
       "    <tr>\n",
       "      <th>3</th>\n",
       "      <td>2019-08-02</td>\n",
       "      <td>b</td>\n",
       "      <td>45</td>\n",
       "      <td>43</td>\n",
       "      <td>266748</td>\n",
       "      <td>1294</td>\n",
       "    </tr>\n",
       "    <tr>\n",
       "      <th>4</th>\n",
       "      <td>2019-08-03</td>\n",
       "      <td>a</td>\n",
       "      <td>68</td>\n",
       "      <td>62</td>\n",
       "      <td>354874</td>\n",
       "      <td>1845</td>\n",
       "    </tr>\n",
       "  </tbody>\n",
       "</table>\n",
       "</div>"
      ],
      "text/plain": [
       "        date group  orders  buyers  revenue  visitors\n",
       "0 2019-08-01     a      24      20   148579       719\n",
       "1 2019-08-01     b      21      20   101217       713\n",
       "2 2019-08-02     a      44      38   242401      1338\n",
       "3 2019-08-02     b      45      43   266748      1294\n",
       "4 2019-08-03     a      68      62   354874      1845"
      ]
     },
     "metadata": {},
     "output_type": "display_data"
    }
   ],
   "source": [
    "cumulativeData = ordersAggregated.merge(visitorsAggregated, left_on=['date', 'group'], right_on=['date', 'group'])\n",
    "cumulativeData.columns = ['date', 'group', 'orders', 'buyers', 'revenue', 'visitors']\n",
    "\n",
    "display(cumulativeData.head())"
   ]
  },
  {
   "cell_type": "markdown",
   "metadata": {},
   "source": [
    "Данные готовы для дальнейшей проработки.\n",
    "\n",
    "**Построим график кумулятивной выручки по группам**\n",
    "\n",
    "Создадим набор данных с кумулятивным количеством заказов и кумулятивной выручкой по дням в группе А:"
   ]
  },
  {
   "cell_type": "code",
   "execution_count": 22,
   "metadata": {},
   "outputs": [
    {
     "data": {
      "text/html": [
       "<div>\n",
       "<style scoped>\n",
       "    .dataframe tbody tr th:only-of-type {\n",
       "        vertical-align: middle;\n",
       "    }\n",
       "\n",
       "    .dataframe tbody tr th {\n",
       "        vertical-align: top;\n",
       "    }\n",
       "\n",
       "    .dataframe thead th {\n",
       "        text-align: right;\n",
       "    }\n",
       "</style>\n",
       "<table border=\"1\" class=\"dataframe\">\n",
       "  <thead>\n",
       "    <tr style=\"text-align: right;\">\n",
       "      <th></th>\n",
       "      <th>date</th>\n",
       "      <th>revenue</th>\n",
       "      <th>orders</th>\n",
       "    </tr>\n",
       "  </thead>\n",
       "  <tbody>\n",
       "    <tr>\n",
       "      <th>0</th>\n",
       "      <td>2019-08-01</td>\n",
       "      <td>148579</td>\n",
       "      <td>24</td>\n",
       "    </tr>\n",
       "    <tr>\n",
       "      <th>2</th>\n",
       "      <td>2019-08-02</td>\n",
       "      <td>242401</td>\n",
       "      <td>44</td>\n",
       "    </tr>\n",
       "    <tr>\n",
       "      <th>4</th>\n",
       "      <td>2019-08-03</td>\n",
       "      <td>354874</td>\n",
       "      <td>68</td>\n",
       "    </tr>\n",
       "    <tr>\n",
       "      <th>6</th>\n",
       "      <td>2019-08-04</td>\n",
       "      <td>425699</td>\n",
       "      <td>84</td>\n",
       "    </tr>\n",
       "    <tr>\n",
       "      <th>8</th>\n",
       "      <td>2019-08-05</td>\n",
       "      <td>549917</td>\n",
       "      <td>109</td>\n",
       "    </tr>\n",
       "  </tbody>\n",
       "</table>\n",
       "</div>"
      ],
      "text/plain": [
       "        date  revenue  orders\n",
       "0 2019-08-01   148579      24\n",
       "2 2019-08-02   242401      44\n",
       "4 2019-08-03   354874      68\n",
       "6 2019-08-04   425699      84\n",
       "8 2019-08-05   549917     109"
      ]
     },
     "metadata": {},
     "output_type": "display_data"
    }
   ],
   "source": [
    "cumulativeRevenueA = cumulativeData[cumulativeData['group']=='a'][['date','revenue', 'orders']]\n",
    "display(cumulativeRevenueA.head())"
   ]
  },
  {
   "cell_type": "markdown",
   "metadata": {},
   "source": [
    "Создадим набор данных с кумулятивным количеством заказов и кумулятивной выручкой по дням в группе B:"
   ]
  },
  {
   "cell_type": "code",
   "execution_count": 23,
   "metadata": {},
   "outputs": [
    {
     "data": {
      "text/html": [
       "<div>\n",
       "<style scoped>\n",
       "    .dataframe tbody tr th:only-of-type {\n",
       "        vertical-align: middle;\n",
       "    }\n",
       "\n",
       "    .dataframe tbody tr th {\n",
       "        vertical-align: top;\n",
       "    }\n",
       "\n",
       "    .dataframe thead th {\n",
       "        text-align: right;\n",
       "    }\n",
       "</style>\n",
       "<table border=\"1\" class=\"dataframe\">\n",
       "  <thead>\n",
       "    <tr style=\"text-align: right;\">\n",
       "      <th></th>\n",
       "      <th>date</th>\n",
       "      <th>revenue</th>\n",
       "      <th>orders</th>\n",
       "    </tr>\n",
       "  </thead>\n",
       "  <tbody>\n",
       "    <tr>\n",
       "      <th>1</th>\n",
       "      <td>2019-08-01</td>\n",
       "      <td>101217</td>\n",
       "      <td>21</td>\n",
       "    </tr>\n",
       "    <tr>\n",
       "      <th>3</th>\n",
       "      <td>2019-08-02</td>\n",
       "      <td>266748</td>\n",
       "      <td>45</td>\n",
       "    </tr>\n",
       "    <tr>\n",
       "      <th>5</th>\n",
       "      <td>2019-08-03</td>\n",
       "      <td>380996</td>\n",
       "      <td>61</td>\n",
       "    </tr>\n",
       "    <tr>\n",
       "      <th>7</th>\n",
       "      <td>2019-08-04</td>\n",
       "      <td>489567</td>\n",
       "      <td>78</td>\n",
       "    </tr>\n",
       "    <tr>\n",
       "      <th>9</th>\n",
       "      <td>2019-08-05</td>\n",
       "      <td>581995</td>\n",
       "      <td>101</td>\n",
       "    </tr>\n",
       "  </tbody>\n",
       "</table>\n",
       "</div>"
      ],
      "text/plain": [
       "        date  revenue  orders\n",
       "1 2019-08-01   101217      21\n",
       "3 2019-08-02   266748      45\n",
       "5 2019-08-03   380996      61\n",
       "7 2019-08-04   489567      78\n",
       "9 2019-08-05   581995     101"
      ]
     },
     "metadata": {},
     "output_type": "display_data"
    }
   ],
   "source": [
    "cumulativeRevenueB = cumulativeData[cumulativeData['group']=='b'][['date','revenue', 'orders']]\n",
    "display(cumulativeRevenueB.head())"
   ]
  },
  {
   "cell_type": "markdown",
   "metadata": {},
   "source": [
    "Выведем график:"
   ]
  },
  {
   "cell_type": "code",
   "execution_count": 24,
   "metadata": {},
   "outputs": [
    {
     "data": {
      "image/png": "[encoded data removed]",
      "text/plain": [
       "<Figure size 864x576 with 1 Axes>"
      ]
     },
     "metadata": {
      "needs_background": "light"
     },
     "output_type": "display_data"
    }
   ],
   "source": [
    "plt.figure(figsize=(12, 8))\n",
    "# Строим график выручки группы А\n",
    "plt.plot(cumulativeRevenueA['date'], cumulativeRevenueA['revenue'], label='A')\n",
    "# Строим график выручки группы B\n",
    "plt.plot(cumulativeRevenueB['date'], cumulativeRevenueB['revenue'], label='B')\n",
    "plt.xlabel('дата')\n",
    "plt.ylabel('выручка')\n",
    "plt.title('График кумулятивной выручки по группам');\n",
    "plt.legend();\n",
    "plt.ticklabel_format(axis = 'y', style = 'plain')"
   ]
  },
  {
   "cell_type": "markdown",
   "metadata": {},
   "source": [
    "**Промежуточный вывод к графику кумулятивной выручки по группам:**\n",
    "\n",
    "Оба графика растут. Наблюдается резкий скачок у группы B, скорее всего на ту дату были произведены заказы на крупную сумму или один заказ. Посмотрим, не было ли очень высоких заказов в дату 2019-08-19:"
   ]
  },
  {
   "cell_type": "code",
   "execution_count": 25,
   "metadata": {},
   "outputs": [
    {
     "data": {
      "text/html": [
       "<div>\n",
       "<style scoped>\n",
       "    .dataframe tbody tr th:only-of-type {\n",
       "        vertical-align: middle;\n",
       "    }\n",
       "\n",
       "    .dataframe tbody tr th {\n",
       "        vertical-align: top;\n",
       "    }\n",
       "\n",
       "    .dataframe thead th {\n",
       "        text-align: right;\n",
       "    }\n",
       "</style>\n",
       "<table border=\"1\" class=\"dataframe\">\n",
       "  <thead>\n",
       "    <tr style=\"text-align: right;\">\n",
       "      <th></th>\n",
       "      <th>transactionid</th>\n",
       "      <th>visitorid</th>\n",
       "      <th>date</th>\n",
       "      <th>revenue</th>\n",
       "      <th>group</th>\n",
       "    </tr>\n",
       "  </thead>\n",
       "  <tbody>\n",
       "    <tr>\n",
       "      <th>425</th>\n",
       "      <td>590470918</td>\n",
       "      <td>1920142716</td>\n",
       "      <td>2019-08-19</td>\n",
       "      <td>1294500</td>\n",
       "      <td>b</td>\n",
       "    </tr>\n",
       "    <tr>\n",
       "      <th>530</th>\n",
       "      <td>3970235543</td>\n",
       "      <td>2912540959</td>\n",
       "      <td>2019-08-19</td>\n",
       "      <td>43990</td>\n",
       "      <td>a</td>\n",
       "    </tr>\n",
       "    <tr>\n",
       "      <th>527</th>\n",
       "      <td>1570513684</td>\n",
       "      <td>2837914161</td>\n",
       "      <td>2019-08-19</td>\n",
       "      <td>33405</td>\n",
       "      <td>b</td>\n",
       "    </tr>\n",
       "    <tr>\n",
       "      <th>421</th>\n",
       "      <td>3765974140</td>\n",
       "      <td>1357170471</td>\n",
       "      <td>2019-08-19</td>\n",
       "      <td>31680</td>\n",
       "      <td>a</td>\n",
       "    </tr>\n",
       "    <tr>\n",
       "      <th>461</th>\n",
       "      <td>2683113224</td>\n",
       "      <td>154576532</td>\n",
       "      <td>2019-08-19</td>\n",
       "      <td>26550</td>\n",
       "      <td>b</td>\n",
       "    </tr>\n",
       "  </tbody>\n",
       "</table>\n",
       "</div>"
      ],
      "text/plain": [
       "     transactionid   visitorid       date  revenue group\n",
       "425      590470918  1920142716 2019-08-19  1294500     b\n",
       "530     3970235543  2912540959 2019-08-19    43990     a\n",
       "527     1570513684  2837914161 2019-08-19    33405     b\n",
       "421     3765974140  1357170471 2019-08-19    31680     a\n",
       "461     2683113224   154576532 2019-08-19    26550     b"
      ]
     },
     "execution_count": 25,
     "metadata": {},
     "output_type": "execute_result"
    }
   ],
   "source": [
    "source_orders_data.query(' date == \"2019-08-19\" ').sort_values(by='revenue', ascending=False).head(5)"
   ]
  },
  {
   "cell_type": "markdown",
   "metadata": {},
   "source": [
    "Теперь видно, что резкий скачок произошел из-за одного заказа на сумму в 1 294 500, по сравнению с остальными заказами он больше в несколько десятков раз."
   ]
  },
  {
   "cell_type": "markdown",
   "metadata": {},
   "source": [
    "## Построим график кумулятивного среднего чека по группам"
   ]
  },
  {
   "cell_type": "code",
   "execution_count": 26,
   "metadata": {},
   "outputs": [
    {
     "data": {
      "image/png": "[encoded data removed]",
      "text/plain": [
       "<Figure size 864x576 with 1 Axes>"
      ]
     },
     "metadata": {
      "needs_background": "light"
     },
     "output_type": "display_data"
    }
   ],
   "source": [
    "plt.figure(figsize=(12, 8))\n",
    "plt.plot(cumulativeRevenueA['date'], cumulativeRevenueA['revenue']/cumulativeRevenueA['orders'], label='A')\n",
    "plt.plot(cumulativeRevenueB['date'], cumulativeRevenueB['revenue']/cumulativeRevenueB['orders'], label='B')\n",
    "plt.xlabel('дата')\n",
    "plt.ylabel('средний чек')\n",
    "plt.title('График кумулятивного среднего чека по группам')\n",
    "plt.legend();"
   ]
  },
  {
   "cell_type": "markdown",
   "metadata": {},
   "source": [
    "**Промежуточный вывод к графику кумулятивного среднего чека по группам:**\n",
    "\n",
    "Показатели группы A более стабильны, наблюдается рост до 7500, далее график имеет колебания лишь в пределах 500 единиц. В течение почти всей первой половины графика показатели группы В выше чем у А, Далее 19 августа происходит резкий скачок опять же из-за уже указанного в пояснении к прошлому графики заказа."
   ]
  },
  {
   "cell_type": "markdown",
   "metadata": {},
   "source": [
    "## Построим график относительного изменения кумулятивного среднего чека группы B к группе A\n",
    "\n",
    "Соберём данные по кумулятивной выручке в один датафрейм:"
   ]
  },
  {
   "cell_type": "code",
   "execution_count": 27,
   "metadata": {},
   "outputs": [],
   "source": [
    "mergedCumulativeRevenue = cumulativeRevenueA.merge(cumulativeRevenueB, left_on='date', right_on='date', how='left', suffixes=['A', 'B'])"
   ]
  },
  {
   "cell_type": "markdown",
   "metadata": {},
   "source": [
    "Строим график:"
   ]
  },
  {
   "cell_type": "code",
   "execution_count": 28,
   "metadata": {},
   "outputs": [
    {
     "data": {
      "image/png": "[encoded data removed]",
      "text/plain": [
       "<Figure size 864x576 with 1 Axes>"
      ]
     },
     "metadata": {
      "needs_background": "light"
     },
     "output_type": "display_data"
    }
   ],
   "source": [
    "# cтроим отношение средних чеков\n",
    "plt.figure(figsize=(12, 8))\n",
    "plt.plot(mergedCumulativeRevenue['date'], (mergedCumulativeRevenue['revenueB']/mergedCumulativeRevenue['ordersB'])/(mergedCumulativeRevenue['revenueA']/mergedCumulativeRevenue['ordersA'])-1)\n",
    "\n",
    "# добавляем ось X\n",
    "plt.axhline(y=0, color='black', linestyle='--')\n",
    "plt.xlabel('дата')\n",
    "plt.ylabel('разница')\n",
    "plt.title('График относительного изменения кумулятивного среднего чека группы B к группе A');"
   ]
  },
  {
   "cell_type": "markdown",
   "metadata": {},
   "source": [
    "**Промежуточный вывод к графику относительного изменения кумулятивного среднего чека группы B к группе A:**\n",
    "\n",
    "Наблюдается несколько резких скачков, что явно свидетельствует о наличии заказов на крупную сумму."
   ]
  },
  {
   "cell_type": "markdown",
   "metadata": {},
   "source": [
    "## Построим график кумулятивного среднего количества заказов по группам\n",
    "\n",
    "Посчитаем кумулятивную конверсию:"
   ]
  },
  {
   "cell_type": "code",
   "execution_count": 29,
   "metadata": {},
   "outputs": [],
   "source": [
    "cumulativeData['conversion'] = cumulativeData['orders']/cumulativeData['visitors']"
   ]
  },
  {
   "cell_type": "markdown",
   "metadata": {},
   "source": [
    "Выделим наборы данных для групп А и B:"
   ]
  },
  {
   "cell_type": "code",
   "execution_count": 30,
   "metadata": {},
   "outputs": [],
   "source": [
    "cumulativeDataA = cumulativeData[cumulativeData['group']=='a']\n",
    "cumulativeDataB = cumulativeData[cumulativeData['group']=='b']"
   ]
  },
  {
   "cell_type": "markdown",
   "metadata": {},
   "source": [
    "Строим график:"
   ]
  },
  {
   "cell_type": "code",
   "execution_count": 31,
   "metadata": {},
   "outputs": [
    {
     "data": {
      "image/png": "[encoded data removed]",
      "text/plain": [
       "<Figure size 864x576 with 1 Axes>"
      ]
     },
     "metadata": {
      "needs_background": "light"
     },
     "output_type": "display_data"
    }
   ],
   "source": [
    "plt.figure(figsize=(12, 8))\n",
    "plt.plot(cumulativeDataA['date'], cumulativeDataA['conversion'], label='A')\n",
    "plt.plot(cumulativeDataB['date'], cumulativeDataB['conversion'], label='B')\n",
    "plt.legend()\n",
    "plt.xlabel('дата')\n",
    "plt.ylabel('разница')\n",
    "plt.title('График кумулятивной конверсии по группам');"
   ]
  },
  {
   "cell_type": "markdown",
   "metadata": {},
   "source": [
    "**Промежуточный вывод к графику кумулятивного среднего количества заказов по группам:**\n",
    "\n",
    "Конверсии групп разделились почти в самом начале, после чего каждая из них начала колебаться возле своего значения. Конверсия группы \"B\" стабильно превышает конверсию группы \"A\"."
   ]
  },
  {
   "cell_type": "markdown",
   "metadata": {},
   "source": [
    "## Построим график относительного изменения кумулятивного среднего количества заказов группы B к группе A.\n",
    "\n",
    "Соберём данные по кумулятивной конверсии в один набор:"
   ]
  },
  {
   "cell_type": "code",
   "execution_count": 32,
   "metadata": {},
   "outputs": [],
   "source": [
    "mergedCumulativeConversions = cumulativeDataA[['date','conversion']].merge(cumulativeDataB[['date','conversion']], left_on='date', right_on='date', how='left', suffixes=['A', 'B'])"
   ]
  },
  {
   "cell_type": "markdown",
   "metadata": {},
   "source": [
    "Построим график:"
   ]
  },
  {
   "cell_type": "code",
   "execution_count": 33,
   "metadata": {},
   "outputs": [
    {
     "data": {
      "image/png": "[encoded data removed]",
      "text/plain": [
       "<Figure size 864x576 with 1 Axes>"
      ]
     },
     "metadata": {
      "needs_background": "light"
     },
     "output_type": "display_data"
    }
   ],
   "source": [
    "plt.figure(figsize=(12, 8))\n",
    "plt.plot(mergedCumulativeConversions['date'], mergedCumulativeConversions['conversionB']/mergedCumulativeConversions['conversionA']-1)\n",
    "plt.title('Относительный прирост конверсии группы B относительно группы A')\n",
    "plt.axhline(y=0, color='black', linestyle='--')\n",
    "plt.axhline(y=-0.1, color='grey', linestyle='--');\n"
   ]
  },
  {
   "cell_type": "markdown",
   "metadata": {},
   "source": [
    "**Промежуточный вывод к графику относительного изменения кумулятивного среднего количества заказов группы B к группе A**\n",
    "\n",
    "Начиная с 6 августа группа \"B\" лидирует. Её конверсия росла до 16 августа и на максимуме составила около 20%, затем пошло постепенное снижение. К концу теста значение стало колебаться вокруг значения 0,13-0,15."
   ]
  },
  {
   "cell_type": "markdown",
   "metadata": {},
   "source": [
    "## Построим точечный график количества заказов по пользователям\n",
    "\n",
    "Подсчитаем количество заказов по пользователям:"
   ]
  },
  {
   "cell_type": "code",
   "execution_count": 34,
   "metadata": {},
   "outputs": [
    {
     "data": {
      "text/html": [
       "<div>\n",
       "<style scoped>\n",
       "    .dataframe tbody tr th:only-of-type {\n",
       "        vertical-align: middle;\n",
       "    }\n",
       "\n",
       "    .dataframe tbody tr th {\n",
       "        vertical-align: top;\n",
       "    }\n",
       "\n",
       "    .dataframe thead th {\n",
       "        text-align: right;\n",
       "    }\n",
       "</style>\n",
       "<table border=\"1\" class=\"dataframe\">\n",
       "  <thead>\n",
       "    <tr style=\"text-align: right;\">\n",
       "      <th></th>\n",
       "      <th>visitorid</th>\n",
       "      <th>transactions</th>\n",
       "    </tr>\n",
       "  </thead>\n",
       "  <tbody>\n",
       "    <tr>\n",
       "      <th>1023</th>\n",
       "      <td>4256040402</td>\n",
       "      <td>11</td>\n",
       "    </tr>\n",
       "    <tr>\n",
       "      <th>591</th>\n",
       "      <td>2458001652</td>\n",
       "      <td>11</td>\n",
       "    </tr>\n",
       "    <tr>\n",
       "      <th>569</th>\n",
       "      <td>2378935119</td>\n",
       "      <td>9</td>\n",
       "    </tr>\n",
       "    <tr>\n",
       "      <th>487</th>\n",
       "      <td>2038680547</td>\n",
       "      <td>8</td>\n",
       "    </tr>\n",
       "    <tr>\n",
       "      <th>44</th>\n",
       "      <td>199603092</td>\n",
       "      <td>5</td>\n",
       "    </tr>\n",
       "    <tr>\n",
       "      <th>744</th>\n",
       "      <td>3062433592</td>\n",
       "      <td>5</td>\n",
       "    </tr>\n",
       "    <tr>\n",
       "      <th>55</th>\n",
       "      <td>237748145</td>\n",
       "      <td>5</td>\n",
       "    </tr>\n",
       "    <tr>\n",
       "      <th>917</th>\n",
       "      <td>3803269165</td>\n",
       "      <td>5</td>\n",
       "    </tr>\n",
       "    <tr>\n",
       "      <th>299</th>\n",
       "      <td>1230306981</td>\n",
       "      <td>5</td>\n",
       "    </tr>\n",
       "    <tr>\n",
       "      <th>897</th>\n",
       "      <td>3717692402</td>\n",
       "      <td>5</td>\n",
       "    </tr>\n",
       "  </tbody>\n",
       "</table>\n",
       "</div>"
      ],
      "text/plain": [
       "       visitorid  transactions\n",
       "1023  4256040402            11\n",
       "591   2458001652            11\n",
       "569   2378935119             9\n",
       "487   2038680547             8\n",
       "44     199603092             5\n",
       "744   3062433592             5\n",
       "55     237748145             5\n",
       "917   3803269165             5\n",
       "299   1230306981             5\n",
       "897   3717692402             5"
      ]
     },
     "metadata": {},
     "output_type": "display_data"
    }
   ],
   "source": [
    "ordersByVisitors = source_orders_data.drop(['group', 'revenue', 'date'], axis=1).groupby('visitorid', as_index=False).agg({'transactionid' : pd.Series.nunique})\n",
    "ordersByVisitors.columns = ['visitorid','transactions']\n",
    "display(ordersByVisitors.sort_values(by='transactions',ascending=False).head(10))"
   ]
  },
  {
   "cell_type": "markdown",
   "metadata": {},
   "source": [
    "Построим диаграмму:"
   ]
  },
  {
   "cell_type": "code",
   "execution_count": 35,
   "metadata": {},
   "outputs": [
    {
     "data": {
      "image/png": "[encoded data removed]",
      "text/plain": [
       "<Figure size 432x288 with 1 Axes>"
      ]
     },
     "metadata": {
      "needs_background": "light"
     },
     "output_type": "display_data"
    }
   ],
   "source": [
    "x_values = pd.Series(range(0,len(ordersByVisitors)))\n",
    "\n",
    "plt.scatter(x_values, ordersByVisitors['transactions'])\n",
    "plt.xlabel('число пользователей')\n",
    "plt.ylabel('количество заказов')\n",
    "plt.title('График количества заказов по пользователям');"
   ]
  },
  {
   "cell_type": "markdown",
   "metadata": {},
   "source": [
    "**Промежуточный вывод к графику количества заказов по пользователям:**\n",
    "\n",
    "По графику видно, что большинство клиентов делают 1 заказ, чуть реже - два."
   ]
  },
  {
   "cell_type": "markdown",
   "metadata": {},
   "source": [
    "## Посчитаем 95-й и 99-й перцентили количества заказов на пользователя"
   ]
  },
  {
   "cell_type": "code",
   "execution_count": 36,
   "metadata": {},
   "outputs": [
    {
     "name": "stdout",
     "output_type": "stream",
     "text": [
      "[2. 4.]\n"
     ]
    }
   ],
   "source": [
    "print(np.percentile(ordersByVisitors['transactions'], [95, 99])) "
   ]
  },
  {
   "cell_type": "markdown",
   "metadata": {},
   "source": [
    "95% всех пользователей совершают 1-2 заказа. Все что более 2-ух заказов будем считать за границей аномальных пользователей."
   ]
  },
  {
   "cell_type": "markdown",
   "metadata": {},
   "source": [
    "## Построим точечный график стоимостей заказов"
   ]
  },
  {
   "cell_type": "code",
   "execution_count": 37,
   "metadata": {},
   "outputs": [
    {
     "data": {
      "text/plain": [
       "<matplotlib.collections.PathCollection at 0x7f2e9353f610>"
      ]
     },
     "execution_count": 37,
     "metadata": {},
     "output_type": "execute_result"
    },
    {
     "data": {
      "image/png": "[encoded data removed]",
      "text/plain": [
       "<Figure size 1080x360 with 1 Axes>"
      ]
     },
     "metadata": {
      "needs_background": "light"
     },
     "output_type": "display_data"
    }
   ],
   "source": [
    "x_values = pd.Series(range(0,len(source_orders_data['revenue'])))\n",
    "plt.figure(figsize=(15,5))\n",
    "plt.axhline(y=100000, color='grey', linestyle='--')\n",
    "plt.title('Точечный график стоимостей заказов:')\n",
    "plt.scatter(x_values, source_orders_data['revenue'])"
   ]
  },
  {
   "cell_type": "markdown",
   "metadata": {},
   "source": [
    "В графике присутствуют выбросы которые делают график неинформативным. Избавимся от 2 явных выбросов и возьмем только те значения, где результат меньше 195000."
   ]
  },
  {
   "cell_type": "code",
   "execution_count": 38,
   "metadata": {},
   "outputs": [
    {
     "data": {
      "image/png": "[encoded data removed]",
      "text/plain": [
       "<Figure size 1080x360 with 1 Axes>"
      ]
     },
     "metadata": {
      "needs_background": "light"
     },
     "output_type": "display_data"
    }
   ],
   "source": [
    "true_orders = source_orders_data[source_orders_data['revenue'] <= 195000]['revenue']\n",
    "x_values = pd.Series(range(0,len(true_orders)))\n",
    "plt.figure(figsize=(15,5))\n",
    "plt.grid()\n",
    "plt.title('График стоимостей заказов')\n",
    "plt.scatter(x_values, true_orders, alpha=0.5);"
   ]
  },
  {
   "cell_type": "markdown",
   "metadata": {},
   "source": [
    "Судя по графикам, большинство покупателей тратят не больше 25-30 т.р. Проверим это далее, рассчитав перецентили.\n",
    "\n",
    "## Посчитайте 95-й и 99-й перцентили стоимости заказов"
   ]
  },
  {
   "cell_type": "code",
   "execution_count": 39,
   "metadata": {},
   "outputs": [
    {
     "name": "stdout",
     "output_type": "stream",
     "text": [
      "[28000.  58233.2]\n"
     ]
    }
   ],
   "source": [
    "print(np.percentile(source_orders_data['revenue'], [95, 99]))"
   ]
  },
  {
   "cell_type": "markdown",
   "metadata": {},
   "source": [
    "Значение больше 30 000 будут являться границей для определения аномальных заказов."
   ]
  },
  {
   "cell_type": "markdown",
   "metadata": {},
   "source": [
    "## Посчитаем статистическую значимость различий в среднем количестве заказов между группами по «сырым» данным:\n",
    "<br>Нулевая гипотеза: конверсии посетителей в группе А и В статистически не отличаются.\n",
    "<br>Альтернативная гипотеза: конверсии посетителей в группе А и В статистически отличаются."
   ]
  },
  {
   "cell_type": "code",
   "execution_count": 40,
   "metadata": {},
   "outputs": [
    {
     "data": {
      "text/html": [
       "<div>\n",
       "<style scoped>\n",
       "    .dataframe tbody tr th:only-of-type {\n",
       "        vertical-align: middle;\n",
       "    }\n",
       "\n",
       "    .dataframe tbody tr th {\n",
       "        vertical-align: top;\n",
       "    }\n",
       "\n",
       "    .dataframe thead th {\n",
       "        text-align: right;\n",
       "    }\n",
       "</style>\n",
       "<table border=\"1\" class=\"dataframe\">\n",
       "  <thead>\n",
       "    <tr style=\"text-align: right;\">\n",
       "      <th></th>\n",
       "      <th>date</th>\n",
       "      <th>transactionsPerDateA</th>\n",
       "      <th>revenuePerDateA</th>\n",
       "      <th>transactionsPerDateB</th>\n",
       "      <th>revenuePerDateB</th>\n",
       "      <th>transactionsCummulativeA</th>\n",
       "      <th>revenueCummulativeA</th>\n",
       "      <th>transactionsCummulativeB</th>\n",
       "      <th>revenueCummulativeB</th>\n",
       "      <th>visitorsPerDateA</th>\n",
       "      <th>visitorsPerDateB</th>\n",
       "      <th>visitorsCummulativeA</th>\n",
       "      <th>visitorsCummulativeB</th>\n",
       "    </tr>\n",
       "  </thead>\n",
       "  <tbody>\n",
       "    <tr>\n",
       "      <th>0</th>\n",
       "      <td>2019-08-01</td>\n",
       "      <td>24</td>\n",
       "      <td>148579</td>\n",
       "      <td>21</td>\n",
       "      <td>101217</td>\n",
       "      <td>24</td>\n",
       "      <td>148579</td>\n",
       "      <td>21</td>\n",
       "      <td>101217</td>\n",
       "      <td>719</td>\n",
       "      <td>713</td>\n",
       "      <td>719</td>\n",
       "      <td>713</td>\n",
       "    </tr>\n",
       "    <tr>\n",
       "      <th>1</th>\n",
       "      <td>2019-08-02</td>\n",
       "      <td>20</td>\n",
       "      <td>93822</td>\n",
       "      <td>24</td>\n",
       "      <td>165531</td>\n",
       "      <td>44</td>\n",
       "      <td>242401</td>\n",
       "      <td>45</td>\n",
       "      <td>266748</td>\n",
       "      <td>619</td>\n",
       "      <td>581</td>\n",
       "      <td>1338</td>\n",
       "      <td>1294</td>\n",
       "    </tr>\n",
       "    <tr>\n",
       "      <th>2</th>\n",
       "      <td>2019-08-03</td>\n",
       "      <td>24</td>\n",
       "      <td>112473</td>\n",
       "      <td>16</td>\n",
       "      <td>114248</td>\n",
       "      <td>68</td>\n",
       "      <td>354874</td>\n",
       "      <td>61</td>\n",
       "      <td>380996</td>\n",
       "      <td>507</td>\n",
       "      <td>509</td>\n",
       "      <td>1845</td>\n",
       "      <td>1803</td>\n",
       "    </tr>\n",
       "    <tr>\n",
       "      <th>3</th>\n",
       "      <td>2019-08-04</td>\n",
       "      <td>16</td>\n",
       "      <td>70825</td>\n",
       "      <td>17</td>\n",
       "      <td>108571</td>\n",
       "      <td>84</td>\n",
       "      <td>425699</td>\n",
       "      <td>78</td>\n",
       "      <td>489567</td>\n",
       "      <td>717</td>\n",
       "      <td>770</td>\n",
       "      <td>2562</td>\n",
       "      <td>2573</td>\n",
       "    </tr>\n",
       "    <tr>\n",
       "      <th>4</th>\n",
       "      <td>2019-08-05</td>\n",
       "      <td>25</td>\n",
       "      <td>124218</td>\n",
       "      <td>23</td>\n",
       "      <td>92428</td>\n",
       "      <td>109</td>\n",
       "      <td>549917</td>\n",
       "      <td>101</td>\n",
       "      <td>581995</td>\n",
       "      <td>756</td>\n",
       "      <td>707</td>\n",
       "      <td>3318</td>\n",
       "      <td>3280</td>\n",
       "    </tr>\n",
       "  </tbody>\n",
       "</table>\n",
       "</div>"
      ],
      "text/plain": [
       "        date  transactionsPerDateA  revenuePerDateA  transactionsPerDateB  \\\n",
       "0 2019-08-01                    24           148579                    21   \n",
       "1 2019-08-02                    20            93822                    24   \n",
       "2 2019-08-03                    24           112473                    16   \n",
       "3 2019-08-04                    16            70825                    17   \n",
       "4 2019-08-05                    25           124218                    23   \n",
       "\n",
       "   revenuePerDateB  transactionsCummulativeA  revenueCummulativeA  \\\n",
       "0           101217                        24               148579   \n",
       "1           165531                        44               242401   \n",
       "2           114248                        68               354874   \n",
       "3           108571                        84               425699   \n",
       "4            92428                       109               549917   \n",
       "\n",
       "   transactionsCummulativeB  revenueCummulativeB  visitorsPerDateA  \\\n",
       "0                        21               101217               719   \n",
       "1                        45               266748               619   \n",
       "2                        61               380996               507   \n",
       "3                        78               489567               717   \n",
       "4                       101               581995               756   \n",
       "\n",
       "   visitorsPerDateB  visitorsCummulativeA  visitorsCummulativeB  \n",
       "0               713                   719                   713  \n",
       "1               581                  1338                  1294  \n",
       "2               509                  1845                  1803  \n",
       "3               770                  2562                  2573  \n",
       "4               707                  3318                  3280  "
      ]
     },
     "metadata": {},
     "output_type": "display_data"
    }
   ],
   "source": [
    "#Найдём количество посетителей по датам в группе A:\n",
    "visitorsADaily = source_visitors_data[source_visitors_data['group']=='a'][['date', 'visitors']]\n",
    "visitorsADaily.columns = ['date', 'visitorsPerDateA']\n",
    "#Найдём кумулятивную сумму количества посетителей по датам в группе A:\n",
    "visitorsACummulative = visitorsADaily.apply(lambda x: visitorsADaily[visitorsADaily['date'] <= x['date']].agg({'date' : 'max', 'visitorsPerDateA' : 'sum'}), axis=1)\n",
    "visitorsACummulative.columns = ['date', 'visitorsCummulativeA']\n",
    "#Найдём количество посетителей по датам в группе B:\n",
    "visitorsBDaily = source_visitors_data[source_visitors_data['group']=='b'][['date', 'visitors']]\n",
    "visitorsBDaily.columns = ['date', 'visitorsPerDateB']\n",
    "#Найдём кумулятивную сумму количества посетителей по датам в группе B:\n",
    "visitorsBCummulative = visitorsBDaily.apply(lambda x: visitorsBDaily[visitorsBDaily['date'] <= x['date']].agg({'date' : 'max', 'visitorsPerDateB' : 'sum'}), axis=1)\n",
    "visitorsBCummulative.columns = ['date', 'visitorsCummulativeB']\n",
    "#Найдём количество заказов и выручку по датам в группе A:\n",
    "transactionsADaily = source_orders_data[source_orders_data['group']=='a'][['date', 'transactionid', 'visitorid', 'revenue']]\\\n",
    "    .groupby('date', as_index=False)\\\n",
    "    .agg({'transactionid' : pd.Series.nunique, 'revenue' : 'sum'})\n",
    "transactionsADaily.columns = ['date', 'transactionsPerDateA', 'revenuePerDateA']\n",
    "#Найдём кумулятивную сумму количества заказов и выручки в группе A:\n",
    "transactionsACummulative = transactionsADaily.apply(\n",
    "    lambda x: \\\n",
    "        transactionsADaily[transactionsADaily['date'] <= x['date']]\\\n",
    "            .agg({\n",
    "                'date' : 'max',\n",
    "                'transactionsPerDateA' : 'sum',\n",
    "                'revenuePerDateA' : 'sum'}), axis=1).sort_values(by=['date'])\n",
    "transactionsACummulative.columns = ['date', 'transactionsCummulativeA', 'revenueCummulativeA']\n",
    "#Найдём количество заказов и выручку по датам в группе B:\n",
    "transactionsBDaily = source_orders_data[source_orders_data['group']=='b'][['date', 'transactionid', 'visitorid', 'revenue']]\\\n",
    "    .groupby('date', as_index=False)\\\n",
    "    .agg({'transactionid' : pd.Series.nunique, 'revenue' : 'sum'})\n",
    "transactionsBDaily.columns = ['date', 'transactionsPerDateB', 'revenuePerDateB']\n",
    "#Найдём кумулятивную сумму количества заказов и выручки в группе B:\n",
    "transactionsBCummulative = transactionsBDaily.apply(\n",
    "    lambda x: \\\n",
    "        transactionsBDaily[transactionsBDaily['date'] <= x['date']]\\\n",
    "            .agg({\n",
    "                'date' : 'max',\n",
    "                'transactionsPerDateB' : 'sum',\n",
    "                'revenuePerDateB' : 'sum'}), axis=1).sort_values(by=['date'])\n",
    "transactionsBCummulative.columns = ['date', 'transactionsCummulativeB', 'revenueCummulativeB']\n",
    "#Соединим полученные данные в один набор для анализа:\n",
    "total_raw_data = transactionsADaily.merge(transactionsBDaily, left_on='date', right_on='date', how='left')\\\n",
    "    .merge(transactionsACummulative, left_on='date', right_on='date', how='left')\\\n",
    "    .merge(transactionsBCummulative, left_on='date', right_on='date', how='left')\\\n",
    "    .merge(visitorsADaily, left_on='date', right_on='date', how='left')\\\n",
    "    .merge(visitorsBDaily, left_on='date', right_on='date', how='left')\\\n",
    "    .merge(visitorsACummulative, left_on='date', right_on='date', how='left')\\\n",
    "    .merge(visitorsBCummulative, left_on='date', right_on='date', how='left')\n",
    "\n",
    "display(total_raw_data.head())"
   ]
  },
  {
   "cell_type": "markdown",
   "metadata": {},
   "source": [
    "Посчитаем заказы каждого посетителя, кто сделал хоть один заказ, в группе A:"
   ]
  },
  {
   "cell_type": "code",
   "execution_count": 41,
   "metadata": {},
   "outputs": [],
   "source": [
    "transactionsByVisitorsA = source_orders_data[source_orders_data['group']=='a'].groupby('visitorid', as_index=False).agg({'transactionid' : pd.Series.nunique})\n",
    "transactionsByVisitorsA.columns = ['visitorid', 'transactions']"
   ]
  },
  {
   "cell_type": "markdown",
   "metadata": {},
   "source": [
    "Посчитаем заказы каждого посетителя, кто сделал хоть один заказ, в группе B:"
   ]
  },
  {
   "cell_type": "code",
   "execution_count": 42,
   "metadata": {},
   "outputs": [],
   "source": [
    "transactionsByVisitorsB = source_orders_data[source_orders_data['group']=='b'].groupby('visitorid', as_index=False).agg({'transactionid' : pd.Series.nunique})\n",
    "transactionsByVisitorsB.columns = ['visitorid', 'transactions']"
   ]
  },
  {
   "cell_type": "markdown",
   "metadata": {},
   "source": [
    "Создадим набор данных с количеством заказов каждого посетителя в группах A и В:"
   ]
  },
  {
   "cell_type": "code",
   "execution_count": 43,
   "metadata": {},
   "outputs": [],
   "source": [
    "sampleA = pd.concat([transactionsByVisitorsA['transactions'],pd.Series(0, index=np.arange(total_raw_data['visitorsPerDateA'].sum() - len(transactionsByVisitorsA['transactions'])), name='transactions')],axis=0)\n",
    "sampleB = pd.concat([transactionsByVisitorsB['transactions'],pd.Series(0, index=np.arange(total_raw_data['visitorsPerDateB'].sum() - len(transactionsByVisitorsB['transactions'])), name='transactions')],axis=0)"
   ]
  },
  {
   "cell_type": "markdown",
   "metadata": {},
   "source": [
    "Применим критерий Манна-Уитни, округлив значение до трёх знаков после запятой:"
   ]
  },
  {
   "cell_type": "code",
   "execution_count": 44,
   "metadata": {},
   "outputs": [
    {
     "name": "stdout",
     "output_type": "stream",
     "text": [
      "0.017\n"
     ]
    }
   ],
   "source": [
    "print(\"{0:.3f}\".format(stats.mannwhitneyu(sampleA, sampleB, alternative = 'two-sided').pvalue))"
   ]
  },
  {
   "cell_type": "markdown",
   "metadata": {},
   "source": [
    "Выведем относительный прирост конверсии группы B, округлив значение до трёх знаков после запятой::"
   ]
  },
  {
   "cell_type": "code",
   "execution_count": 45,
   "metadata": {},
   "outputs": [
    {
     "name": "stdout",
     "output_type": "stream",
     "text": [
      "Относительный прирост равен: 0.138\n"
     ]
    }
   ],
   "source": [
    "print(\"Относительный прирост равен: {0:.3f}\".format(sampleB.mean()/sampleA.mean()-1))"
   ]
  },
  {
   "cell_type": "markdown",
   "metadata": {},
   "source": [
    "**Вывод:**\n",
    "<br>По «сырым» данным различие в конверсиях групп A и B статистически значимо (p-value < 0,05). Значит, верна альтернативная гипотеза: конверсии посетителей в группе А и В статистически отличаются. При этом относительный выигрыш группы B равен 13,8%. "
   ]
  },
  {
   "cell_type": "markdown",
   "metadata": {},
   "source": [
    "## Посчитайте статистическую значимость различий в среднем чеке заказа между группами по «сырым» данным\n",
    "<br>Нулевая гипотеза: средние чеки в группе А и В статистически не отличаются.\n",
    "<br>Альтернативная гипотеза: средние чеки в группе А и В статистически отличаются.\n",
    "\n",
    "Посчитаем статистическую значимость различий в среднем чеке заказа между группами по \"сырым\" данным:"
   ]
  },
  {
   "cell_type": "code",
   "execution_count": 46,
   "metadata": {},
   "outputs": [
    {
     "name": "stdout",
     "output_type": "stream",
     "text": [
      "0.729\n"
     ]
    }
   ],
   "source": [
    "print(\"{0:.3f}\".format(stats.mannwhitneyu(source_orders_data[source_orders_data['group']=='a']['revenue'], source_orders_data[source_orders_data['group']=='b']['revenue'], alternative = 'two-sided')[1]))\n"
   ]
  },
  {
   "cell_type": "markdown",
   "metadata": {},
   "source": [
    "Посмотрим различия в среднем чеке между группами:"
   ]
  },
  {
   "cell_type": "code",
   "execution_count": 47,
   "metadata": {},
   "outputs": [
    {
     "name": "stdout",
     "output_type": "stream",
     "text": [
      "0.259\n"
     ]
    }
   ],
   "source": [
    "print(\"{0:.3f}\".format(source_orders_data[source_orders_data['group']=='b']['revenue'].mean()/source_orders_data[source_orders_data['group']=='a']['revenue'].mean()-1)) "
   ]
  },
  {
   "cell_type": "markdown",
   "metadata": {},
   "source": [
    "**Выводы:**\n",
    "<br>P-value значительно больше 0,05 (0,729 > 0,05). Значит, причин отвергать нулевую гипотезу и считать, что в среднем чеке есть различия, нет. При этом средний чек группы B значительно больше среднего чека группы A."
   ]
  },
  {
   "cell_type": "markdown",
   "metadata": {},
   "source": [
    "## Посчитаем статистическую значимость различий в среднем количестве заказов между группами по «очищенным» данным.\n",
    "\n",
    "Согласно прошлым подсчетам аномальными значениеями являются: более двух заказов и заказы дороже 30000.\n",
    "<br>Гипотезы остались такими же:\n",
    "<br>Нулевая гипотеза: конверсии посетителей в группе А и В статистически не отличаются.\n",
    "<br>Альтернативная гипотеза: конверсии посетителей в группе А и В статистически отличаются."
   ]
  },
  {
   "cell_type": "code",
   "execution_count": 48,
   "metadata": {},
   "outputs": [
    {
     "data": {
      "text/plain": [
       "(68,)"
      ]
     },
     "metadata": {},
     "output_type": "display_data"
    }
   ],
   "source": [
    "#Сделаем срез пользователей с числом заказов более двух:\n",
    "visitorsWithManyTransactions = pd.concat([transactionsByVisitorsA[transactionsByVisitorsA['transactions'] > 2]['visitorid'], transactionsByVisitorsB[transactionsByVisitorsB['transactions'] > 2]['visitorid']], axis = 0)\n",
    "#Сделаем срез пользователей, совершивших заказы дороже 30 000:\n",
    "visitorsWithExpensiveTransactions = source_orders_data[source_orders_data['revenue'] > 30000]['visitorid']\n",
    "#Соединим оба эти среза в одном наборе данных для анализа:\n",
    "abnormalVisitors = pd.concat([visitorsWithManyTransactions, visitorsWithExpensiveTransactions], axis = 0).drop_duplicates().sort_values()\n",
    "#Узнаем, сколько всего аномальных посетителей:\n",
    "display(abnormalVisitors.shape) "
   ]
  },
  {
   "cell_type": "code",
   "execution_count": 49,
   "metadata": {},
   "outputs": [],
   "source": [
    "#Подготовим набор данных без аномальных посетителей для группы A:\n",
    "sampleAFiltered = pd.concat([transactionsByVisitorsA[np.logical_not(transactionsByVisitorsA['visitorid'].isin(abnormalVisitors))]['transactions'],pd.Series(0, index=np.arange(total_raw_data['visitorsPerDateA'].sum() - len(transactionsByVisitorsA['transactions'])),name='transactions')],axis=0)\n",
    "#Подготовим набор данных без аномальных посетителей для группы B:\n",
    "sampleBFiltered = pd.concat([transactionsByVisitorsB[np.logical_not(transactionsByVisitorsB['visitorid'].isin(abnormalVisitors))]['transactions'],pd.Series(0, index=np.arange(total_raw_data['visitorsPerDateB'].sum() - len(transactionsByVisitorsB['transactions'])),name='transactions')],axis=0)"
   ]
  },
  {
   "cell_type": "code",
   "execution_count": 50,
   "metadata": {},
   "outputs": [
    {
     "name": "stdout",
     "output_type": "stream",
     "text": [
      "p-значение:  0.013\n",
      "Отвергаем нулевую гипотезу\n",
      "относительный выигрыш группы B: 0.172\n"
     ]
    }
   ],
   "source": [
    "alpha = .05 \n",
    "results = stats.mannwhitneyu(sampleAFiltered, sampleBFiltered)\n",
    "\n",
    "\n",
    "print('p-значение: ', \"{0:.3f}\".format(results.pvalue))\n",
    "\n",
    "if results.pvalue < alpha:\n",
    "    print(\"Отвергаем нулевую гипотезу\")\n",
    "else:\n",
    "    print(\"Не получилось отвергнуть нулевую гипотезу\") \n",
    "\n",
    "print('относительный выигрыш группы B:', \"{0:.3f}\".format(sampleBFiltered.mean()/sampleAFiltered.mean()-1))"
   ]
  },
  {
   "cell_type": "markdown",
   "metadata": {},
   "source": [
    "**Вывод:**\n",
    "<br>По «очищенным» данным различие в конверсиях групп A и B по прежнему велико (p-value < 0,05). Значит, верна альтернативная гипотеза: конверсии посетителей в группе А и В статистически отличаются. При этом относительный выигрыш группы B увеличился с 13,8% до 17,2%."
   ]
  },
  {
   "cell_type": "markdown",
   "metadata": {},
   "source": [
    "## Посчитаем статистическую значимость различий в среднем чеке заказа между группами по «очищенным» данным\n",
    "<br>Гипотезы:\n",
    "<br>Нулевая гипотеза: различий в статистической значимости в среднем чеке между группами по \"очищенным\" данным нет \n",
    "<br>Альтернативная гипотеза: есть различия в статистической значимости в среднем чеке между группами по \"очищенным\" данным\n",
    "\n",
    "Рассчитаем статистическую значимость различий в среднем чеке между сегментами после фильтрации:"
   ]
  },
  {
   "cell_type": "code",
   "execution_count": 51,
   "metadata": {},
   "outputs": [
    {
     "name": "stdout",
     "output_type": "stream",
     "text": [
      "0.720\n"
     ]
    }
   ],
   "source": [
    "print(\"{0:.3f}\".format(stats.mannwhitneyu(\n",
    "    source_orders_data[np.logical_and(\n",
    "        source_orders_data['group']=='a',\n",
    "        np.logical_not(source_orders_data['visitorid'].isin(abnormalVisitors)))]['revenue'],\n",
    "    source_orders_data[np.logical_and(\n",
    "        source_orders_data['group']=='b',\n",
    "        np.logical_not(source_orders_data['visitorid'].isin(abnormalVisitors)))]['revenue'], alternative = 'two-sided')[1]))"
   ]
  },
  {
   "cell_type": "markdown",
   "metadata": {},
   "source": [
    "Найдём относительные различия в среднем чеке между группами после фильтрации:"
   ]
  },
  {
   "cell_type": "code",
   "execution_count": 52,
   "metadata": {},
   "outputs": [
    {
     "name": "stdout",
     "output_type": "stream",
     "text": [
      "-0.023\n"
     ]
    }
   ],
   "source": [
    "print(\"{0:.3f}\".format(\n",
    "    source_orders_data[np.logical_and(source_orders_data['group']=='b',np.logical_not(source_orders_data['visitorid'].isin(abnormalVisitors)))]['revenue'].mean()/\n",
    "    source_orders_data[np.logical_and(\n",
    "        source_orders_data['group']=='a',\n",
    "        np.logical_not(source_orders_data['visitorid'].isin(abnormalVisitors)))]['revenue'].mean() - 1)) "
   ]
  },
  {
   "cell_type": "markdown",
   "metadata": {},
   "source": [
    "**Вывод:**\n",
    "\n",
    "P-value значительно больше 0,05 (0,720 > 0,05). Значит, причин отвергать нулевую гипотезу и считать, что в среднем чеке есть различия, нет. При этом средний чек группы B стал меньше среднего чека группы A на 0.023."
   ]
  },
  {
   "cell_type": "markdown",
   "metadata": {},
   "source": [
    "**ИТОГОВЫЙ ВЫВОД:**\n",
    "\n",
    "Данные по конверсии отличаются, это можно проследить и по \"чистым\", и по \"грязным\" данным. Если убрать выбросы, то видно, что относительный выигрыш группы B составляет 17,2% (увеличился по сравнению с данными с выбросами). Средний чек группы B оказался незначительно (на 2%) ниже среднего чека группы A по \"очищенным\" данным, в то время как по \"сырым\" данным, он был больше на ~26% (из-за заказа на крупную сумму). Прирост конверсии у группы B - неоспоримый факт, что при том же среднем чеке даёт увеличение выручки. Так как главной целью исследования является увеличение выручки, то проведение теста **можно остановить**."
   ]
  },
  {
   "cell_type": "code",
   "execution_count": null,
   "metadata": {},
   "outputs": [],
   "source": []
  }
 ],
 "metadata": {
  "ExecuteTimeLog": [
   {
    "duration": 1231,
    "start_time": "2022-08-25T06:38:36.244Z"
   },
   {
    "duration": 216,
    "start_time": "2022-08-25T06:38:37.840Z"
   },
   {
    "duration": 12,
    "start_time": "2022-08-25T06:39:04.619Z"
   },
   {
    "duration": 11,
    "start_time": "2022-08-25T06:39:06.383Z"
   },
   {
    "duration": 9,
    "start_time": "2022-08-25T06:39:07.735Z"
   },
   {
    "duration": 46,
    "start_time": "2022-10-09T16:32:51.457Z"
   },
   {
    "duration": 1375,
    "start_time": "2022-10-09T16:33:11.202Z"
   },
   {
    "duration": 70,
    "start_time": "2022-10-09T16:33:12.579Z"
   },
   {
    "duration": 97,
    "start_time": "2022-10-09T16:33:12.653Z"
   },
   {
    "duration": 0,
    "start_time": "2022-10-09T16:33:12.752Z"
   },
   {
    "duration": 13,
    "start_time": "2022-10-09T16:33:26.945Z"
   },
   {
    "duration": 100,
    "start_time": "2022-10-09T16:39:30.466Z"
   },
   {
    "duration": 1050,
    "start_time": "2022-10-09T16:39:57.889Z"
   },
   {
    "duration": 28,
    "start_time": "2022-10-09T16:39:58.940Z"
   },
   {
    "duration": 12,
    "start_time": "2022-10-09T16:39:58.970Z"
   },
   {
    "duration": 9,
    "start_time": "2022-10-09T16:39:58.984Z"
   },
   {
    "duration": 18,
    "start_time": "2022-10-09T16:39:58.995Z"
   },
   {
    "duration": 42,
    "start_time": "2022-10-09T16:39:59.014Z"
   },
   {
    "duration": 12,
    "start_time": "2022-10-09T16:39:59.058Z"
   },
   {
    "duration": 1095,
    "start_time": "2022-10-09T16:43:24.974Z"
   },
   {
    "duration": 37,
    "start_time": "2022-10-09T16:43:26.071Z"
   },
   {
    "duration": 13,
    "start_time": "2022-10-09T16:43:26.114Z"
   },
   {
    "duration": 15,
    "start_time": "2022-10-09T16:43:26.128Z"
   },
   {
    "duration": 12,
    "start_time": "2022-10-09T16:43:26.145Z"
   },
   {
    "duration": 45,
    "start_time": "2022-10-09T16:43:26.158Z"
   },
   {
    "duration": 11,
    "start_time": "2022-10-09T16:43:26.205Z"
   },
   {
    "duration": 10,
    "start_time": "2022-10-09T16:43:26.218Z"
   },
   {
    "duration": 6,
    "start_time": "2022-10-09T16:43:26.230Z"
   },
   {
    "duration": 7,
    "start_time": "2022-10-09T16:43:26.237Z"
   },
   {
    "duration": 67,
    "start_time": "2022-10-09T16:43:26.246Z"
   },
   {
    "duration": 5,
    "start_time": "2022-10-09T16:43:26.315Z"
   },
   {
    "duration": 6,
    "start_time": "2022-10-09T16:43:26.321Z"
   },
   {
    "duration": 7,
    "start_time": "2022-10-09T16:43:26.329Z"
   },
   {
    "duration": 333,
    "start_time": "2022-10-09T16:43:26.338Z"
   },
   {
    "duration": 363,
    "start_time": "2022-10-09T16:43:26.673Z"
   },
   {
    "duration": 1093,
    "start_time": "2022-10-09T17:28:18.455Z"
   },
   {
    "duration": 126,
    "start_time": "2022-10-09T17:28:19.550Z"
   },
   {
    "duration": 0,
    "start_time": "2022-10-09T17:28:19.678Z"
   },
   {
    "duration": 0,
    "start_time": "2022-10-09T17:28:19.679Z"
   },
   {
    "duration": 0,
    "start_time": "2022-10-09T17:28:19.680Z"
   },
   {
    "duration": 0,
    "start_time": "2022-10-09T17:28:19.682Z"
   },
   {
    "duration": 0,
    "start_time": "2022-10-09T17:28:19.694Z"
   },
   {
    "duration": 0,
    "start_time": "2022-10-09T17:28:19.696Z"
   },
   {
    "duration": 0,
    "start_time": "2022-10-09T17:28:19.697Z"
   },
   {
    "duration": 0,
    "start_time": "2022-10-09T17:28:19.698Z"
   },
   {
    "duration": 0,
    "start_time": "2022-10-09T17:28:19.700Z"
   },
   {
    "duration": 0,
    "start_time": "2022-10-09T17:28:19.701Z"
   },
   {
    "duration": 0,
    "start_time": "2022-10-09T17:28:19.704Z"
   },
   {
    "duration": 0,
    "start_time": "2022-10-09T17:28:19.705Z"
   },
   {
    "duration": 0,
    "start_time": "2022-10-09T17:28:19.706Z"
   },
   {
    "duration": 0,
    "start_time": "2022-10-09T17:28:19.708Z"
   },
   {
    "duration": 1162,
    "start_time": "2022-10-09T17:31:11.318Z"
   },
   {
    "duration": 80,
    "start_time": "2022-10-09T17:31:12.482Z"
   },
   {
    "duration": 0,
    "start_time": "2022-10-09T17:31:12.565Z"
   },
   {
    "duration": 0,
    "start_time": "2022-10-09T17:31:12.566Z"
   },
   {
    "duration": 0,
    "start_time": "2022-10-09T17:31:12.568Z"
   },
   {
    "duration": 0,
    "start_time": "2022-10-09T17:31:12.569Z"
   },
   {
    "duration": 0,
    "start_time": "2022-10-09T17:31:12.571Z"
   },
   {
    "duration": 0,
    "start_time": "2022-10-09T17:31:12.572Z"
   },
   {
    "duration": 0,
    "start_time": "2022-10-09T17:31:12.573Z"
   },
   {
    "duration": 0,
    "start_time": "2022-10-09T17:31:12.575Z"
   },
   {
    "duration": 0,
    "start_time": "2022-10-09T17:31:12.576Z"
   },
   {
    "duration": 0,
    "start_time": "2022-10-09T17:31:12.577Z"
   },
   {
    "duration": 0,
    "start_time": "2022-10-09T17:31:12.579Z"
   },
   {
    "duration": 0,
    "start_time": "2022-10-09T17:31:12.580Z"
   },
   {
    "duration": 0,
    "start_time": "2022-10-09T17:31:12.581Z"
   },
   {
    "duration": 0,
    "start_time": "2022-10-09T17:31:12.582Z"
   },
   {
    "duration": 1151,
    "start_time": "2022-10-09T17:31:27.283Z"
   },
   {
    "duration": 42,
    "start_time": "2022-10-09T17:31:28.436Z"
   },
   {
    "duration": 48,
    "start_time": "2022-10-09T17:31:28.480Z"
   },
   {
    "duration": 25,
    "start_time": "2022-10-09T17:31:28.530Z"
   },
   {
    "duration": 9,
    "start_time": "2022-10-09T17:31:28.557Z"
   },
   {
    "duration": 18,
    "start_time": "2022-10-09T17:31:28.568Z"
   },
   {
    "duration": 11,
    "start_time": "2022-10-09T17:31:28.595Z"
   },
   {
    "duration": 9,
    "start_time": "2022-10-09T17:31:28.608Z"
   },
   {
    "duration": 7,
    "start_time": "2022-10-09T17:31:28.618Z"
   },
   {
    "duration": 9,
    "start_time": "2022-10-09T17:31:28.627Z"
   },
   {
    "duration": 9,
    "start_time": "2022-10-09T17:31:28.637Z"
   },
   {
    "duration": 7,
    "start_time": "2022-10-09T17:31:28.648Z"
   },
   {
    "duration": 6,
    "start_time": "2022-10-09T17:31:28.656Z"
   },
   {
    "duration": 20,
    "start_time": "2022-10-09T17:31:28.696Z"
   },
   {
    "duration": 11,
    "start_time": "2022-10-09T17:31:28.718Z"
   },
   {
    "duration": 14,
    "start_time": "2022-10-09T17:31:28.731Z"
   },
   {
    "duration": 1077,
    "start_time": "2022-10-09T17:33:27.201Z"
   },
   {
    "duration": 43,
    "start_time": "2022-10-09T17:33:28.280Z"
   },
   {
    "duration": 51,
    "start_time": "2022-10-09T17:33:28.325Z"
   },
   {
    "duration": 27,
    "start_time": "2022-10-09T17:33:28.377Z"
   },
   {
    "duration": 9,
    "start_time": "2022-10-09T17:33:28.407Z"
   },
   {
    "duration": 14,
    "start_time": "2022-10-09T17:33:28.418Z"
   },
   {
    "duration": 10,
    "start_time": "2022-10-09T17:33:28.434Z"
   },
   {
    "duration": 7,
    "start_time": "2022-10-09T17:33:28.446Z"
   },
   {
    "duration": 50,
    "start_time": "2022-10-09T17:33:28.454Z"
   },
   {
    "duration": 6,
    "start_time": "2022-10-09T17:33:28.506Z"
   },
   {
    "duration": 8,
    "start_time": "2022-10-09T17:33:28.514Z"
   },
   {
    "duration": 6,
    "start_time": "2022-10-09T17:33:28.524Z"
   },
   {
    "duration": 9,
    "start_time": "2022-10-09T17:33:28.532Z"
   },
   {
    "duration": 27,
    "start_time": "2022-10-09T17:33:28.545Z"
   },
   {
    "duration": 12,
    "start_time": "2022-10-09T17:33:28.596Z"
   },
   {
    "duration": 19,
    "start_time": "2022-10-09T17:33:28.609Z"
   },
   {
    "duration": 72,
    "start_time": "2022-10-09T17:33:28.630Z"
   },
   {
    "duration": 0,
    "start_time": "2022-10-09T17:33:28.703Z"
   },
   {
    "duration": 1127,
    "start_time": "2022-10-09T17:33:47.567Z"
   },
   {
    "duration": 44,
    "start_time": "2022-10-09T17:33:48.697Z"
   },
   {
    "duration": 50,
    "start_time": "2022-10-09T17:33:48.743Z"
   },
   {
    "duration": 27,
    "start_time": "2022-10-09T17:33:48.795Z"
   },
   {
    "duration": 11,
    "start_time": "2022-10-09T17:33:48.825Z"
   },
   {
    "duration": 17,
    "start_time": "2022-10-09T17:33:48.838Z"
   },
   {
    "duration": 9,
    "start_time": "2022-10-09T17:33:48.857Z"
   },
   {
    "duration": 30,
    "start_time": "2022-10-09T17:33:48.868Z"
   },
   {
    "duration": 8,
    "start_time": "2022-10-09T17:33:48.900Z"
   },
   {
    "duration": 9,
    "start_time": "2022-10-09T17:33:48.911Z"
   },
   {
    "duration": 7,
    "start_time": "2022-10-09T17:33:48.921Z"
   },
   {
    "duration": 9,
    "start_time": "2022-10-09T17:33:48.930Z"
   },
   {
    "duration": 12,
    "start_time": "2022-10-09T17:33:48.943Z"
   },
   {
    "duration": 50,
    "start_time": "2022-10-09T17:33:48.958Z"
   },
   {
    "duration": 19,
    "start_time": "2022-10-09T17:33:49.010Z"
   },
   {
    "duration": 23,
    "start_time": "2022-10-09T17:33:49.031Z"
   },
   {
    "duration": 12,
    "start_time": "2022-10-09T17:33:49.056Z"
   },
   {
    "duration": 1003,
    "start_time": "2022-10-09T17:59:42.957Z"
   },
   {
    "duration": 50,
    "start_time": "2022-10-09T17:59:43.962Z"
   },
   {
    "duration": 49,
    "start_time": "2022-10-09T17:59:44.013Z"
   },
   {
    "duration": 26,
    "start_time": "2022-10-09T17:59:44.063Z"
   },
   {
    "duration": 21,
    "start_time": "2022-10-09T17:59:44.091Z"
   },
   {
    "duration": 19,
    "start_time": "2022-10-09T17:59:44.114Z"
   },
   {
    "duration": 11,
    "start_time": "2022-10-09T17:59:44.135Z"
   },
   {
    "duration": 6,
    "start_time": "2022-10-09T17:59:44.148Z"
   },
   {
    "duration": 7,
    "start_time": "2022-10-09T17:59:44.156Z"
   },
   {
    "duration": 5,
    "start_time": "2022-10-09T17:59:44.164Z"
   },
   {
    "duration": 33,
    "start_time": "2022-10-09T17:59:44.170Z"
   },
   {
    "duration": 12,
    "start_time": "2022-10-09T17:59:44.204Z"
   },
   {
    "duration": 7,
    "start_time": "2022-10-09T17:59:44.217Z"
   },
   {
    "duration": 21,
    "start_time": "2022-10-09T17:59:44.226Z"
   },
   {
    "duration": 13,
    "start_time": "2022-10-09T17:59:44.249Z"
   },
   {
    "duration": 46,
    "start_time": "2022-10-09T17:59:44.264Z"
   },
   {
    "duration": 11,
    "start_time": "2022-10-09T17:59:44.312Z"
   },
   {
    "duration": 9,
    "start_time": "2022-10-09T17:59:44.324Z"
   },
   {
    "duration": 71,
    "start_time": "2022-10-09T17:59:44.335Z"
   },
   {
    "duration": 0,
    "start_time": "2022-10-09T17:59:44.409Z"
   },
   {
    "duration": 0,
    "start_time": "2022-10-09T17:59:44.410Z"
   },
   {
    "duration": 174,
    "start_time": "2022-10-09T18:04:15.421Z"
   },
   {
    "duration": 1051,
    "start_time": "2022-10-09T18:04:23.001Z"
   },
   {
    "duration": 47,
    "start_time": "2022-10-09T18:04:24.054Z"
   },
   {
    "duration": 49,
    "start_time": "2022-10-09T18:04:24.103Z"
   },
   {
    "duration": 26,
    "start_time": "2022-10-09T18:04:24.154Z"
   },
   {
    "duration": 9,
    "start_time": "2022-10-09T18:04:24.182Z"
   },
   {
    "duration": 13,
    "start_time": "2022-10-09T18:04:24.192Z"
   },
   {
    "duration": 12,
    "start_time": "2022-10-09T18:04:24.207Z"
   },
   {
    "duration": 8,
    "start_time": "2022-10-09T18:04:24.221Z"
   },
   {
    "duration": 13,
    "start_time": "2022-10-09T18:04:24.230Z"
   },
   {
    "duration": 5,
    "start_time": "2022-10-09T18:04:24.245Z"
   },
   {
    "duration": 9,
    "start_time": "2022-10-09T18:04:24.252Z"
   },
   {
    "duration": 5,
    "start_time": "2022-10-09T18:04:24.296Z"
   },
   {
    "duration": 8,
    "start_time": "2022-10-09T18:04:24.303Z"
   },
   {
    "duration": 30,
    "start_time": "2022-10-09T18:04:24.315Z"
   },
   {
    "duration": 13,
    "start_time": "2022-10-09T18:04:24.346Z"
   },
   {
    "duration": 43,
    "start_time": "2022-10-09T18:04:24.361Z"
   },
   {
    "duration": 11,
    "start_time": "2022-10-09T18:04:24.405Z"
   },
   {
    "duration": 11,
    "start_time": "2022-10-09T18:04:24.418Z"
   },
   {
    "duration": 208,
    "start_time": "2022-10-09T18:04:24.431Z"
   },
   {
    "duration": 143,
    "start_time": "2022-10-09T18:04:24.641Z"
   },
   {
    "duration": 22,
    "start_time": "2022-10-09T18:04:24.786Z"
   },
   {
    "duration": 1179,
    "start_time": "2022-10-09T18:07:42.463Z"
   },
   {
    "duration": 45,
    "start_time": "2022-10-09T18:07:43.644Z"
   },
   {
    "duration": 51,
    "start_time": "2022-10-09T18:07:43.690Z"
   },
   {
    "duration": 34,
    "start_time": "2022-10-09T18:07:43.743Z"
   },
   {
    "duration": 12,
    "start_time": "2022-10-09T18:07:43.779Z"
   },
   {
    "duration": 17,
    "start_time": "2022-10-09T18:07:43.793Z"
   },
   {
    "duration": 14,
    "start_time": "2022-10-09T18:07:43.812Z"
   },
   {
    "duration": 11,
    "start_time": "2022-10-09T18:07:43.828Z"
   },
   {
    "duration": 12,
    "start_time": "2022-10-09T18:07:43.841Z"
   },
   {
    "duration": 10,
    "start_time": "2022-10-09T18:07:43.855Z"
   },
   {
    "duration": 29,
    "start_time": "2022-10-09T18:07:43.867Z"
   },
   {
    "duration": 5,
    "start_time": "2022-10-09T18:07:43.898Z"
   },
   {
    "duration": 7,
    "start_time": "2022-10-09T18:07:43.906Z"
   },
   {
    "duration": 25,
    "start_time": "2022-10-09T18:07:43.917Z"
   },
   {
    "duration": 16,
    "start_time": "2022-10-09T18:07:43.944Z"
   },
   {
    "duration": 16,
    "start_time": "2022-10-09T18:07:43.995Z"
   },
   {
    "duration": 14,
    "start_time": "2022-10-09T18:07:44.013Z"
   },
   {
    "duration": 17,
    "start_time": "2022-10-09T18:07:44.029Z"
   },
   {
    "duration": 222,
    "start_time": "2022-10-09T18:07:44.048Z"
   },
   {
    "duration": 137,
    "start_time": "2022-10-09T18:07:44.272Z"
   },
   {
    "duration": 13,
    "start_time": "2022-10-09T18:07:44.411Z"
   },
   {
    "duration": 10,
    "start_time": "2022-10-09T18:07:44.426Z"
   },
   {
    "duration": 14,
    "start_time": "2022-10-09T18:07:44.438Z"
   },
   {
    "duration": 126,
    "start_time": "2022-10-09T18:07:44.453Z"
   },
   {
    "duration": 258,
    "start_time": "2022-10-09T18:08:15.816Z"
   },
   {
    "duration": 211,
    "start_time": "2022-10-09T18:09:12.227Z"
   },
   {
    "duration": 9,
    "start_time": "2022-10-09T18:12:50.196Z"
   },
   {
    "duration": 14,
    "start_time": "2022-10-09T18:14:08.903Z"
   },
   {
    "duration": 215,
    "start_time": "2022-10-09T18:16:00.876Z"
   },
   {
    "duration": 1046,
    "start_time": "2022-10-09T18:19:34.480Z"
   },
   {
    "duration": 43,
    "start_time": "2022-10-09T18:19:35.528Z"
   },
   {
    "duration": 51,
    "start_time": "2022-10-09T18:19:35.573Z"
   },
   {
    "duration": 25,
    "start_time": "2022-10-09T18:19:35.625Z"
   },
   {
    "duration": 8,
    "start_time": "2022-10-09T18:19:35.652Z"
   },
   {
    "duration": 12,
    "start_time": "2022-10-09T18:19:35.661Z"
   },
   {
    "duration": 13,
    "start_time": "2022-10-09T18:19:35.675Z"
   },
   {
    "duration": 8,
    "start_time": "2022-10-09T18:19:35.690Z"
   },
   {
    "duration": 9,
    "start_time": "2022-10-09T18:19:35.700Z"
   },
   {
    "duration": 4,
    "start_time": "2022-10-09T18:19:35.711Z"
   },
   {
    "duration": 8,
    "start_time": "2022-10-09T18:19:35.716Z"
   },
   {
    "duration": 7,
    "start_time": "2022-10-09T18:19:35.725Z"
   },
   {
    "duration": 8,
    "start_time": "2022-10-09T18:19:35.733Z"
   },
   {
    "duration": 53,
    "start_time": "2022-10-09T18:19:35.743Z"
   },
   {
    "duration": 12,
    "start_time": "2022-10-09T18:19:35.798Z"
   },
   {
    "duration": 13,
    "start_time": "2022-10-09T18:19:35.811Z"
   },
   {
    "duration": 11,
    "start_time": "2022-10-09T18:19:35.826Z"
   },
   {
    "duration": 8,
    "start_time": "2022-10-09T18:19:35.838Z"
   },
   {
    "duration": 200,
    "start_time": "2022-10-09T18:19:35.847Z"
   },
   {
    "duration": 115,
    "start_time": "2022-10-09T18:19:36.049Z"
   },
   {
    "duration": 11,
    "start_time": "2022-10-09T18:19:36.165Z"
   },
   {
    "duration": 18,
    "start_time": "2022-10-09T18:19:36.178Z"
   },
   {
    "duration": 11,
    "start_time": "2022-10-09T18:19:36.198Z"
   },
   {
    "duration": 308,
    "start_time": "2022-10-09T18:19:36.211Z"
   },
   {
    "duration": 12,
    "start_time": "2022-10-09T18:19:36.520Z"
   },
   {
    "duration": 228,
    "start_time": "2022-10-09T18:19:36.534Z"
   },
   {
    "duration": 7,
    "start_time": "2022-10-09T18:19:36.764Z"
   },
   {
    "duration": 384,
    "start_time": "2022-10-09T18:19:36.772Z"
   },
   {
    "duration": 1083,
    "start_time": "2022-10-09T18:28:03.866Z"
   },
   {
    "duration": 47,
    "start_time": "2022-10-09T18:28:04.951Z"
   },
   {
    "duration": 49,
    "start_time": "2022-10-09T18:28:04.999Z"
   },
   {
    "duration": 27,
    "start_time": "2022-10-09T18:28:05.050Z"
   },
   {
    "duration": 8,
    "start_time": "2022-10-09T18:28:05.079Z"
   },
   {
    "duration": 13,
    "start_time": "2022-10-09T18:28:05.088Z"
   },
   {
    "duration": 10,
    "start_time": "2022-10-09T18:28:05.103Z"
   },
   {
    "duration": 11,
    "start_time": "2022-10-09T18:28:05.114Z"
   },
   {
    "duration": 9,
    "start_time": "2022-10-09T18:28:05.127Z"
   },
   {
    "duration": 6,
    "start_time": "2022-10-09T18:28:05.138Z"
   },
   {
    "duration": 14,
    "start_time": "2022-10-09T18:28:05.145Z"
   },
   {
    "duration": 8,
    "start_time": "2022-10-09T18:28:05.161Z"
   },
   {
    "duration": 30,
    "start_time": "2022-10-09T18:28:05.170Z"
   },
   {
    "duration": 23,
    "start_time": "2022-10-09T18:28:05.202Z"
   },
   {
    "duration": 12,
    "start_time": "2022-10-09T18:28:05.227Z"
   },
   {
    "duration": 13,
    "start_time": "2022-10-09T18:28:05.240Z"
   },
   {
    "duration": 11,
    "start_time": "2022-10-09T18:28:05.254Z"
   },
   {
    "duration": 6,
    "start_time": "2022-10-09T18:28:05.296Z"
   },
   {
    "duration": 199,
    "start_time": "2022-10-09T18:28:05.303Z"
   },
   {
    "duration": 125,
    "start_time": "2022-10-09T18:28:05.504Z"
   },
   {
    "duration": 12,
    "start_time": "2022-10-09T18:28:05.630Z"
   },
   {
    "duration": 11,
    "start_time": "2022-10-09T18:28:05.643Z"
   },
   {
    "duration": 9,
    "start_time": "2022-10-09T18:28:05.655Z"
   },
   {
    "duration": 329,
    "start_time": "2022-10-09T18:28:05.666Z"
   },
   {
    "duration": 13,
    "start_time": "2022-10-09T18:28:05.996Z"
   },
   {
    "duration": 226,
    "start_time": "2022-10-09T18:28:06.011Z"
   },
   {
    "duration": 6,
    "start_time": "2022-10-09T18:28:06.238Z"
   },
   {
    "duration": 299,
    "start_time": "2022-10-09T18:28:06.246Z"
   },
   {
    "duration": 8,
    "start_time": "2022-10-09T18:28:06.547Z"
   },
   {
    "duration": 10,
    "start_time": "2022-10-09T18:28:06.558Z"
   },
   {
    "duration": 281,
    "start_time": "2022-10-09T18:28:06.573Z"
   },
   {
    "duration": 7,
    "start_time": "2022-10-09T18:28:06.857Z"
   },
   {
    "duration": 459,
    "start_time": "2022-10-09T18:28:06.866Z"
   },
   {
    "duration": 281,
    "start_time": "2022-10-09T18:28:39.754Z"
   },
   {
    "duration": 313,
    "start_time": "2022-10-09T18:28:50.636Z"
   },
   {
    "duration": 1073,
    "start_time": "2022-10-09T18:33:57.981Z"
   },
   {
    "duration": 48,
    "start_time": "2022-10-09T18:33:59.055Z"
   },
   {
    "duration": 49,
    "start_time": "2022-10-09T18:33:59.108Z"
   },
   {
    "duration": 29,
    "start_time": "2022-10-09T18:33:59.158Z"
   },
   {
    "duration": 10,
    "start_time": "2022-10-09T18:33:59.190Z"
   },
   {
    "duration": 18,
    "start_time": "2022-10-09T18:33:59.202Z"
   },
   {
    "duration": 8,
    "start_time": "2022-10-09T18:33:59.221Z"
   },
   {
    "duration": 17,
    "start_time": "2022-10-09T18:33:59.230Z"
   },
   {
    "duration": 7,
    "start_time": "2022-10-09T18:33:59.248Z"
   },
   {
    "duration": 4,
    "start_time": "2022-10-09T18:33:59.256Z"
   },
   {
    "duration": 7,
    "start_time": "2022-10-09T18:33:59.261Z"
   },
   {
    "duration": 27,
    "start_time": "2022-10-09T18:33:59.269Z"
   },
   {
    "duration": 15,
    "start_time": "2022-10-09T18:33:59.298Z"
   },
   {
    "duration": 18,
    "start_time": "2022-10-09T18:33:59.316Z"
   },
   {
    "duration": 12,
    "start_time": "2022-10-09T18:33:59.335Z"
   },
   {
    "duration": 13,
    "start_time": "2022-10-09T18:33:59.348Z"
   },
   {
    "duration": 35,
    "start_time": "2022-10-09T18:33:59.362Z"
   },
   {
    "duration": 18,
    "start_time": "2022-10-09T18:33:59.398Z"
   },
   {
    "duration": 184,
    "start_time": "2022-10-09T18:33:59.417Z"
   },
   {
    "duration": 126,
    "start_time": "2022-10-09T18:33:59.602Z"
   },
   {
    "duration": 12,
    "start_time": "2022-10-09T18:33:59.729Z"
   },
   {
    "duration": 11,
    "start_time": "2022-10-09T18:33:59.742Z"
   },
   {
    "duration": 11,
    "start_time": "2022-10-09T18:33:59.754Z"
   },
   {
    "duration": 290,
    "start_time": "2022-10-09T18:33:59.796Z"
   },
   {
    "duration": 22,
    "start_time": "2022-10-09T18:34:00.087Z"
   },
   {
    "duration": 223,
    "start_time": "2022-10-09T18:34:00.110Z"
   },
   {
    "duration": 6,
    "start_time": "2022-10-09T18:34:00.335Z"
   },
   {
    "duration": 304,
    "start_time": "2022-10-09T18:34:00.342Z"
   },
   {
    "duration": 5,
    "start_time": "2022-10-09T18:34:00.648Z"
   },
   {
    "duration": 17,
    "start_time": "2022-10-09T18:34:00.654Z"
   },
   {
    "duration": 253,
    "start_time": "2022-10-09T18:34:00.673Z"
   },
   {
    "duration": 9,
    "start_time": "2022-10-09T18:34:00.929Z"
   },
   {
    "duration": 323,
    "start_time": "2022-10-09T18:34:00.939Z"
   },
   {
    "duration": 121,
    "start_time": "2022-10-09T18:34:01.263Z"
   },
   {
    "duration": 97,
    "start_time": "2022-10-09T18:34:01.386Z"
   },
   {
    "duration": 1223,
    "start_time": "2022-10-09T18:34:23.765Z"
   },
   {
    "duration": 125,
    "start_time": "2022-10-09T18:34:43.486Z"
   },
   {
    "duration": 131,
    "start_time": "2022-10-09T18:41:05.440Z"
   },
   {
    "duration": 163,
    "start_time": "2022-10-09T18:42:23.783Z"
   },
   {
    "duration": 313,
    "start_time": "2022-10-09T18:42:38.116Z"
   },
   {
    "duration": 147,
    "start_time": "2022-10-09T18:42:56.209Z"
   },
   {
    "duration": 156,
    "start_time": "2022-10-09T18:43:00.404Z"
   },
   {
    "duration": 1030,
    "start_time": "2022-10-09T18:43:19.520Z"
   },
   {
    "duration": 47,
    "start_time": "2022-10-09T18:43:20.552Z"
   },
   {
    "duration": 47,
    "start_time": "2022-10-09T18:43:20.602Z"
   },
   {
    "duration": 24,
    "start_time": "2022-10-09T18:43:20.651Z"
   },
   {
    "duration": 8,
    "start_time": "2022-10-09T18:43:20.677Z"
   },
   {
    "duration": 24,
    "start_time": "2022-10-09T18:43:20.686Z"
   },
   {
    "duration": 10,
    "start_time": "2022-10-09T18:43:20.711Z"
   },
   {
    "duration": 8,
    "start_time": "2022-10-09T18:43:20.722Z"
   },
   {
    "duration": 8,
    "start_time": "2022-10-09T18:43:20.731Z"
   },
   {
    "duration": 5,
    "start_time": "2022-10-09T18:43:20.740Z"
   },
   {
    "duration": 8,
    "start_time": "2022-10-09T18:43:20.746Z"
   },
   {
    "duration": 6,
    "start_time": "2022-10-09T18:43:20.755Z"
   },
   {
    "duration": 6,
    "start_time": "2022-10-09T18:43:20.763Z"
   },
   {
    "duration": 24,
    "start_time": "2022-10-09T18:43:20.797Z"
   },
   {
    "duration": 23,
    "start_time": "2022-10-09T18:43:20.823Z"
   },
   {
    "duration": 29,
    "start_time": "2022-10-09T18:43:20.848Z"
   },
   {
    "duration": 23,
    "start_time": "2022-10-09T18:43:20.879Z"
   },
   {
    "duration": 16,
    "start_time": "2022-10-09T18:43:20.904Z"
   },
   {
    "duration": 196,
    "start_time": "2022-10-09T18:43:20.922Z"
   },
   {
    "duration": 130,
    "start_time": "2022-10-09T18:43:21.120Z"
   },
   {
    "duration": 11,
    "start_time": "2022-10-09T18:43:21.252Z"
   },
   {
    "duration": 10,
    "start_time": "2022-10-09T18:43:21.264Z"
   },
   {
    "duration": 33,
    "start_time": "2022-10-09T18:43:21.276Z"
   },
   {
    "duration": 283,
    "start_time": "2022-10-09T18:43:21.310Z"
   },
   {
    "duration": 20,
    "start_time": "2022-10-09T18:43:21.599Z"
   },
   {
    "duration": 212,
    "start_time": "2022-10-09T18:43:21.620Z"
   },
   {
    "duration": 6,
    "start_time": "2022-10-09T18:43:21.833Z"
   },
   {
    "duration": 306,
    "start_time": "2022-10-09T18:43:21.840Z"
   },
   {
    "duration": 4,
    "start_time": "2022-10-09T18:43:22.147Z"
   },
   {
    "duration": 7,
    "start_time": "2022-10-09T18:43:22.153Z"
   },
   {
    "duration": 243,
    "start_time": "2022-10-09T18:43:22.162Z"
   },
   {
    "duration": 8,
    "start_time": "2022-10-09T18:43:22.407Z"
   },
   {
    "duration": 325,
    "start_time": "2022-10-09T18:43:22.417Z"
   },
   {
    "duration": 140,
    "start_time": "2022-10-09T18:43:22.744Z"
   },
   {
    "duration": 134,
    "start_time": "2022-10-09T18:43:22.886Z"
   },
   {
    "duration": 3,
    "start_time": "2022-10-09T18:43:23.022Z"
   },
   {
    "duration": 178,
    "start_time": "2022-10-09T18:43:23.026Z"
   },
   {
    "duration": 157,
    "start_time": "2022-10-09T18:43:23.205Z"
   },
   {
    "duration": 5,
    "start_time": "2022-10-09T18:44:07.174Z"
   },
   {
    "duration": 1047,
    "start_time": "2022-10-11T18:42:26.822Z"
   },
   {
    "duration": 47,
    "start_time": "2022-10-11T18:42:27.872Z"
   },
   {
    "duration": 49,
    "start_time": "2022-10-11T18:42:27.920Z"
   },
   {
    "duration": 26,
    "start_time": "2022-10-11T18:42:27.971Z"
   },
   {
    "duration": 8,
    "start_time": "2022-10-11T18:42:27.999Z"
   },
   {
    "duration": 21,
    "start_time": "2022-10-11T18:42:28.009Z"
   },
   {
    "duration": 15,
    "start_time": "2022-10-11T18:42:28.032Z"
   },
   {
    "duration": 6,
    "start_time": "2022-10-11T18:42:28.049Z"
   },
   {
    "duration": 10,
    "start_time": "2022-10-11T18:42:28.057Z"
   },
   {
    "duration": 5,
    "start_time": "2022-10-11T18:42:28.069Z"
   },
   {
    "duration": 12,
    "start_time": "2022-10-11T18:42:28.075Z"
   },
   {
    "duration": 7,
    "start_time": "2022-10-11T18:42:28.088Z"
   },
   {
    "duration": 12,
    "start_time": "2022-10-11T18:42:28.097Z"
   },
   {
    "duration": 19,
    "start_time": "2022-10-11T18:42:28.111Z"
   },
   {
    "duration": 11,
    "start_time": "2022-10-11T18:42:28.132Z"
   },
   {
    "duration": 12,
    "start_time": "2022-10-11T18:42:28.144Z"
   },
   {
    "duration": 14,
    "start_time": "2022-10-11T18:42:28.158Z"
   },
   {
    "duration": 12,
    "start_time": "2022-10-11T18:42:28.173Z"
   },
   {
    "duration": 189,
    "start_time": "2022-10-11T18:42:28.186Z"
   },
   {
    "duration": 114,
    "start_time": "2022-10-11T18:42:28.377Z"
   },
   {
    "duration": 16,
    "start_time": "2022-10-11T18:42:28.492Z"
   },
   {
    "duration": 22,
    "start_time": "2022-10-11T18:42:28.510Z"
   },
   {
    "duration": 14,
    "start_time": "2022-10-11T18:42:28.533Z"
   },
   {
    "duration": 282,
    "start_time": "2022-10-11T18:42:28.549Z"
   },
   {
    "duration": 14,
    "start_time": "2022-10-11T18:42:28.833Z"
   },
   {
    "duration": 221,
    "start_time": "2022-10-11T18:42:28.848Z"
   },
   {
    "duration": 6,
    "start_time": "2022-10-11T18:42:29.071Z"
   },
   {
    "duration": 346,
    "start_time": "2022-10-11T18:42:29.081Z"
   },
   {
    "duration": 4,
    "start_time": "2022-10-11T18:42:29.429Z"
   },
   {
    "duration": 11,
    "start_time": "2022-10-11T18:42:29.434Z"
   },
   {
    "duration": 213,
    "start_time": "2022-10-11T18:42:29.446Z"
   },
   {
    "duration": 8,
    "start_time": "2022-10-11T18:42:29.661Z"
   },
   {
    "duration": 282,
    "start_time": "2022-10-11T18:42:29.670Z"
   },
   {
    "duration": 124,
    "start_time": "2022-10-11T18:42:29.953Z"
   },
   {
    "duration": 127,
    "start_time": "2022-10-11T18:42:30.079Z"
   },
   {
    "duration": 13,
    "start_time": "2022-10-11T18:42:30.208Z"
   },
   {
    "duration": 164,
    "start_time": "2022-10-11T18:42:30.223Z"
   },
   {
    "duration": 170,
    "start_time": "2022-10-11T18:42:30.389Z"
   },
   {
    "duration": 4,
    "start_time": "2022-10-11T18:42:30.561Z"
   },
   {
    "duration": 297,
    "start_time": "2022-10-11T18:42:30.567Z"
   },
   {
    "duration": 81,
    "start_time": "2022-10-11T18:42:30.867Z"
   },
   {
    "duration": 98,
    "start_time": "2022-10-11T18:42:30.949Z"
   },
   {
    "duration": 26,
    "start_time": "2022-10-11T18:42:31.048Z"
   },
   {
    "duration": 48,
    "start_time": "2022-10-11T18:42:31.075Z"
   },
   {
    "duration": 5,
    "start_time": "2022-10-11T18:42:31.125Z"
   },
   {
    "duration": 20,
    "start_time": "2022-10-11T18:42:31.132Z"
   },
   {
    "duration": 20,
    "start_time": "2022-10-11T18:42:31.154Z"
   },
   {
    "duration": 22,
    "start_time": "2022-10-11T18:42:31.176Z"
   },
   {
    "duration": 35,
    "start_time": "2022-10-11T18:42:31.200Z"
   },
   {
    "duration": 53,
    "start_time": "2022-10-11T18:42:31.237Z"
   },
   {
    "duration": 11,
    "start_time": "2022-10-11T18:42:31.292Z"
   },
   {
    "duration": 17,
    "start_time": "2022-10-11T18:42:31.304Z"
   }
  ],
  "kernelspec": {
   "display_name": "Python 3 (ipykernel)",
   "language": "python",
   "name": "python3"
  },
  "language_info": {
   "codemirror_mode": {
    "name": "ipython",
    "version": 3
   },
   "file_extension": ".py",
   "mimetype": "text/x-python",
   "name": "python",
   "nbconvert_exporter": "python",
   "pygments_lexer": "ipython3",
   "version": "3.9.13"
  },
  "toc": {
   "base_numbering": 1,
   "nav_menu": {},
   "number_sections": true,
   "sideBar": true,
   "skip_h1_title": true,
   "title_cell": "Table of Contents",
   "title_sidebar": "Contents",
   "toc_cell": false,
   "toc_position": {},
   "toc_section_display": true,
   "toc_window_display": false
  }
 },
 "nbformat": 4,
 "nbformat_minor": 2
}
