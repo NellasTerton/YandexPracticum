{
 "cells": [
  {
   "cell_type": "markdown",
   "id": "86cad7e0",
   "metadata": {},
   "source": [
    "# Исследование надежности заемщиков."
   ]
  },
  {
   "cell_type": "markdown",
   "id": "56630120",
   "metadata": {},
   "source": [
    "<b>Описание проекта</b> \n",
    "\n",
    "Заказчик — кредитный отдел банка. Нужно разобраться, влияет ли семейное положение и количество детей клиента на факт погашения кредита в срок. Входные данные от банка — статистика о платёжеспособности клиентов.\n",
    "Результаты исследования будут учтены при построении модели кредитного скоринга — специальной системы, которая оценивает способность потенциального заёмщика вернуть кредит банку.\n",
    "\n",
    "Описание данных:\n",
    "<br>children — количество детей в семье\n",
    "<br>days_employed — общий трудовой стаж в днях\n",
    "<br>dob_years — возраст клиента в годах\n",
    "<br>education — уровень образования клиента\n",
    "<br>education_id — идентификатор уровня образования\n",
    "<br>family_status — семейное положение\n",
    "<br>family_status_id — идентификатор семейного положения\n",
    "<br>gender — пол клиента\n",
    "<br>income_type — тип занятости\n",
    "<br>debt — имел ли задолженность по возврату кредитов\n",
    "<br>total_income — ежемесячный доход\n",
    "<br>purpose — цель получения кредита\n",
    "\n",
    "### Шаг 1. Обзор данных"
   ]
  },
  {
   "cell_type": "code",
   "execution_count": 1,
   "id": "40985911",
   "metadata": {
    "scrolled": false
   },
   "outputs": [
    {
     "name": "stdout",
     "output_type": "stream",
     "text": [
      "<class 'pandas.core.frame.DataFrame'>\n",
      "RangeIndex: 21525 entries, 0 to 21524\n",
      "Data columns (total 12 columns):\n",
      " #   Column            Non-Null Count  Dtype  \n",
      "---  ------            --------------  -----  \n",
      " 0   children          21525 non-null  int64  \n",
      " 1   days_employed     19351 non-null  float64\n",
      " 2   dob_years         21525 non-null  int64  \n",
      " 3   education         21525 non-null  object \n",
      " 4   education_id      21525 non-null  int64  \n",
      " 5   family_status     21525 non-null  object \n",
      " 6   family_status_id  21525 non-null  int64  \n",
      " 7   gender            21525 non-null  object \n",
      " 8   income_type       21525 non-null  object \n",
      " 9   debt              21525 non-null  int64  \n",
      " 10  total_income      19351 non-null  float64\n",
      " 11  purpose           21525 non-null  object \n",
      "dtypes: float64(2), int64(5), object(5)\n",
      "memory usage: 2.0+ MB\n"
     ]
    },
    {
     "data": {
      "text/html": [
       "<div>\n",
       "<style scoped>\n",
       "    .dataframe tbody tr th:only-of-type {\n",
       "        vertical-align: middle;\n",
       "    }\n",
       "\n",
       "    .dataframe tbody tr th {\n",
       "        vertical-align: top;\n",
       "    }\n",
       "\n",
       "    .dataframe thead th {\n",
       "        text-align: right;\n",
       "    }\n",
       "</style>\n",
       "<table border=\"1\" class=\"dataframe\">\n",
       "  <thead>\n",
       "    <tr style=\"text-align: right;\">\n",
       "      <th></th>\n",
       "      <th>children</th>\n",
       "      <th>days_employed</th>\n",
       "      <th>dob_years</th>\n",
       "      <th>education</th>\n",
       "      <th>education_id</th>\n",
       "      <th>family_status</th>\n",
       "      <th>family_status_id</th>\n",
       "      <th>gender</th>\n",
       "      <th>income_type</th>\n",
       "      <th>debt</th>\n",
       "      <th>total_income</th>\n",
       "      <th>purpose</th>\n",
       "    </tr>\n",
       "  </thead>\n",
       "  <tbody>\n",
       "    <tr>\n",
       "      <th>0</th>\n",
       "      <td>1</td>\n",
       "      <td>-8437.673028</td>\n",
       "      <td>42</td>\n",
       "      <td>высшее</td>\n",
       "      <td>0</td>\n",
       "      <td>женат / замужем</td>\n",
       "      <td>0</td>\n",
       "      <td>F</td>\n",
       "      <td>сотрудник</td>\n",
       "      <td>0</td>\n",
       "      <td>253875.639453</td>\n",
       "      <td>покупка жилья</td>\n",
       "    </tr>\n",
       "    <tr>\n",
       "      <th>1</th>\n",
       "      <td>1</td>\n",
       "      <td>-4024.803754</td>\n",
       "      <td>36</td>\n",
       "      <td>среднее</td>\n",
       "      <td>1</td>\n",
       "      <td>женат / замужем</td>\n",
       "      <td>0</td>\n",
       "      <td>F</td>\n",
       "      <td>сотрудник</td>\n",
       "      <td>0</td>\n",
       "      <td>112080.014102</td>\n",
       "      <td>приобретение автомобиля</td>\n",
       "    </tr>\n",
       "    <tr>\n",
       "      <th>2</th>\n",
       "      <td>0</td>\n",
       "      <td>-5623.422610</td>\n",
       "      <td>33</td>\n",
       "      <td>Среднее</td>\n",
       "      <td>1</td>\n",
       "      <td>женат / замужем</td>\n",
       "      <td>0</td>\n",
       "      <td>M</td>\n",
       "      <td>сотрудник</td>\n",
       "      <td>0</td>\n",
       "      <td>145885.952297</td>\n",
       "      <td>покупка жилья</td>\n",
       "    </tr>\n",
       "    <tr>\n",
       "      <th>3</th>\n",
       "      <td>3</td>\n",
       "      <td>-4124.747207</td>\n",
       "      <td>32</td>\n",
       "      <td>среднее</td>\n",
       "      <td>1</td>\n",
       "      <td>женат / замужем</td>\n",
       "      <td>0</td>\n",
       "      <td>M</td>\n",
       "      <td>сотрудник</td>\n",
       "      <td>0</td>\n",
       "      <td>267628.550329</td>\n",
       "      <td>дополнительное образование</td>\n",
       "    </tr>\n",
       "    <tr>\n",
       "      <th>4</th>\n",
       "      <td>0</td>\n",
       "      <td>340266.072047</td>\n",
       "      <td>53</td>\n",
       "      <td>среднее</td>\n",
       "      <td>1</td>\n",
       "      <td>гражданский брак</td>\n",
       "      <td>1</td>\n",
       "      <td>F</td>\n",
       "      <td>пенсионер</td>\n",
       "      <td>0</td>\n",
       "      <td>158616.077870</td>\n",
       "      <td>сыграть свадьбу</td>\n",
       "    </tr>\n",
       "    <tr>\n",
       "      <th>5</th>\n",
       "      <td>0</td>\n",
       "      <td>-926.185831</td>\n",
       "      <td>27</td>\n",
       "      <td>высшее</td>\n",
       "      <td>0</td>\n",
       "      <td>гражданский брак</td>\n",
       "      <td>1</td>\n",
       "      <td>M</td>\n",
       "      <td>компаньон</td>\n",
       "      <td>0</td>\n",
       "      <td>255763.565419</td>\n",
       "      <td>покупка жилья</td>\n",
       "    </tr>\n",
       "    <tr>\n",
       "      <th>6</th>\n",
       "      <td>0</td>\n",
       "      <td>-2879.202052</td>\n",
       "      <td>43</td>\n",
       "      <td>высшее</td>\n",
       "      <td>0</td>\n",
       "      <td>женат / замужем</td>\n",
       "      <td>0</td>\n",
       "      <td>F</td>\n",
       "      <td>компаньон</td>\n",
       "      <td>0</td>\n",
       "      <td>240525.971920</td>\n",
       "      <td>операции с жильем</td>\n",
       "    </tr>\n",
       "    <tr>\n",
       "      <th>7</th>\n",
       "      <td>0</td>\n",
       "      <td>-152.779569</td>\n",
       "      <td>50</td>\n",
       "      <td>СРЕДНЕЕ</td>\n",
       "      <td>1</td>\n",
       "      <td>женат / замужем</td>\n",
       "      <td>0</td>\n",
       "      <td>M</td>\n",
       "      <td>сотрудник</td>\n",
       "      <td>0</td>\n",
       "      <td>135823.934197</td>\n",
       "      <td>образование</td>\n",
       "    </tr>\n",
       "    <tr>\n",
       "      <th>8</th>\n",
       "      <td>2</td>\n",
       "      <td>-6929.865299</td>\n",
       "      <td>35</td>\n",
       "      <td>ВЫСШЕЕ</td>\n",
       "      <td>0</td>\n",
       "      <td>гражданский брак</td>\n",
       "      <td>1</td>\n",
       "      <td>F</td>\n",
       "      <td>сотрудник</td>\n",
       "      <td>0</td>\n",
       "      <td>95856.832424</td>\n",
       "      <td>на проведение свадьбы</td>\n",
       "    </tr>\n",
       "    <tr>\n",
       "      <th>9</th>\n",
       "      <td>0</td>\n",
       "      <td>-2188.756445</td>\n",
       "      <td>41</td>\n",
       "      <td>среднее</td>\n",
       "      <td>1</td>\n",
       "      <td>женат / замужем</td>\n",
       "      <td>0</td>\n",
       "      <td>M</td>\n",
       "      <td>сотрудник</td>\n",
       "      <td>0</td>\n",
       "      <td>144425.938277</td>\n",
       "      <td>покупка жилья для семьи</td>\n",
       "    </tr>\n",
       "  </tbody>\n",
       "</table>\n",
       "</div>"
      ],
      "text/plain": [
       "   children  days_employed  dob_years education  education_id  \\\n",
       "0         1   -8437.673028         42    высшее             0   \n",
       "1         1   -4024.803754         36   среднее             1   \n",
       "2         0   -5623.422610         33   Среднее             1   \n",
       "3         3   -4124.747207         32   среднее             1   \n",
       "4         0  340266.072047         53   среднее             1   \n",
       "5         0    -926.185831         27    высшее             0   \n",
       "6         0   -2879.202052         43    высшее             0   \n",
       "7         0    -152.779569         50   СРЕДНЕЕ             1   \n",
       "8         2   -6929.865299         35    ВЫСШЕЕ             0   \n",
       "9         0   -2188.756445         41   среднее             1   \n",
       "\n",
       "      family_status  family_status_id gender income_type  debt   total_income  \\\n",
       "0   женат / замужем                 0      F   сотрудник     0  253875.639453   \n",
       "1   женат / замужем                 0      F   сотрудник     0  112080.014102   \n",
       "2   женат / замужем                 0      M   сотрудник     0  145885.952297   \n",
       "3   женат / замужем                 0      M   сотрудник     0  267628.550329   \n",
       "4  гражданский брак                 1      F   пенсионер     0  158616.077870   \n",
       "5  гражданский брак                 1      M   компаньон     0  255763.565419   \n",
       "6   женат / замужем                 0      F   компаньон     0  240525.971920   \n",
       "7   женат / замужем                 0      M   сотрудник     0  135823.934197   \n",
       "8  гражданский брак                 1      F   сотрудник     0   95856.832424   \n",
       "9   женат / замужем                 0      M   сотрудник     0  144425.938277   \n",
       "\n",
       "                      purpose  \n",
       "0               покупка жилья  \n",
       "1     приобретение автомобиля  \n",
       "2               покупка жилья  \n",
       "3  дополнительное образование  \n",
       "4             сыграть свадьбу  \n",
       "5               покупка жилья  \n",
       "6           операции с жильем  \n",
       "7                 образование  \n",
       "8       на проведение свадьбы  \n",
       "9     покупка жилья для семьи  "
      ]
     },
     "execution_count": 1,
     "metadata": {},
     "output_type": "execute_result"
    }
   ],
   "source": [
    "import pandas as pd\n",
    "data = pd.read_csv('/datasets/data.csv')\n",
    "data.info()\n",
    "data.head(10)"
   ]
  },
  {
   "cell_type": "markdown",
   "id": "452f99b2",
   "metadata": {},
   "source": [
    "### Шаг 2.1 Заполнение пропусков"
   ]
  },
  {
   "cell_type": "markdown",
   "id": "dd0e5864",
   "metadata": {},
   "source": [
    "Выводы по результатам первичного осмотра таблицы:\n",
    "\n",
    "<br>В столбце 'days_employed' значения положительные и отрицательные (причина не ясна);\n",
    "<br>В столбцах 'days_employed' и 'total_income' есть отсутствующие данные, их количество совпадает;\n",
    "<br>В столбцах 'days_employed' и 'total_income' много цифр после запятой (причина не ясна);\n",
    "<br>В столбце 'education' данные в разном регистре;\n",
    "<br>В столбце 'purpose' цель кредита указана абсолютно по разному (даже одна и та же цель может быть записана иначе);"
   ]
  },
  {
   "cell_type": "code",
   "execution_count": 2,
   "id": "d4606fd2",
   "metadata": {},
   "outputs": [
    {
     "name": "stdout",
     "output_type": "stream",
     "text": [
      "Количество строк: 21525\n",
      "Количество пустых строк: 2174\n",
      "Процент пустых строк: 10.1%\n"
     ]
    }
   ],
   "source": [
    "data_lines = data['children'].count()\n",
    "days_empty_lines = data['children'].count() - data['days_employed'].count()\n",
    "empty_lines_percent = days_empty_lines / data_lines\n",
    "print('Количество строк:', data_lines)\n",
    "print('Количество пустых строк:', days_empty_lines)\n",
    "print('Процент пустых строк: {:.1%}'.format(empty_lines_percent))"
   ]
  },
  {
   "cell_type": "markdown",
   "id": "f8afb5a3",
   "metadata": {},
   "source": [
    "<b>Выводы по количеству пустых строк:</b>\n",
    "\n",
    "Пустые данные занимают 10% всей информации, что много и, в случае удаления (игнорирования) этих данных есть риск большой погрешности при ответе на поставленные вопросы. Возможные причины пропусков:\n",
    "- техническая ошибка;\n",
    "- остутствие стабильного дохода или дохода в целом (пенсионеры, безработные);\n",
    "- остутствие стажа (студенты);\n",
    "- нежелание указывать данные.\n",
    "\n",
    "<b>Решение для столбца с общим доходом:</b>\n",
    "- удалить данные или заменить на 0 (плохое решение, грозит потерей большого объема информации)\n",
    "- поставить средние значения (плохое решение из-за большой разницы в значениях)\n",
    "- медианные значения (лучшее решение, так как намного точнее отображают действительность, участвуют в подсчете и уменьшают погрешность в вычислениях)"
   ]
  },
  {
   "cell_type": "markdown",
   "id": "e09b235e",
   "metadata": {},
   "source": [
    "### Шаг 2.2 Проверка данных на аномалии и исправления."
   ]
  },
  {
   "cell_type": "markdown",
   "id": "d6bdd9b5",
   "metadata": {},
   "source": [
    "Для проверки аномалий проверим уникальные данные в каждом столбце. \n",
    "\n",
    "Начнем со столбца \"children\" - дети:"
   ]
  },
  {
   "cell_type": "code",
   "execution_count": 3,
   "id": "a0b94b9a",
   "metadata": {},
   "outputs": [
    {
     "name": "stdout",
     "output_type": "stream",
     "text": [
      " 0     14149\n",
      " 1      4818\n",
      " 2      2055\n",
      " 3       330\n",
      " 20       76\n",
      "-1        47\n",
      " 4        41\n",
      " 5         9\n",
      "Name: children, dtype: int64\n"
     ]
    }
   ],
   "source": [
    "print(data['children'].value_counts())"
   ]
  },
  {
   "cell_type": "markdown",
   "id": "e6f84723",
   "metadata": {},
   "source": [
    "Аномалии: двадцать детей (все, конечно, возможно, но...) и отрицательное количество детей (-1). Похоже, что кто-то ставил тире при указании количества детей, в результате чего получилось отрицательное значение, цифра \"20\" могла появится в результате технической ошибки или при некорректном заполнении данных. Предлагается заменить 20 детей на 2, а -1 на 1:"
   ]
  },
  {
   "cell_type": "code",
   "execution_count": 4,
   "id": "7e662d1c",
   "metadata": {},
   "outputs": [
    {
     "name": "stdout",
     "output_type": "stream",
     "text": [
      "children\n",
      "0    14149\n",
      "1     4865\n",
      "2     2131\n",
      "3      330\n",
      "4       41\n",
      "5        9\n",
      "Name: children, dtype: int64\n"
     ]
    }
   ],
   "source": [
    "data.loc[data['children'] == -1, 'children'] = 1\n",
    "data.loc[data['children'] == 20, 'children'] = 2\n",
    "print(data.groupby('children')['children'].count()) "
   ]
  },
  {
   "cell_type": "markdown",
   "id": "05635f47",
   "metadata": {},
   "source": [
    "Аномалии в столбце \"children\" исправлены. Далее рассматриваем аномалии в столбце \"days_employed\". Уже по первым строкам понятно, что некоторых дней стажа подозрительно много, но, чтобы подтвердить информацию, можно вывести максимальное и минимальное значение, предварительно исправив все отрицательные значения на положительные, так как стаж не может быть отрицательным. "
   ]
  },
  {
   "cell_type": "code",
   "execution_count": 5,
   "id": "37c8de28",
   "metadata": {},
   "outputs": [
    {
     "name": "stdout",
     "output_type": "stream",
     "text": [
      "Стаж (минимальный): 0.06614146093282515\n",
      "Стаж (максимальный): 1100.6997273296713\n"
     ]
    }
   ],
   "source": [
    "data['days_employed'] = abs(data['days_employed'])\n",
    "data['days_employed'] = data['days_employed'] / 365\n",
    "data = data.rename(columns={'days_employed': 'years_employed'})\n",
    "print('Стаж (минимальный):', data['years_employed'].min())\n",
    "print('Стаж (максимальный):', data['years_employed'].max())"
   ]
  },
  {
   "cell_type": "markdown",
   "id": "81f341d5",
   "metadata": {},
   "source": [
    "Узнаем максимальный возраст клиента:"
   ]
  },
  {
   "cell_type": "code",
   "execution_count": 6,
   "id": "391124bd",
   "metadata": {},
   "outputs": [
    {
     "name": "stdout",
     "output_type": "stream",
     "text": [
      "Возраст клиента (максимальный): 75\n"
     ]
    }
   ],
   "source": [
    "print('Возраст клиента (максимальный):', data['dob_years'].max())"
   ]
  },
  {
   "cell_type": "markdown",
   "id": "84bcd854",
   "metadata": {},
   "source": [
    "Можно сделать вывод, что аномальными являются данные по дням работы свыше 57 лет, берем за истину, что стаж считается с 18 лет. Проверяем количество аномальных данных:"
   ]
  },
  {
   "cell_type": "code",
   "execution_count": 7,
   "id": "ec6de714",
   "metadata": {},
   "outputs": [
    {
     "data": {
      "text/html": [
       "<div>\n",
       "<style scoped>\n",
       "    .dataframe tbody tr th:only-of-type {\n",
       "        vertical-align: middle;\n",
       "    }\n",
       "\n",
       "    .dataframe tbody tr th {\n",
       "        vertical-align: top;\n",
       "    }\n",
       "\n",
       "    .dataframe thead th {\n",
       "        text-align: right;\n",
       "    }\n",
       "</style>\n",
       "<table border=\"1\" class=\"dataframe\">\n",
       "  <thead>\n",
       "    <tr style=\"text-align: right;\">\n",
       "      <th></th>\n",
       "      <th>children</th>\n",
       "      <th>years_employed</th>\n",
       "      <th>dob_years</th>\n",
       "      <th>education</th>\n",
       "      <th>education_id</th>\n",
       "      <th>family_status</th>\n",
       "      <th>family_status_id</th>\n",
       "      <th>gender</th>\n",
       "      <th>income_type</th>\n",
       "      <th>debt</th>\n",
       "      <th>total_income</th>\n",
       "      <th>purpose</th>\n",
       "    </tr>\n",
       "  </thead>\n",
       "  <tbody>\n",
       "    <tr>\n",
       "      <th>4</th>\n",
       "      <td>0</td>\n",
       "      <td>932.235814</td>\n",
       "      <td>53</td>\n",
       "      <td>среднее</td>\n",
       "      <td>1</td>\n",
       "      <td>гражданский брак</td>\n",
       "      <td>1</td>\n",
       "      <td>F</td>\n",
       "      <td>пенсионер</td>\n",
       "      <td>0</td>\n",
       "      <td>158616.077870</td>\n",
       "      <td>сыграть свадьбу</td>\n",
       "    </tr>\n",
       "    <tr>\n",
       "      <th>18</th>\n",
       "      <td>0</td>\n",
       "      <td>1096.660649</td>\n",
       "      <td>53</td>\n",
       "      <td>среднее</td>\n",
       "      <td>1</td>\n",
       "      <td>вдовец / вдова</td>\n",
       "      <td>2</td>\n",
       "      <td>F</td>\n",
       "      <td>пенсионер</td>\n",
       "      <td>0</td>\n",
       "      <td>56823.777243</td>\n",
       "      <td>на покупку подержанного автомобиля</td>\n",
       "    </tr>\n",
       "    <tr>\n",
       "      <th>24</th>\n",
       "      <td>1</td>\n",
       "      <td>927.539597</td>\n",
       "      <td>57</td>\n",
       "      <td>среднее</td>\n",
       "      <td>1</td>\n",
       "      <td>Не женат / не замужем</td>\n",
       "      <td>4</td>\n",
       "      <td>F</td>\n",
       "      <td>пенсионер</td>\n",
       "      <td>0</td>\n",
       "      <td>290547.235997</td>\n",
       "      <td>операции с коммерческой недвижимостью</td>\n",
       "    </tr>\n",
       "    <tr>\n",
       "      <th>25</th>\n",
       "      <td>0</td>\n",
       "      <td>996.023258</td>\n",
       "      <td>67</td>\n",
       "      <td>среднее</td>\n",
       "      <td>1</td>\n",
       "      <td>женат / замужем</td>\n",
       "      <td>0</td>\n",
       "      <td>M</td>\n",
       "      <td>пенсионер</td>\n",
       "      <td>0</td>\n",
       "      <td>55112.757732</td>\n",
       "      <td>покупка недвижимости</td>\n",
       "    </tr>\n",
       "    <tr>\n",
       "      <th>30</th>\n",
       "      <td>1</td>\n",
       "      <td>919.401832</td>\n",
       "      <td>62</td>\n",
       "      <td>среднее</td>\n",
       "      <td>1</td>\n",
       "      <td>женат / замужем</td>\n",
       "      <td>0</td>\n",
       "      <td>F</td>\n",
       "      <td>пенсионер</td>\n",
       "      <td>0</td>\n",
       "      <td>171456.067993</td>\n",
       "      <td>операции с коммерческой недвижимостью</td>\n",
       "    </tr>\n",
       "  </tbody>\n",
       "</table>\n",
       "</div>"
      ],
      "text/plain": [
       "    children  years_employed  dob_years education  education_id  \\\n",
       "4          0      932.235814         53   среднее             1   \n",
       "18         0     1096.660649         53   среднее             1   \n",
       "24         1      927.539597         57   среднее             1   \n",
       "25         0      996.023258         67   среднее             1   \n",
       "30         1      919.401832         62   среднее             1   \n",
       "\n",
       "            family_status  family_status_id gender income_type  debt  \\\n",
       "4        гражданский брак                 1      F   пенсионер     0   \n",
       "18         вдовец / вдова                 2      F   пенсионер     0   \n",
       "24  Не женат / не замужем                 4      F   пенсионер     0   \n",
       "25        женат / замужем                 0      M   пенсионер     0   \n",
       "30        женат / замужем                 0      F   пенсионер     0   \n",
       "\n",
       "     total_income                                purpose  \n",
       "4   158616.077870                        сыграть свадьбу  \n",
       "18   56823.777243     на покупку подержанного автомобиля  \n",
       "24  290547.235997  операции с коммерческой недвижимостью  \n",
       "25   55112.757732                   покупка недвижимости  \n",
       "30  171456.067993  операции с коммерческой недвижимостью  "
      ]
     },
     "metadata": {},
     "output_type": "display_data"
    },
    {
     "data": {
      "text/plain": [
       "пенсионер      3443\n",
       "безработный       2\n",
       "Name: income_type, dtype: int64"
      ]
     },
     "metadata": {},
     "output_type": "display_data"
    }
   ],
   "source": [
    "anomaly_years_employed = data[data['years_employed'] > 57]\n",
    "display(anomaly_years_employed.head(5))\n",
    "display(anomaly_years_employed['income_type'].value_counts())"
   ]
  },
  {
   "cell_type": "markdown",
   "id": "859766aa",
   "metadata": {},
   "source": [
    "Как мы видим, все аномальные значения принадлежат пенсионерам и безработным. Причина некорректных данных неизвестна, но очень похоже, что при обработке данных произошла техническая ошибка и данные все еще указаны в днях. Попробуем исправить ситуацию:"
   ]
  },
  {
   "cell_type": "code",
   "execution_count": 8,
   "id": "e586c51d",
   "metadata": {},
   "outputs": [
    {
     "data": {
      "text/html": [
       "<div>\n",
       "<style scoped>\n",
       "    .dataframe tbody tr th:only-of-type {\n",
       "        vertical-align: middle;\n",
       "    }\n",
       "\n",
       "    .dataframe tbody tr th {\n",
       "        vertical-align: top;\n",
       "    }\n",
       "\n",
       "    .dataframe thead th {\n",
       "        text-align: right;\n",
       "    }\n",
       "</style>\n",
       "<table border=\"1\" class=\"dataframe\">\n",
       "  <thead>\n",
       "    <tr style=\"text-align: right;\">\n",
       "      <th></th>\n",
       "      <th>children</th>\n",
       "      <th>years_employed</th>\n",
       "      <th>dob_years</th>\n",
       "      <th>education</th>\n",
       "      <th>education_id</th>\n",
       "      <th>family_status</th>\n",
       "      <th>family_status_id</th>\n",
       "      <th>gender</th>\n",
       "      <th>income_type</th>\n",
       "      <th>debt</th>\n",
       "      <th>total_income</th>\n",
       "      <th>purpose</th>\n",
       "    </tr>\n",
       "  </thead>\n",
       "  <tbody>\n",
       "    <tr>\n",
       "      <th>0</th>\n",
       "      <td>1</td>\n",
       "      <td>23.116912</td>\n",
       "      <td>42</td>\n",
       "      <td>высшее</td>\n",
       "      <td>0</td>\n",
       "      <td>женат / замужем</td>\n",
       "      <td>0</td>\n",
       "      <td>F</td>\n",
       "      <td>сотрудник</td>\n",
       "      <td>0</td>\n",
       "      <td>253875.639453</td>\n",
       "      <td>покупка жилья</td>\n",
       "    </tr>\n",
       "    <tr>\n",
       "      <th>1</th>\n",
       "      <td>1</td>\n",
       "      <td>11.026860</td>\n",
       "      <td>36</td>\n",
       "      <td>среднее</td>\n",
       "      <td>1</td>\n",
       "      <td>женат / замужем</td>\n",
       "      <td>0</td>\n",
       "      <td>F</td>\n",
       "      <td>сотрудник</td>\n",
       "      <td>0</td>\n",
       "      <td>112080.014102</td>\n",
       "      <td>приобретение автомобиля</td>\n",
       "    </tr>\n",
       "    <tr>\n",
       "      <th>2</th>\n",
       "      <td>0</td>\n",
       "      <td>15.406637</td>\n",
       "      <td>33</td>\n",
       "      <td>Среднее</td>\n",
       "      <td>1</td>\n",
       "      <td>женат / замужем</td>\n",
       "      <td>0</td>\n",
       "      <td>M</td>\n",
       "      <td>сотрудник</td>\n",
       "      <td>0</td>\n",
       "      <td>145885.952297</td>\n",
       "      <td>покупка жилья</td>\n",
       "    </tr>\n",
       "    <tr>\n",
       "      <th>3</th>\n",
       "      <td>3</td>\n",
       "      <td>11.300677</td>\n",
       "      <td>32</td>\n",
       "      <td>среднее</td>\n",
       "      <td>1</td>\n",
       "      <td>женат / замужем</td>\n",
       "      <td>0</td>\n",
       "      <td>M</td>\n",
       "      <td>сотрудник</td>\n",
       "      <td>0</td>\n",
       "      <td>267628.550329</td>\n",
       "      <td>дополнительное образование</td>\n",
       "    </tr>\n",
       "    <tr>\n",
       "      <th>4</th>\n",
       "      <td>0</td>\n",
       "      <td>38.843159</td>\n",
       "      <td>53</td>\n",
       "      <td>среднее</td>\n",
       "      <td>1</td>\n",
       "      <td>гражданский брак</td>\n",
       "      <td>1</td>\n",
       "      <td>F</td>\n",
       "      <td>пенсионер</td>\n",
       "      <td>0</td>\n",
       "      <td>158616.077870</td>\n",
       "      <td>сыграть свадьбу</td>\n",
       "    </tr>\n",
       "  </tbody>\n",
       "</table>\n",
       "</div>"
      ],
      "text/plain": [
       "   children  years_employed  dob_years education  education_id  \\\n",
       "0         1       23.116912         42    высшее             0   \n",
       "1         1       11.026860         36   среднее             1   \n",
       "2         0       15.406637         33   Среднее             1   \n",
       "3         3       11.300677         32   среднее             1   \n",
       "4         0       38.843159         53   среднее             1   \n",
       "\n",
       "      family_status  family_status_id gender income_type  debt   total_income  \\\n",
       "0   женат / замужем                 0      F   сотрудник     0  253875.639453   \n",
       "1   женат / замужем                 0      F   сотрудник     0  112080.014102   \n",
       "2   женат / замужем                 0      M   сотрудник     0  145885.952297   \n",
       "3   женат / замужем                 0      M   сотрудник     0  267628.550329   \n",
       "4  гражданский брак                 1      F   пенсионер     0  158616.077870   \n",
       "\n",
       "                      purpose  \n",
       "0               покупка жилья  \n",
       "1     приобретение автомобиля  \n",
       "2               покупка жилья  \n",
       "3  дополнительное образование  \n",
       "4             сыграть свадьбу  "
      ]
     },
     "execution_count": 8,
     "metadata": {},
     "output_type": "execute_result"
    }
   ],
   "source": [
    "def correct_employed_years(data):\n",
    "    if data['years_employed'] > 57:\n",
    "        return data['years_employed'] / 24\n",
    "    else:\n",
    "        return data['years_employed']\n",
    "data['years_employed'] = data.apply(correct_employed_years, axis=1)\n",
    "data.head(5)"
   ]
  },
  {
   "cell_type": "markdown",
   "id": "13a40029",
   "metadata": {},
   "source": [
    "Теперь данные похожи на правду: стаж 11 лет при возрасте 36 лет или 23 года при возрасте 42 года. Теперь можно заполнить пустые значения медианными данными:"
   ]
  },
  {
   "cell_type": "code",
   "execution_count": 9,
   "id": "9a65456f",
   "metadata": {},
   "outputs": [],
   "source": [
    "data['years_employed'] = data['years_employed'].fillna(data['years_employed'].median())"
   ]
  },
  {
   "cell_type": "markdown",
   "id": "9e5a711a",
   "metadata": {},
   "source": [
    "Далее рассматриваем аномалии в столбце \"dob_years\", в котором указан возраст клиента. Мы уже знаем, что максимальное значение - 75, теперь узнаем минимальное значение:"
   ]
  },
  {
   "cell_type": "code",
   "execution_count": 10,
   "id": "60142125",
   "metadata": {},
   "outputs": [
    {
     "name": "stdout",
     "output_type": "stream",
     "text": [
      "Возраст клиента (минимальный): 0\n"
     ]
    }
   ],
   "source": [
    "print('Возраст клиента (минимальный):', data['dob_years'].min())"
   ]
  },
  {
   "cell_type": "markdown",
   "id": "8636053e",
   "metadata": {},
   "source": [
    "Похоже на аномалию, связанную с тем, что кто-то не указал свой возраст. Проверим общее количество строк с клиентами, чей возраст менее 18 лет:"
   ]
  },
  {
   "cell_type": "code",
   "execution_count": 11,
   "id": "1918518c",
   "metadata": {
    "scrolled": true
   },
   "outputs": [
    {
     "data": {
      "text/plain": [
       "children            101\n",
       "years_employed      101\n",
       "dob_years           101\n",
       "education           101\n",
       "education_id        101\n",
       "family_status       101\n",
       "family_status_id    101\n",
       "gender              101\n",
       "income_type         101\n",
       "debt                101\n",
       "total_income         91\n",
       "purpose             101\n",
       "dtype: int64"
      ]
     },
     "execution_count": 11,
     "metadata": {},
     "output_type": "execute_result"
    }
   ],
   "source": [
    "data[data['dob_years'] < 18].count()"
   ]
  },
  {
   "cell_type": "markdown",
   "id": "5ced7f1c",
   "metadata": {},
   "source": [
    "101 строка - можно либо заменить данные медианным значением, а можно удалить данные, так как сильно на статистику они не повлияют. Удаление:"
   ]
  },
  {
   "cell_type": "code",
   "execution_count": 12,
   "id": "ce968e90",
   "metadata": {},
   "outputs": [
    {
     "name": "stdout",
     "output_type": "stream",
     "text": [
      "<class 'pandas.core.frame.DataFrame'>\n",
      "RangeIndex: 21424 entries, 0 to 21423\n",
      "Data columns (total 12 columns):\n",
      " #   Column            Non-Null Count  Dtype  \n",
      "---  ------            --------------  -----  \n",
      " 0   children          21424 non-null  int64  \n",
      " 1   years_employed    21424 non-null  float64\n",
      " 2   dob_years         21424 non-null  int64  \n",
      " 3   education         21424 non-null  object \n",
      " 4   education_id      21424 non-null  int64  \n",
      " 5   family_status     21424 non-null  object \n",
      " 6   family_status_id  21424 non-null  int64  \n",
      " 7   gender            21424 non-null  object \n",
      " 8   income_type       21424 non-null  object \n",
      " 9   debt              21424 non-null  int64  \n",
      " 10  total_income      19260 non-null  float64\n",
      " 11  purpose           21424 non-null  object \n",
      "dtypes: float64(2), int64(5), object(5)\n",
      "memory usage: 2.0+ MB\n"
     ]
    }
   ],
   "source": [
    "data = data[data['dob_years'] >= 18].reset_index(drop=True)\n",
    "data.info()"
   ]
  },
  {
   "cell_type": "markdown",
   "id": "4d95500a",
   "metadata": {},
   "source": [
    "Далее рассматриваем аномалии в столбце \"education\", в котором указано образование:"
   ]
  },
  {
   "cell_type": "code",
   "execution_count": 13,
   "id": "d47fa55c",
   "metadata": {},
   "outputs": [
    {
     "name": "stdout",
     "output_type": "stream",
     "text": [
      "['высшее' 'среднее' 'Среднее' 'СРЕДНЕЕ' 'ВЫСШЕЕ' 'неоконченное высшее'\n",
      " 'начальное' 'Высшее' 'НЕОКОНЧЕННОЕ ВЫСШЕЕ' 'Неоконченное высшее'\n",
      " 'НАЧАЛЬНОЕ' 'Начальное' 'Ученая степень' 'УЧЕНАЯ СТЕПЕНЬ'\n",
      " 'ученая степень']\n"
     ]
    }
   ],
   "source": [
    "print(data['education'].unique())"
   ]
  },
  {
   "cell_type": "markdown",
   "id": "879d4df8",
   "metadata": {},
   "source": [
    "В целях исключения аномалии, которые, скорее всего, возникли из-за отсутствия указания необходимого формата для заполнения или человеческой невнимательности, приведем значения к нижнему регистру и выведем значения на экран, чтобы убедиться, что аномалии исправлены:"
   ]
  },
  {
   "cell_type": "code",
   "execution_count": 14,
   "id": "139f2ac7",
   "metadata": {},
   "outputs": [
    {
     "name": "stdout",
     "output_type": "stream",
     "text": [
      "['высшее' 'среднее' 'неоконченное высшее' 'начальное' 'ученая степень']\n"
     ]
    }
   ],
   "source": [
    "data['education'] = data['education'].str.lower()\n",
    "print(data['education'].unique())"
   ]
  },
  {
   "cell_type": "markdown",
   "id": "1ae3d6bf",
   "metadata": {},
   "source": [
    "Проверяем аномалии в столбце \"education_id\", значения, очевидно, должны соответствовать столбцу \"education\":"
   ]
  },
  {
   "cell_type": "code",
   "execution_count": 15,
   "id": "991b8076",
   "metadata": {},
   "outputs": [
    {
     "name": "stdout",
     "output_type": "stream",
     "text": [
      "1    15169\n",
      "0     5225\n",
      "2      742\n",
      "3      282\n",
      "4        6\n",
      "Name: education_id, dtype: int64\n",
      "среднее                15169\n",
      "высшее                  5225\n",
      "неоконченное высшее      742\n",
      "начальное                282\n",
      "ученая степень             6\n",
      "Name: education, dtype: int64\n"
     ]
    }
   ],
   "source": [
    "print(data['education_id'].value_counts())\n",
    "\n",
    "print(data['education'].value_counts())"
   ]
  },
  {
   "cell_type": "markdown",
   "id": "fcee94b1",
   "metadata": {},
   "source": [
    "Значения совпадают, теперь проверяем значения в столбце \"family_status\" и сверяем со столбцом \"family_status_id\":"
   ]
  },
  {
   "cell_type": "code",
   "execution_count": 16,
   "id": "d8559290",
   "metadata": {},
   "outputs": [
    {
     "name": "stdout",
     "output_type": "stream",
     "text": [
      "женат / замужем          12331\n",
      "гражданский брак          4156\n",
      "Не женат / не замужем     2797\n",
      "в разводе                 1185\n",
      "вдовец / вдова             955\n",
      "Name: family_status, dtype: int64\n",
      "0    12331\n",
      "1     4156\n",
      "4     2797\n",
      "3     1185\n",
      "2      955\n",
      "Name: family_status_id, dtype: int64\n"
     ]
    }
   ],
   "source": [
    "print(data['family_status'].value_counts())\n",
    "print(data['family_status_id'].value_counts())"
   ]
  },
  {
   "cell_type": "markdown",
   "id": "c167ddf7",
   "metadata": {},
   "source": [
    "Значения совпадают, каждому статусу соответствует своя цифра в id, теперь проверяем значения в столбце \"gender\":"
   ]
  },
  {
   "cell_type": "code",
   "execution_count": 17,
   "id": "85f19d20",
   "metadata": {},
   "outputs": [
    {
     "name": "stdout",
     "output_type": "stream",
     "text": [
      "F      14164\n",
      "M       7259\n",
      "XNA        1\n",
      "Name: gender, dtype: int64\n"
     ]
    }
   ],
   "source": [
    "print(data['gender'].value_counts())"
   ]
  },
  {
   "cell_type": "markdown",
   "id": "55a9aae1",
   "metadata": {},
   "source": [
    "Значение XNA не влияет на общее значение, причины указания такого значения неизвестны и не влияют на данные. Следующая проверка касается столбца \"income_type\":"
   ]
  },
  {
   "cell_type": "code",
   "execution_count": 18,
   "id": "dd4451aa",
   "metadata": {},
   "outputs": [
    {
     "name": "stdout",
     "output_type": "stream",
     "text": [
      "['сотрудник' 'пенсионер' 'компаньон' 'госслужащий' 'безработный'\n",
      " 'предприниматель' 'студент' 'в декрете']\n"
     ]
    }
   ],
   "source": [
    "print(data['income_type'].unique())"
   ]
  },
  {
   "cell_type": "markdown",
   "id": "02758d82",
   "metadata": {},
   "source": [
    "Аномалий в этом столбце нет. Переходим к столбцу \"debt\":"
   ]
  },
  {
   "cell_type": "code",
   "execution_count": 19,
   "id": "a4deec3b",
   "metadata": {},
   "outputs": [
    {
     "name": "stdout",
     "output_type": "stream",
     "text": [
      "0    19691\n",
      "1     1733\n",
      "Name: debt, dtype: int64\n"
     ]
    }
   ],
   "source": [
    "print(data['debt'].value_counts())"
   ]
  },
  {
   "cell_type": "markdown",
   "id": "992dc033",
   "metadata": {},
   "source": [
    "Аномалий в этом столбце нет. Переходим к столбцу \"total_income\". Заполним его медианными значениями, так как средние не отобразят реальную картину при наличии большого разброса дохода:"
   ]
  },
  {
   "cell_type": "code",
   "execution_count": 20,
   "id": "6f30b497",
   "metadata": {},
   "outputs": [],
   "source": [
    "data['total_income'] = data['total_income'].fillna(data['total_income'].median())"
   ]
  },
  {
   "cell_type": "markdown",
   "id": "f5c52435",
   "metadata": {},
   "source": [
    "Переходим к столбцу \"purpose\":"
   ]
  },
  {
   "cell_type": "code",
   "execution_count": 21,
   "id": "4f1ed90d",
   "metadata": {},
   "outputs": [
    {
     "name": "stdout",
     "output_type": "stream",
     "text": [
      "свадьба                                   792\n",
      "на проведение свадьбы                     773\n",
      "сыграть свадьбу                           769\n",
      "операции с недвижимостью                  673\n",
      "покупка коммерческой недвижимости         661\n",
      "покупка жилья для сдачи                   651\n",
      "операции с коммерческой недвижимостью     649\n",
      "операции с жильем                         647\n",
      "жилье                                     641\n",
      "покупка жилья                             641\n",
      "покупка жилья для семьи                   640\n",
      "строительство собственной недвижимости    633\n",
      "операции со своей недвижимостью           630\n",
      "недвижимость                              630\n",
      "строительство жилой недвижимости          623\n",
      "покупка недвижимости                      621\n",
      "строительство недвижимости                620\n",
      "покупка своего жилья                      619\n",
      "ремонт жилью                              610\n",
      "покупка жилой недвижимости                604\n",
      "на покупку своего автомобиля              502\n",
      "заняться высшим образованием              493\n",
      "автомобиль                                491\n",
      "сделка с подержанным автомобилем          487\n",
      "на покупку подержанного автомобиля        479\n",
      "свой автомобиль                           477\n",
      "автомобили                                476\n",
      "на покупку автомобиля                     467\n",
      "дополнительное образование                460\n",
      "приобретение автомобиля                   460\n",
      "сделка с автомобилем                      454\n",
      "высшее образование                        450\n",
      "получение дополнительного образования     445\n",
      "образование                               444\n",
      "получение образования                     442\n",
      "профильное образование                    435\n",
      "получение высшего образования             424\n",
      "заняться образованием                     411\n",
      "Name: purpose, dtype: int64\n"
     ]
    }
   ],
   "source": [
    "print(data['purpose'].value_counts())"
   ]
  },
  {
   "cell_type": "markdown",
   "id": "6335ca9f",
   "metadata": {},
   "source": [
    "Как мы видим, многие одинаковые данные записаны по разному (сделка с автомобилем = приобретение автомобиля или получение образования = профильное образование), скорее всего данные потребуется объединить по общему признаку."
   ]
  },
  {
   "cell_type": "markdown",
   "id": "4ca1cf3d",
   "metadata": {},
   "source": [
    "### Шаг 2.3. Изменение типов данных."
   ]
  },
  {
   "cell_type": "markdown",
   "id": "655cc7f9",
   "metadata": {},
   "source": [
    "Заменим данные в столбцах 'years_employed' и 'total_income' на целочисленные и проверим результат:"
   ]
  },
  {
   "cell_type": "code",
   "execution_count": 22,
   "id": "bbcb49f5",
   "metadata": {},
   "outputs": [
    {
     "name": "stdout",
     "output_type": "stream",
     "text": [
      "<class 'pandas.core.frame.DataFrame'>\n",
      "RangeIndex: 21424 entries, 0 to 21423\n",
      "Data columns (total 12 columns):\n",
      " #   Column            Non-Null Count  Dtype \n",
      "---  ------            --------------  ----- \n",
      " 0   children          21424 non-null  int64 \n",
      " 1   years_employed    21424 non-null  int64 \n",
      " 2   dob_years         21424 non-null  int64 \n",
      " 3   education         21424 non-null  object\n",
      " 4   education_id      21424 non-null  int64 \n",
      " 5   family_status     21424 non-null  object\n",
      " 6   family_status_id  21424 non-null  int64 \n",
      " 7   gender            21424 non-null  object\n",
      " 8   income_type       21424 non-null  object\n",
      " 9   debt              21424 non-null  int64 \n",
      " 10  total_income      21424 non-null  int64 \n",
      " 11  purpose           21424 non-null  object\n",
      "dtypes: int64(7), object(5)\n",
      "memory usage: 2.0+ MB\n"
     ]
    }
   ],
   "source": [
    "data['years_employed'] = data['years_employed'].astype('int')\n",
    "data['total_income'] = data['total_income'].astype('int')\n",
    "data.info()"
   ]
  },
  {
   "cell_type": "markdown",
   "id": "576f5753",
   "metadata": {},
   "source": [
    "### Шаг 2.4. Удаление дубликатов."
   ]
  },
  {
   "cell_type": "markdown",
   "id": "af2f8a51",
   "metadata": {},
   "source": [
    "Посчитаем количество дубликатов:"
   ]
  },
  {
   "cell_type": "code",
   "execution_count": 23,
   "id": "e672bcb3",
   "metadata": {
    "scrolled": true
   },
   "outputs": [
    {
     "data": {
      "text/plain": [
       "71"
      ]
     },
     "execution_count": 23,
     "metadata": {},
     "output_type": "execute_result"
    }
   ],
   "source": [
    "data.duplicated().sum()"
   ]
  },
  {
   "cell_type": "markdown",
   "id": "f949f220",
   "metadata": {},
   "source": [
    "Удаляем дубликаты и проверяем:"
   ]
  },
  {
   "cell_type": "code",
   "execution_count": 24,
   "id": "6092b2e7",
   "metadata": {},
   "outputs": [
    {
     "data": {
      "text/plain": [
       "0"
      ]
     },
     "execution_count": 24,
     "metadata": {},
     "output_type": "execute_result"
    }
   ],
   "source": [
    "data = data.drop_duplicates().reset_index(drop=True)\n",
    "data.duplicated().sum()"
   ]
  },
  {
   "cell_type": "markdown",
   "id": "34e0b757",
   "metadata": {},
   "source": [
    "### Шаг 2.5. Формирование дополнительных датафреймов словарей, декомпозиция исходного датафрейма."
   ]
  },
  {
   "cell_type": "markdown",
   "id": "7b15cd1f",
   "metadata": {},
   "source": [
    "Создадим сводную таблицу 'education' и 'education_id':"
   ]
  },
  {
   "cell_type": "code",
   "execution_count": 25,
   "id": "23baee00",
   "metadata": {},
   "outputs": [
    {
     "data": {
      "text/html": [
       "<div>\n",
       "<style scoped>\n",
       "    .dataframe tbody tr th:only-of-type {\n",
       "        vertical-align: middle;\n",
       "    }\n",
       "\n",
       "    .dataframe tbody tr th {\n",
       "        vertical-align: top;\n",
       "    }\n",
       "\n",
       "    .dataframe thead th {\n",
       "        text-align: right;\n",
       "    }\n",
       "</style>\n",
       "<table border=\"1\" class=\"dataframe\">\n",
       "  <thead>\n",
       "    <tr style=\"text-align: right;\">\n",
       "      <th></th>\n",
       "      <th>education_id</th>\n",
       "    </tr>\n",
       "    <tr>\n",
       "      <th>education</th>\n",
       "      <th></th>\n",
       "    </tr>\n",
       "  </thead>\n",
       "  <tbody>\n",
       "    <tr>\n",
       "      <th>высшее</th>\n",
       "      <td>0</td>\n",
       "    </tr>\n",
       "    <tr>\n",
       "      <th>среднее</th>\n",
       "      <td>1</td>\n",
       "    </tr>\n",
       "    <tr>\n",
       "      <th>неоконченное высшее</th>\n",
       "      <td>2</td>\n",
       "    </tr>\n",
       "    <tr>\n",
       "      <th>начальное</th>\n",
       "      <td>3</td>\n",
       "    </tr>\n",
       "    <tr>\n",
       "      <th>ученая степень</th>\n",
       "      <td>4</td>\n",
       "    </tr>\n",
       "  </tbody>\n",
       "</table>\n",
       "</div>"
      ],
      "text/plain": [
       "                     education_id\n",
       "education                        \n",
       "высшее                          0\n",
       "среднее                         1\n",
       "неоконченное высшее             2\n",
       "начальное                       3\n",
       "ученая степень                  4"
      ]
     },
     "metadata": {},
     "output_type": "display_data"
    }
   ],
   "source": [
    "data_education = data.pivot_table(index=['education'], values = 'education_id').sort_values(by='education_id')\n",
    "display(data_education)"
   ]
  },
  {
   "cell_type": "markdown",
   "id": "dfaa3820",
   "metadata": {},
   "source": [
    "Создадим сводную таблицу 'family_status' и 'family_status_id':"
   ]
  },
  {
   "cell_type": "code",
   "execution_count": 26,
   "id": "424dbab9",
   "metadata": {
    "scrolled": true
   },
   "outputs": [
    {
     "data": {
      "text/html": [
       "<div>\n",
       "<style scoped>\n",
       "    .dataframe tbody tr th:only-of-type {\n",
       "        vertical-align: middle;\n",
       "    }\n",
       "\n",
       "    .dataframe tbody tr th {\n",
       "        vertical-align: top;\n",
       "    }\n",
       "\n",
       "    .dataframe thead th {\n",
       "        text-align: right;\n",
       "    }\n",
       "</style>\n",
       "<table border=\"1\" class=\"dataframe\">\n",
       "  <thead>\n",
       "    <tr style=\"text-align: right;\">\n",
       "      <th></th>\n",
       "      <th>family_status_id</th>\n",
       "    </tr>\n",
       "    <tr>\n",
       "      <th>family_status</th>\n",
       "      <th></th>\n",
       "    </tr>\n",
       "  </thead>\n",
       "  <tbody>\n",
       "    <tr>\n",
       "      <th>женат / замужем</th>\n",
       "      <td>0</td>\n",
       "    </tr>\n",
       "    <tr>\n",
       "      <th>гражданский брак</th>\n",
       "      <td>1</td>\n",
       "    </tr>\n",
       "    <tr>\n",
       "      <th>вдовец / вдова</th>\n",
       "      <td>2</td>\n",
       "    </tr>\n",
       "    <tr>\n",
       "      <th>в разводе</th>\n",
       "      <td>3</td>\n",
       "    </tr>\n",
       "    <tr>\n",
       "      <th>Не женат / не замужем</th>\n",
       "      <td>4</td>\n",
       "    </tr>\n",
       "  </tbody>\n",
       "</table>\n",
       "</div>"
      ],
      "text/plain": [
       "                       family_status_id\n",
       "family_status                          \n",
       "женат / замужем                       0\n",
       "гражданский брак                      1\n",
       "вдовец / вдова                        2\n",
       "в разводе                             3\n",
       "Не женат / не замужем                 4"
      ]
     },
     "metadata": {},
     "output_type": "display_data"
    }
   ],
   "source": [
    "data_family_status = data.pivot_table(index=['family_status'], values = 'family_status_id').sort_values(by='family_status_id')\n",
    "display(data_family_status)"
   ]
  },
  {
   "cell_type": "markdown",
   "id": "bb861c9a",
   "metadata": {},
   "source": [
    "Удалим из исходного датафрейма столбцы education и family_status, оставив только их идентификаторы: education_id и family_status_id:"
   ]
  },
  {
   "cell_type": "code",
   "execution_count": 27,
   "id": "4ef33a54",
   "metadata": {},
   "outputs": [
    {
     "data": {
      "text/html": [
       "<div>\n",
       "<style scoped>\n",
       "    .dataframe tbody tr th:only-of-type {\n",
       "        vertical-align: middle;\n",
       "    }\n",
       "\n",
       "    .dataframe tbody tr th {\n",
       "        vertical-align: top;\n",
       "    }\n",
       "\n",
       "    .dataframe thead th {\n",
       "        text-align: right;\n",
       "    }\n",
       "</style>\n",
       "<table border=\"1\" class=\"dataframe\">\n",
       "  <thead>\n",
       "    <tr style=\"text-align: right;\">\n",
       "      <th></th>\n",
       "      <th>children</th>\n",
       "      <th>years_employed</th>\n",
       "      <th>dob_years</th>\n",
       "      <th>education_id</th>\n",
       "      <th>family_status_id</th>\n",
       "      <th>gender</th>\n",
       "      <th>income_type</th>\n",
       "      <th>debt</th>\n",
       "      <th>total_income</th>\n",
       "      <th>purpose</th>\n",
       "    </tr>\n",
       "  </thead>\n",
       "  <tbody>\n",
       "    <tr>\n",
       "      <th>0</th>\n",
       "      <td>1</td>\n",
       "      <td>23</td>\n",
       "      <td>42</td>\n",
       "      <td>0</td>\n",
       "      <td>0</td>\n",
       "      <td>F</td>\n",
       "      <td>сотрудник</td>\n",
       "      <td>0</td>\n",
       "      <td>253875</td>\n",
       "      <td>покупка жилья</td>\n",
       "    </tr>\n",
       "    <tr>\n",
       "      <th>1</th>\n",
       "      <td>1</td>\n",
       "      <td>11</td>\n",
       "      <td>36</td>\n",
       "      <td>1</td>\n",
       "      <td>0</td>\n",
       "      <td>F</td>\n",
       "      <td>сотрудник</td>\n",
       "      <td>0</td>\n",
       "      <td>112080</td>\n",
       "      <td>приобретение автомобиля</td>\n",
       "    </tr>\n",
       "    <tr>\n",
       "      <th>2</th>\n",
       "      <td>0</td>\n",
       "      <td>15</td>\n",
       "      <td>33</td>\n",
       "      <td>1</td>\n",
       "      <td>0</td>\n",
       "      <td>M</td>\n",
       "      <td>сотрудник</td>\n",
       "      <td>0</td>\n",
       "      <td>145885</td>\n",
       "      <td>покупка жилья</td>\n",
       "    </tr>\n",
       "    <tr>\n",
       "      <th>3</th>\n",
       "      <td>3</td>\n",
       "      <td>11</td>\n",
       "      <td>32</td>\n",
       "      <td>1</td>\n",
       "      <td>0</td>\n",
       "      <td>M</td>\n",
       "      <td>сотрудник</td>\n",
       "      <td>0</td>\n",
       "      <td>267628</td>\n",
       "      <td>дополнительное образование</td>\n",
       "    </tr>\n",
       "    <tr>\n",
       "      <th>4</th>\n",
       "      <td>0</td>\n",
       "      <td>38</td>\n",
       "      <td>53</td>\n",
       "      <td>1</td>\n",
       "      <td>1</td>\n",
       "      <td>F</td>\n",
       "      <td>пенсионер</td>\n",
       "      <td>0</td>\n",
       "      <td>158616</td>\n",
       "      <td>сыграть свадьбу</td>\n",
       "    </tr>\n",
       "    <tr>\n",
       "      <th>...</th>\n",
       "      <td>...</td>\n",
       "      <td>...</td>\n",
       "      <td>...</td>\n",
       "      <td>...</td>\n",
       "      <td>...</td>\n",
       "      <td>...</td>\n",
       "      <td>...</td>\n",
       "      <td>...</td>\n",
       "      <td>...</td>\n",
       "      <td>...</td>\n",
       "    </tr>\n",
       "    <tr>\n",
       "      <th>21348</th>\n",
       "      <td>1</td>\n",
       "      <td>12</td>\n",
       "      <td>43</td>\n",
       "      <td>1</td>\n",
       "      <td>1</td>\n",
       "      <td>F</td>\n",
       "      <td>компаньон</td>\n",
       "      <td>0</td>\n",
       "      <td>224791</td>\n",
       "      <td>операции с жильем</td>\n",
       "    </tr>\n",
       "    <tr>\n",
       "      <th>21349</th>\n",
       "      <td>0</td>\n",
       "      <td>39</td>\n",
       "      <td>67</td>\n",
       "      <td>1</td>\n",
       "      <td>0</td>\n",
       "      <td>F</td>\n",
       "      <td>пенсионер</td>\n",
       "      <td>0</td>\n",
       "      <td>155999</td>\n",
       "      <td>сделка с автомобилем</td>\n",
       "    </tr>\n",
       "    <tr>\n",
       "      <th>21350</th>\n",
       "      <td>1</td>\n",
       "      <td>5</td>\n",
       "      <td>38</td>\n",
       "      <td>1</td>\n",
       "      <td>1</td>\n",
       "      <td>M</td>\n",
       "      <td>сотрудник</td>\n",
       "      <td>1</td>\n",
       "      <td>89672</td>\n",
       "      <td>недвижимость</td>\n",
       "    </tr>\n",
       "    <tr>\n",
       "      <th>21351</th>\n",
       "      <td>3</td>\n",
       "      <td>8</td>\n",
       "      <td>38</td>\n",
       "      <td>1</td>\n",
       "      <td>0</td>\n",
       "      <td>M</td>\n",
       "      <td>сотрудник</td>\n",
       "      <td>1</td>\n",
       "      <td>244093</td>\n",
       "      <td>на покупку своего автомобиля</td>\n",
       "    </tr>\n",
       "    <tr>\n",
       "      <th>21352</th>\n",
       "      <td>2</td>\n",
       "      <td>5</td>\n",
       "      <td>40</td>\n",
       "      <td>1</td>\n",
       "      <td>0</td>\n",
       "      <td>F</td>\n",
       "      <td>сотрудник</td>\n",
       "      <td>0</td>\n",
       "      <td>82047</td>\n",
       "      <td>на покупку автомобиля</td>\n",
       "    </tr>\n",
       "  </tbody>\n",
       "</table>\n",
       "<p>21353 rows × 10 columns</p>\n",
       "</div>"
      ],
      "text/plain": [
       "       children  years_employed  dob_years  education_id  family_status_id  \\\n",
       "0             1              23         42             0                 0   \n",
       "1             1              11         36             1                 0   \n",
       "2             0              15         33             1                 0   \n",
       "3             3              11         32             1                 0   \n",
       "4             0              38         53             1                 1   \n",
       "...         ...             ...        ...           ...               ...   \n",
       "21348         1              12         43             1                 1   \n",
       "21349         0              39         67             1                 0   \n",
       "21350         1               5         38             1                 1   \n",
       "21351         3               8         38             1                 0   \n",
       "21352         2               5         40             1                 0   \n",
       "\n",
       "      gender income_type  debt  total_income                       purpose  \n",
       "0          F   сотрудник     0        253875                 покупка жилья  \n",
       "1          F   сотрудник     0        112080       приобретение автомобиля  \n",
       "2          M   сотрудник     0        145885                 покупка жилья  \n",
       "3          M   сотрудник     0        267628    дополнительное образование  \n",
       "4          F   пенсионер     0        158616               сыграть свадьбу  \n",
       "...      ...         ...   ...           ...                           ...  \n",
       "21348      F   компаньон     0        224791             операции с жильем  \n",
       "21349      F   пенсионер     0        155999          сделка с автомобилем  \n",
       "21350      M   сотрудник     1         89672                  недвижимость  \n",
       "21351      M   сотрудник     1        244093  на покупку своего автомобиля  \n",
       "21352      F   сотрудник     0         82047         на покупку автомобиля  \n",
       "\n",
       "[21353 rows x 10 columns]"
      ]
     },
     "metadata": {},
     "output_type": "display_data"
    }
   ],
   "source": [
    "data = data.drop(['family_status', 'education' ], axis = 1)\n",
    "display(data)"
   ]
  },
  {
   "cell_type": "markdown",
   "id": "f6108341",
   "metadata": {},
   "source": [
    "### Шаг 2.6. Категоризация дохода."
   ]
  },
  {
   "cell_type": "markdown",
   "id": "e9461153",
   "metadata": {},
   "source": [
    "Cоздаем столбец total_income_category с категориями:"
   ]
  },
  {
   "cell_type": "code",
   "execution_count": 28,
   "id": "ceb81676",
   "metadata": {},
   "outputs": [
    {
     "data": {
      "text/html": [
       "<div>\n",
       "<style scoped>\n",
       "    .dataframe tbody tr th:only-of-type {\n",
       "        vertical-align: middle;\n",
       "    }\n",
       "\n",
       "    .dataframe tbody tr th {\n",
       "        vertical-align: top;\n",
       "    }\n",
       "\n",
       "    .dataframe thead th {\n",
       "        text-align: right;\n",
       "    }\n",
       "</style>\n",
       "<table border=\"1\" class=\"dataframe\">\n",
       "  <thead>\n",
       "    <tr style=\"text-align: right;\">\n",
       "      <th></th>\n",
       "      <th>children</th>\n",
       "      <th>years_employed</th>\n",
       "      <th>dob_years</th>\n",
       "      <th>education_id</th>\n",
       "      <th>family_status_id</th>\n",
       "      <th>gender</th>\n",
       "      <th>income_type</th>\n",
       "      <th>debt</th>\n",
       "      <th>total_income</th>\n",
       "      <th>purpose</th>\n",
       "      <th>total_income_category</th>\n",
       "    </tr>\n",
       "  </thead>\n",
       "  <tbody>\n",
       "    <tr>\n",
       "      <th>0</th>\n",
       "      <td>1</td>\n",
       "      <td>23</td>\n",
       "      <td>42</td>\n",
       "      <td>0</td>\n",
       "      <td>0</td>\n",
       "      <td>F</td>\n",
       "      <td>сотрудник</td>\n",
       "      <td>0</td>\n",
       "      <td>253875</td>\n",
       "      <td>покупка жилья</td>\n",
       "      <td>B</td>\n",
       "    </tr>\n",
       "    <tr>\n",
       "      <th>1</th>\n",
       "      <td>1</td>\n",
       "      <td>11</td>\n",
       "      <td>36</td>\n",
       "      <td>1</td>\n",
       "      <td>0</td>\n",
       "      <td>F</td>\n",
       "      <td>сотрудник</td>\n",
       "      <td>0</td>\n",
       "      <td>112080</td>\n",
       "      <td>приобретение автомобиля</td>\n",
       "      <td>C</td>\n",
       "    </tr>\n",
       "    <tr>\n",
       "      <th>2</th>\n",
       "      <td>0</td>\n",
       "      <td>15</td>\n",
       "      <td>33</td>\n",
       "      <td>1</td>\n",
       "      <td>0</td>\n",
       "      <td>M</td>\n",
       "      <td>сотрудник</td>\n",
       "      <td>0</td>\n",
       "      <td>145885</td>\n",
       "      <td>покупка жилья</td>\n",
       "      <td>C</td>\n",
       "    </tr>\n",
       "    <tr>\n",
       "      <th>3</th>\n",
       "      <td>3</td>\n",
       "      <td>11</td>\n",
       "      <td>32</td>\n",
       "      <td>1</td>\n",
       "      <td>0</td>\n",
       "      <td>M</td>\n",
       "      <td>сотрудник</td>\n",
       "      <td>0</td>\n",
       "      <td>267628</td>\n",
       "      <td>дополнительное образование</td>\n",
       "      <td>B</td>\n",
       "    </tr>\n",
       "    <tr>\n",
       "      <th>4</th>\n",
       "      <td>0</td>\n",
       "      <td>38</td>\n",
       "      <td>53</td>\n",
       "      <td>1</td>\n",
       "      <td>1</td>\n",
       "      <td>F</td>\n",
       "      <td>пенсионер</td>\n",
       "      <td>0</td>\n",
       "      <td>158616</td>\n",
       "      <td>сыграть свадьбу</td>\n",
       "      <td>C</td>\n",
       "    </tr>\n",
       "    <tr>\n",
       "      <th>...</th>\n",
       "      <td>...</td>\n",
       "      <td>...</td>\n",
       "      <td>...</td>\n",
       "      <td>...</td>\n",
       "      <td>...</td>\n",
       "      <td>...</td>\n",
       "      <td>...</td>\n",
       "      <td>...</td>\n",
       "      <td>...</td>\n",
       "      <td>...</td>\n",
       "      <td>...</td>\n",
       "    </tr>\n",
       "    <tr>\n",
       "      <th>21348</th>\n",
       "      <td>1</td>\n",
       "      <td>12</td>\n",
       "      <td>43</td>\n",
       "      <td>1</td>\n",
       "      <td>1</td>\n",
       "      <td>F</td>\n",
       "      <td>компаньон</td>\n",
       "      <td>0</td>\n",
       "      <td>224791</td>\n",
       "      <td>операции с жильем</td>\n",
       "      <td>B</td>\n",
       "    </tr>\n",
       "    <tr>\n",
       "      <th>21349</th>\n",
       "      <td>0</td>\n",
       "      <td>39</td>\n",
       "      <td>67</td>\n",
       "      <td>1</td>\n",
       "      <td>0</td>\n",
       "      <td>F</td>\n",
       "      <td>пенсионер</td>\n",
       "      <td>0</td>\n",
       "      <td>155999</td>\n",
       "      <td>сделка с автомобилем</td>\n",
       "      <td>C</td>\n",
       "    </tr>\n",
       "    <tr>\n",
       "      <th>21350</th>\n",
       "      <td>1</td>\n",
       "      <td>5</td>\n",
       "      <td>38</td>\n",
       "      <td>1</td>\n",
       "      <td>1</td>\n",
       "      <td>M</td>\n",
       "      <td>сотрудник</td>\n",
       "      <td>1</td>\n",
       "      <td>89672</td>\n",
       "      <td>недвижимость</td>\n",
       "      <td>C</td>\n",
       "    </tr>\n",
       "    <tr>\n",
       "      <th>21351</th>\n",
       "      <td>3</td>\n",
       "      <td>8</td>\n",
       "      <td>38</td>\n",
       "      <td>1</td>\n",
       "      <td>0</td>\n",
       "      <td>M</td>\n",
       "      <td>сотрудник</td>\n",
       "      <td>1</td>\n",
       "      <td>244093</td>\n",
       "      <td>на покупку своего автомобиля</td>\n",
       "      <td>B</td>\n",
       "    </tr>\n",
       "    <tr>\n",
       "      <th>21352</th>\n",
       "      <td>2</td>\n",
       "      <td>5</td>\n",
       "      <td>40</td>\n",
       "      <td>1</td>\n",
       "      <td>0</td>\n",
       "      <td>F</td>\n",
       "      <td>сотрудник</td>\n",
       "      <td>0</td>\n",
       "      <td>82047</td>\n",
       "      <td>на покупку автомобиля</td>\n",
       "      <td>C</td>\n",
       "    </tr>\n",
       "  </tbody>\n",
       "</table>\n",
       "<p>21353 rows × 11 columns</p>\n",
       "</div>"
      ],
      "text/plain": [
       "       children  years_employed  dob_years  education_id  family_status_id  \\\n",
       "0             1              23         42             0                 0   \n",
       "1             1              11         36             1                 0   \n",
       "2             0              15         33             1                 0   \n",
       "3             3              11         32             1                 0   \n",
       "4             0              38         53             1                 1   \n",
       "...         ...             ...        ...           ...               ...   \n",
       "21348         1              12         43             1                 1   \n",
       "21349         0              39         67             1                 0   \n",
       "21350         1               5         38             1                 1   \n",
       "21351         3               8         38             1                 0   \n",
       "21352         2               5         40             1                 0   \n",
       "\n",
       "      gender income_type  debt  total_income                       purpose  \\\n",
       "0          F   сотрудник     0        253875                 покупка жилья   \n",
       "1          F   сотрудник     0        112080       приобретение автомобиля   \n",
       "2          M   сотрудник     0        145885                 покупка жилья   \n",
       "3          M   сотрудник     0        267628    дополнительное образование   \n",
       "4          F   пенсионер     0        158616               сыграть свадьбу   \n",
       "...      ...         ...   ...           ...                           ...   \n",
       "21348      F   компаньон     0        224791             операции с жильем   \n",
       "21349      F   пенсионер     0        155999          сделка с автомобилем   \n",
       "21350      M   сотрудник     1         89672                  недвижимость   \n",
       "21351      M   сотрудник     1        244093  на покупку своего автомобиля   \n",
       "21352      F   сотрудник     0         82047         на покупку автомобиля   \n",
       "\n",
       "      total_income_category  \n",
       "0                         B  \n",
       "1                         C  \n",
       "2                         C  \n",
       "3                         B  \n",
       "4                         C  \n",
       "...                     ...  \n",
       "21348                     B  \n",
       "21349                     C  \n",
       "21350                     C  \n",
       "21351                     B  \n",
       "21352                     C  \n",
       "\n",
       "[21353 rows x 11 columns]"
      ]
     },
     "metadata": {},
     "output_type": "display_data"
    }
   ],
   "source": [
    "def category_income(income):\n",
    "    total_income = income['total_income']\n",
    "    if total_income <= 30000:\n",
    "        return 'E'\n",
    "    if total_income >= 30001 and total_income <= 50000:\n",
    "        return 'D'\n",
    "    if total_income >= 50001 and total_income <= 200000:\n",
    "        return 'C'\n",
    "    if total_income >= 200001 and total_income <= 1000000:\n",
    "        return 'B'\n",
    "    if total_income >= 1000001:\n",
    "        return 'A'\n",
    "    \n",
    "data['total_income_category'] =  data.apply(category_income, axis=1) \n",
    "display(data)"
   ]
  },
  {
   "cell_type": "markdown",
   "id": "0dc6e69b",
   "metadata": {},
   "source": [
    "### Шаг 2.7. Категоризация целей кредита."
   ]
  },
  {
   "cell_type": "markdown",
   "id": "fc4c7481",
   "metadata": {},
   "source": [
    "Создаем функцию, которая на основании данных из столбца purpose сформирует новый столбец purpose_category:"
   ]
  },
  {
   "cell_type": "code",
   "execution_count": 29,
   "id": "7cc7d1fc",
   "metadata": {},
   "outputs": [],
   "source": [
    "def purpose_category(purpose):\n",
    "    if  'авто' in purpose:\n",
    "        return 'операции с автомобилем'\n",
    "    elif 'недвиж' in purpose or 'жиль' in purpose:\n",
    "        return 'операции с недвижимостью'\n",
    "    elif 'свадьб' in purpose:\n",
    "        return 'проведение свадьбы'\n",
    "    elif 'образо' in purpose:\n",
    "        return 'получение образования'\n",
    "    else:\n",
    "        return 'нет категории'"
   ]
  },
  {
   "cell_type": "code",
   "execution_count": 30,
   "id": "614fc2bb",
   "metadata": {},
   "outputs": [
    {
     "data": {
      "text/html": [
       "<div>\n",
       "<style scoped>\n",
       "    .dataframe tbody tr th:only-of-type {\n",
       "        vertical-align: middle;\n",
       "    }\n",
       "\n",
       "    .dataframe tbody tr th {\n",
       "        vertical-align: top;\n",
       "    }\n",
       "\n",
       "    .dataframe thead th {\n",
       "        text-align: right;\n",
       "    }\n",
       "</style>\n",
       "<table border=\"1\" class=\"dataframe\">\n",
       "  <thead>\n",
       "    <tr style=\"text-align: right;\">\n",
       "      <th></th>\n",
       "      <th>children</th>\n",
       "      <th>years_employed</th>\n",
       "      <th>dob_years</th>\n",
       "      <th>education_id</th>\n",
       "      <th>family_status_id</th>\n",
       "      <th>gender</th>\n",
       "      <th>income_type</th>\n",
       "      <th>debt</th>\n",
       "      <th>total_income</th>\n",
       "      <th>purpose</th>\n",
       "      <th>total_income_category</th>\n",
       "      <th>purpose_category</th>\n",
       "    </tr>\n",
       "  </thead>\n",
       "  <tbody>\n",
       "    <tr>\n",
       "      <th>0</th>\n",
       "      <td>1</td>\n",
       "      <td>23</td>\n",
       "      <td>42</td>\n",
       "      <td>0</td>\n",
       "      <td>0</td>\n",
       "      <td>F</td>\n",
       "      <td>сотрудник</td>\n",
       "      <td>0</td>\n",
       "      <td>253875</td>\n",
       "      <td>покупка жилья</td>\n",
       "      <td>B</td>\n",
       "      <td>операции с недвижимостью</td>\n",
       "    </tr>\n",
       "    <tr>\n",
       "      <th>1</th>\n",
       "      <td>1</td>\n",
       "      <td>11</td>\n",
       "      <td>36</td>\n",
       "      <td>1</td>\n",
       "      <td>0</td>\n",
       "      <td>F</td>\n",
       "      <td>сотрудник</td>\n",
       "      <td>0</td>\n",
       "      <td>112080</td>\n",
       "      <td>приобретение автомобиля</td>\n",
       "      <td>C</td>\n",
       "      <td>операции с автомобилем</td>\n",
       "    </tr>\n",
       "    <tr>\n",
       "      <th>2</th>\n",
       "      <td>0</td>\n",
       "      <td>15</td>\n",
       "      <td>33</td>\n",
       "      <td>1</td>\n",
       "      <td>0</td>\n",
       "      <td>M</td>\n",
       "      <td>сотрудник</td>\n",
       "      <td>0</td>\n",
       "      <td>145885</td>\n",
       "      <td>покупка жилья</td>\n",
       "      <td>C</td>\n",
       "      <td>операции с недвижимостью</td>\n",
       "    </tr>\n",
       "    <tr>\n",
       "      <th>3</th>\n",
       "      <td>3</td>\n",
       "      <td>11</td>\n",
       "      <td>32</td>\n",
       "      <td>1</td>\n",
       "      <td>0</td>\n",
       "      <td>M</td>\n",
       "      <td>сотрудник</td>\n",
       "      <td>0</td>\n",
       "      <td>267628</td>\n",
       "      <td>дополнительное образование</td>\n",
       "      <td>B</td>\n",
       "      <td>получение образования</td>\n",
       "    </tr>\n",
       "    <tr>\n",
       "      <th>4</th>\n",
       "      <td>0</td>\n",
       "      <td>38</td>\n",
       "      <td>53</td>\n",
       "      <td>1</td>\n",
       "      <td>1</td>\n",
       "      <td>F</td>\n",
       "      <td>пенсионер</td>\n",
       "      <td>0</td>\n",
       "      <td>158616</td>\n",
       "      <td>сыграть свадьбу</td>\n",
       "      <td>C</td>\n",
       "      <td>проведение свадьбы</td>\n",
       "    </tr>\n",
       "  </tbody>\n",
       "</table>\n",
       "</div>"
      ],
      "text/plain": [
       "   children  years_employed  dob_years  education_id  family_status_id gender  \\\n",
       "0         1              23         42             0                 0      F   \n",
       "1         1              11         36             1                 0      F   \n",
       "2         0              15         33             1                 0      M   \n",
       "3         3              11         32             1                 0      M   \n",
       "4         0              38         53             1                 1      F   \n",
       "\n",
       "  income_type  debt  total_income                     purpose  \\\n",
       "0   сотрудник     0        253875               покупка жилья   \n",
       "1   сотрудник     0        112080     приобретение автомобиля   \n",
       "2   сотрудник     0        145885               покупка жилья   \n",
       "3   сотрудник     0        267628  дополнительное образование   \n",
       "4   пенсионер     0        158616             сыграть свадьбу   \n",
       "\n",
       "  total_income_category          purpose_category  \n",
       "0                     B  операции с недвижимостью  \n",
       "1                     C    операции с автомобилем  \n",
       "2                     C  операции с недвижимостью  \n",
       "3                     B     получение образования  \n",
       "4                     C        проведение свадьбы  "
      ]
     },
     "metadata": {},
     "output_type": "display_data"
    }
   ],
   "source": [
    "data['purpose_category'] = data['purpose'].apply(purpose_category)\n",
    "display(data.head(5))"
   ]
  },
  {
   "cell_type": "markdown",
   "id": "66108292",
   "metadata": {},
   "source": [
    "### Ответы на вопросы."
   ]
  },
  {
   "cell_type": "markdown",
   "id": "af7bcc46",
   "metadata": {},
   "source": [
    "##### Вопрос 1:\n",
    "Есть ли зависимость между количеством детей и возвратом кредита в срок?"
   ]
  },
  {
   "cell_type": "code",
   "execution_count": 31,
   "id": "bb5ee795",
   "metadata": {},
   "outputs": [
    {
     "data": {
      "text/html": [
       "<div>\n",
       "<style scoped>\n",
       "    .dataframe tbody tr th:only-of-type {\n",
       "        vertical-align: middle;\n",
       "    }\n",
       "\n",
       "    .dataframe tbody tr th {\n",
       "        vertical-align: top;\n",
       "    }\n",
       "\n",
       "    .dataframe thead th {\n",
       "        text-align: right;\n",
       "    }\n",
       "</style>\n",
       "<table border=\"1\" class=\"dataframe\">\n",
       "  <thead>\n",
       "    <tr style=\"text-align: right;\">\n",
       "      <th></th>\n",
       "      <th>count</th>\n",
       "      <th>sum</th>\n",
       "      <th>debt_percent</th>\n",
       "    </tr>\n",
       "    <tr>\n",
       "      <th>children</th>\n",
       "      <th></th>\n",
       "      <th></th>\n",
       "      <th></th>\n",
       "    </tr>\n",
       "  </thead>\n",
       "  <tbody>\n",
       "    <tr>\n",
       "      <th>0</th>\n",
       "      <td>14022</td>\n",
       "      <td>1058</td>\n",
       "      <td>7.545286</td>\n",
       "    </tr>\n",
       "    <tr>\n",
       "      <th>1</th>\n",
       "      <td>4839</td>\n",
       "      <td>442</td>\n",
       "      <td>9.134119</td>\n",
       "    </tr>\n",
       "    <tr>\n",
       "      <th>2</th>\n",
       "      <td>2114</td>\n",
       "      <td>202</td>\n",
       "      <td>9.555345</td>\n",
       "    </tr>\n",
       "    <tr>\n",
       "      <th>3</th>\n",
       "      <td>328</td>\n",
       "      <td>27</td>\n",
       "      <td>8.231707</td>\n",
       "    </tr>\n",
       "    <tr>\n",
       "      <th>4</th>\n",
       "      <td>41</td>\n",
       "      <td>4</td>\n",
       "      <td>9.756098</td>\n",
       "    </tr>\n",
       "    <tr>\n",
       "      <th>5</th>\n",
       "      <td>9</td>\n",
       "      <td>0</td>\n",
       "      <td>0.000000</td>\n",
       "    </tr>\n",
       "  </tbody>\n",
       "</table>\n",
       "</div>"
      ],
      "text/plain": [
       "          count   sum  debt_percent\n",
       "children                           \n",
       "0         14022  1058      7.545286\n",
       "1          4839   442      9.134119\n",
       "2          2114   202      9.555345\n",
       "3           328    27      8.231707\n",
       "4            41     4      9.756098\n",
       "5             9     0      0.000000"
      ]
     },
     "metadata": {},
     "output_type": "display_data"
    }
   ],
   "source": [
    "children_and_debt = data.groupby('children')['debt'].agg(['count', 'sum'])\n",
    "children_and_debt['debt_percent'] = (children_and_debt['sum'] / children_and_debt['count']) * 100\n",
    "display(children_and_debt)"
   ]
  },
  {
   "cell_type": "markdown",
   "id": "a0efd5d2",
   "metadata": {},
   "source": [
    "Судя по процентам просроченных кредитов, чаще всего не возвращают кредиты люди с 1,2 и 4 детьми, меньше всего - бездетные. Судя по всему, отсутствие детей позволяет людям оставлять больше денег на выплату кредита."
   ]
  },
  {
   "cell_type": "markdown",
   "id": "8803b0e2",
   "metadata": {},
   "source": [
    "##### Вопрос 2:\n",
    "Есть ли зависимость между семейным положением и возвратом кредита в срок?"
   ]
  },
  {
   "cell_type": "code",
   "execution_count": 32,
   "id": "c2f14b95",
   "metadata": {},
   "outputs": [
    {
     "data": {
      "text/html": [
       "<div>\n",
       "<style scoped>\n",
       "    .dataframe tbody tr th:only-of-type {\n",
       "        vertical-align: middle;\n",
       "    }\n",
       "\n",
       "    .dataframe tbody tr th {\n",
       "        vertical-align: top;\n",
       "    }\n",
       "\n",
       "    .dataframe thead th {\n",
       "        text-align: right;\n",
       "    }\n",
       "</style>\n",
       "<table border=\"1\" class=\"dataframe\">\n",
       "  <thead>\n",
       "    <tr style=\"text-align: right;\">\n",
       "      <th></th>\n",
       "      <th>count</th>\n",
       "      <th>sum</th>\n",
       "      <th>debt_percent</th>\n",
       "    </tr>\n",
       "    <tr>\n",
       "      <th>family_status_id</th>\n",
       "      <th></th>\n",
       "      <th></th>\n",
       "      <th></th>\n",
       "    </tr>\n",
       "  </thead>\n",
       "  <tbody>\n",
       "    <tr>\n",
       "      <th>0</th>\n",
       "      <td>12290</td>\n",
       "      <td>927</td>\n",
       "      <td>7.542718</td>\n",
       "    </tr>\n",
       "    <tr>\n",
       "      <th>1</th>\n",
       "      <td>4130</td>\n",
       "      <td>386</td>\n",
       "      <td>9.346247</td>\n",
       "    </tr>\n",
       "    <tr>\n",
       "      <th>2</th>\n",
       "      <td>954</td>\n",
       "      <td>62</td>\n",
       "      <td>6.498952</td>\n",
       "    </tr>\n",
       "    <tr>\n",
       "      <th>3</th>\n",
       "      <td>1185</td>\n",
       "      <td>85</td>\n",
       "      <td>7.172996</td>\n",
       "    </tr>\n",
       "    <tr>\n",
       "      <th>4</th>\n",
       "      <td>2794</td>\n",
       "      <td>273</td>\n",
       "      <td>9.770938</td>\n",
       "    </tr>\n",
       "  </tbody>\n",
       "</table>\n",
       "</div>"
      ],
      "text/plain": [
       "                  count  sum  debt_percent\n",
       "family_status_id                          \n",
       "0                 12290  927      7.542718\n",
       "1                  4130  386      9.346247\n",
       "2                   954   62      6.498952\n",
       "3                  1185   85      7.172996\n",
       "4                  2794  273      9.770938"
      ]
     },
     "metadata": {},
     "output_type": "display_data"
    },
    {
     "data": {
      "text/html": [
       "<div>\n",
       "<style scoped>\n",
       "    .dataframe tbody tr th:only-of-type {\n",
       "        vertical-align: middle;\n",
       "    }\n",
       "\n",
       "    .dataframe tbody tr th {\n",
       "        vertical-align: top;\n",
       "    }\n",
       "\n",
       "    .dataframe thead th {\n",
       "        text-align: right;\n",
       "    }\n",
       "</style>\n",
       "<table border=\"1\" class=\"dataframe\">\n",
       "  <thead>\n",
       "    <tr style=\"text-align: right;\">\n",
       "      <th></th>\n",
       "      <th>family_status_id</th>\n",
       "    </tr>\n",
       "    <tr>\n",
       "      <th>family_status</th>\n",
       "      <th></th>\n",
       "    </tr>\n",
       "  </thead>\n",
       "  <tbody>\n",
       "    <tr>\n",
       "      <th>женат / замужем</th>\n",
       "      <td>0</td>\n",
       "    </tr>\n",
       "    <tr>\n",
       "      <th>гражданский брак</th>\n",
       "      <td>1</td>\n",
       "    </tr>\n",
       "    <tr>\n",
       "      <th>вдовец / вдова</th>\n",
       "      <td>2</td>\n",
       "    </tr>\n",
       "    <tr>\n",
       "      <th>в разводе</th>\n",
       "      <td>3</td>\n",
       "    </tr>\n",
       "    <tr>\n",
       "      <th>Не женат / не замужем</th>\n",
       "      <td>4</td>\n",
       "    </tr>\n",
       "  </tbody>\n",
       "</table>\n",
       "</div>"
      ],
      "text/plain": [
       "                       family_status_id\n",
       "family_status                          \n",
       "женат / замужем                       0\n",
       "гражданский брак                      1\n",
       "вдовец / вдова                        2\n",
       "в разводе                             3\n",
       "Не женат / не замужем                 4"
      ]
     },
     "metadata": {},
     "output_type": "display_data"
    }
   ],
   "source": [
    "family_and_debt = data.groupby('family_status_id')['debt'].agg(['count', 'sum'])\n",
    "family_and_debt['debt_percent'] = (family_and_debt['sum'] / family_and_debt['count']) * 100\n",
    "data_family_status.merge(family_and_debt, on='family_status_id')\n",
    "display(family_and_debt)\n",
    "display(data_family_status)"
   ]
  },
  {
   "cell_type": "markdown",
   "id": "b623aa06",
   "metadata": {},
   "source": [
    "Судя по процентам просроченных кредитов, чаще всего не возвращают кредиты люди, которые не состоят в браке или находятся в гражданском браке. Наименьший процент просроченных кредитов у вдов и вдовцов. "
   ]
  },
  {
   "cell_type": "markdown",
   "id": "6bf5b69e",
   "metadata": {},
   "source": [
    "##### Вопрос 3:\n",
    "Есть ли зависимость между уровнем дохода и возвратом кредита в срок?"
   ]
  },
  {
   "cell_type": "code",
   "execution_count": 33,
   "id": "c69bf9cf",
   "metadata": {},
   "outputs": [
    {
     "data": {
      "text/html": [
       "<div>\n",
       "<style scoped>\n",
       "    .dataframe tbody tr th:only-of-type {\n",
       "        vertical-align: middle;\n",
       "    }\n",
       "\n",
       "    .dataframe tbody tr th {\n",
       "        vertical-align: top;\n",
       "    }\n",
       "\n",
       "    .dataframe thead th {\n",
       "        text-align: right;\n",
       "    }\n",
       "</style>\n",
       "<table border=\"1\" class=\"dataframe\">\n",
       "  <thead>\n",
       "    <tr style=\"text-align: right;\">\n",
       "      <th></th>\n",
       "      <th>count</th>\n",
       "      <th>sum</th>\n",
       "      <th>percent</th>\n",
       "    </tr>\n",
       "    <tr>\n",
       "      <th>total_income_category</th>\n",
       "      <th></th>\n",
       "      <th></th>\n",
       "      <th></th>\n",
       "    </tr>\n",
       "  </thead>\n",
       "  <tbody>\n",
       "    <tr>\n",
       "      <th>A</th>\n",
       "      <td>25</td>\n",
       "      <td>2</td>\n",
       "      <td>8.000000</td>\n",
       "    </tr>\n",
       "    <tr>\n",
       "      <th>B</th>\n",
       "      <td>5015</td>\n",
       "      <td>355</td>\n",
       "      <td>7.078764</td>\n",
       "    </tr>\n",
       "    <tr>\n",
       "      <th>C</th>\n",
       "      <td>15943</td>\n",
       "      <td>1353</td>\n",
       "      <td>8.486483</td>\n",
       "    </tr>\n",
       "    <tr>\n",
       "      <th>D</th>\n",
       "      <td>348</td>\n",
       "      <td>21</td>\n",
       "      <td>6.034483</td>\n",
       "    </tr>\n",
       "    <tr>\n",
       "      <th>E</th>\n",
       "      <td>22</td>\n",
       "      <td>2</td>\n",
       "      <td>9.090909</td>\n",
       "    </tr>\n",
       "  </tbody>\n",
       "</table>\n",
       "</div>"
      ],
      "text/plain": [
       "                       count   sum   percent\n",
       "total_income_category                       \n",
       "A                         25     2  8.000000\n",
       "B                       5015   355  7.078764\n",
       "C                      15943  1353  8.486483\n",
       "D                        348    21  6.034483\n",
       "E                         22     2  9.090909"
      ]
     },
     "metadata": {},
     "output_type": "display_data"
    },
    {
     "name": "stdout",
     "output_type": "stream",
     "text": [
      "Расшифровка категорий дохода: 1000001 и выше — A, 200001–1000000 — B, 50001–200000 — C, 30001–50000 — D, 0–30000 — E\n"
     ]
    }
   ],
   "source": [
    "income_and_debt = data.groupby('total_income_category')['debt'].agg(['count', 'sum'])\n",
    "income_and_debt['percent'] = (income_and_debt['sum'] / income_and_debt['count']) * 100\n",
    "display(income_and_debt)\n",
    "print('Расшифровка категорий дохода: 1000001 и выше — A, 200001–1000000 — B, 50001–200000 — C, 30001–50000 — D, 0–30000 — E')"
   ]
  },
  {
   "cell_type": "markdown",
   "id": "876a7694",
   "metadata": {},
   "source": [
    "Данные показывают, что чаще всего не возвращают кредиты люди со средним и низким уровнем дохода."
   ]
  },
  {
   "cell_type": "markdown",
   "id": "71edaf11",
   "metadata": {},
   "source": [
    "##### Вопрос 4:\n",
    "Как разные цели кредита влияют на его возврат в срок?"
   ]
  },
  {
   "cell_type": "code",
   "execution_count": 34,
   "id": "d2d35cb4",
   "metadata": {},
   "outputs": [
    {
     "data": {
      "text/html": [
       "<div>\n",
       "<style scoped>\n",
       "    .dataframe tbody tr th:only-of-type {\n",
       "        vertical-align: middle;\n",
       "    }\n",
       "\n",
       "    .dataframe tbody tr th {\n",
       "        vertical-align: top;\n",
       "    }\n",
       "\n",
       "    .dataframe thead th {\n",
       "        text-align: right;\n",
       "    }\n",
       "</style>\n",
       "<table border=\"1\" class=\"dataframe\">\n",
       "  <thead>\n",
       "    <tr style=\"text-align: right;\">\n",
       "      <th></th>\n",
       "      <th>count</th>\n",
       "      <th>sum</th>\n",
       "      <th>percent</th>\n",
       "    </tr>\n",
       "    <tr>\n",
       "      <th>purpose_category</th>\n",
       "      <th></th>\n",
       "      <th></th>\n",
       "      <th></th>\n",
       "    </tr>\n",
       "  </thead>\n",
       "  <tbody>\n",
       "    <tr>\n",
       "      <th>операции с автомобилем</th>\n",
       "      <td>4284</td>\n",
       "      <td>400</td>\n",
       "      <td>9.337068</td>\n",
       "    </tr>\n",
       "    <tr>\n",
       "      <th>операции с недвижимостью</th>\n",
       "      <td>10764</td>\n",
       "      <td>779</td>\n",
       "      <td>7.237087</td>\n",
       "    </tr>\n",
       "    <tr>\n",
       "      <th>получение образования</th>\n",
       "      <td>3995</td>\n",
       "      <td>370</td>\n",
       "      <td>9.261577</td>\n",
       "    </tr>\n",
       "    <tr>\n",
       "      <th>проведение свадьбы</th>\n",
       "      <td>2310</td>\n",
       "      <td>184</td>\n",
       "      <td>7.965368</td>\n",
       "    </tr>\n",
       "  </tbody>\n",
       "</table>\n",
       "</div>"
      ],
      "text/plain": [
       "                          count  sum   percent\n",
       "purpose_category                              \n",
       "операции с автомобилем     4284  400  9.337068\n",
       "операции с недвижимостью  10764  779  7.237087\n",
       "получение образования      3995  370  9.261577\n",
       "проведение свадьбы         2310  184  7.965368"
      ]
     },
     "metadata": {},
     "output_type": "display_data"
    }
   ],
   "source": [
    "purpose_and_debt = data.groupby('purpose_category')['debt'].agg(['count', 'sum'])\n",
    "purpose_and_debt['percent'] = (purpose_and_debt['sum'] / purpose_and_debt['count']) * 100\n",
    "display(purpose_and_debt)"
   ]
  },
  {
   "cell_type": "markdown",
   "id": "08042197",
   "metadata": {},
   "source": [
    "Данные показывают, что чаще всего не возвращают кредит люди, которые берут его для оплаты образования или операциями с автомобилем."
   ]
  },
  {
   "cell_type": "markdown",
   "id": "2878ad6a",
   "metadata": {},
   "source": [
    "## Общий вывод:"
   ]
  },
  {
   "cell_type": "markdown",
   "id": "5aede52a",
   "metadata": {},
   "source": [
    "Исходя из вышеизложенных данных, можно составить вывод о самом надежном и самом ненадежном клиенте банка. \n",
    "\n",
    "Самый надежный: клиент без детей, вдовец/вдова, с высоким уровнем дохода, берущий кредит на покупку недвижимости.\n",
    "\n",
    "Самый ненадежный: клиент с 4 детьми, не состоящий в браке, с низким уровнем дохода и берущие кредит на автомобиль."
   ]
  }
 ],
 "metadata": {
  "ExecuteTimeLog": [
   {
    "duration": 610,
    "start_time": "2022-05-31T15:41:12.903Z"
   },
   {
    "duration": 38,
    "start_time": "2022-05-31T15:41:24.796Z"
   },
   {
    "duration": 0,
    "start_time": "2022-05-31T15:54:51.755Z"
   },
   {
    "duration": 81,
    "start_time": "2022-05-31T15:55:27.873Z"
   },
   {
    "duration": 83,
    "start_time": "2022-05-31T16:03:01.388Z"
   },
   {
    "duration": 119,
    "start_time": "2022-05-31T16:05:00.883Z"
   },
   {
    "duration": 92,
    "start_time": "2022-05-31T16:14:49.661Z"
   },
   {
    "duration": 96,
    "start_time": "2022-05-31T16:15:07.940Z"
   },
   {
    "duration": 553,
    "start_time": "2022-05-31T16:18:40.407Z"
   },
   {
    "duration": 59,
    "start_time": "2022-05-31T16:20:01.779Z"
   },
   {
    "duration": 33,
    "start_time": "2022-05-31T16:20:15.571Z"
   },
   {
    "duration": 533,
    "start_time": "2022-05-31T16:20:24.343Z"
   },
   {
    "duration": 3,
    "start_time": "2022-05-31T16:20:24.878Z"
   },
   {
    "duration": 92,
    "start_time": "2022-05-31T16:21:55.016Z"
   },
   {
    "duration": 43,
    "start_time": "2022-05-31T16:22:23.883Z"
   },
   {
    "duration": 92,
    "start_time": "2022-05-31T16:53:21.147Z"
   },
   {
    "duration": 534,
    "start_time": "2022-05-31T16:53:28.743Z"
   },
   {
    "duration": 86,
    "start_time": "2022-05-31T17:21:04.907Z"
   },
   {
    "duration": 587,
    "start_time": "2022-05-31T17:21:12.206Z"
   },
   {
    "duration": 512,
    "start_time": "2022-05-31T17:22:12.159Z"
   },
   {
    "duration": 71,
    "start_time": "2022-05-31T17:26:07.082Z"
   },
   {
    "duration": 9,
    "start_time": "2022-05-31T17:26:13.786Z"
   },
   {
    "duration": 26,
    "start_time": "2022-05-31T17:31:11.142Z"
   },
   {
    "duration": 22,
    "start_time": "2022-05-31T17:34:37.057Z"
   },
   {
    "duration": 505,
    "start_time": "2022-05-31T17:34:44.476Z"
   },
   {
    "duration": 95,
    "start_time": "2022-05-31T17:34:44.984Z"
   },
   {
    "duration": 20,
    "start_time": "2022-05-31T17:35:18.040Z"
   },
   {
    "duration": 19,
    "start_time": "2022-05-31T17:35:23.600Z"
   },
   {
    "duration": 5,
    "start_time": "2022-05-31T17:35:48.336Z"
   },
   {
    "duration": 21,
    "start_time": "2022-05-31T17:35:59.648Z"
   },
   {
    "duration": 20,
    "start_time": "2022-05-31T17:36:30.876Z"
   },
   {
    "duration": 378,
    "start_time": "2022-05-31T17:38:10.176Z"
   },
   {
    "duration": 6,
    "start_time": "2022-05-31T17:47:59.018Z"
   },
   {
    "duration": 3,
    "start_time": "2022-05-31T17:51:07.737Z"
   },
   {
    "duration": 15,
    "start_time": "2022-05-31T17:51:14.749Z"
   },
   {
    "duration": 7,
    "start_time": "2022-05-31T17:52:59.540Z"
   },
   {
    "duration": 6,
    "start_time": "2022-05-31T17:54:14.245Z"
   },
   {
    "duration": 6,
    "start_time": "2022-05-31T17:54:33.056Z"
   },
   {
    "duration": 5,
    "start_time": "2022-05-31T17:54:43.788Z"
   },
   {
    "duration": 6,
    "start_time": "2022-05-31T17:55:33.024Z"
   },
   {
    "duration": 6,
    "start_time": "2022-05-31T17:56:06.308Z"
   },
   {
    "duration": 9,
    "start_time": "2022-05-31T17:56:51.312Z"
   },
   {
    "duration": 31,
    "start_time": "2022-05-31T17:58:27.331Z"
   },
   {
    "duration": 6,
    "start_time": "2022-05-31T17:58:33.575Z"
   },
   {
    "duration": 39,
    "start_time": "2022-05-31T17:59:02.167Z"
   },
   {
    "duration": 20,
    "start_time": "2022-05-31T17:59:07.107Z"
   },
   {
    "duration": 6,
    "start_time": "2022-05-31T17:59:16.108Z"
   },
   {
    "duration": 5,
    "start_time": "2022-05-31T17:59:23.491Z"
   },
   {
    "duration": 10,
    "start_time": "2022-05-31T18:02:06.734Z"
   },
   {
    "duration": 9,
    "start_time": "2022-05-31T18:04:28.850Z"
   },
   {
    "duration": 9,
    "start_time": "2022-05-31T18:04:43.614Z"
   },
   {
    "duration": 5,
    "start_time": "2022-05-31T18:05:08.442Z"
   },
   {
    "duration": 4,
    "start_time": "2022-05-31T18:05:23.806Z"
   },
   {
    "duration": 6,
    "start_time": "2022-05-31T18:05:34.502Z"
   },
   {
    "duration": 6,
    "start_time": "2022-05-31T18:06:40.669Z"
   },
   {
    "duration": 8,
    "start_time": "2022-05-31T18:11:35.920Z"
   },
   {
    "duration": 12,
    "start_time": "2022-05-31T18:11:58.308Z"
   },
   {
    "duration": 14,
    "start_time": "2022-05-31T18:12:50.268Z"
   },
   {
    "duration": 12,
    "start_time": "2022-05-31T18:13:14.959Z"
   },
   {
    "duration": 5,
    "start_time": "2022-05-31T18:14:35.552Z"
   },
   {
    "duration": 7,
    "start_time": "2022-05-31T18:32:56.496Z"
   },
   {
    "duration": 31,
    "start_time": "2022-05-31T18:33:12.524Z"
   },
   {
    "duration": 595,
    "start_time": "2022-05-31T18:36:10.045Z"
   },
   {
    "duration": 12,
    "start_time": "2022-05-31T18:36:10.642Z"
   },
   {
    "duration": 15,
    "start_time": "2022-05-31T18:36:10.656Z"
   },
   {
    "duration": 8,
    "start_time": "2022-05-31T18:38:08.149Z"
   },
   {
    "duration": 70,
    "start_time": "2022-05-31T18:41:45.288Z"
   },
   {
    "duration": 5,
    "start_time": "2022-05-31T18:41:49.688Z"
   },
   {
    "duration": 9,
    "start_time": "2022-05-31T18:47:40.324Z"
   },
   {
    "duration": 9,
    "start_time": "2022-05-31T18:47:48.072Z"
   },
   {
    "duration": 8,
    "start_time": "2022-05-31T19:01:40.470Z"
   },
   {
    "duration": 5,
    "start_time": "2022-05-31T19:01:44.510Z"
   },
   {
    "duration": 14,
    "start_time": "2022-05-31T19:10:09.959Z"
   },
   {
    "duration": 23,
    "start_time": "2022-05-31T19:11:26.028Z"
   },
   {
    "duration": 5,
    "start_time": "2022-05-31T19:15:09.122Z"
   },
   {
    "duration": 18,
    "start_time": "2022-05-31T19:15:42.238Z"
   },
   {
    "duration": 530,
    "start_time": "2022-05-31T19:18:18.093Z"
   },
   {
    "duration": 15,
    "start_time": "2022-05-31T19:18:18.625Z"
   },
   {
    "duration": 9,
    "start_time": "2022-05-31T19:18:18.642Z"
   },
   {
    "duration": 5,
    "start_time": "2022-05-31T19:18:18.653Z"
   },
   {
    "duration": 9,
    "start_time": "2022-05-31T19:18:18.659Z"
   },
   {
    "duration": 4,
    "start_time": "2022-05-31T19:18:18.670Z"
   },
   {
    "duration": 16,
    "start_time": "2022-05-31T19:18:18.675Z"
   },
   {
    "duration": 38,
    "start_time": "2022-05-31T19:18:18.693Z"
   },
   {
    "duration": 5,
    "start_time": "2022-05-31T19:21:20.420Z"
   },
   {
    "duration": 71,
    "start_time": "2022-05-31T19:23:24.931Z"
   },
   {
    "duration": 5,
    "start_time": "2022-05-31T19:23:28.988Z"
   },
   {
    "duration": 7,
    "start_time": "2022-05-31T19:25:48.167Z"
   },
   {
    "duration": 7,
    "start_time": "2022-05-31T19:27:27.478Z"
   },
   {
    "duration": 4,
    "start_time": "2022-05-31T19:28:07.127Z"
   },
   {
    "duration": 5,
    "start_time": "2022-05-31T19:30:32.473Z"
   },
   {
    "duration": 5,
    "start_time": "2022-05-31T19:30:39.366Z"
   },
   {
    "duration": 8,
    "start_time": "2022-05-31T19:33:02.082Z"
   },
   {
    "duration": 54,
    "start_time": "2022-06-01T04:10:35.434Z"
   },
   {
    "duration": 738,
    "start_time": "2022-06-01T04:10:43.919Z"
   },
   {
    "duration": 5,
    "start_time": "2022-06-01T04:10:44.659Z"
   },
   {
    "duration": 9,
    "start_time": "2022-06-01T04:10:44.665Z"
   },
   {
    "duration": 5,
    "start_time": "2022-06-01T04:10:44.675Z"
   },
   {
    "duration": 9,
    "start_time": "2022-06-01T04:10:44.682Z"
   },
   {
    "duration": 4,
    "start_time": "2022-06-01T04:10:44.692Z"
   },
   {
    "duration": 33,
    "start_time": "2022-06-01T04:10:44.697Z"
   },
   {
    "duration": 7,
    "start_time": "2022-06-01T04:10:44.731Z"
   },
   {
    "duration": 10,
    "start_time": "2022-06-01T04:10:44.739Z"
   },
   {
    "duration": 9,
    "start_time": "2022-06-01T04:10:44.751Z"
   },
   {
    "duration": 8,
    "start_time": "2022-06-01T04:10:44.761Z"
   },
   {
    "duration": 5,
    "start_time": "2022-06-01T04:10:44.770Z"
   },
   {
    "duration": 9,
    "start_time": "2022-06-01T04:10:44.776Z"
   },
   {
    "duration": 5,
    "start_time": "2022-06-01T04:13:35.778Z"
   },
   {
    "duration": 8,
    "start_time": "2022-06-01T04:48:05.626Z"
   },
   {
    "duration": 69,
    "start_time": "2022-06-01T05:12:01.752Z"
   },
   {
    "duration": 20,
    "start_time": "2022-06-01T05:17:38.549Z"
   },
   {
    "duration": 20,
    "start_time": "2022-06-01T05:19:24.395Z"
   },
   {
    "duration": 56,
    "start_time": "2022-06-01T05:19:38.183Z"
   },
   {
    "duration": 23,
    "start_time": "2022-06-01T05:19:45.964Z"
   },
   {
    "duration": 27,
    "start_time": "2022-06-01T05:20:25.796Z"
   },
   {
    "duration": 5,
    "start_time": "2022-06-01T05:20:43.405Z"
   },
   {
    "duration": 24,
    "start_time": "2022-06-01T05:23:23.202Z"
   },
   {
    "duration": 13,
    "start_time": "2022-06-01T05:23:34.978Z"
   },
   {
    "duration": 9,
    "start_time": "2022-06-01T05:23:47.139Z"
   },
   {
    "duration": 26,
    "start_time": "2022-06-01T05:24:02.453Z"
   },
   {
    "duration": 20,
    "start_time": "2022-06-01T05:24:35.935Z"
   },
   {
    "duration": 23,
    "start_time": "2022-06-01T05:24:47.035Z"
   },
   {
    "duration": 17,
    "start_time": "2022-06-01T05:30:50.394Z"
   },
   {
    "duration": 239,
    "start_time": "2022-06-01T05:34:20.753Z"
   },
   {
    "duration": 188,
    "start_time": "2022-06-01T05:36:21.714Z"
   },
   {
    "duration": 190,
    "start_time": "2022-06-01T05:36:34.636Z"
   },
   {
    "duration": 7,
    "start_time": "2022-06-01T05:37:34.073Z"
   },
   {
    "duration": 7,
    "start_time": "2022-06-01T05:38:00.754Z"
   },
   {
    "duration": 558,
    "start_time": "2022-06-01T05:38:12.986Z"
   },
   {
    "duration": 6,
    "start_time": "2022-06-01T05:38:13.546Z"
   },
   {
    "duration": 5,
    "start_time": "2022-06-01T05:38:13.554Z"
   },
   {
    "duration": 8,
    "start_time": "2022-06-01T05:38:13.562Z"
   },
   {
    "duration": 10,
    "start_time": "2022-06-01T05:38:13.571Z"
   },
   {
    "duration": 8,
    "start_time": "2022-06-01T05:38:13.583Z"
   },
   {
    "duration": 53,
    "start_time": "2022-06-01T05:38:13.593Z"
   },
   {
    "duration": 225,
    "start_time": "2022-06-01T05:38:13.648Z"
   },
   {
    "duration": 5,
    "start_time": "2022-06-01T05:38:13.875Z"
   },
   {
    "duration": 10,
    "start_time": "2022-06-01T05:38:13.882Z"
   },
   {
    "duration": 34,
    "start_time": "2022-06-01T05:38:13.893Z"
   },
   {
    "duration": 8,
    "start_time": "2022-06-01T05:38:13.930Z"
   },
   {
    "duration": 11,
    "start_time": "2022-06-01T05:38:13.940Z"
   },
   {
    "duration": 9,
    "start_time": "2022-06-01T05:38:13.952Z"
   },
   {
    "duration": 7,
    "start_time": "2022-06-01T05:38:13.962Z"
   },
   {
    "duration": 11,
    "start_time": "2022-06-01T05:38:13.971Z"
   },
   {
    "duration": 41,
    "start_time": "2022-06-01T05:38:13.984Z"
   },
   {
    "duration": 529,
    "start_time": "2022-06-01T05:38:40.931Z"
   },
   {
    "duration": 5,
    "start_time": "2022-06-01T05:38:41.463Z"
   },
   {
    "duration": 13,
    "start_time": "2022-06-01T05:38:41.470Z"
   },
   {
    "duration": 11,
    "start_time": "2022-06-01T05:38:41.485Z"
   },
   {
    "duration": 27,
    "start_time": "2022-06-01T05:38:41.498Z"
   },
   {
    "duration": 6,
    "start_time": "2022-06-01T05:38:41.527Z"
   },
   {
    "duration": 19,
    "start_time": "2022-06-01T05:38:41.535Z"
   },
   {
    "duration": 209,
    "start_time": "2022-06-01T05:38:41.555Z"
   },
   {
    "duration": 5,
    "start_time": "2022-06-01T05:38:41.766Z"
   },
   {
    "duration": 6,
    "start_time": "2022-06-01T05:38:41.773Z"
   },
   {
    "duration": 15,
    "start_time": "2022-06-01T05:38:41.780Z"
   },
   {
    "duration": 33,
    "start_time": "2022-06-01T05:38:41.796Z"
   },
   {
    "duration": 6,
    "start_time": "2022-06-01T05:38:41.830Z"
   },
   {
    "duration": 11,
    "start_time": "2022-06-01T05:38:41.838Z"
   },
   {
    "duration": 9,
    "start_time": "2022-06-01T05:38:41.851Z"
   },
   {
    "duration": 7,
    "start_time": "2022-06-01T05:38:41.862Z"
   },
   {
    "duration": 7,
    "start_time": "2022-06-01T05:38:41.871Z"
   },
   {
    "duration": 530,
    "start_time": "2022-06-01T05:40:01.825Z"
   },
   {
    "duration": 5,
    "start_time": "2022-06-01T05:40:02.356Z"
   },
   {
    "duration": 42,
    "start_time": "2022-06-01T05:40:02.363Z"
   },
   {
    "duration": 39,
    "start_time": "2022-06-01T05:40:02.407Z"
   },
   {
    "duration": 24,
    "start_time": "2022-06-01T05:40:02.448Z"
   },
   {
    "duration": 36,
    "start_time": "2022-06-01T05:40:02.474Z"
   },
   {
    "duration": 91,
    "start_time": "2022-06-01T05:40:02.512Z"
   },
   {
    "duration": 200,
    "start_time": "2022-06-01T05:40:02.605Z"
   },
   {
    "duration": 5,
    "start_time": "2022-06-01T05:40:02.807Z"
   },
   {
    "duration": 10,
    "start_time": "2022-06-01T05:40:02.815Z"
   },
   {
    "duration": 16,
    "start_time": "2022-06-01T05:40:02.827Z"
   },
   {
    "duration": 13,
    "start_time": "2022-06-01T05:40:02.845Z"
   },
   {
    "duration": 6,
    "start_time": "2022-06-01T05:40:02.860Z"
   },
   {
    "duration": 10,
    "start_time": "2022-06-01T05:40:02.868Z"
   },
   {
    "duration": 14,
    "start_time": "2022-06-01T05:40:02.880Z"
   },
   {
    "duration": 32,
    "start_time": "2022-06-01T05:40:02.895Z"
   },
   {
    "duration": 15,
    "start_time": "2022-06-01T05:40:02.928Z"
   },
   {
    "duration": 741,
    "start_time": "2022-06-01T12:51:05.138Z"
   },
   {
    "duration": 6,
    "start_time": "2022-06-01T12:51:05.881Z"
   },
   {
    "duration": 7,
    "start_time": "2022-06-01T12:51:05.889Z"
   },
   {
    "duration": 12,
    "start_time": "2022-06-01T12:51:05.898Z"
   },
   {
    "duration": 17,
    "start_time": "2022-06-01T12:51:05.913Z"
   },
   {
    "duration": 4,
    "start_time": "2022-06-01T12:51:05.932Z"
   },
   {
    "duration": 27,
    "start_time": "2022-06-01T12:51:05.938Z"
   },
   {
    "duration": 238,
    "start_time": "2022-06-01T12:51:05.967Z"
   },
   {
    "duration": 5,
    "start_time": "2022-06-01T12:51:06.206Z"
   },
   {
    "duration": 16,
    "start_time": "2022-06-01T12:51:06.213Z"
   },
   {
    "duration": 32,
    "start_time": "2022-06-01T12:51:06.231Z"
   },
   {
    "duration": 13,
    "start_time": "2022-06-01T12:51:06.266Z"
   },
   {
    "duration": 23,
    "start_time": "2022-06-01T12:51:06.281Z"
   },
   {
    "duration": 24,
    "start_time": "2022-06-01T12:51:06.308Z"
   },
   {
    "duration": 12,
    "start_time": "2022-06-01T12:51:06.334Z"
   },
   {
    "duration": 14,
    "start_time": "2022-06-01T12:51:06.348Z"
   },
   {
    "duration": 11,
    "start_time": "2022-06-01T12:51:06.364Z"
   },
   {
    "duration": 567,
    "start_time": "2022-06-01T12:56:07.272Z"
   },
   {
    "duration": 599,
    "start_time": "2022-06-01T12:56:15.010Z"
   },
   {
    "duration": 618,
    "start_time": "2022-06-01T12:56:25.545Z"
   },
   {
    "duration": 4,
    "start_time": "2022-06-01T12:56:26.165Z"
   },
   {
    "duration": 7,
    "start_time": "2022-06-01T12:56:26.170Z"
   },
   {
    "duration": 10,
    "start_time": "2022-06-01T12:56:26.178Z"
   },
   {
    "duration": 120,
    "start_time": "2022-06-01T12:56:26.190Z"
   },
   {
    "duration": 0,
    "start_time": "2022-06-01T12:56:26.312Z"
   },
   {
    "duration": 0,
    "start_time": "2022-06-01T12:56:26.313Z"
   },
   {
    "duration": 0,
    "start_time": "2022-06-01T12:56:26.314Z"
   },
   {
    "duration": 0,
    "start_time": "2022-06-01T12:56:26.315Z"
   },
   {
    "duration": 0,
    "start_time": "2022-06-01T12:56:26.316Z"
   },
   {
    "duration": 0,
    "start_time": "2022-06-01T12:56:26.317Z"
   },
   {
    "duration": 0,
    "start_time": "2022-06-01T12:56:26.319Z"
   },
   {
    "duration": 0,
    "start_time": "2022-06-01T12:56:26.330Z"
   },
   {
    "duration": 0,
    "start_time": "2022-06-01T12:56:26.332Z"
   },
   {
    "duration": 0,
    "start_time": "2022-06-01T12:56:26.334Z"
   },
   {
    "duration": 0,
    "start_time": "2022-06-01T12:56:26.335Z"
   },
   {
    "duration": 0,
    "start_time": "2022-06-01T12:56:26.337Z"
   },
   {
    "duration": 629,
    "start_time": "2022-06-01T12:56:41.086Z"
   },
   {
    "duration": 26,
    "start_time": "2022-06-01T12:56:41.718Z"
   },
   {
    "duration": 31,
    "start_time": "2022-06-01T12:56:41.755Z"
   },
   {
    "duration": 20,
    "start_time": "2022-06-01T12:56:41.788Z"
   },
   {
    "duration": 61,
    "start_time": "2022-06-01T12:56:41.809Z"
   },
   {
    "duration": 20,
    "start_time": "2022-06-01T12:56:41.872Z"
   },
   {
    "duration": 41,
    "start_time": "2022-06-01T12:56:41.894Z"
   },
   {
    "duration": 277,
    "start_time": "2022-06-01T12:56:41.941Z"
   },
   {
    "duration": 5,
    "start_time": "2022-06-01T12:56:42.219Z"
   },
   {
    "duration": 38,
    "start_time": "2022-06-01T12:56:42.227Z"
   },
   {
    "duration": 15,
    "start_time": "2022-06-01T12:56:42.266Z"
   },
   {
    "duration": 8,
    "start_time": "2022-06-01T12:56:42.282Z"
   },
   {
    "duration": 12,
    "start_time": "2022-06-01T12:56:42.291Z"
   },
   {
    "duration": 7,
    "start_time": "2022-06-01T12:56:42.304Z"
   },
   {
    "duration": 11,
    "start_time": "2022-06-01T12:56:42.313Z"
   },
   {
    "duration": 35,
    "start_time": "2022-06-01T12:56:42.326Z"
   },
   {
    "duration": 10,
    "start_time": "2022-06-01T12:56:42.362Z"
   },
   {
    "duration": 13,
    "start_time": "2022-06-01T12:58:17.348Z"
   },
   {
    "duration": 589,
    "start_time": "2022-06-01T12:58:28.926Z"
   },
   {
    "duration": 10,
    "start_time": "2022-06-01T12:58:29.519Z"
   },
   {
    "duration": 34,
    "start_time": "2022-06-01T12:58:29.533Z"
   },
   {
    "duration": 32,
    "start_time": "2022-06-01T12:58:29.570Z"
   },
   {
    "duration": 25,
    "start_time": "2022-06-01T12:58:29.605Z"
   },
   {
    "duration": 38,
    "start_time": "2022-06-01T12:58:29.639Z"
   },
   {
    "duration": 124,
    "start_time": "2022-06-01T12:58:29.679Z"
   },
   {
    "duration": 0,
    "start_time": "2022-06-01T12:58:29.805Z"
   },
   {
    "duration": 0,
    "start_time": "2022-06-01T12:58:29.806Z"
   },
   {
    "duration": 0,
    "start_time": "2022-06-01T12:58:29.808Z"
   },
   {
    "duration": 0,
    "start_time": "2022-06-01T12:58:29.809Z"
   },
   {
    "duration": 0,
    "start_time": "2022-06-01T12:58:29.810Z"
   },
   {
    "duration": 0,
    "start_time": "2022-06-01T12:58:29.811Z"
   },
   {
    "duration": 0,
    "start_time": "2022-06-01T12:58:29.812Z"
   },
   {
    "duration": 0,
    "start_time": "2022-06-01T12:58:29.826Z"
   },
   {
    "duration": 0,
    "start_time": "2022-06-01T12:58:29.827Z"
   },
   {
    "duration": 0,
    "start_time": "2022-06-01T12:58:29.829Z"
   },
   {
    "duration": 11,
    "start_time": "2022-06-01T12:59:30.572Z"
   },
   {
    "duration": 26,
    "start_time": "2022-06-01T13:01:17.416Z"
   },
   {
    "duration": 510,
    "start_time": "2022-06-01T13:08:39.364Z"
   },
   {
    "duration": 5,
    "start_time": "2022-06-01T13:08:39.876Z"
   },
   {
    "duration": 18,
    "start_time": "2022-06-01T13:08:39.883Z"
   },
   {
    "duration": 10,
    "start_time": "2022-06-01T13:08:39.904Z"
   },
   {
    "duration": 16,
    "start_time": "2022-06-01T13:08:39.916Z"
   },
   {
    "duration": 4,
    "start_time": "2022-06-01T13:08:39.934Z"
   },
   {
    "duration": 24,
    "start_time": "2022-06-01T13:08:39.939Z"
   },
   {
    "duration": 209,
    "start_time": "2022-06-01T13:08:39.965Z"
   },
   {
    "duration": 4,
    "start_time": "2022-06-01T13:08:40.175Z"
   },
   {
    "duration": 7,
    "start_time": "2022-06-01T13:08:40.181Z"
   },
   {
    "duration": 16,
    "start_time": "2022-06-01T13:08:40.190Z"
   },
   {
    "duration": 22,
    "start_time": "2022-06-01T13:08:40.208Z"
   },
   {
    "duration": 12,
    "start_time": "2022-06-01T13:08:40.232Z"
   },
   {
    "duration": 8,
    "start_time": "2022-06-01T13:08:40.246Z"
   },
   {
    "duration": 8,
    "start_time": "2022-06-01T13:08:40.256Z"
   },
   {
    "duration": 8,
    "start_time": "2022-06-01T13:08:40.265Z"
   },
   {
    "duration": 8,
    "start_time": "2022-06-01T13:08:40.275Z"
   },
   {
    "duration": 189,
    "start_time": "2022-06-01T13:08:51.159Z"
   },
   {
    "duration": 210,
    "start_time": "2022-06-01T13:09:18.302Z"
   },
   {
    "duration": 799,
    "start_time": "2022-06-01T15:53:50.068Z"
   },
   {
    "duration": 5,
    "start_time": "2022-06-01T15:53:50.869Z"
   },
   {
    "duration": 10,
    "start_time": "2022-06-01T15:53:50.876Z"
   },
   {
    "duration": 18,
    "start_time": "2022-06-01T15:53:50.888Z"
   },
   {
    "duration": 9,
    "start_time": "2022-06-01T15:53:50.908Z"
   },
   {
    "duration": 23,
    "start_time": "2022-06-01T15:53:50.927Z"
   },
   {
    "duration": 27,
    "start_time": "2022-06-01T15:53:50.952Z"
   },
   {
    "duration": 217,
    "start_time": "2022-06-01T15:53:50.981Z"
   },
   {
    "duration": 94,
    "start_time": "2022-06-01T15:53:51.199Z"
   },
   {
    "duration": 0,
    "start_time": "2022-06-01T15:53:51.294Z"
   },
   {
    "duration": 1,
    "start_time": "2022-06-01T15:53:51.295Z"
   },
   {
    "duration": 0,
    "start_time": "2022-06-01T15:53:51.297Z"
   },
   {
    "duration": 0,
    "start_time": "2022-06-01T15:53:51.298Z"
   },
   {
    "duration": 0,
    "start_time": "2022-06-01T15:53:51.299Z"
   },
   {
    "duration": 0,
    "start_time": "2022-06-01T15:53:51.300Z"
   },
   {
    "duration": 0,
    "start_time": "2022-06-01T15:53:51.301Z"
   },
   {
    "duration": 0,
    "start_time": "2022-06-01T15:53:51.302Z"
   },
   {
    "duration": 0,
    "start_time": "2022-06-01T15:53:51.303Z"
   },
   {
    "duration": 542,
    "start_time": "2022-06-01T15:54:11.161Z"
   },
   {
    "duration": 5,
    "start_time": "2022-06-01T15:54:11.705Z"
   },
   {
    "duration": 28,
    "start_time": "2022-06-01T15:54:11.711Z"
   },
   {
    "duration": 11,
    "start_time": "2022-06-01T15:54:11.745Z"
   },
   {
    "duration": 7,
    "start_time": "2022-06-01T15:54:11.758Z"
   },
   {
    "duration": 5,
    "start_time": "2022-06-01T15:54:11.767Z"
   },
   {
    "duration": 20,
    "start_time": "2022-06-01T15:54:11.773Z"
   },
   {
    "duration": 246,
    "start_time": "2022-06-01T15:54:11.794Z"
   },
   {
    "duration": 5,
    "start_time": "2022-06-01T15:54:12.044Z"
   },
   {
    "duration": 15,
    "start_time": "2022-06-01T15:54:12.052Z"
   },
   {
    "duration": 18,
    "start_time": "2022-06-01T15:54:12.069Z"
   },
   {
    "duration": 12,
    "start_time": "2022-06-01T15:54:12.090Z"
   },
   {
    "duration": 8,
    "start_time": "2022-06-01T15:54:12.104Z"
   },
   {
    "duration": 37,
    "start_time": "2022-06-01T15:54:12.114Z"
   },
   {
    "duration": 9,
    "start_time": "2022-06-01T15:54:12.153Z"
   },
   {
    "duration": 12,
    "start_time": "2022-06-01T15:54:12.164Z"
   },
   {
    "duration": 11,
    "start_time": "2022-06-01T15:54:12.178Z"
   },
   {
    "duration": 18,
    "start_time": "2022-06-01T15:54:12.191Z"
   },
   {
    "duration": 556,
    "start_time": "2022-06-01T15:55:06.878Z"
   },
   {
    "duration": 7,
    "start_time": "2022-06-01T15:55:07.436Z"
   },
   {
    "duration": 24,
    "start_time": "2022-06-01T15:55:07.444Z"
   },
   {
    "duration": 15,
    "start_time": "2022-06-01T15:55:07.470Z"
   },
   {
    "duration": 13,
    "start_time": "2022-06-01T15:55:07.487Z"
   },
   {
    "duration": 4,
    "start_time": "2022-06-01T15:55:07.502Z"
   },
   {
    "duration": 22,
    "start_time": "2022-06-01T15:55:07.508Z"
   },
   {
    "duration": 218,
    "start_time": "2022-06-01T15:55:07.531Z"
   },
   {
    "duration": 24,
    "start_time": "2022-06-01T15:55:07.751Z"
   },
   {
    "duration": 5,
    "start_time": "2022-06-01T15:55:07.778Z"
   },
   {
    "duration": 18,
    "start_time": "2022-06-01T15:55:07.785Z"
   },
   {
    "duration": 42,
    "start_time": "2022-06-01T15:55:07.805Z"
   },
   {
    "duration": 23,
    "start_time": "2022-06-01T15:55:07.849Z"
   },
   {
    "duration": 8,
    "start_time": "2022-06-01T15:55:07.874Z"
   },
   {
    "duration": 13,
    "start_time": "2022-06-01T15:55:07.884Z"
   },
   {
    "duration": 7,
    "start_time": "2022-06-01T15:55:07.899Z"
   },
   {
    "duration": 8,
    "start_time": "2022-06-01T15:55:07.908Z"
   },
   {
    "duration": 12,
    "start_time": "2022-06-01T15:55:07.917Z"
   },
   {
    "duration": 531,
    "start_time": "2022-06-01T15:59:20.639Z"
   },
   {
    "duration": 5,
    "start_time": "2022-06-01T15:59:21.173Z"
   },
   {
    "duration": 9,
    "start_time": "2022-06-01T15:59:21.180Z"
   },
   {
    "duration": 14,
    "start_time": "2022-06-01T15:59:21.191Z"
   },
   {
    "duration": 32,
    "start_time": "2022-06-01T15:59:21.207Z"
   },
   {
    "duration": 8,
    "start_time": "2022-06-01T15:59:21.241Z"
   },
   {
    "duration": 22,
    "start_time": "2022-06-01T15:59:21.251Z"
   },
   {
    "duration": 223,
    "start_time": "2022-06-01T15:59:21.275Z"
   },
   {
    "duration": 5,
    "start_time": "2022-06-01T15:59:21.499Z"
   },
   {
    "duration": 11,
    "start_time": "2022-06-01T15:59:21.506Z"
   },
   {
    "duration": 22,
    "start_time": "2022-06-01T15:59:21.525Z"
   },
   {
    "duration": 13,
    "start_time": "2022-06-01T15:59:21.549Z"
   },
   {
    "duration": 24,
    "start_time": "2022-06-01T15:59:21.563Z"
   },
   {
    "duration": 7,
    "start_time": "2022-06-01T15:59:21.589Z"
   },
   {
    "duration": 19,
    "start_time": "2022-06-01T15:59:21.598Z"
   },
   {
    "duration": 14,
    "start_time": "2022-06-01T15:59:21.619Z"
   },
   {
    "duration": 20,
    "start_time": "2022-06-01T15:59:21.634Z"
   },
   {
    "duration": 14,
    "start_time": "2022-06-01T15:59:21.655Z"
   },
   {
    "duration": 25,
    "start_time": "2022-06-01T15:59:21.670Z"
   },
   {
    "duration": 19,
    "start_time": "2022-06-01T16:02:37.958Z"
   },
   {
    "duration": 51,
    "start_time": "2022-06-01T16:05:37.314Z"
   },
   {
    "duration": 5,
    "start_time": "2022-06-01T16:10:01.451Z"
   },
   {
    "duration": 6,
    "start_time": "2022-06-01T16:15:58.713Z"
   },
   {
    "duration": 13,
    "start_time": "2022-06-01T16:16:03.761Z"
   },
   {
    "duration": 9,
    "start_time": "2022-06-01T16:16:08.521Z"
   },
   {
    "duration": 9,
    "start_time": "2022-06-01T16:16:48.121Z"
   },
   {
    "duration": 8,
    "start_time": "2022-06-01T16:16:51.341Z"
   },
   {
    "duration": 8,
    "start_time": "2022-06-01T16:16:57.012Z"
   },
   {
    "duration": 81,
    "start_time": "2022-06-01T16:21:29.712Z"
   },
   {
    "duration": 14,
    "start_time": "2022-06-01T16:21:42.352Z"
   },
   {
    "duration": 31,
    "start_time": "2022-06-01T16:24:12.016Z"
   },
   {
    "duration": 15,
    "start_time": "2022-06-01T16:26:31.963Z"
   },
   {
    "duration": 12,
    "start_time": "2022-06-01T16:28:05.519Z"
   },
   {
    "duration": 12,
    "start_time": "2022-06-01T16:29:40.738Z"
   },
   {
    "duration": 11,
    "start_time": "2022-06-01T16:29:46.486Z"
   },
   {
    "duration": 11,
    "start_time": "2022-06-01T16:29:53.442Z"
   },
   {
    "duration": 545,
    "start_time": "2022-06-01T16:30:18.787Z"
   },
   {
    "duration": 5,
    "start_time": "2022-06-01T16:30:19.334Z"
   },
   {
    "duration": 4,
    "start_time": "2022-06-01T16:30:19.343Z"
   },
   {
    "duration": 11,
    "start_time": "2022-06-01T16:30:19.348Z"
   },
   {
    "duration": 7,
    "start_time": "2022-06-01T16:30:19.360Z"
   },
   {
    "duration": 4,
    "start_time": "2022-06-01T16:30:19.369Z"
   },
   {
    "duration": 56,
    "start_time": "2022-06-01T16:30:19.374Z"
   },
   {
    "duration": 211,
    "start_time": "2022-06-01T16:30:19.432Z"
   },
   {
    "duration": 5,
    "start_time": "2022-06-01T16:30:19.645Z"
   },
   {
    "duration": 7,
    "start_time": "2022-06-01T16:30:19.651Z"
   },
   {
    "duration": 9,
    "start_time": "2022-06-01T16:30:19.660Z"
   },
   {
    "duration": 19,
    "start_time": "2022-06-01T16:30:19.671Z"
   },
   {
    "duration": 4,
    "start_time": "2022-06-01T16:30:19.692Z"
   },
   {
    "duration": 15,
    "start_time": "2022-06-01T16:30:19.726Z"
   },
   {
    "duration": 10,
    "start_time": "2022-06-01T16:30:19.743Z"
   },
   {
    "duration": 7,
    "start_time": "2022-06-01T16:30:19.755Z"
   },
   {
    "duration": 8,
    "start_time": "2022-06-01T16:30:19.764Z"
   },
   {
    "duration": 7,
    "start_time": "2022-06-01T16:30:19.774Z"
   },
   {
    "duration": 6,
    "start_time": "2022-06-01T16:30:19.782Z"
   },
   {
    "duration": 36,
    "start_time": "2022-06-01T16:30:19.790Z"
   },
   {
    "duration": 14,
    "start_time": "2022-06-01T16:30:19.828Z"
   },
   {
    "duration": 19,
    "start_time": "2022-06-01T16:30:19.843Z"
   },
   {
    "duration": 17,
    "start_time": "2022-06-01T16:30:19.863Z"
   },
   {
    "duration": 53,
    "start_time": "2022-06-01T16:30:19.882Z"
   },
   {
    "duration": 510,
    "start_time": "2022-06-01T16:30:48.588Z"
   },
   {
    "duration": 6,
    "start_time": "2022-06-01T16:30:49.100Z"
   },
   {
    "duration": 19,
    "start_time": "2022-06-01T16:30:49.107Z"
   },
   {
    "duration": 9,
    "start_time": "2022-06-01T16:30:49.128Z"
   },
   {
    "duration": 9,
    "start_time": "2022-06-01T16:30:49.139Z"
   },
   {
    "duration": 14,
    "start_time": "2022-06-01T16:30:49.149Z"
   },
   {
    "duration": 20,
    "start_time": "2022-06-01T16:30:49.164Z"
   },
   {
    "duration": 220,
    "start_time": "2022-06-01T16:30:49.186Z"
   },
   {
    "duration": 19,
    "start_time": "2022-06-01T16:30:49.408Z"
   },
   {
    "duration": 15,
    "start_time": "2022-06-01T16:30:49.429Z"
   },
   {
    "duration": 30,
    "start_time": "2022-06-01T16:30:49.446Z"
   },
   {
    "duration": 27,
    "start_time": "2022-06-01T16:30:49.478Z"
   },
   {
    "duration": 4,
    "start_time": "2022-06-01T16:30:49.507Z"
   },
   {
    "duration": 18,
    "start_time": "2022-06-01T16:30:49.514Z"
   },
   {
    "duration": 10,
    "start_time": "2022-06-01T16:30:49.534Z"
   },
   {
    "duration": 7,
    "start_time": "2022-06-01T16:30:49.546Z"
   },
   {
    "duration": 13,
    "start_time": "2022-06-01T16:30:49.554Z"
   },
   {
    "duration": 9,
    "start_time": "2022-06-01T16:30:49.569Z"
   },
   {
    "duration": 11,
    "start_time": "2022-06-01T16:30:49.580Z"
   },
   {
    "duration": 9,
    "start_time": "2022-06-01T16:30:49.593Z"
   },
   {
    "duration": 11,
    "start_time": "2022-06-01T16:30:49.604Z"
   },
   {
    "duration": 26,
    "start_time": "2022-06-01T16:30:49.626Z"
   },
   {
    "duration": 15,
    "start_time": "2022-06-01T16:30:49.654Z"
   },
   {
    "duration": 34,
    "start_time": "2022-06-01T16:30:49.671Z"
   },
   {
    "duration": 72,
    "start_time": "2022-06-01T16:46:06.659Z"
   },
   {
    "duration": 15,
    "start_time": "2022-06-01T16:46:15.791Z"
   },
   {
    "duration": 17,
    "start_time": "2022-06-01T16:49:02.091Z"
   },
   {
    "duration": 20,
    "start_time": "2022-06-01T16:51:14.126Z"
   },
   {
    "duration": 142,
    "start_time": "2022-06-01T17:01:16.885Z"
   },
   {
    "duration": 21,
    "start_time": "2022-06-01T17:06:10.169Z"
   },
   {
    "duration": 20,
    "start_time": "2022-06-01T17:06:14.059Z"
   },
   {
    "duration": 495,
    "start_time": "2022-06-01T17:07:17.880Z"
   },
   {
    "duration": 5,
    "start_time": "2022-06-01T17:07:18.377Z"
   },
   {
    "duration": 10,
    "start_time": "2022-06-01T17:07:18.383Z"
   },
   {
    "duration": 10,
    "start_time": "2022-06-01T17:07:18.395Z"
   },
   {
    "duration": 19,
    "start_time": "2022-06-01T17:07:18.407Z"
   },
   {
    "duration": 5,
    "start_time": "2022-06-01T17:07:18.428Z"
   },
   {
    "duration": 26,
    "start_time": "2022-06-01T17:07:18.434Z"
   },
   {
    "duration": 216,
    "start_time": "2022-06-01T17:07:18.461Z"
   },
   {
    "duration": 6,
    "start_time": "2022-06-01T17:07:18.678Z"
   },
   {
    "duration": 12,
    "start_time": "2022-06-01T17:07:18.686Z"
   },
   {
    "duration": 12,
    "start_time": "2022-06-01T17:07:18.700Z"
   },
   {
    "duration": 31,
    "start_time": "2022-06-01T17:07:18.714Z"
   },
   {
    "duration": 5,
    "start_time": "2022-06-01T17:07:18.747Z"
   },
   {
    "duration": 26,
    "start_time": "2022-06-01T17:07:18.754Z"
   },
   {
    "duration": 13,
    "start_time": "2022-06-01T17:07:18.782Z"
   },
   {
    "duration": 29,
    "start_time": "2022-06-01T17:07:18.797Z"
   },
   {
    "duration": 25,
    "start_time": "2022-06-01T17:07:18.828Z"
   },
   {
    "duration": 15,
    "start_time": "2022-06-01T17:07:18.855Z"
   },
   {
    "duration": 8,
    "start_time": "2022-06-01T17:07:18.872Z"
   },
   {
    "duration": 9,
    "start_time": "2022-06-01T17:07:18.881Z"
   },
   {
    "duration": 10,
    "start_time": "2022-06-01T17:07:18.891Z"
   },
   {
    "duration": 20,
    "start_time": "2022-06-01T17:07:18.903Z"
   },
   {
    "duration": 17,
    "start_time": "2022-06-01T17:07:18.924Z"
   },
   {
    "duration": 35,
    "start_time": "2022-06-01T17:07:18.943Z"
   },
   {
    "duration": 16,
    "start_time": "2022-06-01T17:07:18.980Z"
   },
   {
    "duration": 40,
    "start_time": "2022-06-01T17:07:18.998Z"
   },
   {
    "duration": 16,
    "start_time": "2022-06-01T17:07:19.040Z"
   },
   {
    "duration": 161,
    "start_time": "2022-06-01T17:07:19.059Z"
   },
   {
    "duration": 85,
    "start_time": "2022-06-01T17:07:19.222Z"
   },
   {
    "duration": 19,
    "start_time": "2022-06-01T17:09:21.837Z"
   },
   {
    "duration": 4,
    "start_time": "2022-06-01T17:09:29.936Z"
   },
   {
    "duration": 9,
    "start_time": "2022-06-01T17:10:17.044Z"
   },
   {
    "duration": 9,
    "start_time": "2022-06-01T17:10:30.992Z"
   },
   {
    "duration": 17,
    "start_time": "2022-06-01T17:10:37.460Z"
   },
   {
    "duration": 4,
    "start_time": "2022-06-01T17:14:49.479Z"
   },
   {
    "duration": 18,
    "start_time": "2022-06-01T17:15:20.735Z"
   },
   {
    "duration": 17,
    "start_time": "2022-06-01T17:34:36.021Z"
   },
   {
    "duration": 3,
    "start_time": "2022-06-01T17:35:08.001Z"
   },
   {
    "duration": 4,
    "start_time": "2022-06-01T17:35:11.440Z"
   },
   {
    "duration": 3,
    "start_time": "2022-06-01T17:35:29.965Z"
   },
   {
    "duration": 545,
    "start_time": "2022-06-01T17:35:36.704Z"
   },
   {
    "duration": 5,
    "start_time": "2022-06-01T17:35:37.251Z"
   },
   {
    "duration": 20,
    "start_time": "2022-06-01T17:35:37.257Z"
   },
   {
    "duration": 20,
    "start_time": "2022-06-01T17:35:37.279Z"
   },
   {
    "duration": 27,
    "start_time": "2022-06-01T17:35:37.301Z"
   },
   {
    "duration": 16,
    "start_time": "2022-06-01T17:35:37.330Z"
   },
   {
    "duration": 28,
    "start_time": "2022-06-01T17:35:37.347Z"
   },
   {
    "duration": 201,
    "start_time": "2022-06-01T17:35:37.377Z"
   },
   {
    "duration": 5,
    "start_time": "2022-06-01T17:35:37.579Z"
   },
   {
    "duration": 28,
    "start_time": "2022-06-01T17:35:37.586Z"
   },
   {
    "duration": 16,
    "start_time": "2022-06-01T17:35:37.615Z"
   },
   {
    "duration": 43,
    "start_time": "2022-06-01T17:35:37.632Z"
   },
   {
    "duration": 13,
    "start_time": "2022-06-01T17:35:37.677Z"
   },
   {
    "duration": 27,
    "start_time": "2022-06-01T17:35:37.692Z"
   },
   {
    "duration": 19,
    "start_time": "2022-06-01T17:35:37.721Z"
   },
   {
    "duration": 10,
    "start_time": "2022-06-01T17:35:37.742Z"
   },
   {
    "duration": 16,
    "start_time": "2022-06-01T17:35:37.754Z"
   },
   {
    "duration": 18,
    "start_time": "2022-06-01T17:35:37.771Z"
   },
   {
    "duration": 15,
    "start_time": "2022-06-01T17:35:37.790Z"
   },
   {
    "duration": 22,
    "start_time": "2022-06-01T17:35:37.807Z"
   },
   {
    "duration": 21,
    "start_time": "2022-06-01T17:35:37.831Z"
   },
   {
    "duration": 35,
    "start_time": "2022-06-01T17:35:37.854Z"
   },
   {
    "duration": 17,
    "start_time": "2022-06-01T17:35:37.891Z"
   },
   {
    "duration": 53,
    "start_time": "2022-06-01T17:35:37.909Z"
   },
   {
    "duration": 15,
    "start_time": "2022-06-01T17:35:37.963Z"
   },
   {
    "duration": 14,
    "start_time": "2022-06-01T17:35:37.979Z"
   },
   {
    "duration": 32,
    "start_time": "2022-06-01T17:35:37.994Z"
   },
   {
    "duration": 147,
    "start_time": "2022-06-01T17:35:38.029Z"
   },
   {
    "duration": 4,
    "start_time": "2022-06-01T17:35:38.177Z"
   },
   {
    "duration": 3,
    "start_time": "2022-06-01T17:36:40.480Z"
   },
   {
    "duration": 175,
    "start_time": "2022-06-01T17:38:26.756Z"
   },
   {
    "duration": 13,
    "start_time": "2022-06-01T17:38:34.688Z"
   },
   {
    "duration": 19,
    "start_time": "2022-06-01T17:38:40.387Z"
   },
   {
    "duration": 16,
    "start_time": "2022-06-01T17:38:45.906Z"
   },
   {
    "duration": 563,
    "start_time": "2022-06-01T17:39:04.431Z"
   },
   {
    "duration": 5,
    "start_time": "2022-06-01T17:39:04.996Z"
   },
   {
    "duration": 22,
    "start_time": "2022-06-01T17:39:05.003Z"
   },
   {
    "duration": 10,
    "start_time": "2022-06-01T17:39:05.028Z"
   },
   {
    "duration": 9,
    "start_time": "2022-06-01T17:39:05.040Z"
   },
   {
    "duration": 4,
    "start_time": "2022-06-01T17:39:05.051Z"
   },
   {
    "duration": 21,
    "start_time": "2022-06-01T17:39:05.057Z"
   },
   {
    "duration": 225,
    "start_time": "2022-06-01T17:39:05.080Z"
   },
   {
    "duration": 5,
    "start_time": "2022-06-01T17:39:05.307Z"
   },
   {
    "duration": 14,
    "start_time": "2022-06-01T17:39:05.314Z"
   },
   {
    "duration": 15,
    "start_time": "2022-06-01T17:39:05.329Z"
   },
   {
    "duration": 19,
    "start_time": "2022-06-01T17:39:05.346Z"
   },
   {
    "duration": 4,
    "start_time": "2022-06-01T17:39:05.367Z"
   },
   {
    "duration": 18,
    "start_time": "2022-06-01T17:39:05.372Z"
   },
   {
    "duration": 35,
    "start_time": "2022-06-01T17:39:05.392Z"
   },
   {
    "duration": 7,
    "start_time": "2022-06-01T17:39:05.428Z"
   },
   {
    "duration": 12,
    "start_time": "2022-06-01T17:39:05.437Z"
   },
   {
    "duration": 7,
    "start_time": "2022-06-01T17:39:05.451Z"
   },
   {
    "duration": 7,
    "start_time": "2022-06-01T17:39:05.460Z"
   },
   {
    "duration": 9,
    "start_time": "2022-06-01T17:39:05.469Z"
   },
   {
    "duration": 13,
    "start_time": "2022-06-01T17:39:05.479Z"
   },
   {
    "duration": 25,
    "start_time": "2022-06-01T17:39:05.494Z"
   },
   {
    "duration": 15,
    "start_time": "2022-06-01T17:39:05.525Z"
   },
   {
    "duration": 31,
    "start_time": "2022-06-01T17:39:05.542Z"
   },
   {
    "duration": 15,
    "start_time": "2022-06-01T17:39:05.575Z"
   },
   {
    "duration": 41,
    "start_time": "2022-06-01T17:39:05.591Z"
   },
   {
    "duration": 15,
    "start_time": "2022-06-01T17:39:05.634Z"
   },
   {
    "duration": 156,
    "start_time": "2022-06-01T17:39:05.652Z"
   },
   {
    "duration": 3,
    "start_time": "2022-06-01T17:39:05.810Z"
   },
   {
    "duration": 25,
    "start_time": "2022-06-01T17:39:05.815Z"
   },
   {
    "duration": 79,
    "start_time": "2022-06-01T17:52:04.540Z"
   },
   {
    "duration": 20,
    "start_time": "2022-06-01T17:52:09.979Z"
   },
   {
    "duration": 9,
    "start_time": "2022-06-01T17:53:40.509Z"
   },
   {
    "duration": 12,
    "start_time": "2022-06-01T17:53:50.823Z"
   },
   {
    "duration": 14,
    "start_time": "2022-06-01T17:55:58.851Z"
   },
   {
    "duration": 11,
    "start_time": "2022-06-01T17:56:09.259Z"
   },
   {
    "duration": 8,
    "start_time": "2022-06-01T17:56:15.903Z"
   },
   {
    "duration": 11,
    "start_time": "2022-06-01T17:56:40.503Z"
   },
   {
    "duration": 11,
    "start_time": "2022-06-01T17:56:44.887Z"
   },
   {
    "duration": 9,
    "start_time": "2022-06-01T17:58:17.319Z"
   },
   {
    "duration": 14,
    "start_time": "2022-06-01T17:59:18.186Z"
   },
   {
    "duration": 12,
    "start_time": "2022-06-01T17:59:24.371Z"
   },
   {
    "duration": 11,
    "start_time": "2022-06-01T18:01:03.850Z"
   },
   {
    "duration": 15,
    "start_time": "2022-06-01T18:01:14.974Z"
   },
   {
    "duration": 14,
    "start_time": "2022-06-01T18:02:55.098Z"
   },
   {
    "duration": 11,
    "start_time": "2022-06-01T18:02:59.698Z"
   },
   {
    "duration": 13,
    "start_time": "2022-06-01T18:04:36.053Z"
   },
   {
    "duration": 13,
    "start_time": "2022-06-01T18:08:33.073Z"
   },
   {
    "duration": 12,
    "start_time": "2022-06-01T18:09:26.057Z"
   },
   {
    "duration": 12,
    "start_time": "2022-06-01T18:09:33.416Z"
   },
   {
    "duration": 15,
    "start_time": "2022-06-01T18:14:09.735Z"
   },
   {
    "duration": 26,
    "start_time": "2022-06-01T18:19:34.317Z"
   },
   {
    "duration": 15,
    "start_time": "2022-06-01T18:23:04.520Z"
   },
   {
    "duration": 12,
    "start_time": "2022-06-01T18:23:25.298Z"
   },
   {
    "duration": 13,
    "start_time": "2022-06-01T18:25:33.414Z"
   },
   {
    "duration": 12,
    "start_time": "2022-06-01T18:25:42.423Z"
   },
   {
    "duration": 12,
    "start_time": "2022-06-01T18:31:44.057Z"
   },
   {
    "duration": 687,
    "start_time": "2022-06-01T18:38:07.655Z"
   },
   {
    "duration": 6,
    "start_time": "2022-06-01T18:38:08.344Z"
   },
   {
    "duration": 9,
    "start_time": "2022-06-01T18:38:08.351Z"
   },
   {
    "duration": 13,
    "start_time": "2022-06-01T18:38:08.362Z"
   },
   {
    "duration": 8,
    "start_time": "2022-06-01T18:38:08.377Z"
   },
   {
    "duration": 5,
    "start_time": "2022-06-01T18:38:08.386Z"
   },
   {
    "duration": 48,
    "start_time": "2022-06-01T18:38:08.392Z"
   },
   {
    "duration": 221,
    "start_time": "2022-06-01T18:38:08.442Z"
   },
   {
    "duration": 5,
    "start_time": "2022-06-01T18:38:08.665Z"
   },
   {
    "duration": 12,
    "start_time": "2022-06-01T18:38:08.673Z"
   },
   {
    "duration": 16,
    "start_time": "2022-06-01T18:38:08.687Z"
   },
   {
    "duration": 38,
    "start_time": "2022-06-01T18:38:08.705Z"
   },
   {
    "duration": 6,
    "start_time": "2022-06-01T18:38:08.745Z"
   },
   {
    "duration": 27,
    "start_time": "2022-06-01T18:38:08.753Z"
   },
   {
    "duration": 9,
    "start_time": "2022-06-01T18:38:08.782Z"
   },
   {
    "duration": 37,
    "start_time": "2022-06-01T18:38:08.793Z"
   },
   {
    "duration": 7,
    "start_time": "2022-06-01T18:38:08.832Z"
   },
   {
    "duration": 13,
    "start_time": "2022-06-01T18:38:08.841Z"
   },
   {
    "duration": 6,
    "start_time": "2022-06-01T18:38:08.855Z"
   },
   {
    "duration": 9,
    "start_time": "2022-06-01T18:38:08.862Z"
   },
   {
    "duration": 10,
    "start_time": "2022-06-01T18:38:08.873Z"
   },
   {
    "duration": 19,
    "start_time": "2022-06-01T18:38:08.884Z"
   },
   {
    "duration": 17,
    "start_time": "2022-06-01T18:38:08.926Z"
   },
   {
    "duration": 49,
    "start_time": "2022-06-01T18:38:08.945Z"
   },
   {
    "duration": 38,
    "start_time": "2022-06-01T18:38:08.996Z"
   },
   {
    "duration": 15,
    "start_time": "2022-06-01T18:38:09.038Z"
   },
   {
    "duration": 24,
    "start_time": "2022-06-01T18:38:09.055Z"
   },
   {
    "duration": 166,
    "start_time": "2022-06-01T18:38:09.082Z"
   },
   {
    "duration": 4,
    "start_time": "2022-06-01T18:38:09.249Z"
   },
   {
    "duration": 19,
    "start_time": "2022-06-01T18:38:09.254Z"
   },
   {
    "duration": 83,
    "start_time": "2022-06-01T18:38:09.274Z"
   },
   {
    "duration": 0,
    "start_time": "2022-06-01T18:38:09.358Z"
   },
   {
    "duration": 0,
    "start_time": "2022-06-01T18:38:09.360Z"
   },
   {
    "duration": 0,
    "start_time": "2022-06-01T18:38:09.361Z"
   },
   {
    "duration": 485,
    "start_time": "2022-06-01T18:38:23.567Z"
   },
   {
    "duration": 4,
    "start_time": "2022-06-01T18:38:24.054Z"
   },
   {
    "duration": 24,
    "start_time": "2022-06-01T18:38:24.060Z"
   },
   {
    "duration": 8,
    "start_time": "2022-06-01T18:38:24.086Z"
   },
   {
    "duration": 7,
    "start_time": "2022-06-01T18:38:24.095Z"
   },
   {
    "duration": 3,
    "start_time": "2022-06-01T18:38:24.104Z"
   },
   {
    "duration": 30,
    "start_time": "2022-06-01T18:38:24.109Z"
   },
   {
    "duration": 197,
    "start_time": "2022-06-01T18:38:24.141Z"
   },
   {
    "duration": 5,
    "start_time": "2022-06-01T18:38:24.340Z"
   },
   {
    "duration": 5,
    "start_time": "2022-06-01T18:38:24.348Z"
   },
   {
    "duration": 20,
    "start_time": "2022-06-01T18:38:24.354Z"
   },
   {
    "duration": 51,
    "start_time": "2022-06-01T18:38:24.375Z"
   },
   {
    "duration": 13,
    "start_time": "2022-06-01T18:38:24.429Z"
   },
   {
    "duration": 19,
    "start_time": "2022-06-01T18:38:24.444Z"
   },
   {
    "duration": 20,
    "start_time": "2022-06-01T18:38:24.465Z"
   },
   {
    "duration": 19,
    "start_time": "2022-06-01T18:38:24.488Z"
   },
   {
    "duration": 20,
    "start_time": "2022-06-01T18:38:24.509Z"
   },
   {
    "duration": 16,
    "start_time": "2022-06-01T18:38:24.531Z"
   },
   {
    "duration": 46,
    "start_time": "2022-06-01T18:38:24.549Z"
   },
   {
    "duration": 12,
    "start_time": "2022-06-01T18:38:24.597Z"
   },
   {
    "duration": 11,
    "start_time": "2022-06-01T18:38:24.611Z"
   },
   {
    "duration": 25,
    "start_time": "2022-06-01T18:38:24.624Z"
   },
   {
    "duration": 23,
    "start_time": "2022-06-01T18:38:24.651Z"
   },
   {
    "duration": 71,
    "start_time": "2022-06-01T18:38:24.676Z"
   },
   {
    "duration": 21,
    "start_time": "2022-06-01T18:38:24.749Z"
   },
   {
    "duration": 18,
    "start_time": "2022-06-01T18:38:24.772Z"
   },
   {
    "duration": 45,
    "start_time": "2022-06-01T18:38:24.792Z"
   },
   {
    "duration": 165,
    "start_time": "2022-06-01T18:38:24.841Z"
   },
   {
    "duration": 4,
    "start_time": "2022-06-01T18:38:25.008Z"
   },
   {
    "duration": 25,
    "start_time": "2022-06-01T18:38:25.014Z"
   },
   {
    "duration": 12,
    "start_time": "2022-06-01T18:38:25.040Z"
   },
   {
    "duration": 21,
    "start_time": "2022-06-01T18:38:25.053Z"
   },
   {
    "duration": 13,
    "start_time": "2022-06-01T18:38:25.076Z"
   },
   {
    "duration": 11,
    "start_time": "2022-06-01T18:38:25.090Z"
   },
   {
    "duration": 64,
    "start_time": "2022-06-01T19:27:37.295Z"
   },
   {
    "duration": 55,
    "start_time": "2022-06-06T12:34:19.078Z"
   },
   {
    "duration": 912,
    "start_time": "2022-06-06T12:40:14.066Z"
   },
   {
    "duration": 9,
    "start_time": "2022-06-06T12:40:14.983Z"
   },
   {
    "duration": 59,
    "start_time": "2022-06-06T12:40:14.997Z"
   },
   {
    "duration": 53,
    "start_time": "2022-06-06T12:40:15.064Z"
   },
   {
    "duration": 33,
    "start_time": "2022-06-06T12:40:15.119Z"
   },
   {
    "duration": 29,
    "start_time": "2022-06-06T12:40:15.161Z"
   },
   {
    "duration": 45,
    "start_time": "2022-06-06T12:40:15.192Z"
   },
   {
    "duration": 381,
    "start_time": "2022-06-06T12:40:15.239Z"
   },
   {
    "duration": 9,
    "start_time": "2022-06-06T12:40:15.622Z"
   },
   {
    "duration": 38,
    "start_time": "2022-06-06T12:40:15.637Z"
   },
   {
    "duration": 11,
    "start_time": "2022-06-06T12:40:15.679Z"
   },
   {
    "duration": 26,
    "start_time": "2022-06-06T12:40:15.692Z"
   },
   {
    "duration": 6,
    "start_time": "2022-06-06T12:40:15.720Z"
   },
   {
    "duration": 33,
    "start_time": "2022-06-06T12:40:15.728Z"
   },
   {
    "duration": 39,
    "start_time": "2022-06-06T12:40:15.764Z"
   },
   {
    "duration": 11,
    "start_time": "2022-06-06T12:40:15.805Z"
   },
   {
    "duration": 19,
    "start_time": "2022-06-06T12:40:15.818Z"
   },
   {
    "duration": 39,
    "start_time": "2022-06-06T12:40:15.839Z"
   },
   {
    "duration": 12,
    "start_time": "2022-06-06T12:40:15.880Z"
   },
   {
    "duration": 25,
    "start_time": "2022-06-06T12:40:15.894Z"
   },
   {
    "duration": 21,
    "start_time": "2022-06-06T12:40:15.923Z"
   },
   {
    "duration": 55,
    "start_time": "2022-06-06T12:40:15.946Z"
   },
   {
    "duration": 35,
    "start_time": "2022-06-06T12:40:16.004Z"
   },
   {
    "duration": 48,
    "start_time": "2022-06-06T12:40:16.041Z"
   },
   {
    "duration": 19,
    "start_time": "2022-06-06T12:40:16.091Z"
   },
   {
    "duration": 20,
    "start_time": "2022-06-06T12:40:16.112Z"
   },
   {
    "duration": 25,
    "start_time": "2022-06-06T12:40:16.134Z"
   },
   {
    "duration": 221,
    "start_time": "2022-06-06T12:40:16.164Z"
   },
   {
    "duration": 4,
    "start_time": "2022-06-06T12:40:16.389Z"
   },
   {
    "duration": 28,
    "start_time": "2022-06-06T12:40:16.395Z"
   },
   {
    "duration": 62,
    "start_time": "2022-06-06T12:40:16.425Z"
   },
   {
    "duration": 34,
    "start_time": "2022-06-06T12:40:16.490Z"
   },
   {
    "duration": 22,
    "start_time": "2022-06-06T12:40:16.526Z"
   },
   {
    "duration": 63,
    "start_time": "2022-06-06T12:40:16.550Z"
   },
   {
    "duration": 798,
    "start_time": "2022-06-06T12:40:53.049Z"
   },
   {
    "duration": 14,
    "start_time": "2022-06-06T12:40:53.850Z"
   },
   {
    "duration": 43,
    "start_time": "2022-06-06T12:40:53.866Z"
   },
   {
    "duration": 93,
    "start_time": "2022-06-06T12:40:53.911Z"
   },
   {
    "duration": 88,
    "start_time": "2022-06-06T12:40:54.008Z"
   },
   {
    "duration": 17,
    "start_time": "2022-06-06T12:40:54.098Z"
   },
   {
    "duration": 47,
    "start_time": "2022-06-06T12:40:54.117Z"
   },
   {
    "duration": 344,
    "start_time": "2022-06-06T12:40:54.169Z"
   },
   {
    "duration": 10,
    "start_time": "2022-06-06T12:40:54.515Z"
   },
   {
    "duration": 80,
    "start_time": "2022-06-06T12:40:54.529Z"
   },
   {
    "duration": 44,
    "start_time": "2022-06-06T12:40:54.611Z"
   },
   {
    "duration": 61,
    "start_time": "2022-06-06T12:40:54.659Z"
   },
   {
    "duration": 80,
    "start_time": "2022-06-06T12:40:54.724Z"
   },
   {
    "duration": 88,
    "start_time": "2022-06-06T12:40:54.808Z"
   },
   {
    "duration": 12,
    "start_time": "2022-06-06T12:40:54.900Z"
   },
   {
    "duration": 73,
    "start_time": "2022-06-06T12:40:54.915Z"
   },
   {
    "duration": 113,
    "start_time": "2022-06-06T12:40:54.990Z"
   },
   {
    "duration": 50,
    "start_time": "2022-06-06T12:40:55.105Z"
   },
   {
    "duration": 46,
    "start_time": "2022-06-06T12:40:55.159Z"
   },
   {
    "duration": 48,
    "start_time": "2022-06-06T12:40:55.207Z"
   },
   {
    "duration": 45,
    "start_time": "2022-06-06T12:40:55.271Z"
   },
   {
    "duration": 83,
    "start_time": "2022-06-06T12:40:55.320Z"
   },
   {
    "duration": 28,
    "start_time": "2022-06-06T12:40:55.406Z"
   },
   {
    "duration": 155,
    "start_time": "2022-06-06T12:40:55.441Z"
   },
   {
    "duration": 15,
    "start_time": "2022-06-06T12:40:55.598Z"
   },
   {
    "duration": 25,
    "start_time": "2022-06-06T12:40:55.614Z"
   },
   {
    "duration": 36,
    "start_time": "2022-06-06T12:40:55.644Z"
   },
   {
    "duration": 227,
    "start_time": "2022-06-06T12:40:55.682Z"
   },
   {
    "duration": 4,
    "start_time": "2022-06-06T12:40:55.911Z"
   },
   {
    "duration": 75,
    "start_time": "2022-06-06T12:40:55.917Z"
   },
   {
    "duration": 44,
    "start_time": "2022-06-06T12:40:55.994Z"
   },
   {
    "duration": 56,
    "start_time": "2022-06-06T12:40:56.042Z"
   },
   {
    "duration": 19,
    "start_time": "2022-06-06T12:40:56.100Z"
   },
   {
    "duration": 19,
    "start_time": "2022-06-06T12:40:56.121Z"
   },
   {
    "duration": 712,
    "start_time": "2022-06-06T12:46:10.909Z"
   },
   {
    "duration": 7,
    "start_time": "2022-06-06T12:46:11.623Z"
   },
   {
    "duration": 54,
    "start_time": "2022-06-06T12:46:11.632Z"
   },
   {
    "duration": 15,
    "start_time": "2022-06-06T12:46:11.689Z"
   },
   {
    "duration": 14,
    "start_time": "2022-06-06T12:46:11.707Z"
   },
   {
    "duration": 50,
    "start_time": "2022-06-06T12:46:11.723Z"
   },
   {
    "duration": 30,
    "start_time": "2022-06-06T12:46:11.777Z"
   },
   {
    "duration": 325,
    "start_time": "2022-06-06T12:46:11.811Z"
   },
   {
    "duration": 5,
    "start_time": "2022-06-06T12:46:12.138Z"
   },
   {
    "duration": 8,
    "start_time": "2022-06-06T12:46:12.147Z"
   },
   {
    "duration": 32,
    "start_time": "2022-06-06T12:46:12.161Z"
   },
   {
    "duration": 47,
    "start_time": "2022-06-06T12:46:12.195Z"
   },
   {
    "duration": 30,
    "start_time": "2022-06-06T12:46:12.245Z"
   },
   {
    "duration": 29,
    "start_time": "2022-06-06T12:46:12.277Z"
   },
   {
    "duration": 15,
    "start_time": "2022-06-06T12:46:12.308Z"
   },
   {
    "duration": 12,
    "start_time": "2022-06-06T12:46:12.325Z"
   },
   {
    "duration": 42,
    "start_time": "2022-06-06T12:46:12.339Z"
   },
   {
    "duration": 11,
    "start_time": "2022-06-06T12:46:12.383Z"
   },
   {
    "duration": 15,
    "start_time": "2022-06-06T12:46:12.396Z"
   },
   {
    "duration": 11,
    "start_time": "2022-06-06T12:46:12.412Z"
   },
   {
    "duration": 15,
    "start_time": "2022-06-06T12:46:12.425Z"
   },
   {
    "duration": 56,
    "start_time": "2022-06-06T12:46:12.443Z"
   },
   {
    "duration": 24,
    "start_time": "2022-06-06T12:46:12.501Z"
   },
   {
    "duration": 61,
    "start_time": "2022-06-06T12:46:12.528Z"
   },
   {
    "duration": 29,
    "start_time": "2022-06-06T12:46:12.592Z"
   },
   {
    "duration": 84,
    "start_time": "2022-06-06T12:46:12.623Z"
   },
   {
    "duration": 28,
    "start_time": "2022-06-06T12:46:12.710Z"
   },
   {
    "duration": 301,
    "start_time": "2022-06-06T12:46:12.749Z"
   },
   {
    "duration": 6,
    "start_time": "2022-06-06T12:46:13.052Z"
   },
   {
    "duration": 77,
    "start_time": "2022-06-06T12:46:13.060Z"
   },
   {
    "duration": 27,
    "start_time": "2022-06-06T12:46:13.149Z"
   },
   {
    "duration": 41,
    "start_time": "2022-06-06T12:46:13.178Z"
   },
   {
    "duration": 66,
    "start_time": "2022-06-06T12:46:13.221Z"
   },
   {
    "duration": 50,
    "start_time": "2022-06-06T12:46:13.290Z"
   },
   {
    "duration": 723,
    "start_time": "2022-06-06T12:46:49.005Z"
   },
   {
    "duration": 23,
    "start_time": "2022-06-06T12:46:49.734Z"
   },
   {
    "duration": 68,
    "start_time": "2022-06-06T12:46:49.761Z"
   },
   {
    "duration": 64,
    "start_time": "2022-06-06T12:46:49.832Z"
   },
   {
    "duration": 13,
    "start_time": "2022-06-06T12:46:49.902Z"
   },
   {
    "duration": 14,
    "start_time": "2022-06-06T12:46:49.917Z"
   },
   {
    "duration": 75,
    "start_time": "2022-06-06T12:46:49.939Z"
   },
   {
    "duration": 323,
    "start_time": "2022-06-06T12:46:50.016Z"
   },
   {
    "duration": 9,
    "start_time": "2022-06-06T12:46:50.346Z"
   },
   {
    "duration": 66,
    "start_time": "2022-06-06T12:46:50.373Z"
   },
   {
    "duration": 58,
    "start_time": "2022-06-06T12:46:50.445Z"
   },
   {
    "duration": 30,
    "start_time": "2022-06-06T12:46:50.505Z"
   },
   {
    "duration": 15,
    "start_time": "2022-06-06T12:46:50.537Z"
   },
   {
    "duration": 98,
    "start_time": "2022-06-06T12:46:50.554Z"
   },
   {
    "duration": 66,
    "start_time": "2022-06-06T12:46:50.655Z"
   },
   {
    "duration": 59,
    "start_time": "2022-06-06T12:46:50.724Z"
   },
   {
    "duration": 31,
    "start_time": "2022-06-06T12:46:50.785Z"
   },
   {
    "duration": 7,
    "start_time": "2022-06-06T12:46:50.819Z"
   },
   {
    "duration": 67,
    "start_time": "2022-06-06T12:46:50.829Z"
   },
   {
    "duration": 14,
    "start_time": "2022-06-06T12:46:50.898Z"
   },
   {
    "duration": 8,
    "start_time": "2022-06-06T12:46:50.915Z"
   },
   {
    "duration": 95,
    "start_time": "2022-06-06T12:46:50.926Z"
   },
   {
    "duration": 42,
    "start_time": "2022-06-06T12:46:51.023Z"
   },
   {
    "duration": 133,
    "start_time": "2022-06-06T12:46:51.071Z"
   },
   {
    "duration": 35,
    "start_time": "2022-06-06T12:46:51.206Z"
   },
   {
    "duration": 138,
    "start_time": "2022-06-06T12:46:51.243Z"
   },
   {
    "duration": 138,
    "start_time": "2022-06-06T12:46:51.383Z"
   },
   {
    "duration": 342,
    "start_time": "2022-06-06T12:46:51.538Z"
   },
   {
    "duration": 4,
    "start_time": "2022-06-06T12:46:51.882Z"
   },
   {
    "duration": 117,
    "start_time": "2022-06-06T12:46:51.887Z"
   },
   {
    "duration": 146,
    "start_time": "2022-06-06T12:46:52.013Z"
   },
   {
    "duration": 152,
    "start_time": "2022-06-06T12:46:52.163Z"
   },
   {
    "duration": 85,
    "start_time": "2022-06-06T12:46:52.316Z"
   },
   {
    "duration": 62,
    "start_time": "2022-06-06T12:46:52.403Z"
   },
   {
    "duration": 726,
    "start_time": "2022-06-06T12:47:25.762Z"
   },
   {
    "duration": 6,
    "start_time": "2022-06-06T12:47:26.491Z"
   },
   {
    "duration": 26,
    "start_time": "2022-06-06T12:47:26.499Z"
   },
   {
    "duration": 72,
    "start_time": "2022-06-06T12:47:26.526Z"
   },
   {
    "duration": 29,
    "start_time": "2022-06-06T12:47:26.602Z"
   },
   {
    "duration": 39,
    "start_time": "2022-06-06T12:47:26.637Z"
   },
   {
    "duration": 30,
    "start_time": "2022-06-06T12:47:26.679Z"
   },
   {
    "duration": 235,
    "start_time": "2022-06-06T12:47:26.711Z"
   },
   {
    "duration": 5,
    "start_time": "2022-06-06T12:47:26.947Z"
   },
   {
    "duration": 33,
    "start_time": "2022-06-06T12:47:26.954Z"
   },
   {
    "duration": 14,
    "start_time": "2022-06-06T12:47:26.991Z"
   },
   {
    "duration": 42,
    "start_time": "2022-06-06T12:47:27.007Z"
   },
   {
    "duration": 18,
    "start_time": "2022-06-06T12:47:27.051Z"
   },
   {
    "duration": 84,
    "start_time": "2022-06-06T12:47:27.072Z"
   },
   {
    "duration": 31,
    "start_time": "2022-06-06T12:47:27.160Z"
   },
   {
    "duration": 13,
    "start_time": "2022-06-06T12:47:27.193Z"
   },
   {
    "duration": 15,
    "start_time": "2022-06-06T12:47:27.209Z"
   },
   {
    "duration": 44,
    "start_time": "2022-06-06T12:47:27.226Z"
   },
   {
    "duration": 12,
    "start_time": "2022-06-06T12:47:27.272Z"
   },
   {
    "duration": 25,
    "start_time": "2022-06-06T12:47:27.286Z"
   },
   {
    "duration": 17,
    "start_time": "2022-06-06T12:47:27.314Z"
   },
   {
    "duration": 86,
    "start_time": "2022-06-06T12:47:27.332Z"
   },
   {
    "duration": 66,
    "start_time": "2022-06-06T12:47:27.422Z"
   },
   {
    "duration": 72,
    "start_time": "2022-06-06T12:47:27.490Z"
   },
   {
    "duration": 20,
    "start_time": "2022-06-06T12:47:27.565Z"
   },
   {
    "duration": 54,
    "start_time": "2022-06-06T12:47:27.588Z"
   },
   {
    "duration": 30,
    "start_time": "2022-06-06T12:47:27.673Z"
   },
   {
    "duration": 268,
    "start_time": "2022-06-06T12:47:27.705Z"
   },
   {
    "duration": 4,
    "start_time": "2022-06-06T12:47:27.975Z"
   },
   {
    "duration": 40,
    "start_time": "2022-06-06T12:47:27.981Z"
   },
   {
    "duration": 48,
    "start_time": "2022-06-06T12:47:28.032Z"
   },
   {
    "duration": 26,
    "start_time": "2022-06-06T12:47:28.083Z"
   },
   {
    "duration": 33,
    "start_time": "2022-06-06T12:47:28.111Z"
   },
   {
    "duration": 30,
    "start_time": "2022-06-06T12:47:28.152Z"
   }
  ],
  "kernelspec": {
   "display_name": "Python 3 (ipykernel)",
   "language": "python",
   "name": "python3"
  },
  "language_info": {
   "codemirror_mode": {
    "name": "ipython",
    "version": 3
   },
   "file_extension": ".py",
   "mimetype": "text/x-python",
   "name": "python",
   "nbconvert_exporter": "python",
   "pygments_lexer": "ipython3",
   "version": "3.9.12"
  },
  "toc": {
   "base_numbering": 1,
   "nav_menu": {},
   "number_sections": true,
   "sideBar": true,
   "skip_h1_title": true,
   "title_cell": "Table of Contents",
   "title_sidebar": "Contents",
   "toc_cell": false,
   "toc_position": {},
   "toc_section_display": true,
   "toc_window_display": false
  }
 },
 "nbformat": 4,
 "nbformat_minor": 5
}
