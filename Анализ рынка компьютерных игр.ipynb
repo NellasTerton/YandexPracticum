{
 "cells": [
  {
   "cell_type": "markdown",
   "metadata": {},
   "source": [
    "<div class=\"alert alert-success\">\n",
    "<font size=\"5\", color= \"seagreen\"><b>✔️ Комментарий ревьюера в2</b></font>\n",
    "    <br /> \n",
    "    <font size=\"3\", color = \"black\">\n",
    "<br /> Привет, Егор :) Спасибо за исправления и вопросы\n",
    "        \n",
    "На проекте почти порядок :), стоит откорректировать расшифровку р-значения, подсказки оставил\n",
    "        \n",
    "Мы изучали и практиковали навыки из разделов о/об:\n",
    "                  \n",
    " + выдвижении гипотез о пропусках в данных, заполнении или удалении,\n",
    " + работе с категориальными данными\n",
    " + подготовке данных для решения главной задачи проекта\n",
    " + исследовании неочищенных данных,        \n",
    " + подборе и создании графиков,\n",
    " + программировании,\n",
    " + автоматизации однотипных действий;\n",
    " + выстраивании структуры проекта и обеспечении аккуратности кода;\n",
    " + анализе данных,\n",
    " + определении прибыльности и устойчивости продаж по выбранному параметру (жанр, платформа),\n",
    " + составлении портрета пользователя, \n",
    " + формулировании и проверке двухсторонних гипотез, <b>интерпретации значения p-value - требует повторения недели через две </b>(для профилактики :) )\n",
    " + формировании рекомендаций для бизнеса \n",
    "        \n",
    "<b>Навыки первого модуля освоены</b> \n",
    "\n",
    "<b>Поздравляю с успешно сданным сборным проектом и завершением первого модуля <br />на факультете дата-аналитики Я.Практикум</b>\n",
    "\n",
    "<div class=\"alert alert-success\">\n",
    "    <font size=\"5\", color = \"seagreen\"><b>Успехов в дальнейшей учебе 🤝</b></font><br />\n",
    "    \n",
    "оставил пару примеров"
   ]
  },
  {
   "cell_type": "markdown",
   "metadata": {},
   "source": [
    "<div class=\"alert alert-success\">\n",
    "<font size=\"4\"><b>Комментарий ревьюера</b></font>\n",
    "    <br /> \n",
    "    <font size=\"3\", color = \"black\">\n",
    "<br />\n",
    "    Привет, Егор :) Спасибо, что прислал задание :) Меня зовут Ринат Хисамов и я буду проверять твой проект. Предлагаю обращаться друг к другу на ты. Так нам будет гораздо проще и удобней общаться).\n",
    "\n",
    "Мои комментарии обозначены пометкой <b>Комментарий ревьюера</b>. Далее в файле сможешь найти их в похожих ячейках (если фон комментария зелёный — всё сделано правильно (✔️), рекомендации таким же цветом. Отдельным цветом — блок ссылок (примеры ниже, 🍕). Оранжевым или светло желтым рекомендации, которые, хоть и не обязательны, но точно сделают ревью лучше. (⚠️); <u> красный комментарий</u>: код, график или вывод стоит переделать (❌)). \n",
    "\n",
    "Не удаляй все эти комментарии и постарайся учесть их в ходе выполнения данного проекта. \n",
    "Будет замечательно, если добавишь свои комментарии и пояснения✍\n",
    "        \n",
    "Поехали 🚀\n",
    "    <br />\n",
    "    </font>\n",
    "\n",
    "</div>"
   ]
  },
  {
   "cell_type": "markdown",
   "metadata": {},
   "source": [
    "<div style=\"border:solid steelblue 1px; padding: 20px\">\n",
    "    \n",
    "<font size=\"4\"><p style=\"text-align:center\"><b>Примеры комментариев </b></p></font>\n",
    "    \n",
    "<div style=\"border:solid steelblue 3px; padding: 20px\">\n",
    "<font size=\"4\"><b>🍕 Пример комментария - совета, здесь м.б. просто ссылка</b></font>\n",
    "    <br /> \n",
    "        <font size=\"3\", color = \"black\">\n",
    "<br />\n",
    "    Тут всего такого разного и вкусного :), есть способы прокачать проект визуализациями (ценит большинство \"боссов\")  <br /><br />\n",
    "        <a href=\"https://pyprog.pro/mpl/mpl_short_guide.html\">Краткое руководство по Matplotlib</a>\n",
    "        На сайте много полезных материалов, мне самому очень помогло в свое время, до сих пор подсматриваю :)\n",
    "\n",
    "\n",
    "</div>\n",
    "    \n",
    "<div class=\"alert alert-warning\", style=\"border:solid coral 3px; padding: 20px\">\n",
    "    <font size=\"3\"><b>⚠️ Пример оформления некритичного комментария</b>\n",
    "    <br /> \n",
    "    <font size=\"2\", color = \"black\">\n",
    "<br />\n",
    "    Рекомендации, которые, хоть и не обязательны, но точно сделают ревью лучше\n",
    "    <br />\n",
    "    </font>\n",
    "\n",
    "</div>\n",
    "    \n",
    "<div class=\"alert alert-danger\">\n",
    "<font size=\"3\"><b>❌ Пример оформления комментария к блоку(строке) программного кода (или выводу), который стоит переделать</b></font>\n",
    "    <br /> \n",
    "    <font size=\"2\", color = \"black\">\n",
    "<br />\n",
    "    Отправлен не тот проект, напиши в своих комментариях, что случилось? жду — <b>это пример</b>\n",
    "    <br />\n",
    "    </font>\n",
    "\n",
    "</div>\n",
    "    \n",
    "<div class=\"alert alert-success\">\n",
    "<font size=\"4\"><b>✔️ Пример оформления комментария, который нравится большинству студентов</b></font>\n",
    "    <br /> \n",
    "    <font size=\"3\", color = \"black\">\n",
    "<br />\n",
    "    Круто, молодец, отлично, логично, или — 👌, 👍, или — выводы отвечают на все вопросы к данным и проекту\n",
    "    <br />\n",
    "    </font>\n",
    "\n",
    "</div>"
   ]
  },
  {
   "cell_type": "markdown",
   "metadata": {},
   "source": [
    "# Анализ рынка компьютерных игр\n",
    "\n",
    "<b>Описание проекта</b> \n",
    "<br/>Вы работаете в интернет-магазине «Стримчик», который продаёт по всему миру компьютерные игры. Из открытых источников доступны исторические данные о продажах игр, оценки пользователей и экспертов, жанры и платформы (например, Xbox или PlayStation). Вам нужно выявить определяющие успешность игры закономерности. Это позволит сделать ставку на потенциально популярный продукт и спланировать рекламные кампании.\n",
    "<br/>Перед вами данные до 2016 года. Представим, что сейчас декабрь 2016 г., и вы планируете кампанию на 2017-й. Нужно отработать принцип работы с данными. Неважно, прогнозируете ли вы продажи на 2017 год по данным 2016-го или же 2027-й — по данным 2026 года.\n",
    "<br/>В наборе данных попадается аббревиатура ESRB (Entertainment Software Rating Board) — это ассоциация, определяющая возрастной рейтинг компьютерных игр. ESRB оценивает игровой контент и присваивает ему подходящую возрастную категорию, например, «Для взрослых», «Для детей младшего возраста» или «Для подростков».\n",
    "\n",
    "<b> Описание данных:</b> \n",
    "<br/>Name — название игры\n",
    "<br/>Platform — платформа\n",
    "<br/>Year_of_Release — год выпуска\n",
    "<br/>Genre — жанр игры\n",
    "<br/>NA_sales — продажи в Северной Америке (миллионы проданных копий)\n",
    "<br/>EU_sales — продажи в Европе (миллионы проданных копий)\n",
    "<br/>JP_sales — продажи в Японии (миллионы проданных копий)\n",
    "<br/>Other_sales — продажи в других странах (миллионы проданных копий)\n",
    "<br/>Critic_Score — оценка критиков (максимум 100)\n",
    "<br/>User_Score — оценка пользователей (максимум 10)\n",
    "<br/>Rating — рейтинг от организации ESRB (англ. Entertainment Software Rating Board). Эта ассоциация определяет рейтинг компьютерных игр и присваивает им подходящую возрастную категорию.\n",
    "\n",
    "Данные за 2016 год могут быть неполными.\n",
    "\n",
    "<b> Задачи:</b> \n",
    "1) Откройте файл с данными и изучите общую информацию\n",
    "\n",
    "2) Подготовьте данные:\n",
    "<br/>Замените названия столбцов (приведите к нижнему регистру);\n",
    "<br/>Преобразуйте данные в нужные типы. Опишите, в каких столбцах заменили тип данных и почему;\n",
    "<br/>Обработайте пропуски при необходимости:\n",
    "<br/>Объясните, почему заполнили пропуски определённым образом или почему не стали это делать;\n",
    "<br/>Опишите причины, которые могли привести к пропускам;\n",
    "<br/>Обратите внимание на аббревиатуру 'tbd' в столбце с оценкой пользователей. Отдельно разберите это значение и опишите, как его обработать;\n",
    "<br/>Посчитайте суммарные продажи во всех регионах и запишите их в отдельный столбец.\n",
    "\n",
    "3) Проведите исследовательский анализ данных:\n",
    "<br/>Посмотрите, сколько игр выпускалось в разные годы. Важны ли данные за все периоды?\n",
    "<br/>Посмотрите, как менялись продажи по платформам. Выберите платформы с наибольшими суммарными продажами и постройте распределение по годам. За какой характерный срок появляются новые и исчезают старые платформы?\n",
    "<br/>Возьмите данные за соответствующий актуальный период. Актуальный период определите самостоятельно в результате исследования предыдущих вопросов. Основной фактор — эти данные помогут построить прогноз на 2017 год.\n",
    "<br/>Не учитывайте в работе данные за предыдущие годы.\n",
    "<br/>Какие платформы лидируют по продажам, растут или падают? Выберите несколько потенциально прибыльных платформ.\n",
    "<br/>Постройте график «ящик с усами» по глобальным продажам игр в разбивке по платформам. Опишите результат.\n",
    "<br/>Посмотрите, как влияют на продажи внутри одной популярной платформы отзывы пользователей и критиков. Постройте диаграмму рассеяния и посчитайте корреляцию между отзывами и продажами. Сформулируйте выводы.\n",
    "<br/>Соотнесите выводы с продажами игр на других платформах.\n",
    "<br/>Посмотрите на общее распределение игр по жанрам. Что можно сказать о самых прибыльных жанрах? Выделяются ли жанры с высокими и низкими продажами?\n",
    "\n",
    "4) Составьте портрет пользователя каждого региона:\n",
    "<br/> Определите для пользователя каждого региона (NA, EU, JP):\n",
    "<br/>Самые популярные платформы (топ-5). Опишите различия в долях продаж.\n",
    "<br/>Самые популярные жанры (топ-5). Поясните разницу.\n",
    "<br/>Влияет ли рейтинг ESRB на продажи в отдельном регионе?\n",
    "\n",
    "5) Проверьте гипотезы\n",
    "<br/>Средние пользовательские рейтинги платформ Xbox One и PC одинаковые;\n",
    "<br/>Средние пользовательские рейтинги жанров Action (англ. «действие», экшен-игры) и Sports (англ. «спортивные соревнования») разные.\n",
    "<br/>Поясните, как вы сформулировали нулевую и альтернативную гипотезы и какой критерий применили для проверки гипотез и почему.\n",
    "\n",
    "6) Напишите общий вывод"
   ]
  },
  {
   "cell_type": "markdown",
   "metadata": {},
   "source": [
    "<div class=\"alert alert-anger\">\n",
    "<font size=\"4\"><b>❌ Комментарий ревьюера</b></font>\n",
    "    <br /> \n",
    "    <font size=\"3\", color = \"black\">\n",
    "<br />\n",
    "Название придаст вес проекту. Четкий план работ и перечень основных задач позволит коллегам быстрее вникнуть в суть проекта, да и самому будет легче идти к главной цели проекта"
   ]
  },
  {
   "cell_type": "markdown",
   "metadata": {},
   "source": [
    "<div class=\"alert alert-block alert-info\">\n",
    "<b>Комментарий студента:</b> \n",
    "Сделал.\n",
    "</div>"
   ]
  },
  {
   "cell_type": "markdown",
   "metadata": {},
   "source": [
    "Импортируем необходимые в работе библиотеки и знакомимся с данными:"
   ]
  },
  {
   "cell_type": "code",
   "execution_count": 1,
   "metadata": {},
   "outputs": [],
   "source": [
    "import pandas as pd\n",
    "import numpy as np\n",
    "import seaborn as sns\n",
    "import matplotlib.pyplot as plt\n",
    "from scipy import stats as st"
   ]
  },
  {
   "cell_type": "code",
   "execution_count": 2,
   "metadata": {},
   "outputs": [],
   "source": [
    "df_games = pd.read_csv('/datasets/games.csv')"
   ]
  },
  {
   "cell_type": "code",
   "execution_count": 3,
   "metadata": {},
   "outputs": [
    {
     "data": {
      "text/html": [
       "<div>\n",
       "<style scoped>\n",
       "    .dataframe tbody tr th:only-of-type {\n",
       "        vertical-align: middle;\n",
       "    }\n",
       "\n",
       "    .dataframe tbody tr th {\n",
       "        vertical-align: top;\n",
       "    }\n",
       "\n",
       "    .dataframe thead th {\n",
       "        text-align: right;\n",
       "    }\n",
       "</style>\n",
       "<table border=\"1\" class=\"dataframe\">\n",
       "  <thead>\n",
       "    <tr style=\"text-align: right;\">\n",
       "      <th></th>\n",
       "      <th>Name</th>\n",
       "      <th>Platform</th>\n",
       "      <th>Year_of_Release</th>\n",
       "      <th>Genre</th>\n",
       "      <th>NA_sales</th>\n",
       "      <th>EU_sales</th>\n",
       "      <th>JP_sales</th>\n",
       "      <th>Other_sales</th>\n",
       "      <th>Critic_Score</th>\n",
       "      <th>User_Score</th>\n",
       "      <th>Rating</th>\n",
       "    </tr>\n",
       "  </thead>\n",
       "  <tbody>\n",
       "    <tr>\n",
       "      <th>11451</th>\n",
       "      <td>Persona 4: Arena Ultimax</td>\n",
       "      <td>X360</td>\n",
       "      <td>2014.0</td>\n",
       "      <td>Fighting</td>\n",
       "      <td>0.06</td>\n",
       "      <td>0.01</td>\n",
       "      <td>0.00</td>\n",
       "      <td>0.01</td>\n",
       "      <td>85.0</td>\n",
       "      <td>7.4</td>\n",
       "      <td>T</td>\n",
       "    </tr>\n",
       "    <tr>\n",
       "      <th>1996</th>\n",
       "      <td>Sonic the Hedgehog</td>\n",
       "      <td>X360</td>\n",
       "      <td>2006.0</td>\n",
       "      <td>Platform</td>\n",
       "      <td>0.44</td>\n",
       "      <td>0.48</td>\n",
       "      <td>0.00</td>\n",
       "      <td>0.11</td>\n",
       "      <td>46.0</td>\n",
       "      <td>4.4</td>\n",
       "      <td>E10+</td>\n",
       "    </tr>\n",
       "    <tr>\n",
       "      <th>13853</th>\n",
       "      <td>Haneru no Tobira DS: Tanshuku Tetsudou no Yoru</td>\n",
       "      <td>DS</td>\n",
       "      <td>2007.0</td>\n",
       "      <td>Misc</td>\n",
       "      <td>0.00</td>\n",
       "      <td>0.00</td>\n",
       "      <td>0.04</td>\n",
       "      <td>0.00</td>\n",
       "      <td>NaN</td>\n",
       "      <td>NaN</td>\n",
       "      <td>NaN</td>\n",
       "    </tr>\n",
       "    <tr>\n",
       "      <th>7438</th>\n",
       "      <td>Tales of Phantasia: Narikiri Dungeon X</td>\n",
       "      <td>PSP</td>\n",
       "      <td>2010.0</td>\n",
       "      <td>Role-Playing</td>\n",
       "      <td>0.00</td>\n",
       "      <td>0.00</td>\n",
       "      <td>0.21</td>\n",
       "      <td>0.00</td>\n",
       "      <td>NaN</td>\n",
       "      <td>NaN</td>\n",
       "      <td>NaN</td>\n",
       "    </tr>\n",
       "    <tr>\n",
       "      <th>3687</th>\n",
       "      <td>Gekikuukan Pro Yakyuu: At the End of the Centu...</td>\n",
       "      <td>PS2</td>\n",
       "      <td>2000.0</td>\n",
       "      <td>Sports</td>\n",
       "      <td>0.00</td>\n",
       "      <td>0.00</td>\n",
       "      <td>0.54</td>\n",
       "      <td>0.00</td>\n",
       "      <td>NaN</td>\n",
       "      <td>NaN</td>\n",
       "      <td>NaN</td>\n",
       "    </tr>\n",
       "  </tbody>\n",
       "</table>\n",
       "</div>"
      ],
      "text/plain": [
       "                                                    Name Platform  \\\n",
       "11451                           Persona 4: Arena Ultimax     X360   \n",
       "1996                                  Sonic the Hedgehog     X360   \n",
       "13853     Haneru no Tobira DS: Tanshuku Tetsudou no Yoru       DS   \n",
       "7438              Tales of Phantasia: Narikiri Dungeon X      PSP   \n",
       "3687   Gekikuukan Pro Yakyuu: At the End of the Centu...      PS2   \n",
       "\n",
       "       Year_of_Release         Genre  NA_sales  EU_sales  JP_sales  \\\n",
       "11451           2014.0      Fighting      0.06      0.01      0.00   \n",
       "1996            2006.0      Platform      0.44      0.48      0.00   \n",
       "13853           2007.0          Misc      0.00      0.00      0.04   \n",
       "7438            2010.0  Role-Playing      0.00      0.00      0.21   \n",
       "3687            2000.0        Sports      0.00      0.00      0.54   \n",
       "\n",
       "       Other_sales  Critic_Score User_Score Rating  \n",
       "11451         0.01          85.0        7.4      T  \n",
       "1996          0.11          46.0        4.4   E10+  \n",
       "13853         0.00           NaN        NaN    NaN  \n",
       "7438          0.00           NaN        NaN    NaN  \n",
       "3687          0.00           NaN        NaN    NaN  "
      ]
     },
     "execution_count": 3,
     "metadata": {},
     "output_type": "execute_result"
    }
   ],
   "source": [
    "df_games.sample(5)"
   ]
  },
  {
   "cell_type": "markdown",
   "metadata": {},
   "source": [
    "<div class=\"alert alert-success\">\n",
    "<font size=\"4\", color= \"seagreen\"><b>✔️ Комментарий ревьюера</b></font>\n",
    "    <br /> \n",
    "    <font size=\"3\", color = \"black\">\n",
    "<br /> загрузка и первичное знакомство с данными проведены корректно"
   ]
  },
  {
   "cell_type": "markdown",
   "metadata": {},
   "source": [
    "Приведем столбцы к нижнему регистру:"
   ]
  },
  {
   "cell_type": "code",
   "execution_count": 4,
   "metadata": {},
   "outputs": [],
   "source": [
    "df_games.columns = df_games.columns.str.lower()"
   ]
  },
  {
   "cell_type": "markdown",
   "metadata": {},
   "source": [
    "<div class=\"alert alert-success\">\n",
    "<font size=\"4\", color= \"seagreen\"><b>✔️ Комментарий ревьюера</b></font>\n",
    "    <br /> \n",
    "    <font size=\"3\", color = \"black\">\n",
    "<br />стоит привести к нижнему регистру и содержимое категориальных столбцов, в т.ч. с целью поиска дубликатов"
   ]
  },
  {
   "cell_type": "markdown",
   "metadata": {},
   "source": [
    "Прежде, чем преобразовывать данные, необходимо ознакомиться с ними:"
   ]
  },
  {
   "cell_type": "code",
   "execution_count": 5,
   "metadata": {},
   "outputs": [
    {
     "name": "stdout",
     "output_type": "stream",
     "text": [
      "<class 'pandas.core.frame.DataFrame'>\n",
      "RangeIndex: 16715 entries, 0 to 16714\n",
      "Data columns (total 11 columns):\n",
      " #   Column           Non-Null Count  Dtype  \n",
      "---  ------           --------------  -----  \n",
      " 0   name             16713 non-null  object \n",
      " 1   platform         16715 non-null  object \n",
      " 2   year_of_release  16446 non-null  float64\n",
      " 3   genre            16713 non-null  object \n",
      " 4   na_sales         16715 non-null  float64\n",
      " 5   eu_sales         16715 non-null  float64\n",
      " 6   jp_sales         16715 non-null  float64\n",
      " 7   other_sales      16715 non-null  float64\n",
      " 8   critic_score     8137 non-null   float64\n",
      " 9   user_score       10014 non-null  object \n",
      " 10  rating           9949 non-null   object \n",
      "dtypes: float64(6), object(5)\n",
      "memory usage: 1.4+ MB\n"
     ]
    }
   ],
   "source": [
    "df_games.info()"
   ]
  },
  {
   "cell_type": "markdown",
   "metadata": {},
   "source": [
    "year_of_release - год выхода изменим на целочисленное значение:"
   ]
  },
  {
   "cell_type": "code",
   "execution_count": 6,
   "metadata": {},
   "outputs": [],
   "source": [
    "df_games['year_of_release'] = df_games['year_of_release'].astype('Int64')"
   ]
  },
  {
   "cell_type": "markdown",
   "metadata": {},
   "source": [
    "critic_score - можно изменить на целочисленное значение, но, возможно, имеется зависимость от данных user_score при дальнейшем анализе. Повременим.\n",
    "user_score - можно было исправить тип данных, но мешает рейтинг \"tbd\", изменим тип данных после обработки, если потребуется.\n",
    "\n",
    "Пока надо обработать столбцы. Для начала обработаем пропуски."
   ]
  },
  {
   "cell_type": "code",
   "execution_count": 7,
   "metadata": {},
   "outputs": [
    {
     "data": {
      "text/plain": [
       "0"
      ]
     },
     "execution_count": 7,
     "metadata": {},
     "output_type": "execute_result"
    }
   ],
   "source": [
    "df_games.duplicated().sum()"
   ]
  },
  {
   "cell_type": "markdown",
   "metadata": {},
   "source": [
    "Полных дубликатов нет."
   ]
  },
  {
   "cell_type": "code",
   "execution_count": 8,
   "metadata": {},
   "outputs": [
    {
     "data": {
      "text/plain": [
       "name                  2\n",
       "platform              0\n",
       "year_of_release     269\n",
       "genre                 2\n",
       "na_sales              0\n",
       "eu_sales              0\n",
       "jp_sales              0\n",
       "other_sales           0\n",
       "critic_score       8578\n",
       "user_score         6701\n",
       "rating             6766\n",
       "dtype: int64"
      ]
     },
     "execution_count": 8,
     "metadata": {},
     "output_type": "execute_result"
    }
   ],
   "source": [
    "df_games.isna().sum()"
   ]
  },
  {
   "cell_type": "markdown",
   "metadata": {},
   "source": [
    "Удалим пропуски в столбцах name и genre, их удаление не повлияет на данные:"
   ]
  },
  {
   "cell_type": "code",
   "execution_count": 9,
   "metadata": {},
   "outputs": [],
   "source": [
    "df_games = df_games.dropna(subset=['name']).reset_index(drop=True)\n",
    "df_games = df_games.dropna(subset=['genre']).reset_index(drop=True)"
   ]
  },
  {
   "cell_type": "markdown",
   "metadata": {},
   "source": [
    "Также имеется 269 пропусков из 16 715 записей в столбце year_of_release – это менее 2% данных. Даже если мы удалим эти пропуски, ничего критичного не случится. Однако есть теория, что дата выхода игр на разных планформах одинаковая. Проверить теорию легко: возьмем одну из 269 игр с неуказанным годом и проверим, выпускалась ли она на других платформах."
   ]
  },
  {
   "cell_type": "code",
   "execution_count": 10,
   "metadata": {},
   "outputs": [
    {
     "data": {
      "text/html": [
       "<div>\n",
       "<style scoped>\n",
       "    .dataframe tbody tr th:only-of-type {\n",
       "        vertical-align: middle;\n",
       "    }\n",
       "\n",
       "    .dataframe tbody tr th {\n",
       "        vertical-align: top;\n",
       "    }\n",
       "\n",
       "    .dataframe thead th {\n",
       "        text-align: right;\n",
       "    }\n",
       "</style>\n",
       "<table border=\"1\" class=\"dataframe\">\n",
       "  <thead>\n",
       "    <tr style=\"text-align: right;\">\n",
       "      <th></th>\n",
       "      <th>name</th>\n",
       "      <th>platform</th>\n",
       "      <th>year_of_release</th>\n",
       "      <th>genre</th>\n",
       "      <th>na_sales</th>\n",
       "      <th>eu_sales</th>\n",
       "      <th>jp_sales</th>\n",
       "      <th>other_sales</th>\n",
       "      <th>critic_score</th>\n",
       "      <th>user_score</th>\n",
       "      <th>rating</th>\n",
       "    </tr>\n",
       "  </thead>\n",
       "  <tbody>\n",
       "    <tr>\n",
       "      <th>183</th>\n",
       "      <td>Madden NFL 2004</td>\n",
       "      <td>PS2</td>\n",
       "      <td>&lt;NA&gt;</td>\n",
       "      <td>Sports</td>\n",
       "      <td>4.26</td>\n",
       "      <td>0.26</td>\n",
       "      <td>0.01</td>\n",
       "      <td>0.71</td>\n",
       "      <td>94.0</td>\n",
       "      <td>8.5</td>\n",
       "      <td>E</td>\n",
       "    </tr>\n",
       "    <tr>\n",
       "      <th>377</th>\n",
       "      <td>FIFA Soccer 2004</td>\n",
       "      <td>PS2</td>\n",
       "      <td>&lt;NA&gt;</td>\n",
       "      <td>Sports</td>\n",
       "      <td>0.59</td>\n",
       "      <td>2.36</td>\n",
       "      <td>0.04</td>\n",
       "      <td>0.51</td>\n",
       "      <td>84.0</td>\n",
       "      <td>6.4</td>\n",
       "      <td>E</td>\n",
       "    </tr>\n",
       "    <tr>\n",
       "      <th>456</th>\n",
       "      <td>LEGO Batman: The Videogame</td>\n",
       "      <td>Wii</td>\n",
       "      <td>&lt;NA&gt;</td>\n",
       "      <td>Action</td>\n",
       "      <td>1.80</td>\n",
       "      <td>0.97</td>\n",
       "      <td>0.00</td>\n",
       "      <td>0.29</td>\n",
       "      <td>74.0</td>\n",
       "      <td>7.9</td>\n",
       "      <td>E10+</td>\n",
       "    </tr>\n",
       "    <tr>\n",
       "      <th>475</th>\n",
       "      <td>wwe Smackdown vs. Raw 2006</td>\n",
       "      <td>PS2</td>\n",
       "      <td>&lt;NA&gt;</td>\n",
       "      <td>Fighting</td>\n",
       "      <td>1.57</td>\n",
       "      <td>1.02</td>\n",
       "      <td>0.00</td>\n",
       "      <td>0.41</td>\n",
       "      <td>NaN</td>\n",
       "      <td>NaN</td>\n",
       "      <td>NaN</td>\n",
       "    </tr>\n",
       "    <tr>\n",
       "      <th>609</th>\n",
       "      <td>Space Invaders</td>\n",
       "      <td>2600</td>\n",
       "      <td>&lt;NA&gt;</td>\n",
       "      <td>Shooter</td>\n",
       "      <td>2.36</td>\n",
       "      <td>0.14</td>\n",
       "      <td>0.00</td>\n",
       "      <td>0.03</td>\n",
       "      <td>NaN</td>\n",
       "      <td>NaN</td>\n",
       "      <td>NaN</td>\n",
       "    </tr>\n",
       "  </tbody>\n",
       "</table>\n",
       "</div>"
      ],
      "text/plain": [
       "                           name platform  year_of_release     genre  na_sales  \\\n",
       "183             Madden NFL 2004      PS2             <NA>    Sports      4.26   \n",
       "377            FIFA Soccer 2004      PS2             <NA>    Sports      0.59   \n",
       "456  LEGO Batman: The Videogame      Wii             <NA>    Action      1.80   \n",
       "475  wwe Smackdown vs. Raw 2006      PS2             <NA>  Fighting      1.57   \n",
       "609              Space Invaders     2600             <NA>   Shooter      2.36   \n",
       "\n",
       "     eu_sales  jp_sales  other_sales  critic_score user_score rating  \n",
       "183      0.26      0.01         0.71          94.0        8.5      E  \n",
       "377      2.36      0.04         0.51          84.0        6.4      E  \n",
       "456      0.97      0.00         0.29          74.0        7.9   E10+  \n",
       "475      1.02      0.00         0.41           NaN        NaN    NaN  \n",
       "609      0.14      0.00         0.03           NaN        NaN    NaN  "
      ]
     },
     "execution_count": 10,
     "metadata": {},
     "output_type": "execute_result"
    }
   ],
   "source": [
    "df_games[df_games['year_of_release'].isna()].head()"
   ]
  },
  {
   "cell_type": "code",
   "execution_count": 11,
   "metadata": {},
   "outputs": [
    {
     "data": {
      "text/html": [
       "<div>\n",
       "<style scoped>\n",
       "    .dataframe tbody tr th:only-of-type {\n",
       "        vertical-align: middle;\n",
       "    }\n",
       "\n",
       "    .dataframe tbody tr th {\n",
       "        vertical-align: top;\n",
       "    }\n",
       "\n",
       "    .dataframe thead th {\n",
       "        text-align: right;\n",
       "    }\n",
       "</style>\n",
       "<table border=\"1\" class=\"dataframe\">\n",
       "  <thead>\n",
       "    <tr style=\"text-align: right;\">\n",
       "      <th></th>\n",
       "      <th>name</th>\n",
       "      <th>platform</th>\n",
       "      <th>year_of_release</th>\n",
       "      <th>genre</th>\n",
       "      <th>na_sales</th>\n",
       "      <th>eu_sales</th>\n",
       "      <th>jp_sales</th>\n",
       "      <th>other_sales</th>\n",
       "      <th>critic_score</th>\n",
       "      <th>user_score</th>\n",
       "      <th>rating</th>\n",
       "    </tr>\n",
       "  </thead>\n",
       "  <tbody>\n",
       "    <tr>\n",
       "      <th>377</th>\n",
       "      <td>FIFA Soccer 2004</td>\n",
       "      <td>PS2</td>\n",
       "      <td>&lt;NA&gt;</td>\n",
       "      <td>Sports</td>\n",
       "      <td>0.59</td>\n",
       "      <td>2.36</td>\n",
       "      <td>0.04</td>\n",
       "      <td>0.51</td>\n",
       "      <td>84.0</td>\n",
       "      <td>6.4</td>\n",
       "      <td>E</td>\n",
       "    </tr>\n",
       "    <tr>\n",
       "      <th>2605</th>\n",
       "      <td>FIFA Soccer 2004</td>\n",
       "      <td>XB</td>\n",
       "      <td>2003</td>\n",
       "      <td>Sports</td>\n",
       "      <td>0.24</td>\n",
       "      <td>0.49</td>\n",
       "      <td>0.00</td>\n",
       "      <td>0.05</td>\n",
       "      <td>82.0</td>\n",
       "      <td>8.2</td>\n",
       "      <td>E</td>\n",
       "    </tr>\n",
       "    <tr>\n",
       "      <th>12028</th>\n",
       "      <td>FIFA Soccer 2004</td>\n",
       "      <td>GC</td>\n",
       "      <td>2003</td>\n",
       "      <td>Sports</td>\n",
       "      <td>0.05</td>\n",
       "      <td>0.01</td>\n",
       "      <td>0.00</td>\n",
       "      <td>0.00</td>\n",
       "      <td>83.0</td>\n",
       "      <td>6.2</td>\n",
       "      <td>E</td>\n",
       "    </tr>\n",
       "    <tr>\n",
       "      <th>13085</th>\n",
       "      <td>FIFA Soccer 2004</td>\n",
       "      <td>GBA</td>\n",
       "      <td>2003</td>\n",
       "      <td>Sports</td>\n",
       "      <td>0.04</td>\n",
       "      <td>0.01</td>\n",
       "      <td>0.00</td>\n",
       "      <td>0.00</td>\n",
       "      <td>82.0</td>\n",
       "      <td>7.9</td>\n",
       "      <td>E</td>\n",
       "    </tr>\n",
       "  </tbody>\n",
       "</table>\n",
       "</div>"
      ],
      "text/plain": [
       "                   name platform  year_of_release   genre  na_sales  eu_sales  \\\n",
       "377    FIFA Soccer 2004      PS2             <NA>  Sports      0.59      2.36   \n",
       "2605   FIFA Soccer 2004       XB             2003  Sports      0.24      0.49   \n",
       "12028  FIFA Soccer 2004       GC             2003  Sports      0.05      0.01   \n",
       "13085  FIFA Soccer 2004      GBA             2003  Sports      0.04      0.01   \n",
       "\n",
       "       jp_sales  other_sales  critic_score user_score rating  \n",
       "377        0.04         0.51          84.0        6.4      E  \n",
       "2605       0.00         0.05          82.0        8.2      E  \n",
       "12028      0.00         0.00          83.0        6.2      E  \n",
       "13085      0.00         0.00          82.0        7.9      E  "
      ]
     },
     "execution_count": 11,
     "metadata": {},
     "output_type": "execute_result"
    }
   ],
   "source": [
    "df_games.query('name == \"FIFA Soccer 2004\"')"
   ]
  },
  {
   "cell_type": "markdown",
   "metadata": {},
   "source": [
    "Как мы видим, дата выхода совпадает. Можно попробовать восполнить пробелы в годах за счет наличия в датасете информации об одних и тех же играх, только выпущенных для разных платформ."
   ]
  },
  {
   "cell_type": "code",
   "execution_count": 12,
   "metadata": {},
   "outputs": [],
   "source": [
    "for i in df_games[df_games['year_of_release'].isnull() == True].index:  \n",
    "    df_games['year_of_release'][i] = df_games.loc[df_games['name'] == df_games['name'][i], 'year_of_release'].max()"
   ]
  },
  {
   "cell_type": "code",
   "execution_count": 13,
   "metadata": {},
   "outputs": [
    {
     "data": {
      "text/plain": [
       "146"
      ]
     },
     "execution_count": 13,
     "metadata": {},
     "output_type": "execute_result"
    }
   ],
   "source": [
    "df_games['year_of_release'].isna().sum()"
   ]
  },
  {
   "cell_type": "markdown",
   "metadata": {},
   "source": [
    "<div class=\"alert alert-warning\", style=\"border:solid coral 3px; padding: 20px\">\n",
    "<font size=\"4\", color = \"DimGrey\"><b>⚠️ Комментарий ревьюера</b></font>\n",
    "    <br /> \n",
    "    <font size=\"3\", color = \"black\">\n",
    "<br />Ты проделал большую работу по восстановлению пропусков. Но такую значительную долю пропусков вряд ли можно корректно восстановить по имеющимся значениям. "
   ]
  },
  {
   "cell_type": "markdown",
   "metadata": {},
   "source": [
    "<div class=\"alert alert-block alert-info\">\n",
    "<b>Комментарий студента:</b> \n",
    "Что можно восстановили, что нельзя удалили. Не совсем понимаю твое предложение:можно полностью удалить пустые данные по year_of_release, не восстанавливая их (хотя почему?), 2% большой роли не сыграют.\n",
    "</div>"
   ]
  },
  {
   "cell_type": "markdown",
   "metadata": {},
   "source": [
    "<div style=\"border:solid steelblue 3px; padding: 20px\">\n",
    "<font size=\"4\">🍕<b> Комментарий ревьюера в2</b></font>\n",
    "<br /> \n",
    "<font size=\"3\", color = \"black\">\n",
    "<br />мы работали с неактуальными записями, 90% которых принадлежит устаревшим платформам ..."
   ]
  },
  {
   "cell_type": "markdown",
   "metadata": {},
   "source": [
    "Уменьшили количество строк, оставшиеся заполнить не представляется возможным, поэтому удалим их (1% данных):"
   ]
  },
  {
   "cell_type": "code",
   "execution_count": 14,
   "metadata": {},
   "outputs": [],
   "source": [
    "df_games.dropna(subset = ['year_of_release'], inplace=True)"
   ]
  },
  {
   "cell_type": "code",
   "execution_count": 15,
   "metadata": {},
   "outputs": [
    {
     "data": {
      "text/plain": [
       "name                  0\n",
       "platform              0\n",
       "year_of_release       0\n",
       "genre                 0\n",
       "na_sales              0\n",
       "eu_sales              0\n",
       "jp_sales              0\n",
       "other_sales           0\n",
       "critic_score       8492\n",
       "user_score         6633\n",
       "rating             6699\n",
       "dtype: int64"
      ]
     },
     "execution_count": 15,
     "metadata": {},
     "output_type": "execute_result"
    }
   ],
   "source": [
    "df_games.isna().sum()"
   ]
  },
  {
   "cell_type": "markdown",
   "metadata": {},
   "source": [
    "Прежде, чем заполнять данные по рейтингу, изучим аббревиатура TBD. В рейтингах игрового мира это значит 'To Be Determined' - 'Будет определено'. Т.е. это то же самое, что неизвестное значение. Поэтому, можно смело заменить значение 'tbd' на 'NaN' и поменять форматы столбцов user_score и critic_score на float:"
   ]
  },
  {
   "cell_type": "code",
   "execution_count": 16,
   "metadata": {},
   "outputs": [],
   "source": [
    "df_games.loc[df_games['user_score'] == 'tbd', 'user_score'] = float('nan')"
   ]
  },
  {
   "cell_type": "markdown",
   "metadata": {},
   "source": [
    "<div class=\"alert alert-success\">\n",
    "<font size=\"4\", color= \"seagreen\"><b>✔️ Комментарий ревьюера</b></font>\n",
    "    <br /> \n",
    "    <font size=\"3\", color = \"black\">\n",
    "<br />\n",
    "Верно, по своей сути tbd и является Nan. Отлично, что определяешь неявные пропущенные значения."
   ]
  },
  {
   "cell_type": "code",
   "execution_count": 17,
   "metadata": {},
   "outputs": [],
   "source": [
    "df_games['critic_score'] = df_games['critic_score'].astype(float)\n",
    "df_games['user_score'] = df_games['user_score'].astype(float)"
   ]
  },
  {
   "cell_type": "code",
   "execution_count": 18,
   "metadata": {},
   "outputs": [
    {
     "data": {
      "text/html": [
       "<div>\n",
       "<style scoped>\n",
       "    .dataframe tbody tr th:only-of-type {\n",
       "        vertical-align: middle;\n",
       "    }\n",
       "\n",
       "    .dataframe tbody tr th {\n",
       "        vertical-align: top;\n",
       "    }\n",
       "\n",
       "    .dataframe thead th {\n",
       "        text-align: right;\n",
       "    }\n",
       "</style>\n",
       "<table border=\"1\" class=\"dataframe\">\n",
       "  <thead>\n",
       "    <tr style=\"text-align: right;\">\n",
       "      <th></th>\n",
       "      <th>name</th>\n",
       "      <th>platform</th>\n",
       "      <th>year_of_release</th>\n",
       "      <th>genre</th>\n",
       "      <th>na_sales</th>\n",
       "      <th>eu_sales</th>\n",
       "      <th>jp_sales</th>\n",
       "      <th>other_sales</th>\n",
       "      <th>critic_score</th>\n",
       "      <th>user_score</th>\n",
       "      <th>rating</th>\n",
       "    </tr>\n",
       "  </thead>\n",
       "  <tbody>\n",
       "    <tr>\n",
       "      <th>3702</th>\n",
       "      <td>Dynasty Warriors: Gundam 3</td>\n",
       "      <td>PS3</td>\n",
       "      <td>2010</td>\n",
       "      <td>Action</td>\n",
       "      <td>0.11</td>\n",
       "      <td>0.04</td>\n",
       "      <td>0.36</td>\n",
       "      <td>0.02</td>\n",
       "      <td>58.0</td>\n",
       "      <td>7.5</td>\n",
       "      <td>T</td>\n",
       "    </tr>\n",
       "    <tr>\n",
       "      <th>15289</th>\n",
       "      <td>Left 4 Dead</td>\n",
       "      <td>PC</td>\n",
       "      <td>2008</td>\n",
       "      <td>Shooter</td>\n",
       "      <td>0.00</td>\n",
       "      <td>0.02</td>\n",
       "      <td>0.00</td>\n",
       "      <td>0.00</td>\n",
       "      <td>89.0</td>\n",
       "      <td>9.2</td>\n",
       "      <td>M</td>\n",
       "    </tr>\n",
       "    <tr>\n",
       "      <th>15419</th>\n",
       "      <td>Aria: The Natural ~Tooi Yume no Mirage~</td>\n",
       "      <td>PS2</td>\n",
       "      <td>2006</td>\n",
       "      <td>Adventure</td>\n",
       "      <td>0.00</td>\n",
       "      <td>0.00</td>\n",
       "      <td>0.02</td>\n",
       "      <td>0.00</td>\n",
       "      <td>NaN</td>\n",
       "      <td>NaN</td>\n",
       "      <td>NaN</td>\n",
       "    </tr>\n",
       "    <tr>\n",
       "      <th>11436</th>\n",
       "      <td>Risen 3: Titan Lords</td>\n",
       "      <td>PS3</td>\n",
       "      <td>2014</td>\n",
       "      <td>Role-Playing</td>\n",
       "      <td>0.02</td>\n",
       "      <td>0.05</td>\n",
       "      <td>0.00</td>\n",
       "      <td>0.01</td>\n",
       "      <td>36.0</td>\n",
       "      <td>3.7</td>\n",
       "      <td>M</td>\n",
       "    </tr>\n",
       "    <tr>\n",
       "      <th>7034</th>\n",
       "      <td>Musou Orochi Z</td>\n",
       "      <td>PS3</td>\n",
       "      <td>2009</td>\n",
       "      <td>Action</td>\n",
       "      <td>0.00</td>\n",
       "      <td>0.00</td>\n",
       "      <td>0.23</td>\n",
       "      <td>0.00</td>\n",
       "      <td>NaN</td>\n",
       "      <td>NaN</td>\n",
       "      <td>NaN</td>\n",
       "    </tr>\n",
       "  </tbody>\n",
       "</table>\n",
       "</div>"
      ],
      "text/plain": [
       "                                          name platform  year_of_release  \\\n",
       "3702                Dynasty Warriors: Gundam 3      PS3             2010   \n",
       "15289                              Left 4 Dead       PC             2008   \n",
       "15419  Aria: The Natural ~Tooi Yume no Mirage~      PS2             2006   \n",
       "11436                     Risen 3: Titan Lords      PS3             2014   \n",
       "7034                            Musou Orochi Z      PS3             2009   \n",
       "\n",
       "              genre  na_sales  eu_sales  jp_sales  other_sales  critic_score  \\\n",
       "3702         Action      0.11      0.04      0.36         0.02          58.0   \n",
       "15289       Shooter      0.00      0.02      0.00         0.00          89.0   \n",
       "15419     Adventure      0.00      0.00      0.02         0.00           NaN   \n",
       "11436  Role-Playing      0.02      0.05      0.00         0.01          36.0   \n",
       "7034         Action      0.00      0.00      0.23         0.00           NaN   \n",
       "\n",
       "       user_score rating  \n",
       "3702          7.5      T  \n",
       "15289         9.2      M  \n",
       "15419         NaN    NaN  \n",
       "11436         3.7      M  \n",
       "7034          NaN    NaN  "
      ]
     },
     "execution_count": 18,
     "metadata": {},
     "output_type": "execute_result"
    }
   ],
   "source": [
    "df_games.sample(5)"
   ]
  },
  {
   "cell_type": "markdown",
   "metadata": {},
   "source": [
    "Что касается остальных пропусков, для их заполнения у нас недостаточно данных. Лучше будем работать с меньшим количеством данных но хорошего качества. Данные подготовлены к дальнейшему анализу. Посчитаем суммарные продажи во всех регионах и запишем их в отдельный столбец. Выведем на экран получившуюся таблицу."
   ]
  },
  {
   "cell_type": "code",
   "execution_count": 19,
   "metadata": {},
   "outputs": [],
   "source": [
    "df_games['total_sales'] = df_games['na_sales'] + df_games['eu_sales'] + df_games['jp_sales'] + df_games['other_sales']"
   ]
  },
  {
   "cell_type": "markdown",
   "metadata": {},
   "source": [
    "<div style=\"border:solid steelblue 3px; padding: 20px\">\n",
    "<font size=\"4\">🍕<b> Комментарий ревьюера</b></font>\n",
    "<br /> \n",
    "<font size=\"3\", color = \"black\">\n",
    "<br />\n",
    "можно\n",
    "    \n",
    "    df['total_sales'] = df[['na_sales','eu_sales','jp_sales', 'other_sales']].sum(axis = 1)"
   ]
  },
  {
   "cell_type": "code",
   "execution_count": 20,
   "metadata": {
    "scrolled": false
   },
   "outputs": [
    {
     "data": {
      "text/html": [
       "<div>\n",
       "<style scoped>\n",
       "    .dataframe tbody tr th:only-of-type {\n",
       "        vertical-align: middle;\n",
       "    }\n",
       "\n",
       "    .dataframe tbody tr th {\n",
       "        vertical-align: top;\n",
       "    }\n",
       "\n",
       "    .dataframe thead th {\n",
       "        text-align: right;\n",
       "    }\n",
       "</style>\n",
       "<table border=\"1\" class=\"dataframe\">\n",
       "  <thead>\n",
       "    <tr style=\"text-align: right;\">\n",
       "      <th></th>\n",
       "      <th>name</th>\n",
       "      <th>platform</th>\n",
       "      <th>year_of_release</th>\n",
       "      <th>genre</th>\n",
       "      <th>na_sales</th>\n",
       "      <th>eu_sales</th>\n",
       "      <th>jp_sales</th>\n",
       "      <th>other_sales</th>\n",
       "      <th>critic_score</th>\n",
       "      <th>user_score</th>\n",
       "      <th>rating</th>\n",
       "      <th>total_sales</th>\n",
       "    </tr>\n",
       "  </thead>\n",
       "  <tbody>\n",
       "    <tr>\n",
       "      <th>2780</th>\n",
       "      <td>Sword of Mana</td>\n",
       "      <td>GBA</td>\n",
       "      <td>2003</td>\n",
       "      <td>Role-Playing</td>\n",
       "      <td>0.31</td>\n",
       "      <td>0.11</td>\n",
       "      <td>0.30</td>\n",
       "      <td>0.02</td>\n",
       "      <td>72.0</td>\n",
       "      <td>8.3</td>\n",
       "      <td>E</td>\n",
       "      <td>0.74</td>\n",
       "    </tr>\n",
       "    <tr>\n",
       "      <th>266</th>\n",
       "      <td>Namco Museum</td>\n",
       "      <td>GBA</td>\n",
       "      <td>2001</td>\n",
       "      <td>Misc</td>\n",
       "      <td>3.00</td>\n",
       "      <td>1.11</td>\n",
       "      <td>0.05</td>\n",
       "      <td>0.07</td>\n",
       "      <td>79.0</td>\n",
       "      <td>7.3</td>\n",
       "      <td>E</td>\n",
       "      <td>4.23</td>\n",
       "    </tr>\n",
       "    <tr>\n",
       "      <th>10348</th>\n",
       "      <td>ArmA III</td>\n",
       "      <td>PC</td>\n",
       "      <td>2013</td>\n",
       "      <td>Shooter</td>\n",
       "      <td>0.00</td>\n",
       "      <td>0.10</td>\n",
       "      <td>0.00</td>\n",
       "      <td>0.01</td>\n",
       "      <td>74.0</td>\n",
       "      <td>7.4</td>\n",
       "      <td>M</td>\n",
       "      <td>0.11</td>\n",
       "    </tr>\n",
       "    <tr>\n",
       "      <th>12770</th>\n",
       "      <td>SD Gundam G Generation Wars</td>\n",
       "      <td>Wii</td>\n",
       "      <td>2009</td>\n",
       "      <td>Strategy</td>\n",
       "      <td>0.00</td>\n",
       "      <td>0.00</td>\n",
       "      <td>0.06</td>\n",
       "      <td>0.00</td>\n",
       "      <td>NaN</td>\n",
       "      <td>NaN</td>\n",
       "      <td>NaN</td>\n",
       "      <td>0.06</td>\n",
       "    </tr>\n",
       "    <tr>\n",
       "      <th>5184</th>\n",
       "      <td>Bionic Commando</td>\n",
       "      <td>PS3</td>\n",
       "      <td>2009</td>\n",
       "      <td>Platform</td>\n",
       "      <td>0.12</td>\n",
       "      <td>0.17</td>\n",
       "      <td>0.01</td>\n",
       "      <td>0.06</td>\n",
       "      <td>71.0</td>\n",
       "      <td>7.4</td>\n",
       "      <td>M</td>\n",
       "      <td>0.36</td>\n",
       "    </tr>\n",
       "  </tbody>\n",
       "</table>\n",
       "</div>"
      ],
      "text/plain": [
       "                              name platform  year_of_release         genre  \\\n",
       "2780                 Sword of Mana      GBA             2003  Role-Playing   \n",
       "266                   Namco Museum      GBA             2001          Misc   \n",
       "10348                     ArmA III       PC             2013       Shooter   \n",
       "12770  SD Gundam G Generation Wars      Wii             2009      Strategy   \n",
       "5184               Bionic Commando      PS3             2009      Platform   \n",
       "\n",
       "       na_sales  eu_sales  jp_sales  other_sales  critic_score  user_score  \\\n",
       "2780       0.31      0.11      0.30         0.02          72.0         8.3   \n",
       "266        3.00      1.11      0.05         0.07          79.0         7.3   \n",
       "10348      0.00      0.10      0.00         0.01          74.0         7.4   \n",
       "12770      0.00      0.00      0.06         0.00           NaN         NaN   \n",
       "5184       0.12      0.17      0.01         0.06          71.0         7.4   \n",
       "\n",
       "      rating  total_sales  \n",
       "2780       E         0.74  \n",
       "266        E         4.23  \n",
       "10348      M         0.11  \n",
       "12770    NaN         0.06  \n",
       "5184       M         0.36  "
      ]
     },
     "execution_count": 20,
     "metadata": {},
     "output_type": "execute_result"
    }
   ],
   "source": [
    "df_games.sample(5)"
   ]
  },
  {
   "cell_type": "markdown",
   "metadata": {},
   "source": [
    "## завершение подготовки данных"
   ]
  },
  {
   "cell_type": "code",
   "execution_count": 21,
   "metadata": {
    "scrolled": true
   },
   "outputs": [
    {
     "name": "stdout",
     "output_type": "stream",
     "text": [
      "<class 'pandas.core.frame.DataFrame'>\n",
      "Int64Index: 16567 entries, 0 to 16712\n",
      "Data columns (total 12 columns):\n",
      " #   Column           Non-Null Count  Dtype  \n",
      "---  ------           --------------  -----  \n",
      " 0   name             16567 non-null  object \n",
      " 1   platform         16567 non-null  object \n",
      " 2   year_of_release  16567 non-null  Int64  \n",
      " 3   genre            16567 non-null  object \n",
      " 4   na_sales         16567 non-null  float64\n",
      " 5   eu_sales         16567 non-null  float64\n",
      " 6   jp_sales         16567 non-null  float64\n",
      " 7   other_sales      16567 non-null  float64\n",
      " 8   critic_score     8075 non-null   float64\n",
      " 9   user_score       7540 non-null   float64\n",
      " 10  rating           9868 non-null   object \n",
      " 11  total_sales      16567 non-null  float64\n",
      "dtypes: Int64(1), float64(7), object(4)\n",
      "memory usage: 1.7+ MB\n"
     ]
    }
   ],
   "source": [
    "# check\n",
    "df_games.info()"
   ]
  },
  {
   "cell_type": "markdown",
   "metadata": {},
   "source": [
    "<div class=\"alert alert-anger\">\n",
    "<font size=\"4\"><b>❌ Комментарий ревьюера</b></font>\n",
    "    <br /> \n",
    "    <font size=\"3\", color = \"black\">\n",
    "<br />          \n",
    "Рейтинг — категориальные данные, стоит внимательно взглянуть на содержимое и предложить чем заполнить пропуски, возможно это поможет найти необычные различия в поведении клиентов, допом можно подумать над сокращением количества категорий\n",
    "        \n",
    "Т.к. записи с пропусками не учитываются при группировке данных, мы не сможем выявить реальный портрет клиента"
   ]
  },
  {
   "cell_type": "markdown",
   "metadata": {},
   "source": [
    "<div class=\"alert alert-block alert-info\">\n",
    "<b>Комментарий студента:</b> \n",
    "Вроде сделал (внизу)\n",
    "</div>"
   ]
  },
  {
   "cell_type": "markdown",
   "metadata": {},
   "source": [
    "Изучим столбец rating и заполним отсутствующие значения:"
   ]
  },
  {
   "cell_type": "code",
   "execution_count": 22,
   "metadata": {},
   "outputs": [
    {
     "data": {
      "text/plain": [
       "E       3958\n",
       "T       2930\n",
       "M       1554\n",
       "E10+    1412\n",
       "EC         8\n",
       "K-A        3\n",
       "RP         2\n",
       "AO         1\n",
       "Name: rating, dtype: int64"
      ]
     },
     "execution_count": 22,
     "metadata": {},
     "output_type": "execute_result"
    }
   ],
   "source": [
    "df_games['rating'].value_counts()"
   ]
  },
  {
   "cell_type": "markdown",
   "metadata": {},
   "source": [
    "<div style=\"border:solid steelblue 3px; padding: 20px\">\n",
    "<font size=\"4\">🍕<b> Комментарий ревьюера в2</b></font>\n",
    "<br /> \n",
    "<font size=\"3\", color = \"black\">\n",
    "<br />важно не переименование, а сокращение категорий, сравни кол-во записей в нижней части и верхней части таблицы...\n",
    "    \n",
    "        E       3958\n",
    "        T       2930\n",
    "        M       1554\n",
    "        E10+    1412\n",
    "        EC         8\n",
    "        K-A        3\n",
    "        RP         2\n",
    "        AO         1\n",
    "    \n",
    "плюс заполнение пропусков - пятая категория, или RP"
   ]
  },
  {
   "cell_type": "markdown",
   "metadata": {},
   "source": [
    "Сразу обратим внимания на рейтинг, присваиваемый малому количеству игр:\n",
    "EC - («Early childhood») — «Для детей младшего возраста»;\n",
    "K-A - (\"Kids to Adults\") - рейтинг использовался ранее, можно смело менять на \"Для всех\";\n",
    "RP - («Rating Pending») — «Рейтинг ожидается»;\n",
    "AO - («Adults Only 18+») — «Только для взрослых».\n",
    "Присвоим для удобства полные названия категориям рейтинга."
   ]
  },
  {
   "cell_type": "code",
   "execution_count": 23,
   "metadata": {},
   "outputs": [],
   "source": [
    "df_games = df_games.replace({'rating':{'E':'everyone', 'M':'mature_17+', 'T':'teen', 'E10+':'everyone_10+', 'AO':'adult_only_18+',\n",
    "                    'K-A':'everyone', 'EC':'early_childhood', 'RP':'rating_pending'}})"
   ]
  },
  {
   "cell_type": "markdown",
   "metadata": {},
   "source": [
    "ESRB - американская рейтинговая система. Помимо нее есть и другие организации:\n",
    "PEGI — европейская рейтинговая система компьютерных и видеоигр;\n",
    "CERO — японская рейтинговая организация.\n",
    "Можем сделать вывод (и по сформированной таблице с играми это прослеживается), что рейтинг ESRB с нулевыми значениями - это не присвоенный рейтинг. Он относится как к японским и европейским играм, так и к играм, вышедшим до 1994 года (когда и была основана ESRB). Можно заменить его на вполне нейтральное значение TBD. "
   ]
  },
  {
   "cell_type": "code",
   "execution_count": 24,
   "metadata": {},
   "outputs": [],
   "source": [
    "df_games['rating'].fillna('tbd', inplace=True)"
   ]
  },
  {
   "cell_type": "markdown",
   "metadata": {},
   "source": [
    "<b> ИССЛЕДОВАТЕЛЬСКИЙ АНАЛИЗ ДАННЫХ</b> "
   ]
  },
  {
   "cell_type": "markdown",
   "metadata": {},
   "source": [
    "Посмотрим, сколько игр выпускалось в разные годы. Важны ли данные за все периоды?"
   ]
  },
  {
   "cell_type": "code",
   "execution_count": 25,
   "metadata": {
    "scrolled": false
   },
   "outputs": [
    {
     "data": {
      "text/plain": [
       "<matplotlib.legend.Legend at 0x7f7704af5f70>"
      ]
     },
     "execution_count": 25,
     "metadata": {},
     "output_type": "execute_result"
    },
    {
     "data": {
      "image/png": "[encoded data removed]",
      "text/plain": [
       "<Figure size 864x432 with 1 Axes>"
      ]
     },
     "metadata": {
      "needs_background": "light"
     },
     "output_type": "display_data"
    }
   ],
   "source": [
    "games_by_each_year = df_games.pivot_table(index='year_of_release', values='name', aggfunc='count')\n",
    "plt.figure(figsize=(12,6))\n",
    "sns.lineplot(data=games_by_each_year)\n",
    "sns.set_style('darkgrid')\n",
    "plt.title(\"Количество игр по годам\")\n",
    "plt.xlabel(\"Год выпуска\")\n",
    "plt.ylabel(\"Количество выпущенных игр\")\n",
    "plt.legend('')"
   ]
  },
  {
   "cell_type": "markdown",
   "metadata": {},
   "source": [
    "<div class=\"alert alert-success\">\n",
    "<font size=\"4\", color= \"seagreen\"><b>✔️ Комментарий ревьюера</b></font>\n",
    "    <br /> \n",
    "    <font size=\"3\", color = \"black\">\n",
    "<br /> Классный график, все элементы добавлены, молодец"
   ]
  },
  {
   "cell_type": "markdown",
   "metadata": {},
   "source": [
    "На графике прослеживается подъем игровой индустрии с 1990-х годов. Можно объяснить это развитием компьютерныхь технологий в целом: внедрением средств хранения данных с увеличенным объемом, распространением операционных систем, таких как Microsoft Windows и Mac OS, развитие технологий трехмерной графики. Постепенно набирали популярность игровые приставки, такие как Nintendo, Playstation, позже XBOX. Данный рост продолжается до 2008 года. Пик выпущенных игр приходится как раз на него, после чего наблюдается спад, связанный, вероятно, с увеличением стоимости приставок и комплектующих, отсутствием чего-то кардинально нового на рынке, финансовым кризисом 2008 г. и др. Также нельзя забывать о развивающемся мобильном рынке игр. Данные почти двадцатилетней давности не важны для анализа - их не много, да и игры того времени были слишком ограничены технологиями и устройствами, на которых они выпускались."
   ]
  },
  {
   "cell_type": "markdown",
   "metadata": {},
   "source": [
    "Посмотрим, как менялись продажи по платформам. Выберем платформы с наибольшими суммарными продажами и построим распределение по годам. За какой характерный срок появляются новые и исчезают старые платформы?"
   ]
  },
  {
   "cell_type": "code",
   "execution_count": 26,
   "metadata": {},
   "outputs": [
    {
     "data": {
      "text/html": [
       "<div>\n",
       "<style scoped>\n",
       "    .dataframe tbody tr th:only-of-type {\n",
       "        vertical-align: middle;\n",
       "    }\n",
       "\n",
       "    .dataframe tbody tr th {\n",
       "        vertical-align: top;\n",
       "    }\n",
       "\n",
       "    .dataframe thead th {\n",
       "        text-align: right;\n",
       "    }\n",
       "</style>\n",
       "<table border=\"1\" class=\"dataframe\">\n",
       "  <thead>\n",
       "    <tr style=\"text-align: right;\">\n",
       "      <th></th>\n",
       "      <th>count</th>\n",
       "      <th>sum</th>\n",
       "    </tr>\n",
       "    <tr>\n",
       "      <th>platform</th>\n",
       "      <th></th>\n",
       "      <th></th>\n",
       "    </tr>\n",
       "  </thead>\n",
       "  <tbody>\n",
       "    <tr>\n",
       "      <th>PS2</th>\n",
       "      <td>2140</td>\n",
       "      <td>1247.16</td>\n",
       "    </tr>\n",
       "    <tr>\n",
       "      <th>X360</th>\n",
       "      <td>1250</td>\n",
       "      <td>966.61</td>\n",
       "    </tr>\n",
       "    <tr>\n",
       "      <th>PS3</th>\n",
       "      <td>1320</td>\n",
       "      <td>935.19</td>\n",
       "    </tr>\n",
       "    <tr>\n",
       "      <th>Wii</th>\n",
       "      <td>1301</td>\n",
       "      <td>903.31</td>\n",
       "    </tr>\n",
       "    <tr>\n",
       "      <th>DS</th>\n",
       "      <td>2129</td>\n",
       "      <td>804.28</td>\n",
       "    </tr>\n",
       "  </tbody>\n",
       "</table>\n",
       "</div>"
      ],
      "text/plain": [
       "          count      sum\n",
       "platform                \n",
       "PS2        2140  1247.16\n",
       "X360       1250   966.61\n",
       "PS3        1320   935.19\n",
       "Wii        1301   903.31\n",
       "DS         2129   804.28"
      ]
     },
     "execution_count": 26,
     "metadata": {},
     "output_type": "execute_result"
    }
   ],
   "source": [
    "df_games.groupby('platform')['total_sales'].agg(['count', 'sum']).sort_values('sum', ascending=False).head(5)"
   ]
  },
  {
   "cell_type": "markdown",
   "metadata": {},
   "source": [
    "Видно, что самые популярные игровые платформы за весь период это PS2, X360, PS3, WII, DS. "
   ]
  },
  {
   "cell_type": "markdown",
   "metadata": {},
   "source": [
    "При формирования гарфика DS видим выброс в 1985 г. Проверим:"
   ]
  },
  {
   "cell_type": "code",
   "execution_count": 27,
   "metadata": {},
   "outputs": [
    {
     "data": {
      "text/html": [
       "<div>\n",
       "<style scoped>\n",
       "    .dataframe tbody tr th:only-of-type {\n",
       "        vertical-align: middle;\n",
       "    }\n",
       "\n",
       "    .dataframe tbody tr th {\n",
       "        vertical-align: top;\n",
       "    }\n",
       "\n",
       "    .dataframe thead th {\n",
       "        text-align: right;\n",
       "    }\n",
       "</style>\n",
       "<table border=\"1\" class=\"dataframe\">\n",
       "  <thead>\n",
       "    <tr style=\"text-align: right;\">\n",
       "      <th></th>\n",
       "      <th>name</th>\n",
       "      <th>platform</th>\n",
       "      <th>year_of_release</th>\n",
       "      <th>genre</th>\n",
       "      <th>na_sales</th>\n",
       "      <th>eu_sales</th>\n",
       "      <th>jp_sales</th>\n",
       "      <th>other_sales</th>\n",
       "      <th>critic_score</th>\n",
       "      <th>user_score</th>\n",
       "      <th>rating</th>\n",
       "      <th>total_sales</th>\n",
       "    </tr>\n",
       "  </thead>\n",
       "  <tbody>\n",
       "    <tr>\n",
       "      <th>15955</th>\n",
       "      <td>Strongest Tokyo University Shogi DS</td>\n",
       "      <td>DS</td>\n",
       "      <td>1985</td>\n",
       "      <td>Action</td>\n",
       "      <td>0.0</td>\n",
       "      <td>0.0</td>\n",
       "      <td>0.02</td>\n",
       "      <td>0.0</td>\n",
       "      <td>NaN</td>\n",
       "      <td>NaN</td>\n",
       "      <td>tbd</td>\n",
       "      <td>0.02</td>\n",
       "    </tr>\n",
       "  </tbody>\n",
       "</table>\n",
       "</div>"
      ],
      "text/plain": [
       "                                      name platform  year_of_release   genre  \\\n",
       "15955  Strongest Tokyo University Shogi DS       DS             1985  Action   \n",
       "\n",
       "       na_sales  eu_sales  jp_sales  other_sales  critic_score  user_score  \\\n",
       "15955       0.0       0.0      0.02          0.0           NaN         NaN   \n",
       "\n",
       "      rating  total_sales  \n",
       "15955    tbd         0.02  "
      ]
     },
     "execution_count": 27,
     "metadata": {},
     "output_type": "execute_result"
    }
   ],
   "source": [
    "df_games.query('platform == \"DS\" and year_of_release == 1985')"
   ]
  },
  {
   "cell_type": "markdown",
   "metadata": {},
   "source": [
    "Strongest Tokyo University Shogi DS вышла в 2010 г. Исправим:"
   ]
  },
  {
   "cell_type": "code",
   "execution_count": 28,
   "metadata": {},
   "outputs": [],
   "source": [
    "df_games.loc[15955, 'year_of_release'] = 2010"
   ]
  },
  {
   "cell_type": "code",
   "execution_count": 29,
   "metadata": {},
   "outputs": [],
   "source": [
    "platforms = (df_games.groupby('platform')['total_sales'].agg(['count', 'sum']).\n",
    "                        sort_values('sum', ascending=False).head(5).index)"
   ]
  },
  {
   "cell_type": "code",
   "execution_count": 30,
   "metadata": {},
   "outputs": [
    {
     "name": "stdout",
     "output_type": "stream",
     "text": [
      "Срок жизни платформы PS2 в годах:             11\n"
     ]
    },
    {
     "data": {
      "image/png": "[encoded data removed]",
      "text/plain": [
       "<Figure size 864x288 with 1 Axes>"
      ]
     },
     "metadata": {},
     "output_type": "display_data"
    },
    {
     "name": "stdout",
     "output_type": "stream",
     "text": [
      "Срок жизни платформы X360 в годах:             11\n"
     ]
    },
    {
     "data": {
      "image/png": "[encoded data removed]",
      "text/plain": [
       "<Figure size 864x288 with 1 Axes>"
      ]
     },
     "metadata": {},
     "output_type": "display_data"
    },
    {
     "name": "stdout",
     "output_type": "stream",
     "text": [
      "Срок жизни платформы PS3 в годах:             11\n"
     ]
    },
    {
     "data": {
      "image/png": "[encoded data removed]",
      "text/plain": [
       "<Figure size 864x288 with 1 Axes>"
      ]
     },
     "metadata": {},
     "output_type": "display_data"
    },
    {
     "name": "stdout",
     "output_type": "stream",
     "text": [
      "Срок жизни платформы Wii в годах:             10\n"
     ]
    },
    {
     "data": {
      "image/png": "[encoded data removed]",
      "text/plain": [
       "<Figure size 864x288 with 1 Axes>"
      ]
     },
     "metadata": {},
     "output_type": "display_data"
    },
    {
     "name": "stdout",
     "output_type": "stream",
     "text": [
      "Срок жизни платформы DS в годах:             9\n"
     ]
    },
    {
     "data": {
      "image/png": "[encoded data removed]",
      "text/plain": [
       "<Figure size 864x288 with 1 Axes>"
      ]
     },
     "metadata": {},
     "output_type": "display_data"
    }
   ],
   "source": [
    "for i in platforms:\n",
    "    print(f\"Срок жизни платформы {i} в годах: \\\n",
    "            {df_games[df_games['platform'] == i]['year_of_release'].max() - df_games[df_games['platform'] == i]['year_of_release'].min()}\")\n",
    "    plt.figure(figsize=(12,4))\n",
    "    df_games[df_games['platform'] == i].groupby('year_of_release')['total_sales'].sum().plot()\n",
    "    plt.title(i)\n",
    "    plt.ylabel('total_sales')\n",
    "    plt.grid()\n",
    "    plt.show();"
   ]
  },
  {
   "cell_type": "markdown",
   "metadata": {},
   "source": [
    "Самые популярные платформы живут около 11 лет, при этом периоды максимальных продаж приходятся в основном на периоды длиной 4-5 лет. Исходя из проведенного анализа, в качестве актуального для прогноза на 2017 год определим период c 2008 по 2016 гг. Дальнейший анализ будем проводить для этого периода."
   ]
  },
  {
   "cell_type": "markdown",
   "metadata": {},
   "source": [
    "<div class=\"alert alert-anger\">\n",
    "<font size=\"4\"><b>❌ Комментарий ревьюера</b></font>\n",
    "    <br /> \n",
    "    <font size=\"3\", color = \"black\">\n",
    "<br />\n",
    "Странный выброс 1985 года, у DS, можно посмотреть когда платформу выпустили на рынок\n",
    "        \n",
    "и не важно даже то, что мы с ней не работаем... любые аномалии д.б. зафиксированы"
   ]
  },
  {
   "cell_type": "markdown",
   "metadata": {},
   "source": [
    "<div class=\"alert alert-block alert-info\">\n",
    "<b>Комментарий студента:</b> \n",
    "Сделал. Корректный график получился, исправление данных перед графиками.\n",
    "</div>"
   ]
  },
  {
   "cell_type": "code",
   "execution_count": 31,
   "metadata": {},
   "outputs": [],
   "source": [
    "df_games_actual = df_games.query('2012 <= year_of_release <=2016')"
   ]
  },
  {
   "cell_type": "markdown",
   "metadata": {},
   "source": [
    "<div class=\"alert alert-anger\">\n",
    "<font size=\"4\"><b>❌ Комментарий ревьюера</b></font>\n",
    "    <br /> \n",
    "    <font size=\"3\", color = \"black\">\n",
    "<br />Для целей прогнозирования продаж на следующий год даже в традиционных бизнесах редко берут данные более чем за 2-3 года. А в такой динамично меняющейся индустрии, как компьютерные игры и вовсе не стоит брать слишком большой временной интервал - иначе обязательно захватишь уже отжившие тренды. Но и слишком короткий период тоже брать не стоит"
   ]
  },
  {
   "cell_type": "markdown",
   "metadata": {},
   "source": [
    "<div class=\"alert alert-block alert-info\">\n",
    "<b>Комментарий студента:</b> \n",
    "Сделал. Для прогнозирования продаж на следующий год нужно точно брать данные за прошедший год и ранее, вопрос, насколько уходить в прошлое. Так как срок жизни платформ составляет 4-5 лет, предлагаю взять диапазон 5 лет (2012-2016 гг.)\n",
    "</div>"
   ]
  },
  {
   "cell_type": "markdown",
   "metadata": {},
   "source": [
    "Какие платформы лидируют по продажам, растут или падают? Выберем несколько потенциально прибыльных платформ."
   ]
  },
  {
   "cell_type": "code",
   "execution_count": 32,
   "metadata": {
    "scrolled": true
   },
   "outputs": [
    {
     "data": {
      "text/plain": [
       "''"
      ]
     },
     "execution_count": 32,
     "metadata": {},
     "output_type": "execute_result"
    },
    {
     "data": {
      "image/png": "[encoded data removed]",
      "text/plain": [
       "<Figure size 864x432 with 2 Axes>"
      ]
     },
     "metadata": {},
     "output_type": "display_data"
    }
   ],
   "source": [
    "plt.figure(figsize=(12,6))\n",
    "sns.heatmap(df_games_actual.pivot_table(index='platform', columns='year_of_release', values='total_sales', \n",
    "                aggfunc='sum').sort_values(2016, ascending=False), cmap='RdYlGn', annot=True, fmt='1.1f')\n",
    ";"
   ]
  },
  {
   "cell_type": "markdown",
   "metadata": {},
   "source": [
    "Как мы видим из таблицы, динамика продаж на всех платформах имеет отрицательное значение. Ничто не вечно (с). Однако до сих пор можно выделить  перспективны платформы, продолжающие держаться на плаву: PS4 и XOne, причем PS4 почти в 3 прибыльнее своего прямого конкурента."
   ]
  },
  {
   "cell_type": "markdown",
   "metadata": {},
   "source": [
    "<div class=\"alert alert-warning\", style=\"border:solid coral 3px; padding: 20px\">\n",
    "<font size=\"4\", color = \"DimGrey\"><b>⚠️ Комментарий ревьюера</b></font>\n",
    "    <br /> \n",
    "    <font size=\"3\", color = \"black\">\n",
    "<br />Подобный вид графика удобен для дата-аналитика, но его трудно «продать» как результат своего труда, руководителю среднего звена будет тяжело его воспринять\n",
    "        \n",
    "стоит изменить тип на обычный линейный, или добавить вторым видом"
   ]
  },
  {
   "cell_type": "markdown",
   "metadata": {},
   "source": [
    "Построим график «ящик с усами» по глобальным продажам игр в разбивке по платформам."
   ]
  },
  {
   "cell_type": "code",
   "execution_count": 33,
   "metadata": {},
   "outputs": [
    {
     "data": {
      "image/png": "[encoded data removed]",
      "text/plain": [
       "<Figure size 1008x504 with 1 Axes>"
      ]
     },
     "metadata": {},
     "output_type": "display_data"
    }
   ],
   "source": [
    "plt.figure(figsize=(14,7))\n",
    "sns.boxplot(y=df_games_actual['total_sales'], x=df_games_actual['platform'])\n",
    "plt.ylim(0,10)\n",
    "plt.grid()"
   ]
  },
  {
   "cell_type": "code",
   "execution_count": 34,
   "metadata": {},
   "outputs": [
    {
     "data": {
      "image/png": "[encoded data removed]",
      "text/plain": [
       "<Figure size 1008x504 with 1 Axes>"
      ]
     },
     "metadata": {},
     "output_type": "display_data"
    }
   ],
   "source": [
    "plt.figure(figsize=(14,7))\n",
    "sns.boxplot(y=df_games_actual['total_sales'], x=df_games_actual['platform'], showfliers=False)\n",
    "plt.ylim(0,0.9)\n",
    "plt.grid()"
   ]
  },
  {
   "cell_type": "markdown",
   "metadata": {},
   "source": [
    "По всем платформам распределение игр по суммарным продажам имеет скос вправо с большим количеством \"выбросов\", т.е. некоторые игры обеспечивают продажи, существенно превышающую средние значения. Наибольший правый хвост (и, соответственно, \"выстреливающих\" игр-проектов) имеется у XBOX360, Wii, XOne и PS4. Чуть меньше - у PS3."
   ]
  },
  {
   "cell_type": "markdown",
   "metadata": {},
   "source": [
    "<div class=\"alert alert-anger\">\n",
    "<font size=\"4\"><b>❌ Комментарий ревьюера</b></font>\n",
    "    <br /> \n",
    "    <font size=\"3\", color = \"black\">\n",
    "<br />К сожалению, на этом графике видны только выбросы, и совсем не видны медиана и 75% квантиль. Для более обоснованных выводов нужно сделать дополнительный график, где будет отображена только нижняя часть boxplot-ов\n",
    "        \n",
    "Оба вида важны, т.к. выбросы — это наши звезды, которые приносят максимум выручки"
   ]
  },
  {
   "cell_type": "markdown",
   "metadata": {},
   "source": [
    "<div class=\"alert alert-block alert-info\">\n",
    "<b>Комментарий студента:</b> \n",
    "Сделал.\n",
    "</div>"
   ]
  },
  {
   "cell_type": "markdown",
   "metadata": {},
   "source": [
    "Посмотрим, как влияют на продажи внутри одной популярной платформы отзывы пользователей и критиков. Построим диаграмму рассеяния и посчитайте корреляцию между отзывами и продажами. Сформулируем выводы."
   ]
  },
  {
   "cell_type": "code",
   "execution_count": 35,
   "metadata": {},
   "outputs": [],
   "source": [
    "ps4 = df_games_actual.query(\"platform == 'PS4'\")"
   ]
  },
  {
   "cell_type": "code",
   "execution_count": 36,
   "metadata": {},
   "outputs": [
    {
     "data": {
      "text/html": [
       "<div>\n",
       "<style scoped>\n",
       "    .dataframe tbody tr th:only-of-type {\n",
       "        vertical-align: middle;\n",
       "    }\n",
       "\n",
       "    .dataframe tbody tr th {\n",
       "        vertical-align: top;\n",
       "    }\n",
       "\n",
       "    .dataframe thead th {\n",
       "        text-align: right;\n",
       "    }\n",
       "</style>\n",
       "<table border=\"1\" class=\"dataframe\">\n",
       "  <thead>\n",
       "    <tr style=\"text-align: right;\">\n",
       "      <th></th>\n",
       "      <th>user_score</th>\n",
       "      <th>critic_score</th>\n",
       "      <th>total_sales</th>\n",
       "    </tr>\n",
       "  </thead>\n",
       "  <tbody>\n",
       "    <tr>\n",
       "      <th>user_score</th>\n",
       "      <td>1.000000</td>\n",
       "      <td>0.557654</td>\n",
       "      <td>-0.031957</td>\n",
       "    </tr>\n",
       "    <tr>\n",
       "      <th>critic_score</th>\n",
       "      <td>0.557654</td>\n",
       "      <td>1.000000</td>\n",
       "      <td>0.406568</td>\n",
       "    </tr>\n",
       "    <tr>\n",
       "      <th>total_sales</th>\n",
       "      <td>-0.031957</td>\n",
       "      <td>0.406568</td>\n",
       "      <td>1.000000</td>\n",
       "    </tr>\n",
       "  </tbody>\n",
       "</table>\n",
       "</div>"
      ],
      "text/plain": [
       "              user_score  critic_score  total_sales\n",
       "user_score      1.000000      0.557654    -0.031957\n",
       "critic_score    0.557654      1.000000     0.406568\n",
       "total_sales    -0.031957      0.406568     1.000000"
      ]
     },
     "execution_count": 36,
     "metadata": {},
     "output_type": "execute_result"
    }
   ],
   "source": [
    "features = ['user_score', 'critic_score', 'total_sales']\n",
    "ps4[features].corr()"
   ]
  },
  {
   "cell_type": "code",
   "execution_count": 37,
   "metadata": {},
   "outputs": [
    {
     "data": {
      "image/png": "[encoded data removed]",
      "text/plain": [
       "<Figure size 432x288 with 1 Axes>"
      ]
     },
     "metadata": {},
     "output_type": "display_data"
    },
    {
     "data": {
      "image/png": "[encoded data removed]",
      "text/plain": [
       "<Figure size 432x288 with 1 Axes>"
      ]
     },
     "metadata": {},
     "output_type": "display_data"
    }
   ],
   "source": [
    "ps4.plot(x='user_score', y='total_sales', kind='scatter', title='PS4')\n",
    "ps4.plot(x='critic_score', y='total_sales', kind='scatter', title='PS4')\n",
    "plt.show()"
   ]
  },
  {
   "cell_type": "markdown",
   "metadata": {},
   "source": [
    "Вывод:\n",
    "\n",
    "Взаимосвязи между отзывами пользователей и продажами, как и взаимосвязь между отзывами критиков и продажами не большая. Взаимосязь между отзывами критиков и отзывами пользователей существует.\n",
    "\n",
    "Корреляция не говорит о причинно-следственной связи. И хотя по диаграммам рассеяния видим, что чем выше оценки критиков, тем выше продажи игр на обоих платформах, мы не можем утверждать, что высокие оценки критиками приводят к высоким продажам игр и что при покупке игры пользователи больше доверяют критикам, а не другим геймерам."
   ]
  },
  {
   "cell_type": "markdown",
   "metadata": {},
   "source": [
    "Соотнесем выводы с продажами игр на других платформах. Оценим влияние "
   ]
  },
  {
   "cell_type": "code",
   "execution_count": 38,
   "metadata": {
    "scrolled": false
   },
   "outputs": [
    {
     "data": {
      "image/png": "[encoded data removed]",
      "text/plain": [
       "<Figure size 432x288 with 1 Axes>"
      ]
     },
     "metadata": {},
     "output_type": "display_data"
    },
    {
     "data": {
      "image/png": "[encoded data removed]",
      "text/plain": [
       "<Figure size 432x288 with 1 Axes>"
      ]
     },
     "metadata": {},
     "output_type": "display_data"
    },
    {
     "data": {
      "image/png": "[encoded data removed]",
      "text/plain": [
       "<Figure size 432x288 with 1 Axes>"
      ]
     },
     "metadata": {},
     "output_type": "display_data"
    },
    {
     "data": {
      "image/png": "[encoded data removed]",
      "text/plain": [
       "<Figure size 432x288 with 1 Axes>"
      ]
     },
     "metadata": {},
     "output_type": "display_data"
    }
   ],
   "source": [
    "PC = df_games_actual.query(\"platform == 'PC'\")\n",
    "XOne = df_games_actual.query(\"platform == 'XOne'\")\n",
    "PC.plot(x='user_score', y='total_sales', kind='scatter', title='PC')\n",
    "PC.plot(x='critic_score', y='total_sales', kind='scatter', title='PC')\n",
    "XOne.plot(x='user_score', y='total_sales', kind='scatter', title='XOne')\n",
    "XOne.plot(x='critic_score', y='total_sales', kind='scatter', title='XOne')\n",
    "plt.show()"
   ]
  },
  {
   "cell_type": "markdown",
   "metadata": {},
   "source": [
    "<div class=\"alert alert-anger\">\n",
    "<font size=\"4\"><b>❌ Комментарий ревьюера</b></font>\n",
    "    <br /> \n",
    "    <font size=\"3\", color = \"black\">\n",
    "<br />  Стоит поправить название графиков"
   ]
  },
  {
   "cell_type": "markdown",
   "metadata": {},
   "source": [
    "<div class=\"alert alert-block alert-info\">\n",
    "<b>Комментарий студента:</b> \n",
    "Сделал.\n",
    "</div>"
   ]
  },
  {
   "cell_type": "markdown",
   "metadata": {},
   "source": [
    "<div class=\"alert alert-success\">\n",
    "<font size=\"4\", color= \"seagreen\"><b>✔️ Комментарий ревьюера</b></font>\n",
    "    <br /> \n",
    "    <font size=\"3\", color = \"black\">\n",
    "<br />Сравнение показателей на нескольких платформах, позволяет набрать вес нашему исследованию"
   ]
  },
  {
   "cell_type": "markdown",
   "metadata": {},
   "source": [
    "Взаимосвязь между отзывами и количеством продаж игр на PC и XOne несколько отличается. На XOne она больше похожа на PS4 - высокий рейтинг далеко не всегда означает большие продажи, но вот низкий рейтинг почти всегда сулит низкий уровень продаж. На PC заметен разброс в пользовательских оценках, продажи от них зависят слабо, а вот от рейтинга критиков уже больше. "
   ]
  },
  {
   "cell_type": "markdown",
   "metadata": {},
   "source": [
    "Посмотрим на общее распределение игр по жанрам. Что можно сказать о самых прибыльных жанрах? Выделяются ли жанры с высокими и низкими продажами?"
   ]
  },
  {
   "cell_type": "code",
   "execution_count": 39,
   "metadata": {
    "scrolled": false
   },
   "outputs": [
    {
     "data": {
      "image/png": "[encoded data removed]",
      "text/plain": [
       "<Figure size 720x360 with 1 Axes>"
      ]
     },
     "metadata": {},
     "output_type": "display_data"
    }
   ],
   "source": [
    "(df_games_actual\n",
    "    .pivot_table(index='genre', values='total_sales')\n",
    "    .sort_values('total_sales', ascending=False)\n",
    "    .plot(kind='bar', y='total_sales', figsize=(10, 5), legend=False)\n",
    "    .set(xlabel='Жанр', ylabel='Глобальные продажи'))\n",
    "plt.show()"
   ]
  },
  {
   "cell_type": "code",
   "execution_count": 40,
   "metadata": {},
   "outputs": [
    {
     "data": {
      "image/png": "[encoded data removed]",
      "text/plain": [
       "<Figure size 1008x504 with 1 Axes>"
      ]
     },
     "metadata": {},
     "output_type": "display_data"
    }
   ],
   "source": [
    "plt.figure(figsize=(14,7))\n",
    "sns.boxplot(y=df_games_actual['total_sales'], x=df_games_actual['genre'].sort_values())\n",
    "plt.ylim(0,5)\n",
    "plt.grid()"
   ]
  },
  {
   "cell_type": "code",
   "execution_count": 41,
   "metadata": {},
   "outputs": [
    {
     "data": {
      "image/png": "[encoded data removed]",
      "text/plain": [
       "<Figure size 1008x504 with 1 Axes>"
      ]
     },
     "metadata": {},
     "output_type": "display_data"
    }
   ],
   "source": [
    "plt.figure(figsize=(14,7))\n",
    "sns.boxplot(y=df_games_actual['total_sales'], x=df_games_actual['genre'].sort_values(), showfliers=False)\n",
    "plt.ylim(0,1.5)\n",
    "plt.grid()"
   ]
  },
  {
   "cell_type": "markdown",
   "metadata": {},
   "source": [
    "Самыми популярными жанрами являются шутеры, платформеры, а также спортивные игры. Хуже всего продаются стратегии и квесты (приключения)."
   ]
  },
  {
   "cell_type": "markdown",
   "metadata": {},
   "source": [
    "<div class=\"alert alert-anger\">\n",
    "<font size=\"4\"><b>❌ Комментарий ревьюера</b></font>\n",
    "    <br /> \n",
    "    <font size=\"3\", color = \"black\">\n",
    "<br />        \n",
    "Стоит проанализировать прибыльность жанров на диаграмме размаха, сравнить медианные продажи на каждом жанре и проверить какая из них более стабильна и имеет более длинный ряд успешно продающихся игр\n",
    "        \n",
    "График нарисовать в двух масштабах с выбросами и без (чтобы было видно 75 квартиль)\n",
    "        \n",
    "Какое значение рассчитывает сводная таблица по умолчанию для параметра values\n",
    "        \n",
    "        (df_games_actual\n",
    "            .pivot_table(index='genre', values='total_sales')"
   ]
  },
  {
   "cell_type": "markdown",
   "metadata": {},
   "source": [
    "<div class=\"alert alert-block alert-info\">\n",
    "<b>Комментарий студента:</b> \n",
    "Так?\n",
    "</div>"
   ]
  },
  {
   "cell_type": "markdown",
   "metadata": {},
   "source": [
    "<div class=\"alert alert-success\">\n",
    "<font size=\"4\", color= \"seagreen\"><b>✔️ Комментарий ревьюера в2</b></font>\n",
    "    <br /> \n",
    "    <font size=\"3\", color = \"black\">\n",
    "<br />На диаграмме размаха мы можем увидеть, что у жанра шутер 50% игр продаются с более высоким показателем объема продаж чем у всех других жанров, т.о. вероятность хорошо продать игру в жанре шутер будет несколько выше, чем для игры из спортивного направления или любого другого"
   ]
  },
  {
   "cell_type": "markdown",
   "metadata": {},
   "source": [
    "<b>ПОРТРЕТ ПОЛЬЗОВАТЕЛЯ</b>\n",
    "\n",
    "Определим для пользователя каждого региона (NA, EU, JP) cамые популярные платформы (топ-5) и самые популярные жанры (топ-5):"
   ]
  },
  {
   "cell_type": "code",
   "execution_count": 42,
   "metadata": {
    "scrolled": true
   },
   "outputs": [
    {
     "data": {
      "text/plain": [
       "Action          1041\n",
       "Role-Playing     370\n",
       "Adventure        302\n",
       "Sports           268\n",
       "Shooter          237\n",
       "Misc             193\n",
       "Racing           115\n",
       "Fighting         109\n",
       "Platform          85\n",
       "Simulation        80\n",
       "Strategy          71\n",
       "Puzzle            28\n",
       "Name: genre, dtype: int64"
      ]
     },
     "execution_count": 42,
     "metadata": {},
     "output_type": "execute_result"
    }
   ],
   "source": [
    "df_games_actual['genre'].value_counts()"
   ]
  },
  {
   "cell_type": "code",
   "execution_count": 43,
   "metadata": {},
   "outputs": [],
   "source": [
    "def top_in_regions_plot(groupby, region_sales, ax):\n",
    "    pivot = df_games_actual.groupby(groupby).agg({region_sales: 'sum'}).sort_values(by=region_sales, ascending=False)[:6]\n",
    "    title_dict = {'na_sales': 'North America Sales', 'eu_sales': 'Europe Sales', 'jp_sales': 'Japan Sales'}\n",
    "    color_dict = {'na_sales': 'red', 'eu_sales': 'gray', 'jp_sales': 'green'}\n",
    "    plot = pivot.plot(kind='bar', ec='black', title=title_dict[region_sales], ax=axes[ax], \n",
    "                   fontsize=18, color=color_dict[region_sales], rot=20)\n",
    "    plot.legend(prop={'size':17})\n",
    "    plot.set_xlabel('')\n",
    "    plot.title.set_size(20)"
   ]
  },
  {
   "cell_type": "code",
   "execution_count": 44,
   "metadata": {},
   "outputs": [
    {
     "name": "stderr",
     "output_type": "stream",
     "text": [
      "/tmp/ipykernel_800/416626161.py:1: SettingWithCopyWarning: \n",
      "A value is trying to be set on a copy of a slice from a DataFrame.\n",
      "Try using .loc[row_indexer,col_indexer] = value instead\n",
      "\n",
      "See the caveats in the documentation: https://pandas.pydata.org/pandas-docs/stable/user_guide/indexing.html#returning-a-view-versus-a-copy\n",
      "  df_games_actual['platform_for_five'] = df_games_actual['platform']\n",
      "/tmp/ipykernel_800/416626161.py:2: SettingWithCopyWarning: \n",
      "A value is trying to be set on a copy of a slice from a DataFrame.\n",
      "Try using .loc[row_indexer,col_indexer] = value instead\n",
      "\n",
      "See the caveats in the documentation: https://pandas.pydata.org/pandas-docs/stable/user_guide/indexing.html#returning-a-view-versus-a-copy\n",
      "  df_games_actual['genre_for_five'] = df_games_actual['genre']\n"
     ]
    }
   ],
   "source": [
    "df_games_actual['platform_for_five'] = df_games_actual['platform']\n",
    "df_games_actual['genre_for_five'] = df_games_actual['genre']\n",
    "df_games_actual = df_games_actual.replace({'platform_for_five':{'PC':'others', 'PSP':'others', 'Wii':'others', 'DS':'others'}})\n",
    "df_games_actual = df_games_actual.replace({'genre_for_five':{'Puzzle':'others', 'Strategy':'others', 'Platform':'others', 'Adventure':'others'}})"
   ]
  },
  {
   "cell_type": "code",
   "execution_count": 45,
   "metadata": {
    "scrolled": true
   },
   "outputs": [
    {
     "data": {
      "image/png": "[encoded data removed]",
      "text/plain": [
       "<Figure size 1800x432 with 3 Axes>"
      ]
     },
     "metadata": {},
     "output_type": "display_data"
    }
   ],
   "source": [
    "fig, axes = plt.subplots(1, 3, figsize=(25,6))\n",
    "fig.suptitle('Самые популярные платформы',\n",
    "             y = 1.1,\n",
    "             fontsize = 30)\n",
    "top_in_regions_plot('platform_for_five', 'na_sales', 0)\n",
    "top_in_regions_plot('platform_for_five', 'eu_sales', 1)\n",
    "top_in_regions_plot('platform_for_five', 'jp_sales', 2)"
   ]
  },
  {
   "cell_type": "markdown",
   "metadata": {},
   "source": [
    "В Северной Америке наибольшей популярностью пользуются X360, PS4 и PS3.\n",
    "\n",
    "В Европе наибольшей популярностью пользуются PS4, PS3 и X360.\n",
    "\n",
    "В Японии наибольшей популярностью пользуются 3DS и различные версии PS.\n",
    "\n",
    "Промежуточный вывод: можно сказать, что PS3 и PS4, занимающая первое и второе места в Европе, второе и третье в Америке и второе и четверое в Японии являются самыми попялрными консолями. X360 (и его более новый брат XOne) популярны лишь в Америке, в Европе уступаю консолям от Sony, и полностью проигрывая конкуренцию на Японском рынке, где главенствует портативная консоль 3DS."
   ]
  },
  {
   "cell_type": "markdown",
   "metadata": {},
   "source": [
    "<div class=\"alert alert-anger\">\n",
    "<font size=\"4\"><b>❌ Комментарий ревьюера</b></font>\n",
    "    <br /> \n",
    "    <font size=\"3\", color = \"black\">\n",
    "<br />          \n",
    "Как ты думаешь на таком портрете клиента, маркетологи смогут организовать рекламную кампанию в 2017 году\n",
    "        \n",
    "        В Северной Америке наибольшей популярностью пользуются X360, PS3 и Wii.\n",
    "\n",
    "        В Европе наибольшей популярностью пользуются PS3, X360 и Wii.\n",
    "\n",
    "        В Японии наибольшей популярностью пользуются 3DS, DS и PS3."
   ]
  },
  {
   "cell_type": "markdown",
   "metadata": {},
   "source": [
    "<div class=\"alert alert-block alert-info\">\n",
    "<b>Комментарий студента:</b> \n",
    "Исправил вывод в соответствии с корректными данными.\n",
    "</div>"
   ]
  },
  {
   "cell_type": "code",
   "execution_count": null,
   "metadata": {},
   "outputs": [],
   "source": []
  },
  {
   "cell_type": "code",
   "execution_count": null,
   "metadata": {},
   "outputs": [],
   "source": []
  },
  {
   "cell_type": "markdown",
   "metadata": {},
   "source": [
    "<div style=\"border:solid steelblue 3px; padding: 20px\">\n",
    "<font size=\"4\">🍕<b> Комментарий ревьюера в2</b></font>\n",
    "<br /> \n",
    "<font size=\"3\", color = \"black\">\n",
    "<br />пример каким образом влияет актуальныйй период на наши выводы и принятие решений\n",
    "    \n",
    "    "
   ]
  },
  {
   "cell_type": "code",
   "execution_count": 46,
   "metadata": {},
   "outputs": [],
   "source": [
    "data_games = pd.read_csv('/datasets/games.csv')"
   ]
  },
  {
   "cell_type": "code",
   "execution_count": 47,
   "metadata": {},
   "outputs": [],
   "source": [
    "data_games.columns = map(str.lower, data_games.columns)"
   ]
  },
  {
   "cell_type": "code",
   "execution_count": 48,
   "metadata": {},
   "outputs": [],
   "source": [
    "data_games = data_games.query('year_of_release >= 2015')\n",
    "data_games = data_games.dropna(subset = ['year_of_release', 'name', 'genre'])"
   ]
  },
  {
   "cell_type": "code",
   "execution_count": 49,
   "metadata": {},
   "outputs": [],
   "source": [
    "data_games['user_score'] = data_games['user_score'].replace('tbd', np.nan)\n",
    "data_games['user_score'] = pd.to_numeric(data_games['user_score'], downcast='float')"
   ]
  },
  {
   "cell_type": "code",
   "execution_count": 50,
   "metadata": {},
   "outputs": [],
   "source": [
    "data_games['rating'] = data_games['rating'].fillna('unknown')"
   ]
  },
  {
   "cell_type": "code",
   "execution_count": 51,
   "metadata": {},
   "outputs": [],
   "source": [
    "# check\n",
    "# круги + категория другие\n",
    "def graph (df, region, name, axes):\n",
    "    \n",
    "    sales = df.pivot_table(index='platform', \n",
    "                           values=region, \n",
    "                           aggfunc='sum').nlargest(5, region)\n",
    "    \n",
    "    sales = sales.reset_index()\n",
    "    \n",
    "    sales = (\n",
    "            sales.append({'platform': 'Other', region: df[region].sum() \n",
    "                       - sales[region].sum()}, ignore_index= True)\n",
    "         )\n",
    "    \n",
    "    \n",
    "    sales.columns = ['platform', 'sales']\n",
    "    sales.plot(kind='pie',\n",
    "               y=\"sales\",\n",
    "               \n",
    "               autopct='%1.0f%%',\n",
    "               wedgeprops={'linewidth': 3.0, 'edgecolor': 'white'},\n",
    "               textprops={'size': 'x-large'}, labels = sales.platform,\n",
    "               \n",
    "               legend=False, \n",
    "               title = f\"Популярность платформ в {name} \", \n",
    "               ax = axes).set(ylabel='')"
   ]
  },
  {
   "cell_type": "code",
   "execution_count": 52,
   "metadata": {},
   "outputs": [
    {
     "data": {
      "image/png": "[encoded data removed]",
      "text/plain": [
       "<Figure size 1080x432 with 3 Axes>"
      ]
     },
     "metadata": {},
     "output_type": "display_data"
    }
   ],
   "source": [
    "# check\n",
    "# круги в ряд\n",
    "fig, axes = plt.subplots(1, 3, figsize = (15,6))\n",
    "fig.suptitle('Обзор рынка платформ (портрет покупателя)', fontsize = 30, fontweight='bold')\n",
    "\n",
    "graph(data_games, 'na_sales', 'Северной Америке', axes[0])\n",
    "graph(data_games, 'eu_sales', 'Европе', axes[1])\n",
    "graph(data_games, 'jp_sales', 'Японии', axes[2])"
   ]
  },
  {
   "cell_type": "code",
   "execution_count": null,
   "metadata": {},
   "outputs": [],
   "source": []
  },
  {
   "cell_type": "code",
   "execution_count": null,
   "metadata": {},
   "outputs": [],
   "source": []
  },
  {
   "cell_type": "code",
   "execution_count": 53,
   "metadata": {},
   "outputs": [
    {
     "data": {
      "image/png": "[encoded data removed]",
      "text/plain": [
       "<Figure size 1800x432 with 3 Axes>"
      ]
     },
     "metadata": {},
     "output_type": "display_data"
    }
   ],
   "source": [
    "fig, axes = plt.subplots(1, 3, figsize=(25,6))\n",
    "fig.suptitle('Самые популярные жанры',\n",
    "             y = 1.1,\n",
    "             fontsize = 30)\n",
    "top_in_regions_plot('genre_for_five', 'na_sales', 0)\n",
    "top_in_regions_plot('genre_for_five', 'eu_sales', 1)\n",
    "top_in_regions_plot('genre_for_five', 'jp_sales', 2)"
   ]
  },
  {
   "cell_type": "markdown",
   "metadata": {},
   "source": [
    "В Северной Америке наибольшей популярностью пользуются экшены, шутеры и спортивные симуляторы.\n",
    "\n",
    "В Европе наибольшей популярностью пользуются экшены, шутеры и спортивные симуляторы.\n",
    "\n",
    "В Японии наибольшей популярностью пользуются ролевые игры, экшены и жанр misc (игры не вошедшие в предыдущие классы).\n",
    "\n",
    "Промежуточный вывод: в Америке и Европе геймеры предпочитают игры похожих жанров, в то время, как в Азии большую любовь народа захватили ролевые игры и игры жанра экшен. "
   ]
  },
  {
   "cell_type": "markdown",
   "metadata": {},
   "source": [
    "Влияние рейтинга ESRB на продажи в отдельном регионе."
   ]
  },
  {
   "cell_type": "code",
   "execution_count": 54,
   "metadata": {},
   "outputs": [
    {
     "data": {
      "text/html": [
       "<div>\n",
       "<style scoped>\n",
       "    .dataframe tbody tr th:only-of-type {\n",
       "        vertical-align: middle;\n",
       "    }\n",
       "\n",
       "    .dataframe tbody tr th {\n",
       "        vertical-align: top;\n",
       "    }\n",
       "\n",
       "    .dataframe thead th {\n",
       "        text-align: right;\n",
       "    }\n",
       "</style>\n",
       "<table border=\"1\" class=\"dataframe\">\n",
       "  <thead>\n",
       "    <tr style=\"text-align: right;\">\n",
       "      <th></th>\n",
       "      <th>eu_sales</th>\n",
       "      <th>jp_sales</th>\n",
       "      <th>na_sales</th>\n",
       "    </tr>\n",
       "    <tr>\n",
       "      <th>rating</th>\n",
       "      <th></th>\n",
       "      <th></th>\n",
       "      <th></th>\n",
       "    </tr>\n",
       "  </thead>\n",
       "  <tbody>\n",
       "    <tr>\n",
       "      <th>everyone</th>\n",
       "      <td>113.03</td>\n",
       "      <td>28.33</td>\n",
       "      <td>114.37</td>\n",
       "    </tr>\n",
       "    <tr>\n",
       "      <th>everyone_10+</th>\n",
       "      <td>57.25</td>\n",
       "      <td>8.19</td>\n",
       "      <td>77.93</td>\n",
       "    </tr>\n",
       "    <tr>\n",
       "      <th>mature_17+</th>\n",
       "      <td>194.44</td>\n",
       "      <td>21.20</td>\n",
       "      <td>231.67</td>\n",
       "    </tr>\n",
       "    <tr>\n",
       "      <th>tbd</th>\n",
       "      <td>91.50</td>\n",
       "      <td>109.08</td>\n",
       "      <td>103.31</td>\n",
       "    </tr>\n",
       "    <tr>\n",
       "      <th>teen</th>\n",
       "      <td>52.96</td>\n",
       "      <td>26.02</td>\n",
       "      <td>66.02</td>\n",
       "    </tr>\n",
       "    <tr>\n",
       "      <th>All</th>\n",
       "      <td>509.18</td>\n",
       "      <td>192.82</td>\n",
       "      <td>593.30</td>\n",
       "    </tr>\n",
       "  </tbody>\n",
       "</table>\n",
       "</div>"
      ],
      "text/plain": [
       "              eu_sales  jp_sales  na_sales\n",
       "rating                                    \n",
       "everyone        113.03     28.33    114.37\n",
       "everyone_10+     57.25      8.19     77.93\n",
       "mature_17+      194.44     21.20    231.67\n",
       "tbd              91.50    109.08    103.31\n",
       "teen             52.96     26.02     66.02\n",
       "All             509.18    192.82    593.30"
      ]
     },
     "execution_count": 54,
     "metadata": {},
     "output_type": "execute_result"
    }
   ],
   "source": [
    "pivot_reg_rating = df_games_actual.pivot_table(index='rating', values=['na_sales', 'eu_sales', 'jp_sales'], \n",
    "                                aggfunc='sum', margins=True)\n",
    "pivot_reg_rating"
   ]
  },
  {
   "cell_type": "markdown",
   "metadata": {},
   "source": [
    "Игры с рейтингом \"tbd\", то есть с непроставленным, занимают внушительную нишу на рынке: почти 20% рынка Америки, 17% рынка Европы и почти половину рынка Японии. А значит, игрокам не так важен рейтинг игр при их покупке - гораздо важнее игровая составляющая. Тем не менее, можно сделать следующие выводы:\n",
    "\n",
    "В Северной Америке и Европе большой объем продаж занимают игры с рейтингом mature_17+ (Для взрослых).\n",
    "\n",
    "В Японии влияние рейтинга слабо прослеживается на предпочтении в играх: почти ровное количество продаж игр и для подростков, и для взрослых, и предназначенных для всех возрастных категорий.\n",
    "\n",
    "Промежуточный вывод: рейтинг ESRB не сильно влияет на продажи в мире."
   ]
  },
  {
   "cell_type": "markdown",
   "metadata": {},
   "source": [
    "<div class=\"alert alert-anger\">\n",
    "<font size=\"4\"><b>❌ Комментарий ревьюера</b></font>\n",
    "    <br /> \n",
    "    <font size=\"3\", color = \"black\">\n",
    "<br />\n",
    "При твоем способе подсчета игры без рейтинга оказываются полностью исключенными из анализа. Но продажи именно этих игр могут указать на ключевое различие в регионах\n",
    "        \n",
    "Стоит поработать со столбцом рейтингов, заменить пропуски, посмотреть на частотность использования всех категорий рейтинга"
   ]
  },
  {
   "cell_type": "markdown",
   "metadata": {},
   "source": [
    "<div class=\"alert alert-block alert-info\">\n",
    "<b>Комментарий студента:</b> \n",
    "Вроде сделал. Рейтинг tbd теперь фигурирует в списке, количество игр с этим рейтингом немаленькое. Исправил описание под таблицей.\n",
    "</div>"
   ]
  },
  {
   "cell_type": "markdown",
   "metadata": {},
   "source": [
    "<div class=\"alert alert-anger\">\n",
    "<font size=\"4\"><b>❌ Комментарий ревьюера</b></font>\n",
    "    <br /> \n",
    "    <font size=\"3\", color = \"black\">\n",
    "<br /> Портреты клиентов отрисованы, молодец, сильное влияние на портрет оказывает период с 2008 г. ..., можем совершить ошибку при формировании рекомендации маркетологам\n",
    "        \n",
    "__Стоит перерисовать графики на актуальной выборке и дооформить графики раздела TOП-5:__\n",
    "\n",
    "+ оформить \"двухуровневый заголовок\" - и у всех трех графиков вместе, и у каждого из трех по отдельности;\n",
    "+ при анализе платформ и жанров стоит все, что не вошло в ТОП-5, объединять в категорию \"другие\" - так картина анализа будет более полной\n",
    "\n",
    "        \n",
    "Если столкнешься с трудностью выполнения данного пункта — присылай код, который не получился и вопрос, подумаем вместе\n",
    "        \n",
    "https://nagornyy.me/it/vizualizatsiia-dannykh-v-matplotlib/?ysclid=l4q3l4q0p8940570437\n",
    "    \n",
    "https://pandas.pydata.org/pandas-docs/stable/reference/api/pandas.DataFrame.append.html?highlight=append#pandas.DataFrame.append"
   ]
  },
  {
   "cell_type": "markdown",
   "metadata": {},
   "source": [
    "<div class=\"alert alert-block alert-info\">\n",
    "<b>Комментарий студента:</b> \n",
    "Короче... я сделал так, путем замены. В Slack посоветовали сделать столбец со значениями, дублирующими значения platform или genres (к примеру, df_games_actual['platform_not_top'] = df_games_actual['platform'], после чего таким кодом\n",
    "    df_games_actual.iloc[5:, df_games_actual.columns.get_loc('platform_not_top')] = 'Others'\n",
    "    присвоить значение Others в строчки, начиная с 6 в столбец platform_not_top. Но я не понимаю, куда это вставлять. По идее, надо это делать до формулы, но тогда высвечивает ошибку. \n",
    "</div>"
   ]
  },
  {
   "cell_type": "markdown",
   "metadata": {},
   "source": [
    "<b>ПРОВЕРКА ГИПОТЕЗ</b>\n",
    "\n",
    "Гипотеза: средние пользовательские рейтинги платформ Xbox One и PC одинаковые.\n",
    "\n",
    "Нулевая гипотеза H₀: Средние пользовательские рейтинги платформ Xbox One и PC одинаковые.\n",
    "\n",
    "Исходя из H₀ формулируем альтернативную гипотезу H₁: Средние пользовательские рейтинги платформ Xbox One и PC различаются."
   ]
  },
  {
   "cell_type": "markdown",
   "metadata": {},
   "source": [
    "<div class=\"alert alert-success\">\n",
    "<font size=\"4\", color= \"seagreen\"><b>✔️ Комментарий ревьюера</b></font>\n",
    "    <br /> \n",
    "    <font size=\"3\", color = \"black\">\n",
    "<br /> гипотезы сформулированы верно"
   ]
  },
  {
   "cell_type": "code",
   "execution_count": 55,
   "metadata": {},
   "outputs": [
    {
     "name": "stdout",
     "output_type": "stream",
     "text": [
      "p-значение: 0.6206366351489678\n",
      "Не получилось отвергнуть нулевую гипотезу\n"
     ]
    }
   ],
   "source": [
    "alpha = 0.05\n",
    "xbox_one_ratings = df_games_actual[(df_games_actual['platform'] == 'XOne') & (df_games_actual['user_score'] > 0)]['user_score']\n",
    "pc_ratings = df_games_actual[(df_games_actual['platform'] == 'PC') & (df_games_actual['user_score'] > 0)]['user_score']\n",
    "results = st.ttest_ind(\n",
    "    xbox_one_ratings,\n",
    "    pc_ratings,\n",
    "    equal_var=False,  \n",
    ")\n",
    "\n",
    "print('p-значение:', results.pvalue)\n",
    "\n",
    "if (results.pvalue < alpha):\n",
    "    print(\"Отвергаем нулевую гипотезу\")\n",
    "else:\n",
    "    print(\"Не получилось отвергнуть нулевую гипотезу\")"
   ]
  },
  {
   "cell_type": "markdown",
   "metadata": {},
   "source": [
    "<div class=\"alert alert-anger\">\n",
    "<font size=\"4\"><b>❌ Комментарий ревьюера</b></font>\n",
    "    <br /> \n",
    "    <font size=\"3\", color = \"black\">\n",
    "<br />\n",
    "стоит выровнять периоды использования платформ при исправлении кода, одна из приставок вышла на рынок совсем недавно ..."
   ]
  },
  {
   "cell_type": "markdown",
   "metadata": {},
   "source": [
    "<div class=\"alert alert-danger\">\n",
    "<font size=\"4\"><b>❌ Комментарий ревьюера</b></font>\n",
    "    <br /> \n",
    "    <font size=\"3\", color = \"black\">\n",
    "<br /> Что означает на языке статистики p-значение: 0.09377037071098052"
   ]
  },
  {
   "cell_type": "markdown",
   "metadata": {},
   "source": [
    "<div class=\"alert alert-block alert-info\">\n",
    "<b>Комментарий студента:</b> \n",
    "Данные исправил. Чем ниже значение p, тем более неверной выглядит наша нулевая гипотеза.\n",
    "</div>"
   ]
  },
  {
   "cell_type": "markdown",
   "metadata": {},
   "source": [
    "<div class=\"alert alert-danger\">\n",
    "<font size=\"4\"><b>❌ Комментарий ревьюера в2</b></font>\n",
    "    <br /> \n",
    "    <font size=\"3\", color = \"black\">\n",
    "<br /> Вопрос дублирую, подсказки оставил\n",
    "        \n",
    "        Что означает на языке статистики  p-значение: 0.6206366351489678"
   ]
  },
  {
   "cell_type": "markdown",
   "metadata": {},
   "source": [
    "<div style=\"border:solid steelblue 3px; padding: 20px\">\n",
    "<font size=\"4\">🍕<b> Комментарий ревьюера в2</b></font>\n",
    "<br /> \n",
    "<font size=\"3\", color = \"black\">\n",
    "<br />\n",
    "Приведу пример и теорию для понимания формулировок и интерпретации итогов проведения гипотез</b>\n",
    "        \n",
    "      \n",
    "Задача. Приведены два датасета: сумма покупок, совершённых за месяц посетителями, привлечёнными по двум разным каналам. В вашем распоряжении случайная выборка из 30 покупок для каждого канала.\n",
    "        \n",
    "H0 - средние чеки равны\n",
    "        \n",
    "        \n",
    "H1 - средние чеки НЕ равны\n",
    "\n",
    "Да сама формулировка нулевой и альтернативной гипотезы звучит именно так, но результат теста интерпретируется другими словами\n",
    "        \n",
    "\n",
    "<b>Из теории на тренажере</b>\n",
    "        \n",
    "Формулирование двусторонних гипотез. <br>\n",
    "        \n",
    "<b>Никакие экспериментально полученные данные никогда не подтвердят какую-либо гипотезу. Это наше фундаментальное ограничение. </b>Данные могут лишь не противоречить ей или, наоборот, показывать крайне маловероятные результаты (при условии, что гипотеза верна). Но и в том, и в другом случае нет оснований утверждать, что выдвинутая гипотеза доказана.\n",
    "Допустим, данные гипотезе не противоречат, тогда мы её не отвергаем. Если же мы приходим к выводу, что получить такие данные в рамках этой гипотезы вряд ли возможно, у нас появляется основание отбросить эту гипотезу.\n",
    "    \n",
    "P-значение (англ. P-value) — величина, используемая при тестировании статистических гипотез. <b>Фактически это вероятность ошибки при отклонении нулевой гипотезы (ошибки первого рода)</b> пример ниже"
   ]
  },
  {
   "cell_type": "code",
   "execution_count": 56,
   "metadata": {},
   "outputs": [
    {
     "name": "stdout",
     "output_type": "stream",
     "text": [
      "p-значение: 0.1912450522572209\n",
      "Не получилось отвергнуть нулевую гипотезу\n"
     ]
    }
   ],
   "source": [
    "# Приведены два датасета: сумма покупок, совершённых за месяц посетителями ...\n",
    "\n",
    "sample_1 = [3071, 3636, 3454, 3151, 2185, 3259, 1727, 2263, 2015,\n",
    "2582, 4815, 633, 3186, 887, 2028, 3589, 2564, 1422, 1785,\n",
    "3180, 1770, 2716, 2546, 1848, 4644, 3134, 475, 2686,\n",
    "1838, 3352]\n",
    "sample_2 = [1211, 1228, 2157, 3699, 600, 1898, 1688, 1420, 5048, 3007,\n",
    "509, 3777, 5583, 3949, 121, 1674, 4300, 1338, 3066,\n",
    "3562, 1010, 2311, 462, 863, 2021, 528, 1849, 255,\n",
    "1740, 2596]\n",
    "alpha = .05 # критический уровень статистической значимости\n",
    "# если p-value окажется меньше него - отвергнем гипотезу\n",
    "results = st.ttest_ind(\n",
    "sample_1,\n",
    "sample_2)\n",
    "print('p-значение:', results.pvalue)\n",
    "if (results.pvalue < alpha):\n",
    "    print(\"Отвергаем нулевую гипотезу\")\n",
    "else:\n",
    "\n",
    "    print(\"Не получилось отвергнуть нулевую гипотезу\")"
   ]
  },
  {
   "cell_type": "markdown",
   "metadata": {},
   "source": [
    "<div style=\"border:solid steelblue 3px; padding: 20px\">\n",
    "<font size=\"4\">🍕<b> Комментарий ревьюера в2</b></font>\n",
    "<br /> \n",
    "<font size=\"3\", color = \"black\">\n",
    "<br />\n",
    "Интерпретация результата:\n",
    "\n",
    "Полученное значение p-value говорит о том, что хотя средний чек пришедших из разных каналов и неодинаков, <b>с вероятностью в почти 19% такое или большее различие можно получить случайно. </b>Это явно слишком большая вероятность, чтобы делать вывод о значимом различии между средними чеками.\n",
    "        \n",
    "А если p-value  будет равно 0,9999, то это значит, что с вероятностью почти 100% <u>такое различие</u> можно получить случайно — то есть никогда :)  (но учитываем, что тест проводится на выборке из генеральной совокупности, все может поменяться)\n"
   ]
  },
  {
   "cell_type": "markdown",
   "metadata": {},
   "source": [
    "<b>Вывод:</b> cредние пользовательские рейтинги платформ Xbox One и PC одинаковые."
   ]
  },
  {
   "cell_type": "markdown",
   "metadata": {},
   "source": [
    "Гипотеза: средние пользовательские рейтинги жанров Action (англ. «действие», экшен-игры) и Sports (англ. «спортивные соревнования») разные.\n",
    "\n",
    "Нулевая гипотеза H₀: средние пользовательские рейтинги жанров Action и Sports одинаковые.\n",
    "\n",
    "Исходя из H₀ формулируем альтернативную гипотезу H₁: средние пользовательские рейтинги жанров Action и Sports различаются."
   ]
  },
  {
   "cell_type": "code",
   "execution_count": 57,
   "metadata": {},
   "outputs": [
    {
     "name": "stdout",
     "output_type": "stream",
     "text": [
      "p-значение: 2.337200239591976e-20\n",
      "Отвергаем нулевую гипотезу\n"
     ]
    }
   ],
   "source": [
    "alpha = 0.05\n",
    "action_ratings = df_games_actual[(df_games_actual['genre'] == 'Action') & (df_games_actual['user_score'] > 0)]['user_score']\n",
    "sports_ratings = df_games_actual[(df_games_actual['genre'] == 'Sports') & (df_games_actual['user_score'] > 0)]['user_score']\n",
    "results = st.ttest_ind(\n",
    "    action_ratings,\n",
    "    sports_ratings,\n",
    "    equal_var=False,  \n",
    ")\n",
    "\n",
    "print('p-значение:', results.pvalue)\n",
    "\n",
    "if (results.pvalue < alpha):\n",
    "    print(\"Отвергаем нулевую гипотезу\")\n",
    "else:\n",
    "    print(\"Не получилось отвергнуть нулевую гипотезу\")"
   ]
  },
  {
   "cell_type": "markdown",
   "metadata": {},
   "source": [
    "<b>Вывод:</b> cредние пользовательские рейтинги жанров Action и Sports различаются."
   ]
  },
  {
   "cell_type": "markdown",
   "metadata": {},
   "source": [
    "Как сформулировали нулевую и альтернативную гипотезы:\n",
    "Нулевая гипотеза это утверждение (равно), а в альтернативную мы закладывается та теория, которую требуется подтверить или опровергнуть.\n",
    "\n",
    "Какой критерий применили для проверки гипотез:\n",
    "Проверили гипотезы по функции ttest_ind, вычисляющей t-тест двух независимых выборок."
   ]
  },
  {
   "cell_type": "markdown",
   "metadata": {},
   "source": [
    "<b>ВЫВОД</b>\n",
    "\n",
    "Перед анализом данных мы подготовили данные: привели к нижнему регистру названия колонок, привели к правильным типам данных необходимые столбцы, заменили tbd на nan для проведения дальнейшего анализа. Проведя анализ, мы выявили, что количество игр на игровые приставки и компьютеры начало расти с большой скоростью с 90х до 2008 года. С 2008 года произошел резкий спад. За весь проанализированный период самые популярные устройства - это PS2, X360, PS3, WII, DS. Средняя продолжительность жизни игрового устройства составляет порядка 11 лет при пике продаж через 4-5 лет после выпуска консоли. Выбран актуальный период с 2012 по 2016 гг., проанализирован рынок. У платформ лидеров c с наибольшими продажами за последние годы и наименьшей тенденцией к спаду  (XOne и PS4) наблюдается слабая взаимосвязь между продажами и оценками критиков. Самый популярный жанр за последние 10 лет: 'Action'. \n",
    "\n",
    "Также стоит отметить, что в настоящее время актуальными игровыми устройствами являются, по сути, только X360, PS4, PS3 и 3DS.\n",
    "<br>После мы составили стандартные портреты геймеров каждого региона:\n",
    "<br>Геймер Северной Америки играет в игры с рейтингом mature_17+ на X360 или PS4 в экшены, шутеры и спортивные симуляторы.\n",
    "<br>Геймер в Европе играет в игры с рейтингом mature_17+ на PS4 или PS3 в экшены, шутеры и спортивные симуляторы.\n",
    "<br>Геймер в Японии играет в игры с любым рейтингом на 3DS в ролевые игры.\n",
    "\n",
    "Игры с рейтингом \"tbd\", то есть с непроставленным, занимают внушительную нишу на рынке: почти 20% рынка Америки, 17% рынка Европы и почти половину рынка Японии. А значит, игрокам не так важен рейтинг игр при их покупке - гораздо важнее игровая составляющая. Выходит, что рейтинг ESRB не сильно влияет на продажи в мире.\n",
    "\n",
    "Гипотезу о похожих пользовательских оценках игр на Xbox One и PC отклонить не получилось, а вот гипотеза об одинаковых cредних пользовательских рейтингах жанров Action и Sports была отклонена."
   ]
  },
  {
   "cell_type": "markdown",
   "metadata": {},
   "source": [
    "<div class=\"alert alert-anger\">\n",
    "<font size=\"4\"><b>❌ Комментарий ревьюера</b></font>\n",
    "    <br /> \n",
    "    <font size=\"3\", color = \"black\">\n",
    "<br /> Технически вывод хороший, есть сравнения показателей, инсайты, анализ поведения клиентов, самое главное итоговая рекомендация бизнесу, молодец\n",
    "        \n",
    "__Осталось пересмотреть итоговый вывод на актуальной выборке, учесть исправление всех комментариев__\n",
    "        \n",
    "        \n",
    "можно подправить некоторые моменты\n",
    "        \n",
    "        Гипотеза о похожих пользовательских оценках игр на Xbox One и PC подтвердилась,\n",
    "\n",
    "<b>Из теории на тренажере</b>\n",
    "        \n",
    "Формулирование двусторонних гипотез. <br>\n",
    "        \n",
    "<b>Никакие экспериментально полученные данные никогда не подтвердят какую-либо гипотезу. Это наше фундаментальное ограничение. </b>Данные могут лишь не противоречить ей или, наоборот, показывать крайне маловероятные результаты (при условии, что гипотеза верна). Но и в том, и в другом случае нет оснований утверждать, что выдвинутая гипотеза доказана.\n",
    "Допустим, данные гипотезе не противоречат, тогда мы её не отвергаем. Если же мы приходим к выводу, что получить такие данные в рамках этой гипотезы вряд ли возможно, у нас появляется основание отбросить эту гипотезу.\n",
    "        "
   ]
  },
  {
   "cell_type": "markdown",
   "metadata": {},
   "source": [
    "<div class=\"alert alert-block alert-info\">\n",
    "<b>Комментарий студента:</b> \n",
    "Исправил.\n",
    "</div>"
   ]
  },
  {
   "cell_type": "markdown",
   "metadata": {},
   "source": [
    "<div class=\"alert alert-success\">\n",
    "<font size=\"5\", color= \"seagreen\"><b>✔️ Комментарий ревьюера</b></font>\n",
    "    <br /> \n",
    "    <font size=\"3\", color = \"black\">\n",
    "<br />   \n",
    "Ты выполнил практически все пункты проекта, молодец! Проведен значительный объем исследования \n",
    "        \n",
    "Критические ❌ комментарии связаны с неточностями: \n",
    "\n",
    " + добавить название\n",
    " + обработка пропусков в столбце рейтингов\n",
    " + сократить категории в рейтингах — на твое усмотрение\n",
    " + выброс на DS\n",
    " + самое важное — переопределить актуальный период\n",
    " + исправить диаграмму размаха для анализа продаж на актуальных платформах\n",
    " + оценить прибыльность жанров на диаграмме размаха\n",
    " + выбрать актуальный период для отрисовки графиков в ТОП-5 и пересмотреть раздел рейтингов\n",
    " + в разделе проверки гипотез подправить выборки плюс можно более подробно расшифровать значение p_value \n",
    " + перепроверить промежуточные и итоговый выводы после всех исправлений\n",
    " + дополнить итоговый вывод\n",
    "\n",
    "Если будут вопросы про мои комментарии - задавай, если какой-то формат взаимодействия не устраивает или есть какие-то другие пожелания - пиши :)\n",
    "\n",
    "<div class=\"alert alert-success\">\n",
    "    <font size=\"5\", color= \"seagreen\"><b>Жду твой проект и твои комментарии 🤝</b></font><br />"
   ]
  },
  {
   "cell_type": "markdown",
   "metadata": {},
   "source": [
    "<div style=\"border:solid steelblue 3px; padding: 20px\">\n",
    "<font size=\"4\">🍕<b> Комментарий ревьюера</b></font>\n",
    "<br /> \n",
    "<font size=\"3\", color = \"black\">\n",
    "<br />\n",
    "Может пригодиться  \n",
    "    \n",
    "[Подборка статей о работе с библиотеками для анализа данных на языке Python](https://dfedorov.spb.ru/pandas/)\n",
    "    \n",
    "   \n",
    "[Визуализация](https://dfedorov.spb.ru/pandas/%D0%AD%D1%84%D1%84%D0%B5%D0%BA%D1%82%D0%B8%D0%B2%D0%BD%D0%BE%D0%B5%20%D0%B8%D1%81%D0%BF%D0%BE%D0%BB%D1%8C%D0%B7%D0%BE%D0%B2%D0%B0%D0%BD%D0%B8%D0%B5%20Matplotlib.html)\n",
    "\n",
    "\n",
    "[Искусство статистики](https://www.mann-ivanov-ferber.ru/books/iskusstvo-statistiki/)\n",
    "        \n",
    "[Постер «Графики, которые убеждают всех»](https://www.notion.so/6c5ae8ceb8b5411e907c93c9b5e6a44e)        \n",
    "        \n",
    "        \n",
    "В помощь — как реализовать интерактивный план проекта вручную (для собственных проектов), смотри по <a href=\"https://stackoverflow.com/questions/49535664/how-to-hyperlink-in-a-jupyter-notebook/49717704\">ссылке</a>\n",
    "    \n",
    "пара ссылок и по разделам проекта можно будет переходить без пролистывания всего кода, особенно актуально на проектах длина которых >  10 страниц (и там где не установлен плагин TOC)      "
   ]
  }
 ],
 "metadata": {
  "ExecuteTimeLog": [
   {
    "duration": 1236,
    "start_time": "2022-07-04T15:22:35.936Z"
   },
   {
    "duration": 1099,
    "start_time": "2022-07-04T16:54:10.518Z"
   },
   {
    "duration": 68,
    "start_time": "2022-07-04T16:54:11.619Z"
   },
   {
    "duration": 14,
    "start_time": "2022-07-04T16:54:11.688Z"
   },
   {
    "duration": 17,
    "start_time": "2022-07-04T16:54:11.704Z"
   },
   {
    "duration": 3,
    "start_time": "2022-07-04T16:59:58.193Z"
   },
   {
    "duration": 14,
    "start_time": "2022-07-04T17:00:03.591Z"
   },
   {
    "duration": 1021,
    "start_time": "2022-07-04T17:03:50.341Z"
   },
   {
    "duration": 38,
    "start_time": "2022-07-04T17:03:51.364Z"
   },
   {
    "duration": 17,
    "start_time": "2022-07-04T17:03:51.405Z"
   },
   {
    "duration": 4,
    "start_time": "2022-07-04T17:03:51.424Z"
   },
   {
    "duration": 24,
    "start_time": "2022-07-04T17:03:51.430Z"
   },
   {
    "duration": 89,
    "start_time": "2022-07-04T17:09:58.527Z"
   },
   {
    "duration": 8,
    "start_time": "2022-07-04T17:10:35.683Z"
   },
   {
    "duration": 12,
    "start_time": "2022-07-04T17:10:46.388Z"
   },
   {
    "duration": 9,
    "start_time": "2022-07-04T17:11:20.683Z"
   },
   {
    "duration": 9,
    "start_time": "2022-07-04T17:11:36.519Z"
   },
   {
    "duration": 19,
    "start_time": "2022-07-04T17:11:41.383Z"
   },
   {
    "duration": 1029,
    "start_time": "2022-07-04T17:11:50.443Z"
   },
   {
    "duration": 45,
    "start_time": "2022-07-04T17:11:51.474Z"
   },
   {
    "duration": 23,
    "start_time": "2022-07-04T17:11:51.520Z"
   },
   {
    "duration": 6,
    "start_time": "2022-07-04T17:11:51.546Z"
   },
   {
    "duration": 23,
    "start_time": "2022-07-04T17:11:51.554Z"
   },
   {
    "duration": 9,
    "start_time": "2022-07-04T17:11:51.579Z"
   },
   {
    "duration": 15,
    "start_time": "2022-07-04T17:11:51.589Z"
   },
   {
    "duration": 9,
    "start_time": "2022-07-04T17:14:12.776Z"
   },
   {
    "duration": 17,
    "start_time": "2022-07-04T17:14:14.564Z"
   },
   {
    "duration": 1063,
    "start_time": "2022-07-04T17:17:33.425Z"
   },
   {
    "duration": 45,
    "start_time": "2022-07-04T17:17:34.490Z"
   },
   {
    "duration": 24,
    "start_time": "2022-07-04T17:17:34.537Z"
   },
   {
    "duration": 6,
    "start_time": "2022-07-04T17:17:34.563Z"
   },
   {
    "duration": 25,
    "start_time": "2022-07-04T17:17:34.572Z"
   },
   {
    "duration": 8,
    "start_time": "2022-07-04T17:17:34.599Z"
   },
   {
    "duration": 17,
    "start_time": "2022-07-04T17:17:34.608Z"
   },
   {
    "duration": 24,
    "start_time": "2022-07-04T17:17:34.627Z"
   },
   {
    "duration": 9,
    "start_time": "2022-07-04T17:17:42.453Z"
   },
   {
    "duration": 19,
    "start_time": "2022-07-04T17:27:07.770Z"
   },
   {
    "duration": 19,
    "start_time": "2022-07-04T17:27:49.352Z"
   },
   {
    "duration": 15,
    "start_time": "2022-07-04T17:33:23.575Z"
   },
   {
    "duration": 4,
    "start_time": "2022-07-04T17:34:07.983Z"
   },
   {
    "duration": 1026,
    "start_time": "2022-07-04T17:34:12.743Z"
   },
   {
    "duration": 38,
    "start_time": "2022-07-04T17:34:13.771Z"
   },
   {
    "duration": 17,
    "start_time": "2022-07-04T17:34:13.813Z"
   },
   {
    "duration": 3,
    "start_time": "2022-07-04T17:34:13.832Z"
   },
   {
    "duration": 14,
    "start_time": "2022-07-04T17:34:13.841Z"
   },
   {
    "duration": 5,
    "start_time": "2022-07-04T17:34:13.856Z"
   },
   {
    "duration": 16,
    "start_time": "2022-07-04T17:34:13.862Z"
   },
   {
    "duration": 8,
    "start_time": "2022-07-04T17:34:13.879Z"
   },
   {
    "duration": 11,
    "start_time": "2022-07-04T17:34:13.889Z"
   },
   {
    "duration": 45,
    "start_time": "2022-07-04T17:34:13.902Z"
   },
   {
    "duration": 14,
    "start_time": "2022-07-04T17:34:13.949Z"
   },
   {
    "duration": 967,
    "start_time": "2022-07-04T17:37:08.201Z"
   },
   {
    "duration": 39,
    "start_time": "2022-07-04T17:37:09.170Z"
   },
   {
    "duration": 16,
    "start_time": "2022-07-04T17:37:09.210Z"
   },
   {
    "duration": 2,
    "start_time": "2022-07-04T17:37:09.228Z"
   },
   {
    "duration": 16,
    "start_time": "2022-07-04T17:37:09.232Z"
   },
   {
    "duration": 4,
    "start_time": "2022-07-04T17:37:09.249Z"
   },
   {
    "duration": 15,
    "start_time": "2022-07-04T17:37:09.254Z"
   },
   {
    "duration": 11,
    "start_time": "2022-07-04T17:37:09.270Z"
   },
   {
    "duration": 16,
    "start_time": "2022-07-04T17:37:09.282Z"
   },
   {
    "duration": 14,
    "start_time": "2022-07-04T17:37:09.299Z"
   },
   {
    "duration": 36,
    "start_time": "2022-07-04T17:37:09.315Z"
   },
   {
    "duration": 317,
    "start_time": "2022-07-04T17:39:18.599Z"
   },
   {
    "duration": 5,
    "start_time": "2022-07-04T17:39:38.987Z"
   },
   {
    "duration": 7,
    "start_time": "2022-07-04T17:41:12.955Z"
   },
   {
    "duration": 9,
    "start_time": "2022-07-04T17:41:20.615Z"
   },
   {
    "duration": 1014,
    "start_time": "2022-07-04T17:41:28.156Z"
   },
   {
    "duration": 40,
    "start_time": "2022-07-04T17:41:29.172Z"
   },
   {
    "duration": 17,
    "start_time": "2022-07-04T17:41:29.214Z"
   },
   {
    "duration": 6,
    "start_time": "2022-07-04T17:41:29.232Z"
   },
   {
    "duration": 14,
    "start_time": "2022-07-04T17:41:29.240Z"
   },
   {
    "duration": 4,
    "start_time": "2022-07-04T17:41:29.256Z"
   },
   {
    "duration": 19,
    "start_time": "2022-07-04T17:41:29.262Z"
   },
   {
    "duration": 7,
    "start_time": "2022-07-04T17:41:29.282Z"
   },
   {
    "duration": 11,
    "start_time": "2022-07-04T17:41:29.291Z"
   },
   {
    "duration": 13,
    "start_time": "2022-07-04T17:41:29.303Z"
   },
   {
    "duration": 16,
    "start_time": "2022-07-04T17:41:29.343Z"
   },
   {
    "duration": 309,
    "start_time": "2022-07-04T17:41:29.361Z"
   },
   {
    "duration": 4,
    "start_time": "2022-07-04T17:41:29.672Z"
   },
   {
    "duration": 7,
    "start_time": "2022-07-04T17:41:29.678Z"
   },
   {
    "duration": 8,
    "start_time": "2022-07-04T17:41:29.687Z"
   },
   {
    "duration": 9,
    "start_time": "2022-07-04T17:44:32.324Z"
   },
   {
    "duration": 1086,
    "start_time": "2022-07-04T17:45:34.224Z"
   },
   {
    "duration": 38,
    "start_time": "2022-07-04T17:45:35.312Z"
   },
   {
    "duration": 20,
    "start_time": "2022-07-04T17:45:35.352Z"
   },
   {
    "duration": 4,
    "start_time": "2022-07-04T17:45:35.374Z"
   },
   {
    "duration": 17,
    "start_time": "2022-07-04T17:45:35.380Z"
   },
   {
    "duration": 5,
    "start_time": "2022-07-04T17:45:35.398Z"
   },
   {
    "duration": 41,
    "start_time": "2022-07-04T17:45:35.405Z"
   },
   {
    "duration": 9,
    "start_time": "2022-07-04T17:45:35.448Z"
   },
   {
    "duration": 14,
    "start_time": "2022-07-04T17:45:35.458Z"
   },
   {
    "duration": 14,
    "start_time": "2022-07-04T17:45:35.475Z"
   },
   {
    "duration": 19,
    "start_time": "2022-07-04T17:45:35.490Z"
   },
   {
    "duration": 331,
    "start_time": "2022-07-04T17:45:35.511Z"
   },
   {
    "duration": 5,
    "start_time": "2022-07-04T17:45:35.844Z"
   },
   {
    "duration": 11,
    "start_time": "2022-07-04T17:45:35.850Z"
   },
   {
    "duration": 13,
    "start_time": "2022-07-04T17:45:35.863Z"
   },
   {
    "duration": 8,
    "start_time": "2022-07-04T17:45:35.877Z"
   },
   {
    "duration": 5,
    "start_time": "2022-07-04T17:46:08.420Z"
   },
   {
    "duration": 13,
    "start_time": "2022-07-04T17:50:08.918Z"
   },
   {
    "duration": 13,
    "start_time": "2022-07-04T17:51:18.848Z"
   },
   {
    "duration": 12,
    "start_time": "2022-07-04T17:51:22.406Z"
   },
   {
    "duration": 14,
    "start_time": "2022-07-04T17:51:50.654Z"
   },
   {
    "duration": 19,
    "start_time": "2022-07-04T17:51:56.929Z"
   },
   {
    "duration": 4,
    "start_time": "2022-07-04T17:54:37.421Z"
   },
   {
    "duration": 13,
    "start_time": "2022-07-04T17:54:46.573Z"
   },
   {
    "duration": 980,
    "start_time": "2022-07-04T17:54:59.285Z"
   },
   {
    "duration": 38,
    "start_time": "2022-07-04T17:55:00.267Z"
   },
   {
    "duration": 17,
    "start_time": "2022-07-04T17:55:00.307Z"
   },
   {
    "duration": 2,
    "start_time": "2022-07-04T17:55:00.326Z"
   },
   {
    "duration": 20,
    "start_time": "2022-07-04T17:55:00.329Z"
   },
   {
    "duration": 7,
    "start_time": "2022-07-04T17:55:00.351Z"
   },
   {
    "duration": 18,
    "start_time": "2022-07-04T17:55:00.360Z"
   },
   {
    "duration": 7,
    "start_time": "2022-07-04T17:55:00.380Z"
   },
   {
    "duration": 16,
    "start_time": "2022-07-04T17:55:00.389Z"
   },
   {
    "duration": 14,
    "start_time": "2022-07-04T17:55:00.407Z"
   },
   {
    "duration": 35,
    "start_time": "2022-07-04T17:55:00.423Z"
   },
   {
    "duration": 306,
    "start_time": "2022-07-04T17:55:00.460Z"
   },
   {
    "duration": 4,
    "start_time": "2022-07-04T17:55:00.768Z"
   },
   {
    "duration": 21,
    "start_time": "2022-07-04T17:55:00.773Z"
   },
   {
    "duration": 15,
    "start_time": "2022-07-04T17:55:00.796Z"
   },
   {
    "duration": 9,
    "start_time": "2022-07-04T17:55:00.812Z"
   },
   {
    "duration": 10,
    "start_time": "2022-07-04T17:55:00.823Z"
   },
   {
    "duration": 32,
    "start_time": "2022-07-04T17:55:00.835Z"
   },
   {
    "duration": 4,
    "start_time": "2022-07-04T17:58:03.002Z"
   },
   {
    "duration": 16,
    "start_time": "2022-07-04T17:58:08.343Z"
   },
   {
    "duration": 99,
    "start_time": "2022-07-04T18:00:28.081Z"
   },
   {
    "duration": 1061,
    "start_time": "2022-07-04T18:00:57.888Z"
   },
   {
    "duration": 38,
    "start_time": "2022-07-04T18:00:58.951Z"
   },
   {
    "duration": 18,
    "start_time": "2022-07-04T18:00:58.993Z"
   },
   {
    "duration": 3,
    "start_time": "2022-07-04T18:00:59.012Z"
   },
   {
    "duration": 18,
    "start_time": "2022-07-04T18:00:59.017Z"
   },
   {
    "duration": 4,
    "start_time": "2022-07-04T18:00:59.042Z"
   },
   {
    "duration": 19,
    "start_time": "2022-07-04T18:00:59.047Z"
   },
   {
    "duration": 9,
    "start_time": "2022-07-04T18:00:59.067Z"
   },
   {
    "duration": 14,
    "start_time": "2022-07-04T18:00:59.078Z"
   },
   {
    "duration": 14,
    "start_time": "2022-07-04T18:00:59.094Z"
   },
   {
    "duration": 40,
    "start_time": "2022-07-04T18:00:59.109Z"
   },
   {
    "duration": 303,
    "start_time": "2022-07-04T18:00:59.151Z"
   },
   {
    "duration": 4,
    "start_time": "2022-07-04T18:00:59.455Z"
   },
   {
    "duration": 13,
    "start_time": "2022-07-04T18:00:59.461Z"
   },
   {
    "duration": 8,
    "start_time": "2022-07-04T18:00:59.476Z"
   },
   {
    "duration": 5,
    "start_time": "2022-07-04T18:00:59.485Z"
   },
   {
    "duration": 7,
    "start_time": "2022-07-04T18:00:59.491Z"
   },
   {
    "duration": 14,
    "start_time": "2022-07-04T18:00:59.499Z"
   },
   {
    "duration": 27,
    "start_time": "2022-07-04T18:00:59.515Z"
   },
   {
    "duration": 15,
    "start_time": "2022-07-04T18:00:59.544Z"
   },
   {
    "duration": 200,
    "start_time": "2022-07-04T18:00:59.561Z"
   },
   {
    "duration": 335,
    "start_time": "2022-07-04T18:03:06.808Z"
   },
   {
    "duration": 923,
    "start_time": "2022-07-04T18:03:54.087Z"
   },
   {
    "duration": 12,
    "start_time": "2022-07-04T18:06:02.788Z"
   },
   {
    "duration": 12,
    "start_time": "2022-07-04T18:06:12.911Z"
   },
   {
    "duration": 11,
    "start_time": "2022-07-04T18:07:47.124Z"
   },
   {
    "duration": 1127,
    "start_time": "2022-07-04T18:11:00.306Z"
   },
   {
    "duration": 17,
    "start_time": "2022-07-04T18:11:18.936Z"
   },
   {
    "duration": 14,
    "start_time": "2022-07-04T18:12:22.998Z"
   },
   {
    "duration": 17,
    "start_time": "2022-07-04T18:12:26.842Z"
   },
   {
    "duration": 214,
    "start_time": "2022-07-04T18:12:34.838Z"
   },
   {
    "duration": 11,
    "start_time": "2022-07-04T18:15:09.905Z"
   },
   {
    "duration": 10,
    "start_time": "2022-07-04T18:15:36.229Z"
   },
   {
    "duration": 10,
    "start_time": "2022-07-04T18:15:51.306Z"
   },
   {
    "duration": 8,
    "start_time": "2022-07-04T18:16:42.390Z"
   },
   {
    "duration": 858,
    "start_time": "2022-07-04T18:17:31.510Z"
   },
   {
    "duration": 10,
    "start_time": "2022-07-04T18:21:11.085Z"
   },
   {
    "duration": 21,
    "start_time": "2022-07-04T18:26:41.934Z"
   },
   {
    "duration": 1582,
    "start_time": "2022-07-05T13:18:31.984Z"
   },
   {
    "duration": 228,
    "start_time": "2022-07-05T13:18:33.568Z"
   },
   {
    "duration": 26,
    "start_time": "2022-07-05T13:18:33.800Z"
   },
   {
    "duration": 5,
    "start_time": "2022-07-05T13:18:33.829Z"
   },
   {
    "duration": 21,
    "start_time": "2022-07-05T13:18:33.837Z"
   },
   {
    "duration": 6,
    "start_time": "2022-07-05T13:18:33.860Z"
   },
   {
    "duration": 55,
    "start_time": "2022-07-05T13:18:33.868Z"
   },
   {
    "duration": 12,
    "start_time": "2022-07-05T13:18:33.925Z"
   },
   {
    "duration": 18,
    "start_time": "2022-07-05T13:18:33.938Z"
   },
   {
    "duration": 16,
    "start_time": "2022-07-05T13:18:33.959Z"
   },
   {
    "duration": 47,
    "start_time": "2022-07-05T13:18:33.977Z"
   },
   {
    "duration": 413,
    "start_time": "2022-07-05T13:18:34.026Z"
   },
   {
    "duration": 4,
    "start_time": "2022-07-05T13:18:34.441Z"
   },
   {
    "duration": 9,
    "start_time": "2022-07-05T13:18:34.447Z"
   },
   {
    "duration": 10,
    "start_time": "2022-07-05T13:18:34.458Z"
   },
   {
    "duration": 33,
    "start_time": "2022-07-05T13:18:34.470Z"
   },
   {
    "duration": 27,
    "start_time": "2022-07-05T13:18:34.505Z"
   },
   {
    "duration": 15,
    "start_time": "2022-07-05T13:18:34.534Z"
   },
   {
    "duration": 5,
    "start_time": "2022-07-05T13:18:34.551Z"
   },
   {
    "duration": 21,
    "start_time": "2022-07-05T13:18:34.558Z"
   },
   {
    "duration": 265,
    "start_time": "2022-07-05T13:18:34.581Z"
   },
   {
    "duration": 13,
    "start_time": "2022-07-05T13:18:34.847Z"
   },
   {
    "duration": 6,
    "start_time": "2022-07-05T13:18:34.862Z"
   },
   {
    "duration": 1054,
    "start_time": "2022-07-05T13:18:34.870Z"
   },
   {
    "duration": 9,
    "start_time": "2022-07-05T13:18:35.927Z"
   },
   {
    "duration": 129,
    "start_time": "2022-07-05T13:18:35.938Z"
   },
   {
    "duration": 9,
    "start_time": "2022-07-05T13:21:55.549Z"
   },
   {
    "duration": 1353,
    "start_time": "2022-07-05T13:22:02.892Z"
   },
   {
    "duration": 56,
    "start_time": "2022-07-05T13:22:04.247Z"
   },
   {
    "duration": 32,
    "start_time": "2022-07-05T13:22:04.305Z"
   },
   {
    "duration": 3,
    "start_time": "2022-07-05T13:22:04.340Z"
   },
   {
    "duration": 22,
    "start_time": "2022-07-05T13:22:04.345Z"
   },
   {
    "duration": 7,
    "start_time": "2022-07-05T13:22:04.368Z"
   },
   {
    "duration": 48,
    "start_time": "2022-07-05T13:22:04.376Z"
   },
   {
    "duration": 12,
    "start_time": "2022-07-05T13:22:04.427Z"
   },
   {
    "duration": 14,
    "start_time": "2022-07-05T13:22:04.441Z"
   },
   {
    "duration": 16,
    "start_time": "2022-07-05T13:22:04.458Z"
   },
   {
    "duration": 41,
    "start_time": "2022-07-05T13:22:04.508Z"
   },
   {
    "duration": 387,
    "start_time": "2022-07-05T13:22:04.551Z"
   },
   {
    "duration": 4,
    "start_time": "2022-07-05T13:22:04.940Z"
   },
   {
    "duration": 12,
    "start_time": "2022-07-05T13:22:04.946Z"
   },
   {
    "duration": 9,
    "start_time": "2022-07-05T13:22:04.960Z"
   },
   {
    "duration": 5,
    "start_time": "2022-07-05T13:22:04.970Z"
   },
   {
    "duration": 51,
    "start_time": "2022-07-05T13:22:04.977Z"
   },
   {
    "duration": 22,
    "start_time": "2022-07-05T13:22:05.030Z"
   },
   {
    "duration": 6,
    "start_time": "2022-07-05T13:22:05.054Z"
   },
   {
    "duration": 31,
    "start_time": "2022-07-05T13:22:05.062Z"
   },
   {
    "duration": 266,
    "start_time": "2022-07-05T13:22:05.096Z"
   },
   {
    "duration": 13,
    "start_time": "2022-07-05T13:22:05.364Z"
   },
   {
    "duration": 55,
    "start_time": "2022-07-05T13:22:05.379Z"
   },
   {
    "duration": 1017,
    "start_time": "2022-07-05T13:22:05.436Z"
   },
   {
    "duration": 8,
    "start_time": "2022-07-05T13:22:06.455Z"
   },
   {
    "duration": 167,
    "start_time": "2022-07-05T13:22:06.464Z"
   },
   {
    "duration": 11,
    "start_time": "2022-07-05T13:22:21.234Z"
   },
   {
    "duration": 21,
    "start_time": "2022-07-05T13:22:28.337Z"
   },
   {
    "duration": 32,
    "start_time": "2022-07-05T13:23:02.793Z"
   },
   {
    "duration": 37,
    "start_time": "2022-07-05T13:23:08.784Z"
   },
   {
    "duration": 1295,
    "start_time": "2022-07-05T13:23:53.197Z"
   },
   {
    "duration": 61,
    "start_time": "2022-07-05T13:23:54.494Z"
   },
   {
    "duration": 20,
    "start_time": "2022-07-05T13:23:54.558Z"
   },
   {
    "duration": 3,
    "start_time": "2022-07-05T13:23:54.581Z"
   },
   {
    "duration": 34,
    "start_time": "2022-07-05T13:23:54.586Z"
   },
   {
    "duration": 13,
    "start_time": "2022-07-05T13:23:54.622Z"
   },
   {
    "duration": 20,
    "start_time": "2022-07-05T13:23:54.637Z"
   },
   {
    "duration": 10,
    "start_time": "2022-07-05T13:23:54.658Z"
   },
   {
    "duration": 44,
    "start_time": "2022-07-05T13:23:54.670Z"
   },
   {
    "duration": 20,
    "start_time": "2022-07-05T13:23:54.717Z"
   },
   {
    "duration": 18,
    "start_time": "2022-07-05T13:23:54.739Z"
   },
   {
    "duration": 412,
    "start_time": "2022-07-05T13:23:54.758Z"
   },
   {
    "duration": 4,
    "start_time": "2022-07-05T13:23:55.172Z"
   },
   {
    "duration": 22,
    "start_time": "2022-07-05T13:23:55.178Z"
   },
   {
    "duration": 12,
    "start_time": "2022-07-05T13:23:55.201Z"
   },
   {
    "duration": 16,
    "start_time": "2022-07-05T13:23:55.219Z"
   },
   {
    "duration": 7,
    "start_time": "2022-07-05T13:23:55.236Z"
   },
   {
    "duration": 18,
    "start_time": "2022-07-05T13:23:55.245Z"
   },
   {
    "duration": 5,
    "start_time": "2022-07-05T13:23:55.265Z"
   },
   {
    "duration": 55,
    "start_time": "2022-07-05T13:23:55.271Z"
   },
   {
    "duration": 246,
    "start_time": "2022-07-05T13:23:55.328Z"
   },
   {
    "duration": 24,
    "start_time": "2022-07-05T13:23:55.576Z"
   },
   {
    "duration": 36,
    "start_time": "2022-07-05T13:23:55.601Z"
   },
   {
    "duration": 1044,
    "start_time": "2022-07-05T13:23:55.639Z"
   },
   {
    "duration": 21,
    "start_time": "2022-07-05T13:23:56.685Z"
   },
   {
    "duration": 66,
    "start_time": "2022-07-05T13:23:56.707Z"
   },
   {
    "duration": 49,
    "start_time": "2022-07-05T15:13:18.211Z"
   },
   {
    "duration": 1240,
    "start_time": "2022-07-05T15:13:25.663Z"
   },
   {
    "duration": 82,
    "start_time": "2022-07-05T15:13:26.904Z"
   },
   {
    "duration": 19,
    "start_time": "2022-07-05T15:13:26.988Z"
   },
   {
    "duration": 3,
    "start_time": "2022-07-05T15:13:27.009Z"
   },
   {
    "duration": 27,
    "start_time": "2022-07-05T15:13:27.014Z"
   },
   {
    "duration": 14,
    "start_time": "2022-07-05T15:13:27.046Z"
   },
   {
    "duration": 31,
    "start_time": "2022-07-05T15:13:27.062Z"
   },
   {
    "duration": 20,
    "start_time": "2022-07-05T15:13:27.095Z"
   },
   {
    "duration": 24,
    "start_time": "2022-07-05T15:13:27.117Z"
   },
   {
    "duration": 16,
    "start_time": "2022-07-05T15:13:27.154Z"
   },
   {
    "duration": 16,
    "start_time": "2022-07-05T15:13:27.171Z"
   },
   {
    "duration": 350,
    "start_time": "2022-07-05T15:13:27.188Z"
   },
   {
    "duration": 15,
    "start_time": "2022-07-05T15:13:27.540Z"
   },
   {
    "duration": 9,
    "start_time": "2022-07-05T15:13:27.557Z"
   },
   {
    "duration": 15,
    "start_time": "2022-07-05T15:13:27.568Z"
   },
   {
    "duration": 10,
    "start_time": "2022-07-05T15:13:27.586Z"
   },
   {
    "duration": 12,
    "start_time": "2022-07-05T15:13:27.598Z"
   },
   {
    "duration": 42,
    "start_time": "2022-07-05T15:13:27.612Z"
   },
   {
    "duration": 6,
    "start_time": "2022-07-05T15:13:27.656Z"
   },
   {
    "duration": 27,
    "start_time": "2022-07-05T15:13:27.664Z"
   },
   {
    "duration": 255,
    "start_time": "2022-07-05T15:13:27.694Z"
   },
   {
    "duration": 17,
    "start_time": "2022-07-05T15:13:27.950Z"
   },
   {
    "duration": 32,
    "start_time": "2022-07-05T15:13:27.969Z"
   },
   {
    "duration": 941,
    "start_time": "2022-07-05T15:13:28.003Z"
   },
   {
    "duration": 10,
    "start_time": "2022-07-05T15:13:28.950Z"
   },
   {
    "duration": 40,
    "start_time": "2022-07-05T15:13:28.963Z"
   },
   {
    "duration": 16,
    "start_time": "2022-07-05T15:15:38.958Z"
   },
   {
    "duration": 13,
    "start_time": "2022-07-05T15:19:44.038Z"
   },
   {
    "duration": 101,
    "start_time": "2022-07-05T15:20:53.190Z"
   },
   {
    "duration": 9,
    "start_time": "2022-07-05T15:21:00.014Z"
   },
   {
    "duration": 27,
    "start_time": "2022-07-05T15:22:06.310Z"
   },
   {
    "duration": 24,
    "start_time": "2022-07-05T15:22:34.138Z"
   },
   {
    "duration": 16,
    "start_time": "2022-07-05T15:22:51.596Z"
   },
   {
    "duration": 122,
    "start_time": "2022-07-05T15:23:18.511Z"
   },
   {
    "duration": 105,
    "start_time": "2022-07-05T15:23:24.159Z"
   },
   {
    "duration": 14,
    "start_time": "2022-07-05T15:23:33.362Z"
   },
   {
    "duration": 14,
    "start_time": "2022-07-05T15:24:45.678Z"
   },
   {
    "duration": 14,
    "start_time": "2022-07-05T15:24:51.665Z"
   },
   {
    "duration": 11,
    "start_time": "2022-07-05T15:30:12.927Z"
   },
   {
    "duration": 860,
    "start_time": "2022-07-05T15:31:54.903Z"
   },
   {
    "duration": 379,
    "start_time": "2022-07-05T15:37:23.734Z"
   },
   {
    "duration": 339,
    "start_time": "2022-07-05T15:44:16.617Z"
   },
   {
    "duration": 312,
    "start_time": "2022-07-05T15:44:23.548Z"
   },
   {
    "duration": 325,
    "start_time": "2022-07-05T15:44:28.708Z"
   },
   {
    "duration": 356,
    "start_time": "2022-07-05T15:44:34.229Z"
   },
   {
    "duration": 7,
    "start_time": "2022-07-05T15:47:18.576Z"
   },
   {
    "duration": 10,
    "start_time": "2022-07-05T15:48:27.368Z"
   },
   {
    "duration": 329,
    "start_time": "2022-07-05T15:48:29.415Z"
   },
   {
    "duration": 189,
    "start_time": "2022-07-05T15:50:33.623Z"
   },
   {
    "duration": 271,
    "start_time": "2022-07-05T15:50:44.871Z"
   },
   {
    "duration": 200,
    "start_time": "2022-07-05T15:50:47.258Z"
   },
   {
    "duration": 4,
    "start_time": "2022-07-05T16:07:25.001Z"
   },
   {
    "duration": 407,
    "start_time": "2022-07-05T16:07:44.156Z"
   },
   {
    "duration": 4,
    "start_time": "2022-07-05T16:08:04.121Z"
   },
   {
    "duration": 388,
    "start_time": "2022-07-05T16:08:07.141Z"
   },
   {
    "duration": 5,
    "start_time": "2022-07-05T16:08:31.860Z"
   },
   {
    "duration": 433,
    "start_time": "2022-07-05T16:08:33.416Z"
   },
   {
    "duration": 4,
    "start_time": "2022-07-05T16:08:40.752Z"
   },
   {
    "duration": 408,
    "start_time": "2022-07-05T16:08:42.189Z"
   },
   {
    "duration": 62,
    "start_time": "2022-07-05T16:08:56.101Z"
   },
   {
    "duration": 475,
    "start_time": "2022-07-05T16:09:02.832Z"
   },
   {
    "duration": 409,
    "start_time": "2022-07-05T16:10:35.064Z"
   },
   {
    "duration": 24,
    "start_time": "2022-07-05T16:13:58.775Z"
   },
   {
    "duration": 18,
    "start_time": "2022-07-05T16:24:27.917Z"
   },
   {
    "duration": 19,
    "start_time": "2022-07-05T16:24:50.237Z"
   },
   {
    "duration": 13,
    "start_time": "2022-07-05T16:27:08.948Z"
   },
   {
    "duration": 9,
    "start_time": "2022-07-05T16:27:11.384Z"
   },
   {
    "duration": 10,
    "start_time": "2022-07-05T16:27:15.109Z"
   },
   {
    "duration": 9,
    "start_time": "2022-07-05T16:27:32.860Z"
   },
   {
    "duration": 5,
    "start_time": "2022-07-05T16:30:57.268Z"
   },
   {
    "duration": 9,
    "start_time": "2022-07-05T16:32:33.732Z"
   },
   {
    "duration": 18,
    "start_time": "2022-07-05T16:32:42.539Z"
   },
   {
    "duration": 10,
    "start_time": "2022-07-05T16:32:55.787Z"
   },
   {
    "duration": 1226,
    "start_time": "2022-07-05T17:04:03.398Z"
   },
   {
    "duration": 59,
    "start_time": "2022-07-05T17:04:04.627Z"
   },
   {
    "duration": 30,
    "start_time": "2022-07-05T17:04:04.689Z"
   },
   {
    "duration": 3,
    "start_time": "2022-07-05T17:04:04.721Z"
   },
   {
    "duration": 23,
    "start_time": "2022-07-05T17:04:04.727Z"
   },
   {
    "duration": 6,
    "start_time": "2022-07-05T17:04:04.753Z"
   },
   {
    "duration": 26,
    "start_time": "2022-07-05T17:04:04.761Z"
   },
   {
    "duration": 24,
    "start_time": "2022-07-05T17:04:04.789Z"
   },
   {
    "duration": 37,
    "start_time": "2022-07-05T17:04:04.815Z"
   },
   {
    "duration": 15,
    "start_time": "2022-07-05T17:04:04.854Z"
   },
   {
    "duration": 17,
    "start_time": "2022-07-05T17:04:04.871Z"
   },
   {
    "duration": 370,
    "start_time": "2022-07-05T17:04:04.890Z"
   },
   {
    "duration": 5,
    "start_time": "2022-07-05T17:04:05.261Z"
   },
   {
    "duration": 12,
    "start_time": "2022-07-05T17:04:05.269Z"
   },
   {
    "duration": 11,
    "start_time": "2022-07-05T17:04:05.283Z"
   },
   {
    "duration": 6,
    "start_time": "2022-07-05T17:04:05.295Z"
   },
   {
    "duration": 8,
    "start_time": "2022-07-05T17:04:05.302Z"
   },
   {
    "duration": 48,
    "start_time": "2022-07-05T17:04:05.312Z"
   },
   {
    "duration": 5,
    "start_time": "2022-07-05T17:04:05.361Z"
   },
   {
    "duration": 21,
    "start_time": "2022-07-05T17:04:05.368Z"
   },
   {
    "duration": 247,
    "start_time": "2022-07-05T17:04:05.390Z"
   },
   {
    "duration": 12,
    "start_time": "2022-07-05T17:04:05.642Z"
   },
   {
    "duration": 7,
    "start_time": "2022-07-05T17:04:05.656Z"
   },
   {
    "duration": 964,
    "start_time": "2022-07-05T17:04:05.665Z"
   },
   {
    "duration": 17,
    "start_time": "2022-07-05T17:04:06.631Z"
   },
   {
    "duration": 830,
    "start_time": "2022-07-05T17:04:06.649Z"
   },
   {
    "duration": 431,
    "start_time": "2022-07-05T17:04:07.481Z"
   },
   {
    "duration": 7,
    "start_time": "2022-07-05T17:04:07.914Z"
   },
   {
    "duration": 21,
    "start_time": "2022-07-05T17:04:07.923Z"
   },
   {
    "duration": 378,
    "start_time": "2022-07-05T17:04:07.946Z"
   },
   {
    "duration": 212,
    "start_time": "2022-07-05T17:04:08.326Z"
   },
   {
    "duration": 5,
    "start_time": "2022-07-05T17:04:08.543Z"
   },
   {
    "duration": 514,
    "start_time": "2022-07-05T17:04:08.549Z"
   },
   {
    "duration": 512,
    "start_time": "2022-07-05T17:04:09.065Z"
   },
   {
    "duration": 4,
    "start_time": "2022-07-05T17:04:09.580Z"
   },
   {
    "duration": 31,
    "start_time": "2022-07-05T17:04:09.585Z"
   },
   {
    "duration": 10,
    "start_time": "2022-07-05T17:04:09.618Z"
   },
   {
    "duration": 12,
    "start_time": "2022-07-05T17:04:09.630Z"
   },
   {
    "duration": 840,
    "start_time": "2022-07-05T17:40:00.570Z"
   },
   {
    "duration": 1225,
    "start_time": "2022-07-05T17:45:52.313Z"
   },
   {
    "duration": 44,
    "start_time": "2022-07-05T17:45:53.540Z"
   },
   {
    "duration": 22,
    "start_time": "2022-07-05T17:45:53.586Z"
   },
   {
    "duration": 4,
    "start_time": "2022-07-05T17:45:53.611Z"
   },
   {
    "duration": 30,
    "start_time": "2022-07-05T17:45:53.617Z"
   },
   {
    "duration": 5,
    "start_time": "2022-07-05T17:45:53.650Z"
   },
   {
    "duration": 20,
    "start_time": "2022-07-05T17:45:53.657Z"
   },
   {
    "duration": 10,
    "start_time": "2022-07-05T17:45:53.679Z"
   },
   {
    "duration": 18,
    "start_time": "2022-07-05T17:45:53.691Z"
   },
   {
    "duration": 18,
    "start_time": "2022-07-05T17:45:53.741Z"
   },
   {
    "duration": 19,
    "start_time": "2022-07-05T17:45:53.762Z"
   },
   {
    "duration": 377,
    "start_time": "2022-07-05T17:45:53.783Z"
   },
   {
    "duration": 5,
    "start_time": "2022-07-05T17:45:54.161Z"
   },
   {
    "duration": 11,
    "start_time": "2022-07-05T17:45:54.169Z"
   },
   {
    "duration": 19,
    "start_time": "2022-07-05T17:45:54.182Z"
   },
   {
    "duration": 7,
    "start_time": "2022-07-05T17:45:54.203Z"
   },
   {
    "duration": 33,
    "start_time": "2022-07-05T17:45:54.212Z"
   },
   {
    "duration": 24,
    "start_time": "2022-07-05T17:45:54.247Z"
   },
   {
    "duration": 7,
    "start_time": "2022-07-05T17:45:54.273Z"
   },
   {
    "duration": 22,
    "start_time": "2022-07-05T17:45:54.282Z"
   },
   {
    "duration": 340,
    "start_time": "2022-07-05T17:45:54.306Z"
   },
   {
    "duration": 21,
    "start_time": "2022-07-05T17:45:54.648Z"
   },
   {
    "duration": 20,
    "start_time": "2022-07-05T17:45:54.672Z"
   },
   {
    "duration": 998,
    "start_time": "2022-07-05T17:45:54.695Z"
   },
   {
    "duration": 7,
    "start_time": "2022-07-05T17:45:55.696Z"
   },
   {
    "duration": 914,
    "start_time": "2022-07-05T17:45:55.705Z"
   },
   {
    "duration": 440,
    "start_time": "2022-07-05T17:45:56.620Z"
   },
   {
    "duration": 6,
    "start_time": "2022-07-05T17:45:57.063Z"
   },
   {
    "duration": 14,
    "start_time": "2022-07-05T17:45:57.071Z"
   },
   {
    "duration": 408,
    "start_time": "2022-07-05T17:45:57.088Z"
   },
   {
    "duration": 788,
    "start_time": "2022-07-05T17:45:57.497Z"
   },
   {
    "duration": 241,
    "start_time": "2022-07-05T17:45:58.288Z"
   },
   {
    "duration": 14,
    "start_time": "2022-07-05T17:45:58.531Z"
   },
   {
    "duration": 524,
    "start_time": "2022-07-05T17:45:58.548Z"
   },
   {
    "duration": 526,
    "start_time": "2022-07-05T17:45:59.074Z"
   },
   {
    "duration": 28,
    "start_time": "2022-07-05T17:45:59.602Z"
   },
   {
    "duration": 16,
    "start_time": "2022-07-05T17:45:59.632Z"
   },
   {
    "duration": 12,
    "start_time": "2022-07-05T17:45:59.651Z"
   },
   {
    "duration": 1440,
    "start_time": "2022-07-05T18:03:10.714Z"
   },
   {
    "duration": 55,
    "start_time": "2022-07-05T18:03:12.157Z"
   },
   {
    "duration": 20,
    "start_time": "2022-07-05T18:03:12.214Z"
   },
   {
    "duration": 4,
    "start_time": "2022-07-05T18:03:12.235Z"
   },
   {
    "duration": 60,
    "start_time": "2022-07-05T18:03:12.251Z"
   },
   {
    "duration": 6,
    "start_time": "2022-07-05T18:03:12.313Z"
   },
   {
    "duration": 34,
    "start_time": "2022-07-05T18:03:12.321Z"
   },
   {
    "duration": 30,
    "start_time": "2022-07-05T18:03:12.359Z"
   },
   {
    "duration": 23,
    "start_time": "2022-07-05T18:03:12.395Z"
   },
   {
    "duration": 46,
    "start_time": "2022-07-05T18:03:12.421Z"
   },
   {
    "duration": 47,
    "start_time": "2022-07-05T18:03:12.469Z"
   },
   {
    "duration": 491,
    "start_time": "2022-07-05T18:03:12.518Z"
   },
   {
    "duration": 4,
    "start_time": "2022-07-05T18:03:13.011Z"
   },
   {
    "duration": 8,
    "start_time": "2022-07-05T18:03:13.018Z"
   },
   {
    "duration": 29,
    "start_time": "2022-07-05T18:03:13.042Z"
   },
   {
    "duration": 26,
    "start_time": "2022-07-05T18:03:13.076Z"
   },
   {
    "duration": 7,
    "start_time": "2022-07-05T18:03:13.105Z"
   },
   {
    "duration": 17,
    "start_time": "2022-07-05T18:03:13.114Z"
   },
   {
    "duration": 5,
    "start_time": "2022-07-05T18:03:13.133Z"
   },
   {
    "duration": 61,
    "start_time": "2022-07-05T18:03:13.140Z"
   },
   {
    "duration": 265,
    "start_time": "2022-07-05T18:03:13.203Z"
   },
   {
    "duration": 29,
    "start_time": "2022-07-05T18:03:13.474Z"
   },
   {
    "duration": 12,
    "start_time": "2022-07-05T18:03:13.505Z"
   },
   {
    "duration": 1207,
    "start_time": "2022-07-05T18:03:13.519Z"
   },
   {
    "duration": 22,
    "start_time": "2022-07-05T18:03:14.729Z"
   },
   {
    "duration": 1093,
    "start_time": "2022-07-05T18:03:14.760Z"
   },
   {
    "duration": 534,
    "start_time": "2022-07-05T18:03:15.855Z"
   },
   {
    "duration": 6,
    "start_time": "2022-07-05T18:03:16.391Z"
   },
   {
    "duration": 13,
    "start_time": "2022-07-05T18:03:16.399Z"
   },
   {
    "duration": 449,
    "start_time": "2022-07-05T18:03:16.414Z"
   },
   {
    "duration": 914,
    "start_time": "2022-07-05T18:03:16.865Z"
   },
   {
    "duration": 288,
    "start_time": "2022-07-05T18:03:17.781Z"
   },
   {
    "duration": 17,
    "start_time": "2022-07-05T18:03:18.071Z"
   },
   {
    "duration": 576,
    "start_time": "2022-07-05T18:03:18.091Z"
   },
   {
    "duration": 600,
    "start_time": "2022-07-05T18:03:18.670Z"
   },
   {
    "duration": 28,
    "start_time": "2022-07-05T18:03:19.275Z"
   },
   {
    "duration": 10,
    "start_time": "2022-07-05T18:03:19.305Z"
   },
   {
    "duration": 13,
    "start_time": "2022-07-05T18:03:19.316Z"
   },
   {
    "duration": 49,
    "start_time": "2022-07-05T20:00:31.594Z"
   },
   {
    "duration": 1251,
    "start_time": "2022-07-05T20:01:09.464Z"
   },
   {
    "duration": 52,
    "start_time": "2022-07-05T20:01:10.721Z"
   },
   {
    "duration": 22,
    "start_time": "2022-07-05T20:01:10.774Z"
   },
   {
    "duration": 4,
    "start_time": "2022-07-05T20:01:10.797Z"
   },
   {
    "duration": 43,
    "start_time": "2022-07-05T20:01:10.803Z"
   },
   {
    "duration": 10,
    "start_time": "2022-07-05T20:01:10.848Z"
   },
   {
    "duration": 19,
    "start_time": "2022-07-05T20:01:10.860Z"
   },
   {
    "duration": 8,
    "start_time": "2022-07-05T20:01:10.881Z"
   },
   {
    "duration": 12,
    "start_time": "2022-07-05T20:01:10.890Z"
   },
   {
    "duration": 17,
    "start_time": "2022-07-05T20:01:10.904Z"
   },
   {
    "duration": 26,
    "start_time": "2022-07-05T20:01:10.923Z"
   },
   {
    "duration": 393,
    "start_time": "2022-07-05T20:01:10.951Z"
   },
   {
    "duration": 5,
    "start_time": "2022-07-05T20:01:11.346Z"
   },
   {
    "duration": 9,
    "start_time": "2022-07-05T20:01:11.355Z"
   },
   {
    "duration": 9,
    "start_time": "2022-07-05T20:01:11.365Z"
   },
   {
    "duration": 5,
    "start_time": "2022-07-05T20:01:11.375Z"
   },
   {
    "duration": 38,
    "start_time": "2022-07-05T20:01:11.381Z"
   },
   {
    "duration": 21,
    "start_time": "2022-07-05T20:01:11.420Z"
   },
   {
    "duration": 5,
    "start_time": "2022-07-05T20:01:11.443Z"
   },
   {
    "duration": 69,
    "start_time": "2022-07-05T20:01:11.449Z"
   },
   {
    "duration": 14,
    "start_time": "2022-07-05T20:01:11.521Z"
   },
   {
    "duration": 593,
    "start_time": "2022-07-05T20:01:11.537Z"
   },
   {
    "duration": 14,
    "start_time": "2022-07-05T20:01:12.131Z"
   },
   {
    "duration": 59,
    "start_time": "2022-07-05T20:01:12.147Z"
   },
   {
    "duration": 1774,
    "start_time": "2022-07-05T20:01:12.208Z"
   },
   {
    "duration": 7,
    "start_time": "2022-07-05T20:01:13.984Z"
   },
   {
    "duration": 868,
    "start_time": "2022-07-05T20:01:13.993Z"
   },
   {
    "duration": 465,
    "start_time": "2022-07-05T20:01:14.863Z"
   },
   {
    "duration": 7,
    "start_time": "2022-07-05T20:01:15.330Z"
   },
   {
    "duration": 14,
    "start_time": "2022-07-05T20:01:15.339Z"
   },
   {
    "duration": 380,
    "start_time": "2022-07-05T20:01:15.354Z"
   },
   {
    "duration": 797,
    "start_time": "2022-07-05T20:01:15.736Z"
   },
   {
    "duration": 261,
    "start_time": "2022-07-05T20:01:16.534Z"
   },
   {
    "duration": 15,
    "start_time": "2022-07-05T20:01:16.797Z"
   },
   {
    "duration": 602,
    "start_time": "2022-07-05T20:01:16.814Z"
   },
   {
    "duration": 502,
    "start_time": "2022-07-05T20:01:17.420Z"
   },
   {
    "duration": 32,
    "start_time": "2022-07-05T20:01:17.926Z"
   },
   {
    "duration": 10,
    "start_time": "2022-07-05T20:01:17.960Z"
   },
   {
    "duration": 17,
    "start_time": "2022-07-05T20:01:17.972Z"
   },
   {
    "duration": 13,
    "start_time": "2022-07-05T20:08:42.975Z"
   },
   {
    "duration": 15,
    "start_time": "2022-07-05T20:08:54.049Z"
   },
   {
    "duration": 1387,
    "start_time": "2022-07-05T20:25:05.700Z"
   },
   {
    "duration": 62,
    "start_time": "2022-07-05T20:25:07.090Z"
   },
   {
    "duration": 23,
    "start_time": "2022-07-05T20:25:07.155Z"
   },
   {
    "duration": 16,
    "start_time": "2022-07-05T20:25:07.180Z"
   },
   {
    "duration": 47,
    "start_time": "2022-07-05T20:25:07.199Z"
   },
   {
    "duration": 5,
    "start_time": "2022-07-05T20:25:07.248Z"
   },
   {
    "duration": 35,
    "start_time": "2022-07-05T20:25:07.254Z"
   },
   {
    "duration": 52,
    "start_time": "2022-07-05T20:25:07.290Z"
   },
   {
    "duration": 16,
    "start_time": "2022-07-05T20:25:07.344Z"
   },
   {
    "duration": 29,
    "start_time": "2022-07-05T20:25:07.361Z"
   },
   {
    "duration": 43,
    "start_time": "2022-07-05T20:25:07.392Z"
   },
   {
    "duration": 396,
    "start_time": "2022-07-05T20:25:07.437Z"
   },
   {
    "duration": 5,
    "start_time": "2022-07-05T20:25:07.835Z"
   },
   {
    "duration": 13,
    "start_time": "2022-07-05T20:25:07.845Z"
   },
   {
    "duration": 27,
    "start_time": "2022-07-05T20:25:07.860Z"
   },
   {
    "duration": 20,
    "start_time": "2022-07-05T20:25:07.889Z"
   },
   {
    "duration": 25,
    "start_time": "2022-07-05T20:25:07.911Z"
   },
   {
    "duration": 20,
    "start_time": "2022-07-05T20:25:07.938Z"
   },
   {
    "duration": 6,
    "start_time": "2022-07-05T20:25:07.960Z"
   },
   {
    "duration": 29,
    "start_time": "2022-07-05T20:25:07.968Z"
   },
   {
    "duration": 21,
    "start_time": "2022-07-05T20:25:07.999Z"
   },
   {
    "duration": 251,
    "start_time": "2022-07-05T20:25:08.022Z"
   },
   {
    "duration": 12,
    "start_time": "2022-07-05T20:25:08.275Z"
   },
   {
    "duration": 25,
    "start_time": "2022-07-05T20:25:08.289Z"
   },
   {
    "duration": 1043,
    "start_time": "2022-07-05T20:25:08.317Z"
   },
   {
    "duration": 9,
    "start_time": "2022-07-05T20:25:09.362Z"
   },
   {
    "duration": 959,
    "start_time": "2022-07-05T20:25:09.374Z"
   },
   {
    "duration": 479,
    "start_time": "2022-07-05T20:25:10.335Z"
   },
   {
    "duration": 9,
    "start_time": "2022-07-05T20:25:10.815Z"
   },
   {
    "duration": 11,
    "start_time": "2022-07-05T20:25:10.825Z"
   },
   {
    "duration": 415,
    "start_time": "2022-07-05T20:25:10.837Z"
   },
   {
    "duration": 785,
    "start_time": "2022-07-05T20:25:11.253Z"
   },
   {
    "duration": 232,
    "start_time": "2022-07-05T20:25:12.040Z"
   },
   {
    "duration": 4,
    "start_time": "2022-07-05T20:25:12.274Z"
   },
   {
    "duration": 527,
    "start_time": "2022-07-05T20:25:12.280Z"
   },
   {
    "duration": 508,
    "start_time": "2022-07-05T20:25:12.809Z"
   },
   {
    "duration": 30,
    "start_time": "2022-07-05T20:25:13.319Z"
   },
   {
    "duration": 9,
    "start_time": "2022-07-05T20:25:13.351Z"
   },
   {
    "duration": 10,
    "start_time": "2022-07-05T20:25:13.362Z"
   },
   {
    "duration": 90,
    "start_time": "2022-07-06T13:25:05.229Z"
   },
   {
    "duration": 48,
    "start_time": "2022-07-06T13:30:12.198Z"
   },
   {
    "duration": 1282,
    "start_time": "2022-07-06T13:30:18.078Z"
   },
   {
    "duration": 245,
    "start_time": "2022-07-06T13:30:19.362Z"
   },
   {
    "duration": 25,
    "start_time": "2022-07-06T13:30:19.612Z"
   },
   {
    "duration": 4,
    "start_time": "2022-07-06T13:30:19.638Z"
   },
   {
    "duration": 17,
    "start_time": "2022-07-06T13:30:19.645Z"
   },
   {
    "duration": 5,
    "start_time": "2022-07-06T13:30:19.664Z"
   },
   {
    "duration": 38,
    "start_time": "2022-07-06T13:30:19.671Z"
   },
   {
    "duration": 10,
    "start_time": "2022-07-06T13:30:19.713Z"
   },
   {
    "duration": 13,
    "start_time": "2022-07-06T13:30:19.725Z"
   },
   {
    "duration": 13,
    "start_time": "2022-07-06T13:30:19.740Z"
   },
   {
    "duration": 16,
    "start_time": "2022-07-06T13:30:19.754Z"
   },
   {
    "duration": 376,
    "start_time": "2022-07-06T13:30:19.772Z"
   },
   {
    "duration": 4,
    "start_time": "2022-07-06T13:30:20.149Z"
   },
   {
    "duration": 7,
    "start_time": "2022-07-06T13:30:20.156Z"
   },
   {
    "duration": 9,
    "start_time": "2022-07-06T13:30:20.164Z"
   },
   {
    "duration": 5,
    "start_time": "2022-07-06T13:30:20.174Z"
   },
   {
    "duration": 34,
    "start_time": "2022-07-06T13:30:20.181Z"
   },
   {
    "duration": 16,
    "start_time": "2022-07-06T13:30:20.217Z"
   },
   {
    "duration": 4,
    "start_time": "2022-07-06T13:30:20.234Z"
   },
   {
    "duration": 18,
    "start_time": "2022-07-06T13:30:20.240Z"
   },
   {
    "duration": 17,
    "start_time": "2022-07-06T13:30:20.260Z"
   },
   {
    "duration": 205,
    "start_time": "2022-07-06T13:30:20.278Z"
   },
   {
    "duration": 11,
    "start_time": "2022-07-06T13:30:20.484Z"
   },
   {
    "duration": 17,
    "start_time": "2022-07-06T13:30:20.504Z"
   },
   {
    "duration": 811,
    "start_time": "2022-07-06T13:30:20.523Z"
   },
   {
    "duration": 6,
    "start_time": "2022-07-06T13:30:21.336Z"
   },
   {
    "duration": 829,
    "start_time": "2022-07-06T13:30:21.343Z"
   },
   {
    "duration": 389,
    "start_time": "2022-07-06T13:30:22.174Z"
   },
   {
    "duration": 6,
    "start_time": "2022-07-06T13:30:22.565Z"
   },
   {
    "duration": 11,
    "start_time": "2022-07-06T13:30:22.572Z"
   },
   {
    "duration": 359,
    "start_time": "2022-07-06T13:30:22.585Z"
   },
   {
    "duration": 677,
    "start_time": "2022-07-06T13:30:22.946Z"
   },
   {
    "duration": 204,
    "start_time": "2022-07-06T13:30:23.625Z"
   },
   {
    "duration": 4,
    "start_time": "2022-07-06T13:30:23.831Z"
   },
   {
    "duration": 402,
    "start_time": "2022-07-06T13:30:23.836Z"
   },
   {
    "duration": 456,
    "start_time": "2022-07-06T13:30:24.240Z"
   },
   {
    "duration": 26,
    "start_time": "2022-07-06T13:30:24.698Z"
   },
   {
    "duration": 13,
    "start_time": "2022-07-06T13:30:24.725Z"
   },
   {
    "duration": 8,
    "start_time": "2022-07-06T13:30:24.739Z"
   },
   {
    "duration": 49,
    "start_time": "2022-07-06T15:12:10.717Z"
   },
   {
    "duration": 1471,
    "start_time": "2022-07-06T15:12:17.965Z"
   },
   {
    "duration": 80,
    "start_time": "2022-07-06T15:12:19.438Z"
   },
   {
    "duration": 22,
    "start_time": "2022-07-06T15:12:19.520Z"
   },
   {
    "duration": 5,
    "start_time": "2022-07-06T15:12:19.545Z"
   },
   {
    "duration": 23,
    "start_time": "2022-07-06T15:12:19.552Z"
   },
   {
    "duration": 5,
    "start_time": "2022-07-06T15:12:19.578Z"
   },
   {
    "duration": 51,
    "start_time": "2022-07-06T15:12:19.585Z"
   },
   {
    "duration": 10,
    "start_time": "2022-07-06T15:12:19.638Z"
   },
   {
    "duration": 16,
    "start_time": "2022-07-06T15:12:19.650Z"
   },
   {
    "duration": 18,
    "start_time": "2022-07-06T15:12:19.669Z"
   },
   {
    "duration": 50,
    "start_time": "2022-07-06T15:12:19.689Z"
   },
   {
    "duration": 400,
    "start_time": "2022-07-06T15:12:19.742Z"
   },
   {
    "duration": 5,
    "start_time": "2022-07-06T15:12:20.144Z"
   },
   {
    "duration": 8,
    "start_time": "2022-07-06T15:12:20.151Z"
   },
   {
    "duration": 13,
    "start_time": "2022-07-06T15:12:20.161Z"
   },
   {
    "duration": 6,
    "start_time": "2022-07-06T15:12:20.176Z"
   },
   {
    "duration": 8,
    "start_time": "2022-07-06T15:12:20.184Z"
   },
   {
    "duration": 41,
    "start_time": "2022-07-06T15:12:20.194Z"
   },
   {
    "duration": 6,
    "start_time": "2022-07-06T15:12:20.237Z"
   },
   {
    "duration": 19,
    "start_time": "2022-07-06T15:12:20.245Z"
   },
   {
    "duration": 21,
    "start_time": "2022-07-06T15:12:20.267Z"
   },
   {
    "duration": 1180,
    "start_time": "2022-07-06T15:12:20.290Z"
   },
   {
    "duration": 0,
    "start_time": "2022-07-06T15:12:21.473Z"
   },
   {
    "duration": 0,
    "start_time": "2022-07-06T15:12:21.474Z"
   },
   {
    "duration": 0,
    "start_time": "2022-07-06T15:12:21.476Z"
   },
   {
    "duration": 1,
    "start_time": "2022-07-06T15:12:21.477Z"
   },
   {
    "duration": 0,
    "start_time": "2022-07-06T15:12:21.479Z"
   },
   {
    "duration": 0,
    "start_time": "2022-07-06T15:12:21.480Z"
   },
   {
    "duration": 0,
    "start_time": "2022-07-06T15:12:21.482Z"
   },
   {
    "duration": 0,
    "start_time": "2022-07-06T15:12:21.483Z"
   },
   {
    "duration": 0,
    "start_time": "2022-07-06T15:12:21.484Z"
   },
   {
    "duration": 0,
    "start_time": "2022-07-06T15:12:21.487Z"
   },
   {
    "duration": 0,
    "start_time": "2022-07-06T15:12:21.489Z"
   },
   {
    "duration": 0,
    "start_time": "2022-07-06T15:12:21.490Z"
   },
   {
    "duration": 0,
    "start_time": "2022-07-06T15:12:21.492Z"
   },
   {
    "duration": 0,
    "start_time": "2022-07-06T15:12:21.493Z"
   },
   {
    "duration": 0,
    "start_time": "2022-07-06T15:12:21.495Z"
   },
   {
    "duration": 0,
    "start_time": "2022-07-06T15:12:21.496Z"
   },
   {
    "duration": 0,
    "start_time": "2022-07-06T15:12:21.498Z"
   },
   {
    "duration": 0,
    "start_time": "2022-07-06T15:12:21.499Z"
   },
   {
    "duration": 9,
    "start_time": "2022-07-06T15:20:32.842Z"
   },
   {
    "duration": 12,
    "start_time": "2022-07-06T15:27:05.325Z"
   },
   {
    "duration": 1151,
    "start_time": "2022-07-06T15:27:15.168Z"
   },
   {
    "duration": 42,
    "start_time": "2022-07-06T15:27:16.321Z"
   },
   {
    "duration": 19,
    "start_time": "2022-07-06T15:27:16.365Z"
   },
   {
    "duration": 4,
    "start_time": "2022-07-06T15:27:16.386Z"
   },
   {
    "duration": 20,
    "start_time": "2022-07-06T15:27:16.391Z"
   },
   {
    "duration": 13,
    "start_time": "2022-07-06T15:27:16.413Z"
   },
   {
    "duration": 19,
    "start_time": "2022-07-06T15:27:16.427Z"
   },
   {
    "duration": 9,
    "start_time": "2022-07-06T15:27:16.447Z"
   },
   {
    "duration": 15,
    "start_time": "2022-07-06T15:27:16.457Z"
   },
   {
    "duration": 17,
    "start_time": "2022-07-06T15:27:16.475Z"
   },
   {
    "duration": 18,
    "start_time": "2022-07-06T15:27:16.524Z"
   },
   {
    "duration": 346,
    "start_time": "2022-07-06T15:27:16.544Z"
   },
   {
    "duration": 5,
    "start_time": "2022-07-06T15:27:16.891Z"
   },
   {
    "duration": 7,
    "start_time": "2022-07-06T15:27:16.899Z"
   },
   {
    "duration": 9,
    "start_time": "2022-07-06T15:27:16.924Z"
   },
   {
    "duration": 5,
    "start_time": "2022-07-06T15:27:16.935Z"
   },
   {
    "duration": 14,
    "start_time": "2022-07-06T15:27:16.942Z"
   },
   {
    "duration": 22,
    "start_time": "2022-07-06T15:27:16.958Z"
   },
   {
    "duration": 4,
    "start_time": "2022-07-06T15:27:16.982Z"
   },
   {
    "duration": 42,
    "start_time": "2022-07-06T15:27:16.987Z"
   },
   {
    "duration": 13,
    "start_time": "2022-07-06T15:27:17.031Z"
   },
   {
    "duration": 6,
    "start_time": "2022-07-06T15:27:17.046Z"
   },
   {
    "duration": 13,
    "start_time": "2022-07-06T15:27:17.054Z"
   },
   {
    "duration": 243,
    "start_time": "2022-07-06T15:27:17.069Z"
   },
   {
    "duration": 21,
    "start_time": "2022-07-06T15:27:17.314Z"
   },
   {
    "duration": 8,
    "start_time": "2022-07-06T15:27:17.337Z"
   },
   {
    "duration": 908,
    "start_time": "2022-07-06T15:27:17.346Z"
   },
   {
    "duration": 7,
    "start_time": "2022-07-06T15:27:18.258Z"
   },
   {
    "duration": 952,
    "start_time": "2022-07-06T15:27:18.267Z"
   },
   {
    "duration": 434,
    "start_time": "2022-07-06T15:27:19.221Z"
   },
   {
    "duration": 6,
    "start_time": "2022-07-06T15:27:19.656Z"
   },
   {
    "duration": 17,
    "start_time": "2022-07-06T15:27:19.663Z"
   },
   {
    "duration": 378,
    "start_time": "2022-07-06T15:27:19.682Z"
   },
   {
    "duration": 743,
    "start_time": "2022-07-06T15:27:20.061Z"
   },
   {
    "duration": 221,
    "start_time": "2022-07-06T15:27:20.806Z"
   },
   {
    "duration": 5,
    "start_time": "2022-07-06T15:27:21.028Z"
   },
   {
    "duration": 466,
    "start_time": "2022-07-06T15:27:21.035Z"
   },
   {
    "duration": 503,
    "start_time": "2022-07-06T15:27:21.502Z"
   },
   {
    "duration": 23,
    "start_time": "2022-07-06T15:27:22.007Z"
   },
   {
    "duration": 11,
    "start_time": "2022-07-06T15:27:22.031Z"
   },
   {
    "duration": 22,
    "start_time": "2022-07-06T15:27:22.043Z"
   },
   {
    "duration": 1166,
    "start_time": "2022-07-06T15:32:52.811Z"
   },
   {
    "duration": 42,
    "start_time": "2022-07-06T15:32:53.979Z"
   },
   {
    "duration": 20,
    "start_time": "2022-07-06T15:32:54.022Z"
   },
   {
    "duration": 3,
    "start_time": "2022-07-06T15:32:54.044Z"
   },
   {
    "duration": 19,
    "start_time": "2022-07-06T15:32:54.049Z"
   },
   {
    "duration": 5,
    "start_time": "2022-07-06T15:32:54.070Z"
   },
   {
    "duration": 48,
    "start_time": "2022-07-06T15:32:54.076Z"
   },
   {
    "duration": 9,
    "start_time": "2022-07-06T15:32:54.126Z"
   },
   {
    "duration": 16,
    "start_time": "2022-07-06T15:32:54.136Z"
   },
   {
    "duration": 15,
    "start_time": "2022-07-06T15:32:54.155Z"
   },
   {
    "duration": 18,
    "start_time": "2022-07-06T15:32:54.172Z"
   },
   {
    "duration": 404,
    "start_time": "2022-07-06T15:32:54.191Z"
   },
   {
    "duration": 4,
    "start_time": "2022-07-06T15:32:54.597Z"
   },
   {
    "duration": 20,
    "start_time": "2022-07-06T15:32:54.603Z"
   },
   {
    "duration": 12,
    "start_time": "2022-07-06T15:32:54.625Z"
   },
   {
    "duration": 6,
    "start_time": "2022-07-06T15:32:54.639Z"
   },
   {
    "duration": 8,
    "start_time": "2022-07-06T15:32:54.647Z"
   },
   {
    "duration": 20,
    "start_time": "2022-07-06T15:32:54.656Z"
   },
   {
    "duration": 6,
    "start_time": "2022-07-06T15:32:54.678Z"
   },
   {
    "duration": 51,
    "start_time": "2022-07-06T15:32:54.686Z"
   },
   {
    "duration": 12,
    "start_time": "2022-07-06T15:32:54.739Z"
   },
   {
    "duration": 17,
    "start_time": "2022-07-06T15:32:54.753Z"
   },
   {
    "duration": 26,
    "start_time": "2022-07-06T15:32:54.772Z"
   },
   {
    "duration": 250,
    "start_time": "2022-07-06T15:32:54.799Z"
   },
   {
    "duration": 13,
    "start_time": "2022-07-06T15:32:55.050Z"
   },
   {
    "duration": 33,
    "start_time": "2022-07-06T15:32:55.064Z"
   },
   {
    "duration": 977,
    "start_time": "2022-07-06T15:32:55.099Z"
   },
   {
    "duration": 8,
    "start_time": "2022-07-06T15:32:56.079Z"
   },
   {
    "duration": 747,
    "start_time": "2022-07-06T15:32:56.089Z"
   },
   {
    "duration": 413,
    "start_time": "2022-07-06T15:32:56.838Z"
   },
   {
    "duration": 7,
    "start_time": "2022-07-06T15:32:57.252Z"
   },
   {
    "duration": 35,
    "start_time": "2022-07-06T15:32:57.261Z"
   },
   {
    "duration": 413,
    "start_time": "2022-07-06T15:32:57.299Z"
   },
   {
    "duration": 751,
    "start_time": "2022-07-06T15:32:57.714Z"
   },
   {
    "duration": 238,
    "start_time": "2022-07-06T15:32:58.467Z"
   },
   {
    "duration": 5,
    "start_time": "2022-07-06T15:32:58.707Z"
   },
   {
    "duration": 603,
    "start_time": "2022-07-06T15:32:58.714Z"
   },
   {
    "duration": 531,
    "start_time": "2022-07-06T15:32:59.319Z"
   },
   {
    "duration": 23,
    "start_time": "2022-07-06T15:32:59.852Z"
   },
   {
    "duration": 15,
    "start_time": "2022-07-06T15:32:59.876Z"
   },
   {
    "duration": 21,
    "start_time": "2022-07-06T15:32:59.894Z"
   },
   {
    "duration": 1202,
    "start_time": "2022-07-06T15:35:33.187Z"
   },
   {
    "duration": 44,
    "start_time": "2022-07-06T15:35:34.391Z"
   },
   {
    "duration": 20,
    "start_time": "2022-07-06T15:35:34.437Z"
   },
   {
    "duration": 4,
    "start_time": "2022-07-06T15:35:34.460Z"
   },
   {
    "duration": 22,
    "start_time": "2022-07-06T15:35:34.466Z"
   },
   {
    "duration": 5,
    "start_time": "2022-07-06T15:35:34.490Z"
   },
   {
    "duration": 41,
    "start_time": "2022-07-06T15:35:34.497Z"
   },
   {
    "duration": 12,
    "start_time": "2022-07-06T15:35:34.540Z"
   },
   {
    "duration": 18,
    "start_time": "2022-07-06T15:35:34.554Z"
   },
   {
    "duration": 18,
    "start_time": "2022-07-06T15:35:34.575Z"
   },
   {
    "duration": 46,
    "start_time": "2022-07-06T15:35:34.595Z"
   },
   {
    "duration": 364,
    "start_time": "2022-07-06T15:35:34.643Z"
   },
   {
    "duration": 5,
    "start_time": "2022-07-06T15:35:35.008Z"
   },
   {
    "duration": 15,
    "start_time": "2022-07-06T15:35:35.015Z"
   },
   {
    "duration": 12,
    "start_time": "2022-07-06T15:35:35.032Z"
   },
   {
    "duration": 7,
    "start_time": "2022-07-06T15:35:35.046Z"
   },
   {
    "duration": 13,
    "start_time": "2022-07-06T15:35:35.054Z"
   },
   {
    "duration": 19,
    "start_time": "2022-07-06T15:35:35.069Z"
   },
   {
    "duration": 5,
    "start_time": "2022-07-06T15:35:35.090Z"
   },
   {
    "duration": 42,
    "start_time": "2022-07-06T15:35:35.096Z"
   },
   {
    "duration": 13,
    "start_time": "2022-07-06T15:35:35.140Z"
   },
   {
    "duration": 9,
    "start_time": "2022-07-06T15:35:35.155Z"
   },
   {
    "duration": 16,
    "start_time": "2022-07-06T15:35:35.165Z"
   },
   {
    "duration": 247,
    "start_time": "2022-07-06T15:35:35.182Z"
   },
   {
    "duration": 13,
    "start_time": "2022-07-06T15:35:35.432Z"
   },
   {
    "duration": 10,
    "start_time": "2022-07-06T15:35:35.447Z"
   },
   {
    "duration": 951,
    "start_time": "2022-07-06T15:35:35.459Z"
   },
   {
    "duration": 12,
    "start_time": "2022-07-06T15:35:36.413Z"
   },
   {
    "duration": 691,
    "start_time": "2022-07-06T15:35:36.426Z"
   },
   {
    "duration": 449,
    "start_time": "2022-07-06T15:35:37.120Z"
   },
   {
    "duration": 6,
    "start_time": "2022-07-06T15:35:37.571Z"
   },
   {
    "duration": 13,
    "start_time": "2022-07-06T15:35:37.579Z"
   },
   {
    "duration": 377,
    "start_time": "2022-07-06T15:35:37.593Z"
   },
   {
    "duration": 695,
    "start_time": "2022-07-06T15:35:37.972Z"
   },
   {
    "duration": 262,
    "start_time": "2022-07-06T15:35:38.669Z"
   },
   {
    "duration": 6,
    "start_time": "2022-07-06T15:35:38.933Z"
   },
   {
    "duration": 513,
    "start_time": "2022-07-06T15:35:38.941Z"
   },
   {
    "duration": 513,
    "start_time": "2022-07-06T15:35:39.456Z"
   },
   {
    "duration": 25,
    "start_time": "2022-07-06T15:35:39.971Z"
   },
   {
    "duration": 9,
    "start_time": "2022-07-06T15:35:39.998Z"
   },
   {
    "duration": 14,
    "start_time": "2022-07-06T15:35:40.009Z"
   },
   {
    "duration": 1187,
    "start_time": "2022-07-06T15:47:49.573Z"
   },
   {
    "duration": 43,
    "start_time": "2022-07-06T15:47:50.762Z"
   },
   {
    "duration": 20,
    "start_time": "2022-07-06T15:47:50.806Z"
   },
   {
    "duration": 17,
    "start_time": "2022-07-06T15:47:50.828Z"
   },
   {
    "duration": 34,
    "start_time": "2022-07-06T15:47:50.847Z"
   },
   {
    "duration": 21,
    "start_time": "2022-07-06T15:47:50.882Z"
   },
   {
    "duration": 38,
    "start_time": "2022-07-06T15:47:50.905Z"
   },
   {
    "duration": 36,
    "start_time": "2022-07-06T15:47:50.944Z"
   },
   {
    "duration": 27,
    "start_time": "2022-07-06T15:47:50.982Z"
   },
   {
    "duration": 31,
    "start_time": "2022-07-06T15:47:51.012Z"
   },
   {
    "duration": 40,
    "start_time": "2022-07-06T15:47:51.045Z"
   },
   {
    "duration": 356,
    "start_time": "2022-07-06T15:47:51.087Z"
   },
   {
    "duration": 4,
    "start_time": "2022-07-06T15:47:51.445Z"
   },
   {
    "duration": 29,
    "start_time": "2022-07-06T15:47:51.451Z"
   },
   {
    "duration": 35,
    "start_time": "2022-07-06T15:47:51.482Z"
   },
   {
    "duration": 27,
    "start_time": "2022-07-06T15:47:51.519Z"
   },
   {
    "duration": 28,
    "start_time": "2022-07-06T15:47:51.548Z"
   },
   {
    "duration": 38,
    "start_time": "2022-07-06T15:47:51.578Z"
   },
   {
    "duration": 23,
    "start_time": "2022-07-06T15:47:51.618Z"
   },
   {
    "duration": 48,
    "start_time": "2022-07-06T15:47:51.643Z"
   },
   {
    "duration": 33,
    "start_time": "2022-07-06T15:47:51.693Z"
   },
   {
    "duration": 15,
    "start_time": "2022-07-06T15:47:51.728Z"
   },
   {
    "duration": 51,
    "start_time": "2022-07-06T15:47:51.745Z"
   },
   {
    "duration": 288,
    "start_time": "2022-07-06T15:47:51.798Z"
   },
   {
    "duration": 14,
    "start_time": "2022-07-06T15:47:52.087Z"
   },
   {
    "duration": 29,
    "start_time": "2022-07-06T15:47:52.103Z"
   },
   {
    "duration": 1040,
    "start_time": "2022-07-06T15:47:52.134Z"
   },
   {
    "duration": 7,
    "start_time": "2022-07-06T15:47:53.178Z"
   },
   {
    "duration": 698,
    "start_time": "2022-07-06T15:47:53.187Z"
   },
   {
    "duration": 415,
    "start_time": "2022-07-06T15:47:53.887Z"
   },
   {
    "duration": 7,
    "start_time": "2022-07-06T15:47:54.303Z"
   },
   {
    "duration": 23,
    "start_time": "2022-07-06T15:47:54.312Z"
   },
   {
    "duration": 379,
    "start_time": "2022-07-06T15:47:54.337Z"
   },
   {
    "duration": 740,
    "start_time": "2022-07-06T15:47:54.722Z"
   },
   {
    "duration": 232,
    "start_time": "2022-07-06T15:47:55.464Z"
   },
   {
    "duration": 5,
    "start_time": "2022-07-06T15:47:55.698Z"
   },
   {
    "duration": 523,
    "start_time": "2022-07-06T15:47:55.704Z"
   },
   {
    "duration": 508,
    "start_time": "2022-07-06T15:47:56.229Z"
   },
   {
    "duration": 22,
    "start_time": "2022-07-06T15:47:56.739Z"
   },
   {
    "duration": 13,
    "start_time": "2022-07-06T15:47:56.763Z"
   },
   {
    "duration": 22,
    "start_time": "2022-07-06T15:47:56.777Z"
   },
   {
    "duration": 1264,
    "start_time": "2022-07-06T16:01:45.127Z"
   },
   {
    "duration": 44,
    "start_time": "2022-07-06T16:01:46.393Z"
   },
   {
    "duration": 20,
    "start_time": "2022-07-06T16:01:46.438Z"
   },
   {
    "duration": 4,
    "start_time": "2022-07-06T16:01:46.460Z"
   },
   {
    "duration": 20,
    "start_time": "2022-07-06T16:01:46.466Z"
   },
   {
    "duration": 5,
    "start_time": "2022-07-06T16:01:46.488Z"
   },
   {
    "duration": 39,
    "start_time": "2022-07-06T16:01:46.495Z"
   },
   {
    "duration": 9,
    "start_time": "2022-07-06T16:01:46.535Z"
   },
   {
    "duration": 17,
    "start_time": "2022-07-06T16:01:46.546Z"
   },
   {
    "duration": 17,
    "start_time": "2022-07-06T16:01:46.567Z"
   },
   {
    "duration": 51,
    "start_time": "2022-07-06T16:01:46.586Z"
   },
   {
    "duration": 375,
    "start_time": "2022-07-06T16:01:46.638Z"
   },
   {
    "duration": 11,
    "start_time": "2022-07-06T16:01:47.015Z"
   },
   {
    "duration": 9,
    "start_time": "2022-07-06T16:01:47.028Z"
   },
   {
    "duration": 11,
    "start_time": "2022-07-06T16:01:47.038Z"
   },
   {
    "duration": 5,
    "start_time": "2022-07-06T16:01:47.051Z"
   },
   {
    "duration": 11,
    "start_time": "2022-07-06T16:01:47.058Z"
   },
   {
    "duration": 17,
    "start_time": "2022-07-06T16:01:47.071Z"
   },
   {
    "duration": 36,
    "start_time": "2022-07-06T16:01:47.090Z"
   },
   {
    "duration": 26,
    "start_time": "2022-07-06T16:01:47.128Z"
   },
   {
    "duration": 17,
    "start_time": "2022-07-06T16:01:47.156Z"
   },
   {
    "duration": 6,
    "start_time": "2022-07-06T16:01:47.175Z"
   },
   {
    "duration": 41,
    "start_time": "2022-07-06T16:01:47.183Z"
   },
   {
    "duration": 6,
    "start_time": "2022-07-06T16:01:47.225Z"
   },
   {
    "duration": 247,
    "start_time": "2022-07-06T16:01:47.233Z"
   },
   {
    "duration": 13,
    "start_time": "2022-07-06T16:01:47.482Z"
   },
   {
    "duration": 9,
    "start_time": "2022-07-06T16:01:47.497Z"
   },
   {
    "duration": 968,
    "start_time": "2022-07-06T16:01:47.523Z"
   },
   {
    "duration": 8,
    "start_time": "2022-07-06T16:01:48.493Z"
   },
   {
    "duration": 780,
    "start_time": "2022-07-06T16:01:48.503Z"
   },
   {
    "duration": 447,
    "start_time": "2022-07-06T16:01:49.285Z"
   },
   {
    "duration": 8,
    "start_time": "2022-07-06T16:01:49.734Z"
   },
   {
    "duration": 15,
    "start_time": "2022-07-06T16:01:49.744Z"
   },
   {
    "duration": 424,
    "start_time": "2022-07-06T16:01:49.761Z"
   },
   {
    "duration": 772,
    "start_time": "2022-07-06T16:01:50.187Z"
   },
   {
    "duration": 234,
    "start_time": "2022-07-06T16:01:50.961Z"
   },
   {
    "duration": 4,
    "start_time": "2022-07-06T16:01:51.197Z"
   },
   {
    "duration": 506,
    "start_time": "2022-07-06T16:01:51.203Z"
   },
   {
    "duration": 535,
    "start_time": "2022-07-06T16:01:51.710Z"
   },
   {
    "duration": 24,
    "start_time": "2022-07-06T16:01:52.247Z"
   },
   {
    "duration": 10,
    "start_time": "2022-07-06T16:01:52.274Z"
   },
   {
    "duration": 12,
    "start_time": "2022-07-06T16:01:52.286Z"
   },
   {
    "duration": 219,
    "start_time": "2022-07-06T16:04:14.078Z"
   },
   {
    "duration": 22,
    "start_time": "2022-07-06T16:04:23.074Z"
   },
   {
    "duration": 36,
    "start_time": "2022-07-06T16:05:58.792Z"
   },
   {
    "duration": 38,
    "start_time": "2022-07-06T16:06:18.886Z"
   },
   {
    "duration": 20,
    "start_time": "2022-07-06T16:07:09.929Z"
   },
   {
    "duration": 27,
    "start_time": "2022-07-06T16:09:21.354Z"
   },
   {
    "duration": 1190,
    "start_time": "2022-07-06T16:10:47.048Z"
   },
   {
    "duration": 59,
    "start_time": "2022-07-06T16:10:48.243Z"
   },
   {
    "duration": 30,
    "start_time": "2022-07-06T16:10:48.304Z"
   },
   {
    "duration": 6,
    "start_time": "2022-07-06T16:10:48.337Z"
   },
   {
    "duration": 21,
    "start_time": "2022-07-06T16:10:48.345Z"
   },
   {
    "duration": 5,
    "start_time": "2022-07-06T16:10:48.368Z"
   },
   {
    "duration": 26,
    "start_time": "2022-07-06T16:10:48.375Z"
   },
   {
    "duration": 35,
    "start_time": "2022-07-06T16:10:48.403Z"
   },
   {
    "duration": 24,
    "start_time": "2022-07-06T16:10:48.440Z"
   },
   {
    "duration": 18,
    "start_time": "2022-07-06T16:10:48.467Z"
   },
   {
    "duration": 40,
    "start_time": "2022-07-06T16:10:48.487Z"
   },
   {
    "duration": 398,
    "start_time": "2022-07-06T16:10:48.531Z"
   },
   {
    "duration": 14,
    "start_time": "2022-07-06T16:10:48.937Z"
   },
   {
    "duration": 12,
    "start_time": "2022-07-06T16:10:48.953Z"
   },
   {
    "duration": 23,
    "start_time": "2022-07-06T16:10:48.967Z"
   },
   {
    "duration": 62,
    "start_time": "2022-07-06T16:10:48.992Z"
   },
   {
    "duration": 20,
    "start_time": "2022-07-06T16:10:49.055Z"
   },
   {
    "duration": 32,
    "start_time": "2022-07-06T16:10:49.078Z"
   },
   {
    "duration": 5,
    "start_time": "2022-07-06T16:10:49.113Z"
   },
   {
    "duration": 59,
    "start_time": "2022-07-06T16:10:49.120Z"
   },
   {
    "duration": 20,
    "start_time": "2022-07-06T16:10:49.182Z"
   },
   {
    "duration": 8,
    "start_time": "2022-07-06T16:10:49.205Z"
   },
   {
    "duration": 45,
    "start_time": "2022-07-06T16:10:49.215Z"
   },
   {
    "duration": 22,
    "start_time": "2022-07-06T16:10:49.263Z"
   },
   {
    "duration": 287,
    "start_time": "2022-07-06T16:10:49.288Z"
   },
   {
    "duration": 14,
    "start_time": "2022-07-06T16:10:49.578Z"
   },
   {
    "duration": 36,
    "start_time": "2022-07-06T16:10:49.594Z"
   },
   {
    "duration": 6,
    "start_time": "2022-07-06T16:10:49.639Z"
   },
   {
    "duration": 12,
    "start_time": "2022-07-06T16:10:49.647Z"
   },
   {
    "duration": 1003,
    "start_time": "2022-07-06T16:10:49.661Z"
   },
   {
    "duration": 8,
    "start_time": "2022-07-06T16:10:50.666Z"
   },
   {
    "duration": 794,
    "start_time": "2022-07-06T16:10:50.676Z"
   },
   {
    "duration": 431,
    "start_time": "2022-07-06T16:10:51.473Z"
   },
   {
    "duration": 7,
    "start_time": "2022-07-06T16:10:51.906Z"
   },
   {
    "duration": 18,
    "start_time": "2022-07-06T16:10:51.924Z"
   },
   {
    "duration": 424,
    "start_time": "2022-07-06T16:10:51.944Z"
   },
   {
    "duration": 920,
    "start_time": "2022-07-06T16:10:52.371Z"
   },
   {
    "duration": 245,
    "start_time": "2022-07-06T16:10:53.293Z"
   },
   {
    "duration": 6,
    "start_time": "2022-07-06T16:10:53.540Z"
   },
   {
    "duration": 521,
    "start_time": "2022-07-06T16:10:53.548Z"
   },
   {
    "duration": 575,
    "start_time": "2022-07-06T16:10:54.071Z"
   },
   {
    "duration": 25,
    "start_time": "2022-07-06T16:10:54.648Z"
   },
   {
    "duration": 12,
    "start_time": "2022-07-06T16:10:54.675Z"
   },
   {
    "duration": 15,
    "start_time": "2022-07-06T16:10:54.690Z"
   },
   {
    "duration": 1473,
    "start_time": "2022-07-06T16:11:51.703Z"
   },
   {
    "duration": 57,
    "start_time": "2022-07-06T16:11:53.178Z"
   },
   {
    "duration": 22,
    "start_time": "2022-07-06T16:11:53.241Z"
   },
   {
    "duration": 4,
    "start_time": "2022-07-06T16:11:53.267Z"
   },
   {
    "duration": 23,
    "start_time": "2022-07-06T16:11:53.273Z"
   },
   {
    "duration": 6,
    "start_time": "2022-07-06T16:11:53.299Z"
   },
   {
    "duration": 38,
    "start_time": "2022-07-06T16:11:53.307Z"
   },
   {
    "duration": 10,
    "start_time": "2022-07-06T16:11:53.347Z"
   },
   {
    "duration": 19,
    "start_time": "2022-07-06T16:11:53.359Z"
   },
   {
    "duration": 52,
    "start_time": "2022-07-06T16:11:53.381Z"
   },
   {
    "duration": 20,
    "start_time": "2022-07-06T16:11:53.437Z"
   },
   {
    "duration": 396,
    "start_time": "2022-07-06T16:11:53.459Z"
   },
   {
    "duration": 4,
    "start_time": "2022-07-06T16:11:53.857Z"
   },
   {
    "duration": 12,
    "start_time": "2022-07-06T16:11:53.863Z"
   },
   {
    "duration": 12,
    "start_time": "2022-07-06T16:11:53.877Z"
   },
   {
    "duration": 9,
    "start_time": "2022-07-06T16:11:53.892Z"
   },
   {
    "duration": 12,
    "start_time": "2022-07-06T16:11:53.929Z"
   },
   {
    "duration": 20,
    "start_time": "2022-07-06T16:11:53.944Z"
   },
   {
    "duration": 6,
    "start_time": "2022-07-06T16:11:53.965Z"
   },
   {
    "duration": 25,
    "start_time": "2022-07-06T16:11:53.972Z"
   },
   {
    "duration": 45,
    "start_time": "2022-07-06T16:11:53.998Z"
   },
   {
    "duration": 8,
    "start_time": "2022-07-06T16:11:54.045Z"
   },
   {
    "duration": 15,
    "start_time": "2022-07-06T16:11:54.055Z"
   },
   {
    "duration": 6,
    "start_time": "2022-07-06T16:11:54.072Z"
   },
   {
    "duration": 270,
    "start_time": "2022-07-06T16:11:54.080Z"
   },
   {
    "duration": 14,
    "start_time": "2022-07-06T16:11:54.352Z"
   },
   {
    "duration": 21,
    "start_time": "2022-07-06T16:11:54.368Z"
   },
   {
    "duration": 4,
    "start_time": "2022-07-06T16:11:54.393Z"
   },
   {
    "duration": 53,
    "start_time": "2022-07-06T16:11:54.399Z"
   },
   {
    "duration": 1138,
    "start_time": "2022-07-06T16:11:54.455Z"
   },
   {
    "duration": 12,
    "start_time": "2022-07-06T16:11:55.596Z"
   },
   {
    "duration": 890,
    "start_time": "2022-07-06T16:11:55.612Z"
   },
   {
    "duration": 478,
    "start_time": "2022-07-06T16:11:56.503Z"
   },
   {
    "duration": 7,
    "start_time": "2022-07-06T16:11:56.983Z"
   },
   {
    "duration": 17,
    "start_time": "2022-07-06T16:11:56.993Z"
   },
   {
    "duration": 431,
    "start_time": "2022-07-06T16:11:57.030Z"
   },
   {
    "duration": 800,
    "start_time": "2022-07-06T16:11:57.463Z"
   },
   {
    "duration": 251,
    "start_time": "2022-07-06T16:11:58.265Z"
   },
   {
    "duration": 12,
    "start_time": "2022-07-06T16:11:58.518Z"
   },
   {
    "duration": 586,
    "start_time": "2022-07-06T16:11:58.533Z"
   },
   {
    "duration": 623,
    "start_time": "2022-07-06T16:11:59.123Z"
   },
   {
    "duration": 31,
    "start_time": "2022-07-06T16:11:59.748Z"
   },
   {
    "duration": 14,
    "start_time": "2022-07-06T16:11:59.781Z"
   },
   {
    "duration": 34,
    "start_time": "2022-07-06T16:11:59.797Z"
   },
   {
    "duration": 1258,
    "start_time": "2022-07-06T16:12:56.187Z"
   },
   {
    "duration": 44,
    "start_time": "2022-07-06T16:12:57.449Z"
   },
   {
    "duration": 21,
    "start_time": "2022-07-06T16:12:57.495Z"
   },
   {
    "duration": 8,
    "start_time": "2022-07-06T16:12:57.518Z"
   },
   {
    "duration": 37,
    "start_time": "2022-07-06T16:12:57.530Z"
   },
   {
    "duration": 8,
    "start_time": "2022-07-06T16:12:57.569Z"
   },
   {
    "duration": 25,
    "start_time": "2022-07-06T16:12:57.579Z"
   },
   {
    "duration": 27,
    "start_time": "2022-07-06T16:12:57.606Z"
   },
   {
    "duration": 19,
    "start_time": "2022-07-06T16:12:57.635Z"
   },
   {
    "duration": 16,
    "start_time": "2022-07-06T16:12:57.658Z"
   },
   {
    "duration": 36,
    "start_time": "2022-07-06T16:12:57.677Z"
   },
   {
    "duration": 553,
    "start_time": "2022-07-06T16:12:57.727Z"
   },
   {
    "duration": 7,
    "start_time": "2022-07-06T16:12:58.283Z"
   },
   {
    "duration": 22,
    "start_time": "2022-07-06T16:12:58.293Z"
   },
   {
    "duration": 36,
    "start_time": "2022-07-06T16:12:58.318Z"
   },
   {
    "duration": 7,
    "start_time": "2022-07-06T16:12:58.356Z"
   },
   {
    "duration": 9,
    "start_time": "2022-07-06T16:12:58.365Z"
   },
   {
    "duration": 21,
    "start_time": "2022-07-06T16:12:58.376Z"
   },
   {
    "duration": 5,
    "start_time": "2022-07-06T16:12:58.399Z"
   },
   {
    "duration": 40,
    "start_time": "2022-07-06T16:12:58.406Z"
   },
   {
    "duration": 14,
    "start_time": "2022-07-06T16:12:58.448Z"
   },
   {
    "duration": 7,
    "start_time": "2022-07-06T16:12:58.464Z"
   },
   {
    "duration": 19,
    "start_time": "2022-07-06T16:12:58.474Z"
   },
   {
    "duration": 35,
    "start_time": "2022-07-06T16:12:58.495Z"
   },
   {
    "duration": 273,
    "start_time": "2022-07-06T16:12:58.532Z"
   },
   {
    "duration": 34,
    "start_time": "2022-07-06T16:12:58.807Z"
   },
   {
    "duration": 35,
    "start_time": "2022-07-06T16:12:58.843Z"
   },
   {
    "duration": 4,
    "start_time": "2022-07-06T16:12:58.882Z"
   },
   {
    "duration": 28,
    "start_time": "2022-07-06T16:12:58.889Z"
   },
   {
    "duration": 1148,
    "start_time": "2022-07-06T16:12:58.919Z"
   },
   {
    "duration": 8,
    "start_time": "2022-07-06T16:13:00.070Z"
   },
   {
    "duration": 897,
    "start_time": "2022-07-06T16:13:00.080Z"
   },
   {
    "duration": 475,
    "start_time": "2022-07-06T16:13:00.980Z"
   },
   {
    "duration": 8,
    "start_time": "2022-07-06T16:13:01.457Z"
   },
   {
    "duration": 18,
    "start_time": "2022-07-06T16:13:01.468Z"
   },
   {
    "duration": 451,
    "start_time": "2022-07-06T16:13:01.488Z"
   },
   {
    "duration": 854,
    "start_time": "2022-07-06T16:13:01.941Z"
   },
   {
    "duration": 292,
    "start_time": "2022-07-06T16:13:02.797Z"
   },
   {
    "duration": 4,
    "start_time": "2022-07-06T16:13:03.092Z"
   },
   {
    "duration": 565,
    "start_time": "2022-07-06T16:13:03.098Z"
   },
   {
    "duration": 617,
    "start_time": "2022-07-06T16:13:03.665Z"
   },
   {
    "duration": 51,
    "start_time": "2022-07-06T16:13:04.285Z"
   },
   {
    "duration": 16,
    "start_time": "2022-07-06T16:13:04.337Z"
   },
   {
    "duration": 10,
    "start_time": "2022-07-06T16:13:04.355Z"
   },
   {
    "duration": 329,
    "start_time": "2022-07-06T16:16:45.443Z"
   },
   {
    "duration": 420,
    "start_time": "2022-07-06T16:17:07.394Z"
   },
   {
    "duration": 540,
    "start_time": "2022-07-06T16:17:42.338Z"
   },
   {
    "duration": 1352,
    "start_time": "2022-07-06T16:19:09.044Z"
   },
   {
    "duration": 45,
    "start_time": "2022-07-06T16:19:10.399Z"
   },
   {
    "duration": 38,
    "start_time": "2022-07-06T16:19:10.447Z"
   },
   {
    "duration": 5,
    "start_time": "2022-07-06T16:19:10.490Z"
   },
   {
    "duration": 43,
    "start_time": "2022-07-06T16:19:10.497Z"
   },
   {
    "duration": 6,
    "start_time": "2022-07-06T16:19:10.543Z"
   },
   {
    "duration": 27,
    "start_time": "2022-07-06T16:19:10.551Z"
   },
   {
    "duration": 43,
    "start_time": "2022-07-06T16:19:10.581Z"
   },
   {
    "duration": 20,
    "start_time": "2022-07-06T16:19:10.626Z"
   },
   {
    "duration": 19,
    "start_time": "2022-07-06T16:19:10.650Z"
   },
   {
    "duration": 24,
    "start_time": "2022-07-06T16:19:10.672Z"
   },
   {
    "duration": 437,
    "start_time": "2022-07-06T16:19:10.699Z"
   },
   {
    "duration": 6,
    "start_time": "2022-07-06T16:19:11.138Z"
   },
   {
    "duration": 12,
    "start_time": "2022-07-06T16:19:11.149Z"
   },
   {
    "duration": 14,
    "start_time": "2022-07-06T16:19:11.164Z"
   },
   {
    "duration": 43,
    "start_time": "2022-07-06T16:19:11.181Z"
   },
   {
    "duration": 15,
    "start_time": "2022-07-06T16:19:11.227Z"
   },
   {
    "duration": 29,
    "start_time": "2022-07-06T16:19:11.244Z"
   },
   {
    "duration": 7,
    "start_time": "2022-07-06T16:19:11.275Z"
   },
   {
    "duration": 47,
    "start_time": "2022-07-06T16:19:11.284Z"
   },
   {
    "duration": 17,
    "start_time": "2022-07-06T16:19:11.334Z"
   },
   {
    "duration": 9,
    "start_time": "2022-07-06T16:19:11.354Z"
   },
   {
    "duration": 16,
    "start_time": "2022-07-06T16:19:11.365Z"
   },
   {
    "duration": 7,
    "start_time": "2022-07-06T16:19:11.383Z"
   },
   {
    "duration": 308,
    "start_time": "2022-07-06T16:19:11.425Z"
   },
   {
    "duration": 15,
    "start_time": "2022-07-06T16:19:11.735Z"
   },
   {
    "duration": 20,
    "start_time": "2022-07-06T16:19:11.752Z"
   },
   {
    "duration": 11,
    "start_time": "2022-07-06T16:19:11.776Z"
   },
   {
    "duration": 41,
    "start_time": "2022-07-06T16:19:11.789Z"
   },
   {
    "duration": 1127,
    "start_time": "2022-07-06T16:19:11.833Z"
   },
   {
    "duration": 13,
    "start_time": "2022-07-06T16:19:12.963Z"
   },
   {
    "duration": 797,
    "start_time": "2022-07-06T16:19:12.979Z"
   },
   {
    "duration": 531,
    "start_time": "2022-07-06T16:19:13.779Z"
   },
   {
    "duration": 483,
    "start_time": "2022-07-06T16:19:14.313Z"
   },
   {
    "duration": 9,
    "start_time": "2022-07-06T16:19:14.798Z"
   },
   {
    "duration": 18,
    "start_time": "2022-07-06T16:19:14.810Z"
   },
   {
    "duration": 633,
    "start_time": "2022-07-06T16:19:14.830Z"
   },
   {
    "duration": 888,
    "start_time": "2022-07-06T16:19:15.465Z"
   },
   {
    "duration": 421,
    "start_time": "2022-07-06T16:19:16.355Z"
   },
   {
    "duration": 7,
    "start_time": "2022-07-06T16:19:16.780Z"
   },
   {
    "duration": 535,
    "start_time": "2022-07-06T16:19:16.789Z"
   },
   {
    "duration": 628,
    "start_time": "2022-07-06T16:19:17.326Z"
   },
   {
    "duration": 27,
    "start_time": "2022-07-06T16:19:17.956Z"
   },
   {
    "duration": 36,
    "start_time": "2022-07-06T16:19:17.986Z"
   },
   {
    "duration": 15,
    "start_time": "2022-07-06T16:19:18.026Z"
   },
   {
    "duration": 51,
    "start_time": "2022-07-06T16:32:55.958Z"
   },
   {
    "duration": 16,
    "start_time": "2022-07-06T16:33:47.266Z"
   },
   {
    "duration": 14,
    "start_time": "2022-07-06T16:33:50.627Z"
   },
   {
    "duration": 941,
    "start_time": "2022-07-06T16:40:18.701Z"
   },
   {
    "duration": 163,
    "start_time": "2022-07-06T16:42:07.085Z"
   },
   {
    "duration": 236,
    "start_time": "2022-07-06T16:42:23.259Z"
   },
   {
    "duration": 253,
    "start_time": "2022-07-06T16:42:34.873Z"
   },
   {
    "duration": 1500,
    "start_time": "2022-07-06T16:48:49.966Z"
   },
   {
    "duration": 1440,
    "start_time": "2022-07-06T16:49:33.201Z"
   },
   {
    "duration": 1442,
    "start_time": "2022-07-06T16:49:40.897Z"
   },
   {
    "duration": 19,
    "start_time": "2022-07-06T16:51:43.920Z"
   },
   {
    "duration": 299,
    "start_time": "2022-07-06T16:51:54.000Z"
   },
   {
    "duration": 461,
    "start_time": "2022-07-06T16:54:20.484Z"
   },
   {
    "duration": 376,
    "start_time": "2022-07-06T16:55:00.112Z"
   },
   {
    "duration": 232,
    "start_time": "2022-07-06T16:58:12.871Z"
   },
   {
    "duration": 411,
    "start_time": "2022-07-06T16:58:16.735Z"
   },
   {
    "duration": 430,
    "start_time": "2022-07-06T16:59:07.125Z"
   },
   {
    "duration": 450,
    "start_time": "2022-07-06T16:59:14.391Z"
   },
   {
    "duration": 412,
    "start_time": "2022-07-06T17:00:01.915Z"
   },
   {
    "duration": 415,
    "start_time": "2022-07-06T17:00:06.435Z"
   },
   {
    "duration": 388,
    "start_time": "2022-07-06T17:07:17.214Z"
   },
   {
    "duration": 467,
    "start_time": "2022-07-06T17:07:32.867Z"
   },
   {
    "duration": 382,
    "start_time": "2022-07-06T17:08:22.889Z"
   },
   {
    "duration": 72,
    "start_time": "2022-07-06T17:11:29.608Z"
   },
   {
    "duration": 65,
    "start_time": "2022-07-06T17:11:37.197Z"
   },
   {
    "duration": 246,
    "start_time": "2022-07-06T17:16:18.820Z"
   },
   {
    "duration": 325,
    "start_time": "2022-07-06T17:16:35.467Z"
   },
   {
    "duration": 372,
    "start_time": "2022-07-06T17:16:48.508Z"
   },
   {
    "duration": 330,
    "start_time": "2022-07-06T17:17:26.567Z"
   },
   {
    "duration": 344,
    "start_time": "2022-07-06T17:17:46.807Z"
   },
   {
    "duration": 465,
    "start_time": "2022-07-06T17:18:04.239Z"
   },
   {
    "duration": 370,
    "start_time": "2022-07-06T17:18:08.530Z"
   },
   {
    "duration": 418,
    "start_time": "2022-07-06T17:18:12.684Z"
   },
   {
    "duration": 330,
    "start_time": "2022-07-06T17:18:17.903Z"
   },
   {
    "duration": 350,
    "start_time": "2022-07-06T17:18:21.203Z"
   },
   {
    "duration": 537,
    "start_time": "2022-07-06T17:18:32.903Z"
   },
   {
    "duration": 374,
    "start_time": "2022-07-06T17:19:09.775Z"
   },
   {
    "duration": 431,
    "start_time": "2022-07-06T17:19:18.771Z"
   },
   {
    "duration": 367,
    "start_time": "2022-07-06T17:26:29.565Z"
   },
   {
    "duration": 326,
    "start_time": "2022-07-06T17:26:37.967Z"
   },
   {
    "duration": 375,
    "start_time": "2022-07-06T17:27:46.969Z"
   },
   {
    "duration": 482,
    "start_time": "2022-07-06T17:27:57.909Z"
   },
   {
    "duration": 322,
    "start_time": "2022-07-06T17:30:00.066Z"
   },
   {
    "duration": 420,
    "start_time": "2022-07-06T17:30:09.485Z"
   },
   {
    "duration": 338,
    "start_time": "2022-07-06T17:30:23.080Z"
   },
   {
    "duration": 346,
    "start_time": "2022-07-06T18:45:07.068Z"
   },
   {
    "duration": 622,
    "start_time": "2022-07-06T18:45:32.116Z"
   },
   {
    "duration": 385,
    "start_time": "2022-07-06T18:45:46.973Z"
   },
   {
    "duration": 413,
    "start_time": "2022-07-06T18:45:52.857Z"
   },
   {
    "duration": 351,
    "start_time": "2022-07-06T18:46:16.358Z"
   },
   {
    "duration": 372,
    "start_time": "2022-07-06T18:46:26.371Z"
   },
   {
    "duration": 394,
    "start_time": "2022-07-06T18:46:36.680Z"
   },
   {
    "duration": 509,
    "start_time": "2022-07-06T18:46:51.998Z"
   },
   {
    "duration": 1236,
    "start_time": "2022-07-06T18:47:41.959Z"
   },
   {
    "duration": 63,
    "start_time": "2022-07-06T18:47:43.198Z"
   },
   {
    "duration": 20,
    "start_time": "2022-07-06T18:47:43.263Z"
   },
   {
    "duration": 4,
    "start_time": "2022-07-06T18:47:43.284Z"
   },
   {
    "duration": 17,
    "start_time": "2022-07-06T18:47:43.290Z"
   },
   {
    "duration": 19,
    "start_time": "2022-07-06T18:47:43.328Z"
   },
   {
    "duration": 32,
    "start_time": "2022-07-06T18:47:43.350Z"
   },
   {
    "duration": 10,
    "start_time": "2022-07-06T18:47:43.385Z"
   },
   {
    "duration": 19,
    "start_time": "2022-07-06T18:47:43.398Z"
   },
   {
    "duration": 24,
    "start_time": "2022-07-06T18:47:43.419Z"
   },
   {
    "duration": 41,
    "start_time": "2022-07-06T18:47:43.447Z"
   },
   {
    "duration": 427,
    "start_time": "2022-07-06T18:47:43.490Z"
   },
   {
    "duration": 15,
    "start_time": "2022-07-06T18:47:43.919Z"
   },
   {
    "duration": 34,
    "start_time": "2022-07-06T18:47:43.937Z"
   },
   {
    "duration": 13,
    "start_time": "2022-07-06T18:47:43.973Z"
   },
   {
    "duration": 9,
    "start_time": "2022-07-06T18:47:43.988Z"
   },
   {
    "duration": 10,
    "start_time": "2022-07-06T18:47:43.999Z"
   },
   {
    "duration": 28,
    "start_time": "2022-07-06T18:47:44.011Z"
   },
   {
    "duration": 8,
    "start_time": "2022-07-06T18:47:44.040Z"
   },
   {
    "duration": 30,
    "start_time": "2022-07-06T18:47:44.051Z"
   },
   {
    "duration": 14,
    "start_time": "2022-07-06T18:47:44.083Z"
   },
   {
    "duration": 11,
    "start_time": "2022-07-06T18:47:44.099Z"
   },
   {
    "duration": 20,
    "start_time": "2022-07-06T18:47:44.111Z"
   },
   {
    "duration": 35,
    "start_time": "2022-07-06T18:47:44.133Z"
   },
   {
    "duration": 246,
    "start_time": "2022-07-06T18:47:44.170Z"
   },
   {
    "duration": 30,
    "start_time": "2022-07-06T18:47:44.418Z"
   },
   {
    "duration": 36,
    "start_time": "2022-07-06T18:47:44.456Z"
   },
   {
    "duration": 5,
    "start_time": "2022-07-06T18:47:44.494Z"
   },
   {
    "duration": 19,
    "start_time": "2022-07-06T18:47:44.501Z"
   },
   {
    "duration": 1104,
    "start_time": "2022-07-06T18:47:44.524Z"
   },
   {
    "duration": 10,
    "start_time": "2022-07-06T18:47:45.633Z"
   },
   {
    "duration": 739,
    "start_time": "2022-07-06T18:47:45.651Z"
   },
   {
    "duration": 453,
    "start_time": "2022-07-06T18:47:46.392Z"
   },
   {
    "duration": 364,
    "start_time": "2022-07-06T18:47:46.847Z"
   },
   {
    "duration": 15,
    "start_time": "2022-07-06T18:47:47.214Z"
   },
   {
    "duration": 40,
    "start_time": "2022-07-06T18:47:47.236Z"
   },
   {
    "duration": 437,
    "start_time": "2022-07-06T18:47:47.278Z"
   },
   {
    "duration": 857,
    "start_time": "2022-07-06T18:47:47.717Z"
   },
   {
    "duration": 268,
    "start_time": "2022-07-06T18:47:48.576Z"
   },
   {
    "duration": 480,
    "start_time": "2022-07-06T18:47:48.851Z"
   },
   {
    "duration": 475,
    "start_time": "2022-07-06T18:47:49.338Z"
   },
   {
    "duration": 13,
    "start_time": "2022-07-06T18:47:49.829Z"
   },
   {
    "duration": 717,
    "start_time": "2022-07-06T18:47:49.849Z"
   },
   {
    "duration": 606,
    "start_time": "2022-07-06T18:47:50.568Z"
   },
   {
    "duration": 30,
    "start_time": "2022-07-06T18:47:51.177Z"
   },
   {
    "duration": 10,
    "start_time": "2022-07-06T18:47:51.208Z"
   },
   {
    "duration": 41,
    "start_time": "2022-07-06T18:47:51.219Z"
   },
   {
    "duration": 600,
    "start_time": "2022-07-06T19:16:08.422Z"
   },
   {
    "duration": 420,
    "start_time": "2022-07-06T19:16:17.358Z"
   },
   {
    "duration": 497,
    "start_time": "2022-07-06T19:16:26.964Z"
   },
   {
    "duration": 651,
    "start_time": "2022-07-06T19:17:51.278Z"
   },
   {
    "duration": 537,
    "start_time": "2022-07-06T19:17:59.201Z"
   },
   {
    "duration": 539,
    "start_time": "2022-07-06T19:18:16.958Z"
   },
   {
    "duration": 569,
    "start_time": "2022-07-06T19:21:43.214Z"
   },
   {
    "duration": 588,
    "start_time": "2022-07-06T19:21:49.669Z"
   },
   {
    "duration": 547,
    "start_time": "2022-07-06T19:21:55.854Z"
   },
   {
    "duration": 1306,
    "start_time": "2022-07-06T19:57:32.511Z"
   },
   {
    "duration": 52,
    "start_time": "2022-07-06T19:57:33.819Z"
   },
   {
    "duration": 25,
    "start_time": "2022-07-06T19:57:33.873Z"
   },
   {
    "duration": 4,
    "start_time": "2022-07-06T19:57:33.899Z"
   },
   {
    "duration": 39,
    "start_time": "2022-07-06T19:57:33.906Z"
   },
   {
    "duration": 6,
    "start_time": "2022-07-06T19:57:33.946Z"
   },
   {
    "duration": 20,
    "start_time": "2022-07-06T19:57:33.954Z"
   },
   {
    "duration": 10,
    "start_time": "2022-07-06T19:57:33.976Z"
   },
   {
    "duration": 49,
    "start_time": "2022-07-06T19:57:33.987Z"
   },
   {
    "duration": 22,
    "start_time": "2022-07-06T19:57:34.038Z"
   },
   {
    "duration": 23,
    "start_time": "2022-07-06T19:57:34.062Z"
   },
   {
    "duration": 419,
    "start_time": "2022-07-06T19:57:34.088Z"
   },
   {
    "duration": 5,
    "start_time": "2022-07-06T19:57:34.509Z"
   },
   {
    "duration": 23,
    "start_time": "2022-07-06T19:57:34.525Z"
   },
   {
    "duration": 13,
    "start_time": "2022-07-06T19:57:34.550Z"
   },
   {
    "duration": 6,
    "start_time": "2022-07-06T19:57:34.565Z"
   },
   {
    "duration": 10,
    "start_time": "2022-07-06T19:57:34.573Z"
   },
   {
    "duration": 22,
    "start_time": "2022-07-06T19:57:34.585Z"
   },
   {
    "duration": 25,
    "start_time": "2022-07-06T19:57:34.608Z"
   },
   {
    "duration": 22,
    "start_time": "2022-07-06T19:57:34.637Z"
   },
   {
    "duration": 17,
    "start_time": "2022-07-06T19:57:34.661Z"
   },
   {
    "duration": 8,
    "start_time": "2022-07-06T19:57:34.681Z"
   },
   {
    "duration": 39,
    "start_time": "2022-07-06T19:57:34.690Z"
   },
   {
    "duration": 12,
    "start_time": "2022-07-06T19:57:34.733Z"
   },
   {
    "duration": 261,
    "start_time": "2022-07-06T19:57:34.748Z"
   },
   {
    "duration": 36,
    "start_time": "2022-07-06T19:57:35.011Z"
   },
   {
    "duration": 22,
    "start_time": "2022-07-06T19:57:35.049Z"
   },
   {
    "duration": 3,
    "start_time": "2022-07-06T19:57:35.074Z"
   },
   {
    "duration": 16,
    "start_time": "2022-07-06T19:57:35.079Z"
   },
   {
    "duration": 1083,
    "start_time": "2022-07-06T19:57:35.097Z"
   },
   {
    "duration": 9,
    "start_time": "2022-07-06T19:57:36.181Z"
   },
   {
    "duration": 714,
    "start_time": "2022-07-06T19:57:36.191Z"
   },
   {
    "duration": 455,
    "start_time": "2022-07-06T19:57:36.907Z"
   },
   {
    "duration": 351,
    "start_time": "2022-07-06T19:57:37.365Z"
   },
   {
    "duration": 9,
    "start_time": "2022-07-06T19:57:37.725Z"
   },
   {
    "duration": 20,
    "start_time": "2022-07-06T19:57:37.737Z"
   },
   {
    "duration": 420,
    "start_time": "2022-07-06T19:57:37.760Z"
   },
   {
    "duration": 908,
    "start_time": "2022-07-06T19:57:38.183Z"
   },
   {
    "duration": 312,
    "start_time": "2022-07-06T19:57:39.094Z"
   },
   {
    "duration": 421,
    "start_time": "2022-07-06T19:57:39.408Z"
   },
   {
    "duration": 412,
    "start_time": "2022-07-06T19:57:39.836Z"
   },
   {
    "duration": 6,
    "start_time": "2022-07-06T19:57:40.250Z"
   },
   {
    "duration": 674,
    "start_time": "2022-07-06T19:57:40.258Z"
   },
   {
    "duration": 634,
    "start_time": "2022-07-06T19:57:40.940Z"
   },
   {
    "duration": 25,
    "start_time": "2022-07-06T19:57:41.575Z"
   },
   {
    "duration": 10,
    "start_time": "2022-07-06T19:57:41.602Z"
   },
   {
    "duration": 9,
    "start_time": "2022-07-06T19:57:41.614Z"
   },
   {
    "duration": 1270,
    "start_time": "2022-07-07T07:14:41.206Z"
   },
   {
    "duration": 67,
    "start_time": "2022-07-07T07:14:42.478Z"
   },
   {
    "duration": 26,
    "start_time": "2022-07-07T07:14:42.547Z"
   },
   {
    "duration": 3,
    "start_time": "2022-07-07T07:14:42.576Z"
   },
   {
    "duration": 20,
    "start_time": "2022-07-07T07:14:42.581Z"
   },
   {
    "duration": 5,
    "start_time": "2022-07-07T07:14:42.603Z"
   },
   {
    "duration": 18,
    "start_time": "2022-07-07T07:14:42.609Z"
   },
   {
    "duration": 36,
    "start_time": "2022-07-07T07:14:42.629Z"
   },
   {
    "duration": 15,
    "start_time": "2022-07-07T07:14:42.666Z"
   },
   {
    "duration": 17,
    "start_time": "2022-07-07T07:14:42.684Z"
   },
   {
    "duration": 21,
    "start_time": "2022-07-07T07:14:42.703Z"
   },
   {
    "duration": 354,
    "start_time": "2022-07-07T07:14:42.726Z"
   },
   {
    "duration": 5,
    "start_time": "2022-07-07T07:14:43.081Z"
   },
   {
    "duration": 11,
    "start_time": "2022-07-07T07:14:43.088Z"
   },
   {
    "duration": 10,
    "start_time": "2022-07-07T07:14:43.101Z"
   },
   {
    "duration": 6,
    "start_time": "2022-07-07T07:14:43.112Z"
   },
   {
    "duration": 7,
    "start_time": "2022-07-07T07:14:43.119Z"
   },
   {
    "duration": 42,
    "start_time": "2022-07-07T07:14:43.128Z"
   },
   {
    "duration": 5,
    "start_time": "2022-07-07T07:14:43.172Z"
   },
   {
    "duration": 23,
    "start_time": "2022-07-07T07:14:43.178Z"
   },
   {
    "duration": 13,
    "start_time": "2022-07-07T07:14:43.202Z"
   },
   {
    "duration": 6,
    "start_time": "2022-07-07T07:14:43.217Z"
   },
   {
    "duration": 41,
    "start_time": "2022-07-07T07:14:43.224Z"
   },
   {
    "duration": 5,
    "start_time": "2022-07-07T07:14:43.267Z"
   },
   {
    "duration": 214,
    "start_time": "2022-07-07T07:14:43.273Z"
   },
   {
    "duration": 12,
    "start_time": "2022-07-07T07:14:43.489Z"
   },
   {
    "duration": 16,
    "start_time": "2022-07-07T07:14:43.503Z"
   },
   {
    "duration": 4,
    "start_time": "2022-07-07T07:14:43.522Z"
   },
   {
    "duration": 38,
    "start_time": "2022-07-07T07:14:43.527Z"
   },
   {
    "duration": 847,
    "start_time": "2022-07-07T07:14:43.566Z"
   },
   {
    "duration": 7,
    "start_time": "2022-07-07T07:14:44.414Z"
   },
   {
    "duration": 663,
    "start_time": "2022-07-07T07:14:44.422Z"
   },
   {
    "duration": 391,
    "start_time": "2022-07-07T07:14:45.087Z"
   },
   {
    "duration": 274,
    "start_time": "2022-07-07T07:14:45.480Z"
   },
   {
    "duration": 7,
    "start_time": "2022-07-07T07:14:45.756Z"
   },
   {
    "duration": 14,
    "start_time": "2022-07-07T07:14:45.765Z"
   },
   {
    "duration": 343,
    "start_time": "2022-07-07T07:14:45.781Z"
   },
   {
    "duration": 763,
    "start_time": "2022-07-07T07:14:46.126Z"
   },
   {
    "duration": 222,
    "start_time": "2022-07-07T07:14:46.891Z"
   },
   {
    "duration": 314,
    "start_time": "2022-07-07T07:14:47.115Z"
   },
   {
    "duration": 300,
    "start_time": "2022-07-07T07:14:47.431Z"
   },
   {
    "duration": 4,
    "start_time": "2022-07-07T07:14:47.733Z"
   },
   {
    "duration": 541,
    "start_time": "2022-07-07T07:14:47.739Z"
   },
   {
    "duration": 489,
    "start_time": "2022-07-07T07:14:48.282Z"
   },
   {
    "duration": 22,
    "start_time": "2022-07-07T07:14:48.773Z"
   },
   {
    "duration": 11,
    "start_time": "2022-07-07T07:14:48.796Z"
   },
   {
    "duration": 9,
    "start_time": "2022-07-07T07:14:48.809Z"
   },
   {
    "duration": 58,
    "start_time": "2022-07-07T07:15:22.076Z"
   },
   {
    "duration": 129,
    "start_time": "2022-07-07T07:31:36.384Z"
   },
   {
    "duration": 17,
    "start_time": "2022-07-07T07:32:04.348Z"
   },
   {
    "duration": 12,
    "start_time": "2022-07-07T07:40:30.959Z"
   },
   {
    "duration": 7,
    "start_time": "2022-07-07T07:43:46.889Z"
   },
   {
    "duration": 1230,
    "start_time": "2022-07-07T07:48:06.067Z"
   },
   {
    "duration": 40,
    "start_time": "2022-07-07T07:48:07.299Z"
   },
   {
    "duration": 25,
    "start_time": "2022-07-07T07:48:07.340Z"
   },
   {
    "duration": 3,
    "start_time": "2022-07-07T07:48:07.368Z"
   },
   {
    "duration": 22,
    "start_time": "2022-07-07T07:48:07.373Z"
   },
   {
    "duration": 5,
    "start_time": "2022-07-07T07:48:07.396Z"
   },
   {
    "duration": 31,
    "start_time": "2022-07-07T07:48:07.403Z"
   },
   {
    "duration": 30,
    "start_time": "2022-07-07T07:48:07.436Z"
   },
   {
    "duration": 23,
    "start_time": "2022-07-07T07:48:07.468Z"
   },
   {
    "duration": 18,
    "start_time": "2022-07-07T07:48:07.495Z"
   },
   {
    "duration": 22,
    "start_time": "2022-07-07T07:48:07.515Z"
   },
   {
    "duration": 370,
    "start_time": "2022-07-07T07:48:07.539Z"
   },
   {
    "duration": 5,
    "start_time": "2022-07-07T07:48:07.911Z"
   },
   {
    "duration": 8,
    "start_time": "2022-07-07T07:48:07.918Z"
   },
   {
    "duration": 10,
    "start_time": "2022-07-07T07:48:07.928Z"
   },
   {
    "duration": 22,
    "start_time": "2022-07-07T07:48:07.940Z"
   },
   {
    "duration": 5,
    "start_time": "2022-07-07T07:48:07.964Z"
   },
   {
    "duration": 23,
    "start_time": "2022-07-07T07:48:07.971Z"
   },
   {
    "duration": 5,
    "start_time": "2022-07-07T07:48:07.995Z"
   },
   {
    "duration": 27,
    "start_time": "2022-07-07T07:48:08.002Z"
   },
   {
    "duration": 38,
    "start_time": "2022-07-07T07:48:08.031Z"
   },
   {
    "duration": 10,
    "start_time": "2022-07-07T07:48:08.071Z"
   },
   {
    "duration": 11,
    "start_time": "2022-07-07T07:48:08.083Z"
   },
   {
    "duration": 4,
    "start_time": "2022-07-07T07:48:08.096Z"
   },
   {
    "duration": 264,
    "start_time": "2022-07-07T07:48:08.103Z"
   },
   {
    "duration": 12,
    "start_time": "2022-07-07T07:48:08.369Z"
   },
   {
    "duration": 27,
    "start_time": "2022-07-07T07:48:08.383Z"
   },
   {
    "duration": 4,
    "start_time": "2022-07-07T07:48:08.414Z"
   },
   {
    "duration": 14,
    "start_time": "2022-07-07T07:48:08.420Z"
   },
   {
    "duration": 930,
    "start_time": "2022-07-07T07:48:08.436Z"
   },
   {
    "duration": 7,
    "start_time": "2022-07-07T07:48:09.369Z"
   },
   {
    "duration": 590,
    "start_time": "2022-07-07T07:48:09.377Z"
   },
   {
    "duration": 355,
    "start_time": "2022-07-07T07:48:09.969Z"
   },
   {
    "duration": 295,
    "start_time": "2022-07-07T07:48:10.326Z"
   },
   {
    "duration": 6,
    "start_time": "2022-07-07T07:48:10.623Z"
   },
   {
    "duration": 13,
    "start_time": "2022-07-07T07:48:10.630Z"
   },
   {
    "duration": 362,
    "start_time": "2022-07-07T07:48:10.645Z"
   },
   {
    "duration": 665,
    "start_time": "2022-07-07T07:48:11.009Z"
   },
   {
    "duration": 217,
    "start_time": "2022-07-07T07:48:11.676Z"
   },
   {
    "duration": 299,
    "start_time": "2022-07-07T07:48:11.895Z"
   },
   {
    "duration": 301,
    "start_time": "2022-07-07T07:48:12.196Z"
   },
   {
    "duration": 5,
    "start_time": "2022-07-07T07:48:12.499Z"
   },
   {
    "duration": 11,
    "start_time": "2022-07-07T07:48:12.506Z"
   },
   {
    "duration": 582,
    "start_time": "2022-07-07T07:48:12.519Z"
   },
   {
    "duration": 0,
    "start_time": "2022-07-07T07:48:13.102Z"
   },
   {
    "duration": 0,
    "start_time": "2022-07-07T07:48:13.103Z"
   },
   {
    "duration": 0,
    "start_time": "2022-07-07T07:48:13.104Z"
   },
   {
    "duration": 0,
    "start_time": "2022-07-07T07:48:13.105Z"
   },
   {
    "duration": 1218,
    "start_time": "2022-07-07T07:48:41.273Z"
   },
   {
    "duration": 42,
    "start_time": "2022-07-07T07:48:42.493Z"
   },
   {
    "duration": 19,
    "start_time": "2022-07-07T07:48:42.537Z"
   },
   {
    "duration": 3,
    "start_time": "2022-07-07T07:48:42.559Z"
   },
   {
    "duration": 18,
    "start_time": "2022-07-07T07:48:42.564Z"
   },
   {
    "duration": 5,
    "start_time": "2022-07-07T07:48:42.584Z"
   },
   {
    "duration": 22,
    "start_time": "2022-07-07T07:48:42.590Z"
   },
   {
    "duration": 9,
    "start_time": "2022-07-07T07:48:42.614Z"
   },
   {
    "duration": 46,
    "start_time": "2022-07-07T07:48:42.625Z"
   },
   {
    "duration": 16,
    "start_time": "2022-07-07T07:48:42.674Z"
   },
   {
    "duration": 29,
    "start_time": "2022-07-07T07:48:42.692Z"
   },
   {
    "duration": 349,
    "start_time": "2022-07-07T07:48:42.723Z"
   },
   {
    "duration": 5,
    "start_time": "2022-07-07T07:48:43.074Z"
   },
   {
    "duration": 9,
    "start_time": "2022-07-07T07:48:43.081Z"
   },
   {
    "duration": 12,
    "start_time": "2022-07-07T07:48:43.092Z"
   },
   {
    "duration": 7,
    "start_time": "2022-07-07T07:48:43.105Z"
   },
   {
    "duration": 7,
    "start_time": "2022-07-07T07:48:43.114Z"
   },
   {
    "duration": 38,
    "start_time": "2022-07-07T07:48:43.123Z"
   },
   {
    "duration": 5,
    "start_time": "2022-07-07T07:48:43.163Z"
   },
   {
    "duration": 19,
    "start_time": "2022-07-07T07:48:43.169Z"
   },
   {
    "duration": 12,
    "start_time": "2022-07-07T07:48:43.190Z"
   },
   {
    "duration": 6,
    "start_time": "2022-07-07T07:48:43.204Z"
   },
   {
    "duration": 11,
    "start_time": "2022-07-07T07:48:43.212Z"
   },
   {
    "duration": 37,
    "start_time": "2022-07-07T07:48:43.225Z"
   },
   {
    "duration": 207,
    "start_time": "2022-07-07T07:48:43.264Z"
   },
   {
    "duration": 13,
    "start_time": "2022-07-07T07:48:43.472Z"
   },
   {
    "duration": 16,
    "start_time": "2022-07-07T07:48:43.487Z"
   },
   {
    "duration": 4,
    "start_time": "2022-07-07T07:48:43.507Z"
   },
   {
    "duration": 13,
    "start_time": "2022-07-07T07:48:43.513Z"
   },
   {
    "duration": 889,
    "start_time": "2022-07-07T07:48:43.528Z"
   },
   {
    "duration": 7,
    "start_time": "2022-07-07T07:48:44.419Z"
   },
   {
    "duration": 646,
    "start_time": "2022-07-07T07:48:44.427Z"
   },
   {
    "duration": 378,
    "start_time": "2022-07-07T07:48:45.076Z"
   },
   {
    "duration": 272,
    "start_time": "2022-07-07T07:48:45.460Z"
   },
   {
    "duration": 5,
    "start_time": "2022-07-07T07:48:45.735Z"
   },
   {
    "duration": 22,
    "start_time": "2022-07-07T07:48:45.743Z"
   },
   {
    "duration": 368,
    "start_time": "2022-07-07T07:48:45.767Z"
   },
   {
    "duration": 826,
    "start_time": "2022-07-07T07:48:46.137Z"
   },
   {
    "duration": 197,
    "start_time": "2022-07-07T07:48:46.965Z"
   },
   {
    "duration": 300,
    "start_time": "2022-07-07T07:48:47.164Z"
   },
   {
    "duration": 300,
    "start_time": "2022-07-07T07:48:47.465Z"
   },
   {
    "duration": 7,
    "start_time": "2022-07-07T07:48:47.767Z"
   },
   {
    "duration": 13,
    "start_time": "2022-07-07T07:48:47.776Z"
   },
   {
    "duration": 593,
    "start_time": "2022-07-07T07:48:47.791Z"
   },
   {
    "duration": 0,
    "start_time": "2022-07-07T07:48:48.387Z"
   },
   {
    "duration": 0,
    "start_time": "2022-07-07T07:48:48.388Z"
   },
   {
    "duration": 0,
    "start_time": "2022-07-07T07:48:48.389Z"
   },
   {
    "duration": 0,
    "start_time": "2022-07-07T07:48:48.390Z"
   },
   {
    "duration": 1165,
    "start_time": "2022-07-07T07:49:54.039Z"
   },
   {
    "duration": 46,
    "start_time": "2022-07-07T07:49:55.206Z"
   },
   {
    "duration": 20,
    "start_time": "2022-07-07T07:49:55.254Z"
   },
   {
    "duration": 4,
    "start_time": "2022-07-07T07:49:55.276Z"
   },
   {
    "duration": 27,
    "start_time": "2022-07-07T07:49:55.283Z"
   },
   {
    "duration": 5,
    "start_time": "2022-07-07T07:49:55.312Z"
   },
   {
    "duration": 42,
    "start_time": "2022-07-07T07:49:55.319Z"
   },
   {
    "duration": 14,
    "start_time": "2022-07-07T07:49:55.363Z"
   },
   {
    "duration": 17,
    "start_time": "2022-07-07T07:49:55.379Z"
   },
   {
    "duration": 19,
    "start_time": "2022-07-07T07:49:55.398Z"
   },
   {
    "duration": 45,
    "start_time": "2022-07-07T07:49:55.419Z"
   },
   {
    "duration": 337,
    "start_time": "2022-07-07T07:49:55.466Z"
   },
   {
    "duration": 4,
    "start_time": "2022-07-07T07:49:55.805Z"
   },
   {
    "duration": 7,
    "start_time": "2022-07-07T07:49:55.813Z"
   },
   {
    "duration": 12,
    "start_time": "2022-07-07T07:49:55.822Z"
   },
   {
    "duration": 36,
    "start_time": "2022-07-07T07:49:55.836Z"
   },
   {
    "duration": 11,
    "start_time": "2022-07-07T07:49:55.874Z"
   },
   {
    "duration": 25,
    "start_time": "2022-07-07T07:49:55.887Z"
   },
   {
    "duration": 5,
    "start_time": "2022-07-07T07:49:55.913Z"
   },
   {
    "duration": 26,
    "start_time": "2022-07-07T07:49:55.920Z"
   },
   {
    "duration": 27,
    "start_time": "2022-07-07T07:49:55.948Z"
   },
   {
    "duration": 8,
    "start_time": "2022-07-07T07:49:55.977Z"
   },
   {
    "duration": 12,
    "start_time": "2022-07-07T07:49:55.987Z"
   },
   {
    "duration": 5,
    "start_time": "2022-07-07T07:49:56.001Z"
   },
   {
    "duration": 252,
    "start_time": "2022-07-07T07:49:56.008Z"
   },
   {
    "duration": 17,
    "start_time": "2022-07-07T07:49:56.263Z"
   },
   {
    "duration": 20,
    "start_time": "2022-07-07T07:49:56.282Z"
   },
   {
    "duration": 9,
    "start_time": "2022-07-07T07:49:56.304Z"
   },
   {
    "duration": 22,
    "start_time": "2022-07-07T07:49:56.316Z"
   },
   {
    "duration": 922,
    "start_time": "2022-07-07T07:49:56.341Z"
   },
   {
    "duration": 7,
    "start_time": "2022-07-07T07:49:57.264Z"
   },
   {
    "duration": 573,
    "start_time": "2022-07-07T07:49:57.272Z"
   },
   {
    "duration": 360,
    "start_time": "2022-07-07T07:49:57.847Z"
   },
   {
    "duration": 288,
    "start_time": "2022-07-07T07:49:58.209Z"
   },
   {
    "duration": 6,
    "start_time": "2022-07-07T07:49:58.499Z"
   },
   {
    "duration": 11,
    "start_time": "2022-07-07T07:49:58.507Z"
   },
   {
    "duration": 395,
    "start_time": "2022-07-07T07:49:58.520Z"
   },
   {
    "duration": 672,
    "start_time": "2022-07-07T07:49:58.916Z"
   },
   {
    "duration": 216,
    "start_time": "2022-07-07T07:49:59.590Z"
   },
   {
    "duration": 331,
    "start_time": "2022-07-07T07:49:59.808Z"
   },
   {
    "duration": 300,
    "start_time": "2022-07-07T07:50:00.143Z"
   },
   {
    "duration": 16,
    "start_time": "2022-07-07T07:50:00.445Z"
   },
   {
    "duration": 18,
    "start_time": "2022-07-07T07:50:00.463Z"
   },
   {
    "duration": 607,
    "start_time": "2022-07-07T07:50:00.483Z"
   },
   {
    "duration": 557,
    "start_time": "2022-07-07T07:50:01.092Z"
   },
   {
    "duration": 23,
    "start_time": "2022-07-07T07:50:01.651Z"
   },
   {
    "duration": 20,
    "start_time": "2022-07-07T07:50:01.676Z"
   },
   {
    "duration": 38,
    "start_time": "2022-07-07T07:50:01.698Z"
   },
   {
    "duration": 1150,
    "start_time": "2022-07-07T07:50:52.173Z"
   },
   {
    "duration": 42,
    "start_time": "2022-07-07T07:50:53.325Z"
   },
   {
    "duration": 18,
    "start_time": "2022-07-07T07:50:53.368Z"
   },
   {
    "duration": 3,
    "start_time": "2022-07-07T07:50:53.388Z"
   },
   {
    "duration": 19,
    "start_time": "2022-07-07T07:50:53.392Z"
   },
   {
    "duration": 4,
    "start_time": "2022-07-07T07:50:53.412Z"
   },
   {
    "duration": 44,
    "start_time": "2022-07-07T07:50:53.418Z"
   },
   {
    "duration": 10,
    "start_time": "2022-07-07T07:50:53.463Z"
   },
   {
    "duration": 14,
    "start_time": "2022-07-07T07:50:53.475Z"
   },
   {
    "duration": 16,
    "start_time": "2022-07-07T07:50:53.491Z"
   },
   {
    "duration": 20,
    "start_time": "2022-07-07T07:50:53.508Z"
   },
   {
    "duration": 366,
    "start_time": "2022-07-07T07:50:53.530Z"
   },
   {
    "duration": 5,
    "start_time": "2022-07-07T07:50:53.898Z"
   },
   {
    "duration": 10,
    "start_time": "2022-07-07T07:50:53.905Z"
   },
   {
    "duration": 10,
    "start_time": "2022-07-07T07:50:53.917Z"
   },
   {
    "duration": 9,
    "start_time": "2022-07-07T07:50:53.928Z"
   },
   {
    "duration": 23,
    "start_time": "2022-07-07T07:50:53.939Z"
   },
   {
    "duration": 20,
    "start_time": "2022-07-07T07:50:53.964Z"
   },
   {
    "duration": 5,
    "start_time": "2022-07-07T07:50:53.986Z"
   },
   {
    "duration": 26,
    "start_time": "2022-07-07T07:50:53.992Z"
   },
   {
    "duration": 13,
    "start_time": "2022-07-07T07:50:54.020Z"
   },
   {
    "duration": 29,
    "start_time": "2022-07-07T07:50:54.035Z"
   },
   {
    "duration": 12,
    "start_time": "2022-07-07T07:50:54.065Z"
   },
   {
    "duration": 5,
    "start_time": "2022-07-07T07:50:54.078Z"
   },
   {
    "duration": 241,
    "start_time": "2022-07-07T07:50:54.085Z"
   },
   {
    "duration": 12,
    "start_time": "2022-07-07T07:50:54.327Z"
   },
   {
    "duration": 35,
    "start_time": "2022-07-07T07:50:54.340Z"
   },
   {
    "duration": 3,
    "start_time": "2022-07-07T07:50:54.379Z"
   },
   {
    "duration": 13,
    "start_time": "2022-07-07T07:50:54.384Z"
   },
   {
    "duration": 900,
    "start_time": "2022-07-07T07:50:54.398Z"
   },
   {
    "duration": 9,
    "start_time": "2022-07-07T07:50:55.300Z"
   },
   {
    "duration": 642,
    "start_time": "2022-07-07T07:50:55.311Z"
   },
   {
    "duration": 418,
    "start_time": "2022-07-07T07:50:55.954Z"
   },
   {
    "duration": 312,
    "start_time": "2022-07-07T07:50:56.374Z"
   },
   {
    "duration": 6,
    "start_time": "2022-07-07T07:50:56.688Z"
   },
   {
    "duration": 20,
    "start_time": "2022-07-07T07:50:56.696Z"
   },
   {
    "duration": 332,
    "start_time": "2022-07-07T07:50:56.718Z"
   },
   {
    "duration": 643,
    "start_time": "2022-07-07T07:50:57.051Z"
   },
   {
    "duration": 201,
    "start_time": "2022-07-07T07:50:57.696Z"
   },
   {
    "duration": 305,
    "start_time": "2022-07-07T07:50:57.899Z"
   },
   {
    "duration": 297,
    "start_time": "2022-07-07T07:50:58.206Z"
   },
   {
    "duration": 6,
    "start_time": "2022-07-07T07:50:58.505Z"
   },
   {
    "duration": 8,
    "start_time": "2022-07-07T07:50:58.512Z"
   },
   {
    "duration": 548,
    "start_time": "2022-07-07T07:50:58.521Z"
   },
   {
    "duration": 513,
    "start_time": "2022-07-07T07:50:59.071Z"
   },
   {
    "duration": 21,
    "start_time": "2022-07-07T07:50:59.586Z"
   },
   {
    "duration": 8,
    "start_time": "2022-07-07T07:50:59.609Z"
   },
   {
    "duration": 8,
    "start_time": "2022-07-07T07:50:59.619Z"
   },
   {
    "duration": 1275,
    "start_time": "2022-07-07T07:55:03.650Z"
   },
   {
    "duration": 46,
    "start_time": "2022-07-07T07:55:04.927Z"
   },
   {
    "duration": 25,
    "start_time": "2022-07-07T07:55:04.975Z"
   },
   {
    "duration": 4,
    "start_time": "2022-07-07T07:55:05.002Z"
   },
   {
    "duration": 20,
    "start_time": "2022-07-07T07:55:05.009Z"
   },
   {
    "duration": 4,
    "start_time": "2022-07-07T07:55:05.031Z"
   },
   {
    "duration": 38,
    "start_time": "2022-07-07T07:55:05.037Z"
   },
   {
    "duration": 17,
    "start_time": "2022-07-07T07:55:05.077Z"
   },
   {
    "duration": 17,
    "start_time": "2022-07-07T07:55:05.096Z"
   },
   {
    "duration": 15,
    "start_time": "2022-07-07T07:55:05.114Z"
   },
   {
    "duration": 42,
    "start_time": "2022-07-07T07:55:05.131Z"
   },
   {
    "duration": 388,
    "start_time": "2022-07-07T07:55:05.176Z"
   },
   {
    "duration": 6,
    "start_time": "2022-07-07T07:55:05.566Z"
   },
   {
    "duration": 10,
    "start_time": "2022-07-07T07:55:05.575Z"
   },
   {
    "duration": 12,
    "start_time": "2022-07-07T07:55:05.587Z"
   },
   {
    "duration": 6,
    "start_time": "2022-07-07T07:55:05.601Z"
   },
   {
    "duration": 10,
    "start_time": "2022-07-07T07:55:05.608Z"
   },
   {
    "duration": 52,
    "start_time": "2022-07-07T07:55:05.620Z"
   },
   {
    "duration": 6,
    "start_time": "2022-07-07T07:55:05.674Z"
   },
   {
    "duration": 24,
    "start_time": "2022-07-07T07:55:05.682Z"
   },
   {
    "duration": 18,
    "start_time": "2022-07-07T07:55:05.708Z"
   },
   {
    "duration": 35,
    "start_time": "2022-07-07T07:55:05.728Z"
   },
   {
    "duration": 14,
    "start_time": "2022-07-07T07:55:05.765Z"
   },
   {
    "duration": 5,
    "start_time": "2022-07-07T07:55:05.781Z"
   },
   {
    "duration": 244,
    "start_time": "2022-07-07T07:55:05.787Z"
   },
   {
    "duration": 11,
    "start_time": "2022-07-07T07:55:06.033Z"
   },
   {
    "duration": 27,
    "start_time": "2022-07-07T07:55:06.046Z"
   },
   {
    "duration": 5,
    "start_time": "2022-07-07T07:55:06.075Z"
   },
   {
    "duration": 15,
    "start_time": "2022-07-07T07:55:06.081Z"
   },
   {
    "duration": 1097,
    "start_time": "2022-07-07T07:55:06.098Z"
   },
   {
    "duration": 7,
    "start_time": "2022-07-07T07:55:07.198Z"
   },
   {
    "duration": 650,
    "start_time": "2022-07-07T07:55:07.207Z"
   },
   {
    "duration": 385,
    "start_time": "2022-07-07T07:55:07.860Z"
   },
   {
    "duration": 300,
    "start_time": "2022-07-07T07:55:08.247Z"
   },
   {
    "duration": 12,
    "start_time": "2022-07-07T07:55:08.549Z"
   },
   {
    "duration": 13,
    "start_time": "2022-07-07T07:55:08.563Z"
   },
   {
    "duration": 461,
    "start_time": "2022-07-07T07:55:08.578Z"
   },
   {
    "duration": 765,
    "start_time": "2022-07-07T07:55:09.041Z"
   },
   {
    "duration": 235,
    "start_time": "2022-07-07T07:55:09.808Z"
   },
   {
    "duration": 315,
    "start_time": "2022-07-07T07:55:10.045Z"
   },
   {
    "duration": 340,
    "start_time": "2022-07-07T07:55:10.365Z"
   },
   {
    "duration": 8,
    "start_time": "2022-07-07T07:55:10.707Z"
   },
   {
    "duration": 23,
    "start_time": "2022-07-07T07:55:10.717Z"
   },
   {
    "duration": 569,
    "start_time": "2022-07-07T07:55:10.742Z"
   },
   {
    "duration": 587,
    "start_time": "2022-07-07T07:55:11.313Z"
   },
   {
    "duration": 30,
    "start_time": "2022-07-07T07:55:11.903Z"
   },
   {
    "duration": 9,
    "start_time": "2022-07-07T07:55:11.935Z"
   },
   {
    "duration": 21,
    "start_time": "2022-07-07T07:55:11.946Z"
   },
   {
    "duration": 1118,
    "start_time": "2022-07-07T07:55:56.868Z"
   },
   {
    "duration": 41,
    "start_time": "2022-07-07T07:55:57.987Z"
   },
   {
    "duration": 18,
    "start_time": "2022-07-07T07:55:58.030Z"
   },
   {
    "duration": 3,
    "start_time": "2022-07-07T07:55:58.050Z"
   },
   {
    "duration": 16,
    "start_time": "2022-07-07T07:55:58.060Z"
   },
   {
    "duration": 4,
    "start_time": "2022-07-07T07:55:58.078Z"
   },
   {
    "duration": 18,
    "start_time": "2022-07-07T07:55:58.084Z"
   },
   {
    "duration": 9,
    "start_time": "2022-07-07T07:55:58.104Z"
   },
   {
    "duration": 20,
    "start_time": "2022-07-07T07:55:58.115Z"
   },
   {
    "duration": 37,
    "start_time": "2022-07-07T07:55:58.138Z"
   },
   {
    "duration": 24,
    "start_time": "2022-07-07T07:55:58.176Z"
   },
   {
    "duration": 332,
    "start_time": "2022-07-07T07:55:58.202Z"
   },
   {
    "duration": 5,
    "start_time": "2022-07-07T07:55:58.536Z"
   },
   {
    "duration": 18,
    "start_time": "2022-07-07T07:55:58.542Z"
   },
   {
    "duration": 10,
    "start_time": "2022-07-07T07:55:58.562Z"
   },
   {
    "duration": 7,
    "start_time": "2022-07-07T07:55:58.573Z"
   },
   {
    "duration": 9,
    "start_time": "2022-07-07T07:55:58.581Z"
   },
   {
    "duration": 20,
    "start_time": "2022-07-07T07:55:58.592Z"
   },
   {
    "duration": 5,
    "start_time": "2022-07-07T07:55:58.613Z"
   },
   {
    "duration": 41,
    "start_time": "2022-07-07T07:55:58.620Z"
   },
   {
    "duration": 14,
    "start_time": "2022-07-07T07:55:58.663Z"
   },
   {
    "duration": 6,
    "start_time": "2022-07-07T07:55:58.680Z"
   },
   {
    "duration": 16,
    "start_time": "2022-07-07T07:55:58.688Z"
   },
   {
    "duration": 7,
    "start_time": "2022-07-07T07:55:58.706Z"
   },
   {
    "duration": 223,
    "start_time": "2022-07-07T07:55:58.715Z"
   },
   {
    "duration": 21,
    "start_time": "2022-07-07T07:55:58.940Z"
   },
   {
    "duration": 17,
    "start_time": "2022-07-07T07:55:58.963Z"
   },
   {
    "duration": 4,
    "start_time": "2022-07-07T07:55:58.984Z"
   },
   {
    "duration": 9,
    "start_time": "2022-07-07T07:55:58.989Z"
   },
   {
    "duration": 873,
    "start_time": "2022-07-07T07:55:59.000Z"
   },
   {
    "duration": 7,
    "start_time": "2022-07-07T07:55:59.876Z"
   },
   {
    "duration": 569,
    "start_time": "2022-07-07T07:55:59.885Z"
   },
   {
    "duration": 373,
    "start_time": "2022-07-07T07:56:00.456Z"
   },
   {
    "duration": 289,
    "start_time": "2022-07-07T07:56:00.830Z"
   },
   {
    "duration": 7,
    "start_time": "2022-07-07T07:56:01.120Z"
   },
   {
    "duration": 24,
    "start_time": "2022-07-07T07:56:01.129Z"
   },
   {
    "duration": 390,
    "start_time": "2022-07-07T07:56:01.155Z"
   },
   {
    "duration": 735,
    "start_time": "2022-07-07T07:56:01.547Z"
   },
   {
    "duration": 210,
    "start_time": "2022-07-07T07:56:02.283Z"
   },
   {
    "duration": 329,
    "start_time": "2022-07-07T07:56:02.495Z"
   },
   {
    "duration": 300,
    "start_time": "2022-07-07T07:56:02.826Z"
   },
   {
    "duration": 6,
    "start_time": "2022-07-07T07:56:03.129Z"
   },
   {
    "duration": 9,
    "start_time": "2022-07-07T07:56:03.137Z"
   },
   {
    "duration": 578,
    "start_time": "2022-07-07T07:56:03.160Z"
   },
   {
    "duration": 540,
    "start_time": "2022-07-07T07:56:03.740Z"
   },
   {
    "duration": 32,
    "start_time": "2022-07-07T07:56:04.283Z"
   },
   {
    "duration": 9,
    "start_time": "2022-07-07T07:56:04.317Z"
   },
   {
    "duration": 22,
    "start_time": "2022-07-07T07:56:04.328Z"
   },
   {
    "duration": 1306,
    "start_time": "2022-07-07T07:59:07.585Z"
   },
   {
    "duration": 74,
    "start_time": "2022-07-07T07:59:08.893Z"
   },
   {
    "duration": 33,
    "start_time": "2022-07-07T07:59:08.969Z"
   },
   {
    "duration": 5,
    "start_time": "2022-07-07T07:59:09.005Z"
   },
   {
    "duration": 24,
    "start_time": "2022-07-07T07:59:09.014Z"
   },
   {
    "duration": 6,
    "start_time": "2022-07-07T07:59:09.040Z"
   },
   {
    "duration": 42,
    "start_time": "2022-07-07T07:59:09.062Z"
   },
   {
    "duration": 16,
    "start_time": "2022-07-07T07:59:09.109Z"
   },
   {
    "duration": 16,
    "start_time": "2022-07-07T07:59:09.129Z"
   },
   {
    "duration": 21,
    "start_time": "2022-07-07T07:59:09.148Z"
   },
   {
    "duration": 45,
    "start_time": "2022-07-07T07:59:09.171Z"
   },
   {
    "duration": 453,
    "start_time": "2022-07-07T07:59:09.219Z"
   },
   {
    "duration": 8,
    "start_time": "2022-07-07T07:59:09.674Z"
   },
   {
    "duration": 13,
    "start_time": "2022-07-07T07:59:09.685Z"
   },
   {
    "duration": 23,
    "start_time": "2022-07-07T07:59:09.701Z"
   },
   {
    "duration": 15,
    "start_time": "2022-07-07T07:59:09.726Z"
   },
   {
    "duration": 10,
    "start_time": "2022-07-07T07:59:09.743Z"
   },
   {
    "duration": 24,
    "start_time": "2022-07-07T07:59:09.755Z"
   },
   {
    "duration": 8,
    "start_time": "2022-07-07T07:59:09.781Z"
   },
   {
    "duration": 30,
    "start_time": "2022-07-07T07:59:09.791Z"
   },
   {
    "duration": 16,
    "start_time": "2022-07-07T07:59:09.823Z"
   },
   {
    "duration": 10,
    "start_time": "2022-07-07T07:59:09.861Z"
   },
   {
    "duration": 24,
    "start_time": "2022-07-07T07:59:09.873Z"
   },
   {
    "duration": 5,
    "start_time": "2022-07-07T07:59:09.900Z"
   },
   {
    "duration": 316,
    "start_time": "2022-07-07T07:59:09.907Z"
   },
   {
    "duration": 17,
    "start_time": "2022-07-07T07:59:10.225Z"
   },
   {
    "duration": 20,
    "start_time": "2022-07-07T07:59:10.260Z"
   },
   {
    "duration": 5,
    "start_time": "2022-07-07T07:59:10.285Z"
   },
   {
    "duration": 17,
    "start_time": "2022-07-07T07:59:10.292Z"
   },
   {
    "duration": 974,
    "start_time": "2022-07-07T07:59:10.312Z"
   },
   {
    "duration": 8,
    "start_time": "2022-07-07T07:59:11.292Z"
   },
   {
    "duration": 679,
    "start_time": "2022-07-07T07:59:11.302Z"
   },
   {
    "duration": 379,
    "start_time": "2022-07-07T07:59:11.984Z"
   },
   {
    "duration": 364,
    "start_time": "2022-07-07T07:59:12.366Z"
   },
   {
    "duration": 6,
    "start_time": "2022-07-07T07:59:12.733Z"
   },
   {
    "duration": 28,
    "start_time": "2022-07-07T07:59:12.741Z"
   },
   {
    "duration": 418,
    "start_time": "2022-07-07T07:59:12.771Z"
   },
   {
    "duration": 806,
    "start_time": "2022-07-07T07:59:13.192Z"
   },
   {
    "duration": 255,
    "start_time": "2022-07-07T07:59:14.000Z"
   },
   {
    "duration": 318,
    "start_time": "2022-07-07T07:59:14.260Z"
   },
   {
    "duration": 382,
    "start_time": "2022-07-07T07:59:14.579Z"
   },
   {
    "duration": 9,
    "start_time": "2022-07-07T07:59:14.963Z"
   },
   {
    "duration": 17,
    "start_time": "2022-07-07T07:59:14.974Z"
   },
   {
    "duration": 768,
    "start_time": "2022-07-07T07:59:14.994Z"
   },
   {
    "duration": 771,
    "start_time": "2022-07-07T07:59:15.765Z"
   },
   {
    "duration": 33,
    "start_time": "2022-07-07T07:59:16.539Z"
   },
   {
    "duration": 36,
    "start_time": "2022-07-07T07:59:16.575Z"
   },
   {
    "duration": 15,
    "start_time": "2022-07-07T07:59:16.614Z"
   },
   {
    "duration": 1232,
    "start_time": "2022-07-07T08:00:34.676Z"
   },
   {
    "duration": 45,
    "start_time": "2022-07-07T08:00:35.910Z"
   },
   {
    "duration": 19,
    "start_time": "2022-07-07T08:00:35.957Z"
   },
   {
    "duration": 4,
    "start_time": "2022-07-07T08:00:35.978Z"
   },
   {
    "duration": 26,
    "start_time": "2022-07-07T08:00:35.984Z"
   },
   {
    "duration": 5,
    "start_time": "2022-07-07T08:00:36.013Z"
   },
   {
    "duration": 61,
    "start_time": "2022-07-07T08:00:36.021Z"
   },
   {
    "duration": 12,
    "start_time": "2022-07-07T08:00:36.085Z"
   },
   {
    "duration": 13,
    "start_time": "2022-07-07T08:00:36.099Z"
   },
   {
    "duration": 16,
    "start_time": "2022-07-07T08:00:36.115Z"
   },
   {
    "duration": 20,
    "start_time": "2022-07-07T08:00:36.162Z"
   },
   {
    "duration": 435,
    "start_time": "2022-07-07T08:00:36.184Z"
   },
   {
    "duration": 6,
    "start_time": "2022-07-07T08:00:36.622Z"
   },
   {
    "duration": 19,
    "start_time": "2022-07-07T08:00:36.631Z"
   },
   {
    "duration": 20,
    "start_time": "2022-07-07T08:00:36.655Z"
   },
   {
    "duration": 9,
    "start_time": "2022-07-07T08:00:36.677Z"
   },
   {
    "duration": 14,
    "start_time": "2022-07-07T08:00:36.689Z"
   },
   {
    "duration": 30,
    "start_time": "2022-07-07T08:00:36.706Z"
   },
   {
    "duration": 5,
    "start_time": "2022-07-07T08:00:36.738Z"
   },
   {
    "duration": 31,
    "start_time": "2022-07-07T08:00:36.745Z"
   },
   {
    "duration": 15,
    "start_time": "2022-07-07T08:00:36.778Z"
   },
   {
    "duration": 10,
    "start_time": "2022-07-07T08:00:36.794Z"
   },
   {
    "duration": 14,
    "start_time": "2022-07-07T08:00:36.806Z"
   },
   {
    "duration": 5,
    "start_time": "2022-07-07T08:00:36.822Z"
   },
   {
    "duration": 237,
    "start_time": "2022-07-07T08:00:36.862Z"
   },
   {
    "duration": 14,
    "start_time": "2022-07-07T08:00:37.100Z"
   },
   {
    "duration": 18,
    "start_time": "2022-07-07T08:00:37.116Z"
   },
   {
    "duration": 23,
    "start_time": "2022-07-07T08:00:37.139Z"
   },
   {
    "duration": 12,
    "start_time": "2022-07-07T08:00:37.165Z"
   },
   {
    "duration": 911,
    "start_time": "2022-07-07T08:00:37.179Z"
   },
   {
    "duration": 7,
    "start_time": "2022-07-07T08:00:38.092Z"
   },
   {
    "duration": 659,
    "start_time": "2022-07-07T08:00:38.101Z"
   },
   {
    "duration": 383,
    "start_time": "2022-07-07T08:00:38.763Z"
   },
   {
    "duration": 319,
    "start_time": "2022-07-07T08:00:39.148Z"
   },
   {
    "duration": 6,
    "start_time": "2022-07-07T08:00:39.468Z"
   },
   {
    "duration": 16,
    "start_time": "2022-07-07T08:00:39.476Z"
   },
   {
    "duration": 366,
    "start_time": "2022-07-07T08:00:39.494Z"
   },
   {
    "duration": 683,
    "start_time": "2022-07-07T08:00:39.862Z"
   },
   {
    "duration": 237,
    "start_time": "2022-07-07T08:00:40.547Z"
   },
   {
    "duration": 346,
    "start_time": "2022-07-07T08:00:40.786Z"
   },
   {
    "duration": 310,
    "start_time": "2022-07-07T08:00:41.135Z"
   },
   {
    "duration": 16,
    "start_time": "2022-07-07T08:00:41.447Z"
   },
   {
    "duration": 21,
    "start_time": "2022-07-07T08:00:41.465Z"
   },
   {
    "duration": 752,
    "start_time": "2022-07-07T08:00:41.487Z"
   },
   {
    "duration": 0,
    "start_time": "2022-07-07T08:00:42.241Z"
   },
   {
    "duration": 0,
    "start_time": "2022-07-07T08:00:42.243Z"
   },
   {
    "duration": 0,
    "start_time": "2022-07-07T08:00:42.245Z"
   },
   {
    "duration": 0,
    "start_time": "2022-07-07T08:00:42.246Z"
   },
   {
    "duration": 1144,
    "start_time": "2022-07-07T08:04:33.036Z"
   },
   {
    "duration": 41,
    "start_time": "2022-07-07T08:04:34.182Z"
   },
   {
    "duration": 20,
    "start_time": "2022-07-07T08:04:34.224Z"
   },
   {
    "duration": 3,
    "start_time": "2022-07-07T08:04:34.247Z"
   },
   {
    "duration": 21,
    "start_time": "2022-07-07T08:04:34.260Z"
   },
   {
    "duration": 5,
    "start_time": "2022-07-07T08:04:34.283Z"
   },
   {
    "duration": 31,
    "start_time": "2022-07-07T08:04:34.290Z"
   },
   {
    "duration": 12,
    "start_time": "2022-07-07T08:04:34.323Z"
   },
   {
    "duration": 34,
    "start_time": "2022-07-07T08:04:34.337Z"
   },
   {
    "duration": 14,
    "start_time": "2022-07-07T08:04:34.373Z"
   },
   {
    "duration": 24,
    "start_time": "2022-07-07T08:04:34.389Z"
   },
   {
    "duration": 374,
    "start_time": "2022-07-07T08:04:34.415Z"
   },
   {
    "duration": 5,
    "start_time": "2022-07-07T08:04:34.790Z"
   },
   {
    "duration": 8,
    "start_time": "2022-07-07T08:04:34.797Z"
   },
   {
    "duration": 11,
    "start_time": "2022-07-07T08:04:34.807Z"
   },
   {
    "duration": 9,
    "start_time": "2022-07-07T08:04:34.820Z"
   },
   {
    "duration": 13,
    "start_time": "2022-07-07T08:04:34.831Z"
   },
   {
    "duration": 34,
    "start_time": "2022-07-07T08:04:34.845Z"
   },
   {
    "duration": 5,
    "start_time": "2022-07-07T08:04:34.881Z"
   },
   {
    "duration": 25,
    "start_time": "2022-07-07T08:04:34.887Z"
   },
   {
    "duration": 15,
    "start_time": "2022-07-07T08:04:34.913Z"
   },
   {
    "duration": 6,
    "start_time": "2022-07-07T08:04:34.929Z"
   },
   {
    "duration": 33,
    "start_time": "2022-07-07T08:04:34.937Z"
   },
   {
    "duration": 5,
    "start_time": "2022-07-07T08:04:34.972Z"
   },
   {
    "duration": 234,
    "start_time": "2022-07-07T08:04:34.978Z"
   },
   {
    "duration": 13,
    "start_time": "2022-07-07T08:04:35.214Z"
   },
   {
    "duration": 40,
    "start_time": "2022-07-07T08:04:35.229Z"
   },
   {
    "duration": 4,
    "start_time": "2022-07-07T08:04:35.272Z"
   },
   {
    "duration": 14,
    "start_time": "2022-07-07T08:04:35.278Z"
   },
   {
    "duration": 943,
    "start_time": "2022-07-07T08:04:35.294Z"
   },
   {
    "duration": 10,
    "start_time": "2022-07-07T08:04:36.239Z"
   },
   {
    "duration": 643,
    "start_time": "2022-07-07T08:04:36.251Z"
   },
   {
    "duration": 349,
    "start_time": "2022-07-07T08:04:36.896Z"
   },
   {
    "duration": 277,
    "start_time": "2022-07-07T08:04:37.247Z"
   },
   {
    "duration": 6,
    "start_time": "2022-07-07T08:04:37.526Z"
   },
   {
    "duration": 10,
    "start_time": "2022-07-07T08:04:37.534Z"
   },
   {
    "duration": 342,
    "start_time": "2022-07-07T08:04:37.546Z"
   },
   {
    "duration": 634,
    "start_time": "2022-07-07T08:04:37.890Z"
   },
   {
    "duration": 230,
    "start_time": "2022-07-07T08:04:38.525Z"
   },
   {
    "duration": 319,
    "start_time": "2022-07-07T08:04:38.758Z"
   },
   {
    "duration": 297,
    "start_time": "2022-07-07T08:04:39.079Z"
   },
   {
    "duration": 5,
    "start_time": "2022-07-07T08:04:39.378Z"
   },
   {
    "duration": 7,
    "start_time": "2022-07-07T08:04:39.385Z"
   },
   {
    "duration": 536,
    "start_time": "2022-07-07T08:04:39.394Z"
   },
   {
    "duration": 484,
    "start_time": "2022-07-07T08:04:39.932Z"
   },
   {
    "duration": 23,
    "start_time": "2022-07-07T08:04:40.418Z"
   },
   {
    "duration": 12,
    "start_time": "2022-07-07T08:04:40.444Z"
   },
   {
    "duration": 13,
    "start_time": "2022-07-07T08:04:40.458Z"
   },
   {
    "duration": 1241,
    "start_time": "2022-07-07T08:05:14.972Z"
   },
   {
    "duration": 53,
    "start_time": "2022-07-07T08:05:16.215Z"
   },
   {
    "duration": 24,
    "start_time": "2022-07-07T08:05:16.271Z"
   },
   {
    "duration": 4,
    "start_time": "2022-07-07T08:05:16.297Z"
   },
   {
    "duration": 32,
    "start_time": "2022-07-07T08:05:16.303Z"
   },
   {
    "duration": 16,
    "start_time": "2022-07-07T08:05:16.337Z"
   },
   {
    "duration": 37,
    "start_time": "2022-07-07T08:05:16.356Z"
   },
   {
    "duration": 19,
    "start_time": "2022-07-07T08:05:16.395Z"
   },
   {
    "duration": 23,
    "start_time": "2022-07-07T08:05:16.416Z"
   },
   {
    "duration": 30,
    "start_time": "2022-07-07T08:05:16.443Z"
   },
   {
    "duration": 30,
    "start_time": "2022-07-07T08:05:16.475Z"
   },
   {
    "duration": 387,
    "start_time": "2022-07-07T08:05:16.507Z"
   },
   {
    "duration": 4,
    "start_time": "2022-07-07T08:05:16.896Z"
   },
   {
    "duration": 11,
    "start_time": "2022-07-07T08:05:16.902Z"
   },
   {
    "duration": 11,
    "start_time": "2022-07-07T08:05:16.915Z"
   },
   {
    "duration": 5,
    "start_time": "2022-07-07T08:05:16.928Z"
   },
   {
    "duration": 10,
    "start_time": "2022-07-07T08:05:16.934Z"
   },
   {
    "duration": 21,
    "start_time": "2022-07-07T08:05:16.961Z"
   },
   {
    "duration": 5,
    "start_time": "2022-07-07T08:05:16.984Z"
   },
   {
    "duration": 28,
    "start_time": "2022-07-07T08:05:16.991Z"
   },
   {
    "duration": 41,
    "start_time": "2022-07-07T08:05:17.021Z"
   },
   {
    "duration": 9,
    "start_time": "2022-07-07T08:05:17.064Z"
   },
   {
    "duration": 16,
    "start_time": "2022-07-07T08:05:17.075Z"
   },
   {
    "duration": 5,
    "start_time": "2022-07-07T08:05:17.092Z"
   },
   {
    "duration": 237,
    "start_time": "2022-07-07T08:05:17.099Z"
   },
   {
    "duration": 26,
    "start_time": "2022-07-07T08:05:17.338Z"
   },
   {
    "duration": 17,
    "start_time": "2022-07-07T08:05:17.365Z"
   },
   {
    "duration": 5,
    "start_time": "2022-07-07T08:05:17.385Z"
   },
   {
    "duration": 15,
    "start_time": "2022-07-07T08:05:17.392Z"
   },
   {
    "duration": 998,
    "start_time": "2022-07-07T08:05:17.409Z"
   },
   {
    "duration": 8,
    "start_time": "2022-07-07T08:05:18.409Z"
   },
   {
    "duration": 663,
    "start_time": "2022-07-07T08:05:18.419Z"
   },
   {
    "duration": 381,
    "start_time": "2022-07-07T08:05:19.084Z"
   },
   {
    "duration": 274,
    "start_time": "2022-07-07T08:05:19.468Z"
   },
   {
    "duration": 15,
    "start_time": "2022-07-07T08:05:19.745Z"
   },
   {
    "duration": 9,
    "start_time": "2022-07-07T08:05:19.762Z"
   },
   {
    "duration": 387,
    "start_time": "2022-07-07T08:05:19.773Z"
   },
   {
    "duration": 683,
    "start_time": "2022-07-07T08:05:20.162Z"
   },
   {
    "duration": 224,
    "start_time": "2022-07-07T08:05:20.846Z"
   },
   {
    "duration": 324,
    "start_time": "2022-07-07T08:05:21.072Z"
   },
   {
    "duration": 313,
    "start_time": "2022-07-07T08:05:21.397Z"
   },
   {
    "duration": 6,
    "start_time": "2022-07-07T08:05:21.714Z"
   },
   {
    "duration": 10,
    "start_time": "2022-07-07T08:05:21.722Z"
   },
   {
    "duration": 600,
    "start_time": "2022-07-07T08:05:21.734Z"
   },
   {
    "duration": 587,
    "start_time": "2022-07-07T08:05:22.337Z"
   },
   {
    "duration": 29,
    "start_time": "2022-07-07T08:05:22.926Z"
   },
   {
    "duration": 9,
    "start_time": "2022-07-07T08:05:22.957Z"
   },
   {
    "duration": 13,
    "start_time": "2022-07-07T08:05:22.968Z"
   },
   {
    "duration": 1208,
    "start_time": "2022-07-07T08:18:15.753Z"
   },
   {
    "duration": 42,
    "start_time": "2022-07-07T08:18:16.963Z"
   },
   {
    "duration": 24,
    "start_time": "2022-07-07T08:18:17.007Z"
   },
   {
    "duration": 4,
    "start_time": "2022-07-07T08:18:17.034Z"
   },
   {
    "duration": 39,
    "start_time": "2022-07-07T08:18:17.040Z"
   },
   {
    "duration": 6,
    "start_time": "2022-07-07T08:18:17.081Z"
   },
   {
    "duration": 23,
    "start_time": "2022-07-07T08:18:17.089Z"
   },
   {
    "duration": 10,
    "start_time": "2022-07-07T08:18:17.113Z"
   },
   {
    "duration": 42,
    "start_time": "2022-07-07T08:18:17.125Z"
   },
   {
    "duration": 16,
    "start_time": "2022-07-07T08:18:17.170Z"
   },
   {
    "duration": 22,
    "start_time": "2022-07-07T08:18:17.188Z"
   },
   {
    "duration": 348,
    "start_time": "2022-07-07T08:18:17.212Z"
   },
   {
    "duration": 5,
    "start_time": "2022-07-07T08:18:17.562Z"
   },
   {
    "duration": 18,
    "start_time": "2022-07-07T08:18:17.569Z"
   },
   {
    "duration": 19,
    "start_time": "2022-07-07T08:18:17.588Z"
   },
   {
    "duration": 9,
    "start_time": "2022-07-07T08:18:17.609Z"
   },
   {
    "duration": 7,
    "start_time": "2022-07-07T08:18:17.620Z"
   },
   {
    "duration": 33,
    "start_time": "2022-07-07T08:18:17.629Z"
   },
   {
    "duration": 6,
    "start_time": "2022-07-07T08:18:17.664Z"
   },
   {
    "duration": 30,
    "start_time": "2022-07-07T08:18:17.672Z"
   },
   {
    "duration": 15,
    "start_time": "2022-07-07T08:18:17.704Z"
   },
   {
    "duration": 11,
    "start_time": "2022-07-07T08:18:17.721Z"
   },
   {
    "duration": 35,
    "start_time": "2022-07-07T08:18:17.734Z"
   },
   {
    "duration": 5,
    "start_time": "2022-07-07T08:18:17.771Z"
   },
   {
    "duration": 251,
    "start_time": "2022-07-07T08:18:17.778Z"
   },
   {
    "duration": 18,
    "start_time": "2022-07-07T08:18:18.031Z"
   },
   {
    "duration": 24,
    "start_time": "2022-07-07T08:18:18.061Z"
   },
   {
    "duration": 5,
    "start_time": "2022-07-07T08:18:18.091Z"
   },
   {
    "duration": 17,
    "start_time": "2022-07-07T08:18:18.098Z"
   },
   {
    "duration": 911,
    "start_time": "2022-07-07T08:18:18.118Z"
   },
   {
    "duration": 7,
    "start_time": "2022-07-07T08:18:19.030Z"
   },
   {
    "duration": 631,
    "start_time": "2022-07-07T08:18:19.039Z"
   },
   {
    "duration": 407,
    "start_time": "2022-07-07T08:18:19.672Z"
   },
   {
    "duration": 275,
    "start_time": "2022-07-07T08:18:20.081Z"
   },
   {
    "duration": 6,
    "start_time": "2022-07-07T08:18:20.360Z"
   },
   {
    "duration": 16,
    "start_time": "2022-07-07T08:18:20.368Z"
   },
   {
    "duration": 366,
    "start_time": "2022-07-07T08:18:20.385Z"
   },
   {
    "duration": 667,
    "start_time": "2022-07-07T08:18:20.753Z"
   },
   {
    "duration": 211,
    "start_time": "2022-07-07T08:18:21.423Z"
   },
   {
    "duration": 299,
    "start_time": "2022-07-07T08:18:21.636Z"
   },
   {
    "duration": 301,
    "start_time": "2022-07-07T08:18:21.938Z"
   },
   {
    "duration": 8,
    "start_time": "2022-07-07T08:18:22.240Z"
   },
   {
    "duration": 12,
    "start_time": "2022-07-07T08:18:22.251Z"
   },
   {
    "duration": 544,
    "start_time": "2022-07-07T08:18:22.265Z"
   },
   {
    "duration": 501,
    "start_time": "2022-07-07T08:18:22.811Z"
   },
   {
    "duration": 21,
    "start_time": "2022-07-07T08:18:23.314Z"
   },
   {
    "duration": 11,
    "start_time": "2022-07-07T08:18:23.337Z"
   },
   {
    "duration": 15,
    "start_time": "2022-07-07T08:18:23.350Z"
   },
   {
    "duration": 6,
    "start_time": "2022-07-07T08:24:51.136Z"
   },
   {
    "duration": 1137,
    "start_time": "2022-07-07T08:26:41.051Z"
   },
   {
    "duration": 43,
    "start_time": "2022-07-07T08:26:42.190Z"
   },
   {
    "duration": 20,
    "start_time": "2022-07-07T08:26:42.235Z"
   },
   {
    "duration": 9,
    "start_time": "2022-07-07T08:26:42.260Z"
   },
   {
    "duration": 28,
    "start_time": "2022-07-07T08:26:42.273Z"
   },
   {
    "duration": 20,
    "start_time": "2022-07-07T08:26:42.303Z"
   },
   {
    "duration": 42,
    "start_time": "2022-07-07T08:26:42.324Z"
   },
   {
    "duration": 19,
    "start_time": "2022-07-07T08:26:42.368Z"
   },
   {
    "duration": 44,
    "start_time": "2022-07-07T08:26:42.388Z"
   },
   {
    "duration": 17,
    "start_time": "2022-07-07T08:26:42.434Z"
   },
   {
    "duration": 48,
    "start_time": "2022-07-07T08:26:42.453Z"
   },
   {
    "duration": 392,
    "start_time": "2022-07-07T08:26:42.503Z"
   },
   {
    "duration": 5,
    "start_time": "2022-07-07T08:26:42.896Z"
   },
   {
    "duration": 35,
    "start_time": "2022-07-07T08:26:42.905Z"
   },
   {
    "duration": 17,
    "start_time": "2022-07-07T08:26:42.941Z"
   },
   {
    "duration": 34,
    "start_time": "2022-07-07T08:26:42.960Z"
   },
   {
    "duration": 28,
    "start_time": "2022-07-07T08:26:42.996Z"
   },
   {
    "duration": 35,
    "start_time": "2022-07-07T08:26:43.026Z"
   },
   {
    "duration": 16,
    "start_time": "2022-07-07T08:26:43.063Z"
   },
   {
    "duration": 26,
    "start_time": "2022-07-07T08:26:43.081Z"
   },
   {
    "duration": 25,
    "start_time": "2022-07-07T08:26:43.108Z"
   },
   {
    "duration": 34,
    "start_time": "2022-07-07T08:26:43.135Z"
   },
   {
    "duration": 44,
    "start_time": "2022-07-07T08:26:43.171Z"
   },
   {
    "duration": 21,
    "start_time": "2022-07-07T08:26:43.217Z"
   },
   {
    "duration": 209,
    "start_time": "2022-07-07T08:26:43.240Z"
   },
   {
    "duration": 18,
    "start_time": "2022-07-07T08:26:43.450Z"
   },
   {
    "duration": 33,
    "start_time": "2022-07-07T08:26:43.470Z"
   },
   {
    "duration": 3,
    "start_time": "2022-07-07T08:26:43.505Z"
   },
   {
    "duration": 9,
    "start_time": "2022-07-07T08:26:43.510Z"
   },
   {
    "duration": 822,
    "start_time": "2022-07-07T08:26:43.521Z"
   },
   {
    "duration": 15,
    "start_time": "2022-07-07T08:26:44.345Z"
   },
   {
    "duration": 620,
    "start_time": "2022-07-07T08:26:44.362Z"
   },
   {
    "duration": 388,
    "start_time": "2022-07-07T08:26:44.983Z"
   },
   {
    "duration": 270,
    "start_time": "2022-07-07T08:26:45.372Z"
   },
   {
    "duration": 5,
    "start_time": "2022-07-07T08:26:45.644Z"
   },
   {
    "duration": 18,
    "start_time": "2022-07-07T08:26:45.651Z"
   },
   {
    "duration": 350,
    "start_time": "2022-07-07T08:26:45.671Z"
   },
   {
    "duration": 725,
    "start_time": "2022-07-07T08:26:46.023Z"
   },
   {
    "duration": 200,
    "start_time": "2022-07-07T08:26:46.749Z"
   },
   {
    "duration": 289,
    "start_time": "2022-07-07T08:26:46.960Z"
   },
   {
    "duration": 305,
    "start_time": "2022-07-07T08:26:47.252Z"
   },
   {
    "duration": 6,
    "start_time": "2022-07-07T08:26:47.561Z"
   },
   {
    "duration": 18,
    "start_time": "2022-07-07T08:26:47.569Z"
   },
   {
    "duration": 623,
    "start_time": "2022-07-07T08:26:47.590Z"
   },
   {
    "duration": 533,
    "start_time": "2022-07-07T08:26:48.215Z"
   },
   {
    "duration": 22,
    "start_time": "2022-07-07T08:26:48.750Z"
   },
   {
    "duration": 9,
    "start_time": "2022-07-07T08:26:48.774Z"
   },
   {
    "duration": 18,
    "start_time": "2022-07-07T08:26:48.785Z"
   },
   {
    "duration": 1136,
    "start_time": "2022-07-07T08:27:11.262Z"
   },
   {
    "duration": 42,
    "start_time": "2022-07-07T08:27:12.400Z"
   },
   {
    "duration": 19,
    "start_time": "2022-07-07T08:27:12.444Z"
   },
   {
    "duration": 3,
    "start_time": "2022-07-07T08:27:12.465Z"
   },
   {
    "duration": 22,
    "start_time": "2022-07-07T08:27:12.470Z"
   },
   {
    "duration": 5,
    "start_time": "2022-07-07T08:27:12.493Z"
   },
   {
    "duration": 26,
    "start_time": "2022-07-07T08:27:12.500Z"
   },
   {
    "duration": 10,
    "start_time": "2022-07-07T08:27:12.527Z"
   },
   {
    "duration": 32,
    "start_time": "2022-07-07T08:27:12.538Z"
   },
   {
    "duration": 14,
    "start_time": "2022-07-07T08:27:12.573Z"
   },
   {
    "duration": 58,
    "start_time": "2022-07-07T08:27:12.589Z"
   },
   {
    "duration": 358,
    "start_time": "2022-07-07T08:27:12.649Z"
   },
   {
    "duration": 4,
    "start_time": "2022-07-07T08:27:13.009Z"
   },
   {
    "duration": 24,
    "start_time": "2022-07-07T08:27:13.015Z"
   },
   {
    "duration": 20,
    "start_time": "2022-07-07T08:27:13.041Z"
   },
   {
    "duration": 5,
    "start_time": "2022-07-07T08:27:13.064Z"
   },
   {
    "duration": 9,
    "start_time": "2022-07-07T08:27:13.071Z"
   },
   {
    "duration": 16,
    "start_time": "2022-07-07T08:27:13.081Z"
   },
   {
    "duration": 4,
    "start_time": "2022-07-07T08:27:13.099Z"
   },
   {
    "duration": 25,
    "start_time": "2022-07-07T08:27:13.104Z"
   },
   {
    "duration": 35,
    "start_time": "2022-07-07T08:27:13.131Z"
   },
   {
    "duration": 7,
    "start_time": "2022-07-07T08:27:13.168Z"
   },
   {
    "duration": 12,
    "start_time": "2022-07-07T08:27:13.177Z"
   },
   {
    "duration": 4,
    "start_time": "2022-07-07T08:27:13.191Z"
   },
   {
    "duration": 231,
    "start_time": "2022-07-07T08:27:13.197Z"
   },
   {
    "duration": 11,
    "start_time": "2022-07-07T08:27:13.429Z"
   },
   {
    "duration": 28,
    "start_time": "2022-07-07T08:27:13.442Z"
   },
   {
    "duration": 3,
    "start_time": "2022-07-07T08:27:13.474Z"
   },
   {
    "duration": 10,
    "start_time": "2022-07-07T08:27:13.479Z"
   },
   {
    "duration": 841,
    "start_time": "2022-07-07T08:27:13.491Z"
   },
   {
    "duration": 7,
    "start_time": "2022-07-07T08:27:14.333Z"
   },
   {
    "duration": 656,
    "start_time": "2022-07-07T08:27:14.341Z"
   },
   {
    "duration": 402,
    "start_time": "2022-07-07T08:27:15.000Z"
   },
   {
    "duration": 289,
    "start_time": "2022-07-07T08:27:15.404Z"
   },
   {
    "duration": 8,
    "start_time": "2022-07-07T08:27:15.695Z"
   },
   {
    "duration": 12,
    "start_time": "2022-07-07T08:27:15.705Z"
   },
   {
    "duration": 393,
    "start_time": "2022-07-07T08:27:15.719Z"
   },
   {
    "duration": 741,
    "start_time": "2022-07-07T08:27:16.113Z"
   },
   {
    "duration": 203,
    "start_time": "2022-07-07T08:27:16.856Z"
   },
   {
    "duration": 306,
    "start_time": "2022-07-07T08:27:17.061Z"
   },
   {
    "duration": 293,
    "start_time": "2022-07-07T08:27:17.369Z"
   },
   {
    "duration": 5,
    "start_time": "2022-07-07T08:27:17.664Z"
   },
   {
    "duration": 10,
    "start_time": "2022-07-07T08:27:17.670Z"
   },
   {
    "duration": 558,
    "start_time": "2022-07-07T08:27:17.682Z"
   },
   {
    "duration": 534,
    "start_time": "2022-07-07T08:27:18.242Z"
   },
   {
    "duration": 24,
    "start_time": "2022-07-07T08:27:18.778Z"
   },
   {
    "duration": 8,
    "start_time": "2022-07-07T08:27:18.804Z"
   },
   {
    "duration": 12,
    "start_time": "2022-07-07T08:27:18.813Z"
   },
   {
    "duration": 505,
    "start_time": "2022-07-07T08:38:04.184Z"
   },
   {
    "duration": 1471,
    "start_time": "2022-07-07T08:39:09.251Z"
   },
   {
    "duration": 50,
    "start_time": "2022-07-07T08:39:10.730Z"
   },
   {
    "duration": 30,
    "start_time": "2022-07-07T08:39:10.782Z"
   },
   {
    "duration": 19,
    "start_time": "2022-07-07T08:39:10.818Z"
   },
   {
    "duration": 23,
    "start_time": "2022-07-07T08:39:10.839Z"
   },
   {
    "duration": 42,
    "start_time": "2022-07-07T08:39:10.871Z"
   },
   {
    "duration": 40,
    "start_time": "2022-07-07T08:39:10.917Z"
   },
   {
    "duration": 45,
    "start_time": "2022-07-07T08:39:10.959Z"
   },
   {
    "duration": 35,
    "start_time": "2022-07-07T08:39:11.008Z"
   },
   {
    "duration": 30,
    "start_time": "2022-07-07T08:39:11.047Z"
   },
   {
    "duration": 36,
    "start_time": "2022-07-07T08:39:11.079Z"
   },
   {
    "duration": 508,
    "start_time": "2022-07-07T08:39:11.118Z"
   },
   {
    "duration": 6,
    "start_time": "2022-07-07T08:39:11.628Z"
   },
   {
    "duration": 14,
    "start_time": "2022-07-07T08:39:11.637Z"
   },
   {
    "duration": 22,
    "start_time": "2022-07-07T08:39:11.653Z"
   },
   {
    "duration": 39,
    "start_time": "2022-07-07T08:39:11.678Z"
   },
   {
    "duration": 8,
    "start_time": "2022-07-07T08:39:11.720Z"
   },
   {
    "duration": 26,
    "start_time": "2022-07-07T08:39:11.731Z"
   },
   {
    "duration": 6,
    "start_time": "2022-07-07T08:39:11.767Z"
   },
   {
    "duration": 53,
    "start_time": "2022-07-07T08:39:11.775Z"
   },
   {
    "duration": 19,
    "start_time": "2022-07-07T08:39:11.830Z"
   },
   {
    "duration": 13,
    "start_time": "2022-07-07T08:39:11.851Z"
   },
   {
    "duration": 54,
    "start_time": "2022-07-07T08:39:11.866Z"
   },
   {
    "duration": 14,
    "start_time": "2022-07-07T08:39:11.922Z"
   },
   {
    "duration": 260,
    "start_time": "2022-07-07T08:39:11.938Z"
   },
   {
    "duration": 14,
    "start_time": "2022-07-07T08:39:12.199Z"
   },
   {
    "duration": 27,
    "start_time": "2022-07-07T08:39:12.215Z"
   },
   {
    "duration": 10,
    "start_time": "2022-07-07T08:39:12.247Z"
   },
   {
    "duration": 54,
    "start_time": "2022-07-07T08:39:12.265Z"
   },
   {
    "duration": 1099,
    "start_time": "2022-07-07T08:39:12.322Z"
   },
   {
    "duration": 11,
    "start_time": "2022-07-07T08:39:13.425Z"
   },
   {
    "duration": 708,
    "start_time": "2022-07-07T08:39:13.439Z"
   },
   {
    "duration": 470,
    "start_time": "2022-07-07T08:39:14.149Z"
   },
   {
    "duration": 488,
    "start_time": "2022-07-07T08:39:14.621Z"
   },
   {
    "duration": 8,
    "start_time": "2022-07-07T08:39:15.114Z"
   },
   {
    "duration": 26,
    "start_time": "2022-07-07T08:39:15.124Z"
   },
   {
    "duration": 454,
    "start_time": "2022-07-07T08:39:15.152Z"
   },
   {
    "duration": 846,
    "start_time": "2022-07-07T08:39:15.608Z"
   },
   {
    "duration": 309,
    "start_time": "2022-07-07T08:39:16.458Z"
   },
   {
    "duration": 462,
    "start_time": "2022-07-07T08:39:16.769Z"
   },
   {
    "duration": 360,
    "start_time": "2022-07-07T08:39:17.233Z"
   },
   {
    "duration": 7,
    "start_time": "2022-07-07T08:39:17.597Z"
   },
   {
    "duration": 20,
    "start_time": "2022-07-07T08:39:17.605Z"
   },
   {
    "duration": 734,
    "start_time": "2022-07-07T08:39:17.628Z"
   },
   {
    "duration": 702,
    "start_time": "2022-07-07T08:39:18.364Z"
   },
   {
    "duration": 36,
    "start_time": "2022-07-07T08:39:19.068Z"
   },
   {
    "duration": 18,
    "start_time": "2022-07-07T08:39:19.108Z"
   },
   {
    "duration": 18,
    "start_time": "2022-07-07T08:39:19.129Z"
   },
   {
    "duration": 1163,
    "start_time": "2022-07-07T08:39:30.832Z"
   },
   {
    "duration": 43,
    "start_time": "2022-07-07T08:39:31.997Z"
   },
   {
    "duration": 31,
    "start_time": "2022-07-07T08:39:32.042Z"
   },
   {
    "duration": 33,
    "start_time": "2022-07-07T08:39:32.080Z"
   },
   {
    "duration": 29,
    "start_time": "2022-07-07T08:39:32.116Z"
   },
   {
    "duration": 39,
    "start_time": "2022-07-07T08:39:32.147Z"
   },
   {
    "duration": 33,
    "start_time": "2022-07-07T08:39:32.188Z"
   },
   {
    "duration": 22,
    "start_time": "2022-07-07T08:39:32.223Z"
   },
   {
    "duration": 48,
    "start_time": "2022-07-07T08:39:32.247Z"
   },
   {
    "duration": 22,
    "start_time": "2022-07-07T08:39:32.297Z"
   },
   {
    "duration": 47,
    "start_time": "2022-07-07T08:39:32.321Z"
   },
   {
    "duration": 463,
    "start_time": "2022-07-07T08:39:32.370Z"
   },
   {
    "duration": 5,
    "start_time": "2022-07-07T08:39:32.835Z"
   },
   {
    "duration": 49,
    "start_time": "2022-07-07T08:39:32.844Z"
   },
   {
    "duration": 29,
    "start_time": "2022-07-07T08:39:32.895Z"
   },
   {
    "duration": 18,
    "start_time": "2022-07-07T08:39:32.926Z"
   },
   {
    "duration": 38,
    "start_time": "2022-07-07T08:39:32.947Z"
   },
   {
    "duration": 49,
    "start_time": "2022-07-07T08:39:32.987Z"
   },
   {
    "duration": 6,
    "start_time": "2022-07-07T08:39:33.038Z"
   },
   {
    "duration": 62,
    "start_time": "2022-07-07T08:39:33.046Z"
   },
   {
    "duration": 16,
    "start_time": "2022-07-07T08:39:33.110Z"
   },
   {
    "duration": 11,
    "start_time": "2022-07-07T08:39:33.129Z"
   },
   {
    "duration": 47,
    "start_time": "2022-07-07T08:39:33.142Z"
   },
   {
    "duration": 18,
    "start_time": "2022-07-07T08:39:33.191Z"
   },
   {
    "duration": 278,
    "start_time": "2022-07-07T08:39:33.212Z"
   },
   {
    "duration": 17,
    "start_time": "2022-07-07T08:39:33.492Z"
   },
   {
    "duration": 32,
    "start_time": "2022-07-07T08:39:33.511Z"
   },
   {
    "duration": 9,
    "start_time": "2022-07-07T08:39:33.560Z"
   },
   {
    "duration": 39,
    "start_time": "2022-07-07T08:39:33.571Z"
   },
   {
    "duration": 936,
    "start_time": "2022-07-07T08:39:33.612Z"
   },
   {
    "duration": 8,
    "start_time": "2022-07-07T08:39:34.549Z"
   },
   {
    "duration": 783,
    "start_time": "2022-07-07T08:39:34.562Z"
   },
   {
    "duration": 406,
    "start_time": "2022-07-07T08:39:35.348Z"
   },
   {
    "duration": 314,
    "start_time": "2022-07-07T08:39:35.756Z"
   },
   {
    "duration": 7,
    "start_time": "2022-07-07T08:39:36.072Z"
   },
   {
    "duration": 21,
    "start_time": "2022-07-07T08:39:36.081Z"
   },
   {
    "duration": 520,
    "start_time": "2022-07-07T08:39:36.104Z"
   },
   {
    "duration": 819,
    "start_time": "2022-07-07T08:39:36.627Z"
   },
   {
    "duration": 233,
    "start_time": "2022-07-07T08:39:37.448Z"
   },
   {
    "duration": 337,
    "start_time": "2022-07-07T08:39:37.686Z"
   },
   {
    "duration": 378,
    "start_time": "2022-07-07T08:39:38.027Z"
   },
   {
    "duration": 8,
    "start_time": "2022-07-07T08:39:38.408Z"
   },
   {
    "duration": 18,
    "start_time": "2022-07-07T08:39:38.419Z"
   },
   {
    "duration": 968,
    "start_time": "2022-07-07T08:39:38.440Z"
   },
   {
    "duration": 556,
    "start_time": "2022-07-07T08:39:39.410Z"
   },
   {
    "duration": 27,
    "start_time": "2022-07-07T08:39:39.968Z"
   },
   {
    "duration": 11,
    "start_time": "2022-07-07T08:39:39.997Z"
   },
   {
    "duration": 15,
    "start_time": "2022-07-07T08:39:40.011Z"
   },
   {
    "duration": 1400,
    "start_time": "2022-07-07T08:42:01.183Z"
   },
   {
    "duration": 41,
    "start_time": "2022-07-07T08:42:02.586Z"
   },
   {
    "duration": 20,
    "start_time": "2022-07-07T08:42:02.629Z"
   },
   {
    "duration": 56,
    "start_time": "2022-07-07T08:42:02.651Z"
   },
   {
    "duration": 46,
    "start_time": "2022-07-07T08:42:02.710Z"
   },
   {
    "duration": 9,
    "start_time": "2022-07-07T08:42:02.758Z"
   },
   {
    "duration": 39,
    "start_time": "2022-07-07T08:42:02.769Z"
   },
   {
    "duration": 14,
    "start_time": "2022-07-07T08:42:02.810Z"
   },
   {
    "duration": 18,
    "start_time": "2022-07-07T08:42:02.826Z"
   },
   {
    "duration": 33,
    "start_time": "2022-07-07T08:42:02.845Z"
   },
   {
    "duration": 19,
    "start_time": "2022-07-07T08:42:02.879Z"
   },
   {
    "duration": 390,
    "start_time": "2022-07-07T08:42:02.900Z"
   },
   {
    "duration": 5,
    "start_time": "2022-07-07T08:42:03.292Z"
   },
   {
    "duration": 13,
    "start_time": "2022-07-07T08:42:03.301Z"
   },
   {
    "duration": 16,
    "start_time": "2022-07-07T08:42:03.316Z"
   },
   {
    "duration": 32,
    "start_time": "2022-07-07T08:42:03.334Z"
   },
   {
    "duration": 11,
    "start_time": "2022-07-07T08:42:03.369Z"
   },
   {
    "duration": 23,
    "start_time": "2022-07-07T08:42:03.385Z"
   },
   {
    "duration": 6,
    "start_time": "2022-07-07T08:42:03.410Z"
   },
   {
    "duration": 46,
    "start_time": "2022-07-07T08:42:03.419Z"
   },
   {
    "duration": 21,
    "start_time": "2022-07-07T08:42:03.468Z"
   },
   {
    "duration": 19,
    "start_time": "2022-07-07T08:42:03.491Z"
   },
   {
    "duration": 24,
    "start_time": "2022-07-07T08:42:03.512Z"
   },
   {
    "duration": 9,
    "start_time": "2022-07-07T08:42:03.538Z"
   },
   {
    "duration": 254,
    "start_time": "2022-07-07T08:42:03.549Z"
   },
   {
    "duration": 13,
    "start_time": "2022-07-07T08:42:03.805Z"
   },
   {
    "duration": 16,
    "start_time": "2022-07-07T08:42:03.820Z"
   },
   {
    "duration": 4,
    "start_time": "2022-07-07T08:42:03.838Z"
   },
   {
    "duration": 30,
    "start_time": "2022-07-07T08:42:03.844Z"
   },
   {
    "duration": 1012,
    "start_time": "2022-07-07T08:42:03.882Z"
   },
   {
    "duration": 11,
    "start_time": "2022-07-07T08:42:04.896Z"
   },
   {
    "duration": 764,
    "start_time": "2022-07-07T08:42:04.908Z"
   },
   {
    "duration": 375,
    "start_time": "2022-07-07T08:42:05.674Z"
   },
   {
    "duration": 364,
    "start_time": "2022-07-07T08:42:06.051Z"
   },
   {
    "duration": 8,
    "start_time": "2022-07-07T08:42:06.418Z"
   },
   {
    "duration": 20,
    "start_time": "2022-07-07T08:42:06.428Z"
   },
   {
    "duration": 482,
    "start_time": "2022-07-07T08:42:06.462Z"
   },
   {
    "duration": 738,
    "start_time": "2022-07-07T08:42:06.946Z"
   },
   {
    "duration": 235,
    "start_time": "2022-07-07T08:42:07.686Z"
   },
   {
    "duration": 388,
    "start_time": "2022-07-07T08:42:07.923Z"
   },
   {
    "duration": 380,
    "start_time": "2022-07-07T08:42:08.315Z"
   },
   {
    "duration": 12,
    "start_time": "2022-07-07T08:42:08.697Z"
   },
   {
    "duration": 17,
    "start_time": "2022-07-07T08:42:08.711Z"
   },
   {
    "duration": 861,
    "start_time": "2022-07-07T08:42:08.732Z"
   },
   {
    "duration": 582,
    "start_time": "2022-07-07T08:42:09.595Z"
   },
   {
    "duration": 33,
    "start_time": "2022-07-07T08:42:10.179Z"
   },
   {
    "duration": 15,
    "start_time": "2022-07-07T08:42:10.215Z"
   },
   {
    "duration": 16,
    "start_time": "2022-07-07T08:42:10.232Z"
   },
   {
    "duration": 1125,
    "start_time": "2022-07-07T08:43:27.601Z"
   },
   {
    "duration": 53,
    "start_time": "2022-07-07T08:43:28.728Z"
   },
   {
    "duration": 19,
    "start_time": "2022-07-07T08:43:28.783Z"
   },
   {
    "duration": 3,
    "start_time": "2022-07-07T08:43:28.804Z"
   },
   {
    "duration": 19,
    "start_time": "2022-07-07T08:43:28.808Z"
   },
   {
    "duration": 4,
    "start_time": "2022-07-07T08:43:28.829Z"
   },
   {
    "duration": 21,
    "start_time": "2022-07-07T08:43:28.835Z"
   },
   {
    "duration": 21,
    "start_time": "2022-07-07T08:43:28.857Z"
   },
   {
    "duration": 18,
    "start_time": "2022-07-07T08:43:28.879Z"
   },
   {
    "duration": 14,
    "start_time": "2022-07-07T08:43:28.899Z"
   },
   {
    "duration": 18,
    "start_time": "2022-07-07T08:43:28.915Z"
   },
   {
    "duration": 389,
    "start_time": "2022-07-07T08:43:28.935Z"
   },
   {
    "duration": 4,
    "start_time": "2022-07-07T08:43:29.326Z"
   },
   {
    "duration": 7,
    "start_time": "2022-07-07T08:43:29.332Z"
   },
   {
    "duration": 29,
    "start_time": "2022-07-07T08:43:29.340Z"
   },
   {
    "duration": 9,
    "start_time": "2022-07-07T08:43:29.370Z"
   },
   {
    "duration": 9,
    "start_time": "2022-07-07T08:43:29.380Z"
   },
   {
    "duration": 17,
    "start_time": "2022-07-07T08:43:29.390Z"
   },
   {
    "duration": 4,
    "start_time": "2022-07-07T08:43:29.409Z"
   },
   {
    "duration": 20,
    "start_time": "2022-07-07T08:43:29.414Z"
   },
   {
    "duration": 40,
    "start_time": "2022-07-07T08:43:29.435Z"
   },
   {
    "duration": 9,
    "start_time": "2022-07-07T08:43:29.478Z"
   },
   {
    "duration": 12,
    "start_time": "2022-07-07T08:43:29.489Z"
   },
   {
    "duration": 5,
    "start_time": "2022-07-07T08:43:29.503Z"
   },
   {
    "duration": 229,
    "start_time": "2022-07-07T08:43:29.509Z"
   },
   {
    "duration": 12,
    "start_time": "2022-07-07T08:43:29.739Z"
   },
   {
    "duration": 27,
    "start_time": "2022-07-07T08:43:29.752Z"
   },
   {
    "duration": 6,
    "start_time": "2022-07-07T08:43:29.782Z"
   },
   {
    "duration": 9,
    "start_time": "2022-07-07T08:43:29.789Z"
   },
   {
    "duration": 902,
    "start_time": "2022-07-07T08:43:29.799Z"
   },
   {
    "duration": 7,
    "start_time": "2022-07-07T08:43:30.703Z"
   },
   {
    "duration": 663,
    "start_time": "2022-07-07T08:43:30.712Z"
   },
   {
    "duration": 374,
    "start_time": "2022-07-07T08:43:31.377Z"
   },
   {
    "duration": 283,
    "start_time": "2022-07-07T08:43:31.753Z"
   },
   {
    "duration": 6,
    "start_time": "2022-07-07T08:43:32.037Z"
   },
   {
    "duration": 25,
    "start_time": "2022-07-07T08:43:32.044Z"
   },
   {
    "duration": 408,
    "start_time": "2022-07-07T08:43:32.071Z"
   },
   {
    "duration": 659,
    "start_time": "2022-07-07T08:43:32.480Z"
   },
   {
    "duration": 207,
    "start_time": "2022-07-07T08:43:33.141Z"
   },
   {
    "duration": 304,
    "start_time": "2022-07-07T08:43:33.350Z"
   },
   {
    "duration": 306,
    "start_time": "2022-07-07T08:43:33.656Z"
   },
   {
    "duration": 14,
    "start_time": "2022-07-07T08:43:33.964Z"
   },
   {
    "duration": 100,
    "start_time": "2022-07-07T08:43:33.980Z"
   },
   {
    "duration": 476,
    "start_time": "2022-07-07T08:43:34.082Z"
   },
   {
    "duration": 0,
    "start_time": "2022-07-07T08:43:34.566Z"
   },
   {
    "duration": 0,
    "start_time": "2022-07-07T08:43:34.569Z"
   },
   {
    "duration": 0,
    "start_time": "2022-07-07T08:43:34.572Z"
   },
   {
    "duration": 0,
    "start_time": "2022-07-07T08:43:34.574Z"
   },
   {
    "duration": 1152,
    "start_time": "2022-07-07T08:44:22.439Z"
   },
   {
    "duration": 42,
    "start_time": "2022-07-07T08:44:23.594Z"
   },
   {
    "duration": 18,
    "start_time": "2022-07-07T08:44:23.638Z"
   },
   {
    "duration": 5,
    "start_time": "2022-07-07T08:44:23.661Z"
   },
   {
    "duration": 27,
    "start_time": "2022-07-07T08:44:23.668Z"
   },
   {
    "duration": 4,
    "start_time": "2022-07-07T08:44:23.696Z"
   },
   {
    "duration": 17,
    "start_time": "2022-07-07T08:44:23.701Z"
   },
   {
    "duration": 9,
    "start_time": "2022-07-07T08:44:23.720Z"
   },
   {
    "duration": 45,
    "start_time": "2022-07-07T08:44:23.731Z"
   },
   {
    "duration": 17,
    "start_time": "2022-07-07T08:44:23.779Z"
   },
   {
    "duration": 19,
    "start_time": "2022-07-07T08:44:23.798Z"
   },
   {
    "duration": 367,
    "start_time": "2022-07-07T08:44:23.819Z"
   },
   {
    "duration": 4,
    "start_time": "2022-07-07T08:44:24.188Z"
   },
   {
    "duration": 9,
    "start_time": "2022-07-07T08:44:24.194Z"
   },
   {
    "duration": 9,
    "start_time": "2022-07-07T08:44:24.204Z"
   },
   {
    "duration": 5,
    "start_time": "2022-07-07T08:44:24.215Z"
   },
   {
    "duration": 8,
    "start_time": "2022-07-07T08:44:24.221Z"
   },
   {
    "duration": 48,
    "start_time": "2022-07-07T08:44:24.230Z"
   },
   {
    "duration": 7,
    "start_time": "2022-07-07T08:44:24.280Z"
   },
   {
    "duration": 29,
    "start_time": "2022-07-07T08:44:24.289Z"
   },
   {
    "duration": 13,
    "start_time": "2022-07-07T08:44:24.320Z"
   },
   {
    "duration": 28,
    "start_time": "2022-07-07T08:44:24.335Z"
   },
   {
    "duration": 20,
    "start_time": "2022-07-07T08:44:24.367Z"
   },
   {
    "duration": 6,
    "start_time": "2022-07-07T08:44:24.388Z"
   },
   {
    "duration": 213,
    "start_time": "2022-07-07T08:44:24.395Z"
   },
   {
    "duration": 13,
    "start_time": "2022-07-07T08:44:24.609Z"
   },
   {
    "duration": 17,
    "start_time": "2022-07-07T08:44:24.623Z"
   },
   {
    "duration": 17,
    "start_time": "2022-07-07T08:44:24.660Z"
   },
   {
    "duration": 19,
    "start_time": "2022-07-07T08:44:24.679Z"
   },
   {
    "duration": 879,
    "start_time": "2022-07-07T08:44:24.700Z"
   },
   {
    "duration": 7,
    "start_time": "2022-07-07T08:44:25.581Z"
   },
   {
    "duration": 594,
    "start_time": "2022-07-07T08:44:25.590Z"
   },
   {
    "duration": 450,
    "start_time": "2022-07-07T08:44:26.186Z"
   },
   {
    "duration": 312,
    "start_time": "2022-07-07T08:44:26.638Z"
   },
   {
    "duration": 14,
    "start_time": "2022-07-07T08:44:26.960Z"
   },
   {
    "duration": 21,
    "start_time": "2022-07-07T08:44:26.977Z"
   },
   {
    "duration": 383,
    "start_time": "2022-07-07T08:44:27.000Z"
   },
   {
    "duration": 704,
    "start_time": "2022-07-07T08:44:27.385Z"
   },
   {
    "duration": 212,
    "start_time": "2022-07-07T08:44:28.090Z"
   },
   {
    "duration": 307,
    "start_time": "2022-07-07T08:44:28.304Z"
   },
   {
    "duration": 312,
    "start_time": "2022-07-07T08:44:28.613Z"
   },
   {
    "duration": 6,
    "start_time": "2022-07-07T08:44:28.927Z"
   },
   {
    "duration": 15,
    "start_time": "2022-07-07T08:44:28.935Z"
   },
   {
    "duration": 19,
    "start_time": "2022-07-07T08:44:28.952Z"
   },
   {
    "duration": 551,
    "start_time": "2022-07-07T08:44:28.977Z"
   },
   {
    "duration": 542,
    "start_time": "2022-07-07T08:44:29.530Z"
   },
   {
    "duration": 22,
    "start_time": "2022-07-07T08:44:30.075Z"
   },
   {
    "duration": 8,
    "start_time": "2022-07-07T08:44:30.098Z"
   },
   {
    "duration": 12,
    "start_time": "2022-07-07T08:44:30.108Z"
   },
   {
    "duration": 1144,
    "start_time": "2022-07-07T08:48:07.349Z"
   },
   {
    "duration": 43,
    "start_time": "2022-07-07T08:48:08.497Z"
   },
   {
    "duration": 20,
    "start_time": "2022-07-07T08:48:08.542Z"
   },
   {
    "duration": 4,
    "start_time": "2022-07-07T08:48:08.563Z"
   },
   {
    "duration": 17,
    "start_time": "2022-07-07T08:48:08.568Z"
   },
   {
    "duration": 4,
    "start_time": "2022-07-07T08:48:08.586Z"
   },
   {
    "duration": 19,
    "start_time": "2022-07-07T08:48:08.592Z"
   },
   {
    "duration": 9,
    "start_time": "2022-07-07T08:48:08.613Z"
   },
   {
    "duration": 51,
    "start_time": "2022-07-07T08:48:08.625Z"
   },
   {
    "duration": 26,
    "start_time": "2022-07-07T08:48:08.678Z"
   },
   {
    "duration": 20,
    "start_time": "2022-07-07T08:48:08.706Z"
   },
   {
    "duration": 387,
    "start_time": "2022-07-07T08:48:08.728Z"
   },
   {
    "duration": 5,
    "start_time": "2022-07-07T08:48:09.117Z"
   },
   {
    "duration": 10,
    "start_time": "2022-07-07T08:48:09.123Z"
   },
   {
    "duration": 9,
    "start_time": "2022-07-07T08:48:09.135Z"
   },
   {
    "duration": 19,
    "start_time": "2022-07-07T08:48:09.146Z"
   },
   {
    "duration": 8,
    "start_time": "2022-07-07T08:48:09.166Z"
   },
   {
    "duration": 19,
    "start_time": "2022-07-07T08:48:09.176Z"
   },
   {
    "duration": 5,
    "start_time": "2022-07-07T08:48:09.196Z"
   },
   {
    "duration": 19,
    "start_time": "2022-07-07T08:48:09.202Z"
   },
   {
    "duration": 43,
    "start_time": "2022-07-07T08:48:09.222Z"
   },
   {
    "duration": 6,
    "start_time": "2022-07-07T08:48:09.267Z"
   },
   {
    "duration": 11,
    "start_time": "2022-07-07T08:48:09.275Z"
   },
   {
    "duration": 7,
    "start_time": "2022-07-07T08:48:09.288Z"
   },
   {
    "duration": 238,
    "start_time": "2022-07-07T08:48:09.296Z"
   },
   {
    "duration": 11,
    "start_time": "2022-07-07T08:48:09.536Z"
   },
   {
    "duration": 17,
    "start_time": "2022-07-07T08:48:09.563Z"
   },
   {
    "duration": 6,
    "start_time": "2022-07-07T08:48:09.581Z"
   },
   {
    "duration": 29,
    "start_time": "2022-07-07T08:48:09.588Z"
   },
   {
    "duration": 878,
    "start_time": "2022-07-07T08:48:09.619Z"
   },
   {
    "duration": 7,
    "start_time": "2022-07-07T08:48:10.499Z"
   },
   {
    "duration": 672,
    "start_time": "2022-07-07T08:48:10.507Z"
   },
   {
    "duration": 368,
    "start_time": "2022-07-07T08:48:11.181Z"
   },
   {
    "duration": 283,
    "start_time": "2022-07-07T08:48:11.551Z"
   },
   {
    "duration": 6,
    "start_time": "2022-07-07T08:48:11.836Z"
   },
   {
    "duration": 34,
    "start_time": "2022-07-07T08:48:11.844Z"
   },
   {
    "duration": 380,
    "start_time": "2022-07-07T08:48:11.880Z"
   },
   {
    "duration": 690,
    "start_time": "2022-07-07T08:48:12.263Z"
   },
   {
    "duration": 211,
    "start_time": "2022-07-07T08:48:12.955Z"
   },
   {
    "duration": 314,
    "start_time": "2022-07-07T08:48:13.168Z"
   },
   {
    "duration": 298,
    "start_time": "2022-07-07T08:48:13.483Z"
   },
   {
    "duration": 6,
    "start_time": "2022-07-07T08:48:13.783Z"
   },
   {
    "duration": 26,
    "start_time": "2022-07-07T08:48:13.790Z"
   },
   {
    "duration": 22,
    "start_time": "2022-07-07T08:48:13.818Z"
   },
   {
    "duration": 579,
    "start_time": "2022-07-07T08:48:13.842Z"
   },
   {
    "duration": 562,
    "start_time": "2022-07-07T08:48:14.422Z"
   },
   {
    "duration": 23,
    "start_time": "2022-07-07T08:48:14.986Z"
   },
   {
    "duration": 11,
    "start_time": "2022-07-07T08:48:15.011Z"
   },
   {
    "duration": 21,
    "start_time": "2022-07-07T08:48:15.024Z"
   },
   {
    "duration": 1120,
    "start_time": "2022-07-07T08:49:55.065Z"
   },
   {
    "duration": 51,
    "start_time": "2022-07-07T08:49:56.187Z"
   },
   {
    "duration": 26,
    "start_time": "2022-07-07T08:49:56.240Z"
   },
   {
    "duration": 10,
    "start_time": "2022-07-07T08:49:56.268Z"
   },
   {
    "duration": 19,
    "start_time": "2022-07-07T08:49:56.280Z"
   },
   {
    "duration": 6,
    "start_time": "2022-07-07T08:49:56.302Z"
   },
   {
    "duration": 34,
    "start_time": "2022-07-07T08:49:56.310Z"
   },
   {
    "duration": 19,
    "start_time": "2022-07-07T08:49:56.346Z"
   },
   {
    "duration": 22,
    "start_time": "2022-07-07T08:49:56.367Z"
   },
   {
    "duration": 17,
    "start_time": "2022-07-07T08:49:56.393Z"
   },
   {
    "duration": 35,
    "start_time": "2022-07-07T08:49:56.411Z"
   },
   {
    "duration": 382,
    "start_time": "2022-07-07T08:49:56.448Z"
   },
   {
    "duration": 4,
    "start_time": "2022-07-07T08:49:56.832Z"
   },
   {
    "duration": 12,
    "start_time": "2022-07-07T08:49:56.838Z"
   },
   {
    "duration": 14,
    "start_time": "2022-07-07T08:49:56.852Z"
   },
   {
    "duration": 5,
    "start_time": "2022-07-07T08:49:56.868Z"
   },
   {
    "duration": 10,
    "start_time": "2022-07-07T08:49:56.875Z"
   },
   {
    "duration": 18,
    "start_time": "2022-07-07T08:49:56.886Z"
   },
   {
    "duration": 4,
    "start_time": "2022-07-07T08:49:56.906Z"
   },
   {
    "duration": 21,
    "start_time": "2022-07-07T08:49:56.912Z"
   },
   {
    "duration": 31,
    "start_time": "2022-07-07T08:49:56.934Z"
   },
   {
    "duration": 9,
    "start_time": "2022-07-07T08:49:56.967Z"
   },
   {
    "duration": 18,
    "start_time": "2022-07-07T08:49:56.977Z"
   },
   {
    "duration": 4,
    "start_time": "2022-07-07T08:49:56.997Z"
   },
   {
    "duration": 224,
    "start_time": "2022-07-07T08:49:57.002Z"
   },
   {
    "duration": 13,
    "start_time": "2022-07-07T08:49:57.228Z"
   },
   {
    "duration": 30,
    "start_time": "2022-07-07T08:49:57.242Z"
   },
   {
    "duration": 4,
    "start_time": "2022-07-07T08:49:57.275Z"
   },
   {
    "duration": 11,
    "start_time": "2022-07-07T08:49:57.280Z"
   },
   {
    "duration": 854,
    "start_time": "2022-07-07T08:49:57.293Z"
   },
   {
    "duration": 12,
    "start_time": "2022-07-07T08:49:58.148Z"
   },
   {
    "duration": 624,
    "start_time": "2022-07-07T08:49:58.162Z"
   },
   {
    "duration": 357,
    "start_time": "2022-07-07T08:49:58.787Z"
   },
   {
    "duration": 272,
    "start_time": "2022-07-07T08:49:59.146Z"
   },
   {
    "duration": 6,
    "start_time": "2022-07-07T08:49:59.420Z"
   },
   {
    "duration": 16,
    "start_time": "2022-07-07T08:49:59.427Z"
   },
   {
    "duration": 353,
    "start_time": "2022-07-07T08:49:59.445Z"
   },
   {
    "duration": 683,
    "start_time": "2022-07-07T08:49:59.800Z"
   },
   {
    "duration": 225,
    "start_time": "2022-07-07T08:50:00.484Z"
   },
   {
    "duration": 302,
    "start_time": "2022-07-07T08:50:00.711Z"
   },
   {
    "duration": 296,
    "start_time": "2022-07-07T08:50:01.015Z"
   },
   {
    "duration": 6,
    "start_time": "2022-07-07T08:50:01.313Z"
   },
   {
    "duration": 20,
    "start_time": "2022-07-07T08:50:01.321Z"
   },
   {
    "duration": 43,
    "start_time": "2022-07-07T08:50:01.344Z"
   },
   {
    "duration": 602,
    "start_time": "2022-07-07T08:50:01.389Z"
   },
   {
    "duration": 515,
    "start_time": "2022-07-07T08:50:01.993Z"
   },
   {
    "duration": 21,
    "start_time": "2022-07-07T08:50:02.509Z"
   },
   {
    "duration": 33,
    "start_time": "2022-07-07T08:50:02.532Z"
   },
   {
    "duration": 70,
    "start_time": "2022-07-07T08:50:02.567Z"
   },
   {
    "duration": 47,
    "start_time": "2022-07-08T00:15:11.042Z"
   },
   {
    "duration": 6,
    "start_time": "2022-07-08T00:15:11.362Z"
   },
   {
    "duration": 1182,
    "start_time": "2022-07-08T00:15:16.706Z"
   },
   {
    "duration": 53,
    "start_time": "2022-07-08T00:15:17.890Z"
   },
   {
    "duration": 19,
    "start_time": "2022-07-08T00:15:17.944Z"
   },
   {
    "duration": 5,
    "start_time": "2022-07-08T00:15:17.965Z"
   },
   {
    "duration": 17,
    "start_time": "2022-07-08T00:15:17.972Z"
   },
   {
    "duration": 5,
    "start_time": "2022-07-08T00:15:17.991Z"
   },
   {
    "duration": 18,
    "start_time": "2022-07-08T00:15:17.997Z"
   },
   {
    "duration": 11,
    "start_time": "2022-07-08T00:15:18.016Z"
   },
   {
    "duration": 15,
    "start_time": "2022-07-08T00:15:18.029Z"
   },
   {
    "duration": 17,
    "start_time": "2022-07-08T00:15:18.046Z"
   },
   {
    "duration": 48,
    "start_time": "2022-07-08T00:15:18.065Z"
   },
   {
    "duration": 357,
    "start_time": "2022-07-08T00:15:18.115Z"
   },
   {
    "duration": 6,
    "start_time": "2022-07-08T00:15:18.474Z"
   },
   {
    "duration": 19,
    "start_time": "2022-07-08T00:15:18.484Z"
   },
   {
    "duration": 10,
    "start_time": "2022-07-08T00:15:18.505Z"
   },
   {
    "duration": 6,
    "start_time": "2022-07-08T00:15:18.516Z"
   },
   {
    "duration": 8,
    "start_time": "2022-07-08T00:15:18.523Z"
   },
   {
    "duration": 18,
    "start_time": "2022-07-08T00:15:18.532Z"
   },
   {
    "duration": 5,
    "start_time": "2022-07-08T00:15:18.551Z"
   },
   {
    "duration": 49,
    "start_time": "2022-07-08T00:15:18.558Z"
   },
   {
    "duration": 14,
    "start_time": "2022-07-08T00:15:18.608Z"
   },
   {
    "duration": 7,
    "start_time": "2022-07-08T00:15:18.623Z"
   },
   {
    "duration": 13,
    "start_time": "2022-07-08T00:15:18.631Z"
   },
   {
    "duration": 4,
    "start_time": "2022-07-08T00:15:18.646Z"
   },
   {
    "duration": 255,
    "start_time": "2022-07-08T00:15:18.651Z"
   },
   {
    "duration": 12,
    "start_time": "2022-07-08T00:15:18.907Z"
   },
   {
    "duration": 19,
    "start_time": "2022-07-08T00:15:18.920Z"
   },
   {
    "duration": 8,
    "start_time": "2022-07-08T00:15:18.941Z"
   },
   {
    "duration": 12,
    "start_time": "2022-07-08T00:15:18.951Z"
   },
   {
    "duration": 933,
    "start_time": "2022-07-08T00:15:18.965Z"
   },
   {
    "duration": 6,
    "start_time": "2022-07-08T00:15:19.900Z"
   },
   {
    "duration": 605,
    "start_time": "2022-07-08T00:15:19.908Z"
   },
   {
    "duration": 385,
    "start_time": "2022-07-08T00:15:20.515Z"
   },
   {
    "duration": 297,
    "start_time": "2022-07-08T00:15:20.902Z"
   },
   {
    "duration": 5,
    "start_time": "2022-07-08T00:15:21.201Z"
   },
   {
    "duration": 13,
    "start_time": "2022-07-08T00:15:21.208Z"
   },
   {
    "duration": 378,
    "start_time": "2022-07-08T00:15:21.223Z"
   },
   {
    "duration": 725,
    "start_time": "2022-07-08T00:15:21.603Z"
   },
   {
    "duration": 226,
    "start_time": "2022-07-08T00:15:22.330Z"
   },
   {
    "duration": 335,
    "start_time": "2022-07-08T00:15:22.559Z"
   },
   {
    "duration": 316,
    "start_time": "2022-07-08T00:15:22.899Z"
   },
   {
    "duration": 7,
    "start_time": "2022-07-08T00:15:23.217Z"
   },
   {
    "duration": 6,
    "start_time": "2022-07-08T00:15:23.226Z"
   },
   {
    "duration": 11,
    "start_time": "2022-07-08T00:15:23.234Z"
   },
   {
    "duration": 637,
    "start_time": "2022-07-08T00:15:23.247Z"
   },
   {
    "duration": 54,
    "start_time": "2022-07-08T00:15:23.886Z"
   },
   {
    "duration": 3,
    "start_time": "2022-07-08T00:15:23.942Z"
   },
   {
    "duration": 13,
    "start_time": "2022-07-08T00:15:23.946Z"
   },
   {
    "duration": 5,
    "start_time": "2022-07-08T00:15:23.960Z"
   },
   {
    "duration": 7,
    "start_time": "2022-07-08T00:15:23.967Z"
   },
   {
    "duration": 8,
    "start_time": "2022-07-08T00:15:23.976Z"
   },
   {
    "duration": 395,
    "start_time": "2022-07-08T00:15:23.985Z"
   },
   {
    "duration": 543,
    "start_time": "2022-07-08T00:15:24.382Z"
   },
   {
    "duration": 23,
    "start_time": "2022-07-08T00:15:24.927Z"
   },
   {
    "duration": 9,
    "start_time": "2022-07-08T00:15:24.952Z"
   },
   {
    "duration": 18,
    "start_time": "2022-07-08T00:15:24.963Z"
   },
   {
    "duration": 7,
    "start_time": "2022-07-08T00:16:20.275Z"
   },
   {
    "duration": 9,
    "start_time": "2022-07-08T00:17:37.755Z"
   },
   {
    "duration": 4,
    "start_time": "2022-07-08T00:17:38.134Z"
   },
   {
    "duration": 4,
    "start_time": "2022-07-08T00:17:38.448Z"
   },
   {
    "duration": 6,
    "start_time": "2022-07-08T00:17:38.743Z"
   },
   {
    "duration": 359,
    "start_time": "2022-07-08T00:17:39.242Z"
   },
   {
    "duration": 1128,
    "start_time": "2022-07-08T00:22:08.137Z"
   },
   {
    "duration": 56,
    "start_time": "2022-07-08T00:22:09.267Z"
   },
   {
    "duration": 19,
    "start_time": "2022-07-08T00:22:09.324Z"
   },
   {
    "duration": 3,
    "start_time": "2022-07-08T00:22:09.345Z"
   },
   {
    "duration": 27,
    "start_time": "2022-07-08T00:22:09.349Z"
   },
   {
    "duration": 4,
    "start_time": "2022-07-08T00:22:09.378Z"
   },
   {
    "duration": 26,
    "start_time": "2022-07-08T00:22:09.383Z"
   },
   {
    "duration": 9,
    "start_time": "2022-07-08T00:22:09.411Z"
   },
   {
    "duration": 13,
    "start_time": "2022-07-08T00:22:09.421Z"
   },
   {
    "duration": 15,
    "start_time": "2022-07-08T00:22:09.437Z"
   },
   {
    "duration": 19,
    "start_time": "2022-07-08T00:22:09.454Z"
   },
   {
    "duration": 372,
    "start_time": "2022-07-08T00:22:09.499Z"
   },
   {
    "duration": 5,
    "start_time": "2022-07-08T00:22:09.874Z"
   },
   {
    "duration": 18,
    "start_time": "2022-07-08T00:22:09.880Z"
   },
   {
    "duration": 9,
    "start_time": "2022-07-08T00:22:09.900Z"
   },
   {
    "duration": 6,
    "start_time": "2022-07-08T00:22:09.910Z"
   },
   {
    "duration": 10,
    "start_time": "2022-07-08T00:22:09.918Z"
   },
   {
    "duration": 22,
    "start_time": "2022-07-08T00:22:09.929Z"
   },
   {
    "duration": 5,
    "start_time": "2022-07-08T00:22:09.953Z"
   },
   {
    "duration": 47,
    "start_time": "2022-07-08T00:22:09.959Z"
   },
   {
    "duration": 14,
    "start_time": "2022-07-08T00:22:10.007Z"
   },
   {
    "duration": 9,
    "start_time": "2022-07-08T00:22:10.023Z"
   },
   {
    "duration": 12,
    "start_time": "2022-07-08T00:22:10.034Z"
   },
   {
    "duration": 4,
    "start_time": "2022-07-08T00:22:10.048Z"
   },
   {
    "duration": 244,
    "start_time": "2022-07-08T00:22:10.054Z"
   },
   {
    "duration": 12,
    "start_time": "2022-07-08T00:22:10.299Z"
   },
   {
    "duration": 17,
    "start_time": "2022-07-08T00:22:10.313Z"
   },
   {
    "duration": 3,
    "start_time": "2022-07-08T00:22:10.333Z"
   },
   {
    "duration": 9,
    "start_time": "2022-07-08T00:22:10.338Z"
   },
   {
    "duration": 900,
    "start_time": "2022-07-08T00:22:10.349Z"
   },
   {
    "duration": 7,
    "start_time": "2022-07-08T00:22:11.250Z"
   },
   {
    "duration": 624,
    "start_time": "2022-07-08T00:22:11.258Z"
   },
   {
    "duration": 374,
    "start_time": "2022-07-08T00:22:11.884Z"
   },
   {
    "duration": 296,
    "start_time": "2022-07-08T00:22:12.260Z"
   },
   {
    "duration": 6,
    "start_time": "2022-07-08T00:22:12.558Z"
   },
   {
    "duration": 16,
    "start_time": "2022-07-08T00:22:12.566Z"
   },
   {
    "duration": 364,
    "start_time": "2022-07-08T00:22:12.584Z"
   },
   {
    "duration": 721,
    "start_time": "2022-07-08T00:22:12.950Z"
   },
   {
    "duration": 227,
    "start_time": "2022-07-08T00:22:13.673Z"
   },
   {
    "duration": 341,
    "start_time": "2022-07-08T00:22:13.901Z"
   },
   {
    "duration": 309,
    "start_time": "2022-07-08T00:22:14.244Z"
   },
   {
    "duration": 7,
    "start_time": "2022-07-08T00:22:14.555Z"
   },
   {
    "duration": 7,
    "start_time": "2022-07-08T00:22:14.563Z"
   },
   {
    "duration": 26,
    "start_time": "2022-07-08T00:22:14.572Z"
   },
   {
    "duration": 625,
    "start_time": "2022-07-08T00:22:14.600Z"
   },
   {
    "duration": 55,
    "start_time": "2022-07-08T00:22:15.226Z"
   },
   {
    "duration": 3,
    "start_time": "2022-07-08T00:22:15.283Z"
   },
   {
    "duration": 11,
    "start_time": "2022-07-08T00:22:15.288Z"
   },
   {
    "duration": 4,
    "start_time": "2022-07-08T00:22:15.300Z"
   },
   {
    "duration": 6,
    "start_time": "2022-07-08T00:22:15.306Z"
   },
   {
    "duration": 5,
    "start_time": "2022-07-08T00:22:15.314Z"
   },
   {
    "duration": 376,
    "start_time": "2022-07-08T00:22:15.320Z"
   },
   {
    "duration": 547,
    "start_time": "2022-07-08T00:22:15.698Z"
   },
   {
    "duration": 23,
    "start_time": "2022-07-08T00:22:16.246Z"
   },
   {
    "duration": 9,
    "start_time": "2022-07-08T00:22:16.270Z"
   },
   {
    "duration": 24,
    "start_time": "2022-07-08T00:22:16.280Z"
   },
   {
    "duration": 14,
    "start_time": "2022-07-08T00:22:16.306Z"
   }
  ],
  "kernelspec": {
   "display_name": "Python 3 (ipykernel)",
   "language": "python",
   "name": "python3"
  },
  "language_info": {
   "codemirror_mode": {
    "name": "ipython",
    "version": 3
   },
   "file_extension": ".py",
   "mimetype": "text/x-python",
   "name": "python",
   "nbconvert_exporter": "python",
   "pygments_lexer": "ipython3",
   "version": "3.9.5"
  },
  "toc": {
   "base_numbering": 1,
   "nav_menu": {},
   "number_sections": true,
   "sideBar": true,
   "skip_h1_title": true,
   "title_cell": "Table of Contents",
   "title_sidebar": "Contents",
   "toc_cell": false,
   "toc_position": {},
   "toc_section_display": true,
   "toc_window_display": true
  }
 },
 "nbformat": 4,
 "nbformat_minor": 2
}
