{
 "cells": [
  {
   "cell_type": "markdown",
   "id": "d30c747f",
   "metadata": {},
   "source": [
    "<div style=\"border:solid green 3px; padding: 20px\">\n",
    "<b>Егор, спасибо за доработки, проект принят, молодец!</b>\n",
    "    \n",
    "Ты провел очень хорошую работу над ошибками! Задания формулируются не совсем точно и немного расплывчато, чтобы подготовить к общению с реальными заказчиками, которые чаще всего сами не знают чего хотят)) Поэтому по некоторым вопросам возникает неоднозначность в интерпретации. Кстати, с наводящими вопросами в таких ситуациях можешь обращаться к наставнику в slack, он обязательно намекнет в каком направлении нужно двигаться. Уверен, ты обязательно достигнешь своей цели! Успехов в дальнейшем обучении!🙂\n",
    "    "
   ]
  },
  {
   "cell_type": "markdown",
   "metadata": {},
   "source": [
    "Егор, привет! Меня зовут Ефимов Денис и сегодня я буду делать ревью твоего проекта!\\\n",
    "В Практикуме принято общаться на \"ты\", однако если это неудобно - дай знать, и можем перейти на более официальное общение.\n",
    "\n",
    "Ниже ты найдешь мои комментарии - пожалуйста, не перемещай, не изменяй и не удаляй их. Я буду использовать цветовую разметку: \n",
    "\n",
    "<div class=\"alert alert-block alert-success\">\n",
    "<b>✅Комментарий ревьюера:</b> Если все сделано хорошо. </div>\n",
    "\n",
    "<div class=\"alert alert-block alert-warning\">\n",
    "<b>🔁Комментарий ревьюера:</b> Некритичное замечание; если таких замечаний меньше трех — проект может быть принят без их отработки.</div>\n",
    "\n",
    "<div class=\"alert alert-block alert-danger\">\n",
    "<b>❌Комментарий ревьюера:</b> Грубая ошибка, необходимо исправить, иначе проект не будет принят.\n",
    "</div>\n",
    "\n",
    "Давай работать над проектом в диалоге: если ты что-то меняешь в проекте или отвечаешь на мои комменатри — пиши об этом. Мне будет легче отследить изменения, если ты выделишь свои комментарии:\n",
    "Например так:\n",
    "<div class=\"alert alert-block alert-info\">\n",
    "<b>🔄Комментарий студента:</b> \n",
    "Hello World! ✔\n",
    "</div>\n",
    "\n",
    "Или можешь использовать эту галочку ✔ в моих комментариях, если писать особо нечего.\n",
    "\n",
    "<div class=\"alert alert-block alert-warning\">\n",
    "<b>Общее впечатление:</b> \n",
    "    \n",
    "- Ты проделал огромную работу и проект получился впечатляющим:)\n",
    "- У меня есть несколько замечаний, исправив которые ты сделаешь проект еще лучше.\n",
    "- Пробегись по моим комментариям, исправь недочёты и всё будет отлично :)\n",
    "    \n",
    "</div>\n",
    "\n"
   ]
  },
  {
   "cell_type": "markdown",
   "metadata": {},
   "source": [
    "# Определение перспективного тарифа для телеком-компании\n",
    "Вы аналитик компании «Мегалайн» — федерального оператора сотовой связи. Клиентам предлагают два тарифных плана: «Смарт» и «Ультра». Чтобы скорректировать рекламный бюджет, коммерческий департамент хочет понять, какой тариф приносит больше денег.\n",
    "Вам предстоит сделать предварительный анализ тарифов на небольшой выборке клиентов. В вашем распоряжении данные 500 пользователей «Мегалайна»: кто они, откуда, каким тарифом пользуются, сколько звонков и сообщений каждый отправил за 2018 год. Нужно проанализировать поведение клиентов и сделать вывод — какой тариф лучше.\n",
    "\n",
    "<b>Описание тарифов</b> \n",
    "<br>Тариф «Смарт»\n",
    "<br>Ежемесячная плата: 550 рублей\n",
    "<br>Включено 500 минут разговора, 50 сообщений и 15 Гб интернет-трафика\n",
    "<br>Стоимость услуг сверх тарифного пакета:\n",
    "<br>минута разговора: 3 рубля\n",
    "<br>сообщение: 3 рубля\n",
    "<br>1 Гб интернет-трафика: 200 рублей\n",
    "\n",
    "<b>Тариф «Ультра»</b> \n",
    "<br>Ежемесячная плата: 1950 рублей\n",
    "<br>Включено 3000 минут разговора, 1000 сообщений и 30 Гб интернет-трафика\n",
    "<br>Стоимость услуг сверх тарифного пакета:\n",
    "<br>минута разговора: 1 рубль\n",
    "<br>сообщение: 1 рубль\n",
    "<br>1 Гб интернет-трафика: 150 рублей\n",
    "# Описание данных\n",
    "<b>Таблица users (информация о пользователях):в</b>\n",
    "<br>user_id — уникальный идентификатор пользователя\n",
    "<br>first_name — имя пользователя\n",
    "<br>last_name — фамилия пользователя\n",
    "<br>age — возраст пользователя (годы)\n",
    "<br>reg_date — дата подключения тарифа (день, месяц, год)\n",
    "<br>churn_date — дата прекращения пользования тарифом (если значение пропущено, то тариф ещё действовал на момент выгрузки данных)\n",
    "<br>city — город проживания пользователя\n",
    "<br>tariff — название тарифного плана\n",
    "\n",
    "<b>Таблица calls (информация о звонках):</b>\n",
    "<br>id — уникальный номер звонка\n",
    "<br>call_date — дата звонка\n",
    "<br>duration — длительность звонка в минутах\n",
    "<br>user_id — идентификатор пользователя, сделавшего звонок\n",
    "\n",
    "<b>Таблица messages (информация о сообщениях):</b>\n",
    "<br>id — уникальный номер сообщения\n",
    "<br>message_date — дата сообщения\n",
    "<br>user_id — идентификатор пользователя, отправившего сообщение\n",
    "\n",
    "<b>Таблица internet (информация об интернет-сессиях):</b>\n",
    "<br>id — уникальный номер сессии\n",
    "<br>mb_used — объём потраченного за сессию интернет-трафика (в мегабайтах)\n",
    "<br>session_date — дата интернет-сессии\n",
    "<br>user_id — идентификатор пользователя\n",
    "\n",
    "<b>Таблица tariffs (информация о тарифах):</b>\n",
    "<br>tariff_name — название тарифа\n",
    "<br>rub_monthly_fee — ежемесячная абонентская плата в рублях\n",
    "<br>minutes_included — количество минут разговора в месяц, включённых в абонентскую плату\n",
    "<br>messages_included — количество сообщений в месяц, включённых в абонентскую плату\n",
    "<br>mb_per_month_included — объём интернет-трафика, включённого в абонентскую плату (в мегабайтах)\n",
    "<br>rub_per_minute — стоимость минуты разговора сверх тарифного пакета (например, если в тарифе 100 минут разговора в месяц, то со <br>101 минуты будет взиматься плата)\n",
    "<br>rub_per_message — стоимость отправки сообщения сверх тарифного пакета\n",
    "<br>rub_per_gb — стоимость дополнительного гигабайта интернет-трафика сверх тарифного пакета (1 гигабайт = 1024 мегабайта)"
   ]
  },
  {
   "cell_type": "markdown",
   "metadata": {},
   "source": [
    "<div class=\"alert alert-block alert-success\">\n",
    "<b>✅Комментарий ревьюера:</b> Молодец, что написал введение!  </div>"
   ]
  },
  {
   "cell_type": "markdown",
   "metadata": {},
   "source": [
    "Импортируем необходимые библиотеки для дальнейшей работы:"
   ]
  },
  {
   "cell_type": "code",
   "execution_count": 1,
   "metadata": {},
   "outputs": [],
   "source": [
    "import pandas as pd\n",
    "import matplotlib.pyplot as plt\n",
    "import numpy as np\n",
    "import scipy.stats as st\n",
    "import seaborn as sns"
   ]
  },
  {
   "cell_type": "code",
   "execution_count": 2,
   "metadata": {},
   "outputs": [],
   "source": [
    "calls_data = pd.read_csv('/datasets/calls.csv')\n",
    "internet_data = pd.read_csv('/datasets/internet.csv')\n",
    "messages_data = pd.read_csv('/datasets/messages.csv')\n",
    "tariffs_data = pd.read_csv('/datasets/tariffs.csv')\n",
    "users_data = pd.read_csv('/datasets/users.csv')"
   ]
  },
  {
   "cell_type": "markdown",
   "metadata": {},
   "source": [
    "Изучим данные в таблицах:"
   ]
  },
  {
   "cell_type": "code",
   "execution_count": 3,
   "metadata": {},
   "outputs": [
    {
     "name": "stdout",
     "output_type": "stream",
     "text": [
      "<class 'pandas.core.frame.DataFrame'>\n",
      "RangeIndex: 202607 entries, 0 to 202606\n",
      "Data columns (total 4 columns):\n",
      " #   Column     Non-Null Count   Dtype  \n",
      "---  ------     --------------   -----  \n",
      " 0   id         202607 non-null  object \n",
      " 1   call_date  202607 non-null  object \n",
      " 2   duration   202607 non-null  float64\n",
      " 3   user_id    202607 non-null  int64  \n",
      "dtypes: float64(1), int64(1), object(2)\n",
      "memory usage: 6.2+ MB\n",
      "None\n",
      "       id   call_date  duration  user_id\n",
      "0  1000_0  2018-07-25      0.00     1000\n",
      "1  1000_1  2018-08-17      0.00     1000\n",
      "2  1000_2  2018-06-11      2.85     1000\n",
      "3  1000_3  2018-09-21     13.80     1000\n",
      "4  1000_4  2018-12-15      5.18     1000\n"
     ]
    }
   ],
   "source": [
    "print(calls_data.info())\n",
    "print(calls_data.head())"
   ]
  },
  {
   "cell_type": "code",
   "execution_count": 4,
   "metadata": {},
   "outputs": [
    {
     "name": "stdout",
     "output_type": "stream",
     "text": [
      "<class 'pandas.core.frame.DataFrame'>\n",
      "RangeIndex: 149396 entries, 0 to 149395\n",
      "Data columns (total 5 columns):\n",
      " #   Column        Non-Null Count   Dtype  \n",
      "---  ------        --------------   -----  \n",
      " 0   Unnamed: 0    149396 non-null  int64  \n",
      " 1   id            149396 non-null  object \n",
      " 2   mb_used       149396 non-null  float64\n",
      " 3   session_date  149396 non-null  object \n",
      " 4   user_id       149396 non-null  int64  \n",
      "dtypes: float64(1), int64(2), object(2)\n",
      "memory usage: 5.7+ MB\n",
      "None\n",
      "   Unnamed: 0      id  mb_used session_date  user_id\n",
      "0           0  1000_0   112.95   2018-11-25     1000\n",
      "1           1  1000_1  1052.81   2018-09-07     1000\n",
      "2           2  1000_2  1197.26   2018-06-25     1000\n",
      "3           3  1000_3   550.27   2018-08-22     1000\n",
      "4           4  1000_4   302.56   2018-09-24     1000\n"
     ]
    }
   ],
   "source": [
    "print(internet_data.info())\n",
    "print(internet_data.head())"
   ]
  },
  {
   "cell_type": "code",
   "execution_count": 5,
   "metadata": {},
   "outputs": [
    {
     "name": "stdout",
     "output_type": "stream",
     "text": [
      "<class 'pandas.core.frame.DataFrame'>\n",
      "RangeIndex: 123036 entries, 0 to 123035\n",
      "Data columns (total 3 columns):\n",
      " #   Column        Non-Null Count   Dtype \n",
      "---  ------        --------------   ----- \n",
      " 0   id            123036 non-null  object\n",
      " 1   message_date  123036 non-null  object\n",
      " 2   user_id       123036 non-null  int64 \n",
      "dtypes: int64(1), object(2)\n",
      "memory usage: 2.8+ MB\n",
      "None\n",
      "       id message_date  user_id\n",
      "0  1000_0   2018-06-27     1000\n",
      "1  1000_1   2018-10-08     1000\n",
      "2  1000_2   2018-08-04     1000\n",
      "3  1000_3   2018-06-16     1000\n",
      "4  1000_4   2018-12-05     1000\n"
     ]
    }
   ],
   "source": [
    "print(messages_data.info())\n",
    "print(messages_data.head())"
   ]
  },
  {
   "cell_type": "code",
   "execution_count": 6,
   "metadata": {},
   "outputs": [
    {
     "name": "stdout",
     "output_type": "stream",
     "text": [
      "<class 'pandas.core.frame.DataFrame'>\n",
      "RangeIndex: 2 entries, 0 to 1\n",
      "Data columns (total 8 columns):\n",
      " #   Column                 Non-Null Count  Dtype \n",
      "---  ------                 --------------  ----- \n",
      " 0   messages_included      2 non-null      int64 \n",
      " 1   mb_per_month_included  2 non-null      int64 \n",
      " 2   minutes_included       2 non-null      int64 \n",
      " 3   rub_monthly_fee        2 non-null      int64 \n",
      " 4   rub_per_gb             2 non-null      int64 \n",
      " 5   rub_per_message        2 non-null      int64 \n",
      " 6   rub_per_minute         2 non-null      int64 \n",
      " 7   tariff_name            2 non-null      object\n",
      "dtypes: int64(7), object(1)\n",
      "memory usage: 256.0+ bytes\n",
      "None\n",
      "   messages_included  mb_per_month_included  minutes_included  \\\n",
      "0                 50                  15360               500   \n",
      "1               1000                  30720              3000   \n",
      "\n",
      "   rub_monthly_fee  rub_per_gb  rub_per_message  rub_per_minute tariff_name  \n",
      "0              550         200                3               3       smart  \n",
      "1             1950         150                1               1       ultra  \n"
     ]
    }
   ],
   "source": [
    "print(tariffs_data.info())\n",
    "print(tariffs_data.head())"
   ]
  },
  {
   "cell_type": "code",
   "execution_count": 7,
   "metadata": {},
   "outputs": [
    {
     "name": "stdout",
     "output_type": "stream",
     "text": [
      "<class 'pandas.core.frame.DataFrame'>\n",
      "RangeIndex: 500 entries, 0 to 499\n",
      "Data columns (total 8 columns):\n",
      " #   Column      Non-Null Count  Dtype \n",
      "---  ------      --------------  ----- \n",
      " 0   user_id     500 non-null    int64 \n",
      " 1   age         500 non-null    int64 \n",
      " 2   churn_date  38 non-null     object\n",
      " 3   city        500 non-null    object\n",
      " 4   first_name  500 non-null    object\n",
      " 5   last_name   500 non-null    object\n",
      " 6   reg_date    500 non-null    object\n",
      " 7   tariff      500 non-null    object\n",
      "dtypes: int64(2), object(6)\n",
      "memory usage: 31.4+ KB\n",
      "None\n",
      "   user_id  age churn_date         city first_name  last_name    reg_date  \\\n",
      "0     1000   52        NaN    Краснодар     Рафаил  Верещагин  2018-05-25   \n",
      "1     1001   41        NaN       Москва       Иван       Ежов  2018-11-01   \n",
      "2     1002   59        NaN  Стерлитамак    Евгений  Абрамович  2018-06-17   \n",
      "3     1003   23        NaN       Москва      Белла   Белякова  2018-08-17   \n",
      "4     1004   68        NaN  Новокузнецк    Татьяна   Авдеенко  2018-05-14   \n",
      "\n",
      "  tariff  \n",
      "0  ultra  \n",
      "1  smart  \n",
      "2  smart  \n",
      "3  ultra  \n",
      "4  ultra  \n"
     ]
    }
   ],
   "source": [
    "print(users_data.info())\n",
    "print(users_data.head())"
   ]
  },
  {
   "cell_type": "markdown",
   "metadata": {},
   "source": [
    "Вывод: \n",
    "- Необходимо привезти данные в столбцах, обозначающих время, к datetime;\n",
    "- В таблице internet_data столбец \"Unnamed: 0\" дублирует индексы строк, можно удалить;\n",
    "- Имеются данные о длительности звонков в 0 секунд, требуется дополнительная проработка;\n",
    "- Тарифы считаются по минутам и мегабайтам, поэтому требуется округлить минуты разговора и мегабайты трафика в большую сторону (согласно приложенной к заданию информации).\n",
    "- В таблице с пользователями видим 38 пользователей, прекративших пользоваться тарифом, влияние на анализ пока не ясно, оставим;\n",
    "- Столбец id предлагаю привести к типу int;\n",
    "- Столбец в tariffs_data предлагаю переименовать в tariffs по аналогии с users_data для возможного последующего объединения таблиц."
   ]
  },
  {
   "cell_type": "markdown",
   "metadata": {},
   "source": [
    "<div class=\"alert alert-block alert-success\">\n",
    "<b>✅Комментарий ревьюера:</b> Отлично, с данными познакомились!  </div>"
   ]
  },
  {
   "cell_type": "markdown",
   "metadata": {},
   "source": [
    "Приводим данные о времени к datetime:"
   ]
  },
  {
   "cell_type": "code",
   "execution_count": 8,
   "metadata": {},
   "outputs": [],
   "source": [
    "calls_data['call_date'] = pd.to_datetime(calls_data['call_date'], format='%Y-%m-%d')\n",
    "internet_data['session_date'] = pd.to_datetime(internet_data['session_date'], format='%Y-%m-%d')\n",
    "messages_data['message_date'] = pd.to_datetime(messages_data['message_date'], format='%Y-%m-%d')\n",
    "users_data['churn_date'] = pd.to_datetime(users_data['churn_date'], format='%Y-%m-%d')\n",
    "users_data['reg_date'] = pd.to_datetime(users_data['reg_date'], format='%Y-%m-%d')"
   ]
  },
  {
   "cell_type": "markdown",
   "metadata": {},
   "source": [
    "Удаляем лишний столбец:"
   ]
  },
  {
   "cell_type": "code",
   "execution_count": 9,
   "metadata": {},
   "outputs": [],
   "source": [
    "del internet_data['Unnamed: 0']"
   ]
  },
  {
   "cell_type": "markdown",
   "metadata": {},
   "source": [
    "Нулевая длительность звонков:"
   ]
  },
  {
   "cell_type": "code",
   "execution_count": 10,
   "metadata": {
    "scrolled": true
   },
   "outputs": [
    {
     "name": "stdout",
     "output_type": "stream",
     "text": [
      "Количество звонков с длительностью, равной нулю: 39613\n"
     ]
    }
   ],
   "source": [
    "print('Количество звонков с длительностью, равной нулю:', calls_data.loc[calls_data['duration'] == 0, 'duration'].value_counts()[0])"
   ]
  },
  {
   "cell_type": "markdown",
   "metadata": {},
   "source": [
    "39613 это почти 20% от всех данных таблицы. Согласно указанной в проекте информации, нулями обозначены пропущенные звонки, поэтому их не нужно удалять."
   ]
  },
  {
   "cell_type": "markdown",
   "metadata": {},
   "source": [
    "Изменяем данные до требуемых значений:"
   ]
  },
  {
   "cell_type": "code",
   "execution_count": 11,
   "metadata": {},
   "outputs": [],
   "source": [
    "calls_data['duration'] = np.ceil(calls_data['duration'])\n"
   ]
  },
  {
   "cell_type": "markdown",
   "metadata": {},
   "source": [
    "<div class=\"alert alert-block alert-danger\">\n",
    "<b>❌Комментарий ревьюера:</b> \n",
    "    \n",
    "Продолжительность звонков ты округлил верно, но замену 0 на 1 нужно убрать. Разве правильно к пропущенным звонкам добавлять по минуте, ведь разговор не состоялся?\n",
    "\n",
    "Использованный интернет-трафик сначала переводится в гигабайты, а потом округляется, и делается это после суммирования по месяцам.</div>"
   ]
  },
  {
   "cell_type": "markdown",
   "metadata": {},
   "source": [
    "<div class=\"alert alert-block alert-info\">\n",
    "<b>🔄Комментарий студента:</b> \n",
    "Не понимаю, почему нельзя сразу округлить гигабайты, если это в тексте задания прослеживается? При этом звонки же мы округляем.\n",
    "</div>"
   ]
  },
  {
   "cell_type": "markdown",
   "id": "c3c24969",
   "metadata": {},
   "source": [
    "<div class=\"alert alert-block alert-success\">\n",
    "<b>✅Комментарий ревьюера 2:</b> Отлично, исправлено!👍 \n",
    "\n",
    "В тексте задания написано так:\n",
    "\n",
    "        Для веб-трафика отдельные сессии не считаются. Вместо этого общая сумма за месяц округляется в бо́льшую сторону. Если абонент использует 1025 мегабайт в этом месяце, с него возьмут плату за 2 гигабайта.\n",
    "\n",
    "То есть мы не округляем отдельные сессии. Такие правила у Мегалайна)</div>"
   ]
  },
  {
   "cell_type": "markdown",
   "metadata": {},
   "source": [
    "<div class=\"alert alert-block alert-success\">\n",
    "<b>✅Комментарий ревьюера:</b>\n",
    "    \n",
    "Кстати, `np.ceil()` работает и без `apply`, его можно применять сразу к целому столбцу. </div>"
   ]
  },
  {
   "cell_type": "markdown",
   "metadata": {},
   "source": [
    "Меняем тип данных:"
   ]
  },
  {
   "cell_type": "code",
   "execution_count": 12,
   "metadata": {},
   "outputs": [],
   "source": [
    "calls_data['id'] = calls_data['id'].astype('int')\n",
    "messages_data['id'] = messages_data['id'].astype('int')\n",
    "internet_data['id'] = internet_data['id'].astype('int')"
   ]
  },
  {
   "cell_type": "markdown",
   "metadata": {},
   "source": [
    "Название столбца было измененно в связи с тем что имя такого столбца есть в users_df:"
   ]
  },
  {
   "cell_type": "code",
   "execution_count": 13,
   "metadata": {},
   "outputs": [],
   "source": [
    "tariffs_data = tariffs_data.rename(columns={'tariff_name': 'tariff'})"
   ]
  },
  {
   "cell_type": "markdown",
   "metadata": {},
   "source": [
    "Проверка дубликатов:"
   ]
  },
  {
   "cell_type": "code",
   "execution_count": 14,
   "metadata": {},
   "outputs": [
    {
     "name": "stdout",
     "output_type": "stream",
     "text": [
      "calls_data - дубликатов нет\n",
      "internet_data - дубликатов нет\n",
      "messages_data - дубликатов нет\n",
      "tariffs_data - дубликатов нет\n",
      "users_data - дубликатов нет\n"
     ]
    }
   ],
   "source": [
    "tables_with_datas = [calls_data, internet_data, messages_data, tariffs_data, users_data]\n",
    "list_nametables = ['calls_data', 'internet_data', 'messages_data', 'tariffs_data', 'users_data']\n",
    "for i in range(0, len(tables_with_datas)):\n",
    "    if tables_with_datas[i].duplicated().sum() == 0:\n",
    "        print(list_nametables[i], '- дубликатов нет')\n",
    "    elif tables_with_datas[i].duplicated().sum() != 0:\n",
    "        print(list_nametables[i], '- есть дубликаты')"
   ]
  },
  {
   "cell_type": "markdown",
   "metadata": {},
   "source": [
    "Дубликатов нет. Переходим к выполнению заданий. Для каждого пользователя следует посчитать следующие данные:"
   ]
  },
  {
   "cell_type": "markdown",
   "metadata": {},
   "source": [
    "<b>Количество сделанных звонков и израсходованных минут разговора по месяцам</b>"
   ]
  },
  {
   "cell_type": "code",
   "execution_count": 15,
   "metadata": {},
   "outputs": [
    {
     "data": {
      "text/html": [
       "<div>\n",
       "<style scoped>\n",
       "    .dataframe tbody tr th:only-of-type {\n",
       "        vertical-align: middle;\n",
       "    }\n",
       "\n",
       "    .dataframe tbody tr th {\n",
       "        vertical-align: top;\n",
       "    }\n",
       "\n",
       "    .dataframe thead th {\n",
       "        text-align: right;\n",
       "    }\n",
       "</style>\n",
       "<table border=\"1\" class=\"dataframe\">\n",
       "  <thead>\n",
       "    <tr style=\"text-align: right;\">\n",
       "      <th></th>\n",
       "      <th>user_id</th>\n",
       "      <th>month</th>\n",
       "      <th>duration_total_month</th>\n",
       "      <th>calls_total_month</th>\n",
       "    </tr>\n",
       "  </thead>\n",
       "  <tbody>\n",
       "    <tr>\n",
       "      <th>0</th>\n",
       "      <td>1000</td>\n",
       "      <td>5</td>\n",
       "      <td>159.0</td>\n",
       "      <td>22</td>\n",
       "    </tr>\n",
       "    <tr>\n",
       "      <th>1</th>\n",
       "      <td>1000</td>\n",
       "      <td>6</td>\n",
       "      <td>172.0</td>\n",
       "      <td>43</td>\n",
       "    </tr>\n",
       "    <tr>\n",
       "      <th>2</th>\n",
       "      <td>1000</td>\n",
       "      <td>7</td>\n",
       "      <td>340.0</td>\n",
       "      <td>47</td>\n",
       "    </tr>\n",
       "    <tr>\n",
       "      <th>3</th>\n",
       "      <td>1000</td>\n",
       "      <td>8</td>\n",
       "      <td>408.0</td>\n",
       "      <td>52</td>\n",
       "    </tr>\n",
       "    <tr>\n",
       "      <th>4</th>\n",
       "      <td>1000</td>\n",
       "      <td>9</td>\n",
       "      <td>466.0</td>\n",
       "      <td>58</td>\n",
       "    </tr>\n",
       "  </tbody>\n",
       "</table>\n",
       "</div>"
      ],
      "text/plain": [
       "   user_id  month  duration_total_month  calls_total_month\n",
       "0     1000      5                 159.0                 22\n",
       "1     1000      6                 172.0                 43\n",
       "2     1000      7                 340.0                 47\n",
       "3     1000      8                 408.0                 52\n",
       "4     1000      9                 466.0                 58"
      ]
     },
     "execution_count": 15,
     "metadata": {},
     "output_type": "execute_result"
    }
   ],
   "source": [
    "calls_data['month'] = calls_data['call_date'].dt.month\n",
    "user_calls_in_month = calls_data.groupby(['user_id', 'month'])\\\n",
    "                  .agg({'duration':'sum', 'id':'count'})\\\n",
    "                  .reset_index()\\\n",
    "                  .rename(columns={'duration':'duration_total_month','id':'calls_total_month'})\n",
    "user_calls_in_month.head()"
   ]
  },
  {
   "cell_type": "markdown",
   "metadata": {},
   "source": [
    "<b>Количество отправленных сообщений по месяцам</b>"
   ]
  },
  {
   "cell_type": "code",
   "execution_count": 16,
   "metadata": {},
   "outputs": [
    {
     "data": {
      "text/html": [
       "<div>\n",
       "<style scoped>\n",
       "    .dataframe tbody tr th:only-of-type {\n",
       "        vertical-align: middle;\n",
       "    }\n",
       "\n",
       "    .dataframe tbody tr th {\n",
       "        vertical-align: top;\n",
       "    }\n",
       "\n",
       "    .dataframe thead th {\n",
       "        text-align: right;\n",
       "    }\n",
       "</style>\n",
       "<table border=\"1\" class=\"dataframe\">\n",
       "  <thead>\n",
       "    <tr style=\"text-align: right;\">\n",
       "      <th></th>\n",
       "      <th>user_id</th>\n",
       "      <th>month</th>\n",
       "      <th>sms_total_month</th>\n",
       "    </tr>\n",
       "  </thead>\n",
       "  <tbody>\n",
       "    <tr>\n",
       "      <th>0</th>\n",
       "      <td>1000</td>\n",
       "      <td>5</td>\n",
       "      <td>22</td>\n",
       "    </tr>\n",
       "    <tr>\n",
       "      <th>1</th>\n",
       "      <td>1000</td>\n",
       "      <td>6</td>\n",
       "      <td>60</td>\n",
       "    </tr>\n",
       "    <tr>\n",
       "      <th>2</th>\n",
       "      <td>1000</td>\n",
       "      <td>7</td>\n",
       "      <td>75</td>\n",
       "    </tr>\n",
       "    <tr>\n",
       "      <th>3</th>\n",
       "      <td>1000</td>\n",
       "      <td>8</td>\n",
       "      <td>81</td>\n",
       "    </tr>\n",
       "    <tr>\n",
       "      <th>4</th>\n",
       "      <td>1000</td>\n",
       "      <td>9</td>\n",
       "      <td>57</td>\n",
       "    </tr>\n",
       "  </tbody>\n",
       "</table>\n",
       "</div>"
      ],
      "text/plain": [
       "   user_id  month  sms_total_month\n",
       "0     1000      5               22\n",
       "1     1000      6               60\n",
       "2     1000      7               75\n",
       "3     1000      8               81\n",
       "4     1000      9               57"
      ]
     },
     "execution_count": 16,
     "metadata": {},
     "output_type": "execute_result"
    }
   ],
   "source": [
    "messages_data ['month'] = messages_data ['message_date'].dt.month\n",
    "user_messages_in_month = messages_data.groupby(['user_id', 'month'])\\\n",
    "                        .agg({'id':'count'})\\\n",
    "                        .reset_index()\\\n",
    "                        .rename(columns={'id':'sms_total_month'})\n",
    "user_messages_in_month.head()"
   ]
  },
  {
   "cell_type": "markdown",
   "metadata": {},
   "source": [
    "<b>Объем израсходованного интернет-трафика по месяцам</b>"
   ]
  },
  {
   "cell_type": "code",
   "execution_count": 17,
   "metadata": {},
   "outputs": [
    {
     "data": {
      "text/html": [
       "<div>\n",
       "<style scoped>\n",
       "    .dataframe tbody tr th:only-of-type {\n",
       "        vertical-align: middle;\n",
       "    }\n",
       "\n",
       "    .dataframe tbody tr th {\n",
       "        vertical-align: top;\n",
       "    }\n",
       "\n",
       "    .dataframe thead th {\n",
       "        text-align: right;\n",
       "    }\n",
       "</style>\n",
       "<table border=\"1\" class=\"dataframe\">\n",
       "  <thead>\n",
       "    <tr style=\"text-align: right;\">\n",
       "      <th></th>\n",
       "      <th>user_id</th>\n",
       "      <th>month</th>\n",
       "      <th>mb_total_month</th>\n",
       "    </tr>\n",
       "  </thead>\n",
       "  <tbody>\n",
       "    <tr>\n",
       "      <th>0</th>\n",
       "      <td>1000</td>\n",
       "      <td>5</td>\n",
       "      <td>2253.49</td>\n",
       "    </tr>\n",
       "    <tr>\n",
       "      <th>1</th>\n",
       "      <td>1000</td>\n",
       "      <td>6</td>\n",
       "      <td>23233.77</td>\n",
       "    </tr>\n",
       "    <tr>\n",
       "      <th>2</th>\n",
       "      <td>1000</td>\n",
       "      <td>7</td>\n",
       "      <td>14003.64</td>\n",
       "    </tr>\n",
       "    <tr>\n",
       "      <th>3</th>\n",
       "      <td>1000</td>\n",
       "      <td>8</td>\n",
       "      <td>14055.93</td>\n",
       "    </tr>\n",
       "    <tr>\n",
       "      <th>4</th>\n",
       "      <td>1000</td>\n",
       "      <td>9</td>\n",
       "      <td>14568.91</td>\n",
       "    </tr>\n",
       "  </tbody>\n",
       "</table>\n",
       "</div>"
      ],
      "text/plain": [
       "   user_id  month  mb_total_month\n",
       "0     1000      5         2253.49\n",
       "1     1000      6        23233.77\n",
       "2     1000      7        14003.64\n",
       "3     1000      8        14055.93\n",
       "4     1000      9        14568.91"
      ]
     },
     "execution_count": 17,
     "metadata": {},
     "output_type": "execute_result"
    }
   ],
   "source": [
    "internet_data ['month'] = internet_data ['session_date'].dt.month\n",
    "user_internet_in_month = internet_data.groupby(['user_id', 'month'])\\\n",
    "                        .agg({'mb_used':'sum'})\\\n",
    "                        .reset_index()\\\n",
    "                        .rename(columns={'mb_used':'mb_total_month'})\n",
    "user_internet_in_month.head()"
   ]
  },
  {
   "cell_type": "markdown",
   "metadata": {},
   "source": [
    "<b>Помесячная выручка с каждого пользователя</b>"
   ]
  },
  {
   "cell_type": "code",
   "execution_count": 18,
   "metadata": {
    "scrolled": true
   },
   "outputs": [
    {
     "data": {
      "text/html": [
       "<div>\n",
       "<style scoped>\n",
       "    .dataframe tbody tr th:only-of-type {\n",
       "        vertical-align: middle;\n",
       "    }\n",
       "\n",
       "    .dataframe tbody tr th {\n",
       "        vertical-align: top;\n",
       "    }\n",
       "\n",
       "    .dataframe thead th {\n",
       "        text-align: right;\n",
       "    }\n",
       "</style>\n",
       "<table border=\"1\" class=\"dataframe\">\n",
       "  <thead>\n",
       "    <tr style=\"text-align: right;\">\n",
       "      <th></th>\n",
       "      <th>user_id</th>\n",
       "      <th>month</th>\n",
       "      <th>duration_total_month</th>\n",
       "      <th>calls_total_month</th>\n",
       "      <th>sms_total_month</th>\n",
       "      <th>mb_total_month</th>\n",
       "    </tr>\n",
       "  </thead>\n",
       "  <tbody>\n",
       "    <tr>\n",
       "      <th>0</th>\n",
       "      <td>1000</td>\n",
       "      <td>5</td>\n",
       "      <td>159.0</td>\n",
       "      <td>22.0</td>\n",
       "      <td>22.0</td>\n",
       "      <td>2253.49</td>\n",
       "    </tr>\n",
       "    <tr>\n",
       "      <th>1</th>\n",
       "      <td>1000</td>\n",
       "      <td>6</td>\n",
       "      <td>172.0</td>\n",
       "      <td>43.0</td>\n",
       "      <td>60.0</td>\n",
       "      <td>23233.77</td>\n",
       "    </tr>\n",
       "    <tr>\n",
       "      <th>2</th>\n",
       "      <td>1000</td>\n",
       "      <td>7</td>\n",
       "      <td>340.0</td>\n",
       "      <td>47.0</td>\n",
       "      <td>75.0</td>\n",
       "      <td>14003.64</td>\n",
       "    </tr>\n",
       "    <tr>\n",
       "      <th>3</th>\n",
       "      <td>1000</td>\n",
       "      <td>8</td>\n",
       "      <td>408.0</td>\n",
       "      <td>52.0</td>\n",
       "      <td>81.0</td>\n",
       "      <td>14055.93</td>\n",
       "    </tr>\n",
       "    <tr>\n",
       "      <th>4</th>\n",
       "      <td>1000</td>\n",
       "      <td>9</td>\n",
       "      <td>466.0</td>\n",
       "      <td>58.0</td>\n",
       "      <td>57.0</td>\n",
       "      <td>14568.91</td>\n",
       "    </tr>\n",
       "    <tr>\n",
       "      <th>5</th>\n",
       "      <td>1000</td>\n",
       "      <td>10</td>\n",
       "      <td>350.0</td>\n",
       "      <td>57.0</td>\n",
       "      <td>73.0</td>\n",
       "      <td>14702.49</td>\n",
       "    </tr>\n",
       "    <tr>\n",
       "      <th>6</th>\n",
       "      <td>1000</td>\n",
       "      <td>11</td>\n",
       "      <td>338.0</td>\n",
       "      <td>43.0</td>\n",
       "      <td>58.0</td>\n",
       "      <td>14756.47</td>\n",
       "    </tr>\n",
       "    <tr>\n",
       "      <th>7</th>\n",
       "      <td>1000</td>\n",
       "      <td>12</td>\n",
       "      <td>333.0</td>\n",
       "      <td>46.0</td>\n",
       "      <td>70.0</td>\n",
       "      <td>9817.61</td>\n",
       "    </tr>\n",
       "    <tr>\n",
       "      <th>8</th>\n",
       "      <td>1001</td>\n",
       "      <td>11</td>\n",
       "      <td>430.0</td>\n",
       "      <td>59.0</td>\n",
       "      <td>NaN</td>\n",
       "      <td>18429.34</td>\n",
       "    </tr>\n",
       "    <tr>\n",
       "      <th>9</th>\n",
       "      <td>1001</td>\n",
       "      <td>12</td>\n",
       "      <td>414.0</td>\n",
       "      <td>63.0</td>\n",
       "      <td>NaN</td>\n",
       "      <td>14036.66</td>\n",
       "    </tr>\n",
       "  </tbody>\n",
       "</table>\n",
       "</div>"
      ],
      "text/plain": [
       "   user_id  month  duration_total_month  calls_total_month  sms_total_month  \\\n",
       "0     1000      5                 159.0               22.0             22.0   \n",
       "1     1000      6                 172.0               43.0             60.0   \n",
       "2     1000      7                 340.0               47.0             75.0   \n",
       "3     1000      8                 408.0               52.0             81.0   \n",
       "4     1000      9                 466.0               58.0             57.0   \n",
       "5     1000     10                 350.0               57.0             73.0   \n",
       "6     1000     11                 338.0               43.0             58.0   \n",
       "7     1000     12                 333.0               46.0             70.0   \n",
       "8     1001     11                 430.0               59.0              NaN   \n",
       "9     1001     12                 414.0               63.0              NaN   \n",
       "\n",
       "   mb_total_month  \n",
       "0         2253.49  \n",
       "1        23233.77  \n",
       "2        14003.64  \n",
       "3        14055.93  \n",
       "4        14568.91  \n",
       "5        14702.49  \n",
       "6        14756.47  \n",
       "7         9817.61  \n",
       "8        18429.34  \n",
       "9        14036.66  "
      ]
     },
     "execution_count": 18,
     "metadata": {},
     "output_type": "execute_result"
    }
   ],
   "source": [
    "income_from_users = user_calls_in_month.merge(user_messages_in_month, on=['user_id','month'], how ='outer')\n",
    "income_from_users = income_from_users.merge(user_internet_in_month, on=['user_id','month'], how ='outer')\n",
    "income_from_users.head(10)"
   ]
  },
  {
   "cell_type": "markdown",
   "metadata": {},
   "source": [
    "<div class=\"alert alert-block alert-success\">\n",
    "<b>✅Комментарий ревьюера:</b> Таблицы объединены успешно! </div>"
   ]
  },
  {
   "cell_type": "markdown",
   "metadata": {},
   "source": [
    "При соединении датафреймов Pandas привел типы к float64 из-за пропусков, поэтому приведем их к int64:"
   ]
  },
  {
   "cell_type": "code",
   "execution_count": 19,
   "metadata": {},
   "outputs": [],
   "source": [
    "fast_correction = ['duration_total_month', 'calls_total_month', 'sms_total_month', 'mb_total_month']\n",
    "\n",
    "for f in fast_correction:\n",
    "    income_from_users[f] = income_from_users[f].fillna(0).astype('int64')"
   ]
  },
  {
   "cell_type": "markdown",
   "metadata": {},
   "source": [
    "<div class=\"alert alert-block alert-success\">\n",
    "<b>✅Комментарий ревьюера:</b> Молодец, что обработал пропуски! </div>"
   ]
  },
  {
   "cell_type": "markdown",
   "metadata": {},
   "source": [
    "Рассчитаем помесячную выручку с каждого абонента и удалим ненужные колонки:"
   ]
  },
  {
   "cell_type": "code",
   "execution_count": 20,
   "metadata": {},
   "outputs": [],
   "source": [
    "income_from_users = income_from_users.merge(users_data, on='user_id', how='left').merge(tariffs_data, on='tariff', how='left')\n",
    "income_from_users = income_from_users.drop(['first_name', 'last_name', 'age'], axis='columns')"
   ]
  },
  {
   "cell_type": "markdown",
   "metadata": {},
   "source": [
    "Вычитаем бесплатный лимит:"
   ]
  },
  {
   "cell_type": "code",
   "execution_count": 21,
   "metadata": {},
   "outputs": [],
   "source": [
    "income_from_users['minutes_for_pay']  = income_from_users['duration_total_month'] - income_from_users['minutes_included']\n",
    "income_from_users['messages_for_pay'] = income_from_users['sms_total_month'] - income_from_users['messages_included']\n",
    "income_from_users['mb_for_pay']  = income_from_users['mb_total_month'] - income_from_users['mb_per_month_included']"
   ]
  },
  {
   "cell_type": "markdown",
   "metadata": {},
   "source": [
    "Положительные значения говорят о перерасходе минут/трафика/сообщений, а отрицательные о не потраченных минутах/трафика/сообщений. "
   ]
  },
  {
   "cell_type": "code",
   "execution_count": 22,
   "metadata": {},
   "outputs": [],
   "source": [
    "def count_monthly_income(row):\n",
    "    price_minutes= 0\n",
    "    price_messages = 0\n",
    "    price_mb = 0\n",
    "    \n",
    "    if row['minutes_for_pay'] > 0:\n",
    "        price_minutes = row['minutes_for_pay'] * row['rub_per_minute']\n",
    "        \n",
    "    if row['messages_for_pay'] > 0:\n",
    "        price_messages = row['messages_for_pay'] * row['rub_per_message']\n",
    "        \n",
    "    if row['mb_for_pay'] > 0:\n",
    "        price_mb = (np.ceil(row['mb_for_pay'] / 1024)) * row['rub_per_gb']\n",
    "        \n",
    "    return price_minutes + price_messages + price_mb"
   ]
  },
  {
   "cell_type": "markdown",
   "metadata": {},
   "source": [
    "<div class=\"alert alert-block alert-danger\">\n",
    "<b>❌Комментарий ревьюера:</b> \n",
    "    \n",
    "Вот как раз тут, при расчете выручки, нужно гигабайты округлить вверх.</div>"
   ]
  },
  {
   "cell_type": "markdown",
   "metadata": {},
   "source": [
    "<div class=\"alert alert-block alert-info\">\n",
    "<b>🔄Комментарий студента:</b> \n",
    "Так?</div>"
   ]
  },
  {
   "cell_type": "markdown",
   "id": "c3c24969",
   "metadata": {},
   "source": [
    "<div class=\"alert alert-block alert-success\">\n",
    "<b>✅Комментарий ревьюера 2:</b> Да, верно!👍  </div>"
   ]
  },
  {
   "cell_type": "markdown",
   "metadata": {},
   "source": [
    "Посчитаем стоимость по тарифному плану:"
   ]
  },
  {
   "cell_type": "code",
   "execution_count": 23,
   "metadata": {},
   "outputs": [],
   "source": [
    "income_from_users['rub_monthly_fee_extra'] = income_from_users.apply(count_monthly_income, axis=1)\n",
    "income_from_users['rub_monthly_fee_total'] = income_from_users['rub_monthly_fee'] + income_from_users['rub_monthly_fee_extra']"
   ]
  },
  {
   "cell_type": "code",
   "execution_count": 24,
   "metadata": {},
   "outputs": [
    {
     "data": {
      "text/html": [
       "<div>\n",
       "<style scoped>\n",
       "    .dataframe tbody tr th:only-of-type {\n",
       "        vertical-align: middle;\n",
       "    }\n",
       "\n",
       "    .dataframe tbody tr th {\n",
       "        vertical-align: top;\n",
       "    }\n",
       "\n",
       "    .dataframe thead th {\n",
       "        text-align: right;\n",
       "    }\n",
       "</style>\n",
       "<table border=\"1\" class=\"dataframe\">\n",
       "  <thead>\n",
       "    <tr style=\"text-align: right;\">\n",
       "      <th></th>\n",
       "      <th>user_id</th>\n",
       "      <th>month</th>\n",
       "      <th>duration_total_month</th>\n",
       "      <th>calls_total_month</th>\n",
       "      <th>sms_total_month</th>\n",
       "      <th>mb_total_month</th>\n",
       "      <th>churn_date</th>\n",
       "      <th>city</th>\n",
       "      <th>reg_date</th>\n",
       "      <th>tariff</th>\n",
       "      <th>...</th>\n",
       "      <th>minutes_included</th>\n",
       "      <th>rub_monthly_fee</th>\n",
       "      <th>rub_per_gb</th>\n",
       "      <th>rub_per_message</th>\n",
       "      <th>rub_per_minute</th>\n",
       "      <th>minutes_for_pay</th>\n",
       "      <th>messages_for_pay</th>\n",
       "      <th>mb_for_pay</th>\n",
       "      <th>rub_monthly_fee_extra</th>\n",
       "      <th>rub_monthly_fee_total</th>\n",
       "    </tr>\n",
       "  </thead>\n",
       "  <tbody>\n",
       "    <tr>\n",
       "      <th>0</th>\n",
       "      <td>1000</td>\n",
       "      <td>5</td>\n",
       "      <td>159</td>\n",
       "      <td>22</td>\n",
       "      <td>22</td>\n",
       "      <td>2253</td>\n",
       "      <td>NaT</td>\n",
       "      <td>Краснодар</td>\n",
       "      <td>2018-05-25</td>\n",
       "      <td>ultra</td>\n",
       "      <td>...</td>\n",
       "      <td>3000</td>\n",
       "      <td>1950</td>\n",
       "      <td>150</td>\n",
       "      <td>1</td>\n",
       "      <td>1</td>\n",
       "      <td>-2841</td>\n",
       "      <td>-978</td>\n",
       "      <td>-28467</td>\n",
       "      <td>0.0</td>\n",
       "      <td>1950.0</td>\n",
       "    </tr>\n",
       "    <tr>\n",
       "      <th>1</th>\n",
       "      <td>1000</td>\n",
       "      <td>6</td>\n",
       "      <td>172</td>\n",
       "      <td>43</td>\n",
       "      <td>60</td>\n",
       "      <td>23233</td>\n",
       "      <td>NaT</td>\n",
       "      <td>Краснодар</td>\n",
       "      <td>2018-05-25</td>\n",
       "      <td>ultra</td>\n",
       "      <td>...</td>\n",
       "      <td>3000</td>\n",
       "      <td>1950</td>\n",
       "      <td>150</td>\n",
       "      <td>1</td>\n",
       "      <td>1</td>\n",
       "      <td>-2828</td>\n",
       "      <td>-940</td>\n",
       "      <td>-7487</td>\n",
       "      <td>0.0</td>\n",
       "      <td>1950.0</td>\n",
       "    </tr>\n",
       "    <tr>\n",
       "      <th>2</th>\n",
       "      <td>1000</td>\n",
       "      <td>7</td>\n",
       "      <td>340</td>\n",
       "      <td>47</td>\n",
       "      <td>75</td>\n",
       "      <td>14003</td>\n",
       "      <td>NaT</td>\n",
       "      <td>Краснодар</td>\n",
       "      <td>2018-05-25</td>\n",
       "      <td>ultra</td>\n",
       "      <td>...</td>\n",
       "      <td>3000</td>\n",
       "      <td>1950</td>\n",
       "      <td>150</td>\n",
       "      <td>1</td>\n",
       "      <td>1</td>\n",
       "      <td>-2660</td>\n",
       "      <td>-925</td>\n",
       "      <td>-16717</td>\n",
       "      <td>0.0</td>\n",
       "      <td>1950.0</td>\n",
       "    </tr>\n",
       "    <tr>\n",
       "      <th>3</th>\n",
       "      <td>1000</td>\n",
       "      <td>8</td>\n",
       "      <td>408</td>\n",
       "      <td>52</td>\n",
       "      <td>81</td>\n",
       "      <td>14055</td>\n",
       "      <td>NaT</td>\n",
       "      <td>Краснодар</td>\n",
       "      <td>2018-05-25</td>\n",
       "      <td>ultra</td>\n",
       "      <td>...</td>\n",
       "      <td>3000</td>\n",
       "      <td>1950</td>\n",
       "      <td>150</td>\n",
       "      <td>1</td>\n",
       "      <td>1</td>\n",
       "      <td>-2592</td>\n",
       "      <td>-919</td>\n",
       "      <td>-16665</td>\n",
       "      <td>0.0</td>\n",
       "      <td>1950.0</td>\n",
       "    </tr>\n",
       "    <tr>\n",
       "      <th>4</th>\n",
       "      <td>1000</td>\n",
       "      <td>9</td>\n",
       "      <td>466</td>\n",
       "      <td>58</td>\n",
       "      <td>57</td>\n",
       "      <td>14568</td>\n",
       "      <td>NaT</td>\n",
       "      <td>Краснодар</td>\n",
       "      <td>2018-05-25</td>\n",
       "      <td>ultra</td>\n",
       "      <td>...</td>\n",
       "      <td>3000</td>\n",
       "      <td>1950</td>\n",
       "      <td>150</td>\n",
       "      <td>1</td>\n",
       "      <td>1</td>\n",
       "      <td>-2534</td>\n",
       "      <td>-943</td>\n",
       "      <td>-16152</td>\n",
       "      <td>0.0</td>\n",
       "      <td>1950.0</td>\n",
       "    </tr>\n",
       "    <tr>\n",
       "      <th>5</th>\n",
       "      <td>1000</td>\n",
       "      <td>10</td>\n",
       "      <td>350</td>\n",
       "      <td>57</td>\n",
       "      <td>73</td>\n",
       "      <td>14702</td>\n",
       "      <td>NaT</td>\n",
       "      <td>Краснодар</td>\n",
       "      <td>2018-05-25</td>\n",
       "      <td>ultra</td>\n",
       "      <td>...</td>\n",
       "      <td>3000</td>\n",
       "      <td>1950</td>\n",
       "      <td>150</td>\n",
       "      <td>1</td>\n",
       "      <td>1</td>\n",
       "      <td>-2650</td>\n",
       "      <td>-927</td>\n",
       "      <td>-16018</td>\n",
       "      <td>0.0</td>\n",
       "      <td>1950.0</td>\n",
       "    </tr>\n",
       "    <tr>\n",
       "      <th>6</th>\n",
       "      <td>1000</td>\n",
       "      <td>11</td>\n",
       "      <td>338</td>\n",
       "      <td>43</td>\n",
       "      <td>58</td>\n",
       "      <td>14756</td>\n",
       "      <td>NaT</td>\n",
       "      <td>Краснодар</td>\n",
       "      <td>2018-05-25</td>\n",
       "      <td>ultra</td>\n",
       "      <td>...</td>\n",
       "      <td>3000</td>\n",
       "      <td>1950</td>\n",
       "      <td>150</td>\n",
       "      <td>1</td>\n",
       "      <td>1</td>\n",
       "      <td>-2662</td>\n",
       "      <td>-942</td>\n",
       "      <td>-15964</td>\n",
       "      <td>0.0</td>\n",
       "      <td>1950.0</td>\n",
       "    </tr>\n",
       "    <tr>\n",
       "      <th>7</th>\n",
       "      <td>1000</td>\n",
       "      <td>12</td>\n",
       "      <td>333</td>\n",
       "      <td>46</td>\n",
       "      <td>70</td>\n",
       "      <td>9817</td>\n",
       "      <td>NaT</td>\n",
       "      <td>Краснодар</td>\n",
       "      <td>2018-05-25</td>\n",
       "      <td>ultra</td>\n",
       "      <td>...</td>\n",
       "      <td>3000</td>\n",
       "      <td>1950</td>\n",
       "      <td>150</td>\n",
       "      <td>1</td>\n",
       "      <td>1</td>\n",
       "      <td>-2667</td>\n",
       "      <td>-930</td>\n",
       "      <td>-20903</td>\n",
       "      <td>0.0</td>\n",
       "      <td>1950.0</td>\n",
       "    </tr>\n",
       "    <tr>\n",
       "      <th>8</th>\n",
       "      <td>1001</td>\n",
       "      <td>11</td>\n",
       "      <td>430</td>\n",
       "      <td>59</td>\n",
       "      <td>0</td>\n",
       "      <td>18429</td>\n",
       "      <td>NaT</td>\n",
       "      <td>Москва</td>\n",
       "      <td>2018-11-01</td>\n",
       "      <td>smart</td>\n",
       "      <td>...</td>\n",
       "      <td>500</td>\n",
       "      <td>550</td>\n",
       "      <td>200</td>\n",
       "      <td>3</td>\n",
       "      <td>3</td>\n",
       "      <td>-70</td>\n",
       "      <td>-50</td>\n",
       "      <td>3069</td>\n",
       "      <td>600.0</td>\n",
       "      <td>1150.0</td>\n",
       "    </tr>\n",
       "    <tr>\n",
       "      <th>9</th>\n",
       "      <td>1001</td>\n",
       "      <td>12</td>\n",
       "      <td>414</td>\n",
       "      <td>63</td>\n",
       "      <td>0</td>\n",
       "      <td>14036</td>\n",
       "      <td>NaT</td>\n",
       "      <td>Москва</td>\n",
       "      <td>2018-11-01</td>\n",
       "      <td>smart</td>\n",
       "      <td>...</td>\n",
       "      <td>500</td>\n",
       "      <td>550</td>\n",
       "      <td>200</td>\n",
       "      <td>3</td>\n",
       "      <td>3</td>\n",
       "      <td>-86</td>\n",
       "      <td>-50</td>\n",
       "      <td>-1324</td>\n",
       "      <td>0.0</td>\n",
       "      <td>550.0</td>\n",
       "    </tr>\n",
       "    <tr>\n",
       "      <th>10</th>\n",
       "      <td>1002</td>\n",
       "      <td>6</td>\n",
       "      <td>117</td>\n",
       "      <td>15</td>\n",
       "      <td>4</td>\n",
       "      <td>10856</td>\n",
       "      <td>NaT</td>\n",
       "      <td>Стерлитамак</td>\n",
       "      <td>2018-06-17</td>\n",
       "      <td>smart</td>\n",
       "      <td>...</td>\n",
       "      <td>500</td>\n",
       "      <td>550</td>\n",
       "      <td>200</td>\n",
       "      <td>3</td>\n",
       "      <td>3</td>\n",
       "      <td>-383</td>\n",
       "      <td>-46</td>\n",
       "      <td>-4504</td>\n",
       "      <td>0.0</td>\n",
       "      <td>550.0</td>\n",
       "    </tr>\n",
       "    <tr>\n",
       "      <th>11</th>\n",
       "      <td>1002</td>\n",
       "      <td>7</td>\n",
       "      <td>214</td>\n",
       "      <td>26</td>\n",
       "      <td>11</td>\n",
       "      <td>17580</td>\n",
       "      <td>NaT</td>\n",
       "      <td>Стерлитамак</td>\n",
       "      <td>2018-06-17</td>\n",
       "      <td>smart</td>\n",
       "      <td>...</td>\n",
       "      <td>500</td>\n",
       "      <td>550</td>\n",
       "      <td>200</td>\n",
       "      <td>3</td>\n",
       "      <td>3</td>\n",
       "      <td>-286</td>\n",
       "      <td>-39</td>\n",
       "      <td>2220</td>\n",
       "      <td>600.0</td>\n",
       "      <td>1150.0</td>\n",
       "    </tr>\n",
       "    <tr>\n",
       "      <th>12</th>\n",
       "      <td>1002</td>\n",
       "      <td>8</td>\n",
       "      <td>289</td>\n",
       "      <td>42</td>\n",
       "      <td>13</td>\n",
       "      <td>20319</td>\n",
       "      <td>NaT</td>\n",
       "      <td>Стерлитамак</td>\n",
       "      <td>2018-06-17</td>\n",
       "      <td>smart</td>\n",
       "      <td>...</td>\n",
       "      <td>500</td>\n",
       "      <td>550</td>\n",
       "      <td>200</td>\n",
       "      <td>3</td>\n",
       "      <td>3</td>\n",
       "      <td>-211</td>\n",
       "      <td>-37</td>\n",
       "      <td>4959</td>\n",
       "      <td>1000.0</td>\n",
       "      <td>1550.0</td>\n",
       "    </tr>\n",
       "    <tr>\n",
       "      <th>13</th>\n",
       "      <td>1002</td>\n",
       "      <td>9</td>\n",
       "      <td>206</td>\n",
       "      <td>36</td>\n",
       "      <td>4</td>\n",
       "      <td>16691</td>\n",
       "      <td>NaT</td>\n",
       "      <td>Стерлитамак</td>\n",
       "      <td>2018-06-17</td>\n",
       "      <td>smart</td>\n",
       "      <td>...</td>\n",
       "      <td>500</td>\n",
       "      <td>550</td>\n",
       "      <td>200</td>\n",
       "      <td>3</td>\n",
       "      <td>3</td>\n",
       "      <td>-294</td>\n",
       "      <td>-46</td>\n",
       "      <td>1331</td>\n",
       "      <td>400.0</td>\n",
       "      <td>950.0</td>\n",
       "    </tr>\n",
       "    <tr>\n",
       "      <th>14</th>\n",
       "      <td>1002</td>\n",
       "      <td>10</td>\n",
       "      <td>212</td>\n",
       "      <td>33</td>\n",
       "      <td>10</td>\n",
       "      <td>13888</td>\n",
       "      <td>NaT</td>\n",
       "      <td>Стерлитамак</td>\n",
       "      <td>2018-06-17</td>\n",
       "      <td>smart</td>\n",
       "      <td>...</td>\n",
       "      <td>500</td>\n",
       "      <td>550</td>\n",
       "      <td>200</td>\n",
       "      <td>3</td>\n",
       "      <td>3</td>\n",
       "      <td>-288</td>\n",
       "      <td>-40</td>\n",
       "      <td>-1472</td>\n",
       "      <td>0.0</td>\n",
       "      <td>550.0</td>\n",
       "    </tr>\n",
       "    <tr>\n",
       "      <th>15</th>\n",
       "      <td>1002</td>\n",
       "      <td>11</td>\n",
       "      <td>243</td>\n",
       "      <td>32</td>\n",
       "      <td>16</td>\n",
       "      <td>18587</td>\n",
       "      <td>NaT</td>\n",
       "      <td>Стерлитамак</td>\n",
       "      <td>2018-06-17</td>\n",
       "      <td>smart</td>\n",
       "      <td>...</td>\n",
       "      <td>500</td>\n",
       "      <td>550</td>\n",
       "      <td>200</td>\n",
       "      <td>3</td>\n",
       "      <td>3</td>\n",
       "      <td>-257</td>\n",
       "      <td>-34</td>\n",
       "      <td>3227</td>\n",
       "      <td>800.0</td>\n",
       "      <td>1350.0</td>\n",
       "    </tr>\n",
       "    <tr>\n",
       "      <th>16</th>\n",
       "      <td>1002</td>\n",
       "      <td>12</td>\n",
       "      <td>236</td>\n",
       "      <td>33</td>\n",
       "      <td>12</td>\n",
       "      <td>18113</td>\n",
       "      <td>NaT</td>\n",
       "      <td>Стерлитамак</td>\n",
       "      <td>2018-06-17</td>\n",
       "      <td>smart</td>\n",
       "      <td>...</td>\n",
       "      <td>500</td>\n",
       "      <td>550</td>\n",
       "      <td>200</td>\n",
       "      <td>3</td>\n",
       "      <td>3</td>\n",
       "      <td>-264</td>\n",
       "      <td>-38</td>\n",
       "      <td>2753</td>\n",
       "      <td>600.0</td>\n",
       "      <td>1150.0</td>\n",
       "    </tr>\n",
       "    <tr>\n",
       "      <th>17</th>\n",
       "      <td>1003</td>\n",
       "      <td>8</td>\n",
       "      <td>380</td>\n",
       "      <td>55</td>\n",
       "      <td>37</td>\n",
       "      <td>8565</td>\n",
       "      <td>NaT</td>\n",
       "      <td>Москва</td>\n",
       "      <td>2018-08-17</td>\n",
       "      <td>ultra</td>\n",
       "      <td>...</td>\n",
       "      <td>3000</td>\n",
       "      <td>1950</td>\n",
       "      <td>150</td>\n",
       "      <td>1</td>\n",
       "      <td>1</td>\n",
       "      <td>-2620</td>\n",
       "      <td>-963</td>\n",
       "      <td>-22155</td>\n",
       "      <td>0.0</td>\n",
       "      <td>1950.0</td>\n",
       "    </tr>\n",
       "    <tr>\n",
       "      <th>18</th>\n",
       "      <td>1003</td>\n",
       "      <td>9</td>\n",
       "      <td>961</td>\n",
       "      <td>134</td>\n",
       "      <td>91</td>\n",
       "      <td>12468</td>\n",
       "      <td>NaT</td>\n",
       "      <td>Москва</td>\n",
       "      <td>2018-08-17</td>\n",
       "      <td>ultra</td>\n",
       "      <td>...</td>\n",
       "      <td>3000</td>\n",
       "      <td>1950</td>\n",
       "      <td>150</td>\n",
       "      <td>1</td>\n",
       "      <td>1</td>\n",
       "      <td>-2039</td>\n",
       "      <td>-909</td>\n",
       "      <td>-18252</td>\n",
       "      <td>0.0</td>\n",
       "      <td>1950.0</td>\n",
       "    </tr>\n",
       "    <tr>\n",
       "      <th>19</th>\n",
       "      <td>1003</td>\n",
       "      <td>10</td>\n",
       "      <td>855</td>\n",
       "      <td>108</td>\n",
       "      <td>83</td>\n",
       "      <td>14768</td>\n",
       "      <td>NaT</td>\n",
       "      <td>Москва</td>\n",
       "      <td>2018-08-17</td>\n",
       "      <td>ultra</td>\n",
       "      <td>...</td>\n",
       "      <td>3000</td>\n",
       "      <td>1950</td>\n",
       "      <td>150</td>\n",
       "      <td>1</td>\n",
       "      <td>1</td>\n",
       "      <td>-2145</td>\n",
       "      <td>-917</td>\n",
       "      <td>-15952</td>\n",
       "      <td>0.0</td>\n",
       "      <td>1950.0</td>\n",
       "    </tr>\n",
       "  </tbody>\n",
       "</table>\n",
       "<p>20 rows × 22 columns</p>\n",
       "</div>"
      ],
      "text/plain": [
       "    user_id  month  duration_total_month  calls_total_month  sms_total_month  \\\n",
       "0      1000      5                   159                 22               22   \n",
       "1      1000      6                   172                 43               60   \n",
       "2      1000      7                   340                 47               75   \n",
       "3      1000      8                   408                 52               81   \n",
       "4      1000      9                   466                 58               57   \n",
       "5      1000     10                   350                 57               73   \n",
       "6      1000     11                   338                 43               58   \n",
       "7      1000     12                   333                 46               70   \n",
       "8      1001     11                   430                 59                0   \n",
       "9      1001     12                   414                 63                0   \n",
       "10     1002      6                   117                 15                4   \n",
       "11     1002      7                   214                 26               11   \n",
       "12     1002      8                   289                 42               13   \n",
       "13     1002      9                   206                 36                4   \n",
       "14     1002     10                   212                 33               10   \n",
       "15     1002     11                   243                 32               16   \n",
       "16     1002     12                   236                 33               12   \n",
       "17     1003      8                   380                 55               37   \n",
       "18     1003      9                   961                134               91   \n",
       "19     1003     10                   855                108               83   \n",
       "\n",
       "    mb_total_month churn_date         city   reg_date tariff  ...  \\\n",
       "0             2253        NaT    Краснодар 2018-05-25  ultra  ...   \n",
       "1            23233        NaT    Краснодар 2018-05-25  ultra  ...   \n",
       "2            14003        NaT    Краснодар 2018-05-25  ultra  ...   \n",
       "3            14055        NaT    Краснодар 2018-05-25  ultra  ...   \n",
       "4            14568        NaT    Краснодар 2018-05-25  ultra  ...   \n",
       "5            14702        NaT    Краснодар 2018-05-25  ultra  ...   \n",
       "6            14756        NaT    Краснодар 2018-05-25  ultra  ...   \n",
       "7             9817        NaT    Краснодар 2018-05-25  ultra  ...   \n",
       "8            18429        NaT       Москва 2018-11-01  smart  ...   \n",
       "9            14036        NaT       Москва 2018-11-01  smart  ...   \n",
       "10           10856        NaT  Стерлитамак 2018-06-17  smart  ...   \n",
       "11           17580        NaT  Стерлитамак 2018-06-17  smart  ...   \n",
       "12           20319        NaT  Стерлитамак 2018-06-17  smart  ...   \n",
       "13           16691        NaT  Стерлитамак 2018-06-17  smart  ...   \n",
       "14           13888        NaT  Стерлитамак 2018-06-17  smart  ...   \n",
       "15           18587        NaT  Стерлитамак 2018-06-17  smart  ...   \n",
       "16           18113        NaT  Стерлитамак 2018-06-17  smart  ...   \n",
       "17            8565        NaT       Москва 2018-08-17  ultra  ...   \n",
       "18           12468        NaT       Москва 2018-08-17  ultra  ...   \n",
       "19           14768        NaT       Москва 2018-08-17  ultra  ...   \n",
       "\n",
       "    minutes_included  rub_monthly_fee  rub_per_gb  rub_per_message  \\\n",
       "0               3000             1950         150                1   \n",
       "1               3000             1950         150                1   \n",
       "2               3000             1950         150                1   \n",
       "3               3000             1950         150                1   \n",
       "4               3000             1950         150                1   \n",
       "5               3000             1950         150                1   \n",
       "6               3000             1950         150                1   \n",
       "7               3000             1950         150                1   \n",
       "8                500              550         200                3   \n",
       "9                500              550         200                3   \n",
       "10               500              550         200                3   \n",
       "11               500              550         200                3   \n",
       "12               500              550         200                3   \n",
       "13               500              550         200                3   \n",
       "14               500              550         200                3   \n",
       "15               500              550         200                3   \n",
       "16               500              550         200                3   \n",
       "17              3000             1950         150                1   \n",
       "18              3000             1950         150                1   \n",
       "19              3000             1950         150                1   \n",
       "\n",
       "    rub_per_minute  minutes_for_pay  messages_for_pay  mb_for_pay  \\\n",
       "0                1            -2841              -978      -28467   \n",
       "1                1            -2828              -940       -7487   \n",
       "2                1            -2660              -925      -16717   \n",
       "3                1            -2592              -919      -16665   \n",
       "4                1            -2534              -943      -16152   \n",
       "5                1            -2650              -927      -16018   \n",
       "6                1            -2662              -942      -15964   \n",
       "7                1            -2667              -930      -20903   \n",
       "8                3              -70               -50        3069   \n",
       "9                3              -86               -50       -1324   \n",
       "10               3             -383               -46       -4504   \n",
       "11               3             -286               -39        2220   \n",
       "12               3             -211               -37        4959   \n",
       "13               3             -294               -46        1331   \n",
       "14               3             -288               -40       -1472   \n",
       "15               3             -257               -34        3227   \n",
       "16               3             -264               -38        2753   \n",
       "17               1            -2620              -963      -22155   \n",
       "18               1            -2039              -909      -18252   \n",
       "19               1            -2145              -917      -15952   \n",
       "\n",
       "    rub_monthly_fee_extra  rub_monthly_fee_total  \n",
       "0                     0.0                 1950.0  \n",
       "1                     0.0                 1950.0  \n",
       "2                     0.0                 1950.0  \n",
       "3                     0.0                 1950.0  \n",
       "4                     0.0                 1950.0  \n",
       "5                     0.0                 1950.0  \n",
       "6                     0.0                 1950.0  \n",
       "7                     0.0                 1950.0  \n",
       "8                   600.0                 1150.0  \n",
       "9                     0.0                  550.0  \n",
       "10                    0.0                  550.0  \n",
       "11                  600.0                 1150.0  \n",
       "12                 1000.0                 1550.0  \n",
       "13                  400.0                  950.0  \n",
       "14                    0.0                  550.0  \n",
       "15                  800.0                 1350.0  \n",
       "16                  600.0                 1150.0  \n",
       "17                    0.0                 1950.0  \n",
       "18                    0.0                 1950.0  \n",
       "19                    0.0                 1950.0  \n",
       "\n",
       "[20 rows x 22 columns]"
      ]
     },
     "execution_count": 24,
     "metadata": {},
     "output_type": "execute_result"
    }
   ],
   "source": [
    "income_from_users.head(20)"
   ]
  },
  {
   "cell_type": "markdown",
   "metadata": {},
   "source": [
    "<div class=\"alert alert-block alert-danger\">\n",
    "<b>❌Комментарий ревьюера:</b> \n",
    "    \n",
    "Из-за неточностей в окргулении выручка получилась некорректной.</div>"
   ]
  },
  {
   "cell_type": "markdown",
   "metadata": {},
   "source": [
    "<div class=\"alert alert-block alert-info\">\n",
    "<b>🔄Комментарий студента:</b> \n",
    "А как эту ошибку можно отследить?</div>"
   ]
  },
  {
   "cell_type": "markdown",
   "id": "c3c24969",
   "metadata": {},
   "source": [
    "<div class=\"alert alert-block alert-success\">\n",
    "<b>✅Комментарий ревьюера 2:</b> Ошибкит нет), теперь выручка рассчитана абсолютно точно!👍  </div>"
   ]
  },
  {
   "cell_type": "markdown",
   "metadata": {},
   "source": [
    "<b>АНАЛИЗ ДАННЫХ:</b>"
   ]
  },
  {
   "cell_type": "markdown",
   "metadata": {},
   "source": [
    "Посмотрим распределение пользователей по месяцам:"
   ]
  },
  {
   "cell_type": "code",
   "execution_count": 25,
   "metadata": {
    "scrolled": true
   },
   "outputs": [
    {
     "data": {
      "text/plain": [
       "<AxesSubplot:>"
      ]
     },
     "execution_count": 25,
     "metadata": {},
     "output_type": "execute_result"
    },
    {
     "data": {
      "image/png": "[encoded data removed]",
      "text/plain": [
       "<Figure size 432x288 with 1 Axes>"
      ]
     },
     "metadata": {
      "needs_background": "light"
     },
     "output_type": "display_data"
    }
   ],
   "source": [
    "income_from_users['month'].value_counts().sort_values().plot(kind='bar',grid='True')"
   ]
  },
  {
   "cell_type": "markdown",
   "metadata": {},
   "source": [
    "Видим, что база пользователей растет из месяца в месяц."
   ]
  },
  {
   "cell_type": "code",
   "execution_count": 26,
   "metadata": {},
   "outputs": [
    {
     "data": {
      "image/png": "[encoded data removed]",
      "text/plain": [
       "<Figure size 432x288 with 1 Axes>"
      ]
     },
     "metadata": {},
     "output_type": "display_data"
    }
   ],
   "source": [
    "users_data.groupby('tariff')['tariff'].count().plot(kind='pie',  title='Доля тарифов в выборке')\n",
    "plt.show()"
   ]
  },
  {
   "cell_type": "markdown",
   "metadata": {},
   "source": [
    "Видим, что пользователей тарифа smart в выборке больше, чем пользователей тарифа ultra. Посмотрим, сколько минут разговора, сколько сообщений и какой объём интернет-трафика требуется пользователям каждого тарифа в месяц:"
   ]
  },
  {
   "cell_type": "markdown",
   "metadata": {},
   "source": [
    "<div class=\"alert alert-block alert-danger\">\n",
    "<b>❌Комментарий ревьюера:</b> \n",
    "    \n",
    "В этом пункте нам интересны именно среднемесячные показатели, а не суммарные</div>"
   ]
  },
  {
   "cell_type": "markdown",
   "metadata": {},
   "source": [
    "<div class=\"alert alert-block alert-info\">\n",
    "<b>🔄Комментарий студента:</b> \n",
    "Не понимаю замечание. Это к верхнему графику или к нижней таблице? Верхний график тогда, по идее, можно просто убрать, я его для себя сделал (хотелось сделать график-пирожок), а если к нижней таблице, то в задании же прописано: \"Сколько минут разговора, сколько сообщений и какой объём интернет-трафика требуется пользователям каждого тарифа в месяц?\". Про среднее ничего не сказано.\n",
    "</div>"
   ]
  },
  {
   "cell_type": "markdown",
   "id": "240e31f5",
   "metadata": {},
   "source": [
    "<div class=\"alert alert-block alert-warning\">\n",
    "<b>🔁Комментарий ревьюера 2:</b>\n",
    "\n",
    "Замечание касалось расчетов ниже. Согласен, что вопрос звучит неоднозначно. Мы должны вынести ценную информацию из построенных таблиц и сделать выводы. Какой объем услуг требуется пользователям в месяц? То есть чем отличаются пользователи тарифов? На мой взгляд более показательным будет среднемесячное значение. Но также можно сделать выводы и по суммарным значениям.\n",
    "\n",
    "Отметим это как совет на будущее (так как в остальном у тебя все хорошо), делать промежуточные выводы после каждого логически завершенного шага. </div>"
   ]
  },
  {
   "cell_type": "code",
   "execution_count": 27,
   "metadata": {},
   "outputs": [
    {
     "data": {
      "text/html": [
       "<div>\n",
       "<style scoped>\n",
       "    .dataframe tbody tr th:only-of-type {\n",
       "        vertical-align: middle;\n",
       "    }\n",
       "\n",
       "    .dataframe tbody tr th {\n",
       "        vertical-align: top;\n",
       "    }\n",
       "\n",
       "    .dataframe thead th {\n",
       "        text-align: right;\n",
       "    }\n",
       "</style>\n",
       "<table border=\"1\" class=\"dataframe\">\n",
       "  <thead>\n",
       "    <tr style=\"text-align: right;\">\n",
       "      <th></th>\n",
       "      <th>duration_total_month</th>\n",
       "      <th>mb_total_month</th>\n",
       "      <th>sms_total_month</th>\n",
       "    </tr>\n",
       "    <tr>\n",
       "      <th>month</th>\n",
       "      <th></th>\n",
       "      <th></th>\n",
       "      <th></th>\n",
       "    </tr>\n",
       "  </thead>\n",
       "  <tbody>\n",
       "    <tr>\n",
       "      <th>1</th>\n",
       "      <td>3853</td>\n",
       "      <td>118263</td>\n",
       "      <td>304</td>\n",
       "    </tr>\n",
       "    <tr>\n",
       "      <th>2</th>\n",
       "      <td>7131</td>\n",
       "      <td>282610</td>\n",
       "      <td>527</td>\n",
       "    </tr>\n",
       "    <tr>\n",
       "      <th>3</th>\n",
       "      <td>18117</td>\n",
       "      <td>648798</td>\n",
       "      <td>1195</td>\n",
       "    </tr>\n",
       "    <tr>\n",
       "      <th>4</th>\n",
       "      <td>25191</td>\n",
       "      <td>925520</td>\n",
       "      <td>1736</td>\n",
       "    </tr>\n",
       "    <tr>\n",
       "      <th>5</th>\n",
       "      <td>34192</td>\n",
       "      <td>1297302</td>\n",
       "      <td>2536</td>\n",
       "    </tr>\n",
       "    <tr>\n",
       "      <th>6</th>\n",
       "      <td>40295</td>\n",
       "      <td>1589652</td>\n",
       "      <td>3505</td>\n",
       "    </tr>\n",
       "    <tr>\n",
       "      <th>7</th>\n",
       "      <td>49667</td>\n",
       "      <td>1865060</td>\n",
       "      <td>4536</td>\n",
       "    </tr>\n",
       "    <tr>\n",
       "      <th>8</th>\n",
       "      <td>54653</td>\n",
       "      <td>2094587</td>\n",
       "      <td>5183</td>\n",
       "    </tr>\n",
       "    <tr>\n",
       "      <th>9</th>\n",
       "      <td>62036</td>\n",
       "      <td>2208436</td>\n",
       "      <td>6013</td>\n",
       "    </tr>\n",
       "    <tr>\n",
       "      <th>10</th>\n",
       "      <td>68644</td>\n",
       "      <td>2465518</td>\n",
       "      <td>7187</td>\n",
       "    </tr>\n",
       "    <tr>\n",
       "      <th>11</th>\n",
       "      <td>72545</td>\n",
       "      <td>2651367</td>\n",
       "      <td>7476</td>\n",
       "    </tr>\n",
       "    <tr>\n",
       "      <th>12</th>\n",
       "      <td>82400</td>\n",
       "      <td>3029185</td>\n",
       "      <td>8425</td>\n",
       "    </tr>\n",
       "  </tbody>\n",
       "</table>\n",
       "</div>"
      ],
      "text/plain": [
       "       duration_total_month  mb_total_month  sms_total_month\n",
       "month                                                       \n",
       "1                      3853          118263              304\n",
       "2                      7131          282610              527\n",
       "3                     18117          648798             1195\n",
       "4                     25191          925520             1736\n",
       "5                     34192         1297302             2536\n",
       "6                     40295         1589652             3505\n",
       "7                     49667         1865060             4536\n",
       "8                     54653         2094587             5183\n",
       "9                     62036         2208436             6013\n",
       "10                    68644         2465518             7187\n",
       "11                    72545         2651367             7476\n",
       "12                    82400         3029185             8425"
      ]
     },
     "execution_count": 27,
     "metadata": {},
     "output_type": "execute_result"
    }
   ],
   "source": [
    "columns_list = ['duration_total_month', 'sms_total_month', 'mb_total_month']\n",
    "income_from_users_ultra = pd.pivot_table(\n",
    "    data=income_from_users.loc[income_from_users['tariff']=='ultra'],\n",
    "    index = 'month', values=columns_list, aggfunc=sum)\n",
    "income_from_users_ultra"
   ]
  },
  {
   "cell_type": "code",
   "execution_count": 28,
   "metadata": {},
   "outputs": [
    {
     "data": {
      "text/html": [
       "<div>\n",
       "<style scoped>\n",
       "    .dataframe tbody tr th:only-of-type {\n",
       "        vertical-align: middle;\n",
       "    }\n",
       "\n",
       "    .dataframe tbody tr th {\n",
       "        vertical-align: top;\n",
       "    }\n",
       "\n",
       "    .dataframe thead th {\n",
       "        text-align: right;\n",
       "    }\n",
       "</style>\n",
       "<table border=\"1\" class=\"dataframe\">\n",
       "  <thead>\n",
       "    <tr style=\"text-align: right;\">\n",
       "      <th></th>\n",
       "      <th>duration_total_month</th>\n",
       "      <th>mb_total_month</th>\n",
       "      <th>sms_total_month</th>\n",
       "    </tr>\n",
       "    <tr>\n",
       "      <th>month</th>\n",
       "      <th></th>\n",
       "      <th></th>\n",
       "      <th></th>\n",
       "    </tr>\n",
       "  </thead>\n",
       "  <tbody>\n",
       "    <tr>\n",
       "      <th>1</th>\n",
       "      <td>6931</td>\n",
       "      <td>289448</td>\n",
       "      <td>620</td>\n",
       "    </tr>\n",
       "    <tr>\n",
       "      <th>2</th>\n",
       "      <td>17324</td>\n",
       "      <td>672598</td>\n",
       "      <td>1397</td>\n",
       "    </tr>\n",
       "    <tr>\n",
       "      <th>3</th>\n",
       "      <td>30034</td>\n",
       "      <td>1162983</td>\n",
       "      <td>2453</td>\n",
       "    </tr>\n",
       "    <tr>\n",
       "      <th>4</th>\n",
       "      <td>41119</td>\n",
       "      <td>1507706</td>\n",
       "      <td>3443</td>\n",
       "    </tr>\n",
       "    <tr>\n",
       "      <th>5</th>\n",
       "      <td>54618</td>\n",
       "      <td>2228458</td>\n",
       "      <td>4762</td>\n",
       "    </tr>\n",
       "    <tr>\n",
       "      <th>6</th>\n",
       "      <td>64885</td>\n",
       "      <td>2590241</td>\n",
       "      <td>5478</td>\n",
       "    </tr>\n",
       "    <tr>\n",
       "      <th>7</th>\n",
       "      <td>82079</td>\n",
       "      <td>3164269</td>\n",
       "      <td>6784</td>\n",
       "    </tr>\n",
       "    <tr>\n",
       "      <th>8</th>\n",
       "      <td>99045</td>\n",
       "      <td>3903400</td>\n",
       "      <td>7905</td>\n",
       "    </tr>\n",
       "    <tr>\n",
       "      <th>9</th>\n",
       "      <td>111439</td>\n",
       "      <td>4238807</td>\n",
       "      <td>8746</td>\n",
       "    </tr>\n",
       "    <tr>\n",
       "      <th>10</th>\n",
       "      <td>125284</td>\n",
       "      <td>4926438</td>\n",
       "      <td>9927</td>\n",
       "    </tr>\n",
       "    <tr>\n",
       "      <th>11</th>\n",
       "      <td>137544</td>\n",
       "      <td>5338881</td>\n",
       "      <td>10768</td>\n",
       "    </tr>\n",
       "    <tr>\n",
       "      <th>12</th>\n",
       "      <td>161275</td>\n",
       "      <td>6104134</td>\n",
       "      <td>12130</td>\n",
       "    </tr>\n",
       "  </tbody>\n",
       "</table>\n",
       "</div>"
      ],
      "text/plain": [
       "       duration_total_month  mb_total_month  sms_total_month\n",
       "month                                                       \n",
       "1                      6931          289448              620\n",
       "2                     17324          672598             1397\n",
       "3                     30034         1162983             2453\n",
       "4                     41119         1507706             3443\n",
       "5                     54618         2228458             4762\n",
       "6                     64885         2590241             5478\n",
       "7                     82079         3164269             6784\n",
       "8                     99045         3903400             7905\n",
       "9                    111439         4238807             8746\n",
       "10                   125284         4926438             9927\n",
       "11                   137544         5338881            10768\n",
       "12                   161275         6104134            12130"
      ]
     },
     "execution_count": 28,
     "metadata": {},
     "output_type": "execute_result"
    }
   ],
   "source": [
    "income_from_users_smart = pd.pivot_table(\n",
    "    data=income_from_users.loc[income_from_users['tariff']=='smart'],\n",
    "    index = 'month', values=columns_list , aggfunc=sum)\n",
    "income_from_users_smart"
   ]
  },
  {
   "cell_type": "markdown",
   "metadata": {},
   "source": [
    "На основании увеличения количества пользователей видим равномерное увеличение количества минут разговора, сообщений и объёма интернет-трафика. Посчитаем среднее количество, дисперсию и стандартное отклонение способом describe():"
   ]
  },
  {
   "cell_type": "code",
   "execution_count": 29,
   "metadata": {
    "scrolled": true
   },
   "outputs": [
    {
     "data": {
      "text/html": [
       "<div>\n",
       "<style scoped>\n",
       "    .dataframe tbody tr th:only-of-type {\n",
       "        vertical-align: middle;\n",
       "    }\n",
       "\n",
       "    .dataframe tbody tr th {\n",
       "        vertical-align: top;\n",
       "    }\n",
       "\n",
       "    .dataframe thead th {\n",
       "        text-align: right;\n",
       "    }\n",
       "</style>\n",
       "<table border=\"1\" class=\"dataframe\">\n",
       "  <thead>\n",
       "    <tr style=\"text-align: right;\">\n",
       "      <th></th>\n",
       "      <th>duration_total_month</th>\n",
       "      <th>mb_total_month</th>\n",
       "      <th>sms_total_month</th>\n",
       "    </tr>\n",
       "  </thead>\n",
       "  <tbody>\n",
       "    <tr>\n",
       "      <th>count</th>\n",
       "      <td>12</td>\n",
       "      <td>12</td>\n",
       "      <td>12</td>\n",
       "    </tr>\n",
       "    <tr>\n",
       "      <th>mean</th>\n",
       "      <td>77631</td>\n",
       "      <td>3010613</td>\n",
       "      <td>6201</td>\n",
       "    </tr>\n",
       "    <tr>\n",
       "      <th>std</th>\n",
       "      <td>49912</td>\n",
       "      <td>1914590</td>\n",
       "      <td>3790</td>\n",
       "    </tr>\n",
       "    <tr>\n",
       "      <th>min</th>\n",
       "      <td>6931</td>\n",
       "      <td>289448</td>\n",
       "      <td>620</td>\n",
       "    </tr>\n",
       "    <tr>\n",
       "      <th>25%</th>\n",
       "      <td>38347</td>\n",
       "      <td>1421525</td>\n",
       "      <td>3195</td>\n",
       "    </tr>\n",
       "    <tr>\n",
       "      <th>50%</th>\n",
       "      <td>73482</td>\n",
       "      <td>2877255</td>\n",
       "      <td>6131</td>\n",
       "    </tr>\n",
       "    <tr>\n",
       "      <th>75%</th>\n",
       "      <td>114900</td>\n",
       "      <td>4410714</td>\n",
       "      <td>9041</td>\n",
       "    </tr>\n",
       "    <tr>\n",
       "      <th>max</th>\n",
       "      <td>161275</td>\n",
       "      <td>6104134</td>\n",
       "      <td>12130</td>\n",
       "    </tr>\n",
       "  </tbody>\n",
       "</table>\n",
       "</div>"
      ],
      "text/plain": [
       "       duration_total_month  mb_total_month  sms_total_month\n",
       "count                    12              12               12\n",
       "mean                  77631         3010613             6201\n",
       "std                   49912         1914590             3790\n",
       "min                    6931          289448              620\n",
       "25%                   38347         1421525             3195\n",
       "50%                   73482         2877255             6131\n",
       "75%                  114900         4410714             9041\n",
       "max                  161275         6104134            12130"
      ]
     },
     "metadata": {},
     "output_type": "display_data"
    }
   ],
   "source": [
    "display(income_from_users_smart.describe().astype('int64'))"
   ]
  },
  {
   "cell_type": "code",
   "execution_count": 30,
   "metadata": {},
   "outputs": [
    {
     "name": "stdout",
     "output_type": "stream",
     "text": [
      "Дисперсия минут тарифа SMART: 2491282105.7196965\n",
      "Дисперсия мегабайт тарифа SMART: 3665657000966.8105\n",
      "Дисперсия смс тарифа SMART: 14371602.81060606\n"
     ]
    }
   ],
   "source": [
    "var_minutes_smart = np.var(income_from_users_smart['duration_total_month'], ddof=1)\n",
    "print('Дисперсия минут тарифа SMART:', var_minutes_smart)\n",
    "var_mb_smart = np.var(income_from_users_smart['mb_total_month'], ddof=1)\n",
    "print('Дисперсия мегабайт тарифа SMART:', var_mb_smart)\n",
    "var_sms_smart = np.var(income_from_users_smart['sms_total_month'], ddof=1)\n",
    "print('Дисперсия смс тарифа SMART:', var_sms_smart)"
   ]
  },
  {
   "cell_type": "markdown",
   "metadata": {},
   "source": [
    "<div class=\"alert alert-block alert-warning\">\n",
    "<b>🔁Комментарий ревьюера:</b> А где тут дисперсия?</div>"
   ]
  },
  {
   "cell_type": "markdown",
   "metadata": {},
   "source": [
    "<div class=\"alert alert-block alert-info\">\n",
    "<b>🔄Комментарий студента:</b> \n",
    "Тут.\n",
    "</div>"
   ]
  },
  {
   "cell_type": "markdown",
   "id": "c3c24969",
   "metadata": {},
   "source": [
    "<div class=\"alert alert-block alert-success\">\n",
    "<b>✅Комментарий ревьюера 2:</b> Отлично, исправлено!👍  </div>"
   ]
  },
  {
   "cell_type": "markdown",
   "metadata": {},
   "source": [
    "Значения для тарифа smart определены."
   ]
  },
  {
   "cell_type": "code",
   "execution_count": 31,
   "metadata": {
    "scrolled": true
   },
   "outputs": [
    {
     "data": {
      "text/html": [
       "<div>\n",
       "<style scoped>\n",
       "    .dataframe tbody tr th:only-of-type {\n",
       "        vertical-align: middle;\n",
       "    }\n",
       "\n",
       "    .dataframe tbody tr th {\n",
       "        vertical-align: top;\n",
       "    }\n",
       "\n",
       "    .dataframe thead th {\n",
       "        text-align: right;\n",
       "    }\n",
       "</style>\n",
       "<table border=\"1\" class=\"dataframe\">\n",
       "  <thead>\n",
       "    <tr style=\"text-align: right;\">\n",
       "      <th></th>\n",
       "      <th>duration_total_month</th>\n",
       "      <th>mb_total_month</th>\n",
       "      <th>sms_total_month</th>\n",
       "    </tr>\n",
       "  </thead>\n",
       "  <tbody>\n",
       "    <tr>\n",
       "      <th>count</th>\n",
       "      <td>12</td>\n",
       "      <td>12</td>\n",
       "      <td>12</td>\n",
       "    </tr>\n",
       "    <tr>\n",
       "      <th>mean</th>\n",
       "      <td>43227</td>\n",
       "      <td>1598024</td>\n",
       "      <td>4051</td>\n",
       "    </tr>\n",
       "    <tr>\n",
       "      <th>std</th>\n",
       "      <td>26050</td>\n",
       "      <td>951772</td>\n",
       "      <td>2838</td>\n",
       "    </tr>\n",
       "    <tr>\n",
       "      <th>min</th>\n",
       "      <td>3853</td>\n",
       "      <td>118263</td>\n",
       "      <td>304</td>\n",
       "    </tr>\n",
       "    <tr>\n",
       "      <th>25%</th>\n",
       "      <td>23422</td>\n",
       "      <td>856339</td>\n",
       "      <td>1600</td>\n",
       "    </tr>\n",
       "    <tr>\n",
       "      <th>50%</th>\n",
       "      <td>44981</td>\n",
       "      <td>1727356</td>\n",
       "      <td>4020</td>\n",
       "    </tr>\n",
       "    <tr>\n",
       "      <th>75%</th>\n",
       "      <td>63688</td>\n",
       "      <td>2272706</td>\n",
       "      <td>6306</td>\n",
       "    </tr>\n",
       "    <tr>\n",
       "      <th>max</th>\n",
       "      <td>82400</td>\n",
       "      <td>3029185</td>\n",
       "      <td>8425</td>\n",
       "    </tr>\n",
       "  </tbody>\n",
       "</table>\n",
       "</div>"
      ],
      "text/plain": [
       "       duration_total_month  mb_total_month  sms_total_month\n",
       "count                    12              12               12\n",
       "mean                  43227         1598024             4051\n",
       "std                   26050          951772             2838\n",
       "min                    3853          118263              304\n",
       "25%                   23422          856339             1600\n",
       "50%                   44981         1727356             4020\n",
       "75%                   63688         2272706             6306\n",
       "max                   82400         3029185             8425"
      ]
     },
     "metadata": {},
     "output_type": "display_data"
    }
   ],
   "source": [
    "display(income_from_users_ultra.describe().astype('int64'))"
   ]
  },
  {
   "cell_type": "code",
   "execution_count": 32,
   "metadata": {},
   "outputs": [
    {
     "name": "stdout",
     "output_type": "stream",
     "text": [
      "Дисперсия минут тарифа SMART: 678651712.3636364\n",
      "Дисперсия мегабайт тарифа SMART: 905871547353.0605\n",
      "Дисперсия смс тарифа SMART: 8057360.628787881\n"
     ]
    }
   ],
   "source": [
    "var_minutes_ultra = np.var(income_from_users_ultra['duration_total_month'], ddof=1)\n",
    "print('Дисперсия минут тарифа SMART:', var_minutes_ultra)\n",
    "var_mb_ultra = np.var(income_from_users_ultra['mb_total_month'], ddof=1)\n",
    "print('Дисперсия мегабайт тарифа SMART:', var_mb_ultra)\n",
    "var_sms_ultra = np.var(income_from_users_ultra['sms_total_month'], ddof=1)\n",
    "print('Дисперсия смс тарифа SMART:', var_sms_ultra)"
   ]
  },
  {
   "cell_type": "markdown",
   "metadata": {},
   "source": [
    "<div class=\"alert alert-block alert-info\">\n",
    "<b>🔄Комментарий студента:</b> \n",
    "И тут.\n",
    "</div>"
   ]
  },
  {
   "cell_type": "markdown",
   "metadata": {},
   "source": [
    "Значения для тарифа ultra определены. Построим гистограммы."
   ]
  },
  {
   "cell_type": "code",
   "execution_count": 33,
   "metadata": {},
   "outputs": [],
   "source": [
    "smart_tariff = income_from_users.query(\"tariff == 'smart'\")\n",
    "ultra_tariff = income_from_users.query(\"tariff == 'ultra'\")"
   ]
  },
  {
   "cell_type": "code",
   "execution_count": 34,
   "metadata": {},
   "outputs": [
    {
     "data": {
      "image/png": "[encoded data removed]",
      "text/plain": [
       "<Figure size 432x288 with 1 Axes>"
      ]
     },
     "metadata": {
      "needs_background": "light"
     },
     "output_type": "display_data"
    }
   ],
   "source": [
    "plt.title('Сравнение потраченных минут в разных тарифах')\n",
    "plt.hist(smart_tariff['duration_total_month'], bins=30, label='Смарт', density=True)\n",
    "plt.hist(ultra_tariff['duration_total_month'], bins=30, label='Ультра', alpha=0.5, density=True)\n",
    "plt.legend(loc='upper right')\n",
    "plt.show()"
   ]
  },
  {
   "cell_type": "code",
   "execution_count": 35,
   "metadata": {},
   "outputs": [
    {
     "data": {
      "image/png": "[encoded data removed]",
      "text/plain": [
       "<Figure size 432x288 with 1 Axes>"
      ]
     },
     "metadata": {
      "needs_background": "light"
     },
     "output_type": "display_data"
    }
   ],
   "source": [
    "plt.title('Сравнение потраченных сообщений в разных тарифах')\n",
    "plt.hist(smart_tariff['sms_total_month'], bins=30, label='Смарт', density=True)\n",
    "plt.hist(ultra_tariff['sms_total_month'], bins=30, label='Ультра', alpha=0.5, density=True)\n",
    "plt.legend(loc='upper right')\n",
    "plt.show()"
   ]
  },
  {
   "cell_type": "code",
   "execution_count": 36,
   "metadata": {
    "scrolled": true
   },
   "outputs": [
    {
     "data": {
      "image/png": "[encoded data removed]",
      "text/plain": [
       "<Figure size 432x288 with 1 Axes>"
      ]
     },
     "metadata": {
      "needs_background": "light"
     },
     "output_type": "display_data"
    }
   ],
   "source": [
    "plt.title('Сравнение потраченного интернет-трафика в разных тарифах')\n",
    "plt.hist(smart_tariff['mb_total_month'], bins=30, label='Смарт', density=True)\n",
    "plt.hist(ultra_tariff['mb_total_month'], bins=30, label='Ультра', alpha=0.5, density=True)\n",
    "plt.legend(loc='upper right')\n",
    "plt.show()"
   ]
  },
  {
   "cell_type": "markdown",
   "metadata": {},
   "source": [
    "1) Минуты - прослеживается, что абоненты тарифа \"ультра\" не выбирают 3000 минут, некоторые не разговаривают вообще (возможно, интернет трафик для них важнее), в то время как обладатели тарифа \"смарт\" почти всегда выбирают доступные минуты и не малая часть абонентов переплачивает за них. В среднем и те, и те, в месяц говорят одинаково.\n",
    "<br>2) Сообщения - эх, вымирающий вид связи... лимит на который, тем не менее, превышают абоненты тарифа \"смарт\", а абоненты тарифа \"ультра\" далеки от предела в 1000 сообщений но, однако, все же чаще пишут большее количество сообщений. \n",
    "<br>3) Интернет-трафик - за интернет трафик значительная переплата абонентов тарифа \"смарт\", абоненты тарифа \"ультра\" чаще всего укладываются в лимит, но есть и исключения."
   ]
  },
  {
   "cell_type": "markdown",
   "metadata": {},
   "source": [
    "<div class=\"alert alert-block alert-success\">\n",
    "<b>✅Комментарий ревьюера:</b>\n",
    "    \n",
    "Все верно!\n",
    "\n",
    "Молодец, что пишешь названия для графиков. В будущем тебе нужно будет подписывать и оси на них для удобства восприятия. [Тут](https://devpractice.ru/matplotlib-lesson-3-3-text-elements/) хорошо написано как это правильно делать.</div>"
   ]
  },
  {
   "cell_type": "markdown",
   "metadata": {},
   "source": [
    "<b>ПРОВЕРКА ГИПОТЕЗ</b>"
   ]
  },
  {
   "cell_type": "markdown",
   "metadata": {},
   "source": [
    "Первая гипотеза - средняя выручка компании от пользователей тарифов «Ультра» и «Смарт» различается. Сформулируем Нулевые гипотезы подобным образом:\n",
    "\n",
    "- Нулевая гипотеза H₀: Средняя выручка пользователей тарифов «Ультра» и «Смарт» не различается\n",
    "- Альтернативная гипотеза H₁: Средняя выручка пользователей тарифов «Ультра» и «Смарт» различается"
   ]
  },
  {
   "cell_type": "markdown",
   "metadata": {},
   "source": [
    "<div class=\"alert alert-block alert-success\">\n",
    "<b>✅Комментарий ревьюера:</b> Здорово, что формулируешь гипотезы вначале шага </div>"
   ]
  },
  {
   "cell_type": "code",
   "execution_count": 37,
   "metadata": {},
   "outputs": [
    {
     "name": "stdout",
     "output_type": "stream",
     "text": [
      "Средняя выручка пользователя тарифа smart составляет: 1289.9735307312696\n",
      "Средняя выручка пользователя тарифа ultra составляет: 2070.1522842639592\n"
     ]
    }
   ],
   "source": [
    "print ('Средняя выручка пользователя тарифа smart составляет:', smart_tariff['rub_monthly_fee_total'].mean())\n",
    "print ('Средняя выручка пользователя тарифа ultra составляет:', ultra_tariff['rub_monthly_fee_total'].mean())"
   ]
  },
  {
   "cell_type": "code",
   "execution_count": 38,
   "metadata": {},
   "outputs": [
    {
     "name": "stdout",
     "output_type": "stream",
     "text": [
      "p-значение: 1.4229814360764067e-160\n",
      "Отвергаем нулевую гипотезу\n"
     ]
    }
   ],
   "source": [
    "alpha = .01\n",
    "\n",
    "results = st.ttest_ind(\n",
    "    smart_tariff['rub_monthly_fee_total'], \n",
    "    ultra_tariff['rub_monthly_fee_total'])\n",
    "\n",
    "print('p-значение:', results.pvalue)\n",
    "\n",
    "if (results.pvalue < alpha):\n",
    "    print(\"Отвергаем нулевую гипотезу\")\n",
    "else:\n",
    "    print(\"Не получилось отвергнуть нулевую гипотезу\")"
   ]
  },
  {
   "cell_type": "markdown",
   "metadata": {},
   "source": [
    "Результат говорит о том, что средняя выручка от тарифов различается."
   ]
  },
  {
   "cell_type": "markdown",
   "metadata": {},
   "source": [
    "Вторая гипотеза - средняя выручка пользователей из Москвы отличается от выручки пользователей из других регионов. Сформулируем Нулевые гипотезы:\n",
    "\n",
    "- Нулевая гипотеза H₀: Средняя выручка пользователей из Москвы не отличается от выручки пользователей из других регионов\n",
    "- Альтернативная гипотеза H₁: Средняя выручка пользователей из Москвы отличается от выручки пользователей из других регионов"
   ]
  },
  {
   "cell_type": "code",
   "execution_count": 39,
   "metadata": {},
   "outputs": [
    {
     "name": "stdout",
     "output_type": "stream",
     "text": [
      "Средняя выручка пользователя Москвы составляет: 1546.7135842880523\n",
      "Средняя выручка пользователя не Москвы составляет: 1524.9362274298885\n"
     ]
    }
   ],
   "source": [
    "print ('Средняя выручка пользователя Москвы составляет:', income_from_users.query(\"city == 'Москва'\")['rub_monthly_fee_total'].mean())\n",
    "print ('Средняя выручка пользователя не Москвы составляет:', income_from_users.query(\"city != 'Москва'\")['rub_monthly_fee_total'].mean())"
   ]
  },
  {
   "cell_type": "code",
   "execution_count": 40,
   "metadata": {},
   "outputs": [
    {
     "name": "stdout",
     "output_type": "stream",
     "text": [
      "p-значение: 0.5440152911670224\n",
      "Не получилось отвергнуть нулевую гипотезу\n"
     ]
    }
   ],
   "source": [
    "moscow_revenue = income_from_users.query(\"city == 'Москва'\")['rub_monthly_fee_total']\n",
    "other_cities_revenue = income_from_users.query(\"city != 'Москва'\")['rub_monthly_fee_total']\n",
    "\n",
    "alpha = .05\n",
    "\n",
    "results = st.ttest_ind(moscow_revenue, other_cities_revenue)\n",
    "\n",
    "print('p-значение:', results.pvalue)\n",
    "\n",
    "if (results.pvalue < alpha):\n",
    "    print(\"Отвергаем нулевую гипотезу\")\n",
    "else:\n",
    "    print(\"Не получилось отвергнуть нулевую гипотезу\")"
   ]
  },
  {
   "cell_type": "markdown",
   "metadata": {},
   "source": [
    "Полученное значение говорит, что если мы предполагаем, что выручки различаются, то ошибаемся в 18% случаев. Вторая гипотеза не подтвердилась."
   ]
  },
  {
   "cell_type": "markdown",
   "metadata": {},
   "source": [
    "<div class=\"alert alert-block alert-success\">\n",
    "<b>✅Комментарий ревьюера:</b> Несмотря на несовсем верные результаты расчета выручки гипотезы проработаны верно! </div>"
   ]
  },
  {
   "cell_type": "markdown",
   "metadata": {},
   "source": [
    "<b>ОБЩИЙ ВЫВОД</b>"
   ]
  },
  {
   "cell_type": "markdown",
   "metadata": {},
   "source": [
    "В ходе анализа было изучено два тарифа федерального оператора сотовой связи «Мегалайн» — «Смарт» и «Ультра». Данные оказались подготовлены довольно качество, большой проработки не требовалось. \n",
    "\n",
    "Исправили лишь несколько данных:\n",
    "\n",
    "- Привели данные в столбцах, обозначающих время, к datetime;\n",
    "- В таблице internet_data удалили столбец \"Unnamed: 0\", который дублирует индексы строк;\n",
    "- Не стали удалять данные о длительности звонков в 0 секунд;\n",
    "- Тарифы считаются по минутам и мегабайтам, поэтому округлили минуты разговора и мегабайты трафика в большую сторону (согласно приложенной к заданию информации).\n",
    "- В таблице с пользователями выявили 38 пользователей, прекративших пользоваться тарифом, возможна дальнейшая проработка данных для определения причины отказа от тарифов;\n",
    "- Привели столбец id к типу int;\n",
    "- Столбец в tariffs_data переименовали в tariffs.\n",
    "\n",
    "После обработки данных подготовили таблицу с общим потреблением минут/трафика/сообщений для каждого пользователя в месяц, а так же рассчитали прибыль компании для каждого месяца.\n",
    "\n",
    "Провели анализ данных. Выявили, что база пользователей растет из месяца в месяц и что пользователи больше предпочитают тариф smart, чем ultra. Выявили, что по тарифу ultra переасходов почти нет, а значит всем хватает предложенного пакета. Обладатели тарифа \"смарт\" почти всегда выбирают доступные минуты и часто выбирают пакет траффика, не малая часть абонентов переплачивает за них. Распределение потребления сообщений сильно скошено вправо, что указывает на слабый интерес к СМС. \n",
    "\n",
    "При изучении гипотез было выявлено, что:\n",
    "- Средняя выручка от тарифов различается.\n",
    "- Средняя выручка пользователей из Москвы не отличается от выручки пользователей из других регионов.\n",
    "\n",
    "</b>Итог:</b>\n",
    "Отвечая на вопрос \"какой тариф лучше\" можем сказать, что для «Мегалайн» тариф Ультра лучше, так как приносит больше выручки."
   ]
  },
  {
   "cell_type": "markdown",
   "metadata": {},
   "source": [
    "<div class=\"alert alert-block alert-success\">\n",
    "<b>✅Комментарий ревьюера:</b> Хороший резюмирующий вывод! Молодец, что не забыл выделить наиболее прибыльный тариф. </div>"
   ]
  },
  {
   "cell_type": "code",
   "execution_count": null,
   "metadata": {},
   "outputs": [],
   "source": []
  }
 ],
 "metadata": {
  "ExecuteTimeLog": [
   {
    "duration": 355,
    "start_time": "2022-06-17T11:30:55.804Z"
   },
   {
    "duration": 1064,
    "start_time": "2022-06-17T11:31:42.705Z"
   },
   {
    "duration": 417,
    "start_time": "2022-06-17T11:31:56.088Z"
   },
   {
    "duration": 409,
    "start_time": "2022-06-17T11:32:29.158Z"
   },
   {
    "duration": 336,
    "start_time": "2022-06-17T11:32:53.477Z"
   },
   {
    "duration": 21,
    "start_time": "2022-06-17T11:35:46.375Z"
   },
   {
    "duration": 326,
    "start_time": "2022-06-17T11:37:34.231Z"
   },
   {
    "duration": 350,
    "start_time": "2022-06-17T11:37:34.558Z"
   },
   {
    "duration": 22,
    "start_time": "2022-06-17T11:37:34.910Z"
   },
   {
    "duration": 18,
    "start_time": "2022-06-17T11:37:34.933Z"
   },
   {
    "duration": 14,
    "start_time": "2022-06-17T11:37:34.953Z"
   },
   {
    "duration": 10,
    "start_time": "2022-06-17T11:37:34.969Z"
   },
   {
    "duration": 18,
    "start_time": "2022-06-17T11:37:34.981Z"
   },
   {
    "duration": 65,
    "start_time": "2022-06-17T11:53:18.904Z"
   },
   {
    "duration": 54,
    "start_time": "2022-06-17T12:05:57.113Z"
   },
   {
    "duration": 18,
    "start_time": "2022-06-17T12:06:06.447Z"
   },
   {
    "duration": 179,
    "start_time": "2022-06-17T12:13:33.545Z"
   },
   {
    "duration": 88,
    "start_time": "2022-06-17T12:18:35.038Z"
   },
   {
    "duration": 166,
    "start_time": "2022-06-17T12:23:27.025Z"
   },
   {
    "duration": 161,
    "start_time": "2022-06-17T12:24:07.969Z"
   },
   {
    "duration": 7,
    "start_time": "2022-06-17T12:29:46.742Z"
   },
   {
    "duration": 7,
    "start_time": "2022-06-17T12:32:09.709Z"
   },
   {
    "duration": 750,
    "start_time": "2022-06-17T12:32:53.244Z"
   },
   {
    "duration": 883,
    "start_time": "2022-06-17T12:32:59.613Z"
   },
   {
    "duration": 347,
    "start_time": "2022-06-17T12:33:00.497Z"
   },
   {
    "duration": 22,
    "start_time": "2022-06-17T12:33:00.845Z"
   },
   {
    "duration": 19,
    "start_time": "2022-06-17T12:33:00.869Z"
   },
   {
    "duration": 15,
    "start_time": "2022-06-17T12:33:00.889Z"
   },
   {
    "duration": 9,
    "start_time": "2022-06-17T12:33:00.906Z"
   },
   {
    "duration": 16,
    "start_time": "2022-06-17T12:33:00.916Z"
   },
   {
    "duration": 76,
    "start_time": "2022-06-17T12:33:00.933Z"
   },
   {
    "duration": 9,
    "start_time": "2022-06-17T12:33:01.010Z"
   },
   {
    "duration": 102,
    "start_time": "2022-06-17T12:33:01.021Z"
   },
   {
    "duration": 0,
    "start_time": "2022-06-17T12:33:01.125Z"
   },
   {
    "duration": 880,
    "start_time": "2022-06-17T12:33:52.615Z"
   },
   {
    "duration": 343,
    "start_time": "2022-06-17T12:33:53.497Z"
   },
   {
    "duration": 22,
    "start_time": "2022-06-17T12:33:53.842Z"
   },
   {
    "duration": 18,
    "start_time": "2022-06-17T12:33:53.865Z"
   },
   {
    "duration": 15,
    "start_time": "2022-06-17T12:33:53.884Z"
   },
   {
    "duration": 9,
    "start_time": "2022-06-17T12:33:53.901Z"
   },
   {
    "duration": 10,
    "start_time": "2022-06-17T12:33:53.912Z"
   },
   {
    "duration": 81,
    "start_time": "2022-06-17T12:33:53.924Z"
   },
   {
    "duration": 6,
    "start_time": "2022-06-17T12:33:54.007Z"
   },
   {
    "duration": 12,
    "start_time": "2022-06-17T12:33:54.014Z"
   },
   {
    "duration": 168,
    "start_time": "2022-06-17T12:33:54.027Z"
   },
   {
    "duration": 4,
    "start_time": "2022-06-17T12:37:40.707Z"
   },
   {
    "duration": 79,
    "start_time": "2022-06-17T12:40:33.539Z"
   },
   {
    "duration": 1925,
    "start_time": "2022-06-17T12:40:41.214Z"
   },
   {
    "duration": 1371,
    "start_time": "2022-06-25T10:46:10.659Z"
   },
   {
    "duration": 1422,
    "start_time": "2022-06-25T10:46:12.033Z"
   },
   {
    "duration": 50,
    "start_time": "2022-06-25T10:46:13.458Z"
   },
   {
    "duration": 40,
    "start_time": "2022-06-25T10:46:13.511Z"
   },
   {
    "duration": 23,
    "start_time": "2022-06-25T10:46:13.555Z"
   },
   {
    "duration": 14,
    "start_time": "2022-06-25T10:46:13.580Z"
   },
   {
    "duration": 40,
    "start_time": "2022-06-25T10:46:13.597Z"
   },
   {
    "duration": 89,
    "start_time": "2022-06-25T10:46:13.639Z"
   },
   {
    "duration": 4,
    "start_time": "2022-06-25T10:46:13.730Z"
   },
   {
    "duration": 12,
    "start_time": "2022-06-25T10:46:13.736Z"
   },
   {
    "duration": 12,
    "start_time": "2022-06-25T10:46:13.750Z"
   },
   {
    "duration": 263,
    "start_time": "2022-06-25T10:46:13.763Z"
   },
   {
    "duration": 1228,
    "start_time": "2022-06-25T10:52:11.719Z"
   },
   {
    "duration": 565,
    "start_time": "2022-06-25T10:52:12.950Z"
   },
   {
    "duration": 60,
    "start_time": "2022-06-25T10:52:13.518Z"
   },
   {
    "duration": 51,
    "start_time": "2022-06-25T10:52:13.581Z"
   },
   {
    "duration": 39,
    "start_time": "2022-06-25T10:52:13.636Z"
   },
   {
    "duration": 19,
    "start_time": "2022-06-25T10:52:13.678Z"
   },
   {
    "duration": 46,
    "start_time": "2022-06-25T10:52:13.699Z"
   },
   {
    "duration": 117,
    "start_time": "2022-06-25T10:52:13.747Z"
   },
   {
    "duration": 5,
    "start_time": "2022-06-25T10:52:13.866Z"
   },
   {
    "duration": 11,
    "start_time": "2022-06-25T10:52:13.873Z"
   },
   {
    "duration": 14,
    "start_time": "2022-06-25T10:52:13.886Z"
   },
   {
    "duration": 290,
    "start_time": "2022-06-25T10:52:13.902Z"
   },
   {
    "duration": 50,
    "start_time": "2022-06-25T10:55:34.847Z"
   },
   {
    "duration": 1206,
    "start_time": "2022-06-25T11:10:10.051Z"
   },
   {
    "duration": 512,
    "start_time": "2022-06-25T11:10:11.265Z"
   },
   {
    "duration": 30,
    "start_time": "2022-06-25T11:10:11.779Z"
   },
   {
    "duration": 32,
    "start_time": "2022-06-25T11:10:11.811Z"
   },
   {
    "duration": 35,
    "start_time": "2022-06-25T11:10:11.846Z"
   },
   {
    "duration": 12,
    "start_time": "2022-06-25T11:10:11.883Z"
   },
   {
    "duration": 17,
    "start_time": "2022-06-25T11:10:11.896Z"
   },
   {
    "duration": 118,
    "start_time": "2022-06-25T11:10:11.914Z"
   },
   {
    "duration": 5,
    "start_time": "2022-06-25T11:10:12.035Z"
   },
   {
    "duration": 28,
    "start_time": "2022-06-25T11:10:12.042Z"
   },
   {
    "duration": 13,
    "start_time": "2022-06-25T11:10:12.073Z"
   },
   {
    "duration": 74,
    "start_time": "2022-06-25T11:10:12.089Z"
   },
   {
    "duration": 121,
    "start_time": "2022-06-25T11:10:12.164Z"
   },
   {
    "duration": 21,
    "start_time": "2022-06-25T11:10:12.288Z"
   },
   {
    "duration": 50,
    "start_time": "2022-06-25T11:22:55.314Z"
   },
   {
    "duration": 71,
    "start_time": "2022-06-25T11:23:08.385Z"
   },
   {
    "duration": 49,
    "start_time": "2022-06-25T11:23:38.480Z"
   },
   {
    "duration": 74,
    "start_time": "2022-06-25T11:24:49.071Z"
   },
   {
    "duration": 16,
    "start_time": "2022-06-25T11:25:11.757Z"
   },
   {
    "duration": 66,
    "start_time": "2022-06-25T11:25:55.277Z"
   },
   {
    "duration": 30,
    "start_time": "2022-06-25T11:26:18.685Z"
   },
   {
    "duration": 57,
    "start_time": "2022-06-25T11:27:44.663Z"
   },
   {
    "duration": 42,
    "start_time": "2022-06-25T11:27:47.594Z"
   },
   {
    "duration": 36,
    "start_time": "2022-06-25T11:27:49.273Z"
   },
   {
    "duration": 12,
    "start_time": "2022-06-25T11:37:55.562Z"
   },
   {
    "duration": 16,
    "start_time": "2022-06-25T11:38:06.997Z"
   },
   {
    "duration": 14,
    "start_time": "2022-06-25T11:40:07.162Z"
   },
   {
    "duration": 28,
    "start_time": "2022-06-25T11:40:16.262Z"
   },
   {
    "duration": 16,
    "start_time": "2022-06-25T11:40:46.627Z"
   },
   {
    "duration": 32,
    "start_time": "2022-06-25T11:40:54.600Z"
   },
   {
    "duration": 39,
    "start_time": "2022-06-25T11:44:27.231Z"
   },
   {
    "duration": 30,
    "start_time": "2022-06-25T11:44:40.193Z"
   },
   {
    "duration": 25,
    "start_time": "2022-06-25T11:44:48.851Z"
   },
   {
    "duration": 31,
    "start_time": "2022-06-25T11:44:56.141Z"
   },
   {
    "duration": 15,
    "start_time": "2022-06-25T11:45:21.419Z"
   },
   {
    "duration": 12,
    "start_time": "2022-06-25T11:45:47.831Z"
   },
   {
    "duration": 6,
    "start_time": "2022-06-25T11:45:56.451Z"
   },
   {
    "duration": 1270,
    "start_time": "2022-06-25T11:46:43.699Z"
   },
   {
    "duration": 501,
    "start_time": "2022-06-25T11:46:44.971Z"
   },
   {
    "duration": 31,
    "start_time": "2022-06-25T11:46:45.473Z"
   },
   {
    "duration": 33,
    "start_time": "2022-06-25T11:46:45.506Z"
   },
   {
    "duration": 37,
    "start_time": "2022-06-25T11:46:45.543Z"
   },
   {
    "duration": 11,
    "start_time": "2022-06-25T11:46:45.582Z"
   },
   {
    "duration": 48,
    "start_time": "2022-06-25T11:46:45.595Z"
   },
   {
    "duration": 120,
    "start_time": "2022-06-25T11:46:45.645Z"
   },
   {
    "duration": 4,
    "start_time": "2022-06-25T11:46:45.767Z"
   },
   {
    "duration": 21,
    "start_time": "2022-06-25T11:46:45.774Z"
   },
   {
    "duration": 18,
    "start_time": "2022-06-25T11:46:45.797Z"
   },
   {
    "duration": 74,
    "start_time": "2022-06-25T11:46:45.817Z"
   },
   {
    "duration": 123,
    "start_time": "2022-06-25T11:46:45.893Z"
   },
   {
    "duration": 67,
    "start_time": "2022-06-25T11:46:46.017Z"
   },
   {
    "duration": 66,
    "start_time": "2022-06-25T11:46:46.086Z"
   },
   {
    "duration": 39,
    "start_time": "2022-06-25T11:46:46.153Z"
   },
   {
    "duration": 37,
    "start_time": "2022-06-25T11:46:46.194Z"
   },
   {
    "duration": 8,
    "start_time": "2022-06-25T11:46:46.233Z"
   },
   {
    "duration": 34,
    "start_time": "2022-06-25T11:46:46.243Z"
   },
   {
    "duration": 133,
    "start_time": "2022-06-25T11:56:52.300Z"
   },
   {
    "duration": 13,
    "start_time": "2022-06-25T11:56:56.194Z"
   },
   {
    "duration": 17,
    "start_time": "2022-06-25T11:56:58.459Z"
   },
   {
    "duration": 13,
    "start_time": "2022-06-25T11:57:00.074Z"
   },
   {
    "duration": 4,
    "start_time": "2022-06-25T11:58:59.076Z"
   },
   {
    "duration": 21,
    "start_time": "2022-06-25T12:11:28.033Z"
   },
   {
    "duration": 17,
    "start_time": "2022-06-25T12:12:03.873Z"
   },
   {
    "duration": 7,
    "start_time": "2022-06-25T12:13:46.268Z"
   },
   {
    "duration": 15,
    "start_time": "2022-06-25T12:14:06.902Z"
   },
   {
    "duration": 14,
    "start_time": "2022-06-25T12:14:31.268Z"
   },
   {
    "duration": 1138,
    "start_time": "2022-06-25T12:14:37.978Z"
   },
   {
    "duration": 491,
    "start_time": "2022-06-25T12:14:39.118Z"
   },
   {
    "duration": 52,
    "start_time": "2022-06-25T12:14:39.610Z"
   },
   {
    "duration": 27,
    "start_time": "2022-06-25T12:14:39.664Z"
   },
   {
    "duration": 22,
    "start_time": "2022-06-25T12:14:39.694Z"
   },
   {
    "duration": 25,
    "start_time": "2022-06-25T12:14:39.725Z"
   },
   {
    "duration": 22,
    "start_time": "2022-06-25T12:14:39.759Z"
   },
   {
    "duration": 119,
    "start_time": "2022-06-25T12:14:39.783Z"
   },
   {
    "duration": 4,
    "start_time": "2022-06-25T12:14:39.904Z"
   },
   {
    "duration": 13,
    "start_time": "2022-06-25T12:14:39.909Z"
   },
   {
    "duration": 44,
    "start_time": "2022-06-25T12:14:39.925Z"
   },
   {
    "duration": 52,
    "start_time": "2022-06-25T12:14:39.971Z"
   },
   {
    "duration": 127,
    "start_time": "2022-06-25T12:14:40.025Z"
   },
   {
    "duration": 47,
    "start_time": "2022-06-25T12:14:40.158Z"
   },
   {
    "duration": 47,
    "start_time": "2022-06-25T12:14:40.207Z"
   },
   {
    "duration": 41,
    "start_time": "2022-06-25T12:14:40.255Z"
   },
   {
    "duration": 61,
    "start_time": "2022-06-25T12:14:40.298Z"
   },
   {
    "duration": 16,
    "start_time": "2022-06-25T12:14:40.361Z"
   },
   {
    "duration": 124,
    "start_time": "2022-06-25T12:16:35.158Z"
   },
   {
    "duration": 21,
    "start_time": "2022-06-25T12:17:15.435Z"
   },
   {
    "duration": 11,
    "start_time": "2022-06-25T12:24:33.291Z"
   },
   {
    "duration": 42,
    "start_time": "2022-06-25T12:24:46.757Z"
   },
   {
    "duration": 33,
    "start_time": "2022-06-25T12:25:33.326Z"
   },
   {
    "duration": 1347,
    "start_time": "2022-06-25T12:25:43.613Z"
   },
   {
    "duration": 494,
    "start_time": "2022-06-25T12:25:44.962Z"
   },
   {
    "duration": 44,
    "start_time": "2022-06-25T12:25:45.458Z"
   },
   {
    "duration": 38,
    "start_time": "2022-06-25T12:25:45.504Z"
   },
   {
    "duration": 30,
    "start_time": "2022-06-25T12:25:45.545Z"
   },
   {
    "duration": 14,
    "start_time": "2022-06-25T12:25:45.577Z"
   },
   {
    "duration": 48,
    "start_time": "2022-06-25T12:25:45.593Z"
   },
   {
    "duration": 148,
    "start_time": "2022-06-25T12:25:45.643Z"
   },
   {
    "duration": 5,
    "start_time": "2022-06-25T12:25:45.793Z"
   },
   {
    "duration": 27,
    "start_time": "2022-06-25T12:25:45.801Z"
   },
   {
    "duration": 18,
    "start_time": "2022-06-25T12:25:45.830Z"
   },
   {
    "duration": 103,
    "start_time": "2022-06-25T12:25:45.850Z"
   },
   {
    "duration": 155,
    "start_time": "2022-06-25T12:25:45.956Z"
   },
   {
    "duration": 71,
    "start_time": "2022-06-25T12:25:46.114Z"
   },
   {
    "duration": 58,
    "start_time": "2022-06-25T12:25:46.187Z"
   },
   {
    "duration": 53,
    "start_time": "2022-06-25T12:25:46.248Z"
   },
   {
    "duration": 55,
    "start_time": "2022-06-25T12:25:46.303Z"
   },
   {
    "duration": 160,
    "start_time": "2022-06-25T12:25:46.360Z"
   },
   {
    "duration": 0,
    "start_time": "2022-06-25T12:25:46.526Z"
   },
   {
    "duration": 8,
    "start_time": "2022-06-25T12:25:56.157Z"
   },
   {
    "duration": 12,
    "start_time": "2022-06-25T12:25:59.325Z"
   },
   {
    "duration": 5,
    "start_time": "2022-06-25T12:29:00.246Z"
   },
   {
    "duration": 36,
    "start_time": "2022-06-25T12:29:54.351Z"
   },
   {
    "duration": 1453,
    "start_time": "2022-06-25T12:30:39.760Z"
   },
   {
    "duration": 675,
    "start_time": "2022-06-25T12:30:41.215Z"
   },
   {
    "duration": 49,
    "start_time": "2022-06-25T12:30:41.896Z"
   },
   {
    "duration": 60,
    "start_time": "2022-06-25T12:30:41.948Z"
   },
   {
    "duration": 42,
    "start_time": "2022-06-25T12:30:42.011Z"
   },
   {
    "duration": 36,
    "start_time": "2022-06-25T12:30:42.055Z"
   },
   {
    "duration": 37,
    "start_time": "2022-06-25T12:30:42.093Z"
   },
   {
    "duration": 152,
    "start_time": "2022-06-25T12:30:42.132Z"
   },
   {
    "duration": 6,
    "start_time": "2022-06-25T12:30:42.287Z"
   },
   {
    "duration": 23,
    "start_time": "2022-06-25T12:30:42.295Z"
   },
   {
    "duration": 42,
    "start_time": "2022-06-25T12:30:42.327Z"
   },
   {
    "duration": 94,
    "start_time": "2022-06-25T12:30:42.371Z"
   },
   {
    "duration": 168,
    "start_time": "2022-06-25T12:30:42.467Z"
   },
   {
    "duration": 66,
    "start_time": "2022-06-25T12:30:42.639Z"
   },
   {
    "duration": 70,
    "start_time": "2022-06-25T12:30:42.708Z"
   },
   {
    "duration": 70,
    "start_time": "2022-06-25T12:30:42.781Z"
   },
   {
    "duration": 34,
    "start_time": "2022-06-25T12:30:42.853Z"
   },
   {
    "duration": 17,
    "start_time": "2022-06-25T12:30:42.889Z"
   },
   {
    "duration": 160,
    "start_time": "2022-06-25T12:30:42.908Z"
   },
   {
    "duration": 22,
    "start_time": "2022-06-25T12:31:19.819Z"
   },
   {
    "duration": 21,
    "start_time": "2022-06-25T12:31:32.557Z"
   },
   {
    "duration": 1192,
    "start_time": "2022-06-25T12:33:46.789Z"
   },
   {
    "duration": 491,
    "start_time": "2022-06-25T12:33:47.982Z"
   },
   {
    "duration": 47,
    "start_time": "2022-06-25T12:33:48.475Z"
   },
   {
    "duration": 37,
    "start_time": "2022-06-25T12:33:48.525Z"
   },
   {
    "duration": 34,
    "start_time": "2022-06-25T12:33:48.565Z"
   },
   {
    "duration": 46,
    "start_time": "2022-06-25T12:33:48.601Z"
   },
   {
    "duration": 24,
    "start_time": "2022-06-25T12:33:48.649Z"
   },
   {
    "duration": 142,
    "start_time": "2022-06-25T12:33:48.675Z"
   },
   {
    "duration": 7,
    "start_time": "2022-06-25T12:33:48.819Z"
   },
   {
    "duration": 18,
    "start_time": "2022-06-25T12:33:48.827Z"
   },
   {
    "duration": 31,
    "start_time": "2022-06-25T12:33:48.847Z"
   },
   {
    "duration": 96,
    "start_time": "2022-06-25T12:33:48.880Z"
   },
   {
    "duration": 163,
    "start_time": "2022-06-25T12:33:48.979Z"
   },
   {
    "duration": 0,
    "start_time": "2022-06-25T12:33:49.144Z"
   },
   {
    "duration": 0,
    "start_time": "2022-06-25T12:33:49.146Z"
   },
   {
    "duration": 0,
    "start_time": "2022-06-25T12:33:49.147Z"
   },
   {
    "duration": 0,
    "start_time": "2022-06-25T12:33:49.148Z"
   },
   {
    "duration": 0,
    "start_time": "2022-06-25T12:33:49.149Z"
   },
   {
    "duration": 0,
    "start_time": "2022-06-25T12:33:49.152Z"
   },
   {
    "duration": 1296,
    "start_time": "2022-06-25T12:34:12.931Z"
   },
   {
    "duration": 596,
    "start_time": "2022-06-25T12:34:14.230Z"
   },
   {
    "duration": 47,
    "start_time": "2022-06-25T12:34:14.828Z"
   },
   {
    "duration": 59,
    "start_time": "2022-06-25T12:34:14.877Z"
   },
   {
    "duration": 37,
    "start_time": "2022-06-25T12:34:14.939Z"
   },
   {
    "duration": 20,
    "start_time": "2022-06-25T12:34:14.978Z"
   },
   {
    "duration": 65,
    "start_time": "2022-06-25T12:34:15.000Z"
   },
   {
    "duration": 106,
    "start_time": "2022-06-25T12:34:15.067Z"
   },
   {
    "duration": 5,
    "start_time": "2022-06-25T12:34:15.175Z"
   },
   {
    "duration": 12,
    "start_time": "2022-06-25T12:34:15.182Z"
   },
   {
    "duration": 39,
    "start_time": "2022-06-25T12:34:15.196Z"
   },
   {
    "duration": 63,
    "start_time": "2022-06-25T12:34:15.238Z"
   },
   {
    "duration": 4,
    "start_time": "2022-06-25T12:34:15.303Z"
   },
   {
    "duration": 146,
    "start_time": "2022-06-25T12:34:15.310Z"
   },
   {
    "duration": 48,
    "start_time": "2022-06-25T12:34:15.458Z"
   },
   {
    "duration": 56,
    "start_time": "2022-06-25T12:34:15.509Z"
   },
   {
    "duration": 70,
    "start_time": "2022-06-25T12:34:15.567Z"
   },
   {
    "duration": 35,
    "start_time": "2022-06-25T12:34:15.643Z"
   },
   {
    "duration": 7,
    "start_time": "2022-06-25T12:34:15.680Z"
   },
   {
    "duration": 1483,
    "start_time": "2022-06-25T12:35:53.998Z"
   },
   {
    "duration": 571,
    "start_time": "2022-06-25T12:35:55.484Z"
   },
   {
    "duration": 47,
    "start_time": "2022-06-25T12:35:56.057Z"
   },
   {
    "duration": 36,
    "start_time": "2022-06-25T12:35:56.106Z"
   },
   {
    "duration": 31,
    "start_time": "2022-06-25T12:35:56.147Z"
   },
   {
    "duration": 17,
    "start_time": "2022-06-25T12:35:56.180Z"
   },
   {
    "duration": 40,
    "start_time": "2022-06-25T12:35:56.199Z"
   },
   {
    "duration": 144,
    "start_time": "2022-06-25T12:35:56.241Z"
   },
   {
    "duration": 5,
    "start_time": "2022-06-25T12:35:56.387Z"
   },
   {
    "duration": 19,
    "start_time": "2022-06-25T12:35:56.394Z"
   },
   {
    "duration": 14,
    "start_time": "2022-06-25T12:35:56.427Z"
   },
   {
    "duration": 103,
    "start_time": "2022-06-25T12:35:56.444Z"
   },
   {
    "duration": 5,
    "start_time": "2022-06-25T12:35:56.549Z"
   },
   {
    "duration": 151,
    "start_time": "2022-06-25T12:35:56.557Z"
   },
   {
    "duration": 73,
    "start_time": "2022-06-25T12:35:56.710Z"
   },
   {
    "duration": 58,
    "start_time": "2022-06-25T12:35:56.785Z"
   },
   {
    "duration": 43,
    "start_time": "2022-06-25T12:35:56.846Z"
   },
   {
    "duration": 53,
    "start_time": "2022-06-25T12:35:56.891Z"
   },
   {
    "duration": 8,
    "start_time": "2022-06-25T12:35:56.946Z"
   },
   {
    "duration": 13,
    "start_time": "2022-06-25T12:37:46.737Z"
   },
   {
    "duration": 11,
    "start_time": "2022-06-25T12:37:59.011Z"
   },
   {
    "duration": 14,
    "start_time": "2022-06-25T12:38:23.958Z"
   },
   {
    "duration": 12,
    "start_time": "2022-06-25T12:38:27.602Z"
   },
   {
    "duration": 1450,
    "start_time": "2022-06-25T12:42:53.913Z"
   },
   {
    "duration": 593,
    "start_time": "2022-06-25T12:42:55.366Z"
   },
   {
    "duration": 52,
    "start_time": "2022-06-25T12:42:55.961Z"
   },
   {
    "duration": 41,
    "start_time": "2022-06-25T12:42:56.016Z"
   },
   {
    "duration": 33,
    "start_time": "2022-06-25T12:42:56.061Z"
   },
   {
    "duration": 44,
    "start_time": "2022-06-25T12:42:56.097Z"
   },
   {
    "duration": 29,
    "start_time": "2022-06-25T12:42:56.144Z"
   },
   {
    "duration": 154,
    "start_time": "2022-06-25T12:42:56.176Z"
   },
   {
    "duration": 5,
    "start_time": "2022-06-25T12:42:56.333Z"
   },
   {
    "duration": 17,
    "start_time": "2022-06-25T12:42:56.340Z"
   },
   {
    "duration": 22,
    "start_time": "2022-06-25T12:42:56.360Z"
   },
   {
    "duration": 129,
    "start_time": "2022-06-25T12:42:56.385Z"
   },
   {
    "duration": 10,
    "start_time": "2022-06-25T12:42:56.517Z"
   },
   {
    "duration": 159,
    "start_time": "2022-06-25T12:42:56.532Z"
   },
   {
    "duration": 76,
    "start_time": "2022-06-25T12:42:56.694Z"
   },
   {
    "duration": 56,
    "start_time": "2022-06-25T12:42:56.772Z"
   },
   {
    "duration": 48,
    "start_time": "2022-06-25T12:42:56.830Z"
   },
   {
    "duration": 49,
    "start_time": "2022-06-25T12:42:56.880Z"
   },
   {
    "duration": 9,
    "start_time": "2022-06-25T12:42:56.931Z"
   },
   {
    "duration": 13,
    "start_time": "2022-06-25T12:42:56.942Z"
   },
   {
    "duration": 11,
    "start_time": "2022-06-25T12:45:57.858Z"
   },
   {
    "duration": 14,
    "start_time": "2022-06-25T12:46:21.678Z"
   },
   {
    "duration": 105,
    "start_time": "2022-06-25T12:47:20.765Z"
   },
   {
    "duration": 1024,
    "start_time": "2022-06-25T12:47:28.961Z"
   },
   {
    "duration": 433,
    "start_time": "2022-06-25T12:47:29.987Z"
   },
   {
    "duration": 30,
    "start_time": "2022-06-25T12:47:30.422Z"
   },
   {
    "duration": 30,
    "start_time": "2022-06-25T12:47:30.454Z"
   },
   {
    "duration": 43,
    "start_time": "2022-06-25T12:47:30.486Z"
   },
   {
    "duration": 12,
    "start_time": "2022-06-25T12:47:30.530Z"
   },
   {
    "duration": 26,
    "start_time": "2022-06-25T12:47:30.544Z"
   },
   {
    "duration": 94,
    "start_time": "2022-06-25T12:47:30.572Z"
   },
   {
    "duration": 4,
    "start_time": "2022-06-25T12:47:30.668Z"
   },
   {
    "duration": 18,
    "start_time": "2022-06-25T12:47:30.674Z"
   },
   {
    "duration": 11,
    "start_time": "2022-06-25T12:47:30.693Z"
   },
   {
    "duration": 54,
    "start_time": "2022-06-25T12:47:30.725Z"
   },
   {
    "duration": 5,
    "start_time": "2022-06-25T12:47:30.780Z"
   },
   {
    "duration": 129,
    "start_time": "2022-06-25T12:47:30.787Z"
   },
   {
    "duration": 51,
    "start_time": "2022-06-25T12:47:30.917Z"
   },
   {
    "duration": 31,
    "start_time": "2022-06-25T12:47:30.969Z"
   },
   {
    "duration": 58,
    "start_time": "2022-06-25T12:47:31.002Z"
   },
   {
    "duration": 23,
    "start_time": "2022-06-25T12:47:31.062Z"
   },
   {
    "duration": 24,
    "start_time": "2022-06-25T12:47:31.087Z"
   },
   {
    "duration": 31,
    "start_time": "2022-06-25T12:47:31.114Z"
   },
   {
    "duration": 28,
    "start_time": "2022-06-25T12:47:31.148Z"
   },
   {
    "duration": 1207,
    "start_time": "2022-06-25T12:50:54.360Z"
   },
   {
    "duration": 9,
    "start_time": "2022-06-25T12:51:04.909Z"
   },
   {
    "duration": 22,
    "start_time": "2022-06-25T12:51:17.984Z"
   },
   {
    "duration": 6,
    "start_time": "2022-06-25T12:59:39.949Z"
   },
   {
    "duration": 130,
    "start_time": "2022-06-25T12:59:41.953Z"
   },
   {
    "duration": 23,
    "start_time": "2022-06-25T12:59:51.712Z"
   },
   {
    "duration": 4,
    "start_time": "2022-06-25T13:01:02.236Z"
   },
   {
    "duration": 174,
    "start_time": "2022-06-25T13:04:39.073Z"
   },
   {
    "duration": 1556,
    "start_time": "2022-06-25T13:34:48.491Z"
   },
   {
    "duration": 639,
    "start_time": "2022-06-25T13:34:50.050Z"
   },
   {
    "duration": 52,
    "start_time": "2022-06-25T13:34:50.691Z"
   },
   {
    "duration": 52,
    "start_time": "2022-06-25T13:34:50.745Z"
   },
   {
    "duration": 63,
    "start_time": "2022-06-25T13:34:50.804Z"
   },
   {
    "duration": 63,
    "start_time": "2022-06-25T13:34:50.883Z"
   },
   {
    "duration": 77,
    "start_time": "2022-06-25T13:34:50.954Z"
   },
   {
    "duration": 226,
    "start_time": "2022-06-25T13:34:51.039Z"
   },
   {
    "duration": 10,
    "start_time": "2022-06-25T13:34:51.273Z"
   },
   {
    "duration": 124,
    "start_time": "2022-06-25T13:34:51.291Z"
   },
   {
    "duration": 58,
    "start_time": "2022-06-25T13:34:51.423Z"
   },
   {
    "duration": 147,
    "start_time": "2022-06-25T13:34:51.497Z"
   },
   {
    "duration": 21,
    "start_time": "2022-06-25T13:34:51.651Z"
   },
   {
    "duration": 222,
    "start_time": "2022-06-25T13:34:51.688Z"
   },
   {
    "duration": 62,
    "start_time": "2022-06-25T13:34:51.913Z"
   },
   {
    "duration": 83,
    "start_time": "2022-06-25T13:34:51.977Z"
   },
   {
    "duration": 111,
    "start_time": "2022-06-25T13:34:52.062Z"
   },
   {
    "duration": 56,
    "start_time": "2022-06-25T13:34:52.175Z"
   },
   {
    "duration": 31,
    "start_time": "2022-06-25T13:34:52.233Z"
   },
   {
    "duration": 86,
    "start_time": "2022-06-25T13:34:52.266Z"
   },
   {
    "duration": 98,
    "start_time": "2022-06-25T13:34:52.354Z"
   },
   {
    "duration": 47,
    "start_time": "2022-06-25T13:34:52.459Z"
   },
   {
    "duration": 211,
    "start_time": "2022-06-25T13:34:52.514Z"
   },
   {
    "duration": 68,
    "start_time": "2022-06-25T13:34:52.737Z"
   },
   {
    "duration": 231,
    "start_time": "2022-06-25T13:34:52.807Z"
   },
   {
    "duration": 191,
    "start_time": "2022-06-25T13:44:20.525Z"
   },
   {
    "duration": 16,
    "start_time": "2022-06-25T13:46:10.173Z"
   },
   {
    "duration": 13,
    "start_time": "2022-06-25T13:47:18.073Z"
   },
   {
    "duration": 19,
    "start_time": "2022-06-25T13:47:40.540Z"
   },
   {
    "duration": 17,
    "start_time": "2022-06-25T13:49:53.049Z"
   },
   {
    "duration": 9,
    "start_time": "2022-06-25T13:52:48.738Z"
   },
   {
    "duration": 9,
    "start_time": "2022-06-25T13:53:02.174Z"
   },
   {
    "duration": 68,
    "start_time": "2022-06-25T13:53:13.612Z"
   },
   {
    "duration": 54,
    "start_time": "2022-06-25T13:53:31.769Z"
   },
   {
    "duration": 48,
    "start_time": "2022-06-25T13:53:53.772Z"
   },
   {
    "duration": 55,
    "start_time": "2022-06-25T13:54:01.247Z"
   },
   {
    "duration": 1224,
    "start_time": "2022-06-25T13:55:01.698Z"
   },
   {
    "duration": 536,
    "start_time": "2022-06-25T13:55:02.924Z"
   },
   {
    "duration": 35,
    "start_time": "2022-06-25T13:55:03.462Z"
   },
   {
    "duration": 26,
    "start_time": "2022-06-25T13:55:03.499Z"
   },
   {
    "duration": 35,
    "start_time": "2022-06-25T13:55:03.531Z"
   },
   {
    "duration": 12,
    "start_time": "2022-06-25T13:55:03.568Z"
   },
   {
    "duration": 15,
    "start_time": "2022-06-25T13:55:03.582Z"
   },
   {
    "duration": 128,
    "start_time": "2022-06-25T13:55:03.599Z"
   },
   {
    "duration": 4,
    "start_time": "2022-06-25T13:55:03.733Z"
   },
   {
    "duration": 33,
    "start_time": "2022-06-25T13:55:03.739Z"
   },
   {
    "duration": 13,
    "start_time": "2022-06-25T13:55:03.773Z"
   },
   {
    "duration": 74,
    "start_time": "2022-06-25T13:55:03.787Z"
   },
   {
    "duration": 4,
    "start_time": "2022-06-25T13:55:03.863Z"
   },
   {
    "duration": 132,
    "start_time": "2022-06-25T13:55:03.870Z"
   },
   {
    "duration": 63,
    "start_time": "2022-06-25T13:55:04.004Z"
   },
   {
    "duration": 33,
    "start_time": "2022-06-25T13:55:04.068Z"
   },
   {
    "duration": 65,
    "start_time": "2022-06-25T13:55:04.103Z"
   },
   {
    "duration": 25,
    "start_time": "2022-06-25T13:55:04.170Z"
   },
   {
    "duration": 33,
    "start_time": "2022-06-25T13:55:04.196Z"
   },
   {
    "duration": 53,
    "start_time": "2022-06-25T13:55:04.231Z"
   },
   {
    "duration": 6,
    "start_time": "2022-06-25T13:55:04.286Z"
   },
   {
    "duration": 19,
    "start_time": "2022-06-25T13:55:04.293Z"
   },
   {
    "duration": 99,
    "start_time": "2022-06-25T13:55:04.314Z"
   },
   {
    "duration": 34,
    "start_time": "2022-06-25T13:55:04.415Z"
   },
   {
    "duration": 212,
    "start_time": "2022-06-25T13:55:04.451Z"
   },
   {
    "duration": 22,
    "start_time": "2022-06-25T13:55:04.665Z"
   },
   {
    "duration": 55,
    "start_time": "2022-06-25T13:55:04.689Z"
   },
   {
    "duration": 62,
    "start_time": "2022-06-25T13:56:07.285Z"
   },
   {
    "duration": 16,
    "start_time": "2022-06-25T13:59:53.893Z"
   },
   {
    "duration": 17,
    "start_time": "2022-06-25T14:04:04.782Z"
   },
   {
    "duration": 1180,
    "start_time": "2022-06-25T14:05:42.412Z"
   },
   {
    "duration": 453,
    "start_time": "2022-06-25T14:05:43.594Z"
   },
   {
    "duration": 30,
    "start_time": "2022-06-25T14:05:44.049Z"
   },
   {
    "duration": 25,
    "start_time": "2022-06-25T14:05:44.080Z"
   },
   {
    "duration": 37,
    "start_time": "2022-06-25T14:05:44.107Z"
   },
   {
    "duration": 15,
    "start_time": "2022-06-25T14:05:44.147Z"
   },
   {
    "duration": 17,
    "start_time": "2022-06-25T14:05:44.164Z"
   },
   {
    "duration": 117,
    "start_time": "2022-06-25T14:05:44.183Z"
   },
   {
    "duration": 4,
    "start_time": "2022-06-25T14:05:44.302Z"
   },
   {
    "duration": 30,
    "start_time": "2022-06-25T14:05:44.307Z"
   },
   {
    "duration": 20,
    "start_time": "2022-06-25T14:05:44.339Z"
   },
   {
    "duration": 94,
    "start_time": "2022-06-25T14:05:44.361Z"
   },
   {
    "duration": 5,
    "start_time": "2022-06-25T14:05:44.457Z"
   },
   {
    "duration": 156,
    "start_time": "2022-06-25T14:05:44.466Z"
   },
   {
    "duration": 61,
    "start_time": "2022-06-25T14:05:44.630Z"
   },
   {
    "duration": 54,
    "start_time": "2022-06-25T14:05:44.694Z"
   },
   {
    "duration": 43,
    "start_time": "2022-06-25T14:05:44.750Z"
   },
   {
    "duration": 50,
    "start_time": "2022-06-25T14:05:44.795Z"
   },
   {
    "duration": 7,
    "start_time": "2022-06-25T14:05:44.847Z"
   },
   {
    "duration": 18,
    "start_time": "2022-06-25T14:05:44.856Z"
   },
   {
    "duration": 6,
    "start_time": "2022-06-25T14:05:44.875Z"
   },
   {
    "duration": 5,
    "start_time": "2022-06-25T14:05:44.883Z"
   },
   {
    "duration": 99,
    "start_time": "2022-06-25T14:05:44.890Z"
   },
   {
    "duration": 21,
    "start_time": "2022-06-25T14:05:44.991Z"
   },
   {
    "duration": 174,
    "start_time": "2022-06-25T14:05:45.027Z"
   },
   {
    "duration": 37,
    "start_time": "2022-06-25T14:05:45.204Z"
   },
   {
    "duration": 38,
    "start_time": "2022-06-25T14:05:45.243Z"
   },
   {
    "duration": 16,
    "start_time": "2022-06-25T14:05:45.282Z"
   },
   {
    "duration": 94,
    "start_time": "2022-06-25T14:05:45.300Z"
   },
   {
    "duration": 0,
    "start_time": "2022-06-25T14:05:45.395Z"
   },
   {
    "duration": 0,
    "start_time": "2022-06-25T14:05:45.397Z"
   },
   {
    "duration": 1212,
    "start_time": "2022-06-25T14:06:00.673Z"
   },
   {
    "duration": 489,
    "start_time": "2022-06-25T14:06:01.887Z"
   },
   {
    "duration": 30,
    "start_time": "2022-06-25T14:06:02.378Z"
   },
   {
    "duration": 30,
    "start_time": "2022-06-25T14:06:02.410Z"
   },
   {
    "duration": 21,
    "start_time": "2022-06-25T14:06:02.442Z"
   },
   {
    "duration": 19,
    "start_time": "2022-06-25T14:06:02.465Z"
   },
   {
    "duration": 23,
    "start_time": "2022-06-25T14:06:02.485Z"
   },
   {
    "duration": 106,
    "start_time": "2022-06-25T14:06:02.510Z"
   },
   {
    "duration": 10,
    "start_time": "2022-06-25T14:06:02.617Z"
   },
   {
    "duration": 25,
    "start_time": "2022-06-25T14:06:02.632Z"
   },
   {
    "duration": 14,
    "start_time": "2022-06-25T14:06:02.659Z"
   },
   {
    "duration": 70,
    "start_time": "2022-06-25T14:06:02.675Z"
   },
   {
    "duration": 5,
    "start_time": "2022-06-25T14:06:02.747Z"
   },
   {
    "duration": 127,
    "start_time": "2022-06-25T14:06:02.755Z"
   },
   {
    "duration": 66,
    "start_time": "2022-06-25T14:06:02.884Z"
   },
   {
    "duration": 32,
    "start_time": "2022-06-25T14:06:02.952Z"
   },
   {
    "duration": 57,
    "start_time": "2022-06-25T14:06:02.985Z"
   },
   {
    "duration": 22,
    "start_time": "2022-06-25T14:06:03.044Z"
   },
   {
    "duration": 17,
    "start_time": "2022-06-25T14:06:03.067Z"
   },
   {
    "duration": 18,
    "start_time": "2022-06-25T14:06:03.085Z"
   },
   {
    "duration": 33,
    "start_time": "2022-06-25T14:06:03.104Z"
   },
   {
    "duration": 7,
    "start_time": "2022-06-25T14:06:03.143Z"
   },
   {
    "duration": 108,
    "start_time": "2022-06-25T14:06:03.152Z"
   },
   {
    "duration": 20,
    "start_time": "2022-06-25T14:06:03.262Z"
   },
   {
    "duration": 183,
    "start_time": "2022-06-25T14:06:03.284Z"
   },
   {
    "duration": 18,
    "start_time": "2022-06-25T14:06:03.468Z"
   },
   {
    "duration": 59,
    "start_time": "2022-06-25T14:06:03.488Z"
   },
   {
    "duration": 25,
    "start_time": "2022-06-25T14:06:03.549Z"
   },
   {
    "duration": 30,
    "start_time": "2022-06-25T14:06:03.576Z"
   },
   {
    "duration": 111,
    "start_time": "2022-06-25T14:08:31.882Z"
   },
   {
    "duration": 69,
    "start_time": "2022-06-25T14:08:47.638Z"
   },
   {
    "duration": 79,
    "start_time": "2022-06-25T14:09:12.901Z"
   },
   {
    "duration": 399,
    "start_time": "2022-06-25T14:14:10.395Z"
   },
   {
    "duration": 318,
    "start_time": "2022-06-25T14:14:42.169Z"
   },
   {
    "duration": 359,
    "start_time": "2022-06-25T14:15:42.125Z"
   },
   {
    "duration": 1351,
    "start_time": "2022-06-25T14:15:52.462Z"
   },
   {
    "duration": 591,
    "start_time": "2022-06-25T14:15:53.815Z"
   },
   {
    "duration": 56,
    "start_time": "2022-06-25T14:15:54.409Z"
   },
   {
    "duration": 69,
    "start_time": "2022-06-25T14:15:54.467Z"
   },
   {
    "duration": 57,
    "start_time": "2022-06-25T14:15:54.539Z"
   },
   {
    "duration": 29,
    "start_time": "2022-06-25T14:15:54.598Z"
   },
   {
    "duration": 47,
    "start_time": "2022-06-25T14:15:54.634Z"
   },
   {
    "duration": 137,
    "start_time": "2022-06-25T14:15:54.683Z"
   },
   {
    "duration": 8,
    "start_time": "2022-06-25T14:15:54.823Z"
   },
   {
    "duration": 65,
    "start_time": "2022-06-25T14:15:54.833Z"
   },
   {
    "duration": 50,
    "start_time": "2022-06-25T14:15:54.900Z"
   },
   {
    "duration": 124,
    "start_time": "2022-06-25T14:15:54.962Z"
   },
   {
    "duration": 10,
    "start_time": "2022-06-25T14:15:55.089Z"
   },
   {
    "duration": 165,
    "start_time": "2022-06-25T14:15:55.103Z"
   },
   {
    "duration": 46,
    "start_time": "2022-06-25T14:15:55.272Z"
   },
   {
    "duration": 50,
    "start_time": "2022-06-25T14:15:55.320Z"
   },
   {
    "duration": 60,
    "start_time": "2022-06-25T14:15:55.371Z"
   },
   {
    "duration": 35,
    "start_time": "2022-06-25T14:15:55.433Z"
   },
   {
    "duration": 6,
    "start_time": "2022-06-25T14:15:55.470Z"
   },
   {
    "duration": 16,
    "start_time": "2022-06-25T14:15:55.477Z"
   },
   {
    "duration": 32,
    "start_time": "2022-06-25T14:15:55.495Z"
   },
   {
    "duration": 5,
    "start_time": "2022-06-25T14:15:55.529Z"
   },
   {
    "duration": 94,
    "start_time": "2022-06-25T14:15:55.536Z"
   },
   {
    "duration": 29,
    "start_time": "2022-06-25T14:15:55.632Z"
   },
   {
    "duration": 182,
    "start_time": "2022-06-25T14:15:55.663Z"
   },
   {
    "duration": 113,
    "start_time": "2022-06-25T14:15:55.847Z"
   },
   {
    "duration": 16,
    "start_time": "2022-06-25T14:15:55.961Z"
   },
   {
    "duration": 20,
    "start_time": "2022-06-25T14:15:55.979Z"
   },
   {
    "duration": 36,
    "start_time": "2022-06-25T14:15:56.001Z"
   },
   {
    "duration": 24,
    "start_time": "2022-06-25T14:15:56.043Z"
   },
   {
    "duration": 1089,
    "start_time": "2022-06-25T14:15:56.069Z"
   },
   {
    "duration": 1590,
    "start_time": "2022-06-25T14:19:38.500Z"
   },
   {
    "duration": 421,
    "start_time": "2022-06-25T14:19:54.018Z"
   },
   {
    "duration": 345,
    "start_time": "2022-06-25T14:20:24.775Z"
   },
   {
    "duration": 322,
    "start_time": "2022-06-25T14:21:31.655Z"
   },
   {
    "duration": 291,
    "start_time": "2022-06-25T14:21:46.456Z"
   },
   {
    "duration": 199,
    "start_time": "2022-06-25T14:21:53.555Z"
   },
   {
    "duration": 250,
    "start_time": "2022-06-25T14:21:58.511Z"
   },
   {
    "duration": 263,
    "start_time": "2022-06-25T14:22:07.950Z"
   },
   {
    "duration": 1133,
    "start_time": "2022-06-25T14:32:17.073Z"
   },
   {
    "duration": 383,
    "start_time": "2022-06-25T14:32:27.417Z"
   },
   {
    "duration": 9,
    "start_time": "2022-06-25T14:32:50.090Z"
   },
   {
    "duration": 51,
    "start_time": "2022-06-25T14:34:04.243Z"
   },
   {
    "duration": 352,
    "start_time": "2022-06-25T14:37:36.392Z"
   },
   {
    "duration": 190,
    "start_time": "2022-06-25T14:37:46.423Z"
   },
   {
    "duration": 243,
    "start_time": "2022-06-25T14:38:28.722Z"
   },
   {
    "duration": 334,
    "start_time": "2022-06-25T14:38:35.078Z"
   },
   {
    "duration": 218,
    "start_time": "2022-06-25T14:38:42.528Z"
   },
   {
    "duration": 13,
    "start_time": "2022-06-25T14:44:15.896Z"
   },
   {
    "duration": 29,
    "start_time": "2022-06-25T14:44:56.386Z"
   },
   {
    "duration": 418,
    "start_time": "2022-06-25T14:45:54.021Z"
   },
   {
    "duration": 419,
    "start_time": "2022-06-25T14:46:43.116Z"
   },
   {
    "duration": 299,
    "start_time": "2022-06-25T14:46:52.498Z"
   },
   {
    "duration": 341,
    "start_time": "2022-06-25T14:46:58.656Z"
   },
   {
    "duration": 330,
    "start_time": "2022-06-25T14:47:02.951Z"
   },
   {
    "duration": 254,
    "start_time": "2022-06-25T14:48:08.651Z"
   },
   {
    "duration": 338,
    "start_time": "2022-06-25T14:48:23.083Z"
   },
   {
    "duration": 358,
    "start_time": "2022-06-25T14:48:25.449Z"
   },
   {
    "duration": 241,
    "start_time": "2022-06-25T14:49:17.174Z"
   },
   {
    "duration": 28,
    "start_time": "2022-06-25T14:52:38.102Z"
   },
   {
    "duration": 11,
    "start_time": "2022-06-25T14:54:33.761Z"
   },
   {
    "duration": 52,
    "start_time": "2022-06-25T14:57:33.355Z"
   },
   {
    "duration": 10,
    "start_time": "2022-06-25T15:22:52.010Z"
   },
   {
    "duration": 959,
    "start_time": "2022-06-25T15:23:22.564Z"
   },
   {
    "duration": 15,
    "start_time": "2022-06-25T15:26:40.250Z"
   },
   {
    "duration": 6,
    "start_time": "2022-06-25T15:27:46.668Z"
   },
   {
    "duration": 25,
    "start_time": "2022-06-25T15:31:01.451Z"
   },
   {
    "duration": 12,
    "start_time": "2022-06-25T15:31:18.857Z"
   },
   {
    "duration": 12,
    "start_time": "2022-06-25T15:31:32.582Z"
   },
   {
    "duration": 12,
    "start_time": "2022-06-25T15:33:37.217Z"
   },
   {
    "duration": 1133,
    "start_time": "2022-06-25T16:39:47.747Z"
   },
   {
    "duration": 429,
    "start_time": "2022-06-25T16:39:48.882Z"
   },
   {
    "duration": 39,
    "start_time": "2022-06-25T16:39:49.313Z"
   },
   {
    "duration": 23,
    "start_time": "2022-06-25T16:39:49.354Z"
   },
   {
    "duration": 20,
    "start_time": "2022-06-25T16:39:49.378Z"
   },
   {
    "duration": 43,
    "start_time": "2022-06-25T16:39:49.399Z"
   },
   {
    "duration": 16,
    "start_time": "2022-06-25T16:39:49.444Z"
   },
   {
    "duration": 101,
    "start_time": "2022-06-25T16:39:49.461Z"
   },
   {
    "duration": 4,
    "start_time": "2022-06-25T16:39:49.563Z"
   },
   {
    "duration": 10,
    "start_time": "2022-06-25T16:39:49.570Z"
   },
   {
    "duration": 13,
    "start_time": "2022-06-25T16:39:49.582Z"
   },
   {
    "duration": 88,
    "start_time": "2022-06-25T16:39:49.597Z"
   },
   {
    "duration": 4,
    "start_time": "2022-06-25T16:39:49.686Z"
   },
   {
    "duration": 151,
    "start_time": "2022-06-25T16:39:49.691Z"
   },
   {
    "duration": 47,
    "start_time": "2022-06-25T16:39:49.843Z"
   },
   {
    "duration": 54,
    "start_time": "2022-06-25T16:39:49.892Z"
   },
   {
    "duration": 36,
    "start_time": "2022-06-25T16:39:49.947Z"
   },
   {
    "duration": 23,
    "start_time": "2022-06-25T16:39:49.984Z"
   },
   {
    "duration": 7,
    "start_time": "2022-06-25T16:39:50.027Z"
   },
   {
    "duration": 29,
    "start_time": "2022-06-25T16:39:50.036Z"
   },
   {
    "duration": 6,
    "start_time": "2022-06-25T16:39:50.066Z"
   },
   {
    "duration": 8,
    "start_time": "2022-06-25T16:39:50.074Z"
   },
   {
    "duration": 88,
    "start_time": "2022-06-25T16:39:50.084Z"
   },
   {
    "duration": 20,
    "start_time": "2022-06-25T16:39:50.177Z"
   },
   {
    "duration": 184,
    "start_time": "2022-06-25T16:39:50.198Z"
   },
   {
    "duration": 87,
    "start_time": "2022-06-25T16:39:50.384Z"
   },
   {
    "duration": 16,
    "start_time": "2022-06-25T16:39:50.473Z"
   },
   {
    "duration": 46,
    "start_time": "2022-06-25T16:39:50.492Z"
   },
   {
    "duration": 15,
    "start_time": "2022-06-25T16:39:50.540Z"
   },
   {
    "duration": 20,
    "start_time": "2022-06-25T16:39:50.557Z"
   },
   {
    "duration": 59,
    "start_time": "2022-06-25T16:39:50.579Z"
   },
   {
    "duration": 222,
    "start_time": "2022-06-25T16:39:50.640Z"
   },
   {
    "duration": 222,
    "start_time": "2022-06-25T16:39:50.863Z"
   },
   {
    "duration": 264,
    "start_time": "2022-06-25T16:39:51.087Z"
   },
   {
    "duration": 6,
    "start_time": "2022-06-25T16:39:51.352Z"
   },
   {
    "duration": 28,
    "start_time": "2022-06-25T16:39:51.359Z"
   },
   {
    "duration": 6,
    "start_time": "2022-06-25T16:58:38.712Z"
   },
   {
    "duration": 5,
    "start_time": "2022-06-25T16:58:59.920Z"
   },
   {
    "duration": 12,
    "start_time": "2022-06-25T17:00:48.910Z"
   },
   {
    "duration": 1184,
    "start_time": "2022-06-25T17:04:23.298Z"
   },
   {
    "duration": 516,
    "start_time": "2022-06-25T17:04:24.487Z"
   },
   {
    "duration": 33,
    "start_time": "2022-06-25T17:04:25.004Z"
   },
   {
    "duration": 37,
    "start_time": "2022-06-25T17:04:25.039Z"
   },
   {
    "duration": 23,
    "start_time": "2022-06-25T17:04:25.079Z"
   },
   {
    "duration": 35,
    "start_time": "2022-06-25T17:04:25.105Z"
   },
   {
    "duration": 19,
    "start_time": "2022-06-25T17:04:25.142Z"
   },
   {
    "duration": 107,
    "start_time": "2022-06-25T17:04:25.163Z"
   },
   {
    "duration": 4,
    "start_time": "2022-06-25T17:04:25.272Z"
   },
   {
    "duration": 15,
    "start_time": "2022-06-25T17:04:25.277Z"
   },
   {
    "duration": 12,
    "start_time": "2022-06-25T17:04:25.293Z"
   },
   {
    "duration": 82,
    "start_time": "2022-06-25T17:04:25.307Z"
   },
   {
    "duration": 3,
    "start_time": "2022-06-25T17:04:25.391Z"
   },
   {
    "duration": 143,
    "start_time": "2022-06-25T17:04:25.397Z"
   },
   {
    "duration": 48,
    "start_time": "2022-06-25T17:04:25.542Z"
   },
   {
    "duration": 42,
    "start_time": "2022-06-25T17:04:25.591Z"
   },
   {
    "duration": 40,
    "start_time": "2022-06-25T17:04:25.637Z"
   },
   {
    "duration": 21,
    "start_time": "2022-06-25T17:04:25.679Z"
   },
   {
    "duration": 38,
    "start_time": "2022-06-25T17:04:25.702Z"
   },
   {
    "duration": 19,
    "start_time": "2022-06-25T17:04:25.741Z"
   },
   {
    "duration": 6,
    "start_time": "2022-06-25T17:04:25.761Z"
   },
   {
    "duration": 5,
    "start_time": "2022-06-25T17:04:25.769Z"
   },
   {
    "duration": 87,
    "start_time": "2022-06-25T17:04:25.776Z"
   },
   {
    "duration": 19,
    "start_time": "2022-06-25T17:04:25.864Z"
   },
   {
    "duration": 177,
    "start_time": "2022-06-25T17:04:25.884Z"
   },
   {
    "duration": 91,
    "start_time": "2022-06-25T17:04:26.063Z"
   },
   {
    "duration": 16,
    "start_time": "2022-06-25T17:04:26.156Z"
   },
   {
    "duration": 16,
    "start_time": "2022-06-25T17:04:26.173Z"
   },
   {
    "duration": 51,
    "start_time": "2022-06-25T17:04:26.191Z"
   },
   {
    "duration": 17,
    "start_time": "2022-06-25T17:04:26.244Z"
   },
   {
    "duration": 14,
    "start_time": "2022-06-25T17:04:26.263Z"
   },
   {
    "duration": 273,
    "start_time": "2022-06-25T17:04:26.279Z"
   },
   {
    "duration": 223,
    "start_time": "2022-06-25T17:04:26.554Z"
   },
   {
    "duration": 237,
    "start_time": "2022-06-25T17:04:26.779Z"
   },
   {
    "duration": 17,
    "start_time": "2022-06-25T17:04:27.018Z"
   },
   {
    "duration": 12,
    "start_time": "2022-06-25T17:04:27.038Z"
   },
   {
    "duration": 11,
    "start_time": "2022-06-25T17:04:27.051Z"
   },
   {
    "duration": 11,
    "start_time": "2022-06-25T17:04:27.064Z"
   },
   {
    "duration": 1009,
    "start_time": "2022-06-26T06:48:37.879Z"
   },
   {
    "duration": 931,
    "start_time": "2022-06-26T06:48:38.890Z"
   },
   {
    "duration": 24,
    "start_time": "2022-06-26T06:48:39.822Z"
   },
   {
    "duration": 25,
    "start_time": "2022-06-26T06:48:39.848Z"
   },
   {
    "duration": 16,
    "start_time": "2022-06-26T06:48:39.875Z"
   },
   {
    "duration": 10,
    "start_time": "2022-06-26T06:48:39.892Z"
   },
   {
    "duration": 14,
    "start_time": "2022-06-26T06:48:39.904Z"
   },
   {
    "duration": 96,
    "start_time": "2022-06-26T06:48:39.919Z"
   },
   {
    "duration": 3,
    "start_time": "2022-06-26T06:48:40.016Z"
   },
   {
    "duration": 7,
    "start_time": "2022-06-26T06:48:40.022Z"
   },
   {
    "duration": 25,
    "start_time": "2022-06-26T06:48:40.031Z"
   },
   {
    "duration": 49,
    "start_time": "2022-06-26T06:48:40.057Z"
   },
   {
    "duration": 3,
    "start_time": "2022-06-26T06:48:40.107Z"
   },
   {
    "duration": 107,
    "start_time": "2022-06-26T06:48:40.111Z"
   },
   {
    "duration": 50,
    "start_time": "2022-06-26T06:48:40.220Z"
   },
   {
    "duration": 26,
    "start_time": "2022-06-26T06:48:40.272Z"
   },
   {
    "duration": 30,
    "start_time": "2022-06-26T06:48:40.300Z"
   },
   {
    "duration": 40,
    "start_time": "2022-06-26T06:48:40.332Z"
   },
   {
    "duration": 5,
    "start_time": "2022-06-26T06:48:40.373Z"
   },
   {
    "duration": 13,
    "start_time": "2022-06-26T06:48:40.379Z"
   },
   {
    "duration": 5,
    "start_time": "2022-06-26T06:48:40.393Z"
   },
   {
    "duration": 4,
    "start_time": "2022-06-26T06:48:40.399Z"
   },
   {
    "duration": 74,
    "start_time": "2022-06-26T06:48:40.405Z"
   },
   {
    "duration": 14,
    "start_time": "2022-06-26T06:48:40.481Z"
   },
   {
    "duration": 136,
    "start_time": "2022-06-26T06:48:40.496Z"
   },
   {
    "duration": 76,
    "start_time": "2022-06-26T06:48:40.633Z"
   },
   {
    "duration": 12,
    "start_time": "2022-06-26T06:48:40.711Z"
   },
   {
    "duration": 12,
    "start_time": "2022-06-26T06:48:40.726Z"
   },
   {
    "duration": 21,
    "start_time": "2022-06-26T06:48:40.739Z"
   },
   {
    "duration": 13,
    "start_time": "2022-06-26T06:48:40.762Z"
   },
   {
    "duration": 8,
    "start_time": "2022-06-26T06:48:40.776Z"
   },
   {
    "duration": 215,
    "start_time": "2022-06-26T06:48:40.785Z"
   },
   {
    "duration": 194,
    "start_time": "2022-06-26T06:48:41.002Z"
   },
   {
    "duration": 192,
    "start_time": "2022-06-26T06:48:41.198Z"
   },
   {
    "duration": 5,
    "start_time": "2022-06-26T06:48:41.392Z"
   },
   {
    "duration": 5,
    "start_time": "2022-06-26T06:48:41.398Z"
   },
   {
    "duration": 9,
    "start_time": "2022-06-26T06:48:41.405Z"
   },
   {
    "duration": 9,
    "start_time": "2022-06-26T06:48:41.415Z"
   },
   {
    "duration": 28,
    "start_time": "2022-06-26T06:59:32.343Z"
   },
   {
    "duration": 6,
    "start_time": "2022-06-26T07:03:15.218Z"
   },
   {
    "duration": 1018,
    "start_time": "2022-06-26T07:11:48.285Z"
   },
   {
    "duration": 369,
    "start_time": "2022-06-26T07:11:49.305Z"
   },
   {
    "duration": 23,
    "start_time": "2022-06-26T07:11:49.676Z"
   },
   {
    "duration": 30,
    "start_time": "2022-06-26T07:11:49.701Z"
   },
   {
    "duration": 16,
    "start_time": "2022-06-26T07:11:49.733Z"
   },
   {
    "duration": 22,
    "start_time": "2022-06-26T07:11:49.751Z"
   },
   {
    "duration": 20,
    "start_time": "2022-06-26T07:11:49.774Z"
   },
   {
    "duration": 70,
    "start_time": "2022-06-26T07:11:49.796Z"
   },
   {
    "duration": 3,
    "start_time": "2022-06-26T07:11:49.868Z"
   },
   {
    "duration": 25,
    "start_time": "2022-06-26T07:11:49.873Z"
   },
   {
    "duration": 14,
    "start_time": "2022-06-26T07:11:49.899Z"
   },
   {
    "duration": 67,
    "start_time": "2022-06-26T07:11:49.914Z"
   },
   {
    "duration": 3,
    "start_time": "2022-06-26T07:11:49.982Z"
   },
   {
    "duration": 92,
    "start_time": "2022-06-26T07:11:49.987Z"
   },
   {
    "duration": 40,
    "start_time": "2022-06-26T07:11:50.080Z"
   },
   {
    "duration": 40,
    "start_time": "2022-06-26T07:11:50.121Z"
   },
   {
    "duration": 31,
    "start_time": "2022-06-26T07:11:50.162Z"
   },
   {
    "duration": 21,
    "start_time": "2022-06-26T07:11:50.195Z"
   },
   {
    "duration": 5,
    "start_time": "2022-06-26T07:11:50.218Z"
   },
   {
    "duration": 34,
    "start_time": "2022-06-26T07:11:50.225Z"
   },
   {
    "duration": 6,
    "start_time": "2022-06-26T07:11:50.261Z"
   },
   {
    "duration": 6,
    "start_time": "2022-06-26T07:11:50.269Z"
   },
   {
    "duration": 61,
    "start_time": "2022-06-26T07:11:50.276Z"
   },
   {
    "duration": 24,
    "start_time": "2022-06-26T07:11:50.339Z"
   },
   {
    "duration": 135,
    "start_time": "2022-06-26T07:11:50.365Z"
   },
   {
    "duration": 69,
    "start_time": "2022-06-26T07:11:50.502Z"
   },
   {
    "duration": 15,
    "start_time": "2022-06-26T07:11:50.572Z"
   },
   {
    "duration": 12,
    "start_time": "2022-06-26T07:11:50.590Z"
   },
   {
    "duration": 13,
    "start_time": "2022-06-26T07:11:50.604Z"
   },
   {
    "duration": 38,
    "start_time": "2022-06-26T07:11:50.618Z"
   },
   {
    "duration": 8,
    "start_time": "2022-06-26T07:11:50.658Z"
   },
   {
    "duration": 204,
    "start_time": "2022-06-26T07:11:50.667Z"
   },
   {
    "duration": 180,
    "start_time": "2022-06-26T07:11:50.872Z"
   },
   {
    "duration": 198,
    "start_time": "2022-06-26T07:11:51.054Z"
   },
   {
    "duration": 7,
    "start_time": "2022-06-26T07:11:51.253Z"
   },
   {
    "duration": 7,
    "start_time": "2022-06-26T07:11:51.261Z"
   },
   {
    "duration": 10,
    "start_time": "2022-06-26T07:11:51.269Z"
   },
   {
    "duration": 10,
    "start_time": "2022-06-26T07:11:51.280Z"
   },
   {
    "duration": 62,
    "start_time": "2022-06-26T08:37:03.089Z"
   },
   {
    "duration": 1320,
    "start_time": "2022-06-26T08:37:09.728Z"
   },
   {
    "duration": 1239,
    "start_time": "2022-06-26T08:37:11.050Z"
   },
   {
    "duration": 29,
    "start_time": "2022-06-26T08:37:12.291Z"
   },
   {
    "duration": 23,
    "start_time": "2022-06-26T08:37:12.322Z"
   },
   {
    "duration": 20,
    "start_time": "2022-06-26T08:37:12.347Z"
   },
   {
    "duration": 11,
    "start_time": "2022-06-26T08:37:12.369Z"
   },
   {
    "duration": 12,
    "start_time": "2022-06-26T08:37:12.382Z"
   },
   {
    "duration": 97,
    "start_time": "2022-06-26T08:37:12.396Z"
   },
   {
    "duration": 3,
    "start_time": "2022-06-26T08:37:12.495Z"
   },
   {
    "duration": 9,
    "start_time": "2022-06-26T08:37:12.500Z"
   },
   {
    "duration": 20,
    "start_time": "2022-06-26T08:37:12.510Z"
   },
   {
    "duration": 44,
    "start_time": "2022-06-26T08:37:12.559Z"
   },
   {
    "duration": 3,
    "start_time": "2022-06-26T08:37:12.605Z"
   },
   {
    "duration": 124,
    "start_time": "2022-06-26T08:37:12.610Z"
   },
   {
    "duration": 59,
    "start_time": "2022-06-26T08:37:12.737Z"
   },
   {
    "duration": 28,
    "start_time": "2022-06-26T08:37:12.798Z"
   },
   {
    "duration": 52,
    "start_time": "2022-06-26T08:37:12.828Z"
   },
   {
    "duration": 19,
    "start_time": "2022-06-26T08:37:12.882Z"
   },
   {
    "duration": 6,
    "start_time": "2022-06-26T08:37:12.903Z"
   },
   {
    "duration": 13,
    "start_time": "2022-06-26T08:37:12.911Z"
   },
   {
    "duration": 35,
    "start_time": "2022-06-26T08:37:12.926Z"
   },
   {
    "duration": 10,
    "start_time": "2022-06-26T08:37:12.962Z"
   },
   {
    "duration": 74,
    "start_time": "2022-06-26T08:37:12.974Z"
   },
   {
    "duration": 22,
    "start_time": "2022-06-26T08:37:13.059Z"
   },
   {
    "duration": 172,
    "start_time": "2022-06-26T08:37:13.083Z"
   },
   {
    "duration": 70,
    "start_time": "2022-06-26T08:37:13.257Z"
   },
   {
    "duration": 34,
    "start_time": "2022-06-26T08:37:13.329Z"
   },
   {
    "duration": 14,
    "start_time": "2022-06-26T08:37:13.366Z"
   },
   {
    "duration": 14,
    "start_time": "2022-06-26T08:37:13.382Z"
   },
   {
    "duration": 13,
    "start_time": "2022-06-26T08:37:13.397Z"
   },
   {
    "duration": 8,
    "start_time": "2022-06-26T08:37:13.412Z"
   },
   {
    "duration": 258,
    "start_time": "2022-06-26T08:37:13.421Z"
   },
   {
    "duration": 232,
    "start_time": "2022-06-26T08:37:13.680Z"
   },
   {
    "duration": 225,
    "start_time": "2022-06-26T08:37:13.913Z"
   },
   {
    "duration": 4,
    "start_time": "2022-06-26T08:37:14.140Z"
   },
   {
    "duration": 20,
    "start_time": "2022-06-26T08:37:14.145Z"
   },
   {
    "duration": 15,
    "start_time": "2022-06-26T08:37:14.167Z"
   },
   {
    "duration": 10,
    "start_time": "2022-06-26T08:37:14.183Z"
   },
   {
    "duration": 100,
    "start_time": "2022-06-26T08:43:50.993Z"
   },
   {
    "duration": 10,
    "start_time": "2022-06-26T08:44:05.682Z"
   },
   {
    "duration": 1106,
    "start_time": "2022-06-26T08:44:13.944Z"
   },
   {
    "duration": 399,
    "start_time": "2022-06-26T08:44:15.052Z"
   },
   {
    "duration": 30,
    "start_time": "2022-06-26T08:44:15.453Z"
   },
   {
    "duration": 23,
    "start_time": "2022-06-26T08:44:15.485Z"
   },
   {
    "duration": 25,
    "start_time": "2022-06-26T08:44:15.510Z"
   },
   {
    "duration": 13,
    "start_time": "2022-06-26T08:44:15.558Z"
   },
   {
    "duration": 25,
    "start_time": "2022-06-26T08:44:15.573Z"
   },
   {
    "duration": 92,
    "start_time": "2022-06-26T08:44:15.600Z"
   },
   {
    "duration": 4,
    "start_time": "2022-06-26T08:44:15.693Z"
   },
   {
    "duration": 27,
    "start_time": "2022-06-26T08:44:15.699Z"
   },
   {
    "duration": 115,
    "start_time": "2022-06-26T08:44:15.728Z"
   },
   {
    "duration": 0,
    "start_time": "2022-06-26T08:44:15.845Z"
   },
   {
    "duration": 0,
    "start_time": "2022-06-26T08:44:15.846Z"
   },
   {
    "duration": 0,
    "start_time": "2022-06-26T08:44:15.848Z"
   },
   {
    "duration": 0,
    "start_time": "2022-06-26T08:44:15.849Z"
   },
   {
    "duration": 0,
    "start_time": "2022-06-26T08:44:15.850Z"
   },
   {
    "duration": 0,
    "start_time": "2022-06-26T08:44:15.851Z"
   },
   {
    "duration": 0,
    "start_time": "2022-06-26T08:44:15.852Z"
   },
   {
    "duration": 0,
    "start_time": "2022-06-26T08:44:15.853Z"
   },
   {
    "duration": 0,
    "start_time": "2022-06-26T08:44:15.853Z"
   },
   {
    "duration": 0,
    "start_time": "2022-06-26T08:44:15.859Z"
   },
   {
    "duration": 0,
    "start_time": "2022-06-26T08:44:15.860Z"
   },
   {
    "duration": 0,
    "start_time": "2022-06-26T08:44:15.861Z"
   },
   {
    "duration": 0,
    "start_time": "2022-06-26T08:44:15.863Z"
   },
   {
    "duration": 0,
    "start_time": "2022-06-26T08:44:15.864Z"
   },
   {
    "duration": 0,
    "start_time": "2022-06-26T08:44:15.864Z"
   },
   {
    "duration": 0,
    "start_time": "2022-06-26T08:44:15.865Z"
   },
   {
    "duration": 1,
    "start_time": "2022-06-26T08:44:15.866Z"
   },
   {
    "duration": 0,
    "start_time": "2022-06-26T08:44:15.867Z"
   },
   {
    "duration": 0,
    "start_time": "2022-06-26T08:44:15.868Z"
   },
   {
    "duration": 0,
    "start_time": "2022-06-26T08:44:15.869Z"
   },
   {
    "duration": 0,
    "start_time": "2022-06-26T08:44:15.870Z"
   },
   {
    "duration": 0,
    "start_time": "2022-06-26T08:44:15.871Z"
   },
   {
    "duration": 0,
    "start_time": "2022-06-26T08:44:15.872Z"
   },
   {
    "duration": 0,
    "start_time": "2022-06-26T08:44:15.873Z"
   },
   {
    "duration": 0,
    "start_time": "2022-06-26T08:44:15.875Z"
   },
   {
    "duration": 0,
    "start_time": "2022-06-26T08:44:15.876Z"
   },
   {
    "duration": 0,
    "start_time": "2022-06-26T08:44:15.877Z"
   },
   {
    "duration": 11,
    "start_time": "2022-06-26T08:45:24.225Z"
   },
   {
    "duration": 18,
    "start_time": "2022-06-26T08:45:49.596Z"
   },
   {
    "duration": 19,
    "start_time": "2022-06-26T08:46:11.728Z"
   },
   {
    "duration": 1173,
    "start_time": "2022-06-26T08:46:17.666Z"
   },
   {
    "duration": 404,
    "start_time": "2022-06-26T08:46:18.841Z"
   },
   {
    "duration": 48,
    "start_time": "2022-06-26T08:46:19.247Z"
   },
   {
    "duration": 26,
    "start_time": "2022-06-26T08:46:19.297Z"
   },
   {
    "duration": 37,
    "start_time": "2022-06-26T08:46:19.326Z"
   },
   {
    "duration": 12,
    "start_time": "2022-06-26T08:46:19.364Z"
   },
   {
    "duration": 20,
    "start_time": "2022-06-26T08:46:19.378Z"
   },
   {
    "duration": 132,
    "start_time": "2022-06-26T08:46:19.400Z"
   },
   {
    "duration": 4,
    "start_time": "2022-06-26T08:46:19.533Z"
   },
   {
    "duration": 25,
    "start_time": "2022-06-26T08:46:19.539Z"
   },
   {
    "duration": 22,
    "start_time": "2022-06-26T08:46:19.566Z"
   },
   {
    "duration": 79,
    "start_time": "2022-06-26T08:46:19.590Z"
   },
   {
    "duration": 4,
    "start_time": "2022-06-26T08:46:19.671Z"
   },
   {
    "duration": 122,
    "start_time": "2022-06-26T08:46:19.679Z"
   },
   {
    "duration": 42,
    "start_time": "2022-06-26T08:46:19.802Z"
   },
   {
    "duration": 29,
    "start_time": "2022-06-26T08:46:19.859Z"
   },
   {
    "duration": 34,
    "start_time": "2022-06-26T08:46:19.889Z"
   },
   {
    "duration": 51,
    "start_time": "2022-06-26T08:46:19.924Z"
   },
   {
    "duration": 7,
    "start_time": "2022-06-26T08:46:19.977Z"
   },
   {
    "duration": 14,
    "start_time": "2022-06-26T08:46:19.986Z"
   },
   {
    "duration": 6,
    "start_time": "2022-06-26T08:46:20.001Z"
   },
   {
    "duration": 7,
    "start_time": "2022-06-26T08:46:20.009Z"
   },
   {
    "duration": 98,
    "start_time": "2022-06-26T08:46:20.018Z"
   },
   {
    "duration": 19,
    "start_time": "2022-06-26T08:46:20.117Z"
   },
   {
    "duration": 175,
    "start_time": "2022-06-26T08:46:20.138Z"
   },
   {
    "duration": 83,
    "start_time": "2022-06-26T08:46:20.315Z"
   },
   {
    "duration": 16,
    "start_time": "2022-06-26T08:46:20.400Z"
   },
   {
    "duration": 14,
    "start_time": "2022-06-26T08:46:20.418Z"
   },
   {
    "duration": 16,
    "start_time": "2022-06-26T08:46:20.458Z"
   },
   {
    "duration": 16,
    "start_time": "2022-06-26T08:46:20.475Z"
   },
   {
    "duration": 10,
    "start_time": "2022-06-26T08:46:20.493Z"
   },
   {
    "duration": 251,
    "start_time": "2022-06-26T08:46:20.504Z"
   },
   {
    "duration": 218,
    "start_time": "2022-06-26T08:46:20.759Z"
   },
   {
    "duration": 210,
    "start_time": "2022-06-26T08:46:20.979Z"
   },
   {
    "duration": 5,
    "start_time": "2022-06-26T08:46:21.191Z"
   },
   {
    "duration": 6,
    "start_time": "2022-06-26T08:46:21.198Z"
   },
   {
    "duration": 12,
    "start_time": "2022-06-26T08:46:21.206Z"
   },
   {
    "duration": 10,
    "start_time": "2022-06-26T08:46:21.220Z"
   },
   {
    "duration": 15,
    "start_time": "2022-06-26T08:46:30.765Z"
   },
   {
    "duration": 15,
    "start_time": "2022-06-26T08:46:49.154Z"
   },
   {
    "duration": 1113,
    "start_time": "2022-06-26T08:47:11.975Z"
   },
   {
    "duration": 401,
    "start_time": "2022-06-26T08:47:13.090Z"
   },
   {
    "duration": 30,
    "start_time": "2022-06-26T08:47:13.495Z"
   },
   {
    "duration": 22,
    "start_time": "2022-06-26T08:47:13.526Z"
   },
   {
    "duration": 27,
    "start_time": "2022-06-26T08:47:13.550Z"
   },
   {
    "duration": 13,
    "start_time": "2022-06-26T08:47:13.579Z"
   },
   {
    "duration": 38,
    "start_time": "2022-06-26T08:47:13.593Z"
   },
   {
    "duration": 114,
    "start_time": "2022-06-26T08:47:13.633Z"
   },
   {
    "duration": 5,
    "start_time": "2022-06-26T08:47:13.750Z"
   },
   {
    "duration": 118,
    "start_time": "2022-06-26T08:47:13.756Z"
   },
   {
    "duration": 13,
    "start_time": "2022-06-26T08:47:13.876Z"
   },
   {
    "duration": 92,
    "start_time": "2022-06-26T08:47:13.891Z"
   },
   {
    "duration": 3,
    "start_time": "2022-06-26T08:47:13.985Z"
   },
   {
    "duration": 117,
    "start_time": "2022-06-26T08:47:13.990Z"
   },
   {
    "duration": 62,
    "start_time": "2022-06-26T08:47:14.109Z"
   },
   {
    "duration": 30,
    "start_time": "2022-06-26T08:47:14.173Z"
   },
   {
    "duration": 63,
    "start_time": "2022-06-26T08:47:14.205Z"
   },
   {
    "duration": 26,
    "start_time": "2022-06-26T08:47:14.270Z"
   },
   {
    "duration": 6,
    "start_time": "2022-06-26T08:47:14.298Z"
   },
   {
    "duration": 33,
    "start_time": "2022-06-26T08:47:14.305Z"
   },
   {
    "duration": 21,
    "start_time": "2022-06-26T08:47:14.340Z"
   },
   {
    "duration": 25,
    "start_time": "2022-06-26T08:47:14.363Z"
   },
   {
    "duration": 76,
    "start_time": "2022-06-26T08:47:14.390Z"
   },
   {
    "duration": 18,
    "start_time": "2022-06-26T08:47:14.468Z"
   },
   {
    "duration": 155,
    "start_time": "2022-06-26T08:47:14.487Z"
   },
   {
    "duration": 80,
    "start_time": "2022-06-26T08:47:14.643Z"
   },
   {
    "duration": 34,
    "start_time": "2022-06-26T08:47:14.726Z"
   },
   {
    "duration": 15,
    "start_time": "2022-06-26T08:47:14.762Z"
   },
   {
    "duration": 15,
    "start_time": "2022-06-26T08:47:14.779Z"
   },
   {
    "duration": 157,
    "start_time": "2022-06-26T08:47:14.796Z"
   },
   {
    "duration": 15,
    "start_time": "2022-06-26T08:47:14.955Z"
   },
   {
    "duration": 236,
    "start_time": "2022-06-26T08:47:14.972Z"
   },
   {
    "duration": 200,
    "start_time": "2022-06-26T08:47:15.210Z"
   },
   {
    "duration": 219,
    "start_time": "2022-06-26T08:47:15.412Z"
   },
   {
    "duration": 5,
    "start_time": "2022-06-26T08:47:15.632Z"
   },
   {
    "duration": 21,
    "start_time": "2022-06-26T08:47:15.639Z"
   },
   {
    "duration": 22,
    "start_time": "2022-06-26T08:47:15.662Z"
   },
   {
    "duration": 20,
    "start_time": "2022-06-26T08:47:15.685Z"
   },
   {
    "duration": 7,
    "start_time": "2022-06-26T08:50:51.443Z"
   },
   {
    "duration": 6,
    "start_time": "2022-06-26T08:51:11.643Z"
   },
   {
    "duration": 1155,
    "start_time": "2022-06-26T08:51:16.693Z"
   },
   {
    "duration": 404,
    "start_time": "2022-06-26T08:51:17.850Z"
   },
   {
    "duration": 36,
    "start_time": "2022-06-26T08:51:18.255Z"
   },
   {
    "duration": 35,
    "start_time": "2022-06-26T08:51:18.294Z"
   },
   {
    "duration": 24,
    "start_time": "2022-06-26T08:51:18.331Z"
   },
   {
    "duration": 21,
    "start_time": "2022-06-26T08:51:18.357Z"
   },
   {
    "duration": 19,
    "start_time": "2022-06-26T08:51:18.380Z"
   },
   {
    "duration": 93,
    "start_time": "2022-06-26T08:51:18.401Z"
   },
   {
    "duration": 4,
    "start_time": "2022-06-26T08:51:18.496Z"
   },
   {
    "duration": 25,
    "start_time": "2022-06-26T08:51:18.503Z"
   },
   {
    "duration": 19,
    "start_time": "2022-06-26T08:51:18.530Z"
   },
   {
    "duration": 68,
    "start_time": "2022-06-26T08:51:18.551Z"
   },
   {
    "duration": 4,
    "start_time": "2022-06-26T08:51:18.621Z"
   },
   {
    "duration": 115,
    "start_time": "2022-06-26T08:51:18.627Z"
   },
   {
    "duration": 67,
    "start_time": "2022-06-26T08:51:18.743Z"
   },
   {
    "duration": 31,
    "start_time": "2022-06-26T08:51:18.812Z"
   },
   {
    "duration": 39,
    "start_time": "2022-06-26T08:51:18.862Z"
   },
   {
    "duration": 21,
    "start_time": "2022-06-26T08:51:18.902Z"
   },
   {
    "duration": 40,
    "start_time": "2022-06-26T08:51:18.925Z"
   },
   {
    "duration": 17,
    "start_time": "2022-06-26T08:51:18.967Z"
   },
   {
    "duration": 16,
    "start_time": "2022-06-26T08:51:18.986Z"
   },
   {
    "duration": 24,
    "start_time": "2022-06-26T08:51:19.003Z"
   },
   {
    "duration": 106,
    "start_time": "2022-06-26T08:51:19.030Z"
   },
   {
    "duration": 36,
    "start_time": "2022-06-26T08:51:19.138Z"
   },
   {
    "duration": 160,
    "start_time": "2022-06-26T08:51:19.176Z"
   },
   {
    "duration": 99,
    "start_time": "2022-06-26T08:51:19.338Z"
   },
   {
    "duration": 38,
    "start_time": "2022-06-26T08:51:19.438Z"
   },
   {
    "duration": 23,
    "start_time": "2022-06-26T08:51:19.481Z"
   },
   {
    "duration": 15,
    "start_time": "2022-06-26T08:51:19.506Z"
   },
   {
    "duration": 24,
    "start_time": "2022-06-26T08:51:19.523Z"
   },
   {
    "duration": 20,
    "start_time": "2022-06-26T08:51:19.549Z"
   },
   {
    "duration": 289,
    "start_time": "2022-06-26T08:51:19.571Z"
   },
   {
    "duration": 217,
    "start_time": "2022-06-26T08:51:19.862Z"
   },
   {
    "duration": 228,
    "start_time": "2022-06-26T08:51:20.081Z"
   },
   {
    "duration": 5,
    "start_time": "2022-06-26T08:51:20.312Z"
   },
   {
    "duration": 24,
    "start_time": "2022-06-26T08:51:20.319Z"
   },
   {
    "duration": 24,
    "start_time": "2022-06-26T08:51:20.345Z"
   },
   {
    "duration": 46,
    "start_time": "2022-06-26T08:51:20.371Z"
   },
   {
    "duration": 19,
    "start_time": "2022-06-26T08:51:39.554Z"
   },
   {
    "duration": 5,
    "start_time": "2022-06-26T08:51:44.995Z"
   },
   {
    "duration": 1190,
    "start_time": "2022-06-26T08:51:52.439Z"
   },
   {
    "duration": 423,
    "start_time": "2022-06-26T08:51:53.631Z"
   },
   {
    "duration": 36,
    "start_time": "2022-06-26T08:51:54.058Z"
   },
   {
    "duration": 24,
    "start_time": "2022-06-26T08:51:54.095Z"
   },
   {
    "duration": 42,
    "start_time": "2022-06-26T08:51:54.120Z"
   },
   {
    "duration": 14,
    "start_time": "2022-06-26T08:51:54.163Z"
   },
   {
    "duration": 21,
    "start_time": "2022-06-26T08:51:54.179Z"
   },
   {
    "duration": 97,
    "start_time": "2022-06-26T08:51:54.201Z"
   },
   {
    "duration": 4,
    "start_time": "2022-06-26T08:51:54.300Z"
   },
   {
    "duration": 20,
    "start_time": "2022-06-26T08:51:54.305Z"
   },
   {
    "duration": 15,
    "start_time": "2022-06-26T08:51:54.326Z"
   },
   {
    "duration": 60,
    "start_time": "2022-06-26T08:51:54.342Z"
   },
   {
    "duration": 3,
    "start_time": "2022-06-26T08:51:54.404Z"
   },
   {
    "duration": 104,
    "start_time": "2022-06-26T08:51:54.408Z"
   },
   {
    "duration": 62,
    "start_time": "2022-06-26T08:51:54.513Z"
   },
   {
    "duration": 30,
    "start_time": "2022-06-26T08:51:54.577Z"
   },
   {
    "duration": 32,
    "start_time": "2022-06-26T08:51:54.608Z"
   },
   {
    "duration": 38,
    "start_time": "2022-06-26T08:51:54.642Z"
   },
   {
    "duration": 5,
    "start_time": "2022-06-26T08:51:54.682Z"
   },
   {
    "duration": 24,
    "start_time": "2022-06-26T08:51:54.688Z"
   },
   {
    "duration": 6,
    "start_time": "2022-06-26T08:51:54.713Z"
   },
   {
    "duration": 6,
    "start_time": "2022-06-26T08:51:54.720Z"
   },
   {
    "duration": 99,
    "start_time": "2022-06-26T08:51:54.727Z"
   },
   {
    "duration": 16,
    "start_time": "2022-06-26T08:51:54.828Z"
   },
   {
    "duration": 164,
    "start_time": "2022-06-26T08:51:54.846Z"
   },
   {
    "duration": 85,
    "start_time": "2022-06-26T08:51:55.012Z"
   },
   {
    "duration": 16,
    "start_time": "2022-06-26T08:51:55.100Z"
   },
   {
    "duration": 18,
    "start_time": "2022-06-26T08:51:55.117Z"
   },
   {
    "duration": 36,
    "start_time": "2022-06-26T08:51:55.137Z"
   },
   {
    "duration": 17,
    "start_time": "2022-06-26T08:51:55.174Z"
   },
   {
    "duration": 8,
    "start_time": "2022-06-26T08:51:55.193Z"
   },
   {
    "duration": 242,
    "start_time": "2022-06-26T08:51:55.202Z"
   },
   {
    "duration": 229,
    "start_time": "2022-06-26T08:51:55.446Z"
   },
   {
    "duration": 242,
    "start_time": "2022-06-26T08:51:55.677Z"
   },
   {
    "duration": 5,
    "start_time": "2022-06-26T08:51:55.921Z"
   },
   {
    "duration": 9,
    "start_time": "2022-06-26T08:51:55.928Z"
   },
   {
    "duration": 28,
    "start_time": "2022-06-26T08:51:55.939Z"
   },
   {
    "duration": 15,
    "start_time": "2022-06-26T08:51:55.971Z"
   },
   {
    "duration": 1088,
    "start_time": "2022-06-26T08:55:10.914Z"
   },
   {
    "duration": 419,
    "start_time": "2022-06-26T08:55:12.004Z"
   },
   {
    "duration": 28,
    "start_time": "2022-06-26T08:55:12.425Z"
   },
   {
    "duration": 34,
    "start_time": "2022-06-26T08:55:12.455Z"
   },
   {
    "duration": 21,
    "start_time": "2022-06-26T08:55:12.491Z"
   },
   {
    "duration": 13,
    "start_time": "2022-06-26T08:55:12.513Z"
   },
   {
    "duration": 17,
    "start_time": "2022-06-26T08:55:12.559Z"
   },
   {
    "duration": 88,
    "start_time": "2022-06-26T08:55:12.578Z"
   },
   {
    "duration": 7,
    "start_time": "2022-06-26T08:55:12.668Z"
   },
   {
    "duration": 15,
    "start_time": "2022-06-26T08:55:12.677Z"
   },
   {
    "duration": 6,
    "start_time": "2022-06-26T08:55:12.694Z"
   },
   {
    "duration": 93,
    "start_time": "2022-06-26T08:55:12.702Z"
   },
   {
    "duration": 4,
    "start_time": "2022-06-26T08:55:12.797Z"
   },
   {
    "duration": 107,
    "start_time": "2022-06-26T08:55:12.802Z"
   },
   {
    "duration": 71,
    "start_time": "2022-06-26T08:55:12.911Z"
   },
   {
    "duration": 47,
    "start_time": "2022-06-26T08:55:12.984Z"
   },
   {
    "duration": 54,
    "start_time": "2022-06-26T08:55:13.033Z"
   },
   {
    "duration": 24,
    "start_time": "2022-06-26T08:55:13.089Z"
   },
   {
    "duration": 8,
    "start_time": "2022-06-26T08:55:13.115Z"
   },
   {
    "duration": 46,
    "start_time": "2022-06-26T08:55:13.125Z"
   },
   {
    "duration": 6,
    "start_time": "2022-06-26T08:55:13.172Z"
   },
   {
    "duration": 7,
    "start_time": "2022-06-26T08:55:13.180Z"
   },
   {
    "duration": 101,
    "start_time": "2022-06-26T08:55:13.189Z"
   },
   {
    "duration": 17,
    "start_time": "2022-06-26T08:55:13.292Z"
   },
   {
    "duration": 163,
    "start_time": "2022-06-26T08:55:13.311Z"
   },
   {
    "duration": 66,
    "start_time": "2022-06-26T08:55:13.476Z"
   },
   {
    "duration": 32,
    "start_time": "2022-06-26T08:55:13.543Z"
   },
   {
    "duration": 22,
    "start_time": "2022-06-26T08:55:13.578Z"
   },
   {
    "duration": 16,
    "start_time": "2022-06-26T08:55:13.601Z"
   },
   {
    "duration": 16,
    "start_time": "2022-06-26T08:55:13.620Z"
   },
   {
    "duration": 16,
    "start_time": "2022-06-26T08:55:13.658Z"
   },
   {
    "duration": 230,
    "start_time": "2022-06-26T08:55:13.679Z"
   },
   {
    "duration": 219,
    "start_time": "2022-06-26T08:55:13.912Z"
   },
   {
    "duration": 226,
    "start_time": "2022-06-26T08:55:14.133Z"
   },
   {
    "duration": 15,
    "start_time": "2022-06-26T08:55:14.360Z"
   },
   {
    "duration": 23,
    "start_time": "2022-06-26T08:55:14.377Z"
   },
   {
    "duration": 12,
    "start_time": "2022-06-26T08:55:14.402Z"
   },
   {
    "duration": 9,
    "start_time": "2022-06-26T08:55:14.416Z"
   },
   {
    "duration": 1092,
    "start_time": "2022-06-26T09:01:24.359Z"
   },
   {
    "duration": 399,
    "start_time": "2022-06-26T09:01:25.453Z"
   },
   {
    "duration": 28,
    "start_time": "2022-06-26T09:01:25.854Z"
   },
   {
    "duration": 23,
    "start_time": "2022-06-26T09:01:25.884Z"
   },
   {
    "duration": 19,
    "start_time": "2022-06-26T09:01:25.909Z"
   },
   {
    "duration": 36,
    "start_time": "2022-06-26T09:01:25.929Z"
   },
   {
    "duration": 16,
    "start_time": "2022-06-26T09:01:25.967Z"
   },
   {
    "duration": 99,
    "start_time": "2022-06-26T09:01:25.985Z"
   },
   {
    "duration": 4,
    "start_time": "2022-06-26T09:01:26.085Z"
   },
   {
    "duration": 11,
    "start_time": "2022-06-26T09:01:26.090Z"
   },
   {
    "duration": 5,
    "start_time": "2022-06-26T09:01:26.102Z"
   },
   {
    "duration": 66,
    "start_time": "2022-06-26T09:01:26.109Z"
   },
   {
    "duration": 3,
    "start_time": "2022-06-26T09:01:26.177Z"
   },
   {
    "duration": 117,
    "start_time": "2022-06-26T09:01:26.182Z"
   },
   {
    "duration": 41,
    "start_time": "2022-06-26T09:01:26.301Z"
   },
   {
    "duration": 36,
    "start_time": "2022-06-26T09:01:26.343Z"
   },
   {
    "duration": 32,
    "start_time": "2022-06-26T09:01:26.381Z"
   },
   {
    "duration": 20,
    "start_time": "2022-06-26T09:01:26.414Z"
   },
   {
    "duration": 27,
    "start_time": "2022-06-26T09:01:26.435Z"
   },
   {
    "duration": 16,
    "start_time": "2022-06-26T09:01:26.464Z"
   },
   {
    "duration": 6,
    "start_time": "2022-06-26T09:01:26.481Z"
   },
   {
    "duration": 8,
    "start_time": "2022-06-26T09:01:26.488Z"
   },
   {
    "duration": 85,
    "start_time": "2022-06-26T09:01:26.498Z"
   },
   {
    "duration": 18,
    "start_time": "2022-06-26T09:01:26.585Z"
   },
   {
    "duration": 156,
    "start_time": "2022-06-26T09:01:26.605Z"
   },
   {
    "duration": 67,
    "start_time": "2022-06-26T09:01:26.762Z"
   },
   {
    "duration": 34,
    "start_time": "2022-06-26T09:01:26.830Z"
   },
   {
    "duration": 13,
    "start_time": "2022-06-26T09:01:26.866Z"
   },
   {
    "duration": 15,
    "start_time": "2022-06-26T09:01:26.881Z"
   },
   {
    "duration": 16,
    "start_time": "2022-06-26T09:01:26.898Z"
   },
   {
    "duration": 46,
    "start_time": "2022-06-26T09:01:26.916Z"
   },
   {
    "duration": 219,
    "start_time": "2022-06-26T09:01:26.964Z"
   },
   {
    "duration": 275,
    "start_time": "2022-06-26T09:01:27.186Z"
   },
   {
    "duration": 213,
    "start_time": "2022-06-26T09:01:27.463Z"
   },
   {
    "duration": 5,
    "start_time": "2022-06-26T09:01:27.677Z"
   },
   {
    "duration": 8,
    "start_time": "2022-06-26T09:01:27.683Z"
   },
   {
    "duration": 11,
    "start_time": "2022-06-26T09:01:27.692Z"
   },
   {
    "duration": 11,
    "start_time": "2022-06-26T09:01:27.705Z"
   },
   {
    "duration": 92,
    "start_time": "2022-06-26T09:07:09.799Z"
   },
   {
    "duration": 3,
    "start_time": "2022-06-26T09:07:16.143Z"
   },
   {
    "duration": 4,
    "start_time": "2022-06-26T09:07:29.162Z"
   },
   {
    "duration": 3,
    "start_time": "2022-06-26T09:07:49.188Z"
   },
   {
    "duration": 6,
    "start_time": "2022-06-26T09:09:12.647Z"
   },
   {
    "duration": 5,
    "start_time": "2022-06-26T09:10:34.321Z"
   },
   {
    "duration": 1071,
    "start_time": "2022-06-26T09:10:40.764Z"
   },
   {
    "duration": 385,
    "start_time": "2022-06-26T09:10:41.837Z"
   },
   {
    "duration": 28,
    "start_time": "2022-06-26T09:10:42.224Z"
   },
   {
    "duration": 23,
    "start_time": "2022-06-26T09:10:42.254Z"
   },
   {
    "duration": 18,
    "start_time": "2022-06-26T09:10:42.279Z"
   },
   {
    "duration": 11,
    "start_time": "2022-06-26T09:10:42.299Z"
   },
   {
    "duration": 14,
    "start_time": "2022-06-26T09:10:42.312Z"
   },
   {
    "duration": 102,
    "start_time": "2022-06-26T09:10:42.327Z"
   },
   {
    "duration": 3,
    "start_time": "2022-06-26T09:10:42.432Z"
   },
   {
    "duration": 28,
    "start_time": "2022-06-26T09:10:42.437Z"
   },
   {
    "duration": 10,
    "start_time": "2022-06-26T09:10:42.466Z"
   },
   {
    "duration": 53,
    "start_time": "2022-06-26T09:10:42.478Z"
   },
   {
    "duration": 3,
    "start_time": "2022-06-26T09:10:42.533Z"
   },
   {
    "duration": 107,
    "start_time": "2022-06-26T09:10:42.538Z"
   },
   {
    "duration": 51,
    "start_time": "2022-06-26T09:10:42.646Z"
   },
   {
    "duration": 29,
    "start_time": "2022-06-26T09:10:42.698Z"
   },
   {
    "duration": 55,
    "start_time": "2022-06-26T09:10:42.729Z"
   },
   {
    "duration": 20,
    "start_time": "2022-06-26T09:10:42.787Z"
   },
   {
    "duration": 5,
    "start_time": "2022-06-26T09:10:42.809Z"
   },
   {
    "duration": 13,
    "start_time": "2022-06-26T09:10:42.815Z"
   },
   {
    "duration": 6,
    "start_time": "2022-06-26T09:10:42.858Z"
   },
   {
    "duration": 6,
    "start_time": "2022-06-26T09:10:42.865Z"
   },
   {
    "duration": 68,
    "start_time": "2022-06-26T09:10:42.872Z"
   },
   {
    "duration": 30,
    "start_time": "2022-06-26T09:10:42.942Z"
   },
   {
    "duration": 174,
    "start_time": "2022-06-26T09:10:42.974Z"
   },
   {
    "duration": 72,
    "start_time": "2022-06-26T09:10:43.149Z"
   },
   {
    "duration": 16,
    "start_time": "2022-06-26T09:10:43.222Z"
   },
   {
    "duration": 15,
    "start_time": "2022-06-26T09:10:43.261Z"
   },
   {
    "duration": 15,
    "start_time": "2022-06-26T09:10:43.277Z"
   },
   {
    "duration": 13,
    "start_time": "2022-06-26T09:10:43.293Z"
   },
   {
    "duration": 17,
    "start_time": "2022-06-26T09:10:43.307Z"
   },
   {
    "duration": 33,
    "start_time": "2022-06-26T09:10:43.326Z"
   },
   {
    "duration": 8,
    "start_time": "2022-06-26T09:10:43.361Z"
   },
   {
    "duration": 228,
    "start_time": "2022-06-26T09:10:43.370Z"
   },
   {
    "duration": 206,
    "start_time": "2022-06-26T09:10:43.599Z"
   },
   {
    "duration": 210,
    "start_time": "2022-06-26T09:10:43.806Z"
   },
   {
    "duration": 4,
    "start_time": "2022-06-26T09:10:44.018Z"
   },
   {
    "duration": 7,
    "start_time": "2022-06-26T09:10:44.024Z"
   },
   {
    "duration": 29,
    "start_time": "2022-06-26T09:10:44.033Z"
   },
   {
    "duration": 10,
    "start_time": "2022-06-26T09:10:44.064Z"
   },
   {
    "duration": 4,
    "start_time": "2022-06-26T10:42:16.832Z"
   },
   {
    "duration": 1078,
    "start_time": "2022-06-26T10:42:24.660Z"
   },
   {
    "duration": 411,
    "start_time": "2022-06-26T10:42:25.740Z"
   },
   {
    "duration": 28,
    "start_time": "2022-06-26T10:42:26.152Z"
   },
   {
    "duration": 22,
    "start_time": "2022-06-26T10:42:26.182Z"
   },
   {
    "duration": 18,
    "start_time": "2022-06-26T10:42:26.205Z"
   },
   {
    "duration": 37,
    "start_time": "2022-06-26T10:42:26.225Z"
   },
   {
    "duration": 13,
    "start_time": "2022-06-26T10:42:26.264Z"
   },
   {
    "duration": 93,
    "start_time": "2022-06-26T10:42:26.279Z"
   },
   {
    "duration": 4,
    "start_time": "2022-06-26T10:42:26.373Z"
   },
   {
    "duration": 12,
    "start_time": "2022-06-26T10:42:26.381Z"
   },
   {
    "duration": 6,
    "start_time": "2022-06-26T10:42:26.394Z"
   },
   {
    "duration": 75,
    "start_time": "2022-06-26T10:42:26.401Z"
   },
   {
    "duration": 3,
    "start_time": "2022-06-26T10:42:26.477Z"
   },
   {
    "duration": 103,
    "start_time": "2022-06-26T10:42:26.482Z"
   },
   {
    "duration": 43,
    "start_time": "2022-06-26T10:42:26.586Z"
   },
   {
    "duration": 53,
    "start_time": "2022-06-26T10:42:26.630Z"
   },
   {
    "duration": 35,
    "start_time": "2022-06-26T10:42:26.685Z"
   },
   {
    "duration": 39,
    "start_time": "2022-06-26T10:42:26.721Z"
   },
   {
    "duration": 6,
    "start_time": "2022-06-26T10:42:26.761Z"
   },
   {
    "duration": 13,
    "start_time": "2022-06-26T10:42:26.769Z"
   },
   {
    "duration": 5,
    "start_time": "2022-06-26T10:42:26.783Z"
   },
   {
    "duration": 6,
    "start_time": "2022-06-26T10:42:26.789Z"
   },
   {
    "duration": 90,
    "start_time": "2022-06-26T10:42:26.797Z"
   },
   {
    "duration": 16,
    "start_time": "2022-06-26T10:42:26.889Z"
   },
   {
    "duration": 154,
    "start_time": "2022-06-26T10:42:26.907Z"
   },
   {
    "duration": 67,
    "start_time": "2022-06-26T10:42:27.062Z"
   },
   {
    "duration": 35,
    "start_time": "2022-06-26T10:42:27.130Z"
   },
   {
    "duration": 22,
    "start_time": "2022-06-26T10:42:27.168Z"
   },
   {
    "duration": 21,
    "start_time": "2022-06-26T10:42:27.192Z"
   },
   {
    "duration": 6,
    "start_time": "2022-06-26T10:42:27.215Z"
   },
   {
    "duration": 57,
    "start_time": "2022-06-26T10:42:27.223Z"
   },
   {
    "duration": 10,
    "start_time": "2022-06-26T10:42:27.281Z"
   },
   {
    "duration": 12,
    "start_time": "2022-06-26T10:42:27.293Z"
   },
   {
    "duration": 251,
    "start_time": "2022-06-26T10:42:27.307Z"
   },
   {
    "duration": 194,
    "start_time": "2022-06-26T10:42:27.560Z"
   },
   {
    "duration": 206,
    "start_time": "2022-06-26T10:42:27.759Z"
   },
   {
    "duration": 4,
    "start_time": "2022-06-26T10:42:27.967Z"
   },
   {
    "duration": 7,
    "start_time": "2022-06-26T10:42:27.972Z"
   },
   {
    "duration": 14,
    "start_time": "2022-06-26T10:42:27.980Z"
   },
   {
    "duration": 12,
    "start_time": "2022-06-26T10:42:27.995Z"
   },
   {
    "duration": 1316,
    "start_time": "2022-06-26T10:45:03.320Z"
   },
   {
    "duration": 983,
    "start_time": "2022-06-26T10:45:04.641Z"
   },
   {
    "duration": 30,
    "start_time": "2022-06-26T10:45:05.626Z"
   },
   {
    "duration": 23,
    "start_time": "2022-06-26T10:45:05.658Z"
   },
   {
    "duration": 19,
    "start_time": "2022-06-26T10:45:05.683Z"
   },
   {
    "duration": 11,
    "start_time": "2022-06-26T10:45:05.727Z"
   },
   {
    "duration": 17,
    "start_time": "2022-06-26T10:45:05.740Z"
   },
   {
    "duration": 88,
    "start_time": "2022-06-26T10:45:05.759Z"
   },
   {
    "duration": 4,
    "start_time": "2022-06-26T10:45:05.849Z"
   },
   {
    "duration": 10,
    "start_time": "2022-06-26T10:45:05.856Z"
   },
   {
    "duration": 6,
    "start_time": "2022-06-26T10:45:05.868Z"
   },
   {
    "duration": 73,
    "start_time": "2022-06-26T10:45:05.875Z"
   },
   {
    "duration": 3,
    "start_time": "2022-06-26T10:45:05.950Z"
   },
   {
    "duration": 108,
    "start_time": "2022-06-26T10:45:05.955Z"
   },
   {
    "duration": 43,
    "start_time": "2022-06-26T10:45:06.065Z"
   },
   {
    "duration": 30,
    "start_time": "2022-06-26T10:45:06.127Z"
   },
   {
    "duration": 39,
    "start_time": "2022-06-26T10:45:06.159Z"
   },
   {
    "duration": 49,
    "start_time": "2022-06-26T10:45:06.200Z"
   },
   {
    "duration": 6,
    "start_time": "2022-06-26T10:45:06.252Z"
   },
   {
    "duration": 20,
    "start_time": "2022-06-26T10:45:06.260Z"
   },
   {
    "duration": 10,
    "start_time": "2022-06-26T10:45:06.282Z"
   },
   {
    "duration": 11,
    "start_time": "2022-06-26T10:45:06.294Z"
   },
   {
    "duration": 101,
    "start_time": "2022-06-26T10:45:06.307Z"
   },
   {
    "duration": 26,
    "start_time": "2022-06-26T10:45:06.410Z"
   },
   {
    "duration": 171,
    "start_time": "2022-06-26T10:45:06.439Z"
   },
   {
    "duration": 77,
    "start_time": "2022-06-26T10:45:06.611Z"
   },
   {
    "duration": 14,
    "start_time": "2022-06-26T10:45:06.690Z"
   },
   {
    "duration": 29,
    "start_time": "2022-06-26T10:45:06.707Z"
   },
   {
    "duration": 21,
    "start_time": "2022-06-26T10:45:06.738Z"
   },
   {
    "duration": 10,
    "start_time": "2022-06-26T10:45:06.761Z"
   },
   {
    "duration": 15,
    "start_time": "2022-06-26T10:45:06.773Z"
   },
   {
    "duration": 6,
    "start_time": "2022-06-26T10:45:06.790Z"
   },
   {
    "duration": 31,
    "start_time": "2022-06-26T10:45:06.797Z"
   },
   {
    "duration": 228,
    "start_time": "2022-06-26T10:45:06.829Z"
   },
   {
    "duration": 229,
    "start_time": "2022-06-26T10:45:07.059Z"
   },
   {
    "duration": 244,
    "start_time": "2022-06-26T10:45:07.291Z"
   },
   {
    "duration": 4,
    "start_time": "2022-06-26T10:45:07.537Z"
   },
   {
    "duration": 13,
    "start_time": "2022-06-26T10:45:07.542Z"
   },
   {
    "duration": 9,
    "start_time": "2022-06-26T10:45:07.557Z"
   },
   {
    "duration": 10,
    "start_time": "2022-06-26T10:45:07.568Z"
   },
   {
    "duration": 1100,
    "start_time": "2022-06-26T10:45:26.201Z"
   },
   {
    "duration": 387,
    "start_time": "2022-06-26T10:45:27.303Z"
   },
   {
    "duration": 27,
    "start_time": "2022-06-26T10:45:27.691Z"
   },
   {
    "duration": 22,
    "start_time": "2022-06-26T10:45:27.719Z"
   },
   {
    "duration": 20,
    "start_time": "2022-06-26T10:45:27.743Z"
   },
   {
    "duration": 11,
    "start_time": "2022-06-26T10:45:27.764Z"
   },
   {
    "duration": 12,
    "start_time": "2022-06-26T10:45:27.777Z"
   },
   {
    "duration": 91,
    "start_time": "2022-06-26T10:45:27.791Z"
   },
   {
    "duration": 3,
    "start_time": "2022-06-26T10:45:27.884Z"
   },
   {
    "duration": 9,
    "start_time": "2022-06-26T10:45:27.889Z"
   },
   {
    "duration": 4,
    "start_time": "2022-06-26T10:45:27.900Z"
   },
   {
    "duration": 65,
    "start_time": "2022-06-26T10:45:27.906Z"
   },
   {
    "duration": 4,
    "start_time": "2022-06-26T10:45:27.972Z"
   },
   {
    "duration": 104,
    "start_time": "2022-06-26T10:45:27.978Z"
   },
   {
    "duration": 51,
    "start_time": "2022-06-26T10:45:28.083Z"
   },
   {
    "duration": 27,
    "start_time": "2022-06-26T10:45:28.136Z"
   },
   {
    "duration": 30,
    "start_time": "2022-06-26T10:45:28.165Z"
   },
   {
    "duration": 37,
    "start_time": "2022-06-26T10:45:28.197Z"
   },
   {
    "duration": 5,
    "start_time": "2022-06-26T10:45:28.236Z"
   },
   {
    "duration": 23,
    "start_time": "2022-06-26T10:45:28.243Z"
   },
   {
    "duration": 5,
    "start_time": "2022-06-26T10:45:28.267Z"
   },
   {
    "duration": 5,
    "start_time": "2022-06-26T10:45:28.274Z"
   },
   {
    "duration": 75,
    "start_time": "2022-06-26T10:45:28.281Z"
   },
   {
    "duration": 17,
    "start_time": "2022-06-26T10:45:28.357Z"
   },
   {
    "duration": 146,
    "start_time": "2022-06-26T10:45:28.375Z"
   },
   {
    "duration": 68,
    "start_time": "2022-06-26T10:45:28.527Z"
   },
   {
    "duration": 15,
    "start_time": "2022-06-26T10:45:28.596Z"
   },
   {
    "duration": 14,
    "start_time": "2022-06-26T10:45:28.627Z"
   },
   {
    "duration": 13,
    "start_time": "2022-06-26T10:45:28.643Z"
   },
   {
    "duration": 8,
    "start_time": "2022-06-26T10:45:28.658Z"
   },
   {
    "duration": 17,
    "start_time": "2022-06-26T10:45:28.667Z"
   },
   {
    "duration": 9,
    "start_time": "2022-06-26T10:45:28.686Z"
   },
   {
    "duration": 38,
    "start_time": "2022-06-26T10:45:28.696Z"
   },
   {
    "duration": 210,
    "start_time": "2022-06-26T10:45:28.735Z"
   },
   {
    "duration": 199,
    "start_time": "2022-06-26T10:45:28.947Z"
   },
   {
    "duration": 229,
    "start_time": "2022-06-26T10:45:29.148Z"
   },
   {
    "duration": 4,
    "start_time": "2022-06-26T10:45:29.379Z"
   },
   {
    "duration": 6,
    "start_time": "2022-06-26T10:45:29.385Z"
   },
   {
    "duration": 11,
    "start_time": "2022-06-26T10:45:29.392Z"
   },
   {
    "duration": 28,
    "start_time": "2022-06-26T10:45:29.405Z"
   },
   {
    "duration": 4,
    "start_time": "2022-06-26T10:46:30.998Z"
   },
   {
    "duration": 1061,
    "start_time": "2022-06-26T10:46:39.052Z"
   },
   {
    "duration": 395,
    "start_time": "2022-06-26T10:46:40.115Z"
   },
   {
    "duration": 28,
    "start_time": "2022-06-26T10:46:40.511Z"
   },
   {
    "duration": 21,
    "start_time": "2022-06-26T10:46:40.540Z"
   },
   {
    "duration": 19,
    "start_time": "2022-06-26T10:46:40.563Z"
   },
   {
    "duration": 11,
    "start_time": "2022-06-26T10:46:40.583Z"
   },
   {
    "duration": 32,
    "start_time": "2022-06-26T10:46:40.596Z"
   },
   {
    "duration": 71,
    "start_time": "2022-06-26T10:46:40.629Z"
   },
   {
    "duration": 4,
    "start_time": "2022-06-26T10:46:40.701Z"
   },
   {
    "duration": 25,
    "start_time": "2022-06-26T10:46:40.706Z"
   },
   {
    "duration": 11,
    "start_time": "2022-06-26T10:46:40.733Z"
   },
   {
    "duration": 50,
    "start_time": "2022-06-26T10:46:40.745Z"
   },
   {
    "duration": 3,
    "start_time": "2022-06-26T10:46:40.797Z"
   },
   {
    "duration": 107,
    "start_time": "2022-06-26T10:46:40.803Z"
   },
   {
    "duration": 55,
    "start_time": "2022-06-26T10:46:40.912Z"
   },
   {
    "duration": 28,
    "start_time": "2022-06-26T10:46:40.969Z"
   },
   {
    "duration": 50,
    "start_time": "2022-06-26T10:46:40.998Z"
   },
   {
    "duration": 19,
    "start_time": "2022-06-26T10:46:41.049Z"
   },
   {
    "duration": 6,
    "start_time": "2022-06-26T10:46:41.069Z"
   },
   {
    "duration": 13,
    "start_time": "2022-06-26T10:46:41.077Z"
   },
   {
    "duration": 5,
    "start_time": "2022-06-26T10:46:41.091Z"
   },
   {
    "duration": 5,
    "start_time": "2022-06-26T10:46:41.098Z"
   },
   {
    "duration": 77,
    "start_time": "2022-06-26T10:46:41.128Z"
   },
   {
    "duration": 31,
    "start_time": "2022-06-26T10:46:41.207Z"
   },
   {
    "duration": 146,
    "start_time": "2022-06-26T10:46:41.240Z"
   },
   {
    "duration": 151,
    "start_time": "2022-06-26T10:46:41.387Z"
   },
   {
    "duration": 15,
    "start_time": "2022-06-26T10:46:41.540Z"
   },
   {
    "duration": 12,
    "start_time": "2022-06-26T10:46:41.557Z"
   },
   {
    "duration": 15,
    "start_time": "2022-06-26T10:46:41.571Z"
   },
   {
    "duration": 43,
    "start_time": "2022-06-26T10:46:41.587Z"
   },
   {
    "duration": 22,
    "start_time": "2022-06-26T10:46:41.632Z"
   },
   {
    "duration": 10,
    "start_time": "2022-06-26T10:46:41.655Z"
   },
   {
    "duration": 10,
    "start_time": "2022-06-26T10:46:41.667Z"
   },
   {
    "duration": 226,
    "start_time": "2022-06-26T10:46:41.726Z"
   },
   {
    "duration": 206,
    "start_time": "2022-06-26T10:46:41.953Z"
   },
   {
    "duration": 197,
    "start_time": "2022-06-26T10:46:42.160Z"
   },
   {
    "duration": 4,
    "start_time": "2022-06-26T10:46:42.359Z"
   },
   {
    "duration": 9,
    "start_time": "2022-06-26T10:46:42.364Z"
   },
   {
    "duration": 15,
    "start_time": "2022-06-26T10:46:42.374Z"
   },
   {
    "duration": 9,
    "start_time": "2022-06-26T10:46:42.390Z"
   },
   {
    "duration": 25,
    "start_time": "2022-06-26T10:47:19.870Z"
   },
   {
    "duration": 85,
    "start_time": "2022-06-26T10:48:06.643Z"
   },
   {
    "duration": 1328,
    "start_time": "2022-06-26T13:49:28.238Z"
   },
   {
    "duration": 902,
    "start_time": "2022-06-26T13:49:29.568Z"
   },
   {
    "duration": 24,
    "start_time": "2022-06-26T13:49:30.471Z"
   },
   {
    "duration": 25,
    "start_time": "2022-06-26T13:49:30.497Z"
   },
   {
    "duration": 16,
    "start_time": "2022-06-26T13:49:30.524Z"
   },
   {
    "duration": 15,
    "start_time": "2022-06-26T13:49:30.541Z"
   },
   {
    "duration": 23,
    "start_time": "2022-06-26T13:49:30.557Z"
   },
   {
    "duration": 69,
    "start_time": "2022-06-26T13:49:30.581Z"
   },
   {
    "duration": 3,
    "start_time": "2022-06-26T13:49:30.652Z"
   },
   {
    "duration": 18,
    "start_time": "2022-06-26T13:49:30.656Z"
   },
   {
    "duration": 9,
    "start_time": "2022-06-26T13:49:30.676Z"
   },
   {
    "duration": 48,
    "start_time": "2022-06-26T13:49:30.686Z"
   },
   {
    "duration": 3,
    "start_time": "2022-06-26T13:49:30.735Z"
   },
   {
    "duration": 91,
    "start_time": "2022-06-26T13:49:30.741Z"
   },
   {
    "duration": 45,
    "start_time": "2022-06-26T13:49:30.834Z"
   },
   {
    "duration": 28,
    "start_time": "2022-06-26T13:49:30.880Z"
   },
   {
    "duration": 44,
    "start_time": "2022-06-26T13:49:30.910Z"
   },
   {
    "duration": 18,
    "start_time": "2022-06-26T13:49:30.955Z"
   },
   {
    "duration": 5,
    "start_time": "2022-06-26T13:49:30.974Z"
   },
   {
    "duration": 25,
    "start_time": "2022-06-26T13:49:30.980Z"
   },
   {
    "duration": 9,
    "start_time": "2022-06-26T13:49:31.006Z"
   },
   {
    "duration": 4,
    "start_time": "2022-06-26T13:49:31.016Z"
   },
   {
    "duration": 70,
    "start_time": "2022-06-26T13:49:31.021Z"
   },
   {
    "duration": 20,
    "start_time": "2022-06-26T13:49:31.092Z"
   },
   {
    "duration": 127,
    "start_time": "2022-06-26T13:49:31.113Z"
   },
   {
    "duration": 65,
    "start_time": "2022-06-26T13:49:31.241Z"
   },
   {
    "duration": 13,
    "start_time": "2022-06-26T13:49:31.307Z"
   },
   {
    "duration": 13,
    "start_time": "2022-06-26T13:49:31.321Z"
   },
   {
    "duration": 13,
    "start_time": "2022-06-26T13:49:31.351Z"
   },
   {
    "duration": 8,
    "start_time": "2022-06-26T13:49:31.367Z"
   },
   {
    "duration": 13,
    "start_time": "2022-06-26T13:49:31.376Z"
   },
   {
    "duration": 9,
    "start_time": "2022-06-26T13:49:31.390Z"
   },
   {
    "duration": 12,
    "start_time": "2022-06-26T13:49:31.400Z"
   },
   {
    "duration": 196,
    "start_time": "2022-06-26T13:49:31.414Z"
   },
   {
    "duration": 176,
    "start_time": "2022-06-26T13:49:31.612Z"
   },
   {
    "duration": 182,
    "start_time": "2022-06-26T13:49:31.789Z"
   },
   {
    "duration": 4,
    "start_time": "2022-06-26T13:49:31.972Z"
   },
   {
    "duration": 11,
    "start_time": "2022-06-26T13:49:31.977Z"
   },
   {
    "duration": 11,
    "start_time": "2022-06-26T13:49:31.989Z"
   },
   {
    "duration": 9,
    "start_time": "2022-06-26T13:49:32.001Z"
   },
   {
    "duration": 6,
    "start_time": "2022-06-26T13:55:06.122Z"
   }
  ],
  "kernelspec": {
   "display_name": "Python 3 (ipykernel)",
   "language": "python",
   "name": "python3"
  },
  "language_info": {
   "codemirror_mode": {
    "name": "ipython",
    "version": 3
   },
   "file_extension": ".py",
   "mimetype": "text/x-python",
   "name": "python",
   "nbconvert_exporter": "python",
   "pygments_lexer": "ipython3",
   "version": "3.9.5"
  },
  "toc": {
   "base_numbering": 1,
   "nav_menu": {},
   "number_sections": true,
   "sideBar": true,
   "skip_h1_title": true,
   "title_cell": "Table of Contents",
   "title_sidebar": "Contents",
   "toc_cell": false,
   "toc_position": {},
   "toc_section_display": true,
   "toc_window_display": false
  }
 },
 "nbformat": 4,
 "nbformat_minor": 2
}
